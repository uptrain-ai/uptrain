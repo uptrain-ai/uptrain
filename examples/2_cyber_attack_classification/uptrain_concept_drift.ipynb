{
 "cells": [
  {
   "cell_type": "markdown",
   "id": "703f184c-e1a6-4f5e-be14-f959973a1a83",
   "metadata": {},
   "source": [
    "In this example, we detect data drift using the UpTrain package in the NSL-KDD dataset. This dataset is a popular network traffic dataset for intrusion detection problems, and it is publicly available at https://www.unb.ca/cic/datasets/nsl.html"
   ]
  },
  {
   "cell_type": "code",
   "execution_count": 1,
   "id": "7ff2ab59-8688-4431-a6b6-e00b5b22dfba",
   "metadata": {},
   "outputs": [],
   "source": [
    "import os\n",
    "import numpy as np\n",
    "import pandas as pd\n",
    "import matplotlib.pyplot as plt\n",
    "from xgboost import XGBClassifier\n",
    "from sklearn.model_selection import train_test_split\n",
    "from sklearn.metrics import classification_report,confusion_matrix,accuracy_score\n",
    "from tensorboardX import SummaryWriter\n",
    "import subprocess\n",
    "\n",
    "import uptrain"
   ]
  },
  {
   "cell_type": "markdown",
   "id": "67da3324-93a3-459e-9bb4-c73ee4132fe4",
   "metadata": {},
   "source": [
    "First, we download the preprocessed NSL-KDD dataset (if not already exists). "
   ]
  },
  {
   "cell_type": "code",
   "execution_count": 2,
   "id": "ff84103b-5354-4d35-b3df-70ba8f58cbd7",
   "metadata": {},
   "outputs": [
    {
     "name": "stdout",
     "output_type": "stream",
     "text": [
      "Data file exists. Skipping download.\n"
     ]
    }
   ],
   "source": [
    "data_file = \"NSL_KDD_binary.csv\"\n",
    "remote_url = \"https://oodles-dev-training-data.s3.amazonaws.com/NSL_KDD_binary.csv\"\n",
    "if not os.path.exists(data_file):\n",
    "    try:\n",
    "        # Most Linux distributions have Wget installed by default.\n",
    "        # Below command is to install wget for MacOS\n",
    "        wget_installed_ok = subprocess.call(\"brew install wget\", shell=True, stdout=subprocess.DEVNULL, stderr=subprocess.STDOUT)\n",
    "        print(\"Successfully installed wget\")\n",
    "    except:\n",
    "        dummy = 1\n",
    "    try:\n",
    "        if not os.path.exists(\"data.zip\"):\n",
    "            file_downloaded_ok = subprocess.call(\"wget \" + remote_url, shell=True, stdout=subprocess.DEVNULL, stderr=subprocess.STDOUT)\n",
    "            print(\"Data downloaded\")\n",
    "    except:\n",
    "        print(\"Could not load training data\")\n",
    "else:\n",
    "    print(\"Data file exists. Skipping download.\")"
   ]
  },
  {
   "cell_type": "code",
   "execution_count": 3,
   "id": "cee0e008-c9b3-460a-990e-2716ea5483b2",
   "metadata": {},
   "outputs": [],
   "source": [
    "# Read the training and test set\n",
    "df = pd.read_csv(data_file)\n",
    "X = df.iloc[:, :-1].values\n",
    "y = df.iloc[:, -1].values"
   ]
  },
  {
   "cell_type": "code",
   "execution_count": 4,
   "id": "9cffb270-0cb5-4f84-83ea-e8f195dae0fc",
   "metadata": {},
   "outputs": [],
   "source": [
    "X_train, X_test, y_train, y_test = train_test_split(X, y, train_size = 0.1, \n",
    "                                                    test_size = 0.9, \n",
    "                                                    random_state = 0,\n",
    "                                                    shuffle=False)"
   ]
  },
  {
   "cell_type": "code",
   "execution_count": 5,
   "id": "bad7ee0b-7318-4a2f-a681-81bac98547f5",
   "metadata": {},
   "outputs": [
    {
     "name": "stdout",
     "output_type": "stream",
     "text": [
      "              precision    recall  f1-score   support\n",
      "\n",
      "           0       0.94      0.99      0.96     69135\n",
      "           1       0.99      0.93      0.96     64531\n",
      "\n",
      "    accuracy                           0.96    133666\n",
      "   macro avg       0.97      0.96      0.96    133666\n",
      "weighted avg       0.96      0.96      0.96    133666\n",
      "\n",
      "Accuracy: 0.9622417069411817\n"
     ]
    }
   ],
   "source": [
    "# Xgboost algorithm\n",
    "classifier = XGBClassifier()\n",
    "classifier.fit(X_train, y_train)\n",
    "y_pred = classifier.predict(X_test)\n",
    "print(classification_report(y_test,y_pred))\n",
    "print(\"Accuracy: \" + str(accuracy_score(y_test, y_pred)))\n",
    "\n",
    "# Plot the confusion matrix\n",
    "cm=confusion_matrix(y_test,y_pred)"
   ]
  },
  {
   "cell_type": "markdown",
   "id": "db5c7b1d-a489-48be-9886-84421053a3fa",
   "metadata": {},
   "source": [
    "#### Define a Custom Drift Monitor"
   ]
  },
  {
   "cell_type": "code",
   "execution_count": 6,
   "id": "1322464e-0917-4f68-aa4c-214a9b6fa7c2",
   "metadata": {},
   "outputs": [],
   "source": [
    "\"\"\"\n",
    "Defining a custom drift metric where\n",
    "the user just want to check if accuracy \n",
    "drops beyond a threshold.\n",
    "\"\"\"\n",
    "\n",
    "def custom_initialize_func(self):\n",
    "    self.initial_acc = None       \n",
    "    self.acc_arr = []\n",
    "    self.count = 0       \n",
    "    self.thres = 0.02\n",
    "    self.window_size = 200\n",
    "    self.is_drift_detected = False\n",
    "\n",
    "def custom_check_func(self, inputs, outputs, gts=None, extra_args={}):\n",
    "    batch_size = len(extra_args[\"id\"])\n",
    "    self.count += batch_size\n",
    "    self.acc_arr.extend(list(np.equal(gts, outputs)))\n",
    "    if (self.count >= self.window_size) and (self.initial_acc is None):\n",
    "        self.initial_acc = sum(self.acc_arr[0:self.window_size])/self.window_size\n",
    "    if (self.initial_acc is not None):\n",
    "        for i in range(self.count - batch_size, self.count, self.window_size):\n",
    "            recent_acc = sum(self.acc_arr[i:i+self.window_size])/self.window_size\n",
    "            self.log_handler.add_scalars('custom_metrics', {\n",
    "                    'initial_acc': self.initial_acc,\n",
    "                    'recent_acc': recent_acc,\n",
    "                }, i, self.dashboard_name)\n",
    "            if (self.initial_acc - recent_acc > self.thres) and (not self.is_drift_detected):\n",
    "                    print(\"Concept drift detected with custom metric at time: \", i)\n",
    "                    self.is_drift_detected = True"
   ]
  },
  {
   "cell_type": "markdown",
   "id": "4c38076d-babb-46f8-b853-fb9796faae4a",
   "metadata": {},
   "source": [
    "#### Define Prediction Function"
   ]
  },
  {
   "cell_type": "code",
   "execution_count": 7,
   "id": "1adaa6a1-9e00-4365-a886-7f1785f04f2d",
   "metadata": {},
   "outputs": [],
   "source": [
    "cfg = {\n",
    "    # Define your metrics to identify data drifts\n",
    "    \"checks\": [\n",
    "        {\n",
    "        'type': uptrain.Anomaly.CONCEPT_DRIFT,\n",
    "        'algorithm': uptrain.DataDriftAlgo.DDM,\n",
    "        'warn_thres': 2,\n",
    "        'alarm_thres': 3,\n",
    "        },\n",
    "        {\n",
    "        'type': uptrain.Anomaly.CUSTOM_MONITOR,\n",
    "        'initialize_func': custom_initialize_func,\n",
    "        'check_func': custom_check_func,\n",
    "        'need_gt': True,\n",
    "        },\n",
    "    ], \n",
    "    \"retraining_folder\": 'uptrain_smart_data', \n",
    "    \"tb_logging\": True,\n",
    "}"
   ]
  },
  {
   "cell_type": "code",
   "execution_count": 8,
   "id": "f8b37752-4a41-4979-9f36-3a2478d60707",
   "metadata": {},
   "outputs": [
    {
     "name": "stdout",
     "output_type": "stream",
     "text": [
      "Deleting the folder:  uptrain_smart_data\n",
      "Deleting the folder:  uptrain_logs\n"
     ]
    }
   ],
   "source": [
    "# Initialize the UpTrain framework\n",
    "framework = uptrain.Framework(cfg)"
   ]
  },
  {
   "cell_type": "markdown",
   "id": "b8964a1d-801e-4c25-ba00-0920b2dc12d0",
   "metadata": {},
   "source": [
    "#### Generate model predictions for test data"
   ]
  },
  {
   "cell_type": "code",
   "execution_count": 9,
   "id": "ec793e01-fe2a-4ee0-b258-968936853950",
   "metadata": {},
   "outputs": [
    {
     "name": "stderr",
     "output_type": "stream",
     "text": [
      "TensorFlow installation not found - running with reduced feature set.\n",
      "\n",
      "NOTE: Using experimental fast data loading logic. To disable, pass\n",
      "    \"--load_fast=false\" and report issues on GitHub. More details:\n",
      "    https://github.com/tensorflow/tensorboard/issues/4784\n",
      "\n",
      "Serving TensorBoard on localhost; to expose to the network, use a proxy or pass --bind_all\n",
      "TensorBoard 2.11.2 at http://localhost:6012/ (Press CTRL+C to quit)\n"
     ]
    },
    {
     "name": "stdout",
     "output_type": "stream",
     "text": [
      "CPU times: user 12.9 s, sys: 4.31 s, total: 17.2 s\n",
      "Wall time: 3.12 s\n"
     ]
    }
   ],
   "source": [
    "%%time\n",
    "batch_size = 10000\n",
    "all_ids = []\n",
    "for i in range(int(len(X_test)/batch_size)):\n",
    "    inputs = {'data': {\"feats\": X_test[i*batch_size:(i+1)*batch_size]}}\n",
    "    preds = classifier.predict(inputs['data'][\"feats\"])\n",
    "    \n",
    "    ids = framework.log(inputs=inputs, outputs=preds)\n",
    "    all_ids += ids"
   ]
  },
  {
   "cell_type": "markdown",
   "id": "512156ad-41d8-423a-a3b3-f49689bb70b5",
   "metadata": {},
   "source": [
    "#### Attach ground truth to UpTrain framework (and check for drifts)"
   ]
  },
  {
   "cell_type": "code",
   "execution_count": 10,
   "id": "49eab27d-a9c0-427f-ae81-a068ef2801ae",
   "metadata": {},
   "outputs": [
    {
     "name": "stdout",
     "output_type": "stream",
     "text": [
      "Drift detected with DDM at time:  111298\n",
      "Concept drift detected with custom metric at time:  111000\n",
      "CPU times: user 13.6 s, sys: 1.74 s, total: 15.3 s\n",
      "Wall time: 14.7 s\n"
     ]
    }
   ],
   "source": [
    "%%time\n",
    "_ = framework.log(identifiers = all_ids, gts = y_test[0:len(all_ids)])"
   ]
  },
  {
   "cell_type": "markdown",
   "id": "46d07f60-a4b8-4fac-bb11-175c0c57634f",
   "metadata": {},
   "source": [
    "As can be noted from above, our two drift monitors predict a drift around the timestamp of 111k"
   ]
  },
  {
   "cell_type": "markdown",
   "id": "98149437-3f72-4db7-86ce-ce93d8815d51",
   "metadata": {},
   "source": [
    "### Verification of drifts with the UpTrain dashboard"
   ]
  },
  {
   "cell_type": "markdown",
   "id": "09c998ab-9381-4d51-a52d-9853828f7e70",
   "metadata": {},
   "source": [
    "The UpTrain framework automatically logs important metrics such as accuracy for the user to observe the performance of their models. The dashboard is currently integrated with tensorboard and can be launched by locating the logs directory ('uptrain_logs' by default) and using the following command in your terminal (inside the example directory): \n",
    "\n",
    "tensorboard --logdir=uptrain_logs/\n",
    "\n",
    "The following is a screenshot of average accuracy versus time from the dashboard. We can observe a data drift around the timestamp of 111k, which is also predicted by our drift monitors."
   ]
  },
  {
   "attachments": {
    "d60ffc9a-822c-4036-9775-0d7ae98dfe00.png": {
     "image/png": "[encoded data removed]"
    }
   },
   "cell_type": "markdown",
   "id": "240229bf-efab-4343-9805-767a6efa65ce",
   "metadata": {},
   "source": [
    "![image.png](attachment:d60ffc9a-822c-4036-9775-0d7ae98dfe00.png)"
   ]
  },
  {
   "cell_type": "markdown",
   "id": "36469265-9f5b-4cad-9a2e-181defa764f4",
   "metadata": {},
   "source": [
    "Finally, the users can also plot the custom metrics they defined, which in this case were the initial accuracy of the model and the most recent accuracy."
   ]
  },
  {
   "attachments": {
    "f644cf2d-3e87-4c61-920c-67f1285fe34d.png": {
     "image/png": "[encoded data removed]"
    }
   },
   "cell_type": "markdown",
   "id": "c3b50f54-ebdd-4f03-944c-2b6e5bd5318c",
   "metadata": {},
   "source": [
    "![image.png](attachment:f644cf2d-3e87-4c61-920c-67f1285fe34d.png)"
   ]
  }
 ],
 "metadata": {
  "kernelspec": {
   "display_name": "Python 3 (ipykernel)",
   "language": "python",
   "name": "python3"
  },
  "language_info": {
   "codemirror_mode": {
    "name": "ipython",
    "version": 3
   },
   "file_extension": ".py",
   "mimetype": "text/x-python",
   "name": "python",
   "nbconvert_exporter": "python",
   "pygments_lexer": "ipython3",
   "version": "3.8.16"
  },
  "vscode": {
   "interpreter": {
    "hash": "9545c455b197f2a904e8a44b25c9f43f9436523cf18f2465849be78ad0c6016f"
   }
  }
 },
 "nbformat": 4,
 "nbformat_minor": 5
}
