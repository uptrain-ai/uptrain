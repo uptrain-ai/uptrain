{
 "cells": [
  {
   "cell_type": "markdown",
   "id": "9f76776f-2719-4d42-9836-de37f0c6317c",
   "metadata": {
    "tags": []
   },
   "source": [
    "# Context Quality Comparison "
   ]
  },
  {
   "cell_type": "markdown",
   "id": "f4dbf87e-9171-4092-8cbd-782f8e20b8a7",
   "metadata": {
    "tags": []
   },
   "source": [
    "**Overview**: In this notebook, we will compare the quality of retrieved context from Cohere's and OpenAI's embedding models. We have used cosine similarity metric to retrieve the context from the given corpus.\n",
    "\n",
    "We have used Uptrain Standard Eval - Context Relevance to make a judegement on which model is good for the context retrieval purpose.\n",
    "\n",
    "\n",
    "Embed v3 is cohere's latest and most advanced embeddings model. Embed v3 offers state-of-the-art performance per trusted MTEB and BEIR benchmarks. One of the key improvements in Embed v3 is its ability to evaluate how well a query matches a document's topic and assesses the overall quality of the content. This means that it can rank the highest-quality documents at the top, which is especially helpful when dealing with noisy datasets.\n",
    "\n",
    "On the other hand, OpenAI's text-embedding-ada-002 outperforms all the old embedding models on text search, code search, and sentence similarity tasks and gets comparable performance on text classification. \n",
    "\n",
    "For our evaluations, we have used Financial QA dataset. The FiQA dataset has roughly 6,000 questions and 57,000 answers. Financial QA is hard because the vocabularies are context specific. In this experiment, we have randomly picked 100 questions and performed our evaluations on top of it. "
   ]
  },
  {
   "cell_type": "code",
   "execution_count": 1,
   "id": "01e942ec-3f4e-477e-92f1-c98372c10d22",
   "metadata": {
    "tags": []
   },
   "outputs": [],
   "source": [
    "import json \n",
    "import polars as pl\n",
    "import os\n",
    "\n",
    "url = \"https://uptrain-assets.s3.ap-south-1.amazonaws.com/data/context_quality_analysis.jsonl\"\n",
    "dataset_path = os.path.join('./', \"context_quality_analysis.jsonl\")\n",
    "\n",
    "if not os.path.exists(dataset_path):\n",
    "    import httpx\n",
    "    r = httpx.get(url)\n",
    "    with open(dataset_path, \"wb\") as f:\n",
    "        f.write(r.content)\n",
    "        \n"
   ]
  },
  {
   "cell_type": "code",
   "execution_count": 2,
   "id": "9274f3b9-f791-422e-b3fb-99c3f9e54b87",
   "metadata": {
    "tags": []
   },
   "outputs": [],
   "source": [
    "dataset= pl.read_ndjson(dataset_path)"
   ]
  },
  {
   "cell_type": "code",
   "execution_count": 3,
   "id": "4126fdc1-06da-433f-b0c0-9c02a2707896",
   "metadata": {
    "tags": []
   },
   "outputs": [
    {
     "data": {
      "text/html": [
       "<div><style>\n",
       ".dataframe > thead > tr > th,\n",
       ".dataframe > tbody > tr > td {\n",
       "  text-align: right;\n",
       "  white-space: pre-wrap;\n",
       "}\n",
       "</style>\n",
       "<small>shape: (200, 4)</small><table border=\"1\" class=\"dataframe\"><thead><tr><th>question</th><th>ground_truth</th><th>context</th><th>embedding_model</th></tr><tr><td>str</td><td>str</td><td>str</td><td>str</td></tr></thead><tbody><tr><td>&quot;Am I exposed t…</td><td>&quot;&quot;Yes, you&#x27;re s…</td><td>&quot;The value of a…</td><td>&quot;cohere&quot;</td></tr><tr><td>&quot;Am I exposed t…</td><td>&quot;&quot;Yes, you&#x27;re s…</td><td>&quot;Your definitio…</td><td>&quot;openai&quot;</td></tr><tr><td>&quot;What happen in…</td><td>&quot;&quot;But what happ…</td><td>&quot;If you sold bo…</td><td>&quot;cohere&quot;</td></tr><tr><td>&quot;What happen in…</td><td>&quot;&quot;But what happ…</td><td>&quot;1) Yes, both o…</td><td>&quot;openai&quot;</td></tr><tr><td>&quot;How to use a c…</td><td>&quot;&quot;You must buy …</td><td>&quot;&quot;You must buy …</td><td>&quot;cohere&quot;</td></tr><tr><td>&quot;How to use a c…</td><td>&quot;&quot;You must buy …</td><td>&quot;&quot;You must buy …</td><td>&quot;openai&quot;</td></tr><tr><td>&quot;Where do I fin…</td><td>&quot;I agree that a…</td><td>&quot;&quot;These warrant…</td><td>&quot;cohere&quot;</td></tr><tr><td>&quot;Where do I fin…</td><td>&quot;I agree that a…</td><td>&quot;&quot;These warrant…</td><td>&quot;openai&quot;</td></tr><tr><td>&quot;How do we know…</td><td>&quot;For a company …</td><td>&quot;Generally the …</td><td>&quot;cohere&quot;</td></tr><tr><td>&quot;How do we know…</td><td>&quot;For a company …</td><td>&quot;Generally the …</td><td>&quot;openai&quot;</td></tr><tr><td>&quot;When do compan…</td><td>&quot;&quot;In 2005, Appl…</td><td>&quot;From Investope…</td><td>&quot;cohere&quot;</td></tr><tr><td>&quot;When do compan…</td><td>&quot;&quot;In 2005, Appl…</td><td>&quot;&quot;In 2005, Appl…</td><td>&quot;openai&quot;</td></tr><tr><td>&hellip;</td><td>&hellip;</td><td>&hellip;</td><td>&hellip;</td></tr><tr><td>&quot;In what circum…</td><td>&quot;See if the ban…</td><td>&quot;How would you …</td><td>&quot;cohere&quot;</td></tr><tr><td>&quot;In what circum…</td><td>&quot;See if the ban…</td><td>&quot;How would you …</td><td>&quot;openai&quot;</td></tr><tr><td>&quot;What does bank…</td><td>&quot;Does it add to…</td><td>&quot;The extra mone…</td><td>&quot;cohere&quot;</td></tr><tr><td>&quot;What does bank…</td><td>&quot;Does it add to…</td><td>&quot;&quot;Usually not t…</td><td>&quot;openai&quot;</td></tr><tr><td>&quot;How can I unde…</td><td>&quot;&quot;Does the comp…</td><td>&quot;The P/E ratio …</td><td>&quot;cohere&quot;</td></tr><tr><td>&quot;How can I unde…</td><td>&quot;&quot;Does the comp…</td><td>&quot;Are you implyi…</td><td>&quot;openai&quot;</td></tr><tr><td>&quot;Credit History…</td><td>&quot;It appears all…</td><td>&quot;What happens t…</td><td>&quot;cohere&quot;</td></tr><tr><td>&quot;Credit History…</td><td>&quot;It appears all…</td><td>&quot;Some countries…</td><td>&quot;openai&quot;</td></tr><tr><td>&quot;T-mobile stock…</td><td>&quot;&quot;The differenc…</td><td>&quot;&quot;The differenc…</td><td>&quot;cohere&quot;</td></tr><tr><td>&quot;T-mobile stock…</td><td>&quot;&quot;The differenc…</td><td>&quot;&quot;The differenc…</td><td>&quot;openai&quot;</td></tr><tr><td>&quot;Why was S&amp;P 50…</td><td>&quot;&quot;Asking why th…</td><td>&quot;&quot;Asking why th…</td><td>&quot;cohere&quot;</td></tr><tr><td>&quot;Why was S&amp;P 50…</td><td>&quot;&quot;Asking why th…</td><td>&quot;&quot;Asking why th…</td><td>&quot;openai&quot;</td></tr></tbody></table></div>"
      ],
      "text/plain": [
       "shape: (200, 4)\n",
       "┌──────────────────────────┬──────────────────────────┬──────────────────────────┬─────────────────┐\n",
       "│ question                 ┆ ground_truth             ┆ context                  ┆ embedding_model │\n",
       "│ ---                      ┆ ---                      ┆ ---                      ┆ ---             │\n",
       "│ str                      ┆ str                      ┆ str                      ┆ str             │\n",
       "╞══════════════════════════╪══════════════════════════╪══════════════════════════╪═════════════════╡\n",
       "│ Am I exposed to currency ┆ \"Yes, you're still       ┆ The value of a foreign   ┆ cohere          │\n",
       "│ risk wh…                 ┆ exposed to cu…           ┆ stock is …               ┆                 │\n",
       "│ Am I exposed to currency ┆ \"Yes, you're still       ┆ Your definition of       ┆ openai          │\n",
       "│ risk wh…                 ┆ exposed to cu…           ┆ 'outside your…           ┆                 │\n",
       "│ What happen in this      ┆ \"But what happen if the  ┆ If you sold bought a     ┆ cohere          │\n",
       "│ selling call…            ┆ stock pr…                ┆ call option…             ┆                 │\n",
       "│ What happen in this      ┆ \"But what happen if the  ┆ 1) Yes, both of your     ┆ openai          │\n",
       "│ selling call…            ┆ stock pr…                ┆ scenarios w…             ┆                 │\n",
       "│ …                        ┆ …                        ┆ …                        ┆ …               │\n",
       "│ T-mobile stock:          ┆ \"The difference between  ┆ \"The difference between  ┆ cohere          │\n",
       "│ difference betwe…        ┆ TMUSP an…                ┆ TMUSP an…                ┆                 │\n",
       "│ T-mobile stock:          ┆ \"The difference between  ┆ \"The difference between  ┆ openai          │\n",
       "│ difference betwe…        ┆ TMUSP an…                ┆ TMUSP an…                ┆                 │\n",
       "│ Why was S&P 500 PE Ratio ┆ \"Asking why the p/e was  ┆ \"Asking why the p/e was  ┆ cohere          │\n",
       "│ so high…                 ┆ so high …                ┆ so high …                ┆                 │\n",
       "│ Why was S&P 500 PE Ratio ┆ \"Asking why the p/e was  ┆ \"Asking why the p/e was  ┆ openai          │\n",
       "│ so high…                 ┆ so high …                ┆ so high …                ┆                 │\n",
       "└──────────────────────────┴──────────────────────────┴──────────────────────────┴─────────────────┘"
      ]
     },
     "execution_count": 3,
     "metadata": {},
     "output_type": "execute_result"
    }
   ],
   "source": [
    "dataset"
   ]
  },
  {
   "cell_type": "code",
   "execution_count": 5,
   "id": "cc34b865-e278-4369-b4d7-9a13fbbf3abb",
   "metadata": {
    "tags": []
   },
   "outputs": [
    {
     "data": {
      "text/plain": [
       "200"
      ]
     },
     "execution_count": 5,
     "metadata": {},
     "output_type": "execute_result"
    }
   ],
   "source": [
    "len(dataset)"
   ]
  },
  {
   "cell_type": "code",
   "execution_count": 4,
   "id": "cff315ca-ef13-4716-870f-0d6e191ce130",
   "metadata": {
    "tags": []
   },
   "outputs": [],
   "source": [
    "dataset = dataset.to_dicts()"
   ]
  },
  {
   "cell_type": "markdown",
   "id": "d0cba599-c455-44c9-ab23-c6f8b994d8f0",
   "metadata": {
    "tags": []
   },
   "source": [
    "## Running Uptrain Eval - Context Relevancy"
   ]
  },
  {
   "cell_type": "markdown",
   "id": "6697342f-340d-4b84-b722-38daac377eff",
   "metadata": {
    "tags": []
   },
   "source": [
    "### OpenAI Embeddings"
   ]
  },
  {
   "cell_type": "code",
   "execution_count": 6,
   "id": "010316d6-8288-4f69-a2f1-43a19621c57a",
   "metadata": {
    "tags": []
   },
   "outputs": [],
   "source": [
    "from uptrain import APIClient, Evals, ResponseMatching\n",
    "UPTRAIN_API_KEY = \"up-*********************\" ## INSERT YOUR UPTRAIN KEY HERE\n",
    "\n",
    "client = APIClient(uptrain_api_key=UPTRAIN_API_KEY)\n"
   ]
  },
  {
   "cell_type": "code",
   "execution_count": 7,
   "id": "baaa4bfe-50db-4c7c-92ae-4f80955ccac8",
   "metadata": {
    "tags": []
   },
   "outputs": [
    {
     "data": {
      "text/plain": [
       "dict_keys(['question', 'ground_truth', 'context', 'embedding_model'])"
      ]
     },
     "execution_count": 7,
     "metadata": {},
     "output_type": "execute_result"
    }
   ],
   "source": [
    "dataset[1].keys()"
   ]
  },
  {
   "cell_type": "code",
   "execution_count": 65,
   "id": "d1147b6a-2860-432a-81c6-f60359903074",
   "metadata": {
    "tags": []
   },
   "outputs": [
    {
     "name": "stderr",
     "output_type": "stream",
     "text": [
      "\u001b[32m2023-11-15 00:30:15.145\u001b[0m | \u001b[1mINFO    \u001b[0m | \u001b[36muptrain.framework.remote\u001b[0m:\u001b[36mlog_and_evaluate\u001b[0m:\u001b[36m455\u001b[0m - \u001b[1mSending evaluation request for rows 0 to <50 to the Uptrain server\u001b[0m\n",
      "\u001b[32m2023-11-15 00:30:31.045\u001b[0m | \u001b[1mINFO    \u001b[0m | \u001b[36muptrain.framework.remote\u001b[0m:\u001b[36mlog_and_evaluate\u001b[0m:\u001b[36m455\u001b[0m - \u001b[1mSending evaluation request for rows 50 to <100 to the Uptrain server\u001b[0m\n",
      "\u001b[32m2023-11-15 00:30:44.670\u001b[0m | \u001b[1mINFO    \u001b[0m | \u001b[36muptrain.framework.remote\u001b[0m:\u001b[36mlog_and_evaluate\u001b[0m:\u001b[36m455\u001b[0m - \u001b[1mSending evaluation request for rows 100 to <150 to the Uptrain server\u001b[0m\n",
      "\u001b[32m2023-11-15 00:30:57.262\u001b[0m | \u001b[1mINFO    \u001b[0m | \u001b[36muptrain.framework.remote\u001b[0m:\u001b[36mlog_and_evaluate\u001b[0m:\u001b[36m455\u001b[0m - \u001b[1mSending evaluation request for rows 150 to <200 to the Uptrain server\u001b[0m\n"
     ]
    }
   ],
   "source": [
    "results = client.evaluate_experiments(\n",
    "    project_name=\"context_analysis\",\n",
    "    data = dataset, \n",
    "    checks = [Evals.CONTEXT_RELEVANCE], \n",
    "    exp_columns = ['embedding_model']\n",
    ")"
   ]
  },
  {
   "cell_type": "markdown",
   "id": "0addf8e3-c16f-481e-9cfe-e2ffcc8a735d",
   "metadata": {
    "tags": []
   },
   "source": [
    "## Comparitive Analysis"
   ]
  },
  {
   "cell_type": "code",
   "execution_count": 92,
   "id": "a452f2d6-d81c-49c2-be6b-add4286cfbf1",
   "metadata": {
    "tags": []
   },
   "outputs": [
    {
     "data": {
      "text/plain": [
       "'How do I pay my estimated income tax?'"
      ]
     },
     "execution_count": 92,
     "metadata": {},
     "output_type": "execute_result"
    }
   ],
   "source": [
    "results[7]['question']"
   ]
  },
  {
   "cell_type": "code",
   "execution_count": null,
   "id": "966367bc-1181-4ad8-96b2-ddd65ce7988b",
   "metadata": {
    "collapsed": true,
    "jupyter": {
     "outputs_hidden": true
    },
    "tags": []
   },
   "outputs": [
    {
     "name": "stdout",
     "output_type": "stream",
     "text": [
      "Question: How do I pay my estimated income tax?\n",
      "Cohere context: \"From the IRS page on Estimated Taxes (emphasis added): Taxes must be paid as you earn or receive income during the year, either through withholding or estimated tax payments. If the amount of income tax withheld from your salary or pension is not enough, or if you receive income such as interest, dividends, alimony, self-employment income, capital gains, prizes and awards, you may have to make estimated tax payments. If you are in business for yourself, you generally need to make estimated tax payments. Estimated tax is used to pay not only income tax, but other taxes such as self-employment tax and alternative minimum tax. I think that is crystal clear that you're paying income tax as well as self-employment tax. To expand a bit, you seem to be confusing self-employment tax and estimated tax, which are not only two different things, but two different kinds of things.  One is a tax, and the other is just a means of paying your taxes. \"\"Self-employment tax\"\" refers to the Social Security and Medicare taxes that you must pay on your self-employment income.  This is an actual tax that you owe.  If you receive a W-2, half of it is \"\"invisibly\"\" paid by your employer, and half of it is paid by you in the form of visible deductions on your pay stub.  If you're self-employed, you have to pay all of it explicitly. \"\"Estimated tax\"\" does not refer to any actual tax levied on anyone.  A more pedantically correct phrasing would be \"\"estimated tax payment\"\".  Estimated taxes are just payments that you make to the IRS to pay tax you expect to owe.  Whether you have to make such payments depends on how much tax you owe and whether you've paid it by other means.  You may need to pay estimated tax even if you're not self-employed, although this would be unusual.  (It could happen, for instance, if you realized large capital gains over the year.)  You also may be self-employed but not need to pay estimated tax (if, for instance, you also have a W-2 job and you reduce your withholding allowances to have extra tax withheld). That said, if you earn significant income from self-employment, you'll likely have to make estimated tax payments.  These are prepayments of the income tax and Social Security/Medicare taxes you accrue based on your self-employment income. As Pete B. mentioned in his answer, a possible reason that your estiamtes are low is because some taxes have already been withheld from the paychecks you received so far during the year (while you were an employee).  These represent tax payments you've already made; you don't need to pay that money a second time, but you may need to make estimated tax payments for your income going forward.\"\n",
      "They are four quarterly estimated tax payments.   The IRS requires that you pay your taxes throughout the year (withholding in a W-2 job).  You'll need to estimate how much taxes you think you might be owing and then pay roughly 1/4 at each of the 4 deadlines. From the IRS: How To Figure Estimated Tax To figure your estimated tax, you must   figure your expected AGI, taxable   income, taxes, deductions, and credits   for the year. When figuring your 2011 estimated tax,   it may be helpful to use your income,   deductions, and credits for 2010 as a   starting point. Use your 2010 federal   tax return as a guide. You can use   Form 1040-ES to figure your estimated   tax. Nonresident aliens use Form   1040-ES (NR) to figure estimated tax. You must make adjustments both for   changes in your own situation and for   recent changes in the tax law. For   2011, there are several changes in the   law. Some of these changes are   discussed under What's New for 2011   beginning on page 2. For information   about these and other changes in the   law, visit the IRS website at IRS.gov. The instructions for Form 1040-ES   include a worksheet to help you figure   your estimated tax. Keep the worksheet   for your records. You may find some value from hiring a CPA to help you setup your estimated tax payments and amounts.\n",
      "As others have mentioned yes it is taxable. Whether it goes through payroll and has FICA taken out is your issue in terms that you need to report it and you will an extra 7.5% self employment taxes that would normally be covered by your employer. Your employer may have problems but that isn't your issue.  Contrary to what other users are saying chances are there won't be any penalties for you. Best case you have already paid 100% of last years tax liability and you can file your normal tax return with no issues.  Worst case you need to pay quarterly taxes on that amount in the current quarter. IRS quarters are a little weird but I think you need to pay by Jan 15th for a December payment. You don't have to calculate your entire liability you can just fill out the very short form and attach a check for about what you will owe. There is a form you can fill out to show what quarter you received the money and you paid in it is a bit more complex but will avoid the penalty. For penalties quarterly taxes count in the quarter received where as payroll deductions count as if they were paid in the first quarter of the year. From the IRS The United States income tax is a pay-as-you-go tax, which means that tax must be paid as you earn or receive your income during the year. You can either do this through withholding or by making estimated tax payments. If you do not pay your tax through withholding, or do not pay enough tax that way, you might also have to pay estimated taxes. If you did not pay enough tax throughout the year, either through withholding or by making estimated tax payments, you may have to pay a penalty for underpayment of estimated tax. Generally, most taxpayers will avoid this penalty if they owe less than $1,000 in tax after subtracting their withholdings and credits, or if they paid at least 90% of the tax for the current year, or 100% of the tax shown on the return for the prior year, whichever is smaller.\n",
      "\n",
      "OpenAI context: They are four quarterly estimated tax payments.   The IRS requires that you pay your taxes throughout the year (withholding in a W-2 job).  You'll need to estimate how much taxes you think you might be owing and then pay roughly 1/4 at each of the 4 deadlines. From the IRS: How To Figure Estimated Tax To figure your estimated tax, you must   figure your expected AGI, taxable   income, taxes, deductions, and credits   for the year. When figuring your 2011 estimated tax,   it may be helpful to use your income,   deductions, and credits for 2010 as a   starting point. Use your 2010 federal   tax return as a guide. You can use   Form 1040-ES to figure your estimated   tax. Nonresident aliens use Form   1040-ES (NR) to figure estimated tax. You must make adjustments both for   changes in your own situation and for   recent changes in the tax law. For   2011, there are several changes in the   law. Some of these changes are   discussed under What's New for 2011   beginning on page 2. For information   about these and other changes in the   law, visit the IRS website at IRS.gov. The instructions for Form 1040-ES   include a worksheet to help you figure   your estimated tax. Keep the worksheet   for your records. You may find some value from hiring a CPA to help you setup your estimated tax payments and amounts.\n",
      "There is a shortcut you can use when calculating federal estimated taxes.  Some states may allow the same type of estimation, but I know at least one (my own--Illinois) that does not. The shortcut: you can completely base your estimated taxes for this year on last year's tax return and avoid any underpayment penalty.  A quick summary can be found here (emphasis mine): If your prior year Adjusted Gross Income was $150,000 or less, then   you can avoid a penalty if you pay either 90 percent of this year's   income tax liability or 100 percent of your income tax liability from   last year (dividing what you paid last year into four quarterly   payments). This rule helps if you have a big spike in income one year,   say, because you sell an investment for a huge gain or win the   lottery. If wage withholding for the year equals the amount of tax you   owed in the previous year, then you wouldn't need to pay estimated   taxes, no matter how much extra tax you owe on your windfall. Note that this does not mean you will not owe money when you file your return next April; this shortcut ensures that you pay at least the minimum allowed to avoid penalty. You can see this for yourself by filling out the worksheet on form 1040ES.  Line 14a is what your expected tax this year will be, based on your estimated income.  Line 14b is your total tax from last year, possibly with some other modifications.  Line 14c then asks you to take the lesser of the two numbers.  So even if your expected tax this year is one million dollars, you can still base your estimated payments on last year's tax.\n",
      "If you have non-salary income, you might be required to file 1040ES estimated tax for the next year on a quarterly basis. You can instead pay some or all in advance from your previous year's refund. In theory, you lose the interest you might have made by holding that money for a few months. In practice it might be worth it to avoid needing to send forms and checks every quarter. For instance if you had a $1000 estimated tax requirement and the alternative was to get 1% taxable savings account interest for six months, you'd make about $3 from holding it for the year. I would choose to just pay in advance. If you had a very large estimation, or you could pay off a high-rate debt and get a different effective rate of return, the tradeoff may be different.\n"
     ]
    }
   ],
   "source": [
    "print('Question:', results[7]['question'])\n",
    "print('Cohere context:', results[7]['context_embedding_model_cohere'])\n",
    "print()\n",
    "print('OpenAI context:', results[7]['context_embedding_model_openai'])"
   ]
  },
  {
   "cell_type": "markdown",
   "id": "43c29b1c-8127-4b2e-a5fe-e1b5babe33a1",
   "metadata": {
    "tags": []
   },
   "source": [
    "In this example, we can clearly see that the context retrieved from the cohere's embed v3 model has all the required content to answer this particular question. For instance, the notion of 'self-employment' tax is only retrieved in cohere's model context whereas OpenAI's model context does not mention about this particular tax. \n",
    "\n",
    "OpenAI context contains relevant information to answer this question but Cohere's context is much better to answer this question from holistic view.\n"
   ]
  },
  {
   "cell_type": "code",
   "execution_count": 96,
   "id": "371a3245-8ae6-4c8c-8908-a5d4eab571e7",
   "metadata": {
    "tags": []
   },
   "outputs": [
    {
     "name": "stdout",
     "output_type": "stream",
     "text": [
      "Context Relevance Score using Embed v3 model: 1.0\n",
      "Context Relevance Score using OpenAI model: 0.5\n"
     ]
    }
   ],
   "source": [
    "print('Context Relevance Score using Embed v3 model:', results_openai[7]['score_context_relevance_embedding_model_cohere'])\n",
    "print('Context Relevance Score using OpenAI model:', results_openai[7]['score_context_relevance_embedding_model_openai'])"
   ]
  },
  {
   "cell_type": "markdown",
   "id": "c6e573d4-a5a7-4b22-9528-46b036c25e7d",
   "metadata": {},
   "source": [
    "The same conclusion can be achieved by running the Uptrain Standard Eval - Context Relevance. We can see that the context retrieved from the embed v3 model has got a score of 1.0 while the context retrieved from the OpenAI embedding model has a score of 0.5. \n"
   ]
  },
  {
   "cell_type": "markdown",
   "id": "6df0e7e0-d8e3-4a99-9bd2-6f9403ebc786",
   "metadata": {
    "tags": []
   },
   "source": [
    "## Conclusion"
   ]
  },
  {
   "cell_type": "code",
   "execution_count": 97,
   "id": "8724367b-2c20-423d-8108-88f7f323a454",
   "metadata": {
    "tags": []
   },
   "outputs": [],
   "source": [
    "score_context_relevance_openai = list(pl.DataFrame(results_openai)['score_context_relevance_embedding_model_openai'])\n",
    "score_context_relevance_cohere = list(pl.DataFrame(results_openai)['score_context_relevance_embedding_model_cohere'])"
   ]
  },
  {
   "cell_type": "code",
   "execution_count": 99,
   "id": "26965be5-84bc-4e54-8161-30fab1ea35a1",
   "metadata": {
    "tags": []
   },
   "outputs": [
    {
     "name": "stdout",
     "output_type": "stream",
     "text": [
      "Average Context Relevancy Score using OpenAI model: 0.49\n",
      "Average Context Relevancy Score using Embed v3 model: 0.595\n"
     ]
    }
   ],
   "source": [
    "print('Average Context Relevancy Score using OpenAI model:', sum(score_context_relevance_openai)/len(score_context_relevance_openai))\n",
    "print('Average Context Relevancy Score using Embed v3 model:', sum(score_context_relevance_cohere)/len(score_context_relevance_cohere))"
   ]
  },
  {
   "cell_type": "markdown",
   "id": "985602fb-59b1-4618-9533-ada56c76ca45",
   "metadata": {},
   "source": [
    "Empirically, this shows that the context retrieved from the Embed v3 model is of better quality in comparison to the OpenAI embedding model. \n",
    "\n",
    "The same analysis can be seen from the graph as well. The graph can be obtained from Uptrain dashboard by providing the uptrain API key."
   ]
  },
  {
   "cell_type": "markdown",
   "id": "9209ccbd-addb-4926-9b3d-ef727d3f6dc5",
   "metadata": {
    "tags": []
   },
   "source": [
    "<img src=\"https://uptrain-assets.s3.ap-south-1.amazonaws.com/data/context_analysis.png\" alt=\"Alternative text\" />\n"
   ]
  },
  {
   "cell_type": "code",
   "execution_count": null,
   "id": "c5cb40d9-88c7-4f82-a0b2-31813fd42c17",
   "metadata": {},
   "outputs": [],
   "source": []
  }
 ],
 "metadata": {
  "kernelspec": {
   "display_name": "Python 3 (ipykernel)",
   "language": "python",
   "name": "python3"
  },
  "language_info": {
   "codemirror_mode": {
    "name": "ipython",
    "version": 3
   },
   "file_extension": ".py",
   "mimetype": "text/x-python",
   "name": "python",
   "nbconvert_exporter": "python",
   "pygments_lexer": "ipython3",
   "version": "3.11.5"
  }
 },
 "nbformat": 4,
 "nbformat_minor": 5
}
