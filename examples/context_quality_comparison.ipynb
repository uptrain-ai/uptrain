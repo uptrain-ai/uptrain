{
 "cells": [
  {
   "cell_type": "markdown",
   "id": "9f76776f-2719-4d42-9836-de37f0c6317c",
   "metadata": {
    "tags": []
   },
   "source": [
    "# Context Quality Comparison "
   ]
  },
  {
   "cell_type": "markdown",
   "id": "f4dbf87e-9171-4092-8cbd-782f8e20b8a7",
   "metadata": {
    "tags": []
   },
   "source": [
    "**Overview**: In this notebook, we will compare the quality of retrieved context from Cohere's and OpenAI's embedding models. We have used cosine similarity metric to retrieve the context from the given corpus.\n",
    "\n",
    "We have used Uptrain Standard Eval - Context Relevance to make a judegement on which model is good for the context retrieval purpose.\n",
    "\n",
    "\n",
    "Embed v3 is cohere's latest and most advanced embeddings model. Embed v3 offers state-of-the-art performance per trusted MTEB and BEIR benchmarks. One of the key improvements in Embed v3 is its ability to evaluate how well a query matches a document's topic and assesses the overall quality of the content. This means that it can rank the highest-quality documents at the top, which is especially helpful when dealing with noisy datasets.\n",
    "\n",
    "On the other hand, OpenAI's text-embedding-ada-002 outperforms all the old embedding models on text search, code search, and sentence similarity tasks and gets comparable performance on text classification. \n",
    "\n",
    "For our evaluations, we have used Financial QA dataset. The FiQA dataset has roughly 6,000 questions and 57,000 answers. Financial QA is hard because the vocabularies are context specific. In this experiment, we have randomly picked 150 questions and performed our evaluations on top of it. "
   ]
  },
  {
   "cell_type": "code",
   "execution_count": 44,
   "id": "01e942ec-3f4e-477e-92f1-c98372c10d22",
   "metadata": {
    "tags": []
   },
   "outputs": [],
   "source": [
    "import json \n",
    "import polars as pl\n",
    "\n",
    "url = \"https://uptrain-assets.s3.ap-south-1.amazonaws.com/data/context_quality_comparison.jsonl\"\n",
    "dataset_path = os.path.join('./', \"context_quality_comparison.jsonl\")\n",
    "\n",
    "if not os.path.exists(dataset_path):\n",
    "    import httpx\n",
    "    r = httpx.get(url)\n",
    "    with open(dataset_path, \"wb\") as f:\n",
    "        f.write(r.content)\n",
    "        \n",
    "dataset= pl.read_ndjson(dataset_path)"
   ]
  },
  {
   "cell_type": "code",
   "execution_count": 45,
   "id": "a88f806a-8eb5-4826-b657-86b31f93c975",
   "metadata": {
    "collapsed": true,
    "jupyter": {
     "outputs_hidden": true
    },
    "tags": []
   },
   "outputs": [
    {
     "name": "stdout",
     "output_type": "stream",
     "text": [
      "shape: (150, 4)\n",
      "┌────────────────────────┬────────────────────────┬────────────────────────┬───────────────────────┐\n",
      "│ question               ┆ ground_truth           ┆ context_cohere         ┆ context_openai        │\n",
      "│ ---                    ┆ ---                    ┆ ---                    ┆ ---                   │\n",
      "│ str                    ┆ str                    ┆ str                    ┆ str                   │\n",
      "╞════════════════════════╪════════════════════════╪════════════════════════╪═══════════════════════╡\n",
      "│ Am I exposed to        ┆ \"Yes, you're still     ┆ The value of a foreign ┆ Your definition of    │\n",
      "│ currency risk wh…      ┆ exposed to cu…         ┆ stock is …             ┆ 'outside your…        │\n",
      "│ What happen in this    ┆ \"But what happen if    ┆ If you sold bought a   ┆ 1) Yes, both of your  │\n",
      "│ selling call…          ┆ the stock pr…          ┆ call option…           ┆ scenarios w…          │\n",
      "│ How to use a companion ┆ \"You must buy both     ┆ \"You must buy both     ┆ \"You must buy both    │\n",
      "│ fare if t…             ┆ tickets in 1 …         ┆ tickets in 1 …         ┆ tickets in 1 …        │\n",
      "│ Where do I find the    ┆ I agree that a random  ┆ \"These warrants do not ┆ \"These warrants do    │\n",
      "│ exercise pri…          ┆ page on th…            ┆ have a fi…             ┆ not have a fi…        │\n",
      "│ …                      ┆ …                      ┆ …                      ┆ …                     │\n",
      "│ 2016, USA banks with   ┆ \"Ally Bank $0 - from   ┆ Incoming is often free ┆ Stay out of the big   │\n",
      "│ low/no fee …           ┆ their websi…           ┆ except fr…             ┆ four banks a…         │\n",
      "│ Good Percentage Return ┆ Yes definitely  Warren ┆ \"If someone is         ┆ First, the earnings   │\n",
      "│ on Equity…             ┆ Buffet av…             ┆ guaranteeing X%, …     ┆ are per year…         │\n",
      "│ Why was S&P 500 PE     ┆ \"Asking why the p/e    ┆ \"Asking why the p/e    ┆ \"Asking why the p/e   │\n",
      "│ Ratio so high…         ┆ was so high …          ┆ was so high …          ┆ was so high …         │\n",
      "│ Are spot market        ┆ \"So, the term \"\"ready  ┆ \"So, the term \"\"ready  ┆ \"So, the term \"\"ready │\n",
      "│ ,regular market …      ┆ market\"\" s…            ┆ market\"\" s…            ┆ market\"\" s…           │\n",
      "└────────────────────────┴────────────────────────┴────────────────────────┴───────────────────────┘\n"
     ]
    }
   ],
   "source": [
    "print(dataset)"
   ]
  },
  {
   "cell_type": "markdown",
   "id": "d0cba599-c455-44c9-ab23-c6f8b994d8f0",
   "metadata": {
    "tags": []
   },
   "source": [
    "## Running Uptrain Eval - Context Relevancy"
   ]
  },
  {
   "cell_type": "markdown",
   "id": "6697342f-340d-4b84-b722-38daac377eff",
   "metadata": {
    "tags": []
   },
   "source": [
    "### OpenAI Embeddings"
   ]
  },
  {
   "cell_type": "code",
   "execution_count": 5,
   "id": "010316d6-8288-4f69-a2f1-43a19621c57a",
   "metadata": {
    "tags": []
   },
   "outputs": [],
   "source": [
    "from uptrain import APIClient, Evals, ResponseMatching\n",
    "UPTRAIN_API_KEY = \"up-*********************\" ## INSERT YOUR UPTRAIN KEY HERE\n",
    "\n",
    "client = APIClient(uptrain_api_key=UPTRAIN_API_KEY)\n"
   ]
  },
  {
   "cell_type": "code",
   "execution_count": 21,
   "id": "d1147b6a-2860-432a-81c6-f60359903074",
   "metadata": {
    "tags": []
   },
   "outputs": [
    {
     "name": "stderr",
     "output_type": "stream",
     "text": [
      "\u001b[32m2023-11-05 15:26:49.650\u001b[0m | \u001b[1mINFO    \u001b[0m | \u001b[36muptrain.framework.remote\u001b[0m:\u001b[36mlog_and_evaluate\u001b[0m:\u001b[36m455\u001b[0m - \u001b[1mSending evaluation request for rows 0 to <50 to the Uptrain server\u001b[0m\n",
      "\u001b[32m2023-11-05 15:27:02.894\u001b[0m | \u001b[1mINFO    \u001b[0m | \u001b[36muptrain.framework.remote\u001b[0m:\u001b[36mlog_and_evaluate\u001b[0m:\u001b[36m455\u001b[0m - \u001b[1mSending evaluation request for rows 50 to <100 to the Uptrain server\u001b[0m\n",
      "\u001b[32m2023-11-05 15:27:31.809\u001b[0m | \u001b[1mINFO    \u001b[0m | \u001b[36muptrain.framework.remote\u001b[0m:\u001b[36mlog_and_evaluate\u001b[0m:\u001b[36m455\u001b[0m - \u001b[1mSending evaluation request for rows 100 to <150 to the Uptrain server\u001b[0m\n"
     ]
    }
   ],
   "source": [
    "results_openai = client.log_and_evaluate(\n",
    "    project_name=\"benchmark\",\n",
    "    data = final_dataset.with_columns([pl.col(\"context_openai\").alias(\"context\")]).to_dicts(),\n",
    "    checks = [Evals.CONTEXT_RELEVANCE]\n",
    ")\n"
   ]
  },
  {
   "cell_type": "markdown",
   "id": "66176e7e-69a2-4ac3-bb3a-6128d596b6e3",
   "metadata": {
    "tags": []
   },
   "source": [
    "### Cohere Embed v3 Embeddings"
   ]
  },
  {
   "cell_type": "code",
   "execution_count": 22,
   "id": "bb2bdc3a-06fa-4e51-b80c-bb5e6ef2c3ff",
   "metadata": {
    "tags": []
   },
   "outputs": [
    {
     "name": "stderr",
     "output_type": "stream",
     "text": [
      "\u001b[32m2023-11-05 15:27:45.397\u001b[0m | \u001b[1mINFO    \u001b[0m | \u001b[36muptrain.framework.remote\u001b[0m:\u001b[36mlog_and_evaluate\u001b[0m:\u001b[36m455\u001b[0m - \u001b[1mSending evaluation request for rows 0 to <50 to the Uptrain server\u001b[0m\n",
      "\u001b[32m2023-11-05 15:27:56.904\u001b[0m | \u001b[1mINFO    \u001b[0m | \u001b[36muptrain.framework.remote\u001b[0m:\u001b[36mlog_and_evaluate\u001b[0m:\u001b[36m455\u001b[0m - \u001b[1mSending evaluation request for rows 50 to <100 to the Uptrain server\u001b[0m\n",
      "\u001b[32m2023-11-05 15:28:09.748\u001b[0m | \u001b[1mINFO    \u001b[0m | \u001b[36muptrain.framework.remote\u001b[0m:\u001b[36mlog_and_evaluate\u001b[0m:\u001b[36m455\u001b[0m - \u001b[1mSending evaluation request for rows 100 to <150 to the Uptrain server\u001b[0m\n"
     ]
    }
   ],
   "source": [
    "results_cohere = client.log_and_evaluate(\n",
    "    project_name=\"benchmark\",\n",
    "    data = final_dataset.with_columns([pl.col(\"context_cohere\").alias(\"context\")]).to_dicts(),\n",
    "    checks = [Evals.CONTEXT_RELEVANCE]\n",
    ")\n"
   ]
  },
  {
   "cell_type": "markdown",
   "id": "0addf8e3-c16f-481e-9cfe-e2ffcc8a735d",
   "metadata": {
    "tags": []
   },
   "source": [
    "## Comparitive Analysis"
   ]
  },
  {
   "cell_type": "code",
   "execution_count": 40,
   "id": "966367bc-1181-4ad8-96b2-ddd65ce7988b",
   "metadata": {
    "collapsed": true,
    "jupyter": {
     "outputs_hidden": true
    },
    "tags": []
   },
   "outputs": [
    {
     "name": "stdout",
     "output_type": "stream",
     "text": [
      "Question: Determining the minimum dividend that should be paid from my S corporation\n",
      "Cohere context: @littleadv is right, this depends on your country. Furthermore, this is likely to depend on the type of business you own (in the US: LLC, S-corp, C-corp). In some countries you have to provide yourself a minimum wage if you are classified as a major shareholder and work for the company. When there is a minimum level of wage you have to pay yourself the tax rate on wages is typically higher than on dividends. The wage you then receive is taxed in line with normal wage taxation rules. Above the minimum wage you can pay yourself in dividends.\n",
      "\"If you have an S-Corp with several shareholders - you probably also have a tax adviser who suggested using S-Corp to begin with.  You're probably best off asking that adviser about this issue. If you decided to use S-Corp for multiple shareholders without a professional guiding you, you should probably start looking for such a professional, or you may get yourself into trouble. That said, and reminding you that: 1. Free advice on the Internet is worth exactly what you paid for it, and 2. I'm not a tax professional or tax adviser, you should talk to a EA/CPA licensed in your state, here's this: Generally S-Corps are disregarded entities for tax purposes and their income flows to their shareholders individual tax returns through K-1 forms distributed by the S-Corp yearly. The shareholders don't have to actually withdraw the profits, but if not withdrawing - they're added to their cost bases in the shares. I'm guessing your corp doesn't distribute the net income, but keeps it on the corporate account, only distributing enough to cover the shareholders' taxes on their respective income portion. In this case - the amount not distributed is added to their basis, the amount distributed has already been taxed through K-1. If the corporation distributes more than the shareholder's portion of net income, then there can be several different choices, depending on the circumstances: The extra distribution will be treated as salary to the shareholder and a deduction to the corporation (i.e.: increasing the net income for the rest of the shareholders). The extra distribution will be treated as return of investment, reducing that shareholder's basis in the shares, but not affecting the other shareholders. If the basis is 0 then it is treated as income to the shareholder and taxed at ordinary rates. The extra distribution will be treated as \"\"buy-back\"\" - reducing that shareholder's ownership stake in the company and reallocating the \"\"bought-back\"\" portion among the rest of the shareholders. In this case it is treated as a sale of stock, and the gain is calculated as with any other stock sale, including short-term vs. long-term taxation (there's also Sec. 1244 that can come in handy here). The extra distribution will be treated as dividend. This is very rare for S-Corp, but can happen if it was a C-Corp before. In that case it will be taxed as dividends. Note that options #2, #3 and #4 subject the shareholder to the NIIT, while option #1 subjects the shareholder to FICA/Self Employment tax (and subjects the company to payroll taxes). There might be other options. Your licensed tax adviser will go with you through all the facts and circumstances and will suggest the best way to proceed.\"\n",
      "\"There are no dividends from S-Corp. There are distributions. Big difference. S-Corps fill form 1120S and schedule K-1 per shareholder. In the schedule all the income of your S-Corp will be assigned to various categories that you will later copy to your personal tax return as your personal income. It is not dividend income. The reason people prefer to take distributions from their S-Corps instead of salary is because you don't pay SE taxes on the distributions. That is also the reason why the IRS forces you to pay yourself a reasonable salary. But the tax rate on the income, all of it, is your regular income tax rate, unless the S-Corp income is categorized in a preferred category. The fact that its an S-Corp income doesn't, by itself, allow any preferential treatment. If you're learning the stuff as you go - you should probably get in touch with a tax professional to advise you. All the S-Corp income must be distributed. Its not a matter of \"\"avoiding paying the tax\"\", its the matter of \"\"you must do it\"\". Not a choice. My answer was not intended or written to be used, and it cannot be used by any taxpayer, for the purpose of avoiding penalties that may be imposed on the taxpayer (circ 230 disclaimer).\"\n",
      "\n",
      "OpenAI context: I think I may have figured this out but if someone could double check my reasoning I'd appreciate it. So if my company makes $75000 and I decide to pay myself a $30000 salary, then the quarterly payment break down would be like this: 1040ES: Would pay income tax on non salary dividend ($45000) 941: Would pay income tax, SS, medicare on salary ($30000) (I'm the only person on payroll) So I think this answers my question in that after switching from filing as LLC to S-corp, I won't have to pay as much on 1040ES because some of it will now be covered on payroll.\n",
      "It's whatever you decide. Taking money out of an S-Corp via distribution isn't a taxable event. Practically speaking, yes, you should make sure you have enough money to afford the distribution after paying your expenses, lest you have to put money back a few days later in to pay the phone bill. You might not want to distribute every penny of profit the moment you book it, either -- keeping some money in the business checking account is probably a good idea. If you have consistent cash flow you could distribute monthly or quarterly profits 30 or 60 days in arrears, for example, and then still have cash on hand for operations. Your net profit is reflected on the Schedule K for inclusion on your personal tax return. As an S-Corp, the profit is passed through to the shareholders and is taxable whether or not you actually distributed the money. You owe taxes on the profit reported on the Schedule K, not the amounts distributed. You really should get a tax accountant. Long-term, you'll save money by having your books set up correctly from the start rather than have to go back and fix any mistakes. Go to a Chamber of Commerce meeting or ask a colleague, trusted vendor, or customer for a recommendation.\n",
      "Ignoring the wildly unreasonable goal, I'll answer just the Headline question asked. It's possible to choose dividend paying stocks so that you receive a dividend check each month. Dividends are typically paid quarterly, so 3 stocks chosen by quality first, but also for their dividend date will do this. To get $2000/mo or $24,000/yr would only take an investment of $600,000 in stocks that are yielding a 4% dividend.\n"
     ]
    }
   ],
   "source": [
    "print('Question:', dataset[31]['question'][0])\n",
    "print('Cohere context:', dataset[31]['context_cohere'][0])\n",
    "print()\n",
    "print('OpenAI context:', dataset[31]['context_openai'][0])"
   ]
  },
  {
   "cell_type": "markdown",
   "id": "43c29b1c-8127-4b2e-a5fe-e1b5babe33a1",
   "metadata": {
    "tags": []
   },
   "source": [
    "In this example, we can clearly see that the context retrieved from the cohere's embed v3 model is much more relevant to the given question."
   ]
  },
  {
   "cell_type": "code",
   "execution_count": 43,
   "id": "371a3245-8ae6-4c8c-8908-a5d4eab571e7",
   "metadata": {
    "tags": []
   },
   "outputs": [
    {
     "name": "stdout",
     "output_type": "stream",
     "text": [
      "Context Relevance Score using Embed v3 model 1.0\n",
      "Context Relevance Score using OpenAI model: 0.0\n"
     ]
    }
   ],
   "source": [
    "print('Context Relevance Score using Embed v3 model:', results_cohere[31]['score_context_relevance'])\n",
    "print('Context Relevance Score using OpenAI model:', results_openai[31]['score_context_relevance'])"
   ]
  },
  {
   "cell_type": "markdown",
   "id": "c6e573d4-a5a7-4b22-9528-46b036c25e7d",
   "metadata": {},
   "source": [
    "The same conclusion can be achieved by running the Uptrain Standard Eval - Context Relevance. We can see that the context retrieved from the embed v3 model has got a score of 1.0 while the context retrieved from the OpenAI embedding model has a score of 0.0. \n"
   ]
  },
  {
   "cell_type": "markdown",
   "id": "6df0e7e0-d8e3-4a99-9bd2-6f9403ebc786",
   "metadata": {
    "tags": []
   },
   "source": [
    "## Conclusion"
   ]
  },
  {
   "cell_type": "code",
   "execution_count": 52,
   "id": "8724367b-2c20-423d-8108-88f7f323a454",
   "metadata": {
    "tags": []
   },
   "outputs": [],
   "source": [
    "score_context_relevance_openai = list(pl.DataFrame(results_openai)['score_context_relevance'])\n",
    "score_context_relevance_cohere = list(pl.DataFrame(results_cohere)['score_context_relevance'])"
   ]
  },
  {
   "cell_type": "code",
   "execution_count": 57,
   "id": "26965be5-84bc-4e54-8161-30fab1ea35a1",
   "metadata": {
    "tags": []
   },
   "outputs": [
    {
     "name": "stdout",
     "output_type": "stream",
     "text": [
      "Average Context Relevancy Score using OpenAI model: 0.51\n",
      "Average Context Relevancy Score using Embed v3 model: 0.59\n"
     ]
    }
   ],
   "source": [
    "print('Average Context Relevancy Score using OpenAI model:', sum(score_context_relevance_openai)/len(score_context_relevance_openai))\n",
    "print('Average Context Relevancy Score using Embed v3 model:', sum(score_context_relevance_cohere)/len(score_context_relevance_cohere))"
   ]
  },
  {
   "cell_type": "markdown",
   "id": "985602fb-59b1-4618-9533-ada56c76ca45",
   "metadata": {},
   "source": [
    "Empirically, this shows that the context retrieved from the Embed v3 model is of better quality in comparison to the OpenAI embedding model. "
   ]
  }
 ],
 "metadata": {
  "kernelspec": {
   "display_name": "Python 3 (ipykernel)",
   "language": "python",
   "name": "python3"
  },
  "language_info": {
   "codemirror_mode": {
    "name": "ipython",
    "version": 3
   },
   "file_extension": ".py",
   "mimetype": "text/x-python",
   "name": "python",
   "nbconvert_exporter": "python",
   "pygments_lexer": "ipython3",
   "version": "3.11.5"
  }
 },
 "nbformat": 4,
 "nbformat_minor": 5
}
