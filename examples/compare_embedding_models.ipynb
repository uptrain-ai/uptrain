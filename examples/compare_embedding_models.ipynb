{
 "cells": [
  {
   "cell_type": "markdown",
   "id": "8b63e5df",
   "metadata": {},
   "source": [
    "# Compare Embedding Models"
   ]
  },
  {
   "cell_type": "code",
   "execution_count": 17,
   "id": "a0cca6f7",
   "metadata": {},
   "outputs": [],
   "source": [
    "import json\n",
    "import pandas as pd\n",
    "import polars as pl\n",
    "\n",
    "from uptrain.operators import CsvReader, JsonReader\n",
    "from uptrain import Settings, EvalLLM, APIClient, Evals\n",
    "from uptrain.operators import VectorSearch"
   ]
  },
  {
   "cell_type": "code",
   "execution_count": 3,
   "id": "77e15d20",
   "metadata": {},
   "outputs": [],
   "source": [
    "settings = Settings()\n",
    "eval_client = EvalLLM(settings=settings)"
   ]
  },
  {
   "cell_type": "markdown",
   "id": "5459b1b7",
   "metadata": {},
   "source": [
    "## Define all the experiment parameters"
   ]
  },
  {
   "cell_type": "code",
   "execution_count": 4,
   "id": "230499ef",
   "metadata": {},
   "outputs": [],
   "source": [
    "embedding_models = ['MiniLM-L6-v2', 'mpnet-base-v2', 'all-distilroberta-v1']\n",
    "top_k = 5\n",
    "distance_metric = \"l2_distance\"  # \"cosine_similarity\"\n",
    "experiment_name = \"Embedding-Model-Experiment-v1\""
   ]
  },
  {
   "cell_type": "markdown",
   "id": "1ade3aed",
   "metadata": {},
   "source": [
    "## Read the queries and documents"
   ]
  },
  {
   "cell_type": "code",
   "execution_count": 5,
   "id": "08976aea",
   "metadata": {},
   "outputs": [],
   "source": [
    "queries = JsonReader(fpath=\"data/fiqa_queries_select.jsonl\").setup(settings).run()[\"output\"]\n",
    "documents = CsvReader(fpath=\"data/fiqa_documents_select.csv\").setup(settings).run()[\"output\"][\"document\"].to_list()"
   ]
  },
  {
   "cell_type": "markdown",
   "id": "7af459bf",
   "metadata": {},
   "source": [
    "## Retrieve the top k documents for each query"
   ]
  },
  {
   "cell_type": "code",
   "execution_count": null,
   "id": "944d858e",
   "metadata": {},
   "outputs": [],
   "source": [
    "top_k_documents = pl.DataFrame()\n",
    "\n",
    "for embedding_model in embedding_models:\n",
    "    results = VectorSearch(embeddings_model=embedding_model,\n",
    "                           top_k=top_k,\n",
    "                           col_in_query=\"question\",\n",
    "                           col_in_document=\"document\",\n",
    "                           documents=documents,\n",
    "                           distance_metric=distance_metric).setup(settings).run(queries)[\"output\"]\n",
    "    results = results.with_columns([pl.lit(embedding_model).alias(\"embedding_model\")])    \n",
    "    top_k_documents = pl.concat([top_k_documents, results])"
   ]
  },
  {
   "cell_type": "code",
   "execution_count": null,
   "id": "2a749c15",
   "metadata": {},
   "outputs": [],
   "source": [
    "settings = Settings(\n",
    "    uptrain_access_token=\"up-**********************\"\n",
    ")\n",
    "\n",
    "eval_client = APIClient(settings = settings)\n",
    "\n",
    "results = eval_client.evaluate_experiments(\n",
    "    experiment_name,\n",
    "    data = top_k_documents,\n",
    "    checks = [Evals.CONTEXT_RELEVANCE],\n",
    "    exp_columns = ['embedding_model'],\n",
    "    metadata = {\"uptrain_index_columns\": ['question', 'retrieval_rank']}\n",
    ")"
   ]
  }
 ],
 "metadata": {
  "kernelspec": {
   "display_name": "Python 3 (ipykernel)",
   "language": "python",
   "name": "python3"
  },
  "language_info": {
   "codemirror_mode": {
    "name": "ipython",
    "version": 3
   },
   "file_extension": ".py",
   "mimetype": "text/x-python",
   "name": "python",
   "nbconvert_exporter": "python",
   "pygments_lexer": "ipython3",
   "version": "3.11.7"
  }
 },
 "nbformat": 4,
 "nbformat_minor": 5
}
