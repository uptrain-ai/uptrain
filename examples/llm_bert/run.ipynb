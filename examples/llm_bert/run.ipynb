{
  "cells": [
    {
      "cell_type": "markdown",
      "id": "ed70a480-3686-4522-acee-ae48079579d2",
      "metadata": {
        "id": "ed70a480-3686-4522-acee-ae48079579d2"
      },
      "source": [
        "<h1 align=\"center\">\n",
        "  <a href=\"https://uptrain.ai\">\n",
        "    <img width=\"300\" src=\"https://user-images.githubusercontent.com/108270398/214240695-4f958b76-c993-4ddd-8de6-8668f4d0da84.png\" alt=\"uptrain\">\n",
        "  </a>\n",
        "</h1>"
      ]
    },
    {
      "cell_type": "markdown",
      "id": "c074abda-7ad0-4af1-a7b4-f5177213dae8",
      "metadata": {
        "id": "c074abda-7ad0-4af1-a7b4-f5177213dae8"
      },
      "source": [
        "<h1 style=\"text-align: center;\">Fine-tuning a Large-Language Model</h1>"
      ]
    },
    {
      "cell_type": "markdown",
      "id": "ba099da1",
      "metadata": {},
      "source": [
        "**Overview**: In this example, we will see how to fine-tune a large pre-trained language model such as BERT for the task of masked language modelling. Masked language modelling involves masking a certain percentage of tokens or words in a sentence and training the model to predict the masked tokens. Fine-tuning involves further training the pre-trained model on a specific task such as sentiment analysis or question-answering by adjusting the model's parameters to fit the specific task's requirements. We will use UpTrain to filter our dataset to make our data match specific conditions as defined in the problem statement.\n",
        "\n",
        "**Why is fine-tuning needed**: Pre-trained language models, such as GPT-2 and BERT, are trained on large amounts of text data, which makes them very powerful. However, they are trained on generic tasks and may not be optimized for specific tasks. Fine-tuning the pre-trained model on a specific task, such as sentiment analysis or question-answering, allows the model to adapt to the task's specific requirements, resulting in improved performance. This makes fine-tuning essential to achieve optimal results on a specific NLP task.\n",
        "\n",
        "**Problem**: In this example, we aim to generate positive sentiment predictions for a given text with masked words such as \"Nike shoes are very [MASK]\". The challenge is to ensure that the predicted words have a positive connotation, such as \"Comfortable\", \"Durable\", or \"Good-looking\". Conversely, negative sentiment words like \"Expensive\", \"Ugly\", or \"Dirty\" must not be predicted, as they may lead to inaccurate or undesired results. Thus, the goal is to achieve accurate predictions of masked words with a positive sentiment, while avoiding negative sentiment predictions that could affect the overall performance of the model.\n",
        "\n",
        "**Solution**: We will be using UpTrain framework, which provides an easy-to-use technique for defining customized signals that make the process of data filtering less tedious. Data Integrity checks can also be applied to remove null-valued data. We make use of 🤗 Trainer API to perform fine-tuning on our pretrained model"
      ]
    },
    {
      "cell_type": "markdown",
      "id": "c2f34304-dc81-4fd9-94dc-a7dfc371673a",
      "metadata": {
        "id": "c2f34304-dc81-4fd9-94dc-a7dfc371673a"
      },
      "source": [
        "#### Install Required packages\n",
        "\n",
        "- [PyTorch](https://pytorch.org/get-started/locally/): Deep learning framework.\n",
        "- Hugging Face Transformers(https://huggingface.co/docs/transformers/installation): To use pretrained state-of-the-art models.\n",
        "- [Hugging Face Datasets](https://pypi.org/project/datasets/): Use public Hugging Face datasets\n",
        "- [IPywidgets](https://ipywidgets.readthedocs.io/en/stable/user_install.html): For interactive notebook widgets"
      ]
    },
    {
      "cell_type": "code",
      "execution_count": null,
      "id": "52468837-a2f1-4531-bef5-b95276db6b82",
      "metadata": {
        "colab": {
          "base_uri": "https://localhost:8080/"
        },
        "id": "52468837-a2f1-4531-bef5-b95276db6b82",
        "outputId": "aea3faa7-f966-42e3-c6aa-6087df615765",
        "tags": []
      },
      "outputs": [],
      "source": [
        "!pip install torch 'transformers[torch]' datasets ipywidgets nltk matplotlib==3.6.0 seaborn uptrain"
      ]
    },
    {
      "cell_type": "markdown",
      "id": "f19aecf5",
      "metadata": {
        "id": "f19aecf5"
      },
      "source": [
        "#### Import all required libraries"
      ]
    },
    {
      "cell_type": "code",
      "execution_count": null,
      "id": "f61005f8-27ae-4a7a-a190-fe5f335821cb",
      "metadata": {
        "colab": {
          "base_uri": "https://localhost:8080/"
        },
        "id": "f61005f8-27ae-4a7a-a190-fe5f335821cb",
        "outputId": "17ee8f0a-d80f-4752-91ae-c9e1346c120f",
        "tags": []
      },
      "outputs": [],
      "source": [
        "import json\n",
        "import nltk\n",
        "import torch\n",
        "import torchview\n",
        "import transformers\n",
        "import uptrain\n",
        "import numpy as np\n",
        "import pandas as pd\n",
        "import matplotlib.pyplot as plt\n",
        "import seaborn as sns\n",
        "\n",
        "from nltk.sentiment.vader import SentimentIntensityAnalyzer\n",
        "from transformers import (\n",
        "    AutoModelForMaskedLM, AutoTokenizer,\n",
        "    pipeline\n",
        ")\n",
        "\n",
        "from model_constants import *\n",
        "from helper_funcs import (\n",
        "    top_k_tokens, create_sample_dataset, create_dataset_from_csv,\n",
        "    get_loss_history, get_perplexities\n",
        ")\n",
        "from model_train import (\n",
        "    get_model_and_tokenizer, retrain_model\n",
        ")\n",
        "\n",
        "\n",
        "transformers.logging.set_verbosity_error()\n",
        "nltk.download('vader_lexicon')"
      ]
    },
    {
      "cell_type": "markdown",
      "id": "2ce374a2",
      "metadata": {},
      "source": [
        "#### Model and Testing Data Setup"
      ]
    },
    {
      "cell_type": "markdown",
      "id": "e3753482-afaf-4210-8a3e-d4fb8a325ce2",
      "metadata": {
        "id": "e3753482-afaf-4210-8a3e-d4fb8a325ce2"
      },
      "source": [
        "Define few cases to test our model performance before and after retraining."
      ]
    },
    {
      "cell_type": "code",
      "execution_count": 10,
      "id": "e3c59113-37e7-4245-8dc5-3e3d03bcdad6",
      "metadata": {
        "id": "e3c59113-37e7-4245-8dc5-3e3d03bcdad6",
        "tags": []
      },
      "outputs": [],
      "source": [
        "testing_texts = [\n",
        "    \"Nike shoes are very [MASK]\",\n",
        "    \"Nike atheletic wear is known for being very [MASK]\",\n",
        "    \"Nike [MASK] shoes are very comfortable\",\n",
        "    \"Trousers and Hoodies made by [MASK] are not very expensive\",\n",
        "    \"Nike tshirts are famous for being [MASK]\"\n",
        "]"
      ]
    },
    {
      "cell_type": "markdown",
      "id": "df332b98",
      "metadata": {
        "id": "df332b98"
      },
      "source": [
        "Initialize the model and tokenizer from the distilbert-base-uncased model"
      ]
    },
    {
      "cell_type": "code",
      "execution_count": null,
      "id": "94a9e506",
      "metadata": {
        "colab": {
          "base_uri": "https://localhost:8080/"
        },
        "id": "94a9e506",
        "outputId": "e7a01b5d-6099-4f58-866c-c37231bdabd4"
      },
      "outputs": [],
      "source": [
        "model, tokenizer = get_model_and_tokenizer(model_checkpoint)"
      ]
    },
    {
      "cell_type": "markdown",
      "id": "644e2353",
      "metadata": {
        "id": "644e2353"
      },
      "source": [
        "Let's visualize the model structure to understand the complexity behind these large language models"
      ]
    },
    {
      "cell_type": "markdown",
      "id": "3b1cf953",
      "metadata": {
        "id": "3b1cf953"
      },
      "source": [
        "Take a look at the outputs of the vanilla distilbert-base-uncased model on predicting the outputs for the masked sentence:\n",
        "\n",
        "\"Nike shoes are very [MASK]\"\n",
        "\n",
        "Notice that we get the output \"expensive\" among the top 5 predictions. We want to fine-tune the model so that the predicted words form sentences that have a positive sentiment."
      ]
    },
    {
      "cell_type": "code",
      "execution_count": 12,
      "id": "8d6e1263-e704-4de2-af99-507ea68125fd",
      "metadata": {
        "colab": {
          "base_uri": "https://localhost:8080/"
        },
        "id": "8d6e1263-e704-4de2-af99-507ea68125fd",
        "outputId": "18435432-9ddd-455e-a37d-190d21b47ccd",
        "tags": []
      },
      "outputs": [
        {
          "name": "stdout",
          "output_type": "stream",
          "text": [
            "      Text: Nike shoes are very [MASK]\n",
            "Top tokens: ['popular', 'durable', 'expensive', 'comfortable', 'fashionable', 'attractive', 'common', 'effective', 'versatile', 'valuable']\n"
          ]
        }
      ],
      "source": [
        "original_model_outputs = [top_k_tokens(model, tokenizer, text, k=10) for text in testing_texts]\n",
        "print('      Text:', testing_texts[0])\n",
        "print('Top tokens:', original_model_outputs[0])"
      ]
    },
    {
      "cell_type": "markdown",
      "id": "f1c62855",
      "metadata": {
        "id": "f1c62855"
      },
      "source": [
        "#### Dataset Usage/Synthesis\n",
        "\n",
        "For this task, we can use datasets that are available online, synthesize our own datasets or use a combination of the two. To demonstrate the functionality of UpTrain, synthesizing our own dataset will do.\n",
        "\n",
        "In the dataset synthesis, we generate two forms of sentences that we want to fine-tune the model on. Refer to the function definition of `create_sample_dataset`. Note that some sentences that will be formed may not make complete sense but that is not very relevant."
      ]
    },
    {
      "cell_type": "code",
      "execution_count": 13,
      "id": "e43b6718",
      "metadata": {
        "colab": {
          "base_uri": "https://localhost:8080/"
        },
        "id": "e43b6718",
        "outputId": "68c7876d-f1cd-4a32-f942-96439d383b77"
      },
      "outputs": [
        {
          "name": "stdout",
          "output_type": "stream",
          "text": [
            "Dataset size: 25000\n",
            "                                                    text  label\n",
            "0                            nike trainers provide style      1\n",
            "1                 nike basketball shoes feature inferior      0\n",
            "2               training shoes made by asics offer heavy      0\n",
            "3      socks made by under armour are famous for bein...      1\n",
            "4      trousers made by reebok are recognized for bei...      0\n",
            "...                                                  ...    ...\n",
            "24995     nike gym wear are recognized for being quality      1\n",
            "24996              reebok performance gear is innovative      1\n",
            "24997         nike tshirts are renowned for being faulty      0\n",
            "24998          nike training shoes feature breathability      1\n",
            "24999  training shoes made by converse feature flexib...      1\n",
            "\n",
            "[25000 rows x 2 columns]\n"
          ]
        }
      ],
      "source": [
        "SYNTHESIZED_DATASET_SIZE = 25000\n",
        "uptrain_save_fold_name = \"uptrain_smart_data_bert\"\n",
        "synthesized_data_csv = 'data.csv'\n",
        "synthesized_data_json = 'data.json'\n",
        "\n",
        "# Create our own dataset of reviews for different companies, products, etc.\n",
        "dataset = create_sample_dataset(SYNTHESIZED_DATASET_SIZE)\n",
        "df = pd.DataFrame(dataset['data'])\n",
        "df.reset_index(drop=True, inplace=True)\n",
        "\n",
        "print(f'Dataset size: {len(df)}')\n",
        "print(df)\n",
        "\n",
        "df.to_csv(synthesized_data_csv)\n",
        "create_dataset_from_csv(synthesized_data_csv, 'text', synthesized_data_json)\n",
        "\n",
        "with open(synthesized_data_json) as file:\n",
        "    dataset = json.loads(file.read())"
      ]
    },
    {
      "cell_type": "markdown",
      "id": "8c6a89ef",
      "metadata": {},
      "source": [
        "#### UpTrain Initialization and Retraining Dataset Generation"
      ]
    },
    {
      "cell_type": "markdown",
      "id": "3ce7ec0c",
      "metadata": {
        "id": "3ce7ec0c"
      },
      "source": [
        "Define helper functions that UpTrain will use to detect edge cases which the model will fine-tune on instead of using the entire dataset.\n",
        "\n",
        "- `nike_text_present_func`: Checks for the existence of \"nike\" in a sentence\n",
        "- `nike_product_keyword_func`: Checks if the sentence contains a product that is manufactured by Nike\n",
        "- `is_positive_sentiment_func`: Checks if a sentence has positive sentiment"
      ]
    },
    {
      "cell_type": "code",
      "execution_count": 14,
      "id": "6ee2ba01",
      "metadata": {
        "id": "6ee2ba01"
      },
      "outputs": [],
      "source": [
        "vader_sia = SentimentIntensityAnalyzer()\n",
        "\n",
        "def nike_text_present_func (inputs, outputs, gts=None, extra_args={}):\n",
        "    is_present = []\n",
        "    for text in inputs[\"text\"]:\n",
        "        text = text.lower()\n",
        "        is_present.append(bool(\"nike\" in text))\n",
        "    return is_present\n",
        "\n",
        "def nike_product_keyword_func (inputs, outputs, gts=None, extra_args={}):\n",
        "    is_present = []\n",
        "    for text in inputs[\"text\"]:\n",
        "        text = text.lower()\n",
        "        is_present.append(any(word in text for word in PRODUCTS))\n",
        "    return is_present\n",
        "\n",
        "def is_positive_sentiment_func (inputs, outputs, gts=None, extra_args={}):\n",
        "    is_positive = []\n",
        "    for text in inputs[\"text\"]:\n",
        "        text = text.lower()\n",
        "        if vader_sia.polarity_scores(text)[\"compound\"] < 0:\n",
        "            is_positive.append(False)\n",
        "            continue\n",
        "        is_positive.append(any(word in text for word in POSITIVE_SENTIMENT_ADJECTIVES))\n",
        "    return is_positive"
      ]
    },
    {
      "cell_type": "markdown",
      "id": "b876c0f9",
      "metadata": {
        "id": "b876c0f9"
      },
      "source": [
        "Define the UpTrain Framework configuration"
      ]
    },
    {
      "cell_type": "code",
      "execution_count": 15,
      "id": "d9edc5da-8366-4c55-93a7-4601c89c9970",
      "metadata": {
        "id": "d9edc5da-8366-4c55-93a7-4601c89c9970",
        "tags": []
      },
      "outputs": [],
      "source": [
        "cfg = {\n",
        "    'checks': [\n",
        "        {\n",
        "            \"type\": uptrain.Anomaly.EDGE_CASE,\n",
        "            \"signal_formulae\": \\\n",
        "                uptrain.Signal(\"Is 'Nike' text present?\", nike_text_present_func) &\n",
        "                uptrain.Signal(\"Is it a Nike product?\", nike_product_keyword_func) &\n",
        "                uptrain.Signal(\"Is positive sentiment?\", is_positive_sentiment_func)\n",
        "        },\n",
        "\n",
        "        {\n",
        "            \"type\": uptrain.Anomaly.DATA_INTEGRITY,\n",
        "            \"measurable_args\": {\n",
        "                \"type\": uptrain.MeasurableType.INPUT_FEATURE,\n",
        "                \"feature_name\": \"text\"\n",
        "            },\n",
        "            \"integrity_type\": \"non_null\"\n",
        "        }\n",
        "    ],\n",
        "\n",
        "    # Define where to save the retraining dataset\n",
        "    \"retraining_folder\": uptrain_save_fold_name,\n",
        "    \n",
        "    # Define when to retrain, define a large number because we\n",
        "    # are not retraining yet\n",
        "    \"retrain_after\": 10000000000,\n",
        "\n",
        "    \"st_logging\": True\n",
        "}\n",
        "\n",
        "dashboard_name = \"llm_bert_example\"\n",
        "framework = uptrain.Framework(cfg)"
      ]
    },
    {
      "cell_type": "markdown",
      "id": "335004bc",
      "metadata": {
        "id": "335004bc"
      },
      "source": [
        "Filter out the data that we want to specifically fine-tune on as defined by the configuration provided above"
      ]
    },
    {
      "cell_type": "code",
      "execution_count": null,
      "id": "948d6c9b",
      "metadata": {
        "colab": {
          "base_uri": "https://localhost:8080/"
        },
        "id": "948d6c9b",
        "outputId": "04741fb2-f88a-4495-e9d0-3f538cfccbbc"
      },
      "outputs": [],
      "source": [
        "for index, sample in enumerate(dataset['data']):\n",
        "    if index % 500 == 0:\n",
        "        print(f'Processed {index} samples')\n",
        "    inputs = {'text': [sample['text']]}\n",
        "    framework.log(inputs = inputs, outputs = None)\n",
        "\n",
        "retraining_csv = uptrain_save_fold_name + '/1/smart_data.csv'\n",
        "retraining_json = 'retrain_dataset.json'\n",
        "create_dataset_from_csv(retraining_csv, 'text', retraining_json)"
      ]
    },
    {
      "cell_type": "markdown",
      "id": "9bb3d07d",
      "metadata": {},
      "source": [
        "#### Finetune the Model"
      ]
    },
    {
      "cell_type": "code",
      "execution_count": null,
      "id": "4ca07a1b",
      "metadata": {
        "colab": {
          "base_uri": "https://localhost:8080/",
          "height": 1000,
          "referenced_widgets": [
            "7f1a75ed89d845449d25067ad4532e6b",
            "1be515e50932438a823d344b832f5263",
            "762a7e173d184f7f8ff92f44e5383270",
            "f95bd27ffb63472c8aeaa155775d28c6",
            "826581d80b97427e86b7a63524fc91c5",
            "ab153fb5c4c74c35a21ded348959f51a",
            "17e08e2bdd424b96821eb956f228e74c",
            "dd7d8eb5d1574396b204e3128cbfbbb5",
            "78a0912781cf45e1afb78f3e035e1ccc",
            "b6037af2cc7e4d01b6eacef9c88995d9",
            "b1de889b511a491fb3d05d0d941c955e",
            "d5228f26dac74073aa974e6af22c970f",
            "96dab229a14640c29300d8b18a2e00ef",
            "68dc5682789349118c41f07f3e54a5fb",
            "bccb84a8e215421c890136439129ae8b",
            "5d10335a6a2c4129818e7cb0d8f8ea26",
            "e80b9fdaaa984589930279fc63f25c91",
            "5227e546d65b47139044da1f99af997f",
            "acdc47b89e8f430d9546f16694d70969",
            "e2aedf9cf9b84d52a67d32e210e1eed2",
            "3d207e2fcb114978a5e5b4a6c5069ea9",
            "8fc769b656ac473b810bb3eb99acd72a",
            "ce777b67492f408795b7e2be96850255",
            "6c8b5a31d43e42228522002c599e9041",
            "404527decf5c42e4bd60b19348244848",
            "c2b892a5e82646bea0b62f70eb50b6c1",
            "8a969da3d6a14ceab8af7ed40f2eb150",
            "c07a3d130d0d4d69bac1e32c83c5fcf8",
            "a503984619c048fb913d65783280bc49",
            "c65770583fc44e5c94cf5fdad7f98673",
            "8bfdc62e892c492cab5b7162e5539333",
            "edd3681eb4c0431caa6ad29a10241a37",
            "17dd30c8cfab4231a1053d3c9b46daae",
            "d8c88181bbea4d9d90ae0bdb680fa21f",
            "8fcb0e7f52d7471cbe1a663ab8edff12",
            "d46b1e97dd62452bbada8cd1428fb276",
            "615b25fec3f74a728034eb6be94122f8",
            "b5f7cdd757ee4a2aa10bf1221b03e7e4",
            "301066a6ec9b4fdc98620803cbffdb60",
            "fa5d2a3c97df43c493d29c3635b6af9f",
            "c06e3b17654f4c3c96af8b230d478a59",
            "0fd2d958c7be487ba5c6c0816443118b",
            "a74f4a4d5c014b4ebd2e74b1cf012ea1",
            "f895269f463741649822605870527781",
            "a1ffcdc7531444279024f44400c18d78",
            "4dea5da539d54bbab203a9ce86aa8c34",
            "68cbd23e1c464bdd9776b91403c6ec9c",
            "8702f94210854b6dbf283bdd03cb4adb",
            "c1c178c6c9ba487896f02414836e6334",
            "9c72412933384dd1a1b8f85c3142ea34",
            "0998cd82213a4171aaa574190f98a6be",
            "0a4bdf1d7bec4a0f8b381be170fc396d",
            "562df764a75f44c38bf6707821cc3d7e",
            "b70c0fc961a4496fb96abb8def251aa4",
            "09b8e7d8526e4c41ae918feac46e8923",
            "77a61e7b6635413b94f04cf853901121",
            "9af696cc101f4d18a1701cd6f73f12a7",
            "2402f2fc22b7479890c02788940eeea6",
            "74373c85eebc4b8ab2f187fef49bb1ed",
            "fcd979fc7a2b4e2da07354fbdd1bb9fe",
            "3fb0425ec84841fb91b065401f01ed32",
            "2e3ca51daa504b61ac370676138b27df",
            "323ae6e0b7b346fc98fe912f686a363c",
            "e08dc63d09554c23ada894e4dec0dd23",
            "2685831ce4d74607b171a60730b2e799",
            "5c033e044b434dc0834f4dfd9c614853"
          ]
        },
        "id": "4ca07a1b",
        "outputId": "2c5db5f0-7aa4-4704-b9ac-9a86384963cf"
      },
      "outputs": [],
      "source": [
        "trainer, _, _, _ = retrain_model(model, retraining_json, num_train_epochs=8)"
      ]
    },
    {
      "cell_type": "code",
      "execution_count": 20,
      "id": "648ef206",
      "metadata": {
        "colab": {
          "base_uri": "https://localhost:8080/"
        },
        "id": "648ef206",
        "outputId": "9030a6dd-0714-4c37-d014-7e1bdcd3f447"
      },
      "outputs": [
        {
          "name": "stdout",
          "output_type": "stream",
          "text": [
            "                Text: Nike shoes are very [MASK]\n",
            " Original Top tokens: ['popular', 'durable', 'expensive', 'comfortable', 'fashionable']\n",
            "Retrained Top tokens: ['durable', 'flexible', 'comfortable', 'lightweight', 'efficient']\n",
            "\n",
            "                Text: Nike atheletic wear is known for being very [MASK]\n",
            " Original Top tokens: ['durable', 'expensive', 'popular', 'fashionable', 'rare']\n",
            "Retrained Top tokens: ['durable', 'lightweight', 'flexible', 'efficient', 'fashionable']\n",
            "\n",
            "                Text: Nike [MASK] shoes are very comfortable\n",
            " Original Top tokens: ['polo', 'golf', 'swim', 'tennis', 'nike']\n",
            "Retrained Top tokens: ['basketball', 'soccer', 'training', 'running', 'football']\n",
            "\n",
            "                Text: Trousers and Hoodies made by [MASK] are not very expensive\n",
            " Original Top tokens: ['women', 'manufacturers', 'men', 'amateurs', 'slaves']\n",
            "Retrained Top tokens: ['nike', 'bmw', 'honda', 'shoes', 'lego']\n",
            "\n",
            "                Text: Nike tshirts are famous for being [MASK]\n",
            " Original Top tokens: ['.', ':', ';', 'colorful', 'unique']\n",
            "Retrained Top tokens: ['lightweight', 'flexible', 'traction', 'durable', 'comfortable']\n",
            "\n"
          ]
        }
      ],
      "source": [
        "retrained_model_outputs = [top_k_tokens(model, tokenizer, text) for text in testing_texts]\n",
        "\n",
        "for i in range(len(testing_texts)):\n",
        "    print('                Text:', testing_texts[i])\n",
        "    print(' Original Top tokens:', original_model_outputs[i][:5])\n",
        "    print('Retrained Top tokens:', retrained_model_outputs[i][:5])\n",
        "    print()"
      ]
    },
    {
      "cell_type": "markdown",
      "id": "PLJACbZPEbXH",
      "metadata": {
        "id": "PLJACbZPEbXH"
      },
      "source": [
        "We can see from the above output that the model is doing much better at predicting masked words that have positive sentiment associated with them.\n",
        "\n",
        "In the first example, we see that the model no longer predicts masked words such as \"expensive\" among its top 5 predictions, which is exactly what we want!\n",
        "\n",
        "An interesting case to look at is the predictions for example 3. We no longer have swim shoes! 😂"
      ]
    },
    {
      "cell_type": "markdown",
      "id": "3d9242d8",
      "metadata": {},
      "source": [
        "#### Visualizing Loss, Perplexity and Mask Prediction Confidence"
      ]
    },
    {
      "cell_type": "markdown",
      "id": "f8d5d759",
      "metadata": {
        "id": "f8d5d759"
      },
      "source": [
        "We can create plots for visualizing training/validation loss and perplexity. We can also plot bar charts to visualize the scores of each predicted masked word (higher scores denote higher confidence of the model at respective mask guesses). Here, we plot confidence scores of the Top 10 predictions of the model for each of the chosen testing sentences."
      ]
    },
    {
      "cell_type": "code",
      "execution_count": 21,
      "id": "cFcsbhbiwqMZ",
      "metadata": {
        "id": "cFcsbhbiwqMZ"
      },
      "outputs": [],
      "source": [
        "(training_loss_steps, training_loss_history), (eval_loss_steps, eval_loss_history) = get_loss_history(trainer.state.log_history)\n",
        "perplexities = get_perplexities(eval_loss_history)"
      ]
    },
    {
      "cell_type": "code",
      "execution_count": 39,
      "id": "kQuzAfMk_tc5",
      "metadata": {
        "colab": {
          "base_uri": "https://localhost:8080/",
          "height": 433
        },
        "id": "kQuzAfMk_tc5",
        "outputId": "797aecb7-2d9f-4548-caab-33791fd792da"
      },
      "outputs": [
        {
          "data": {
            "image/png": "[encoded data removed]",
            "text/plain": [
              "<Figure size 720x432 with 1 Axes>"
            ]
          },
          "metadata": {},
          "output_type": "display_data"
        }
      ],
      "source": [
        "plt.rcParams['figure.figsize'] = (10, 6)\n",
        "sns.set_theme(style='white')\n",
        "\n",
        "with plt.style.context('fivethirtyeight'):\n",
        "    plt.title('Loss over Time', fontsize = 20)\n",
        "    plt.xlabel('Steps')\n",
        "    plt.ylabel('Loss')\n",
        "\n",
        "    training_color = 'green'\n",
        "    validation_color = 'red'\n",
        "    plt.plot(training_loss_steps, training_loss_history, label = 'Training', color = training_color)\n",
        "    plt.plot(eval_loss_steps, eval_loss_history, label = 'Validation', color = validation_color)\n",
        "\n",
        "    plt.legend()\n",
        "    plt.tight_layout()\n",
        "    plt.savefig('loss_over_time.png')\n",
        "    plt.show()"
      ]
    },
    {
      "cell_type": "code",
      "execution_count": 40,
      "id": "v9y29JtgBGWX",
      "metadata": {
        "colab": {
          "base_uri": "https://localhost:8080/",
          "height": 433
        },
        "id": "v9y29JtgBGWX",
        "outputId": "a5ee8226-9f1e-4f66-a3a8-2e2ee9c2d9f0"
      },
      "outputs": [
        {
          "data": {
            "image/png": "[encoded data removed]",
            "text/plain": [
              "<Figure size 720x432 with 1 Axes>"
            ]
          },
          "metadata": {},
          "output_type": "display_data"
        }
      ],
      "source": [
        "with plt.style.context('fivethirtyeight'):\n",
        "    plt.title('Perplexity over Time', fontsize = 20)\n",
        "    plt.xlabel('Steps')\n",
        "    plt.ylabel('Perplexity')\n",
        "\n",
        "    perplexity_color = 'purple'\n",
        "    plt.plot(eval_loss_steps, perplexities, label = 'Perplexity', color = perplexity_color)\n",
        "\n",
        "    plt.legend()\n",
        "    plt.tight_layout()\n",
        "    plt.savefig('perplexity_over_time.png')\n",
        "    plt.show()"
      ]
    },
    {
      "cell_type": "code",
      "execution_count": 41,
      "id": "UtjfJIQXDOSy",
      "metadata": {
        "id": "UtjfJIQXDOSy"
      },
      "outputs": [],
      "source": [
        "model.to('cpu')\n",
        "unmasker = pipeline('fill-mask', model = model, tokenizer = tokenizer, top_k = 1000)\n",
        "token_scores = []\n",
        "\n",
        "for text in testing_texts:\n",
        "  values = unmasker(text)\n",
        "  token_scores.append(values[:10])"
      ]
    },
    {
      "cell_type": "code",
      "execution_count": 42,
      "id": "QuVYJlnZGCGr",
      "metadata": {
        "colab": {
          "base_uri": "https://localhost:8080/",
          "height": 1000
        },
        "id": "QuVYJlnZGCGr",
        "outputId": "268b348d-4397-4e06-df9e-96614cc603de"
      },
      "outputs": [
        {
          "data": {
            "image/png": "[encoded data removed]",
            "text/plain": [
              "<Figure size 720x432 with 1 Axes>"
            ]
          },
          "metadata": {},
          "output_type": "display_data"
        },
        {
          "name": "stdout",
          "output_type": "stream",
          "text": [
            "\n",
            "\n"
          ]
        },
        {
          "data": {
            "image/png": "[encoded data removed]",
            "text/plain": [
              "<Figure size 720x432 with 1 Axes>"
            ]
          },
          "metadata": {},
          "output_type": "display_data"
        },
        {
          "name": "stdout",
          "output_type": "stream",
          "text": [
            "\n",
            "\n"
          ]
        },
        {
          "data": {
            "image/png": "[encoded data removed]",
            "text/plain": [
              "<Figure size 720x432 with 1 Axes>"
            ]
          },
          "metadata": {},
          "output_type": "display_data"
        },
        {
          "name": "stdout",
          "output_type": "stream",
          "text": [
            "\n",
            "\n"
          ]
        },
        {
          "data": {
            "image/png": "[encoded data removed]",
            "text/plain": [
              "<Figure size 720x432 with 1 Axes>"
            ]
          },
          "metadata": {},
          "output_type": "display_data"
        },
        {
          "name": "stdout",
          "output_type": "stream",
          "text": [
            "\n",
            "\n"
          ]
        },
        {
          "data": {
            "image/png": "[encoded data removed]",
            "text/plain": [
              "<Figure size 720x432 with 1 Axes>"
            ]
          },
          "metadata": {},
          "output_type": "display_data"
        },
        {
          "name": "stdout",
          "output_type": "stream",
          "text": [
            "\n",
            "\n"
          ]
        }
      ],
      "source": [
        "for index in range(len(testing_texts)):\n",
        "    df = pd.DataFrame(token_scores[index])\n",
        "\n",
        "    plt.suptitle(f'Best and Worst mask prediction for \"{testing_texts[index]}\"', fontsize = 16)\n",
        "\n",
        "    ax = sns.barplot(data = df, x = 'token_str', y = 'score')\n",
        "    ax.set_xticklabels(ax.get_xticklabels(), rotation = 80, ha = 'center')\n",
        "    ax.grid(True)\n",
        "    ax.set_xlabel('Token String', fontsize = 14)\n",
        "    ax.set_ylabel('Score', fontsize = 14)\n",
        "\n",
        "    plt.tight_layout()\n",
        "    plt.savefig(testing_texts[index].replace(' ', '-').replace('[', '').replace(']', '').lower() + '.png')\n",
        "    plt.show()\n",
        "    print('\\n')"
      ]
    },
    {
      "cell_type": "code",
      "execution_count": null,
      "id": "QCJFFulBGhoR",
      "metadata": {
        "id": "QCJFFulBGhoR"
      },
      "outputs": [],
      "source": []
    }
  ],
  "metadata": {
    "accelerator": "GPU",
    "colab": {
      "provenance": []
    },
    "gpuClass": "standard",
    "kernelspec": {
      "display_name": "Python 3 (ipykernel)",
      "language": "python",
      "name": "python3"
    },
    "language_info": {
      "codemirror_mode": {
        "name": "ipython",
        "version": 3
      },
      "file_extension": ".py",
      "mimetype": "text/x-python",
      "name": "python",
      "nbconvert_exporter": "python",
      "pygments_lexer": "ipython3",
      "version": "3.10.6"
    },
    "widgets": {
      "application/vnd.jupyter.widget-state+json": {
        "0998cd82213a4171aaa574190f98a6be": {
          "model_module": "@jupyter-widgets/controls",
          "model_module_version": "1.5.0",
          "model_name": "DescriptionStyleModel",
          "state": {
            "_model_module": "@jupyter-widgets/controls",
            "_model_module_version": "1.5.0",
            "_model_name": "DescriptionStyleModel",
            "_view_count": null,
            "_view_module": "@jupyter-widgets/base",
            "_view_module_version": "1.2.0",
            "_view_name": "StyleView",
            "description_width": ""
          }
        },
        "09b8e7d8526e4c41ae918feac46e8923": {
          "model_module": "@jupyter-widgets/controls",
          "model_module_version": "1.5.0",
          "model_name": "DescriptionStyleModel",
          "state": {
            "_model_module": "@jupyter-widgets/controls",
            "_model_module_version": "1.5.0",
            "_model_name": "DescriptionStyleModel",
            "_view_count": null,
            "_view_module": "@jupyter-widgets/base",
            "_view_module_version": "1.2.0",
            "_view_name": "StyleView",
            "description_width": ""
          }
        },
        "0a4bdf1d7bec4a0f8b381be170fc396d": {
          "model_module": "@jupyter-widgets/base",
          "model_module_version": "1.2.0",
          "model_name": "LayoutModel",
          "state": {
            "_model_module": "@jupyter-widgets/base",
            "_model_module_version": "1.2.0",
            "_model_name": "LayoutModel",
            "_view_count": null,
            "_view_module": "@jupyter-widgets/base",
            "_view_module_version": "1.2.0",
            "_view_name": "LayoutView",
            "align_content": null,
            "align_items": null,
            "align_self": null,
            "border": null,
            "bottom": null,
            "display": null,
            "flex": null,
            "flex_flow": null,
            "grid_area": null,
            "grid_auto_columns": null,
            "grid_auto_flow": null,
            "grid_auto_rows": null,
            "grid_column": null,
            "grid_gap": null,
            "grid_row": null,
            "grid_template_areas": null,
            "grid_template_columns": null,
            "grid_template_rows": null,
            "height": null,
            "justify_content": null,
            "justify_items": null,
            "left": null,
            "margin": null,
            "max_height": null,
            "max_width": null,
            "min_height": null,
            "min_width": null,
            "object_fit": null,
            "object_position": null,
            "order": null,
            "overflow": null,
            "overflow_x": null,
            "overflow_y": null,
            "padding": null,
            "right": null,
            "top": null,
            "visibility": null,
            "width": null
          }
        },
        "0fd2d958c7be487ba5c6c0816443118b": {
          "model_module": "@jupyter-widgets/controls",
          "model_module_version": "1.5.0",
          "model_name": "ProgressStyleModel",
          "state": {
            "_model_module": "@jupyter-widgets/controls",
            "_model_module_version": "1.5.0",
            "_model_name": "ProgressStyleModel",
            "_view_count": null,
            "_view_module": "@jupyter-widgets/base",
            "_view_module_version": "1.2.0",
            "_view_name": "StyleView",
            "bar_color": null,
            "description_width": ""
          }
        },
        "17dd30c8cfab4231a1053d3c9b46daae": {
          "model_module": "@jupyter-widgets/controls",
          "model_module_version": "1.5.0",
          "model_name": "DescriptionStyleModel",
          "state": {
            "_model_module": "@jupyter-widgets/controls",
            "_model_module_version": "1.5.0",
            "_model_name": "DescriptionStyleModel",
            "_view_count": null,
            "_view_module": "@jupyter-widgets/base",
            "_view_module_version": "1.2.0",
            "_view_name": "StyleView",
            "description_width": ""
          }
        },
        "17e08e2bdd424b96821eb956f228e74c": {
          "model_module": "@jupyter-widgets/controls",
          "model_module_version": "1.5.0",
          "model_name": "DescriptionStyleModel",
          "state": {
            "_model_module": "@jupyter-widgets/controls",
            "_model_module_version": "1.5.0",
            "_model_name": "DescriptionStyleModel",
            "_view_count": null,
            "_view_module": "@jupyter-widgets/base",
            "_view_module_version": "1.2.0",
            "_view_name": "StyleView",
            "description_width": ""
          }
        },
        "1be515e50932438a823d344b832f5263": {
          "model_module": "@jupyter-widgets/controls",
          "model_module_version": "1.5.0",
          "model_name": "HTMLModel",
          "state": {
            "_dom_classes": [],
            "_model_module": "@jupyter-widgets/controls",
            "_model_module_version": "1.5.0",
            "_model_name": "HTMLModel",
            "_view_count": null,
            "_view_module": "@jupyter-widgets/controls",
            "_view_module_version": "1.5.0",
            "_view_name": "HTMLView",
            "description": "",
            "description_tooltip": null,
            "layout": "IPY_MODEL_ab153fb5c4c74c35a21ded348959f51a",
            "placeholder": "​",
            "style": "IPY_MODEL_17e08e2bdd424b96821eb956f228e74c",
            "value": "Downloading data files: 100%"
          }
        },
        "2402f2fc22b7479890c02788940eeea6": {
          "model_module": "@jupyter-widgets/controls",
          "model_module_version": "1.5.0",
          "model_name": "FloatProgressModel",
          "state": {
            "_dom_classes": [],
            "_model_module": "@jupyter-widgets/controls",
            "_model_module_version": "1.5.0",
            "_model_name": "FloatProgressModel",
            "_view_count": null,
            "_view_module": "@jupyter-widgets/controls",
            "_view_module_version": "1.5.0",
            "_view_name": "ProgressView",
            "bar_style": "",
            "description": "",
            "description_tooltip": null,
            "layout": "IPY_MODEL_323ae6e0b7b346fc98fe912f686a363c",
            "max": 7081,
            "min": 0,
            "orientation": "horizontal",
            "style": "IPY_MODEL_e08dc63d09554c23ada894e4dec0dd23",
            "value": 7081
          }
        },
        "2685831ce4d74607b171a60730b2e799": {
          "model_module": "@jupyter-widgets/base",
          "model_module_version": "1.2.0",
          "model_name": "LayoutModel",
          "state": {
            "_model_module": "@jupyter-widgets/base",
            "_model_module_version": "1.2.0",
            "_model_name": "LayoutModel",
            "_view_count": null,
            "_view_module": "@jupyter-widgets/base",
            "_view_module_version": "1.2.0",
            "_view_name": "LayoutView",
            "align_content": null,
            "align_items": null,
            "align_self": null,
            "border": null,
            "bottom": null,
            "display": null,
            "flex": null,
            "flex_flow": null,
            "grid_area": null,
            "grid_auto_columns": null,
            "grid_auto_flow": null,
            "grid_auto_rows": null,
            "grid_column": null,
            "grid_gap": null,
            "grid_row": null,
            "grid_template_areas": null,
            "grid_template_columns": null,
            "grid_template_rows": null,
            "height": null,
            "justify_content": null,
            "justify_items": null,
            "left": null,
            "margin": null,
            "max_height": null,
            "max_width": null,
            "min_height": null,
            "min_width": null,
            "object_fit": null,
            "object_position": null,
            "order": null,
            "overflow": null,
            "overflow_x": null,
            "overflow_y": null,
            "padding": null,
            "right": null,
            "top": null,
            "visibility": null,
            "width": null
          }
        },
        "2e3ca51daa504b61ac370676138b27df": {
          "model_module": "@jupyter-widgets/controls",
          "model_module_version": "1.5.0",
          "model_name": "DescriptionStyleModel",
          "state": {
            "_model_module": "@jupyter-widgets/controls",
            "_model_module_version": "1.5.0",
            "_model_name": "DescriptionStyleModel",
            "_view_count": null,
            "_view_module": "@jupyter-widgets/base",
            "_view_module_version": "1.2.0",
            "_view_name": "StyleView",
            "description_width": ""
          }
        },
        "301066a6ec9b4fdc98620803cbffdb60": {
          "model_module": "@jupyter-widgets/base",
          "model_module_version": "1.2.0",
          "model_name": "LayoutModel",
          "state": {
            "_model_module": "@jupyter-widgets/base",
            "_model_module_version": "1.2.0",
            "_model_name": "LayoutModel",
            "_view_count": null,
            "_view_module": "@jupyter-widgets/base",
            "_view_module_version": "1.2.0",
            "_view_name": "LayoutView",
            "align_content": null,
            "align_items": null,
            "align_self": null,
            "border": null,
            "bottom": null,
            "display": null,
            "flex": null,
            "flex_flow": null,
            "grid_area": null,
            "grid_auto_columns": null,
            "grid_auto_flow": null,
            "grid_auto_rows": null,
            "grid_column": null,
            "grid_gap": null,
            "grid_row": null,
            "grid_template_areas": null,
            "grid_template_columns": null,
            "grid_template_rows": null,
            "height": null,
            "justify_content": null,
            "justify_items": null,
            "left": null,
            "margin": null,
            "max_height": null,
            "max_width": null,
            "min_height": null,
            "min_width": null,
            "object_fit": null,
            "object_position": null,
            "order": null,
            "overflow": null,
            "overflow_x": null,
            "overflow_y": null,
            "padding": null,
            "right": null,
            "top": null,
            "visibility": null,
            "width": null
          }
        },
        "323ae6e0b7b346fc98fe912f686a363c": {
          "model_module": "@jupyter-widgets/base",
          "model_module_version": "1.2.0",
          "model_name": "LayoutModel",
          "state": {
            "_model_module": "@jupyter-widgets/base",
            "_model_module_version": "1.2.0",
            "_model_name": "LayoutModel",
            "_view_count": null,
            "_view_module": "@jupyter-widgets/base",
            "_view_module_version": "1.2.0",
            "_view_name": "LayoutView",
            "align_content": null,
            "align_items": null,
            "align_self": null,
            "border": null,
            "bottom": null,
            "display": null,
            "flex": null,
            "flex_flow": null,
            "grid_area": null,
            "grid_auto_columns": null,
            "grid_auto_flow": null,
            "grid_auto_rows": null,
            "grid_column": null,
            "grid_gap": null,
            "grid_row": null,
            "grid_template_areas": null,
            "grid_template_columns": null,
            "grid_template_rows": null,
            "height": null,
            "justify_content": null,
            "justify_items": null,
            "left": null,
            "margin": null,
            "max_height": null,
            "max_width": null,
            "min_height": null,
            "min_width": null,
            "object_fit": null,
            "object_position": null,
            "order": null,
            "overflow": null,
            "overflow_x": null,
            "overflow_y": null,
            "padding": null,
            "right": null,
            "top": null,
            "visibility": null,
            "width": null
          }
        },
        "3d207e2fcb114978a5e5b4a6c5069ea9": {
          "model_module": "@jupyter-widgets/base",
          "model_module_version": "1.2.0",
          "model_name": "LayoutModel",
          "state": {
            "_model_module": "@jupyter-widgets/base",
            "_model_module_version": "1.2.0",
            "_model_name": "LayoutModel",
            "_view_count": null,
            "_view_module": "@jupyter-widgets/base",
            "_view_module_version": "1.2.0",
            "_view_name": "LayoutView",
            "align_content": null,
            "align_items": null,
            "align_self": null,
            "border": null,
            "bottom": null,
            "display": null,
            "flex": null,
            "flex_flow": null,
            "grid_area": null,
            "grid_auto_columns": null,
            "grid_auto_flow": null,
            "grid_auto_rows": null,
            "grid_column": null,
            "grid_gap": null,
            "grid_row": null,
            "grid_template_areas": null,
            "grid_template_columns": null,
            "grid_template_rows": null,
            "height": null,
            "justify_content": null,
            "justify_items": null,
            "left": null,
            "margin": null,
            "max_height": null,
            "max_width": null,
            "min_height": null,
            "min_width": null,
            "object_fit": null,
            "object_position": null,
            "order": null,
            "overflow": null,
            "overflow_x": null,
            "overflow_y": null,
            "padding": null,
            "right": null,
            "top": null,
            "visibility": null,
            "width": null
          }
        },
        "3fb0425ec84841fb91b065401f01ed32": {
          "model_module": "@jupyter-widgets/base",
          "model_module_version": "1.2.0",
          "model_name": "LayoutModel",
          "state": {
            "_model_module": "@jupyter-widgets/base",
            "_model_module_version": "1.2.0",
            "_model_name": "LayoutModel",
            "_view_count": null,
            "_view_module": "@jupyter-widgets/base",
            "_view_module_version": "1.2.0",
            "_view_name": "LayoutView",
            "align_content": null,
            "align_items": null,
            "align_self": null,
            "border": null,
            "bottom": null,
            "display": null,
            "flex": null,
            "flex_flow": null,
            "grid_area": null,
            "grid_auto_columns": null,
            "grid_auto_flow": null,
            "grid_auto_rows": null,
            "grid_column": null,
            "grid_gap": null,
            "grid_row": null,
            "grid_template_areas": null,
            "grid_template_columns": null,
            "grid_template_rows": null,
            "height": null,
            "justify_content": null,
            "justify_items": null,
            "left": null,
            "margin": null,
            "max_height": null,
            "max_width": null,
            "min_height": null,
            "min_width": null,
            "object_fit": null,
            "object_position": null,
            "order": null,
            "overflow": null,
            "overflow_x": null,
            "overflow_y": null,
            "padding": null,
            "right": null,
            "top": null,
            "visibility": null,
            "width": null
          }
        },
        "404527decf5c42e4bd60b19348244848": {
          "model_module": "@jupyter-widgets/controls",
          "model_module_version": "1.5.0",
          "model_name": "FloatProgressModel",
          "state": {
            "_dom_classes": [],
            "_model_module": "@jupyter-widgets/controls",
            "_model_module_version": "1.5.0",
            "_model_name": "FloatProgressModel",
            "_view_count": null,
            "_view_module": "@jupyter-widgets/controls",
            "_view_module_version": "1.5.0",
            "_view_name": "ProgressView",
            "bar_style": "info",
            "description": "",
            "description_tooltip": null,
            "layout": "IPY_MODEL_c65770583fc44e5c94cf5fdad7f98673",
            "max": 1,
            "min": 0,
            "orientation": "horizontal",
            "style": "IPY_MODEL_8bfdc62e892c492cab5b7162e5539333",
            "value": 1
          }
        },
        "4dea5da539d54bbab203a9ce86aa8c34": {
          "model_module": "@jupyter-widgets/controls",
          "model_module_version": "1.5.0",
          "model_name": "HTMLModel",
          "state": {
            "_dom_classes": [],
            "_model_module": "@jupyter-widgets/controls",
            "_model_module_version": "1.5.0",
            "_model_name": "HTMLModel",
            "_view_count": null,
            "_view_module": "@jupyter-widgets/controls",
            "_view_module_version": "1.5.0",
            "_view_name": "HTMLView",
            "description": "",
            "description_tooltip": null,
            "layout": "IPY_MODEL_9c72412933384dd1a1b8f85c3142ea34",
            "placeholder": "​",
            "style": "IPY_MODEL_0998cd82213a4171aaa574190f98a6be",
            "value": "Map:  71%"
          }
        },
        "5227e546d65b47139044da1f99af997f": {
          "model_module": "@jupyter-widgets/controls",
          "model_module_version": "1.5.0",
          "model_name": "DescriptionStyleModel",
          "state": {
            "_model_module": "@jupyter-widgets/controls",
            "_model_module_version": "1.5.0",
            "_model_name": "DescriptionStyleModel",
            "_view_count": null,
            "_view_module": "@jupyter-widgets/base",
            "_view_module_version": "1.2.0",
            "_view_name": "StyleView",
            "description_width": ""
          }
        },
        "562df764a75f44c38bf6707821cc3d7e": {
          "model_module": "@jupyter-widgets/controls",
          "model_module_version": "1.5.0",
          "model_name": "ProgressStyleModel",
          "state": {
            "_model_module": "@jupyter-widgets/controls",
            "_model_module_version": "1.5.0",
            "_model_name": "ProgressStyleModel",
            "_view_count": null,
            "_view_module": "@jupyter-widgets/base",
            "_view_module_version": "1.2.0",
            "_view_name": "StyleView",
            "bar_color": null,
            "description_width": ""
          }
        },
        "5c033e044b434dc0834f4dfd9c614853": {
          "model_module": "@jupyter-widgets/controls",
          "model_module_version": "1.5.0",
          "model_name": "DescriptionStyleModel",
          "state": {
            "_model_module": "@jupyter-widgets/controls",
            "_model_module_version": "1.5.0",
            "_model_name": "DescriptionStyleModel",
            "_view_count": null,
            "_view_module": "@jupyter-widgets/base",
            "_view_module_version": "1.2.0",
            "_view_name": "StyleView",
            "description_width": ""
          }
        },
        "5d10335a6a2c4129818e7cb0d8f8ea26": {
          "model_module": "@jupyter-widgets/base",
          "model_module_version": "1.2.0",
          "model_name": "LayoutModel",
          "state": {
            "_model_module": "@jupyter-widgets/base",
            "_model_module_version": "1.2.0",
            "_model_name": "LayoutModel",
            "_view_count": null,
            "_view_module": "@jupyter-widgets/base",
            "_view_module_version": "1.2.0",
            "_view_name": "LayoutView",
            "align_content": null,
            "align_items": null,
            "align_self": null,
            "border": null,
            "bottom": null,
            "display": null,
            "flex": null,
            "flex_flow": null,
            "grid_area": null,
            "grid_auto_columns": null,
            "grid_auto_flow": null,
            "grid_auto_rows": null,
            "grid_column": null,
            "grid_gap": null,
            "grid_row": null,
            "grid_template_areas": null,
            "grid_template_columns": null,
            "grid_template_rows": null,
            "height": null,
            "justify_content": null,
            "justify_items": null,
            "left": null,
            "margin": null,
            "max_height": null,
            "max_width": null,
            "min_height": null,
            "min_width": null,
            "object_fit": null,
            "object_position": null,
            "order": null,
            "overflow": null,
            "overflow_x": null,
            "overflow_y": null,
            "padding": null,
            "right": null,
            "top": null,
            "visibility": null,
            "width": null
          }
        },
        "615b25fec3f74a728034eb6be94122f8": {
          "model_module": "@jupyter-widgets/controls",
          "model_module_version": "1.5.0",
          "model_name": "HTMLModel",
          "state": {
            "_dom_classes": [],
            "_model_module": "@jupyter-widgets/controls",
            "_model_module_version": "1.5.0",
            "_model_name": "HTMLModel",
            "_view_count": null,
            "_view_module": "@jupyter-widgets/controls",
            "_view_module_version": "1.5.0",
            "_view_name": "HTMLView",
            "description": "",
            "description_tooltip": null,
            "layout": "IPY_MODEL_a74f4a4d5c014b4ebd2e74b1cf012ea1",
            "placeholder": "​",
            "style": "IPY_MODEL_f895269f463741649822605870527781",
            "value": " 1/1 [00:00&lt;00:00, 30.49it/s]"
          }
        },
        "68cbd23e1c464bdd9776b91403c6ec9c": {
          "model_module": "@jupyter-widgets/controls",
          "model_module_version": "1.5.0",
          "model_name": "FloatProgressModel",
          "state": {
            "_dom_classes": [],
            "_model_module": "@jupyter-widgets/controls",
            "_model_module_version": "1.5.0",
            "_model_name": "FloatProgressModel",
            "_view_count": null,
            "_view_module": "@jupyter-widgets/controls",
            "_view_module_version": "1.5.0",
            "_view_name": "ProgressView",
            "bar_style": "",
            "description": "",
            "description_tooltip": null,
            "layout": "IPY_MODEL_0a4bdf1d7bec4a0f8b381be170fc396d",
            "max": 7081,
            "min": 0,
            "orientation": "horizontal",
            "style": "IPY_MODEL_562df764a75f44c38bf6707821cc3d7e",
            "value": 7081
          }
        },
        "68dc5682789349118c41f07f3e54a5fb": {
          "model_module": "@jupyter-widgets/controls",
          "model_module_version": "1.5.0",
          "model_name": "FloatProgressModel",
          "state": {
            "_dom_classes": [],
            "_model_module": "@jupyter-widgets/controls",
            "_model_module_version": "1.5.0",
            "_model_name": "FloatProgressModel",
            "_view_count": null,
            "_view_module": "@jupyter-widgets/controls",
            "_view_module_version": "1.5.0",
            "_view_name": "ProgressView",
            "bar_style": "success",
            "description": "",
            "description_tooltip": null,
            "layout": "IPY_MODEL_acdc47b89e8f430d9546f16694d70969",
            "max": 1,
            "min": 0,
            "orientation": "horizontal",
            "style": "IPY_MODEL_e2aedf9cf9b84d52a67d32e210e1eed2",
            "value": 1
          }
        },
        "6c8b5a31d43e42228522002c599e9041": {
          "model_module": "@jupyter-widgets/controls",
          "model_module_version": "1.5.0",
          "model_name": "HTMLModel",
          "state": {
            "_dom_classes": [],
            "_model_module": "@jupyter-widgets/controls",
            "_model_module_version": "1.5.0",
            "_model_name": "HTMLModel",
            "_view_count": null,
            "_view_module": "@jupyter-widgets/controls",
            "_view_module_version": "1.5.0",
            "_view_name": "HTMLView",
            "description": "",
            "description_tooltip": null,
            "layout": "IPY_MODEL_c07a3d130d0d4d69bac1e32c83c5fcf8",
            "placeholder": "​",
            "style": "IPY_MODEL_a503984619c048fb913d65783280bc49",
            "value": "Generating train split: "
          }
        },
        "74373c85eebc4b8ab2f187fef49bb1ed": {
          "model_module": "@jupyter-widgets/controls",
          "model_module_version": "1.5.0",
          "model_name": "HTMLModel",
          "state": {
            "_dom_classes": [],
            "_model_module": "@jupyter-widgets/controls",
            "_model_module_version": "1.5.0",
            "_model_name": "HTMLModel",
            "_view_count": null,
            "_view_module": "@jupyter-widgets/controls",
            "_view_module_version": "1.5.0",
            "_view_name": "HTMLView",
            "description": "",
            "description_tooltip": null,
            "layout": "IPY_MODEL_2685831ce4d74607b171a60730b2e799",
            "placeholder": "​",
            "style": "IPY_MODEL_5c033e044b434dc0834f4dfd9c614853",
            "value": " 7000/7081 [00:00&lt;00:00, 13386.66 examples/s]"
          }
        },
        "762a7e173d184f7f8ff92f44e5383270": {
          "model_module": "@jupyter-widgets/controls",
          "model_module_version": "1.5.0",
          "model_name": "FloatProgressModel",
          "state": {
            "_dom_classes": [],
            "_model_module": "@jupyter-widgets/controls",
            "_model_module_version": "1.5.0",
            "_model_name": "FloatProgressModel",
            "_view_count": null,
            "_view_module": "@jupyter-widgets/controls",
            "_view_module_version": "1.5.0",
            "_view_name": "ProgressView",
            "bar_style": "success",
            "description": "",
            "description_tooltip": null,
            "layout": "IPY_MODEL_dd7d8eb5d1574396b204e3128cbfbbb5",
            "max": 1,
            "min": 0,
            "orientation": "horizontal",
            "style": "IPY_MODEL_78a0912781cf45e1afb78f3e035e1ccc",
            "value": 1
          }
        },
        "77a61e7b6635413b94f04cf853901121": {
          "model_module": "@jupyter-widgets/controls",
          "model_module_version": "1.5.0",
          "model_name": "HBoxModel",
          "state": {
            "_dom_classes": [],
            "_model_module": "@jupyter-widgets/controls",
            "_model_module_version": "1.5.0",
            "_model_name": "HBoxModel",
            "_view_count": null,
            "_view_module": "@jupyter-widgets/controls",
            "_view_module_version": "1.5.0",
            "_view_name": "HBoxView",
            "box_style": "",
            "children": [
              "IPY_MODEL_9af696cc101f4d18a1701cd6f73f12a7",
              "IPY_MODEL_2402f2fc22b7479890c02788940eeea6",
              "IPY_MODEL_74373c85eebc4b8ab2f187fef49bb1ed"
            ],
            "layout": "IPY_MODEL_fcd979fc7a2b4e2da07354fbdd1bb9fe"
          }
        },
        "78a0912781cf45e1afb78f3e035e1ccc": {
          "model_module": "@jupyter-widgets/controls",
          "model_module_version": "1.5.0",
          "model_name": "ProgressStyleModel",
          "state": {
            "_model_module": "@jupyter-widgets/controls",
            "_model_module_version": "1.5.0",
            "_model_name": "ProgressStyleModel",
            "_view_count": null,
            "_view_module": "@jupyter-widgets/base",
            "_view_module_version": "1.2.0",
            "_view_name": "StyleView",
            "bar_color": null,
            "description_width": ""
          }
        },
        "7f1a75ed89d845449d25067ad4532e6b": {
          "model_module": "@jupyter-widgets/controls",
          "model_module_version": "1.5.0",
          "model_name": "HBoxModel",
          "state": {
            "_dom_classes": [],
            "_model_module": "@jupyter-widgets/controls",
            "_model_module_version": "1.5.0",
            "_model_name": "HBoxModel",
            "_view_count": null,
            "_view_module": "@jupyter-widgets/controls",
            "_view_module_version": "1.5.0",
            "_view_name": "HBoxView",
            "box_style": "",
            "children": [
              "IPY_MODEL_1be515e50932438a823d344b832f5263",
              "IPY_MODEL_762a7e173d184f7f8ff92f44e5383270",
              "IPY_MODEL_f95bd27ffb63472c8aeaa155775d28c6"
            ],
            "layout": "IPY_MODEL_826581d80b97427e86b7a63524fc91c5"
          }
        },
        "826581d80b97427e86b7a63524fc91c5": {
          "model_module": "@jupyter-widgets/base",
          "model_module_version": "1.2.0",
          "model_name": "LayoutModel",
          "state": {
            "_model_module": "@jupyter-widgets/base",
            "_model_module_version": "1.2.0",
            "_model_name": "LayoutModel",
            "_view_count": null,
            "_view_module": "@jupyter-widgets/base",
            "_view_module_version": "1.2.0",
            "_view_name": "LayoutView",
            "align_content": null,
            "align_items": null,
            "align_self": null,
            "border": null,
            "bottom": null,
            "display": null,
            "flex": null,
            "flex_flow": null,
            "grid_area": null,
            "grid_auto_columns": null,
            "grid_auto_flow": null,
            "grid_auto_rows": null,
            "grid_column": null,
            "grid_gap": null,
            "grid_row": null,
            "grid_template_areas": null,
            "grid_template_columns": null,
            "grid_template_rows": null,
            "height": null,
            "justify_content": null,
            "justify_items": null,
            "left": null,
            "margin": null,
            "max_height": null,
            "max_width": null,
            "min_height": null,
            "min_width": null,
            "object_fit": null,
            "object_position": null,
            "order": null,
            "overflow": null,
            "overflow_x": null,
            "overflow_y": null,
            "padding": null,
            "right": null,
            "top": null,
            "visibility": null,
            "width": null
          }
        },
        "8702f94210854b6dbf283bdd03cb4adb": {
          "model_module": "@jupyter-widgets/controls",
          "model_module_version": "1.5.0",
          "model_name": "HTMLModel",
          "state": {
            "_dom_classes": [],
            "_model_module": "@jupyter-widgets/controls",
            "_model_module_version": "1.5.0",
            "_model_name": "HTMLModel",
            "_view_count": null,
            "_view_module": "@jupyter-widgets/controls",
            "_view_module_version": "1.5.0",
            "_view_name": "HTMLView",
            "description": "",
            "description_tooltip": null,
            "layout": "IPY_MODEL_b70c0fc961a4496fb96abb8def251aa4",
            "placeholder": "​",
            "style": "IPY_MODEL_09b8e7d8526e4c41ae918feac46e8923",
            "value": " 5000/7081 [00:00&lt;00:00, 16035.83 examples/s]"
          }
        },
        "8a969da3d6a14ceab8af7ed40f2eb150": {
          "model_module": "@jupyter-widgets/base",
          "model_module_version": "1.2.0",
          "model_name": "LayoutModel",
          "state": {
            "_model_module": "@jupyter-widgets/base",
            "_model_module_version": "1.2.0",
            "_model_name": "LayoutModel",
            "_view_count": null,
            "_view_module": "@jupyter-widgets/base",
            "_view_module_version": "1.2.0",
            "_view_name": "LayoutView",
            "align_content": null,
            "align_items": null,
            "align_self": null,
            "border": null,
            "bottom": null,
            "display": null,
            "flex": null,
            "flex_flow": null,
            "grid_area": null,
            "grid_auto_columns": null,
            "grid_auto_flow": null,
            "grid_auto_rows": null,
            "grid_column": null,
            "grid_gap": null,
            "grid_row": null,
            "grid_template_areas": null,
            "grid_template_columns": null,
            "grid_template_rows": null,
            "height": null,
            "justify_content": null,
            "justify_items": null,
            "left": null,
            "margin": null,
            "max_height": null,
            "max_width": null,
            "min_height": null,
            "min_width": null,
            "object_fit": null,
            "object_position": null,
            "order": null,
            "overflow": null,
            "overflow_x": null,
            "overflow_y": null,
            "padding": null,
            "right": null,
            "top": null,
            "visibility": "hidden",
            "width": null
          }
        },
        "8bfdc62e892c492cab5b7162e5539333": {
          "model_module": "@jupyter-widgets/controls",
          "model_module_version": "1.5.0",
          "model_name": "ProgressStyleModel",
          "state": {
            "_model_module": "@jupyter-widgets/controls",
            "_model_module_version": "1.5.0",
            "_model_name": "ProgressStyleModel",
            "_view_count": null,
            "_view_module": "@jupyter-widgets/base",
            "_view_module_version": "1.2.0",
            "_view_name": "StyleView",
            "bar_color": null,
            "description_width": ""
          }
        },
        "8fc769b656ac473b810bb3eb99acd72a": {
          "model_module": "@jupyter-widgets/controls",
          "model_module_version": "1.5.0",
          "model_name": "DescriptionStyleModel",
          "state": {
            "_model_module": "@jupyter-widgets/controls",
            "_model_module_version": "1.5.0",
            "_model_name": "DescriptionStyleModel",
            "_view_count": null,
            "_view_module": "@jupyter-widgets/base",
            "_view_module_version": "1.2.0",
            "_view_name": "StyleView",
            "description_width": ""
          }
        },
        "8fcb0e7f52d7471cbe1a663ab8edff12": {
          "model_module": "@jupyter-widgets/controls",
          "model_module_version": "1.5.0",
          "model_name": "HTMLModel",
          "state": {
            "_dom_classes": [],
            "_model_module": "@jupyter-widgets/controls",
            "_model_module_version": "1.5.0",
            "_model_name": "HTMLModel",
            "_view_count": null,
            "_view_module": "@jupyter-widgets/controls",
            "_view_module_version": "1.5.0",
            "_view_name": "HTMLView",
            "description": "",
            "description_tooltip": null,
            "layout": "IPY_MODEL_301066a6ec9b4fdc98620803cbffdb60",
            "placeholder": "​",
            "style": "IPY_MODEL_fa5d2a3c97df43c493d29c3635b6af9f",
            "value": "100%"
          }
        },
        "96dab229a14640c29300d8b18a2e00ef": {
          "model_module": "@jupyter-widgets/controls",
          "model_module_version": "1.5.0",
          "model_name": "HTMLModel",
          "state": {
            "_dom_classes": [],
            "_model_module": "@jupyter-widgets/controls",
            "_model_module_version": "1.5.0",
            "_model_name": "HTMLModel",
            "_view_count": null,
            "_view_module": "@jupyter-widgets/controls",
            "_view_module_version": "1.5.0",
            "_view_name": "HTMLView",
            "description": "",
            "description_tooltip": null,
            "layout": "IPY_MODEL_e80b9fdaaa984589930279fc63f25c91",
            "placeholder": "​",
            "style": "IPY_MODEL_5227e546d65b47139044da1f99af997f",
            "value": "Extracting data files: 100%"
          }
        },
        "9af696cc101f4d18a1701cd6f73f12a7": {
          "model_module": "@jupyter-widgets/controls",
          "model_module_version": "1.5.0",
          "model_name": "HTMLModel",
          "state": {
            "_dom_classes": [],
            "_model_module": "@jupyter-widgets/controls",
            "_model_module_version": "1.5.0",
            "_model_name": "HTMLModel",
            "_view_count": null,
            "_view_module": "@jupyter-widgets/controls",
            "_view_module_version": "1.5.0",
            "_view_name": "HTMLView",
            "description": "",
            "description_tooltip": null,
            "layout": "IPY_MODEL_3fb0425ec84841fb91b065401f01ed32",
            "placeholder": "​",
            "style": "IPY_MODEL_2e3ca51daa504b61ac370676138b27df",
            "value": "Map:  99%"
          }
        },
        "9c72412933384dd1a1b8f85c3142ea34": {
          "model_module": "@jupyter-widgets/base",
          "model_module_version": "1.2.0",
          "model_name": "LayoutModel",
          "state": {
            "_model_module": "@jupyter-widgets/base",
            "_model_module_version": "1.2.0",
            "_model_name": "LayoutModel",
            "_view_count": null,
            "_view_module": "@jupyter-widgets/base",
            "_view_module_version": "1.2.0",
            "_view_name": "LayoutView",
            "align_content": null,
            "align_items": null,
            "align_self": null,
            "border": null,
            "bottom": null,
            "display": null,
            "flex": null,
            "flex_flow": null,
            "grid_area": null,
            "grid_auto_columns": null,
            "grid_auto_flow": null,
            "grid_auto_rows": null,
            "grid_column": null,
            "grid_gap": null,
            "grid_row": null,
            "grid_template_areas": null,
            "grid_template_columns": null,
            "grid_template_rows": null,
            "height": null,
            "justify_content": null,
            "justify_items": null,
            "left": null,
            "margin": null,
            "max_height": null,
            "max_width": null,
            "min_height": null,
            "min_width": null,
            "object_fit": null,
            "object_position": null,
            "order": null,
            "overflow": null,
            "overflow_x": null,
            "overflow_y": null,
            "padding": null,
            "right": null,
            "top": null,
            "visibility": null,
            "width": null
          }
        },
        "a1ffcdc7531444279024f44400c18d78": {
          "model_module": "@jupyter-widgets/controls",
          "model_module_version": "1.5.0",
          "model_name": "HBoxModel",
          "state": {
            "_dom_classes": [],
            "_model_module": "@jupyter-widgets/controls",
            "_model_module_version": "1.5.0",
            "_model_name": "HBoxModel",
            "_view_count": null,
            "_view_module": "@jupyter-widgets/controls",
            "_view_module_version": "1.5.0",
            "_view_name": "HBoxView",
            "box_style": "",
            "children": [
              "IPY_MODEL_4dea5da539d54bbab203a9ce86aa8c34",
              "IPY_MODEL_68cbd23e1c464bdd9776b91403c6ec9c",
              "IPY_MODEL_8702f94210854b6dbf283bdd03cb4adb"
            ],
            "layout": "IPY_MODEL_c1c178c6c9ba487896f02414836e6334"
          }
        },
        "a503984619c048fb913d65783280bc49": {
          "model_module": "@jupyter-widgets/controls",
          "model_module_version": "1.5.0",
          "model_name": "DescriptionStyleModel",
          "state": {
            "_model_module": "@jupyter-widgets/controls",
            "_model_module_version": "1.5.0",
            "_model_name": "DescriptionStyleModel",
            "_view_count": null,
            "_view_module": "@jupyter-widgets/base",
            "_view_module_version": "1.2.0",
            "_view_name": "StyleView",
            "description_width": ""
          }
        },
        "a74f4a4d5c014b4ebd2e74b1cf012ea1": {
          "model_module": "@jupyter-widgets/base",
          "model_module_version": "1.2.0",
          "model_name": "LayoutModel",
          "state": {
            "_model_module": "@jupyter-widgets/base",
            "_model_module_version": "1.2.0",
            "_model_name": "LayoutModel",
            "_view_count": null,
            "_view_module": "@jupyter-widgets/base",
            "_view_module_version": "1.2.0",
            "_view_name": "LayoutView",
            "align_content": null,
            "align_items": null,
            "align_self": null,
            "border": null,
            "bottom": null,
            "display": null,
            "flex": null,
            "flex_flow": null,
            "grid_area": null,
            "grid_auto_columns": null,
            "grid_auto_flow": null,
            "grid_auto_rows": null,
            "grid_column": null,
            "grid_gap": null,
            "grid_row": null,
            "grid_template_areas": null,
            "grid_template_columns": null,
            "grid_template_rows": null,
            "height": null,
            "justify_content": null,
            "justify_items": null,
            "left": null,
            "margin": null,
            "max_height": null,
            "max_width": null,
            "min_height": null,
            "min_width": null,
            "object_fit": null,
            "object_position": null,
            "order": null,
            "overflow": null,
            "overflow_x": null,
            "overflow_y": null,
            "padding": null,
            "right": null,
            "top": null,
            "visibility": null,
            "width": null
          }
        },
        "ab153fb5c4c74c35a21ded348959f51a": {
          "model_module": "@jupyter-widgets/base",
          "model_module_version": "1.2.0",
          "model_name": "LayoutModel",
          "state": {
            "_model_module": "@jupyter-widgets/base",
            "_model_module_version": "1.2.0",
            "_model_name": "LayoutModel",
            "_view_count": null,
            "_view_module": "@jupyter-widgets/base",
            "_view_module_version": "1.2.0",
            "_view_name": "LayoutView",
            "align_content": null,
            "align_items": null,
            "align_self": null,
            "border": null,
            "bottom": null,
            "display": null,
            "flex": null,
            "flex_flow": null,
            "grid_area": null,
            "grid_auto_columns": null,
            "grid_auto_flow": null,
            "grid_auto_rows": null,
            "grid_column": null,
            "grid_gap": null,
            "grid_row": null,
            "grid_template_areas": null,
            "grid_template_columns": null,
            "grid_template_rows": null,
            "height": null,
            "justify_content": null,
            "justify_items": null,
            "left": null,
            "margin": null,
            "max_height": null,
            "max_width": null,
            "min_height": null,
            "min_width": null,
            "object_fit": null,
            "object_position": null,
            "order": null,
            "overflow": null,
            "overflow_x": null,
            "overflow_y": null,
            "padding": null,
            "right": null,
            "top": null,
            "visibility": null,
            "width": null
          }
        },
        "acdc47b89e8f430d9546f16694d70969": {
          "model_module": "@jupyter-widgets/base",
          "model_module_version": "1.2.0",
          "model_name": "LayoutModel",
          "state": {
            "_model_module": "@jupyter-widgets/base",
            "_model_module_version": "1.2.0",
            "_model_name": "LayoutModel",
            "_view_count": null,
            "_view_module": "@jupyter-widgets/base",
            "_view_module_version": "1.2.0",
            "_view_name": "LayoutView",
            "align_content": null,
            "align_items": null,
            "align_self": null,
            "border": null,
            "bottom": null,
            "display": null,
            "flex": null,
            "flex_flow": null,
            "grid_area": null,
            "grid_auto_columns": null,
            "grid_auto_flow": null,
            "grid_auto_rows": null,
            "grid_column": null,
            "grid_gap": null,
            "grid_row": null,
            "grid_template_areas": null,
            "grid_template_columns": null,
            "grid_template_rows": null,
            "height": null,
            "justify_content": null,
            "justify_items": null,
            "left": null,
            "margin": null,
            "max_height": null,
            "max_width": null,
            "min_height": null,
            "min_width": null,
            "object_fit": null,
            "object_position": null,
            "order": null,
            "overflow": null,
            "overflow_x": null,
            "overflow_y": null,
            "padding": null,
            "right": null,
            "top": null,
            "visibility": null,
            "width": null
          }
        },
        "b1de889b511a491fb3d05d0d941c955e": {
          "model_module": "@jupyter-widgets/controls",
          "model_module_version": "1.5.0",
          "model_name": "DescriptionStyleModel",
          "state": {
            "_model_module": "@jupyter-widgets/controls",
            "_model_module_version": "1.5.0",
            "_model_name": "DescriptionStyleModel",
            "_view_count": null,
            "_view_module": "@jupyter-widgets/base",
            "_view_module_version": "1.2.0",
            "_view_name": "StyleView",
            "description_width": ""
          }
        },
        "b5f7cdd757ee4a2aa10bf1221b03e7e4": {
          "model_module": "@jupyter-widgets/base",
          "model_module_version": "1.2.0",
          "model_name": "LayoutModel",
          "state": {
            "_model_module": "@jupyter-widgets/base",
            "_model_module_version": "1.2.0",
            "_model_name": "LayoutModel",
            "_view_count": null,
            "_view_module": "@jupyter-widgets/base",
            "_view_module_version": "1.2.0",
            "_view_name": "LayoutView",
            "align_content": null,
            "align_items": null,
            "align_self": null,
            "border": null,
            "bottom": null,
            "display": null,
            "flex": null,
            "flex_flow": null,
            "grid_area": null,
            "grid_auto_columns": null,
            "grid_auto_flow": null,
            "grid_auto_rows": null,
            "grid_column": null,
            "grid_gap": null,
            "grid_row": null,
            "grid_template_areas": null,
            "grid_template_columns": null,
            "grid_template_rows": null,
            "height": null,
            "justify_content": null,
            "justify_items": null,
            "left": null,
            "margin": null,
            "max_height": null,
            "max_width": null,
            "min_height": null,
            "min_width": null,
            "object_fit": null,
            "object_position": null,
            "order": null,
            "overflow": null,
            "overflow_x": null,
            "overflow_y": null,
            "padding": null,
            "right": null,
            "top": null,
            "visibility": null,
            "width": null
          }
        },
        "b6037af2cc7e4d01b6eacef9c88995d9": {
          "model_module": "@jupyter-widgets/base",
          "model_module_version": "1.2.0",
          "model_name": "LayoutModel",
          "state": {
            "_model_module": "@jupyter-widgets/base",
            "_model_module_version": "1.2.0",
            "_model_name": "LayoutModel",
            "_view_count": null,
            "_view_module": "@jupyter-widgets/base",
            "_view_module_version": "1.2.0",
            "_view_name": "LayoutView",
            "align_content": null,
            "align_items": null,
            "align_self": null,
            "border": null,
            "bottom": null,
            "display": null,
            "flex": null,
            "flex_flow": null,
            "grid_area": null,
            "grid_auto_columns": null,
            "grid_auto_flow": null,
            "grid_auto_rows": null,
            "grid_column": null,
            "grid_gap": null,
            "grid_row": null,
            "grid_template_areas": null,
            "grid_template_columns": null,
            "grid_template_rows": null,
            "height": null,
            "justify_content": null,
            "justify_items": null,
            "left": null,
            "margin": null,
            "max_height": null,
            "max_width": null,
            "min_height": null,
            "min_width": null,
            "object_fit": null,
            "object_position": null,
            "order": null,
            "overflow": null,
            "overflow_x": null,
            "overflow_y": null,
            "padding": null,
            "right": null,
            "top": null,
            "visibility": null,
            "width": null
          }
        },
        "b70c0fc961a4496fb96abb8def251aa4": {
          "model_module": "@jupyter-widgets/base",
          "model_module_version": "1.2.0",
          "model_name": "LayoutModel",
          "state": {
            "_model_module": "@jupyter-widgets/base",
            "_model_module_version": "1.2.0",
            "_model_name": "LayoutModel",
            "_view_count": null,
            "_view_module": "@jupyter-widgets/base",
            "_view_module_version": "1.2.0",
            "_view_name": "LayoutView",
            "align_content": null,
            "align_items": null,
            "align_self": null,
            "border": null,
            "bottom": null,
            "display": null,
            "flex": null,
            "flex_flow": null,
            "grid_area": null,
            "grid_auto_columns": null,
            "grid_auto_flow": null,
            "grid_auto_rows": null,
            "grid_column": null,
            "grid_gap": null,
            "grid_row": null,
            "grid_template_areas": null,
            "grid_template_columns": null,
            "grid_template_rows": null,
            "height": null,
            "justify_content": null,
            "justify_items": null,
            "left": null,
            "margin": null,
            "max_height": null,
            "max_width": null,
            "min_height": null,
            "min_width": null,
            "object_fit": null,
            "object_position": null,
            "order": null,
            "overflow": null,
            "overflow_x": null,
            "overflow_y": null,
            "padding": null,
            "right": null,
            "top": null,
            "visibility": null,
            "width": null
          }
        },
        "bccb84a8e215421c890136439129ae8b": {
          "model_module": "@jupyter-widgets/controls",
          "model_module_version": "1.5.0",
          "model_name": "HTMLModel",
          "state": {
            "_dom_classes": [],
            "_model_module": "@jupyter-widgets/controls",
            "_model_module_version": "1.5.0",
            "_model_name": "HTMLModel",
            "_view_count": null,
            "_view_module": "@jupyter-widgets/controls",
            "_view_module_version": "1.5.0",
            "_view_name": "HTMLView",
            "description": "",
            "description_tooltip": null,
            "layout": "IPY_MODEL_3d207e2fcb114978a5e5b4a6c5069ea9",
            "placeholder": "​",
            "style": "IPY_MODEL_8fc769b656ac473b810bb3eb99acd72a",
            "value": " 1/1 [00:00&lt;00:00, 40.94it/s]"
          }
        },
        "c06e3b17654f4c3c96af8b230d478a59": {
          "model_module": "@jupyter-widgets/base",
          "model_module_version": "1.2.0",
          "model_name": "LayoutModel",
          "state": {
            "_model_module": "@jupyter-widgets/base",
            "_model_module_version": "1.2.0",
            "_model_name": "LayoutModel",
            "_view_count": null,
            "_view_module": "@jupyter-widgets/base",
            "_view_module_version": "1.2.0",
            "_view_name": "LayoutView",
            "align_content": null,
            "align_items": null,
            "align_self": null,
            "border": null,
            "bottom": null,
            "display": null,
            "flex": null,
            "flex_flow": null,
            "grid_area": null,
            "grid_auto_columns": null,
            "grid_auto_flow": null,
            "grid_auto_rows": null,
            "grid_column": null,
            "grid_gap": null,
            "grid_row": null,
            "grid_template_areas": null,
            "grid_template_columns": null,
            "grid_template_rows": null,
            "height": null,
            "justify_content": null,
            "justify_items": null,
            "left": null,
            "margin": null,
            "max_height": null,
            "max_width": null,
            "min_height": null,
            "min_width": null,
            "object_fit": null,
            "object_position": null,
            "order": null,
            "overflow": null,
            "overflow_x": null,
            "overflow_y": null,
            "padding": null,
            "right": null,
            "top": null,
            "visibility": null,
            "width": null
          }
        },
        "c07a3d130d0d4d69bac1e32c83c5fcf8": {
          "model_module": "@jupyter-widgets/base",
          "model_module_version": "1.2.0",
          "model_name": "LayoutModel",
          "state": {
            "_model_module": "@jupyter-widgets/base",
            "_model_module_version": "1.2.0",
            "_model_name": "LayoutModel",
            "_view_count": null,
            "_view_module": "@jupyter-widgets/base",
            "_view_module_version": "1.2.0",
            "_view_name": "LayoutView",
            "align_content": null,
            "align_items": null,
            "align_self": null,
            "border": null,
            "bottom": null,
            "display": null,
            "flex": null,
            "flex_flow": null,
            "grid_area": null,
            "grid_auto_columns": null,
            "grid_auto_flow": null,
            "grid_auto_rows": null,
            "grid_column": null,
            "grid_gap": null,
            "grid_row": null,
            "grid_template_areas": null,
            "grid_template_columns": null,
            "grid_template_rows": null,
            "height": null,
            "justify_content": null,
            "justify_items": null,
            "left": null,
            "margin": null,
            "max_height": null,
            "max_width": null,
            "min_height": null,
            "min_width": null,
            "object_fit": null,
            "object_position": null,
            "order": null,
            "overflow": null,
            "overflow_x": null,
            "overflow_y": null,
            "padding": null,
            "right": null,
            "top": null,
            "visibility": null,
            "width": null
          }
        },
        "c1c178c6c9ba487896f02414836e6334": {
          "model_module": "@jupyter-widgets/base",
          "model_module_version": "1.2.0",
          "model_name": "LayoutModel",
          "state": {
            "_model_module": "@jupyter-widgets/base",
            "_model_module_version": "1.2.0",
            "_model_name": "LayoutModel",
            "_view_count": null,
            "_view_module": "@jupyter-widgets/base",
            "_view_module_version": "1.2.0",
            "_view_name": "LayoutView",
            "align_content": null,
            "align_items": null,
            "align_self": null,
            "border": null,
            "bottom": null,
            "display": null,
            "flex": null,
            "flex_flow": null,
            "grid_area": null,
            "grid_auto_columns": null,
            "grid_auto_flow": null,
            "grid_auto_rows": null,
            "grid_column": null,
            "grid_gap": null,
            "grid_row": null,
            "grid_template_areas": null,
            "grid_template_columns": null,
            "grid_template_rows": null,
            "height": null,
            "justify_content": null,
            "justify_items": null,
            "left": null,
            "margin": null,
            "max_height": null,
            "max_width": null,
            "min_height": null,
            "min_width": null,
            "object_fit": null,
            "object_position": null,
            "order": null,
            "overflow": null,
            "overflow_x": null,
            "overflow_y": null,
            "padding": null,
            "right": null,
            "top": null,
            "visibility": "hidden",
            "width": null
          }
        },
        "c2b892a5e82646bea0b62f70eb50b6c1": {
          "model_module": "@jupyter-widgets/controls",
          "model_module_version": "1.5.0",
          "model_name": "HTMLModel",
          "state": {
            "_dom_classes": [],
            "_model_module": "@jupyter-widgets/controls",
            "_model_module_version": "1.5.0",
            "_model_name": "HTMLModel",
            "_view_count": null,
            "_view_module": "@jupyter-widgets/controls",
            "_view_module_version": "1.5.0",
            "_view_name": "HTMLView",
            "description": "",
            "description_tooltip": null,
            "layout": "IPY_MODEL_edd3681eb4c0431caa6ad29a10241a37",
            "placeholder": "​",
            "style": "IPY_MODEL_17dd30c8cfab4231a1053d3c9b46daae",
            "value": " 0/0 [00:00&lt;?, ? examples/s]"
          }
        },
        "c65770583fc44e5c94cf5fdad7f98673": {
          "model_module": "@jupyter-widgets/base",
          "model_module_version": "1.2.0",
          "model_name": "LayoutModel",
          "state": {
            "_model_module": "@jupyter-widgets/base",
            "_model_module_version": "1.2.0",
            "_model_name": "LayoutModel",
            "_view_count": null,
            "_view_module": "@jupyter-widgets/base",
            "_view_module_version": "1.2.0",
            "_view_name": "LayoutView",
            "align_content": null,
            "align_items": null,
            "align_self": null,
            "border": null,
            "bottom": null,
            "display": null,
            "flex": null,
            "flex_flow": null,
            "grid_area": null,
            "grid_auto_columns": null,
            "grid_auto_flow": null,
            "grid_auto_rows": null,
            "grid_column": null,
            "grid_gap": null,
            "grid_row": null,
            "grid_template_areas": null,
            "grid_template_columns": null,
            "grid_template_rows": null,
            "height": null,
            "justify_content": null,
            "justify_items": null,
            "left": null,
            "margin": null,
            "max_height": null,
            "max_width": null,
            "min_height": null,
            "min_width": null,
            "object_fit": null,
            "object_position": null,
            "order": null,
            "overflow": null,
            "overflow_x": null,
            "overflow_y": null,
            "padding": null,
            "right": null,
            "top": null,
            "visibility": null,
            "width": "20px"
          }
        },
        "ce777b67492f408795b7e2be96850255": {
          "model_module": "@jupyter-widgets/controls",
          "model_module_version": "1.5.0",
          "model_name": "HBoxModel",
          "state": {
            "_dom_classes": [],
            "_model_module": "@jupyter-widgets/controls",
            "_model_module_version": "1.5.0",
            "_model_name": "HBoxModel",
            "_view_count": null,
            "_view_module": "@jupyter-widgets/controls",
            "_view_module_version": "1.5.0",
            "_view_name": "HBoxView",
            "box_style": "",
            "children": [
              "IPY_MODEL_6c8b5a31d43e42228522002c599e9041",
              "IPY_MODEL_404527decf5c42e4bd60b19348244848",
              "IPY_MODEL_c2b892a5e82646bea0b62f70eb50b6c1"
            ],
            "layout": "IPY_MODEL_8a969da3d6a14ceab8af7ed40f2eb150"
          }
        },
        "d46b1e97dd62452bbada8cd1428fb276": {
          "model_module": "@jupyter-widgets/controls",
          "model_module_version": "1.5.0",
          "model_name": "FloatProgressModel",
          "state": {
            "_dom_classes": [],
            "_model_module": "@jupyter-widgets/controls",
            "_model_module_version": "1.5.0",
            "_model_name": "FloatProgressModel",
            "_view_count": null,
            "_view_module": "@jupyter-widgets/controls",
            "_view_module_version": "1.5.0",
            "_view_name": "ProgressView",
            "bar_style": "success",
            "description": "",
            "description_tooltip": null,
            "layout": "IPY_MODEL_c06e3b17654f4c3c96af8b230d478a59",
            "max": 1,
            "min": 0,
            "orientation": "horizontal",
            "style": "IPY_MODEL_0fd2d958c7be487ba5c6c0816443118b",
            "value": 1
          }
        },
        "d5228f26dac74073aa974e6af22c970f": {
          "model_module": "@jupyter-widgets/controls",
          "model_module_version": "1.5.0",
          "model_name": "HBoxModel",
          "state": {
            "_dom_classes": [],
            "_model_module": "@jupyter-widgets/controls",
            "_model_module_version": "1.5.0",
            "_model_name": "HBoxModel",
            "_view_count": null,
            "_view_module": "@jupyter-widgets/controls",
            "_view_module_version": "1.5.0",
            "_view_name": "HBoxView",
            "box_style": "",
            "children": [
              "IPY_MODEL_96dab229a14640c29300d8b18a2e00ef",
              "IPY_MODEL_68dc5682789349118c41f07f3e54a5fb",
              "IPY_MODEL_bccb84a8e215421c890136439129ae8b"
            ],
            "layout": "IPY_MODEL_5d10335a6a2c4129818e7cb0d8f8ea26"
          }
        },
        "d8c88181bbea4d9d90ae0bdb680fa21f": {
          "model_module": "@jupyter-widgets/controls",
          "model_module_version": "1.5.0",
          "model_name": "HBoxModel",
          "state": {
            "_dom_classes": [],
            "_model_module": "@jupyter-widgets/controls",
            "_model_module_version": "1.5.0",
            "_model_name": "HBoxModel",
            "_view_count": null,
            "_view_module": "@jupyter-widgets/controls",
            "_view_module_version": "1.5.0",
            "_view_name": "HBoxView",
            "box_style": "",
            "children": [
              "IPY_MODEL_8fcb0e7f52d7471cbe1a663ab8edff12",
              "IPY_MODEL_d46b1e97dd62452bbada8cd1428fb276",
              "IPY_MODEL_615b25fec3f74a728034eb6be94122f8"
            ],
            "layout": "IPY_MODEL_b5f7cdd757ee4a2aa10bf1221b03e7e4"
          }
        },
        "dd7d8eb5d1574396b204e3128cbfbbb5": {
          "model_module": "@jupyter-widgets/base",
          "model_module_version": "1.2.0",
          "model_name": "LayoutModel",
          "state": {
            "_model_module": "@jupyter-widgets/base",
            "_model_module_version": "1.2.0",
            "_model_name": "LayoutModel",
            "_view_count": null,
            "_view_module": "@jupyter-widgets/base",
            "_view_module_version": "1.2.0",
            "_view_name": "LayoutView",
            "align_content": null,
            "align_items": null,
            "align_self": null,
            "border": null,
            "bottom": null,
            "display": null,
            "flex": null,
            "flex_flow": null,
            "grid_area": null,
            "grid_auto_columns": null,
            "grid_auto_flow": null,
            "grid_auto_rows": null,
            "grid_column": null,
            "grid_gap": null,
            "grid_row": null,
            "grid_template_areas": null,
            "grid_template_columns": null,
            "grid_template_rows": null,
            "height": null,
            "justify_content": null,
            "justify_items": null,
            "left": null,
            "margin": null,
            "max_height": null,
            "max_width": null,
            "min_height": null,
            "min_width": null,
            "object_fit": null,
            "object_position": null,
            "order": null,
            "overflow": null,
            "overflow_x": null,
            "overflow_y": null,
            "padding": null,
            "right": null,
            "top": null,
            "visibility": null,
            "width": null
          }
        },
        "e08dc63d09554c23ada894e4dec0dd23": {
          "model_module": "@jupyter-widgets/controls",
          "model_module_version": "1.5.0",
          "model_name": "ProgressStyleModel",
          "state": {
            "_model_module": "@jupyter-widgets/controls",
            "_model_module_version": "1.5.0",
            "_model_name": "ProgressStyleModel",
            "_view_count": null,
            "_view_module": "@jupyter-widgets/base",
            "_view_module_version": "1.2.0",
            "_view_name": "StyleView",
            "bar_color": null,
            "description_width": ""
          }
        },
        "e2aedf9cf9b84d52a67d32e210e1eed2": {
          "model_module": "@jupyter-widgets/controls",
          "model_module_version": "1.5.0",
          "model_name": "ProgressStyleModel",
          "state": {
            "_model_module": "@jupyter-widgets/controls",
            "_model_module_version": "1.5.0",
            "_model_name": "ProgressStyleModel",
            "_view_count": null,
            "_view_module": "@jupyter-widgets/base",
            "_view_module_version": "1.2.0",
            "_view_name": "StyleView",
            "bar_color": null,
            "description_width": ""
          }
        },
        "e80b9fdaaa984589930279fc63f25c91": {
          "model_module": "@jupyter-widgets/base",
          "model_module_version": "1.2.0",
          "model_name": "LayoutModel",
          "state": {
            "_model_module": "@jupyter-widgets/base",
            "_model_module_version": "1.2.0",
            "_model_name": "LayoutModel",
            "_view_count": null,
            "_view_module": "@jupyter-widgets/base",
            "_view_module_version": "1.2.0",
            "_view_name": "LayoutView",
            "align_content": null,
            "align_items": null,
            "align_self": null,
            "border": null,
            "bottom": null,
            "display": null,
            "flex": null,
            "flex_flow": null,
            "grid_area": null,
            "grid_auto_columns": null,
            "grid_auto_flow": null,
            "grid_auto_rows": null,
            "grid_column": null,
            "grid_gap": null,
            "grid_row": null,
            "grid_template_areas": null,
            "grid_template_columns": null,
            "grid_template_rows": null,
            "height": null,
            "justify_content": null,
            "justify_items": null,
            "left": null,
            "margin": null,
            "max_height": null,
            "max_width": null,
            "min_height": null,
            "min_width": null,
            "object_fit": null,
            "object_position": null,
            "order": null,
            "overflow": null,
            "overflow_x": null,
            "overflow_y": null,
            "padding": null,
            "right": null,
            "top": null,
            "visibility": null,
            "width": null
          }
        },
        "edd3681eb4c0431caa6ad29a10241a37": {
          "model_module": "@jupyter-widgets/base",
          "model_module_version": "1.2.0",
          "model_name": "LayoutModel",
          "state": {
            "_model_module": "@jupyter-widgets/base",
            "_model_module_version": "1.2.0",
            "_model_name": "LayoutModel",
            "_view_count": null,
            "_view_module": "@jupyter-widgets/base",
            "_view_module_version": "1.2.0",
            "_view_name": "LayoutView",
            "align_content": null,
            "align_items": null,
            "align_self": null,
            "border": null,
            "bottom": null,
            "display": null,
            "flex": null,
            "flex_flow": null,
            "grid_area": null,
            "grid_auto_columns": null,
            "grid_auto_flow": null,
            "grid_auto_rows": null,
            "grid_column": null,
            "grid_gap": null,
            "grid_row": null,
            "grid_template_areas": null,
            "grid_template_columns": null,
            "grid_template_rows": null,
            "height": null,
            "justify_content": null,
            "justify_items": null,
            "left": null,
            "margin": null,
            "max_height": null,
            "max_width": null,
            "min_height": null,
            "min_width": null,
            "object_fit": null,
            "object_position": null,
            "order": null,
            "overflow": null,
            "overflow_x": null,
            "overflow_y": null,
            "padding": null,
            "right": null,
            "top": null,
            "visibility": null,
            "width": null
          }
        },
        "f895269f463741649822605870527781": {
          "model_module": "@jupyter-widgets/controls",
          "model_module_version": "1.5.0",
          "model_name": "DescriptionStyleModel",
          "state": {
            "_model_module": "@jupyter-widgets/controls",
            "_model_module_version": "1.5.0",
            "_model_name": "DescriptionStyleModel",
            "_view_count": null,
            "_view_module": "@jupyter-widgets/base",
            "_view_module_version": "1.2.0",
            "_view_name": "StyleView",
            "description_width": ""
          }
        },
        "f95bd27ffb63472c8aeaa155775d28c6": {
          "model_module": "@jupyter-widgets/controls",
          "model_module_version": "1.5.0",
          "model_name": "HTMLModel",
          "state": {
            "_dom_classes": [],
            "_model_module": "@jupyter-widgets/controls",
            "_model_module_version": "1.5.0",
            "_model_name": "HTMLModel",
            "_view_count": null,
            "_view_module": "@jupyter-widgets/controls",
            "_view_module_version": "1.5.0",
            "_view_name": "HTMLView",
            "description": "",
            "description_tooltip": null,
            "layout": "IPY_MODEL_b6037af2cc7e4d01b6eacef9c88995d9",
            "placeholder": "​",
            "style": "IPY_MODEL_b1de889b511a491fb3d05d0d941c955e",
            "value": " 1/1 [00:00&lt;00:00, 49.21it/s]"
          }
        },
        "fa5d2a3c97df43c493d29c3635b6af9f": {
          "model_module": "@jupyter-widgets/controls",
          "model_module_version": "1.5.0",
          "model_name": "DescriptionStyleModel",
          "state": {
            "_model_module": "@jupyter-widgets/controls",
            "_model_module_version": "1.5.0",
            "_model_name": "DescriptionStyleModel",
            "_view_count": null,
            "_view_module": "@jupyter-widgets/base",
            "_view_module_version": "1.2.0",
            "_view_name": "StyleView",
            "description_width": ""
          }
        },
        "fcd979fc7a2b4e2da07354fbdd1bb9fe": {
          "model_module": "@jupyter-widgets/base",
          "model_module_version": "1.2.0",
          "model_name": "LayoutModel",
          "state": {
            "_model_module": "@jupyter-widgets/base",
            "_model_module_version": "1.2.0",
            "_model_name": "LayoutModel",
            "_view_count": null,
            "_view_module": "@jupyter-widgets/base",
            "_view_module_version": "1.2.0",
            "_view_name": "LayoutView",
            "align_content": null,
            "align_items": null,
            "align_self": null,
            "border": null,
            "bottom": null,
            "display": null,
            "flex": null,
            "flex_flow": null,
            "grid_area": null,
            "grid_auto_columns": null,
            "grid_auto_flow": null,
            "grid_auto_rows": null,
            "grid_column": null,
            "grid_gap": null,
            "grid_row": null,
            "grid_template_areas": null,
            "grid_template_columns": null,
            "grid_template_rows": null,
            "height": null,
            "justify_content": null,
            "justify_items": null,
            "left": null,
            "margin": null,
            "max_height": null,
            "max_width": null,
            "min_height": null,
            "min_width": null,
            "object_fit": null,
            "object_position": null,
            "order": null,
            "overflow": null,
            "overflow_x": null,
            "overflow_y": null,
            "padding": null,
            "right": null,
            "top": null,
            "visibility": "hidden",
            "width": null
          }
        }
      }
    }
  },
  "nbformat": 4,
  "nbformat_minor": 5
}
