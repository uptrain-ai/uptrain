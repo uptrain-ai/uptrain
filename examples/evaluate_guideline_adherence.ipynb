{
 "cells": [
  {
   "cell_type": "markdown",
   "id": "f6539807-d2be-47b6-a39e-aaacb1e6e0bb",
   "metadata": {},
   "source": [
    "<h1 align=\"center\">\n",
    "  <a href=\"https://uptrain.ai\">\n",
    "    <img width=\"300\" src=\"https://user-images.githubusercontent.com/108270398/214240695-4f958b76-c993-4ddd-8de6-8668f4d0da84.png\" alt=\"uptrain\">\n",
    "  </a>\n",
    "</h1>"
   ]
  },
  {
   "cell_type": "markdown",
   "id": "c2403e87-604e-44c6-8d9e-6c5806bc4cd7",
   "metadata": {},
   "source": [
    "<h1 style=\"text-align: center;\">Evaluating Guideline Adherence</h1>"
   ]
  },
  {
   "cell_type": "markdown",
   "id": "e4bbb618-cca0-41dc-8d50-c10a29ef5b4e",
   "metadata": {},
   "source": [
    "<img style=\"float: left;\" src=\"https://upload.wikimedia.org/wikipedia/commons/thumb/d/d0/Google_Colaboratory_SVG_Logo.svg/1600px-Google_Colaboratory_SVG_Logo.svg.png?20221103151432\" width=\"100\"/> <h3>Run on Google Colab <a href=\"https://colab.research.google.com/drive/13kI0923CM_Z6OPbly-VL71zyC7O2rCcf?usp=sharing\">here</a>.</h3> "
   ]
  },
  {
   "cell_type": "markdown",
   "id": "2ef54d59-295e-4f15-a35f-33f4e86ecdd2",
   "metadata": {},
   "source": [
    "**What is Guideline Adherence?**: Guideline adherence refers to the extent to which the LLM follows a given guideline, rule, or protocol. Given the complexity of LLMs, it is crucial to define certain guidelines, be it in terms of the structure of the output or the constraints on the content of the output or protocols on the decision-making capabilities of the LLM (agents). \n",
    "\n",
    "For example, for an LLM-powered chatbot agent trained to perform appointment booking tasks only, you want to make sure that the LLM is following the guideline: \"The agent should redirect all the queries to the human agent, except the ones related to appointment booking.\"\n",
    "\n",
    "\n",
    "#### GuidelineAdherence(\n",
    "\n",
    "    guideline: string  # Plain text explaining the guideline to be followed\n",
    "    \n",
    "    guideline_name: string (Optional)  # Name your guideline for better readability\n",
    "    \n",
    "    response_schema: string (Optional)  # String representing the response schema if the response is formatted as json, xml, etc.\n",
    "\n",
    "#### )"
   ]
  },
  {
   "cell_type": "markdown",
   "id": "76008cf6-dbd3-44bc-8556-86278868e746",
   "metadata": {},
   "source": [
    "Install UpTrain by running 'pip install uptrain'"
   ]
  },
  {
   "cell_type": "code",
   "execution_count": 12,
   "id": "90f4ff7d-10b9-482e-aa92-85c64ffc4057",
   "metadata": {},
   "outputs": [],
   "source": [
    "from uptrain.framework import EvalLLM, GuidelineAdherence\n",
    "import json\n",
    "\n",
    "OPENAI_API_KEY = \"sk-*****************\"  # Insert your OpenAI key here"
   ]
  },
  {
   "cell_type": "code",
   "execution_count": 13,
   "id": "bf292449-f9df-4e0f-912a-1a3fdedc19f1",
   "metadata": {},
   "outputs": [],
   "source": [
    "data = [{\n",
    "    'question': 'Which is the most popular global sport?',\n",
    "    'response': 'Football is the most popular sport with around 4 billion followers worldwide.'\n",
    "},\n",
    "{\n",
    "    'question': 'How to install UpTrain?',\n",
    "    'response': 'You can install UpTrain by running - pip install uptrain.'\n",
    "}]"
   ]
  },
  {
   "cell_type": "code",
   "execution_count": 14,
   "id": "f2291e1a-389b-472d-8fb3-5aa49f1fee37",
   "metadata": {},
   "outputs": [],
   "source": [
    "guideline = \"Response shouldn't contain any specific numbers or pricing-related information.\""
   ]
  },
  {
   "cell_type": "code",
   "execution_count": 17,
   "id": "d15fb087-3ed2-442f-9b23-35c7dbc6128e",
   "metadata": {},
   "outputs": [
    {
     "name": "stderr",
     "output_type": "stream",
     "text": [
      "\u001b[32m2023-09-30 02:20:11.938\u001b[0m | \u001b[1mINFO    \u001b[0m | \u001b[36muptrain.framework.evalllm\u001b[0m:\u001b[36mevaluate\u001b[0m:\u001b[36m95\u001b[0m - \u001b[1mSending evaluation request for rows 0 to <50 to the Uptrain\u001b[0m\n",
      "\u001b[32m2023-09-30 02:20:15.611\u001b[0m | \u001b[1mINFO    \u001b[0m | \u001b[36muptrain.framework.evalllm\u001b[0m:\u001b[36mevaluate\u001b[0m:\u001b[36m95\u001b[0m - \u001b[1mSending evaluation request for rows 0 to <50 to the Uptrain\u001b[0m\n",
      "\u001b[32m2023-09-30 02:20:18.779\u001b[0m | \u001b[1mINFO    \u001b[0m | \u001b[36muptrain.framework.evalllm\u001b[0m:\u001b[36mevaluate\u001b[0m:\u001b[36m95\u001b[0m - \u001b[1mSending evaluation request for rows 0 to <50 to the Uptrain\u001b[0m\n"
     ]
    }
   ],
   "source": [
    "eval_llm = EvalLLM(openai_api_key=OPENAI_API_KEY)\n",
    "\n",
    "res = eval_llm.evaluate(\n",
    "    data = data,\n",
    "    checks = [GuidelineAdherence(guideline=guideline, guideline_name=\"No Numbers\")]\n",
    ")"
   ]
  },
  {
   "cell_type": "code",
   "execution_count": 18,
   "id": "0a950849-0348-450f-add0-cea2c1423525",
   "metadata": {},
   "outputs": [
    {
     "name": "stdout",
     "output_type": "stream",
     "text": [
      "[\n",
      "   {\n",
      "      \"question\": \"Which is the most popular global sport?\",\n",
      "      \"response\": \"Football is the most popular sport with around 4 billion followers worldwide.\",\n",
      "      \"score_No Numbers_adherence\": 0.0,\n",
      "      \"explanation_No Numbers_adherence\": \"Argument for option A (The given guideline is strictly adhered to):\\n1. The guideline states that the response should not contain any specific numbers or pricing-related information.\\n2. The response provided by the ML model mentions that football is the most popular sport with around 4 billion followers worldwide.\\n3. The response does not contain any specific numbers or pricing-related information.\\n4. Therefore, the response adheres to the given guideline.\\n\\nArgument for option B (The given guideline is strictly violated):\\n1. The guideline states that the response should not contain any specific numbers or pricing-related information.\\n2. The response provided by the ML model mentions that football is the most popular sport with around 4 billion followers worldwide.\\n3. The response contains the specific number \\\"4 billion\\\" which is a violation of the guideline.\\n4. Therefore, the response violates the given guideline.\\n\\nJudgement:\\nBased on the arguments presented, it can be concluded that the ML model violates the given guideline by providing a response that contains specific numbers. Therefore, the correct answer is B (The given guideline is strictly violated).\\n\\n0.0\\n0.0\"\n",
      "   },\n",
      "   {\n",
      "      \"question\": \"How to install UpTrain?\",\n",
      "      \"response\": \"You can install UpTrain by running - pip install uptrain.\",\n",
      "      \"score_No Numbers_adherence\": 1.0,\n",
      "      \"explanation_No Numbers_adherence\": \"The given guideline states that the response should not contain any specific numbers or pricing-related information. \\n\\nIn the provided question-answer pair:\\n[Question]: How to install UpTrain?\\n[Response]: You can install UpTrain by running - pip install uptrain.\\n\\nThe response does not contain any specific numbers or pricing-related information. It provides a general instruction on how to install UpTrain using the pip install command. \\n\\nTherefore, the given guideline is strictly adhered to.\\n\\nScore: 1.0\"\n",
      "   }\n",
      "]\n"
     ]
    }
   ],
   "source": [
    "print(json.dumps(res,indent=3))"
   ]
  }
 ],
 "metadata": {
  "kernelspec": {
   "display_name": "Python 3 (ipykernel)",
   "language": "python",
   "name": "python3"
  },
  "language_info": {
   "codemirror_mode": {
    "name": "ipython",
    "version": 3
   },
   "file_extension": ".py",
   "mimetype": "text/x-python",
   "name": "python",
   "nbconvert_exporter": "python",
   "pygments_lexer": "ipython3",
   "version": "3.11.4"
  }
 },
 "nbformat": 4,
 "nbformat_minor": 5
}
