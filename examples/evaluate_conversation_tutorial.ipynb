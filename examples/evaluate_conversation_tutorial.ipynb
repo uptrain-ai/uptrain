{
 "cells": [
  {
   "cell_type": "markdown",
   "id": "9f74cbf3-07b5-40d8-86cd-6fe807d8f36e",
   "metadata": {
    "tags": []
   },
   "source": [
    "<h1 align=\"center\">\n",
    "  <a href=\"https://uptrain.ai\">\n",
    "    <img width=\"300\" src=\"https://user-images.githubusercontent.com/108270398/214240695-4f958b76-c993-4ddd-8de6-8668f4d0da84.png\" alt=\"uptrain\">\n",
    "  </a>\n",
    "</h1>"
   ]
  },
  {
   "cell_type": "markdown",
   "id": "9fc0b549-d081-442e-87ce-1ed0657540f2",
   "metadata": {},
   "source": [
    "<h1 style=\"text-align: center;\">Evaluating Conversation</h1>"
   ]
  },
  {
   "cell_type": "markdown",
   "id": "7c0d84ad-dd74-4a4c-9d96-d7aca1c5fe67",
   "metadata": {
    "tags": []
   },
   "source": [
    "<img style=\"float: left;\" src=\"https://upload.wikimedia.org/wikipedia/commons/thumb/d/d0/Google_Colaboratory_SVG_Logo.svg/1600px-Google_Colaboratory_SVG_Logo.svg.png?20221103151432\" width=\"100\"/> <h3>Run on Google Colab <a href=\"##\">here</a>.</h3> "
   ]
  },
  {
   "cell_type": "markdown",
   "id": "5f92208d-e85c-4108-951d-4f54940ace43",
   "metadata": {
    "tags": []
   },
   "source": [
    "**What is Conversation Satisfaction?**: Conversation Satisfaction is a metric that determines how well a model/LLM answers the query asked by the user. It determines the user's satisfaction based on the conversation with the LLM/AI assistant.\n",
    "\n",
    "It judges the conversation from various aspects. A few of them are listed below:\n",
    "1. Completeness: All the queries of the user have been answered or not.\n",
    "2. User's Acceptance: The user is satisfied with the given answers or not.\n",
    "\n",
    "#### ConversationSatisfaction(\n",
    "\n",
    "    role: string  # Entity name asking the queries\n",
    "    \n",
    "#### )"
   ]
  },
  {
   "cell_type": "markdown",
   "id": "82c5b58f-bfb9-4c63-8b22-8ed05fa1fa4d",
   "metadata": {},
   "source": [
    "Install UpTrain by running 'pip install uptrain'"
   ]
  },
  {
   "cell_type": "code",
   "execution_count": 15,
   "id": "bf4c2b81-59f4-4faa-b474-7b3f4c2ed509",
   "metadata": {
    "tags": []
   },
   "outputs": [],
   "source": [
    "chat= [{\n",
    "    'conversation' : [\n",
    "        {\"role\": \"patient\", \"content\": \"Help\"}, \n",
    "        {\"role\": \"nurse\", \"content\": \"what do you need\"}, \n",
    "        {\"role\": \"patient\", \"content\": \"Having chest pain\"}, \n",
    "        {\"role\": \"nurse\", \"content\": \"please call 102\"}\n",
    "    ]  \n",
    "}, \n",
    "{\n",
    "    'conversation' : [\n",
    "        {\"role\": \"patient\", \"content\": \"Help\"}, \n",
    "        {\"role\": \"nurse\", \"content\": \"what do you need\"}, \n",
    "        {\"role\": \"patient\", \"content\": \"Having chest pain\"}, \n",
    "        {\"role\": \"nurse\", \"content\": \"can't answer that\"},\n",
    "        {\"role\": \"nurse\", \"content\": \"Having severe hest pain\"}\n",
    "    ]  \n",
    "}]"
   ]
  },
  {
   "cell_type": "code",
   "execution_count": 16,
   "id": "ef514c56-dc83-434f-b5e8-a4966cda7990",
   "metadata": {
    "tags": []
   },
   "outputs": [],
   "source": [
    "from uptrain import EvalLLM, ConversationSatisfaction\n",
    "import json\n",
    "\n",
    "OPENAI_API_KEY = \"sk-***********************\"  # Insert your OpenAI key here"
   ]
  },
  {
   "cell_type": "code",
   "execution_count": 19,
   "id": "d6706deb-8e9d-4d45-8f9b-aed0e9da608f",
   "metadata": {
    "tags": []
   },
   "outputs": [
    {
     "name": "stderr",
     "output_type": "stream",
     "text": [
      "\u001b[32m2023-12-06 16:53:38.914\u001b[0m | \u001b[1mINFO    \u001b[0m | \u001b[36muptrain.framework.evalllm\u001b[0m:\u001b[36mevaluate\u001b[0m:\u001b[36m100\u001b[0m - \u001b[1mSending evaluation request for rows 0 to <50 to the Uptrain\u001b[0m\n",
      "\u001b[32m2023-12-06 16:53:48.730\u001b[0m | \u001b[1mINFO    \u001b[0m | \u001b[36muptrain.framework.evalllm\u001b[0m:\u001b[36mevaluate\u001b[0m:\u001b[36m100\u001b[0m - \u001b[1mSending evaluation request for rows 0 to <50 to the Uptrain\u001b[0m\n",
      "\u001b[32m2023-12-06 16:53:56.621\u001b[0m | \u001b[1mINFO    \u001b[0m | \u001b[36muptrain.framework.evalllm\u001b[0m:\u001b[36mevaluate\u001b[0m:\u001b[36m100\u001b[0m - \u001b[1mSending evaluation request for rows 0 to <50 to the Uptrain\u001b[0m\n"
     ]
    }
   ],
   "source": [
    "eval_llm = EvalLLM(openai_api_key=OPENAI_API_KEY)\n",
    "\n",
    "res = eval_llm.evaluate(\n",
    "    data = chat,\n",
    "    checks = [ConversationSatisfaction(role='patient')]\n",
    ")"
   ]
  },
  {
   "cell_type": "code",
   "execution_count": 21,
   "id": "fa5df117-5516-4e32-b86b-e3ade08a5d78",
   "metadata": {
    "tags": []
   },
   "outputs": [
    {
     "name": "stdout",
     "output_type": "stream",
     "text": [
      "[\n",
      "   {\n",
      "      \"conversation\": [\n",
      "         {\n",
      "            \"role\": \"patient\",\n",
      "            \"content\": \"Help\"\n",
      "         },\n",
      "         {\n",
      "            \"role\": \"nurse\",\n",
      "            \"content\": \"what do you need\"\n",
      "         },\n",
      "         {\n",
      "            \"role\": \"patient\",\n",
      "            \"content\": \"Having chest pain\"\n",
      "         },\n",
      "         {\n",
      "            \"role\": \"nurse\",\n",
      "            \"content\": \"please call 102\"\n",
      "         }\n",
      "      ],\n",
      "      \"score_conversation_satisfaction\": 0.95,\n",
      "      \"explanation_conversation_satisfaction\": \"1. The user starts the conversation with the query \\\"Help\\\". This indicates that the user is seeking assistance or guidance.\\n2. The second query from the user is \\\"Having chest pain\\\". This suggests that the user is experiencing a medical issue and is seeking help or advice related to it.\\n3. Based on the limited information provided, it is difficult to determine the specific context or details of the user's situation.\\n4. However, the user's queries indicate that they are actively seeking assistance and are reaching out for help.\\n5. Therefore, it can be concluded that the user looks moderately satisfied in the conversation as they are actively engaging with the AI assistant and seeking assistance for their issue.\\n\\nChoice: (B) The user looks moderately satisfied in the conversation.\\n\\nScore: 0.95\"\n",
      "   },\n",
      "   {\n",
      "      \"conversation\": [\n",
      "         {\n",
      "            \"role\": \"patient\",\n",
      "            \"content\": \"Help\"\n",
      "         },\n",
      "         {\n",
      "            \"role\": \"nurse\",\n",
      "            \"content\": \"what do you need\"\n",
      "         },\n",
      "         {\n",
      "            \"role\": \"patient\",\n",
      "            \"content\": \"Having chest pain\"\n",
      "         },\n",
      "         {\n",
      "            \"role\": \"nurse\",\n",
      "            \"content\": \"can't answer that\"\n",
      "         },\n",
      "         {\n",
      "            \"role\": \"nurse\",\n",
      "            \"content\": \"Having severe hest pain\"\n",
      "         }\n",
      "      ],\n",
      "      \"score_conversation_satisfaction\": 0.0,\n",
      "      \"explanation_conversation_satisfaction\": \"1. The user starts the conversation with the query \\\"Help\\\". This indicates that the user is seeking assistance or guidance.\\n2. The second query from the user is \\\"Having chest pain\\\". This suggests that the user is experiencing a medical issue and is seeking help or advice related to it.\\n3. Based on the limited information provided, it is difficult to determine the specific context or details of the user's situation.\\n4. However, it is clear that the user is reaching out for help and expressing a medical concern.\\n5. The AI assistant should respond by acknowledging the user's concern and providing appropriate guidance or information.\\n6. Without knowing the specific response from the AI assistant, it is not possible to determine the level of satisfaction of the user.\\n7. However, given the seriousness of the user's query about chest pain, it is important for the AI assistant to respond promptly and with empathy to address the user's concerns.\\n8. If the AI assistant fails to provide helpful or relevant information, or if it does not show empathy towards the user's medical concern, the user may not be satisfied with the conversation.\\n9. Therefore, based on the limited information provided, it is not possible to determine the level of satisfaction of the user accurately.\\n\\nScore: 0.0\"\n",
      "   }\n",
      "]\n"
     ]
    }
   ],
   "source": [
    "print(json.dumps(res,indent=3))"
   ]
  }
 ],
 "metadata": {
  "kernelspec": {
   "display_name": "Python 3 (ipykernel)",
   "language": "python",
   "name": "python3"
  },
  "language_info": {
   "codemirror_mode": {
    "name": "ipython",
    "version": 3
   },
   "file_extension": ".py",
   "mimetype": "text/x-python",
   "name": "python",
   "nbconvert_exporter": "python",
   "pygments_lexer": "ipython3",
   "version": "3.11.5"
  }
 },
 "nbformat": 4,
 "nbformat_minor": 5
}
