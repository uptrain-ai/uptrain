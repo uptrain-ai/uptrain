{
 "cells": [
  {
   "cell_type": "markdown",
   "metadata": {},
   "source": [
    "<a href=\"https://colab.research.google.com/github/uptrain-ai/uptrain/blob/main/examples/integrations/llm_providers/anyscale.ipynb\" target=\"_parent\"><img src=\"https://colab.research.google.com/assets/colab-badge.svg\" alt=\"Open In Colab\"/></a>"
   ]
  },
  {
   "cell_type": "markdown",
   "metadata": {},
   "source": [
    "<h1 align=\"center\">\n",
    "  <a href=\"https://uptrain.ai\">\n",
    "    <img width=\"300\" src=\"https://user-images.githubusercontent.com/108270398/214240695-4f958b76-c993-4ddd-8de6-8668f4d0da84.png\" alt=\"uptrain\">\n",
    "  </a>\n",
    "</h1>"
   ]
  },
  {
   "cell_type": "markdown",
   "metadata": {},
   "source": [
    "# Using UpTrain with AnyScale's Open Source Models\n",
    "\n",
    "Anyscale Endpoints provides fully managed API endpoints for open-source large language models (LLMs), allowing developers to seamlessly integrate these powerful models into their applications without managing underlying infrastructure. \n",
    "\n",
    "They offer API endpoints for models like Llama-2, Mistral-7B, CodeLlama, and more. We will use these endpoints to evaluate the performance of these models on a few tasks."
   ]
  },
  {
   "cell_type": "markdown",
   "metadata": {},
   "source": [
    "## Install UpTrain\n",
    "\n",
    "Run the following commands in your terminal to install UpTrain:\n",
    "```bash\n",
    "pip install uptrain\n",
    "```"
   ]
  },
  {
   "cell_type": "code",
   "execution_count": 1,
   "metadata": {},
   "outputs": [
    {
     "name": "stderr",
     "output_type": "stream",
     "text": [
      "/Users/shreyanshjain/anaconda3/lib/python3.11/site-packages/lazy_loader/__init__.py:185: RuntimeWarning: subpackages can technically be lazily loaded, but it causes the package to be eagerly loaded even if it is already lazily loaded.So, you probably shouldn't use subpackages with this lazy feature.\n",
      "  warnings.warn(msg, RuntimeWarning)\n"
     ]
    }
   ],
   "source": [
    "from uptrain import EvalLLM, Evals, Settings\n",
    "import json"
   ]
  },
  {
   "cell_type": "markdown",
   "metadata": {},
   "source": [
    "## Create your data\n",
    "\n",
    "You can define your data as a simple dictionary with the following keys:\n",
    "\n",
    "- `question`: The question you want to ask\n",
    "- `context`: The context relevant to the question\n",
    "- `response`: The response to the question"
   ]
  },
  {
   "cell_type": "code",
   "execution_count": 2,
   "metadata": {
    "tags": []
   },
   "outputs": [],
   "source": [
    "data = [{\n",
    "    'question': 'Which is the most popular global sport?',\n",
    "    'context': \"The popularity of sports can be measured in various ways, including TV viewership, social media presence, number of participants, and economic impact. Football is undoubtedly the world's most popular sport with major events like the FIFA World Cup and sports personalities like Ronaldo and Messi, drawing a followership of more than 4 billion people. Cricket is particularly popular in countries like India, Pakistan, Australia, and England. The ICC Cricket World Cup and Indian Premier League (IPL) have substantial viewership. The NBA has made basketball popular worldwide, especially in countries like the USA, Canada, China, and the Philippines. Major tennis tournaments like Wimbledon, the US Open, French Open, and Australian Open have large global audiences. Players like Roger Federer, Serena Williams, and Rafael Nadal have boosted the sport's popularity. Field Hockey is very popular in countries like India, Netherlands, and Australia. It has a considerable following in many parts of the world.\",\n",
    "    'response': 'Football is the most popular sport with around 4 billion followers worldwide'\n",
    "}]"
   ]
  },
  {
   "cell_type": "markdown",
   "metadata": {},
   "source": [
    "### Get your Anyscale API key\n",
    "\n",
    "You can get your Anyscale API key [here](https://app.endpoints.anyscale.com/credentials)."
   ]
  },
  {
   "cell_type": "code",
   "execution_count": 3,
   "metadata": {},
   "outputs": [],
   "source": [
    "TOGETHER_API_KEY = \"Bearer 9da3ec7e155c512d7b7a60cc6486b3976571275833d26647ca48fbb7e772c31a\""
   ]
  },
  {
   "cell_type": "markdown",
   "metadata": {},
   "source": [
    "We will be using Mistral-7B-Instruct-v0.1 for this example. You can find a full list of available models [here](https://docs.endpoints.anyscale.com/category/supported-models).\n",
    "\n",
    "Remember to add \"anyscale/\" at the beginning of the model name to let UpTrain know that you are using an AnyScale model."
   ]
  },
  {
   "cell_type": "code",
   "execution_count": 4,
   "metadata": {},
   "outputs": [],
   "source": [
    "settings = Settings(model='together/mistralai/Mixtral-8x7B-Instruct-v0.1', together_api_key=TOGETHER_API_KEY)"
   ]
  },
  {
   "cell_type": "markdown",
   "metadata": {},
   "source": [
    "### Create an EvalLLM Evaluator\n",
    "\n",
    "Before we can start using UpTrain, we need to create an EvalLLM Evaluator. You can do this by passing your API key to the `EvalLLM` constructor."
   ]
  },
  {
   "cell_type": "code",
   "execution_count": 5,
   "metadata": {},
   "outputs": [],
   "source": [
    "eval_llm = EvalLLM(settings)"
   ]
  },
  {
   "cell_type": "code",
   "execution_count": 6,
   "metadata": {
    "tags": []
   },
   "outputs": [
    {
     "name": "stderr",
     "output_type": "stream",
     "text": [
      "\u001b[32m2024-02-20 05:18:11.986\u001b[0m | \u001b[33m\u001b[1mWARNING \u001b[0m | \u001b[36muptrain.operators.language.llm\u001b[0m:\u001b[36mfetch_responses\u001b[0m:\u001b[36m234\u001b[0m - \u001b[33m\u001b[1mDetected a running event loop, scheduling requests in a separate thread.\u001b[0m\n",
      "  0%|          | 0/1 [00:00<?, ?it/s]\u001b[32m2024-02-20 05:18:12.320\u001b[0m | \u001b[31m\u001b[1mERROR   \u001b[0m | \u001b[36muptrain.operators.language.llm\u001b[0m:\u001b[36masync_process_payload\u001b[0m:\u001b[36m96\u001b[0m - \u001b[31m\u001b[1mError when sending request to LLM API: <!DOCTYPE html><html lang=\"en\"><head><meta charSet=\"utf-8\"/><link data-next-font=\"\" rel=\"preconnect\" href=\"/\" crossorigin=\"anonymous\"/><link rel=\"preload\" as=\"style\" href=\"/_next/static/css/358786393f972d15.css\"/><link rel=\"preload\" as=\"script\" href=\"/_next/static/chunks/webpack-f8e55b22fe69ebde.js\"/><link rel=\"preload\" as=\"script\" href=\"/_next/static/chunks/main-915862165dbce86d.js\"/><link rel=\"preload\" as=\"script\" href=\"/_next/static/chunks/pages/_app-65f41574701e8c70.js\"/><link rel=\"preload\" as=\"script\" href=\"/_next/static/chunks/pages/_error-7574ce9b2ec4e3e8.js\"/><link rel=\"preload\" as=\"script\" href=\"/_next/static/WtgxMBC1dVPfeESsYfYg1/_buildManifest.js\"/><link rel=\"preload\" as=\"script\" href=\"/_next/static/WtgxMBC1dVPfeESsYfYg1/_ssgManifest.js\"/><link rel=\"preload\" href=\"/_next/static/css/358786393f972d15.css\" as=\"style\"/><title>TOGETHER</title><meta name=\"description\" content=\"Together Computer\"/><link rel=\"icon\" href=\"/favicon.png\"/><meta name=\"viewport\" content=\"initial-scale=1, width=device-width\"/><meta name=\"next-head-count\" content=\"5\"/><meta name=\"theme-color\" content=\"#fff\"/><link rel=\"shortcut icon\" href=\"/favicon.png\"/><link rel=\"apple-touch-icon\" href=\"/favicon.png\"/><meta name=\"emotion-insertion-point\" content=\"\"/><style data-emotion=\"mui-style-global 15gmyd0\">html{-webkit-font-smoothing:antialiased;-moz-osx-font-smoothing:grayscale;box-sizing:border-box;-webkit-text-size-adjust:100%;}*,*::before,*::after{box-sizing:inherit;}strong,b{font-weight:900;}body{margin:0;color:#333333;font-size:1rem;font-family:-apple-system,BlinkMacSystemFont,\"Segoe UI\",Roboto,\"Helvetica Neue\",Arial,sans-serif,\"Apple Color Emoji\",\"Segoe UI Emoji\",\"Segoe UI Symbol\",Mplus 1p,Hiragino Sans,Hiragino Kaku Gothic Pro,游ゴシック,游ゴシック体,YuGothic,Yu Gothic,ＭＳ ゴシック,MS Gothic;font-weight:400;line-height:1.5;background-color:#fff;}@media print{body{background-color:#fff;}}body::backdrop{background-color:#fff;}</style><style data-emotion=\"mui-style \"></style><link rel=\"stylesheet\" href=\"/_next/static/css/358786393f972d15.css\" data-n-g=\"\"/><noscript data-n-css=\"\"></noscript><script defer=\"\" noModule=\"\" src=\"/_next/static/chunks/polyfills-c67a75d1b6f99dc8.js\"></script><script src=\"/_next/static/chunks/webpack-f8e55b22fe69ebde.js\" defer=\"\"></script><script src=\"/_next/static/chunks/main-915862165dbce86d.js\" defer=\"\"></script><script src=\"/_next/static/chunks/pages/_app-65f41574701e8c70.js\" defer=\"\"></script><script src=\"/_next/static/chunks/pages/_error-7574ce9b2ec4e3e8.js\" defer=\"\"></script><script src=\"/_next/static/WtgxMBC1dVPfeESsYfYg1/_buildManifest.js\" defer=\"\"></script><script src=\"/_next/static/WtgxMBC1dVPfeESsYfYg1/_ssgManifest.js\" defer=\"\"></script></head><body><div id=\"__next\"><div class=\"bg-dotgrid\"></div></div><script id=\"__NEXT_DATA__\" type=\"application/json\">{\"props\":{\"pageProps\":{\"statusCode\":404,\"_sentryTraceData\":\"e3fa862d185a499f8a79377afce46556-be60ed469c4c55a3-1\",\"_sentryBaggage\":\"sentry-environment=production,sentry-release=WtgxMBC1dVPfeESsYfYg1,sentry-public_key=0f923fae2c344083925a1e9eb3d3db8b,sentry-trace_id=e3fa862d185a499f8a79377afce46556,sentry-sample_rate=1,sentry-transaction=%2F_error,sentry-sampled=true\"},\"session\":null,\"rootDehydratedState\":{\"mutations\":[],\"queries\":[]}},\"page\":\"/_error\",\"query\":{},\"buildId\":\"WtgxMBC1dVPfeESsYfYg1\",\"runtimeConfig\":{\"NEXT_PUBLIC_STRIPE_PUBLIC_KEY\":\"pk_live_51MtEUEAyA3QpeTaBx08Uwerv6JtYmcZ47n1OoilSpII4vmOEZbHVLzpkWzMMw6egesD3chydKE52x0NXLUE7kgSA00cDaU4ieE\",\"NEXT_PUBLIC_WSAPI_URL\":\"wss://api.together.xyz/api/websocket\",\"NEXT_PUBLIC_AUTH_PROVIDERS\":[\"cilogon\",\"github\",\"google\",\"linkedin\"],\"NEXT_PUBLIC_AUTH0_CLIENT_ID\":\"4HvDdeJ32mErcbYHLAQflC13oVXjQ1cV\",\"NEXT_PUBLIC_AUTH0_DOMAIN\":\"auth.together.ai\"},\"isFallback\":false,\"customServer\":true,\"gip\":true,\"appGip\":true,\"locale\":\"en-US\",\"locales\":[\"en-US\"],\"defaultLocale\":\"en-US\",\"scriptLoader\":[]}</script></body></html>\u001b[0m\n",
      "100%|██████████| 1/1 [00:00<00:00,  1.43it/s]\n",
      "\u001b[32m2024-02-20 05:18:12.695\u001b[0m | \u001b[31m\u001b[1mERROR   \u001b[0m | \u001b[36muptrain.operators.language.context_quality\u001b[0m:\u001b[36mevaluate_local\u001b[0m:\u001b[36m178\u001b[0m - \u001b[31m\u001b[1mError when processing payload at index 0: <!DOCTYPE html><html lang=\"en\"><head><meta charSet=\"utf-8\"/><link data-next-font=\"\" rel=\"preconnect\" href=\"/\" crossorigin=\"anonymous\"/><link rel=\"preload\" as=\"style\" href=\"/_next/static/css/358786393f972d15.css\"/><link rel=\"preload\" as=\"script\" href=\"/_next/static/chunks/webpack-f8e55b22fe69ebde.js\"/><link rel=\"preload\" as=\"script\" href=\"/_next/static/chunks/main-915862165dbce86d.js\"/><link rel=\"preload\" as=\"script\" href=\"/_next/static/chunks/pages/_app-65f41574701e8c70.js\"/><link rel=\"preload\" as=\"script\" href=\"/_next/static/chunks/pages/_error-7574ce9b2ec4e3e8.js\"/><link rel=\"preload\" as=\"script\" href=\"/_next/static/WtgxMBC1dVPfeESsYfYg1/_buildManifest.js\"/><link rel=\"preload\" as=\"script\" href=\"/_next/static/WtgxMBC1dVPfeESsYfYg1/_ssgManifest.js\"/><link rel=\"preload\" href=\"/_next/static/css/358786393f972d15.css\" as=\"style\"/><title>TOGETHER</title><meta name=\"description\" content=\"Together Computer\"/><link rel=\"icon\" href=\"/favicon.png\"/><meta name=\"viewport\" content=\"initial-scale=1, width=device-width\"/><meta name=\"next-head-count\" content=\"5\"/><meta name=\"theme-color\" content=\"#fff\"/><link rel=\"shortcut icon\" href=\"/favicon.png\"/><link rel=\"apple-touch-icon\" href=\"/favicon.png\"/><meta name=\"emotion-insertion-point\" content=\"\"/><style data-emotion=\"mui-style-global 15gmyd0\">html{-webkit-font-smoothing:antialiased;-moz-osx-font-smoothing:grayscale;box-sizing:border-box;-webkit-text-size-adjust:100%;}*,*::before,*::after{box-sizing:inherit;}strong,b{font-weight:900;}body{margin:0;color:#333333;font-size:1rem;font-family:-apple-system,BlinkMacSystemFont,\"Segoe UI\",Roboto,\"Helvetica Neue\",Arial,sans-serif,\"Apple Color Emoji\",\"Segoe UI Emoji\",\"Segoe UI Symbol\",Mplus 1p,Hiragino Sans,Hiragino Kaku Gothic Pro,游ゴシック,游ゴシック体,YuGothic,Yu Gothic,ＭＳ ゴシック,MS Gothic;font-weight:400;line-height:1.5;background-color:#fff;}@media print{body{background-color:#fff;}}body::backdrop{background-color:#fff;}</style><style data-emotion=\"mui-style \"></style><link rel=\"stylesheet\" href=\"/_next/static/css/358786393f972d15.css\" data-n-g=\"\"/><noscript data-n-css=\"\"></noscript><script defer=\"\" noModule=\"\" src=\"/_next/static/chunks/polyfills-c67a75d1b6f99dc8.js\"></script><script src=\"/_next/static/chunks/webpack-f8e55b22fe69ebde.js\" defer=\"\"></script><script src=\"/_next/static/chunks/main-915862165dbce86d.js\" defer=\"\"></script><script src=\"/_next/static/chunks/pages/_app-65f41574701e8c70.js\" defer=\"\"></script><script src=\"/_next/static/chunks/pages/_error-7574ce9b2ec4e3e8.js\" defer=\"\"></script><script src=\"/_next/static/WtgxMBC1dVPfeESsYfYg1/_buildManifest.js\" defer=\"\"></script><script src=\"/_next/static/WtgxMBC1dVPfeESsYfYg1/_ssgManifest.js\" defer=\"\"></script></head><body><div id=\"__next\"><div class=\"bg-dotgrid\"></div></div><script id=\"__NEXT_DATA__\" type=\"application/json\">{\"props\":{\"pageProps\":{\"statusCode\":404,\"_sentryTraceData\":\"e3fa862d185a499f8a79377afce46556-be60ed469c4c55a3-1\",\"_sentryBaggage\":\"sentry-environment=production,sentry-release=WtgxMBC1dVPfeESsYfYg1,sentry-public_key=0f923fae2c344083925a1e9eb3d3db8b,sentry-trace_id=e3fa862d185a499f8a79377afce46556,sentry-sample_rate=1,sentry-transaction=%2F_error,sentry-sampled=true\"},\"session\":null,\"rootDehydratedState\":{\"mutations\":[],\"queries\":[]}},\"page\":\"/_error\",\"query\":{},\"buildId\":\"WtgxMBC1dVPfeESsYfYg1\",\"runtimeConfig\":{\"NEXT_PUBLIC_STRIPE_PUBLIC_KEY\":\"pk_live_51MtEUEAyA3QpeTaBx08Uwerv6JtYmcZ47n1OoilSpII4vmOEZbHVLzpkWzMMw6egesD3chydKE52x0NXLUE7kgSA00cDaU4ieE\",\"NEXT_PUBLIC_WSAPI_URL\":\"wss://api.together.xyz/api/websocket\",\"NEXT_PUBLIC_AUTH_PROVIDERS\":[\"cilogon\",\"github\",\"google\",\"linkedin\"],\"NEXT_PUBLIC_AUTH0_CLIENT_ID\":\"4HvDdeJ32mErcbYHLAQflC13oVXjQ1cV\",\"NEXT_PUBLIC_AUTH0_DOMAIN\":\"auth.together.ai\"},\"isFallback\":false,\"customServer\":true,\"gip\":true,\"appGip\":true,\"locale\":\"en-US\",\"locales\":[\"en-US\"],\"defaultLocale\":\"en-US\",\"scriptLoader\":[]}</script></body></html>\u001b[0m\n",
      "\u001b[32m2024-02-20 05:18:12.712\u001b[0m | \u001b[33m\u001b[1mWARNING \u001b[0m | \u001b[36muptrain.operators.language.llm\u001b[0m:\u001b[36mfetch_responses\u001b[0m:\u001b[36m234\u001b[0m - \u001b[33m\u001b[1mDetected a running event loop, scheduling requests in a separate thread.\u001b[0m\n",
      "  0%|          | 0/1 [00:00<?, ?it/s]\u001b[32m2024-02-20 05:18:13.809\u001b[0m | \u001b[31m\u001b[1mERROR   \u001b[0m | \u001b[36muptrain.operators.language.llm\u001b[0m:\u001b[36masync_process_payload\u001b[0m:\u001b[36m96\u001b[0m - \u001b[31m\u001b[1mError when sending request to LLM API: <!DOCTYPE html><html lang=\"en\"><head><meta charSet=\"utf-8\"/><link data-next-font=\"\" rel=\"preconnect\" href=\"/\" crossorigin=\"anonymous\"/><link rel=\"preload\" as=\"style\" href=\"/_next/static/css/358786393f972d15.css\"/><link rel=\"preload\" as=\"script\" href=\"/_next/static/chunks/webpack-f8e55b22fe69ebde.js\"/><link rel=\"preload\" as=\"script\" href=\"/_next/static/chunks/main-915862165dbce86d.js\"/><link rel=\"preload\" as=\"script\" href=\"/_next/static/chunks/pages/_app-65f41574701e8c70.js\"/><link rel=\"preload\" as=\"script\" href=\"/_next/static/chunks/pages/_error-7574ce9b2ec4e3e8.js\"/><link rel=\"preload\" as=\"script\" href=\"/_next/static/WtgxMBC1dVPfeESsYfYg1/_buildManifest.js\"/><link rel=\"preload\" as=\"script\" href=\"/_next/static/WtgxMBC1dVPfeESsYfYg1/_ssgManifest.js\"/><link rel=\"preload\" href=\"/_next/static/css/358786393f972d15.css\" as=\"style\"/><title>TOGETHER</title><meta name=\"description\" content=\"Together Computer\"/><link rel=\"icon\" href=\"/favicon.png\"/><meta name=\"viewport\" content=\"initial-scale=1, width=device-width\"/><meta name=\"next-head-count\" content=\"5\"/><meta name=\"theme-color\" content=\"#fff\"/><link rel=\"shortcut icon\" href=\"/favicon.png\"/><link rel=\"apple-touch-icon\" href=\"/favicon.png\"/><meta name=\"emotion-insertion-point\" content=\"\"/><style data-emotion=\"mui-style-global 15gmyd0\">html{-webkit-font-smoothing:antialiased;-moz-osx-font-smoothing:grayscale;box-sizing:border-box;-webkit-text-size-adjust:100%;}*,*::before,*::after{box-sizing:inherit;}strong,b{font-weight:900;}body{margin:0;color:#333333;font-size:1rem;font-family:-apple-system,BlinkMacSystemFont,\"Segoe UI\",Roboto,\"Helvetica Neue\",Arial,sans-serif,\"Apple Color Emoji\",\"Segoe UI Emoji\",\"Segoe UI Symbol\",Mplus 1p,Hiragino Sans,Hiragino Kaku Gothic Pro,游ゴシック,游ゴシック体,YuGothic,Yu Gothic,ＭＳ ゴシック,MS Gothic;font-weight:400;line-height:1.5;background-color:#fff;}@media print{body{background-color:#fff;}}body::backdrop{background-color:#fff;}</style><style data-emotion=\"mui-style \"></style><link rel=\"stylesheet\" href=\"/_next/static/css/358786393f972d15.css\" data-n-g=\"\"/><noscript data-n-css=\"\"></noscript><script defer=\"\" noModule=\"\" src=\"/_next/static/chunks/polyfills-c67a75d1b6f99dc8.js\"></script><script src=\"/_next/static/chunks/webpack-f8e55b22fe69ebde.js\" defer=\"\"></script><script src=\"/_next/static/chunks/main-915862165dbce86d.js\" defer=\"\"></script><script src=\"/_next/static/chunks/pages/_app-65f41574701e8c70.js\" defer=\"\"></script><script src=\"/_next/static/chunks/pages/_error-7574ce9b2ec4e3e8.js\" defer=\"\"></script><script src=\"/_next/static/WtgxMBC1dVPfeESsYfYg1/_buildManifest.js\" defer=\"\"></script><script src=\"/_next/static/WtgxMBC1dVPfeESsYfYg1/_ssgManifest.js\" defer=\"\"></script></head><body><div id=\"__next\"><div class=\"bg-dotgrid\"></div></div><script id=\"__NEXT_DATA__\" type=\"application/json\">{\"props\":{\"pageProps\":{\"statusCode\":404,\"_sentryTraceData\":\"55b45fdce5d54b35a81f4ea3d5b19740-9227b4f7b91e7fed-1\",\"_sentryBaggage\":\"sentry-environment=production,sentry-release=WtgxMBC1dVPfeESsYfYg1,sentry-public_key=0f923fae2c344083925a1e9eb3d3db8b,sentry-trace_id=55b45fdce5d54b35a81f4ea3d5b19740,sentry-sample_rate=1,sentry-transaction=%2F_error,sentry-sampled=true\"},\"session\":null,\"rootDehydratedState\":{\"mutations\":[],\"queries\":[]}},\"page\":\"/_error\",\"query\":{},\"buildId\":\"WtgxMBC1dVPfeESsYfYg1\",\"runtimeConfig\":{\"NEXT_PUBLIC_STRIPE_PUBLIC_KEY\":\"pk_live_51MtEUEAyA3QpeTaBx08Uwerv6JtYmcZ47n1OoilSpII4vmOEZbHVLzpkWzMMw6egesD3chydKE52x0NXLUE7kgSA00cDaU4ieE\",\"NEXT_PUBLIC_WSAPI_URL\":\"wss://api.together.xyz/api/websocket\",\"NEXT_PUBLIC_AUTH_PROVIDERS\":[\"cilogon\",\"github\",\"google\",\"linkedin\"],\"NEXT_PUBLIC_AUTH0_CLIENT_ID\":\"4HvDdeJ32mErcbYHLAQflC13oVXjQ1cV\",\"NEXT_PUBLIC_AUTH0_DOMAIN\":\"auth.together.ai\"},\"isFallback\":false,\"customServer\":true,\"gip\":true,\"appGip\":true,\"locale\":\"en-US\",\"locales\":[\"en-US\"],\"defaultLocale\":\"en-US\",\"scriptLoader\":[]}</script></body></html>\u001b[0m\n",
      "100%|██████████| 1/1 [00:01<00:00,  1.10s/it]\n",
      "\u001b[32m2024-02-20 05:18:13.813\u001b[0m | \u001b[31m\u001b[1mERROR   \u001b[0m | \u001b[36muptrain.operators.language.factual_accuracy\u001b[0m:\u001b[36mevaluate_local\u001b[0m:\u001b[36m172\u001b[0m - \u001b[31m\u001b[1mError when processing payload at index 0: <!DOCTYPE html><html lang=\"en\"><head><meta charSet=\"utf-8\"/><link data-next-font=\"\" rel=\"preconnect\" href=\"/\" crossorigin=\"anonymous\"/><link rel=\"preload\" as=\"style\" href=\"/_next/static/css/358786393f972d15.css\"/><link rel=\"preload\" as=\"script\" href=\"/_next/static/chunks/webpack-f8e55b22fe69ebde.js\"/><link rel=\"preload\" as=\"script\" href=\"/_next/static/chunks/main-915862165dbce86d.js\"/><link rel=\"preload\" as=\"script\" href=\"/_next/static/chunks/pages/_app-65f41574701e8c70.js\"/><link rel=\"preload\" as=\"script\" href=\"/_next/static/chunks/pages/_error-7574ce9b2ec4e3e8.js\"/><link rel=\"preload\" as=\"script\" href=\"/_next/static/WtgxMBC1dVPfeESsYfYg1/_buildManifest.js\"/><link rel=\"preload\" as=\"script\" href=\"/_next/static/WtgxMBC1dVPfeESsYfYg1/_ssgManifest.js\"/><link rel=\"preload\" href=\"/_next/static/css/358786393f972d15.css\" as=\"style\"/><title>TOGETHER</title><meta name=\"description\" content=\"Together Computer\"/><link rel=\"icon\" href=\"/favicon.png\"/><meta name=\"viewport\" content=\"initial-scale=1, width=device-width\"/><meta name=\"next-head-count\" content=\"5\"/><meta name=\"theme-color\" content=\"#fff\"/><link rel=\"shortcut icon\" href=\"/favicon.png\"/><link rel=\"apple-touch-icon\" href=\"/favicon.png\"/><meta name=\"emotion-insertion-point\" content=\"\"/><style data-emotion=\"mui-style-global 15gmyd0\">html{-webkit-font-smoothing:antialiased;-moz-osx-font-smoothing:grayscale;box-sizing:border-box;-webkit-text-size-adjust:100%;}*,*::before,*::after{box-sizing:inherit;}strong,b{font-weight:900;}body{margin:0;color:#333333;font-size:1rem;font-family:-apple-system,BlinkMacSystemFont,\"Segoe UI\",Roboto,\"Helvetica Neue\",Arial,sans-serif,\"Apple Color Emoji\",\"Segoe UI Emoji\",\"Segoe UI Symbol\",Mplus 1p,Hiragino Sans,Hiragino Kaku Gothic Pro,游ゴシック,游ゴシック体,YuGothic,Yu Gothic,ＭＳ ゴシック,MS Gothic;font-weight:400;line-height:1.5;background-color:#fff;}@media print{body{background-color:#fff;}}body::backdrop{background-color:#fff;}</style><style data-emotion=\"mui-style \"></style><link rel=\"stylesheet\" href=\"/_next/static/css/358786393f972d15.css\" data-n-g=\"\"/><noscript data-n-css=\"\"></noscript><script defer=\"\" noModule=\"\" src=\"/_next/static/chunks/polyfills-c67a75d1b6f99dc8.js\"></script><script src=\"/_next/static/chunks/webpack-f8e55b22fe69ebde.js\" defer=\"\"></script><script src=\"/_next/static/chunks/main-915862165dbce86d.js\" defer=\"\"></script><script src=\"/_next/static/chunks/pages/_app-65f41574701e8c70.js\" defer=\"\"></script><script src=\"/_next/static/chunks/pages/_error-7574ce9b2ec4e3e8.js\" defer=\"\"></script><script src=\"/_next/static/WtgxMBC1dVPfeESsYfYg1/_buildManifest.js\" defer=\"\"></script><script src=\"/_next/static/WtgxMBC1dVPfeESsYfYg1/_ssgManifest.js\" defer=\"\"></script></head><body><div id=\"__next\"><div class=\"bg-dotgrid\"></div></div><script id=\"__NEXT_DATA__\" type=\"application/json\">{\"props\":{\"pageProps\":{\"statusCode\":404,\"_sentryTraceData\":\"55b45fdce5d54b35a81f4ea3d5b19740-9227b4f7b91e7fed-1\",\"_sentryBaggage\":\"sentry-environment=production,sentry-release=WtgxMBC1dVPfeESsYfYg1,sentry-public_key=0f923fae2c344083925a1e9eb3d3db8b,sentry-trace_id=55b45fdce5d54b35a81f4ea3d5b19740,sentry-sample_rate=1,sentry-transaction=%2F_error,sentry-sampled=true\"},\"session\":null,\"rootDehydratedState\":{\"mutations\":[],\"queries\":[]}},\"page\":\"/_error\",\"query\":{},\"buildId\":\"WtgxMBC1dVPfeESsYfYg1\",\"runtimeConfig\":{\"NEXT_PUBLIC_STRIPE_PUBLIC_KEY\":\"pk_live_51MtEUEAyA3QpeTaBx08Uwerv6JtYmcZ47n1OoilSpII4vmOEZbHVLzpkWzMMw6egesD3chydKE52x0NXLUE7kgSA00cDaU4ieE\",\"NEXT_PUBLIC_WSAPI_URL\":\"wss://api.together.xyz/api/websocket\",\"NEXT_PUBLIC_AUTH_PROVIDERS\":[\"cilogon\",\"github\",\"google\",\"linkedin\"],\"NEXT_PUBLIC_AUTH0_CLIENT_ID\":\"4HvDdeJ32mErcbYHLAQflC13oVXjQ1cV\",\"NEXT_PUBLIC_AUTH0_DOMAIN\":\"auth.together.ai\"},\"isFallback\":false,\"customServer\":true,\"gip\":true,\"appGip\":true,\"locale\":\"en-US\",\"locales\":[\"en-US\"],\"defaultLocale\":\"en-US\",\"scriptLoader\":[]}</script></body></html>\u001b[0m\n",
      "\u001b[32m2024-02-20 05:18:13.814\u001b[0m | \u001b[33m\u001b[1mWARNING \u001b[0m | \u001b[36muptrain.operators.language.llm\u001b[0m:\u001b[36mfetch_responses\u001b[0m:\u001b[36m234\u001b[0m - \u001b[33m\u001b[1mDetected a running event loop, scheduling requests in a separate thread.\u001b[0m\n",
      "  0%|          | 0/1 [00:00<?, ?it/s]\u001b[32m2024-02-20 05:18:15.774\u001b[0m | \u001b[31m\u001b[1mERROR   \u001b[0m | \u001b[36muptrain.operators.language.llm\u001b[0m:\u001b[36masync_process_payload\u001b[0m:\u001b[36m96\u001b[0m - \u001b[31m\u001b[1mError when sending request to LLM API: <!DOCTYPE html><html lang=\"en\"><head><meta charSet=\"utf-8\"/><link data-next-font=\"\" rel=\"preconnect\" href=\"/\" crossorigin=\"anonymous\"/><link rel=\"preload\" as=\"style\" href=\"/_next/static/css/358786393f972d15.css\"/><link rel=\"preload\" as=\"script\" href=\"/_next/static/chunks/webpack-f8e55b22fe69ebde.js\"/><link rel=\"preload\" as=\"script\" href=\"/_next/static/chunks/main-915862165dbce86d.js\"/><link rel=\"preload\" as=\"script\" href=\"/_next/static/chunks/pages/_app-65f41574701e8c70.js\"/><link rel=\"preload\" as=\"script\" href=\"/_next/static/chunks/pages/_error-7574ce9b2ec4e3e8.js\"/><link rel=\"preload\" as=\"script\" href=\"/_next/static/WtgxMBC1dVPfeESsYfYg1/_buildManifest.js\"/><link rel=\"preload\" as=\"script\" href=\"/_next/static/WtgxMBC1dVPfeESsYfYg1/_ssgManifest.js\"/><link rel=\"preload\" href=\"/_next/static/css/358786393f972d15.css\" as=\"style\"/><title>TOGETHER</title><meta name=\"description\" content=\"Together Computer\"/><link rel=\"icon\" href=\"/favicon.png\"/><meta name=\"viewport\" content=\"initial-scale=1, width=device-width\"/><meta name=\"next-head-count\" content=\"5\"/><meta name=\"theme-color\" content=\"#fff\"/><link rel=\"shortcut icon\" href=\"/favicon.png\"/><link rel=\"apple-touch-icon\" href=\"/favicon.png\"/><meta name=\"emotion-insertion-point\" content=\"\"/><style data-emotion=\"mui-style-global 15gmyd0\">html{-webkit-font-smoothing:antialiased;-moz-osx-font-smoothing:grayscale;box-sizing:border-box;-webkit-text-size-adjust:100%;}*,*::before,*::after{box-sizing:inherit;}strong,b{font-weight:900;}body{margin:0;color:#333333;font-size:1rem;font-family:-apple-system,BlinkMacSystemFont,\"Segoe UI\",Roboto,\"Helvetica Neue\",Arial,sans-serif,\"Apple Color Emoji\",\"Segoe UI Emoji\",\"Segoe UI Symbol\",Mplus 1p,Hiragino Sans,Hiragino Kaku Gothic Pro,游ゴシック,游ゴシック体,YuGothic,Yu Gothic,ＭＳ ゴシック,MS Gothic;font-weight:400;line-height:1.5;background-color:#fff;}@media print{body{background-color:#fff;}}body::backdrop{background-color:#fff;}</style><style data-emotion=\"mui-style \"></style><link rel=\"stylesheet\" href=\"/_next/static/css/358786393f972d15.css\" data-n-g=\"\"/><noscript data-n-css=\"\"></noscript><script defer=\"\" noModule=\"\" src=\"/_next/static/chunks/polyfills-c67a75d1b6f99dc8.js\"></script><script src=\"/_next/static/chunks/webpack-f8e55b22fe69ebde.js\" defer=\"\"></script><script src=\"/_next/static/chunks/main-915862165dbce86d.js\" defer=\"\"></script><script src=\"/_next/static/chunks/pages/_app-65f41574701e8c70.js\" defer=\"\"></script><script src=\"/_next/static/chunks/pages/_error-7574ce9b2ec4e3e8.js\" defer=\"\"></script><script src=\"/_next/static/WtgxMBC1dVPfeESsYfYg1/_buildManifest.js\" defer=\"\"></script><script src=\"/_next/static/WtgxMBC1dVPfeESsYfYg1/_ssgManifest.js\" defer=\"\"></script></head><body><div id=\"__next\"><div class=\"bg-dotgrid\"></div></div><script id=\"__NEXT_DATA__\" type=\"application/json\">{\"props\":{\"pageProps\":{\"statusCode\":404,\"_sentryTraceData\":\"e0f136cff26445d1ab1d75d72e9c71bc-82f1516a548ab1d6-1\",\"_sentryBaggage\":\"sentry-environment=production,sentry-release=WtgxMBC1dVPfeESsYfYg1,sentry-public_key=0f923fae2c344083925a1e9eb3d3db8b,sentry-trace_id=e0f136cff26445d1ab1d75d72e9c71bc,sentry-sample_rate=1,sentry-transaction=%2F_error,sentry-sampled=true\"},\"session\":null,\"rootDehydratedState\":{\"mutations\":[],\"queries\":[]}},\"page\":\"/_error\",\"query\":{},\"buildId\":\"WtgxMBC1dVPfeESsYfYg1\",\"runtimeConfig\":{\"NEXT_PUBLIC_STRIPE_PUBLIC_KEY\":\"pk_live_51MtEUEAyA3QpeTaBx08Uwerv6JtYmcZ47n1OoilSpII4vmOEZbHVLzpkWzMMw6egesD3chydKE52x0NXLUE7kgSA00cDaU4ieE\",\"NEXT_PUBLIC_WSAPI_URL\":\"wss://api.together.xyz/api/websocket\",\"NEXT_PUBLIC_AUTH_PROVIDERS\":[\"cilogon\",\"github\",\"google\",\"linkedin\"],\"NEXT_PUBLIC_AUTH0_CLIENT_ID\":\"4HvDdeJ32mErcbYHLAQflC13oVXjQ1cV\",\"NEXT_PUBLIC_AUTH0_DOMAIN\":\"auth.together.ai\"},\"isFallback\":false,\"customServer\":true,\"gip\":true,\"appGip\":true,\"locale\":\"en-US\",\"locales\":[\"en-US\"],\"defaultLocale\":\"en-US\",\"scriptLoader\":[]}</script></body></html>\u001b[0m\n",
      "100%|██████████| 1/1 [00:01<00:00,  1.96s/it]\n",
      "\u001b[32m2024-02-20 05:18:15.777\u001b[0m | \u001b[31m\u001b[1mERROR   \u001b[0m | \u001b[36muptrain.operators.language.factual_accuracy\u001b[0m:\u001b[36mevaluate_local\u001b[0m:\u001b[36m236\u001b[0m - \u001b[31m\u001b[1mError when processing payload at index 0: <!DOCTYPE html><html lang=\"en\"><head><meta charSet=\"utf-8\"/><link data-next-font=\"\" rel=\"preconnect\" href=\"/\" crossorigin=\"anonymous\"/><link rel=\"preload\" as=\"style\" href=\"/_next/static/css/358786393f972d15.css\"/><link rel=\"preload\" as=\"script\" href=\"/_next/static/chunks/webpack-f8e55b22fe69ebde.js\"/><link rel=\"preload\" as=\"script\" href=\"/_next/static/chunks/main-915862165dbce86d.js\"/><link rel=\"preload\" as=\"script\" href=\"/_next/static/chunks/pages/_app-65f41574701e8c70.js\"/><link rel=\"preload\" as=\"script\" href=\"/_next/static/chunks/pages/_error-7574ce9b2ec4e3e8.js\"/><link rel=\"preload\" as=\"script\" href=\"/_next/static/WtgxMBC1dVPfeESsYfYg1/_buildManifest.js\"/><link rel=\"preload\" as=\"script\" href=\"/_next/static/WtgxMBC1dVPfeESsYfYg1/_ssgManifest.js\"/><link rel=\"preload\" href=\"/_next/static/css/358786393f972d15.css\" as=\"style\"/><title>TOGETHER</title><meta name=\"description\" content=\"Together Computer\"/><link rel=\"icon\" href=\"/favicon.png\"/><meta name=\"viewport\" content=\"initial-scale=1, width=device-width\"/><meta name=\"next-head-count\" content=\"5\"/><meta name=\"theme-color\" content=\"#fff\"/><link rel=\"shortcut icon\" href=\"/favicon.png\"/><link rel=\"apple-touch-icon\" href=\"/favicon.png\"/><meta name=\"emotion-insertion-point\" content=\"\"/><style data-emotion=\"mui-style-global 15gmyd0\">html{-webkit-font-smoothing:antialiased;-moz-osx-font-smoothing:grayscale;box-sizing:border-box;-webkit-text-size-adjust:100%;}*,*::before,*::after{box-sizing:inherit;}strong,b{font-weight:900;}body{margin:0;color:#333333;font-size:1rem;font-family:-apple-system,BlinkMacSystemFont,\"Segoe UI\",Roboto,\"Helvetica Neue\",Arial,sans-serif,\"Apple Color Emoji\",\"Segoe UI Emoji\",\"Segoe UI Symbol\",Mplus 1p,Hiragino Sans,Hiragino Kaku Gothic Pro,游ゴシック,游ゴシック体,YuGothic,Yu Gothic,ＭＳ ゴシック,MS Gothic;font-weight:400;line-height:1.5;background-color:#fff;}@media print{body{background-color:#fff;}}body::backdrop{background-color:#fff;}</style><style data-emotion=\"mui-style \"></style><link rel=\"stylesheet\" href=\"/_next/static/css/358786393f972d15.css\" data-n-g=\"\"/><noscript data-n-css=\"\"></noscript><script defer=\"\" noModule=\"\" src=\"/_next/static/chunks/polyfills-c67a75d1b6f99dc8.js\"></script><script src=\"/_next/static/chunks/webpack-f8e55b22fe69ebde.js\" defer=\"\"></script><script src=\"/_next/static/chunks/main-915862165dbce86d.js\" defer=\"\"></script><script src=\"/_next/static/chunks/pages/_app-65f41574701e8c70.js\" defer=\"\"></script><script src=\"/_next/static/chunks/pages/_error-7574ce9b2ec4e3e8.js\" defer=\"\"></script><script src=\"/_next/static/WtgxMBC1dVPfeESsYfYg1/_buildManifest.js\" defer=\"\"></script><script src=\"/_next/static/WtgxMBC1dVPfeESsYfYg1/_ssgManifest.js\" defer=\"\"></script></head><body><div id=\"__next\"><div class=\"bg-dotgrid\"></div></div><script id=\"__NEXT_DATA__\" type=\"application/json\">{\"props\":{\"pageProps\":{\"statusCode\":404,\"_sentryTraceData\":\"e0f136cff26445d1ab1d75d72e9c71bc-82f1516a548ab1d6-1\",\"_sentryBaggage\":\"sentry-environment=production,sentry-release=WtgxMBC1dVPfeESsYfYg1,sentry-public_key=0f923fae2c344083925a1e9eb3d3db8b,sentry-trace_id=e0f136cff26445d1ab1d75d72e9c71bc,sentry-sample_rate=1,sentry-transaction=%2F_error,sentry-sampled=true\"},\"session\":null,\"rootDehydratedState\":{\"mutations\":[],\"queries\":[]}},\"page\":\"/_error\",\"query\":{},\"buildId\":\"WtgxMBC1dVPfeESsYfYg1\",\"runtimeConfig\":{\"NEXT_PUBLIC_STRIPE_PUBLIC_KEY\":\"pk_live_51MtEUEAyA3QpeTaBx08Uwerv6JtYmcZ47n1OoilSpII4vmOEZbHVLzpkWzMMw6egesD3chydKE52x0NXLUE7kgSA00cDaU4ieE\",\"NEXT_PUBLIC_WSAPI_URL\":\"wss://api.together.xyz/api/websocket\",\"NEXT_PUBLIC_AUTH_PROVIDERS\":[\"cilogon\",\"github\",\"google\",\"linkedin\"],\"NEXT_PUBLIC_AUTH0_CLIENT_ID\":\"4HvDdeJ32mErcbYHLAQflC13oVXjQ1cV\",\"NEXT_PUBLIC_AUTH0_DOMAIN\":\"auth.together.ai\"},\"isFallback\":false,\"customServer\":true,\"gip\":true,\"appGip\":true,\"locale\":\"en-US\",\"locales\":[\"en-US\"],\"defaultLocale\":\"en-US\",\"scriptLoader\":[]}</script></body></html>\u001b[0m\n"
     ]
    }
   ],
   "source": [
    "results = eval_llm.evaluate(\n",
    "    data=data,\n",
    "    checks=[Evals.CONTEXT_RELEVANCE, Evals.FACTUAL_ACCURACY]\n",
    ")"
   ]
  },
  {
   "cell_type": "markdown",
   "metadata": {},
   "source": [
    "### Get your results"
   ]
  },
  {
   "cell_type": "code",
   "execution_count": 7,
   "metadata": {
    "tags": []
   },
   "outputs": [
    {
     "name": "stdout",
     "output_type": "stream",
     "text": [
      "[\n",
      "   {\n",
      "      \"question\": \"Which is the most popular global sport?\",\n",
      "      \"context\": \"The popularity of sports can be measured in various ways, including TV viewership, social media presence, number of participants, and economic impact. Football is undoubtedly the world's most popular sport with major events like the FIFA World Cup and sports personalities like Ronaldo and Messi, drawing a followership of more than 4 billion people. Cricket is particularly popular in countries like India, Pakistan, Australia, and England. The ICC Cricket World Cup and Indian Premier League (IPL) have substantial viewership. The NBA has made basketball popular worldwide, especially in countries like the USA, Canada, China, and the Philippines. Major tennis tournaments like Wimbledon, the US Open, French Open, and Australian Open have large global audiences. Players like Roger Federer, Serena Williams, and Rafael Nadal have boosted the sport's popularity. Field Hockey is very popular in countries like India, Netherlands, and Australia. It has a considerable following in many parts of the world.\",\n",
      "      \"response\": \"Football is the most popular sport with around 4 billion followers worldwide\",\n",
      "      \"score_context_relevance\": null,\n",
      "      \"explanation_context_relevance\": null,\n",
      "      \"score_factual_accuracy\": null,\n",
      "      \"explanation_factual_accuracy\": null\n",
      "   }\n",
      "]\n"
     ]
    }
   ],
   "source": [
    "print(json.dumps(results, indent=3))"
   ]
  }
 ],
 "metadata": {
  "kernelspec": {
   "display_name": "Python 3 (ipykernel)",
   "language": "python",
   "name": "python3"
  },
  "language_info": {
   "codemirror_mode": {
    "name": "ipython",
    "version": 3
   },
   "file_extension": ".py",
   "mimetype": "text/x-python",
   "name": "python",
   "nbconvert_exporter": "python",
   "pygments_lexer": "ipython3",
   "version": "3.11.7"
  }
 },
 "nbformat": 4,
 "nbformat_minor": 4
}
