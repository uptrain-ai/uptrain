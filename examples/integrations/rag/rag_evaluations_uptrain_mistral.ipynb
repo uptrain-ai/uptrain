{
 "cells": [
  {
   "cell_type": "markdown",
   "id": "4ec4088c",
   "metadata": {},
   "source": [
    "<a href=\"https://colab.research.google.com/github/uptrain-ai/uptrain/blob/main/examples/integrations/rag/rag_evaluations_with_uptrain.ipynb\" target=\"_parent\"><img src=\"https://colab.research.google.com/assets/colab-badge.svg\" alt=\"Open In Colab\"/></a>"
   ]
  },
  {
   "cell_type": "markdown",
   "id": "fb798603",
   "metadata": {},
   "source": [
    "<h1 align=\"center\">\n",
    "  <a href=\"https://uptrain.ai\">\n",
    "    <img width=\"300\" src=\"https://user-images.githubusercontent.com/108270398/214240695-4f958b76-c993-4ddd-8de6-8668f4d0da84.png\" alt=\"UpTrain\">\n",
    "  </a>\n",
    "</h1>\n",
    "\n",
    "<div style=\"text-align: center;\">"
   ]
  },
  {
   "cell_type": "markdown",
   "id": "2effbc0d",
   "metadata": {},
   "source": [
    "# Evaluate RAG Pipeleine using UpTrain and Mistral\n",
    "Retrieval-augmented generation (RAG) is is a technique for enhancing the accuracy and reliability of LLMs with information retrieved from external sources. \n",
    "In this notebook we will be covering 2 main steps: \n",
    "1. Implementing RAG\n",
    "    \n",
    "    a. Retrieval: Fetch relevant information from a knowledge base, create embeddings and store them in a Vector DB ([FAISS](https://ai.meta.com/tools/faiss/))\n",
    "    \n",
    "    b. Generation: Use the retrieved information to the generate information using [Mistral](https://mistral.ai/) LLM\n",
    "    \n",
    "2. Evaluating the RAG pipeline (retrieved information and generated response) using [UpTrain](https://uptrain.ai)\n",
    "\n",
    "If you face any difficulties, need some help with using UpTrain or want to brainstorm custom evaluations for your use-case, you can speak to the maintainers of UpTrain [here](https://calendly.com/uptrain-sourabh/30min)."
   ]
  },
  {
   "cell_type": "markdown",
   "id": "02148aff",
   "metadata": {},
   "source": [
    "### Step 1: Install Dependencies"
   ]
  },
  {
   "cell_type": "code",
   "execution_count": 1,
   "id": "b880d1ed-3db0-45a1-807e-1b47e9ce1320",
   "metadata": {},
   "outputs": [
    {
     "name": "stdout",
     "output_type": "stream",
     "text": [
      "Note: you may need to restart the kernel to use updated packages.\n"
     ]
    }
   ],
   "source": [
    "%pip install faiss-cpu mistralai datasets uptrain -q"
   ]
  },
  {
   "cell_type": "markdown",
   "id": "34c48f43",
   "metadata": {},
   "source": [
    "### Step 2: Import Required Libraries "
   ]
  },
  {
   "cell_type": "code",
   "execution_count": 2,
   "id": "851612c3-ee93-42e3-a1fb-481f89c9410f",
   "metadata": {},
   "outputs": [
    {
     "name": "stderr",
     "output_type": "stream",
     "text": [
      "/Library/Frameworks/Python.framework/Versions/3.11/lib/python3.11/site-packages/tqdm/auto.py:21: TqdmWarning: IProgress not found. Please update jupyter and ipywidgets. See https://ipywidgets.readthedocs.io/en/stable/user_install.html\n",
      "  from .autonotebook import tqdm as notebook_tqdm\n"
     ]
    }
   ],
   "source": [
    "from mistralai.client import MistralClient\n",
    "from mistralai.models.chat_completion import ChatMessage\n",
    "from datasets import load_dataset\n",
    "import requests\n",
    "import numpy as np\n",
    "import faiss\n",
    "import os\n",
    "import json\n",
    "\n",
    "mistral_api_key= os.environ[\"MISTRAL_API_KEY\"]\n",
    "client = MistralClient(api_key=mistral_api_key)"
   ]
  },
  {
   "cell_type": "markdown",
   "id": "fe8609d5-9f27-4202-b0be-36db34412998",
   "metadata": {},
   "source": [
    "### Step 3: Import a Dataset \n",
    "\n",
    "In this notebook we will be using the [quac](https://huggingface.co/datasets/quac) dataset available on Hugging Face.\n",
    "\n",
    "We will be using the user queries and context information from this dataset"
   ]
  },
  {
   "cell_type": "code",
   "execution_count": 3,
   "id": "ffa49b0e",
   "metadata": {},
   "outputs": [],
   "source": [
    "# Load Dataset\n",
    "dataset = load_dataset(\"quac\", split = 'train')   \n",
    "\n",
    "# Select a question from the dataset      \n",
    "question = \"Where is the Malayalam language spoken?\" \n",
    "\n",
    "# Select context information from the dataset (for simplicity we are using just the first 20 records)\n",
    "context_list = dataset['context'][:20] "
   ]
  },
  {
   "cell_type": "markdown",
   "id": "aad1aa61-9e1c-46c8-ae5e-61855df440f9",
   "metadata": {},
   "source": [
    "### Step 4: Split document into chunks\n",
    "\n",
    "For ease of retrieving information, we need to split the context document into smaller chunks.\n",
    "\n",
    "Though, in this example our context document is already a list of different chunks, hence there's no need to break into further chunks."
   ]
  },
  {
   "cell_type": "code",
   "execution_count": 4,
   "id": "8494655e-bd87-49de-8f1d-69ffbc1c256e",
   "metadata": {},
   "outputs": [
    {
     "data": {
      "text/plain": [
       "['According to the Indian census of 2001, there were 30,803,747 speakers of Malayalam in Kerala, making up 93.2% of the total number of Malayalam speakers in India, and 96.7% of the total population of the state. There were a further 701,673 (2.1% of the total number) in Karnataka, 557,705 (1.7%) in Tamil Nadu and 406,358 (1.2%) in Maharashtra. The number of Malayalam speakers in Lakshadweep is 51,100, which is only 0.15% of the total number, but is as much as about 84% of the population of Lakshadweep. In all, Malayalis made up 3.22% of the total Indian population in 2001. Of the total 33,066,392 Malayalam speakers in India in 2001, 33,015,420 spoke the standard dialects, 19,643 spoke the Yerava dialect and 31,329 spoke non-standard regional variations like Eranadan. As per the 1991 census data, 28.85% of all Malayalam speakers in India spoke a second language and 19.64% of the total knew three or more languages.  Large numbers of Malayalis have settled in Bangalore, Mangalore, Delhi, Coimbatore, Hyderabad, Mumbai (Bombay), Ahmedabad, Pune, and Chennai (Madras). A large number of Malayalis have also emigrated to the Middle East, the United States, and Europe. Accessed November 22, 2014.</ref> including a large number of professionals. There were 7,093 Malayalam speakers in Australia in 2006. The 2001 Canadian census reported 7,070 people who listed Malayalam as their mother tongue, mostly in the Greater Toronto Area and Southern Ontario. In 2010, the Census of Population of Singapore reported that there were 26,348 Malayalees in Singapore. The 2006 New Zealand census reported 2,139 speakers. 134 Malayalam speaking households were reported in 1956 in Fiji. There is also a considerable Malayali population in the Persian Gulf regions, especially in Bahrain, Muscat, Doha, Dubai, Abu Dhabi, Kuwait and European region mainly in London.  World Malayalee Council, the organisation working with the Malayali diaspora across the Globe has embarked upon a project for making a data bank of the diaspora. CANNOTANSWER',\n",
       " \"Malayalam is the language spoken by the Malayalis. Malayalam is derived from old Tamil and Sanskrit in the 6th century. For cultural purposes Malayalam and Sanskrit formed a language known as Manipravalam, where both languages were used in an alternating style. Malayalam is the only among the major Dravidian languages without diglossia. This means, that the Malayalam which is spoken does not differ from the written variant. Malayalam is written using the Malayalam script.  Malayalam literature is ancient in origin. The oldest literature works in Malayalam, distinct from the Tamil tradition, is dated between the 9th century and 11th century. Malayalam literature includes the 14th century Niranam poets (Madhava Panikkar, Sankara Panikkar and Rama Panikkar), whose works mark the dawn of both modern Malayalam language and indigenous Keralite poetry. The Triumvirate of poets (Kavithrayam: Kumaran Asan, Vallathol Narayana Menon and Ulloor S. Parameswara Iyer) are recognized for moving Keralite poetry away from archaic sophistry and metaphysics and towards a more lyrical mode. In 19th century Chavara Kuriakose Elias, the founder of Carmelites of Mary Immaculate and Congregation of Mother of Carmel congregations, contribute different streams in the Malayalam Literature. All his works are written between 1829 and 1870. Chavara's contribution  to Malayalam literature includes, Chronicles, Poems - athmanuthapam (compunction of the soul), Maranaveettil Paduvanulla Pana (Poem to sing in the bereaved house) and Anasthasiayude Rakthasakshyam - and other Literary works . In the second half of the 20th century, Jnanpith awardees like G. Sankara Kurup, S. K. Pottekkatt, Thakazhi Sivasankara Pillai and M. T. Vasudevan Nair and non Jnanpith awardees like Vaikom Muhammad Basheer have made valuable contributions to the Malayalam literature.  Later, such Keralite writers as O. V. Vijayan, Kamaladas, M. Mukundan, and Booker Prize winner Arundhati Roy, whose 1996 semi-autobiographical bestseller The God of Small Things is set in the Kottayam town of Ayemenem, have gained international recognition.  Kerala remains a fascinating riddle for the Indian diaspora, especially the younger generations - World Malayali Council with its sister organisation, International Institute for Scientific and Academic Collaboration (IISAC) has come out with a comprehensive book on Kerala titled 'Introduction to Kerala Studies,' specially intended for the Malayali diaspora across the globe. J.V. Vilanilam, former Vice-Chancellor of the University of Kerala; Sunny Luke, medical scientist and former professor of Medical Biotechnology at Adelphi University, New York; and Antony Palackal, professor of Sociology at the Loyola College of Social Sciences in Thiruvananthapuram, have edited the book, besides making other contributions to it. CANNOTANSWER\"]"
      ]
     },
     "execution_count": 4,
     "metadata": {},
     "output_type": "execute_result"
    }
   ],
   "source": [
    "chunks = context_list\n",
    "\n",
    "# Let's Look at the first 2 chunks\n",
    "chunks[:2] "
   ]
  },
  {
   "cell_type": "markdown",
   "id": "a37b0232",
   "metadata": {},
   "source": [
    "### Step 5: Create Embeddings using \"mistral-embed\" embedding model"
   ]
  },
  {
   "cell_type": "code",
   "execution_count": 5,
   "id": "e77d9805-7a53-4210-9f80-f4de52285588",
   "metadata": {},
   "outputs": [],
   "source": [
    "def get_text_embedding(input):\n",
    "    embeddings_batch_response = client.embeddings(\n",
    "          model=\"mistral-embed\",\n",
    "          input=input\n",
    "      )\n",
    "    return embeddings_batch_response.data[0].embedding"
   ]
  },
  {
   "cell_type": "code",
   "execution_count": 6,
   "id": "46503830-6ad5-493e-a629-152721e2d88e",
   "metadata": {},
   "outputs": [],
   "source": [
    "# Create embeddings for context chunk\n",
    "\n",
    "context_embeddings = np.array([get_text_embedding(chunk) for chunk in chunks])"
   ]
  },
  {
   "cell_type": "code",
   "execution_count": 7,
   "id": "d0bd04e5",
   "metadata": {},
   "outputs": [],
   "source": [
    "# Create embeddings for question\n",
    "\n",
    "question_embeddings = np.array([get_text_embedding(question)])"
   ]
  },
  {
   "cell_type": "markdown",
   "id": "1cba33c7-9d1d-44d8-a01e-e30f16be1aac",
   "metadata": {},
   "source": [
    "### Step 6: Load into a vector database\n",
    "\n",
    "After generating the embeddings, we will now be storing them in a Vector DB (FAISS) "
   ]
  },
  {
   "cell_type": "code",
   "execution_count": 8,
   "id": "6a5b1877-b113-4527-9055-cae9049fef08",
   "metadata": {},
   "outputs": [],
   "source": [
    "d = context_embeddings.shape[1]\n",
    "index = faiss.IndexFlatL2(d)\n",
    "index.add(context_embeddings)"
   ]
  },
  {
   "cell_type": "markdown",
   "id": "33ec55c9",
   "metadata": {},
   "source": [
    "### Step 7: Retrieve Context Chunk from Vector DB\n",
    "\n",
    "Search the Vector DB using `index.search(arg 1, arg 2)`\n",
    "- `arg 1`: vector of the question embeddings\n",
    "- `arg 2`: number of similar vectors to retrieve\n",
    "\n",
    "This function returns the distances and the indices of the most similar vectors to the question vector in the vector database. Then based on the returned indices, we can retrieve the relevant context chunks that correspond to those indices. "
   ]
  },
  {
   "cell_type": "code",
   "execution_count": 9,
   "id": "c930b378-7aac-434c-881b-ab69d3edb93d",
   "metadata": {},
   "outputs": [
    {
     "name": "stdout",
     "output_type": "stream",
     "text": [
      "[[0 1]]\n"
     ]
    }
   ],
   "source": [
    "D, I = index.search(question_embeddings, k=2) \n",
    "print(I)"
   ]
  },
  {
   "cell_type": "code",
   "execution_count": 10,
   "id": "73aab584-1dbf-4532-b41e-0403eeeeb567",
   "metadata": {},
   "outputs": [
    {
     "name": "stdout",
     "output_type": "stream",
     "text": [
      "According to the Indian census of 2001, there were 30,803,747 speakers of Malayalam in Kerala, making up 93.2% of the total number of Malayalam speakers in India, and 96.7% of the total population of the state. There were a further 701,673 (2.1% of the total number) in Karnataka, 557,705 (1.7%) in Tamil Nadu and 406,358 (1.2%) in Maharashtra. The number of Malayalam speakers in Lakshadweep is 51,100, which is only 0.15% of the total number, but is as much as about 84% of the population of Lakshadweep. In all, Malayalis made up 3.22% of the total Indian population in 2001. Of the total 33,066,392 Malayalam speakers in India in 2001, 33,015,420 spoke the standard dialects, 19,643 spoke the Yerava dialect and 31,329 spoke non-standard regional variations like Eranadan. As per the 1991 census data, 28.85% of all Malayalam speakers in India spoke a second language and 19.64% of the total knew three or more languages.  Large numbers of Malayalis have settled in Bangalore, Mangalore, Delhi, Coimbatore, Hyderabad, Mumbai (Bombay), Ahmedabad, Pune, and Chennai (Madras). A large number of Malayalis have also emigrated to the Middle East, the United States, and Europe. Accessed November 22, 2014.</ref> including a large number of professionals. There were 7,093 Malayalam speakers in Australia in 2006. The 2001 Canadian census reported 7,070 people who listed Malayalam as their mother tongue, mostly in the Greater Toronto Area and Southern Ontario. In 2010, the Census of Population of Singapore reported that there were 26,348 Malayalees in Singapore. The 2006 New Zealand census reported 2,139 speakers. 134 Malayalam speaking households were reported in 1956 in Fiji. There is also a considerable Malayali population in the Persian Gulf regions, especially in Bahrain, Muscat, Doha, Dubai, Abu Dhabi, Kuwait and European region mainly in London.  World Malayalee Council, the organisation working with the Malayali diaspora across the Globe has embarked upon a project for making a data bank of the diaspora. CANNOTANSWER Malayalam is the language spoken by the Malayalis. Malayalam is derived from old Tamil and Sanskrit in the 6th century. For cultural purposes Malayalam and Sanskrit formed a language known as Manipravalam, where both languages were used in an alternating style. Malayalam is the only among the major Dravidian languages without diglossia. This means, that the Malayalam which is spoken does not differ from the written variant. Malayalam is written using the Malayalam script.  Malayalam literature is ancient in origin. The oldest literature works in Malayalam, distinct from the Tamil tradition, is dated between the 9th century and 11th century. Malayalam literature includes the 14th century Niranam poets (Madhava Panikkar, Sankara Panikkar and Rama Panikkar), whose works mark the dawn of both modern Malayalam language and indigenous Keralite poetry. The Triumvirate of poets (Kavithrayam: Kumaran Asan, Vallathol Narayana Menon and Ulloor S. Parameswara Iyer) are recognized for moving Keralite poetry away from archaic sophistry and metaphysics and towards a more lyrical mode. In 19th century Chavara Kuriakose Elias, the founder of Carmelites of Mary Immaculate and Congregation of Mother of Carmel congregations, contribute different streams in the Malayalam Literature. All his works are written between 1829 and 1870. Chavara's contribution  to Malayalam literature includes, Chronicles, Poems - athmanuthapam (compunction of the soul), Maranaveettil Paduvanulla Pana (Poem to sing in the bereaved house) and Anasthasiayude Rakthasakshyam - and other Literary works . In the second half of the 20th century, Jnanpith awardees like G. Sankara Kurup, S. K. Pottekkatt, Thakazhi Sivasankara Pillai and M. T. Vasudevan Nair and non Jnanpith awardees like Vaikom Muhammad Basheer have made valuable contributions to the Malayalam literature.  Later, such Keralite writers as O. V. Vijayan, Kamaladas, M. Mukundan, and Booker Prize winner Arundhati Roy, whose 1996 semi-autobiographical bestseller The God of Small Things is set in the Kottayam town of Ayemenem, have gained international recognition.  Kerala remains a fascinating riddle for the Indian diaspora, especially the younger generations - World Malayali Council with its sister organisation, International Institute for Scientific and Academic Collaboration (IISAC) has come out with a comprehensive book on Kerala titled 'Introduction to Kerala Studies,' specially intended for the Malayali diaspora across the globe. J.V. Vilanilam, former Vice-Chancellor of the University of Kerala; Sunny Luke, medical scientist and former professor of Medical Biotechnology at Adelphi University, New York; and Antony Palackal, professor of Sociology at the Loyola College of Social Sciences in Thiruvananthapuram, have edited the book, besides making other contributions to it. CANNOTANSWER\n"
     ]
    }
   ],
   "source": [
    "retrieved_chunk = [chunks[i] for i in I.tolist()[0]]\n",
    "retrieved_chunk = ' '.join(retrieved_chunk)\n",
    "print(retrieved_chunk)"
   ]
  },
  {
   "cell_type": "markdown",
   "id": "41d8b829",
   "metadata": {},
   "source": [
    "### Step 8: Generate Response using Mistral"
   ]
  },
  {
   "cell_type": "code",
   "execution_count": 11,
   "id": "da042a53-4564-4057-9a60-9b57dffff6a1",
   "metadata": {},
   "outputs": [],
   "source": [
    "prompt = f\"\"\"\n",
    "Context information is below.\n",
    "---------------------\n",
    "{retrieved_chunk}\n",
    "---------------------\n",
    "Given the context information and not prior knowledge, answer the query.\n",
    "Query: {question}\n",
    "Answer:\n",
    "\"\"\""
   ]
  },
  {
   "cell_type": "code",
   "execution_count": 12,
   "id": "e77d975b-5f69-4e9c-8b94-97214517eac7",
   "metadata": {},
   "outputs": [],
   "source": [
    "def run_mistral(user_message, model=\"mistral-medium\"):\n",
    "    messages = [\n",
    "        ChatMessage(role=\"user\", content=user_message)\n",
    "    ]\n",
    "    chat_response = client.chat(\n",
    "        model=model,\n",
    "        messages=messages\n",
    "    )\n",
    "    return (chat_response.choices[0].message.content)"
   ]
  },
  {
   "cell_type": "code",
   "execution_count": 13,
   "id": "1c5c20aa-6673-4105-9c10-886a1e18da8a",
   "metadata": {},
   "outputs": [
    {
     "data": {
      "text/plain": [
       "'The Malayalam language is primarily spoken in the Indian state of Kerala, where it is the official language. According to the Indian census of 2001, there were 30,803,747 speakers of Malayalam in Kerala, making up 93.2% of the total number of Malayalam speakers in India, and 96.7% of the total population of the state. Additionally, there are significant numbers of Malayalam speakers in other parts of India, including Karnataka, Tamil Nadu, and Maharashtra, as well as in the Union Territory of Lakshadweep. There are also large numbers of Malayalis who have settled in other cities in India, such as Bangalore, Mangalore, Delhi, Coimbatore, Hyderabad, Mumbai (Bombay), Ahmedabad, Pune, and Chennai (Madras). Many Malayalis have also emigrated to other countries, including the Middle East, the United States, Europe, Australia, Canada, Singapore, New Zealand, and Fiji.'"
      ]
     },
     "execution_count": 13,
     "metadata": {},
     "output_type": "execute_result"
    }
   ],
   "source": [
    "response = run_mistral(prompt)\n",
    "response"
   ]
  },
  {
   "cell_type": "markdown",
   "id": "56c5c968",
   "metadata": {},
   "source": [
    "### Step 9: Perform Evaluations Using UpTrain's Open-Source Software (OSS)\n",
    "We have used the following 5 metrics from UpTrain's library:\n",
    "\n",
    "1. [Context Relevance](https://docs.uptrain.ai/predefined-evaluations/context-awareness/context-relevance): Evaluates how relevant the retrieved context is to the question specified.\n",
    "\n",
    "2. [Response Completeness](https://docs.uptrain.ai/predefined-evaluations/response-quality/response-completeness): Evaluates whether the response has answered all the aspects of the question specified.\n",
    "\n",
    "3. [Factual Accuracy](https://docs.uptrain.ai/predefined-evaluations/context-awareness/factual-accuracy): Evaluates whether the response generated is factually correct and grounded by the provided context.\n",
    "\n",
    "4. [Response Relevance](https://docs.uptrain.ai/predefined-evaluations/response-quality/response-relevance): Evaluates how relevant the generated response was to the question specified.\n",
    "\n",
    "5. [Response Conciseness](https://docs.uptrain.ai/predefined-evaluations/response-quality/response-relevance): Evaluates how concise the generated response is or if it has any additional irrelevant information for the question asked.\n",
    "\n",
    "You can look at the complete list of UpTrain's supported metrics [here](https://docs.uptrain.ai/predefined-evaluations/overview)"
   ]
  },
  {
   "cell_type": "code",
   "execution_count": 14,
   "id": "7d548b6e",
   "metadata": {},
   "outputs": [
    {
     "data": {
      "text/plain": [
       "[{'question': 'Where is the Malayalam language spoken?',\n",
       "  'context': \"According to the Indian census of 2001, there were 30,803,747 speakers of Malayalam in Kerala, making up 93.2% of the total number of Malayalam speakers in India, and 96.7% of the total population of the state. There were a further 701,673 (2.1% of the total number) in Karnataka, 557,705 (1.7%) in Tamil Nadu and 406,358 (1.2%) in Maharashtra. The number of Malayalam speakers in Lakshadweep is 51,100, which is only 0.15% of the total number, but is as much as about 84% of the population of Lakshadweep. In all, Malayalis made up 3.22% of the total Indian population in 2001. Of the total 33,066,392 Malayalam speakers in India in 2001, 33,015,420 spoke the standard dialects, 19,643 spoke the Yerava dialect and 31,329 spoke non-standard regional variations like Eranadan. As per the 1991 census data, 28.85% of all Malayalam speakers in India spoke a second language and 19.64% of the total knew three or more languages.  Large numbers of Malayalis have settled in Bangalore, Mangalore, Delhi, Coimbatore, Hyderabad, Mumbai (Bombay), Ahmedabad, Pune, and Chennai (Madras). A large number of Malayalis have also emigrated to the Middle East, the United States, and Europe. Accessed November 22, 2014.</ref> including a large number of professionals. There were 7,093 Malayalam speakers in Australia in 2006. The 2001 Canadian census reported 7,070 people who listed Malayalam as their mother tongue, mostly in the Greater Toronto Area and Southern Ontario. In 2010, the Census of Population of Singapore reported that there were 26,348 Malayalees in Singapore. The 2006 New Zealand census reported 2,139 speakers. 134 Malayalam speaking households were reported in 1956 in Fiji. There is also a considerable Malayali population in the Persian Gulf regions, especially in Bahrain, Muscat, Doha, Dubai, Abu Dhabi, Kuwait and European region mainly in London.  World Malayalee Council, the organisation working with the Malayali diaspora across the Globe has embarked upon a project for making a data bank of the diaspora. CANNOTANSWER Malayalam is the language spoken by the Malayalis. Malayalam is derived from old Tamil and Sanskrit in the 6th century. For cultural purposes Malayalam and Sanskrit formed a language known as Manipravalam, where both languages were used in an alternating style. Malayalam is the only among the major Dravidian languages without diglossia. This means, that the Malayalam which is spoken does not differ from the written variant. Malayalam is written using the Malayalam script.  Malayalam literature is ancient in origin. The oldest literature works in Malayalam, distinct from the Tamil tradition, is dated between the 9th century and 11th century. Malayalam literature includes the 14th century Niranam poets (Madhava Panikkar, Sankara Panikkar and Rama Panikkar), whose works mark the dawn of both modern Malayalam language and indigenous Keralite poetry. The Triumvirate of poets (Kavithrayam: Kumaran Asan, Vallathol Narayana Menon and Ulloor S. Parameswara Iyer) are recognized for moving Keralite poetry away from archaic sophistry and metaphysics and towards a more lyrical mode. In 19th century Chavara Kuriakose Elias, the founder of Carmelites of Mary Immaculate and Congregation of Mother of Carmel congregations, contribute different streams in the Malayalam Literature. All his works are written between 1829 and 1870. Chavara's contribution  to Malayalam literature includes, Chronicles, Poems - athmanuthapam (compunction of the soul), Maranaveettil Paduvanulla Pana (Poem to sing in the bereaved house) and Anasthasiayude Rakthasakshyam - and other Literary works . In the second half of the 20th century, Jnanpith awardees like G. Sankara Kurup, S. K. Pottekkatt, Thakazhi Sivasankara Pillai and M. T. Vasudevan Nair and non Jnanpith awardees like Vaikom Muhammad Basheer have made valuable contributions to the Malayalam literature.  Later, such Keralite writers as O. V. Vijayan, Kamaladas, M. Mukundan, and Booker Prize winner Arundhati Roy, whose 1996 semi-autobiographical bestseller The God of Small Things is set in the Kottayam town of Ayemenem, have gained international recognition.  Kerala remains a fascinating riddle for the Indian diaspora, especially the younger generations - World Malayali Council with its sister organisation, International Institute for Scientific and Academic Collaboration (IISAC) has come out with a comprehensive book on Kerala titled 'Introduction to Kerala Studies,' specially intended for the Malayali diaspora across the globe. J.V. Vilanilam, former Vice-Chancellor of the University of Kerala; Sunny Luke, medical scientist and former professor of Medical Biotechnology at Adelphi University, New York; and Antony Palackal, professor of Sociology at the Loyola College of Social Sciences in Thiruvananthapuram, have edited the book, besides making other contributions to it. CANNOTANSWER\",\n",
       "  'response': 'The Malayalam language is primarily spoken in the Indian state of Kerala, where it is the official language. According to the Indian census of 2001, there were 30,803,747 speakers of Malayalam in Kerala, making up 93.2% of the total number of Malayalam speakers in India, and 96.7% of the total population of the state. Additionally, there are significant numbers of Malayalam speakers in other parts of India, including Karnataka, Tamil Nadu, and Maharashtra, as well as in the Union Territory of Lakshadweep. There are also large numbers of Malayalis who have settled in other cities in India, such as Bangalore, Mangalore, Delhi, Coimbatore, Hyderabad, Mumbai (Bombay), Ahmedabad, Pune, and Chennai (Madras). Many Malayalis have also emigrated to other countries, including the Middle East, the United States, Europe, Australia, Canada, Singapore, New Zealand, and Fiji.'}]"
      ]
     },
     "execution_count": 14,
     "metadata": {},
     "output_type": "execute_result"
    }
   ],
   "source": [
    "data = [\n",
    "    {\n",
    "        'question': question,\n",
    "        'context': retrieved_chunk,\n",
    "        'response': response\n",
    "    }\n",
    "]\n",
    "\n",
    "data"
   ]
  },
  {
   "cell_type": "code",
   "execution_count": null,
   "id": "858cc724",
   "metadata": {},
   "outputs": [],
   "source": [
    "from uptrain import Evals, EvalLLM, Settings\n",
    "\n",
    "settings = Settings(model = 'mistral/mistral-medium', mistral_api_key=os.environ[\"MISTRAL_API_KEY\"])\n",
    "eval_llm = EvalLLM(settings)\n",
    "\n",
    "results = eval_llm.evaluate(\n",
    "    data=data,\n",
    "    checks=[Evals.CONTEXT_RELEVANCE, Evals.RESPONSE_COMPLETENESS, Evals.FACTUAL_ACCURACY, Evals.RESPONSE_RELEVANCE, Evals.RESPONSE_CONCISENESS]\n",
    ")"
   ]
  },
  {
   "cell_type": "code",
   "execution_count": 16,
   "id": "72855b52",
   "metadata": {},
   "outputs": [
    {
     "name": "stdout",
     "output_type": "stream",
     "text": [
      "[\n",
      "   {\n",
      "      \"question\": \"Where is the Malayalam language spoken?\",\n",
      "      \"context\": \"According to the Indian census of 2001, there were 30,803,747 speakers of Malayalam in Kerala, making up 93.2% of the total number of Malayalam speakers in India, and 96.7% of the total population of the state. There were a further 701,673 (2.1% of the total number) in Karnataka, 557,705 (1.7%) in Tamil Nadu and 406,358 (1.2%) in Maharashtra. The number of Malayalam speakers in Lakshadweep is 51,100, which is only 0.15% of the total number, but is as much as about 84% of the population of Lakshadweep. In all, Malayalis made up 3.22% of the total Indian population in 2001. Of the total 33,066,392 Malayalam speakers in India in 2001, 33,015,420 spoke the standard dialects, 19,643 spoke the Yerava dialect and 31,329 spoke non-standard regional variations like Eranadan. As per the 1991 census data, 28.85% of all Malayalam speakers in India spoke a second language and 19.64% of the total knew three or more languages.  Large numbers of Malayalis have settled in Bangalore, Mangalore, Delhi, Coimbatore, Hyderabad, Mumbai (Bombay), Ahmedabad, Pune, and Chennai (Madras). A large number of Malayalis have also emigrated to the Middle East, the United States, and Europe. Accessed November 22, 2014.</ref> including a large number of professionals. There were 7,093 Malayalam speakers in Australia in 2006. The 2001 Canadian census reported 7,070 people who listed Malayalam as their mother tongue, mostly in the Greater Toronto Area and Southern Ontario. In 2010, the Census of Population of Singapore reported that there were 26,348 Malayalees in Singapore. The 2006 New Zealand census reported 2,139 speakers. 134 Malayalam speaking households were reported in 1956 in Fiji. There is also a considerable Malayali population in the Persian Gulf regions, especially in Bahrain, Muscat, Doha, Dubai, Abu Dhabi, Kuwait and European region mainly in London.  World Malayalee Council, the organisation working with the Malayali diaspora across the Globe has embarked upon a project for making a data bank of the diaspora. CANNOTANSWER Malayalam is the language spoken by the Malayalis. Malayalam is derived from old Tamil and Sanskrit in the 6th century. For cultural purposes Malayalam and Sanskrit formed a language known as Manipravalam, where both languages were used in an alternating style. Malayalam is the only among the major Dravidian languages without diglossia. This means, that the Malayalam which is spoken does not differ from the written variant. Malayalam is written using the Malayalam script.  Malayalam literature is ancient in origin. The oldest literature works in Malayalam, distinct from the Tamil tradition, is dated between the 9th century and 11th century. Malayalam literature includes the 14th century Niranam poets (Madhava Panikkar, Sankara Panikkar and Rama Panikkar), whose works mark the dawn of both modern Malayalam language and indigenous Keralite poetry. The Triumvirate of poets (Kavithrayam: Kumaran Asan, Vallathol Narayana Menon and Ulloor S. Parameswara Iyer) are recognized for moving Keralite poetry away from archaic sophistry and metaphysics and towards a more lyrical mode. In 19th century Chavara Kuriakose Elias, the founder of Carmelites of Mary Immaculate and Congregation of Mother of Carmel congregations, contribute different streams in the Malayalam Literature. All his works are written between 1829 and 1870. Chavara's contribution  to Malayalam literature includes, Chronicles, Poems - athmanuthapam (compunction of the soul), Maranaveettil Paduvanulla Pana (Poem to sing in the bereaved house) and Anasthasiayude Rakthasakshyam - and other Literary works . In the second half of the 20th century, Jnanpith awardees like G. Sankara Kurup, S. K. Pottekkatt, Thakazhi Sivasankara Pillai and M. T. Vasudevan Nair and non Jnanpith awardees like Vaikom Muhammad Basheer have made valuable contributions to the Malayalam literature.  Later, such Keralite writers as O. V. Vijayan, Kamaladas, M. Mukundan, and Booker Prize winner Arundhati Roy, whose 1996 semi-autobiographical bestseller The God of Small Things is set in the Kottayam town of Ayemenem, have gained international recognition.  Kerala remains a fascinating riddle for the Indian diaspora, especially the younger generations - World Malayali Council with its sister organisation, International Institute for Scientific and Academic Collaboration (IISAC) has come out with a comprehensive book on Kerala titled 'Introduction to Kerala Studies,' specially intended for the Malayali diaspora across the globe. J.V. Vilanilam, former Vice-Chancellor of the University of Kerala; Sunny Luke, medical scientist and former professor of Medical Biotechnology at Adelphi University, New York; and Antony Palackal, professor of Sociology at the Loyola College of Social Sciences in Thiruvananthapuram, have edited the book, besides making other contributions to it. CANNOTANSWER\",\n",
      "      \"response\": \"The Malayalam language is primarily spoken in the Indian state of Kerala, where it is the official language. According to the Indian census of 2001, there were 30,803,747 speakers of Malayalam in Kerala, making up 93.2% of the total number of Malayalam speakers in India, and 96.7% of the total population of the state. Additionally, there are significant numbers of Malayalam speakers in other parts of India, including Karnataka, Tamil Nadu, and Maharashtra, as well as in the Union Territory of Lakshadweep. There are also large numbers of Malayalis who have settled in other cities in India, such as Bangalore, Mangalore, Delhi, Coimbatore, Hyderabad, Mumbai (Bombay), Ahmedabad, Pune, and Chennai (Madras). Many Malayalis have also emigrated to other countries, including the Middle East, the United States, Europe, Australia, Canada, Singapore, New Zealand, and Fiji.\",\n",
      "      \"score_context_relevance\": 1.0,\n",
      "      \"explanation_context_relevance\": \"{\\n\\\"Reasoning\\\": \\\"The extracted context provides information about the regions where the Malayalam language is spoken. It mentions that Malayalam is spoken by the majority of the population in Kerala, and also provides information about the number of Malayalam speakers in other Indian states such as Karnataka, Tamil Nadu, and Maharashtra. Additionally, it mentions that large numbers of Malayalis have settled in various cities in India and abroad, including Bangalore, Mangalore, Delhi, Coimbatore, Hyderabad, Mumbai, Ahmedabad, Pune, Chennai, the Middle East, the United States, Europe, Australia, Canada, Singapore, New Zealand, and Fiji. Therefore, the extracted context can answer the given query completely.\\\",\\n\\\"Choice\\\": \\\"A\\\"\\n}\",\n",
      "      \"score_response_completeness\": 1.0,\n",
      "      \"explanation_response_completeness\": \"{\\n    \\\"Reasoning\\\": \\\"The given response is complete for the given question because it provides relevant information about where the Malayalam language is spoken. The response includes the primary location of Malayalam speakers, which is the Indian state of Kerala, as well as other parts of India and countries where Malayalis have settled. This information directly addresses the question about where the Malayalam language is spoken.\\\",\\n    \\\"Choice\\\": \\\"A\\\"\\n}\",\n",
      "      \"score_factual_accuracy\": 0.9,\n",
      "      \"explanation_factual_accuracy\": \"[\\n{\\n\\\"Fact\\\": \\\"1. The Malayalam language is primarily spoken in the Indian state of Kerala.\\\",\\n\\\"Reasoning\\\": \\\"The context explicitly states that there were 30,803,747 speakers of Malayalam in Kerala according to the Indian census of 2001, making up 93.2% of the total number of Malayalam speakers in India. This supports the fact that Malayalam is primarily spoken in Kerala.\\\",\\n\\\"Judgement\\\": \\\"yes\\\"\\n},\\n{\\n\\\"Fact\\\": \\\"2. Malayalam is the official language in Kerala.\\\",\\n\\\"Reasoning\\\": \\\"The context does not explicitly state that Malayalam is the official language in Kerala. However, it can be inferred from the fact that Malayalam is primarily spoken in Kerala and that there were 30,803,747 speakers of Malayalam in Kerala according to the Indian census of 2001, making up 96.7% of the total population of the state.\\\",\\n\\\"Judgement\\\": \\\"unclear\\\"\\n},\\n{\\n\\\"Fact\\\": \\\"3. According to the Indian census of 2001, there were 30,803,747 speakers of Malayalam in Kerala.\\\",\\n\\\"Reasoning\\\": \\\"The context explicitly states that there were 30,803,747 speakers of Malayalam in Kerala according to the Indian census of 2001. Hence, the fact can be verified by the context.\\\",\\n\\\"Judgement\\\": \\\"yes\\\"\\n},\\n{\\n\\\"Fact\\\": \\\"4. There are significant numbers of Malayalam speakers in other parts of India, including Karnataka, Tamil Nadu, and Maharashtra, as well as in the Union Territory of Lakshadweep.\\\",\\n\\\"Reasoning\\\": \\\"The context explicitly states that there were 701,673 Malayalam speakers in Karnataka, 557,705 in Tamil Nadu, 406,358 in Maharashtra, and 51,100 in Lakshadweep according to the Indian census of 2001. Hence, the fact can be verified by the context.\\\",\\n\\\"Judgement\\\": \\\"yes\\\"\\n},\\n{\\n\\\"Fact\\\": \\\"5. Many Malayalis have also emigrated to other countries, including the Middle East, the United States, Europe, Australia, Canada, Singapore, New Zealand, and Fiji.\\\",\\n\\\"Reasoning\\\": \\\"The context explicitly states that large numbers of Malayalis have settled in various cities in India and have also emigrated to the Middle East, the United States, and Europe. It also mentions that there were 7,093 Malayalam speakers in Australia in 2006, 7,070 people who listed Malayalam as their mother tongue in the 2001 Canadian census, 26,348 Malayalees in Singapore according to the 2010 Census of Population, 2,139 speakers in the 2006 New Zealand census, and 134 Malayalam speaking households in Fiji in 1956. Hence, the fact can be verified by the context.\\\",\\n\\\"Judgement\\\": \\\"yes\\\"\\n}\\n]\",\n",
      "      \"score_response_relevance\": 0.6666666666666666,\n",
      "      \"explanation_response_relevance\": \"Response Precision: 0.5{\\n\\\"Reasoning\\\": \\\"The response provides information about the primary location where Malayalam is spoken, which is the Indian state of Kerala. It also mentions the number of Malayalam speakers in Kerala according to the Indian census of 2001. Additionally, it provides information about significant numbers of Malayalam speakers in other parts of India and in other countries. While some of this information may be considered relevant, the specific numbers and names of cities and countries where Malayalis have settled could be considered additional irrelevant information.\\\",\\n\\\"Choice\\\": \\\"B\\\"\\n}\\nResponse Recall: 1.0{\\n    \\\"Reasoning\\\": \\\"The given response is complete for the given question because it provides relevant information about where the Malayalam language is spoken. The response includes the primary location of Malayalam speakers, which is the Indian state of Kerala, as well as other parts of India and countries where Malayalis have settled. This information directly addresses the question about where the Malayalam language is spoken.\\\",\\n    \\\"Choice\\\": \\\"A\\\"\\n}\",\n",
      "      \"score_response_conciseness\": 0.0,\n",
      "      \"explanation_response_conciseness\": \"{\\n\\\"Reasoning\\\": \\\"The response provides information about the primary location where Malayalam is spoken, which is the Indian state of Kerala. It also mentions the number of Malayalam speakers in Kerala according to the 2001 Indian census. However, the response includes additional irrelevant information such as the percentage of Malayalam speakers in Kerala, the percentage of the total population of Kerala that speaks Malayalam, and the number of Malayalam speakers in other parts of India and in other countries. The names of specific cities in India and other countries where Malayalis have settled are also irrelevant to the question.\\\",\\n\\\"Choice\\\": \\\"C\\\"\\n}\"\n",
      "   }\n",
      "]\n"
     ]
    }
   ],
   "source": [
    "print(json.dumps(results, indent =3))"
   ]
  }
 ],
 "metadata": {
  "jupytext": {
   "formats": "ipynb,py:light"
  },
  "kernelspec": {
   "display_name": "Python 3 (ipykernel)",
   "language": "python",
   "name": "python3"
  },
  "language_info": {
   "codemirror_mode": {
    "name": "ipython",
    "version": 3
   },
   "file_extension": ".py",
   "mimetype": "text/x-python",
   "name": "python",
   "nbconvert_exporter": "python",
   "pygments_lexer": "ipython3",
   "version": "3.11.8"
  }
 },
 "nbformat": 4,
 "nbformat_minor": 5
}
