{
 "cells": [
  {
   "cell_type": "markdown",
   "id": "ee9fd86c-b246-453d-a804-8736f5b1430f",
   "metadata": {},
   "source": [
    "<h1 align=\"center\">\n",
    "  <a href=\"https://uptrain.ai\">\n",
    "    <img width=\"300\" src=\"https://user-images.githubusercontent.com/108270398/214240695-4f958b76-c993-4ddd-8de6-8668f4d0da84.png\" alt=\"uptrain\">\n",
    "  </a>\n",
    "</h1>"
   ]
  },
  {
   "cell_type": "markdown",
   "id": "03099e4d-988f-43ea-83f5-4787efa9b303",
   "metadata": {},
   "source": [
    "<h1 style=\"text-align: center;\">Monitoring Biases in a Recommender System</h1>"
   ]
  },
  {
   "cell_type": "markdown",
   "id": "13d96263-e707-4dc4-a8b9-453919a673c0",
   "metadata": {},
   "source": [
    "\n",
    "\n",
    "**Objective**: We want to monitor the prediction of a recommender system usinf the UpTrain framework. Specifically, we want to check how close the predictions of the model are to the ground truth and also check if the model recommendations suffer from any biases (such as the popularity bias).\n",
    "\n",
    "**Dataset and ML model**: In this example, we train a recommender system to recommend items to users based on their previous shopping history. The dataset is a subset of the [Coveo data challenge dataset](https://github.com/coveooss/SIGIR-ecom-data-challenge) and the model to train embeddings is the [Word2Vec model](https://en.wikipedia.org/wiki/Word2vec). \n"
   ]
  },
  {
   "cell_type": "markdown",
   "id": "4865631a-4418-4b9e-995d-56988f4a4af8",
   "metadata": {},
   "source": [
    "Note: Requires [Gensim](https://pypi.org/project/gensim/) to be installed. We ran the following code successfully with Gensim version 4.3.0."
   ]
  },
  {
   "cell_type": "code",
   "execution_count": 1,
   "id": "5d7da2b0-6a3f-4fe9-aed8-461eae7fd3e5",
   "metadata": {},
   "outputs": [],
   "source": [
    "import os\n",
    "from scipy.spatial.distance import cosine\n",
    "import numpy as np\n",
    "import subprocess\n",
    "import zipfile\n",
    "import json\n",
    "import time\n",
    "\n",
    "import uptrain\n",
    "from gensim.models import Word2Vec"
   ]
  },
  {
   "cell_type": "markdown",
   "id": "1b09994e-df68-4a5a-a60a-b11efcd6f572",
   "metadata": {},
   "source": [
    "First, we download the preprocessed SIGIR shopping cart dataset (if not already exists). "
   ]
  },
  {
   "cell_type": "code",
   "execution_count": 2,
   "id": "05443301-3e1b-4e30-a9a4-c6f47d68821d",
   "metadata": {},
   "outputs": [
    {
     "name": "stdout",
     "output_type": "stream",
     "text": [
      "Data file exists. Skipping download.\n"
     ]
    }
   ],
   "source": [
    "data_file = \"sigir_data.json\"\n",
    "remote_url = \"https://oodles-dev-training-data.s3.amazonaws.com/sigir_data.json\"\n",
    "if not os.path.exists(data_file):\n",
    "    try:\n",
    "        # Most Linux distributions have Wget installed by default.\n",
    "        # Below command is to install wget for MacOS\n",
    "        wget_installed_ok = subprocess.call(\"brew install wget\", shell=True, stdout=subprocess.DEVNULL, stderr=subprocess.STDOUT)\n",
    "        print(\"Successfully installed wget\")\n",
    "    except:\n",
    "        dummy = 1\n",
    "    try:\n",
    "        if not os.path.exists(\"data.zip\"):\n",
    "            file_downloaded_ok = subprocess.call(\"wget \" + remote_url, shell=True, stdout=subprocess.DEVNULL, stderr=subprocess.STDOUT)\n",
    "            print(\"Data downloaded\")\n",
    "    except:\n",
    "        print(e)\n",
    "        print(\"Could not load training data\")\n",
    "        print(\"Please follow following steps to manually download data\")\n",
    "        print(\"Step 1: Open in browser: https://oodles-dev-training-data.s3.amazonaws.com/sigir_data.json\")\n",
    "        print(\"Step 2: Download and move the file to example location (i.e. uptrain/examples/3_shopping_cart_recommendation/\")\n",
    "else:\n",
    "    print(\"Data file exists. Skipping download.\")"
   ]
  },
  {
   "cell_type": "code",
   "execution_count": 3,
   "id": "98843f5b-7c33-4f58-8318-1e1786d6ca53",
   "metadata": {},
   "outputs": [],
   "source": [
    "with open('sigir_data.json') as f:\n",
    "    data = json.load(f)"
   ]
  },
  {
   "cell_type": "markdown",
   "id": "c088260d-daa2-4ee0-8cd2-07b31e04d85d",
   "metadata": {},
   "source": [
    "### Step 1: Train the model"
   ]
  },
  {
   "cell_type": "markdown",
   "id": "7c2946e1-32d0-4234-89c8-68f49d35cd24",
   "metadata": {},
   "source": [
    "Each product has a unique stock-keeping unit (**sku**) that is used as a product identifier. We use [Word2Vec models from Gensim](https://radimrehurek.com/gensim/models/word2vec.html#gensim.models.word2vec.Word2Vec) to learn a embeddings corresponding to each sku based on shopping sessions of the user."
   ]
  },
  {
   "cell_type": "code",
   "execution_count": 4,
   "id": "d6488a52-d6fd-4e58-8374-074c088eb460",
   "metadata": {},
   "outputs": [],
   "source": [
    "x_train_sku = [[e['product_sku'] for e in s] for s in data['x_train']]\n",
    "model = Word2Vec(sentences=x_train_sku, vector_size=48, epochs=15).wv"
   ]
  },
  {
   "cell_type": "markdown",
   "id": "bebfe8a4-5d2a-47d0-982d-a08d0826fa8c",
   "metadata": {},
   "source": [
    "### Step 2: Define a custom monitor (cosine distance between embeddings of predicted and selected items)"
   ]
  },
  {
   "cell_type": "markdown",
   "id": "37843962-fc6b-4cd0-b6c7-64f58c2dd28d",
   "metadata": {},
   "source": [
    "Next, we define a custom metric where we want to monitor the cosine distance between embedding vectors of predicted and selected items. Specifically, we want to measure the cosine distance between the ground truth and first predicted item."
   ]
  },
  {
   "cell_type": "code",
   "execution_count": 5,
   "id": "aa9b0a94-6167-4276-aa17-e50b3a6b17bc",
   "metadata": {},
   "outputs": [],
   "source": [
    "def cosine_dist_init(self):\n",
    "    self.cos_distances = []\n",
    "    self.model = model\n",
    "\n",
    "def cosine_distance_check(self, inputs, outputs, gts=None, extra_args={}):\n",
    "    for output, gt in zip(outputs, gts):\n",
    "        if (not output) or (not gt):\n",
    "            continue\n",
    "        y_preds = output[0]\n",
    "        y_gt = gt\n",
    "        try:\n",
    "            vector_test = self.model.get_vector(y_gt)\n",
    "        except:\n",
    "            vector_test = []\n",
    "        vector_pred = self.model.get_vector(y_preds)\n",
    "        if len(vector_pred)>0 and len(vector_test)>0:\n",
    "            cos_dist = cosine(vector_pred, vector_test)\n",
    "            self.cos_distances.append(cos_dist)\n",
    "            self.log_handler.add_histogram('cosine_distance', self.cos_distances, self.dashboard_name)"
   ]
  },
  {
   "cell_type": "markdown",
   "id": "68667685-418f-4e10-be9c-f87d5092370d",
   "metadata": {},
   "source": [
    "### Step 3: Define another custom monitor (price difference between predicted and selected items)"
   ]
  },
  {
   "cell_type": "markdown",
   "id": "aeee5382-da5e-4e7e-9522-4f6d8ecd40f9",
   "metadata": {},
   "source": [
    "Next, we also add a custom metric to measure the absolute log ratio between the ground truth and prediction item prices"
   ]
  },
  {
   "cell_type": "code",
   "execution_count": 6,
   "id": "54e7329a-6823-4875-ba3a-8453ae23c412",
   "metadata": {},
   "outputs": [],
   "source": [
    "def price_homogeneity_init(self):\n",
    "    self.price_diff = []\n",
    "    self.product_data = data['catalog']\n",
    "    self.price_sel_fn=lambda x: float(x['price_bucket']) if x['price_bucket'] else None\n",
    "    \n",
    "def price_homogeneity_check(self, inputs, outputs, gts=None, extra_args={}):\n",
    "    for output, gt in zip(outputs, gts):\n",
    "        if (not output) or (not gt):\n",
    "            continue\n",
    "        y_preds = output[0]\n",
    "        y_gt = gt\n",
    "        prod_test = self.product_data[y_gt]\n",
    "        prod_pred = self.product_data[y_preds]\n",
    "        if self.price_sel_fn(prod_test) and self.price_sel_fn(prod_pred):\n",
    "            test_item_price = self.price_sel_fn(prod_test)\n",
    "            pred_item_price = self.price_sel_fn(prod_pred)\n",
    "            abs_log_price_diff = np.abs(np.log10(pred_item_price/test_item_price))\n",
    "            self.price_diff.append(abs_log_price_diff)\n",
    "            self.log_handler.add_histogram('price_homogeneity', self.price_diff, self.dashboard_name)"
   ]
  },
  {
   "cell_type": "markdown",
   "id": "ed9c84fe-40eb-4957-889b-7b655fd92a52",
   "metadata": {},
   "source": [
    "### Step 4: Define the prediction pipeline"
   ]
  },
  {
   "cell_type": "code",
   "execution_count": 7,
   "id": "4236132b-8639-4401-b100-2d42d6ab6a28",
   "metadata": {},
   "outputs": [],
   "source": [
    "x_test = data['x_test']\n",
    "y_test = data['y_test']\n",
    "inference_batch_size = 10\n",
    "\n",
    "def model_predict(model, x_test_batch):\n",
    "    \"\"\"\n",
    "    Implement the model prediction function. \n",
    "    \n",
    "    :model: Word2Vec model learned from user shopping sessions\n",
    "    :x_test_batch: list of lists, each list being the content of a cart\n",
    "    \n",
    "    :return: the predictions returned by the model are the top-K\n",
    "    items suggested to complete the cart.\n",
    "\n",
    "    \"\"\"\n",
    "    predictions = []\n",
    "    for _x in x_test_batch:\n",
    "        key_item = _x[0]['product_sku']\n",
    "        nn_products = model.most_similar(key_item, topn=10) if key_item in model else None\n",
    "        if nn_products:\n",
    "            predictions.append([_[0] for _ in nn_products])\n",
    "        else:\n",
    "            predictions.append([])\n",
    "\n",
    "    return predictions"
   ]
  },
  {
   "cell_type": "markdown",
   "id": "019a92ab-6413-4006-8936-f10cbbd1c1be",
   "metadata": {},
   "source": [
    "### Step 5: Define UpTrain config and initialize the framework"
   ]
  },
  {
   "cell_type": "code",
   "execution_count": 8,
   "id": "d133c040-e787-421d-bb4d-ee2d232fc0c8",
   "metadata": {},
   "outputs": [
    {
     "name": "stdout",
     "output_type": "stream",
     "text": [
      "Deleting the folder:  uptrain_smart_data\n"
     ]
    }
   ],
   "source": [
    "cfg = {\n",
    "    \"checks\": [\n",
    "        # Check to monitor the hit-rate of the model \n",
    "        # (i.e., if any recommended item was selected)\n",
    "        {\n",
    "            'type': uptrain.Anomaly.CONCEPT_DRIFT,\n",
    "            'algorithm': uptrain.DataDriftAlgo.DDM,\n",
    "            'warn_thres': 2,\n",
    "            'alarm_thres': 3,\n",
    "            \"measurable_args\": {\n",
    "                'type': uptrain.MeasurableType.REC_HIT_RATE,\n",
    "                },\n",
    "        },\n",
    "        # Define a check on popularity bias\n",
    "        {\n",
    "            'type': uptrain.Anomaly.POPULARITY_BIAS,\n",
    "            'algorithm': uptrain.BiasAlgo.POPULARITY_BIAS,\n",
    "            'sessions': x_train_sku,   \n",
    "        },\n",
    "        # Custom monitor\n",
    "        {\n",
    "            'type': uptrain.Anomaly.CUSTOM_MONITOR,\n",
    "            'initialize_func': cosine_dist_init,\n",
    "            'check_func': cosine_distance_check,\n",
    "            'need_gt': True,\n",
    "            'dashboard_name': 'cosine_distance'\n",
    "        },\n",
    "        # Custom monitor\n",
    "        {\n",
    "            'type': uptrain.Anomaly.CUSTOM_MONITOR,\n",
    "            'initialize_func': price_homogeneity_init,\n",
    "            'check_func': price_homogeneity_check,\n",
    "            'need_gt': True,\n",
    "            'dashboard_name': 'price_homogeneity'\n",
    "        }\n",
    "    ], \n",
    "    \"retraining_folder\": 'uptrain_smart_data', \n",
    "    \"st_logging\": True,\n",
    "}\n",
    "\n",
    "framework = uptrain.Framework(cfg)"
   ]
  },
  {
   "cell_type": "markdown",
   "id": "a1021596-5678-4599-b648-bfa0df4f765c",
   "metadata": {},
   "source": [
    "### Step 6: Ship your model in production with UpTrain"
   ]
  },
  {
   "cell_type": "code",
   "execution_count": 9,
   "id": "27f9dccc-2710-4253-a98b-4b390378cc85",
   "metadata": {},
   "outputs": [
    {
     "name": "stdout",
     "output_type": "stream",
     "text": [
      "\n",
      "  You can now view your Streamlit app in your browser.\n",
      "\n",
      "  Local URL: http://localhost:8501\n",
      "  Network URL: http://192.168.6.64:8501\n",
      "\n"
     ]
    }
   ],
   "source": [
    "for i in range(int(len(x_test)/inference_batch_size)):\n",
    "    # Define input in the format understood by the UpTrain framework\n",
    "    inputs = {'data': {\"feats\": x_test[i*inference_batch_size:(i+1)*inference_batch_size]}}\n",
    "    \n",
    "    # Do model prediction\n",
    "    preds = model_predict(model, inputs['data']['feats'])\n",
    "\n",
    "    # Log input and output to framework\n",
    "    ids = framework.log(inputs=inputs, outputs=preds)\n",
    "    \n",
    "    # Getting ground truth and logging to framework\n",
    "    y_test_batch = y_test[i*inference_batch_size:(i+1)*inference_batch_size]\n",
    "    gts = [y[0]['product_sku'] for y in y_test_batch]\n",
    "    framework.log(identifiers=ids, gts=gts)\n",
    "    \n",
    "    # Adding 1 sec pause to visualize the results live on the dashboard\n",
    "    time.sleep(1)"
   ]
  },
  {
   "cell_type": "markdown",
   "id": "889c265c-b58a-428b-921a-38ab8cf144b6",
   "metadata": {},
   "source": [
    "### Monitoring the hit-rate of the model"
   ]
  },
  {
   "cell_type": "markdown",
   "id": "95e372ee-3028-401c-9c0f-e6c3eaae2fff",
   "metadata": {},
   "source": [
    "By applying a concept drift check on the model in prediction, UpTrain automatically monitors the performance of the model. In this case, the performance is defined as the hit rate, that is, the proportion of items that was boought by the user was actually recommended by the model. We observe an average hit-rate of around 0.1. "
   ]
  },
  {
   "cell_type": "markdown",
   "id": "f8cf472c-6a58-48e2-941a-769d55da6bc1",
   "metadata": {},
   "source": [
    "<img width=\"600\" alt=\"hit_rate\" src=\"https://user-images.githubusercontent.com/5287871/217215003-e121b499-0e69-4e98-9cd6-2b931cc62056.png\">"
   ]
  },
  {
   "cell_type": "markdown",
   "id": "eca1efed-4ced-4081-a2a8-ce9da1f35e13",
   "metadata": {},
   "source": [
    "### Histogram plot for items with popularity"
   ]
  },
  {
   "cell_type": "markdown",
   "id": "976d1329-8a63-4d94-9ed3-cf233a15a998",
   "metadata": {},
   "source": [
    "From the UpTrain dashboard, we can find the histogram for popularity bias. We can see that most of the items that are recommended have low popularity. Our model does not look to be suffering from popularity bias."
   ]
  },
  {
   "attachments": {
    "35a9162a-3539-4949-9ca6-2a51d0adcc8c.png": {
     "image/png": "[encoded data removed]"
    }
   },
   "cell_type": "markdown",
   "id": "3ed84b43-5fcd-4427-82ca-4612246f71dc",
   "metadata": {},
   "source": [
    "![popularity_bias.png](attachment:35a9162a-3539-4949-9ca6-2a51d0adcc8c.png)"
   ]
  },
  {
   "cell_type": "markdown",
   "id": "a911c48d-2b19-4818-b426-b1c5e0f60895",
   "metadata": {},
   "source": [
    "### Histogram plot for cosine distance between ground truth and prediction"
   ]
  },
  {
   "cell_type": "markdown",
   "id": "fc16b2ad-6acf-4edd-948a-419913a53e1a",
   "metadata": {},
   "source": [
    "In the dashboard, we can measure the cosine distance between the embeddings of the recommended items and the items that were actually bought. A lot of them have zero cosine distance (implying that the recommendations were spot on). Also, we observe that the predictions are concentrated around the low cosine distance (< 0.4) space."
   ]
  },
  {
   "attachments": {
    "0a2f6591-2873-4c12-b2d3-ac4b61452762.png": {
     "image/png": "[encoded data removed]"
    }
   },
   "cell_type": "markdown",
   "id": "ff11d5f9-e0d0-4445-b163-9f55add7e957",
   "metadata": {},
   "source": [
    "![cosine_distance.png](attachment:0a2f6591-2873-4c12-b2d3-ac4b61452762.png)"
   ]
  },
  {
   "cell_type": "markdown",
   "id": "5ac2a330-fbd6-40bf-8a30-c23af494679a",
   "metadata": {},
   "source": [
    "### Histogram plot for absolute log price ratio between prediction and selected items"
   ]
  },
  {
   "cell_type": "markdown",
   "id": "bd3ef9c5-fa30-431c-adfc-7988a9742908",
   "metadata": {},
   "source": [
    "Finally, we also added a custom monitor where we wanted to check whether our model is providing outrageous recommendations (e.g., recommending washing machines when the user wants to buy just a washing detergent). In the below plot, we observe that the price range of most of the recommended items is close to the price of the actually bought item."
   ]
  },
  {
   "attachments": {
    "17f89979-5a64-472a-93b7-ea2211d235ba.png": {
     "image/png": "[encoded data removed]"
    }
   },
   "cell_type": "markdown",
   "id": "d1fb7a80-e828-4c34-8bb5-2a3e89e48476",
   "metadata": {},
   "source": [
    "![price_homogeneity.png](attachment:17f89979-5a64-472a-93b7-ea2211d235ba.png)"
   ]
  }
 ],
 "metadata": {
  "kernelspec": {
   "display_name": "Python 3 (ipykernel)",
   "language": "python",
   "name": "python3"
  },
  "language_info": {
   "codemirror_mode": {
    "name": "ipython",
    "version": 3
   },
   "file_extension": ".py",
   "mimetype": "text/x-python",
   "name": "python",
   "nbconvert_exporter": "python",
   "pygments_lexer": "ipython3",
   "version": "3.10.4"
  }
 },
 "nbformat": 4,
 "nbformat_minor": 5
}
