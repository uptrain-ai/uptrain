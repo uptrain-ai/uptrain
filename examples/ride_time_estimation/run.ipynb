{
 "cells": [
  {
   "cell_type": "markdown",
   "id": "75c0b4ca-c236-4bb8-af2e-903660b08664",
   "metadata": {},
   "source": [
    "<h1 align=\"center\">\n",
    "  <a href=\"https://uptrain.ai\">\n",
    "    <img width=\"300\" src=\"https://user-images.githubusercontent.com/108270398/214240695-4f958b76-c993-4ddd-8de6-8668f4d0da84.png\" alt=\"uptrain\">\n",
    "  </a>\n",
    "</h1>"
   ]
  },
  {
   "cell_type": "markdown",
   "id": "a3d75044-fff0-4d29-b7e3-f9d3e2319c01",
   "metadata": {},
   "source": [
    "<h1 style=\"text-align: center;\">Monitoring a Trip Time prediction model</h1>"
   ]
  },
  {
   "cell_type": "markdown",
   "id": "d14ddfc0-ce19-4cfa-bd1e-f9d4f45741b6",
   "metadata": {},
   "source": [
    "**Overview**: In this example, we consider a regression task where we want to predict the trip time given the trip distance, number of passengers, booking date, vendor ID, etc. \n",
    "\n",
    "**Dataset**: We use the [New York City Taxi Trip Duration dataset](https://www.kaggle.com/competitions/nyc-taxi-trip-duration/data) from Kaggle, where the data contains features such as vendor_id, pickup_datetime, passenger_count, pickup_location, drop_location, etc., and the trip durations (in seconds). We want to train and ML model that takes the input features and predicts the trip duration. \n",
    "\n",
    "**Monitoring**: In this notebook, we will see how we can use UpTrain package to monitor model accuracy, run data integrity checks, and add SHAP in UpTrain dashboard to explain model predictions."
   ]
  },
  {
   "cell_type": "markdown",
   "id": "903ad3e7-c94e-44d4-a2f4-ccd768139188",
   "metadata": {},
   "source": [
    "#### Install required packages for this example [LightGBM]\n",
    "Note: For mac users, try conda installation if pip doesn't work"
   ]
  },
  {
   "cell_type": "code",
   "execution_count": 1,
   "id": "e9f1890c-6662-4a4d-a900-8d0dd5850653",
   "metadata": {},
   "outputs": [],
   "source": [
    "# !pip install lightgbm"
   ]
  },
  {
   "cell_type": "markdown",
   "id": "7c0bf3d1-614c-445f-96da-5ccf695bd639",
   "metadata": {},
   "source": [
    "#### Let's first import all the required packages"
   ]
  },
  {
   "cell_type": "code",
   "execution_count": 2,
   "id": "836d574d-eef9-4a0b-b238-81b16dc592fe",
   "metadata": {},
   "outputs": [],
   "source": [
    "import pandas as pd\n",
    "from sklearn import model_selection, metrics\n",
    "from lightgbm import LGBMRegressor\n",
    "import time\n",
    "import uptrain\n",
    "import os\n",
    "from helper_funcs import download_dataset, process, pretty\n",
    "\n",
    "import matplotlib\n",
    "matplotlib.use('TkAgg')"
   ]
  },
  {
   "cell_type": "markdown",
   "id": "dfa23642-bc3f-404d-9f21-e4d3a68ee165",
   "metadata": {},
   "source": [
    "### Download and prepare the Taxi Trip Duration Dataset"
   ]
  },
  {
   "cell_type": "code",
   "execution_count": 3,
   "id": "54bb4f98-6953-4b08-aec1-10cfecd6ab29",
   "metadata": {},
   "outputs": [
    {
     "name": "stdout",
     "output_type": "stream",
     "text": [
      "Data file exists. Skipping download.\n"
     ]
    }
   ],
   "source": [
    "data_file = 'trip_duration_dataset.csv'\n",
    "download_dataset(data_file)\n",
    "df_train = pd.read_csv(data_file)\n",
    "\n",
    "# Divide the data into input data to the model and targets \n",
    "y = df_train[\"trip_duration\"]\n",
    "X = df_train.drop([\"trip_duration\"], axis = 1)"
   ]
  },
  {
   "cell_type": "code",
   "execution_count": 4,
   "id": "b3d78cdc-79dc-4ce7-97b8-bc143aa47f11",
   "metadata": {},
   "outputs": [],
   "source": [
    "# Divide data into train-test splits\n",
    "X_train, X_test, y_train, y_test = model_selection.train_test_split(X, y, test_size=0.1)\n",
    "\n",
    "# Get ids for data to locate them with their ids in the UpTrain dashboard\n",
    "test_ids = list(X_test['id'])"
   ]
  },
  {
   "cell_type": "markdown",
   "id": "ca5a4fd9-195d-42be-8e9a-6f7a32f53320",
   "metadata": {},
   "source": [
    "#### Let's see how the input looks like"
   ]
  },
  {
   "cell_type": "code",
   "execution_count": 5,
   "id": "b91e543f-c0e0-4bc9-b27c-eaefb96a1804",
   "metadata": {},
   "outputs": [
    {
     "data": {
      "text/html": [
       "<div>\n",
       "<style scoped>\n",
       "    .dataframe tbody tr th:only-of-type {\n",
       "        vertical-align: middle;\n",
       "    }\n",
       "\n",
       "    .dataframe tbody tr th {\n",
       "        vertical-align: top;\n",
       "    }\n",
       "\n",
       "    .dataframe thead th {\n",
       "        text-align: right;\n",
       "    }\n",
       "</style>\n",
       "<table border=\"1\" class=\"dataframe\">\n",
       "  <thead>\n",
       "    <tr style=\"text-align: right;\">\n",
       "      <th></th>\n",
       "      <th>vendor_id</th>\n",
       "      <th>passenger_count</th>\n",
       "      <th>store_and_fwd_flag</th>\n",
       "      <th>dist</th>\n",
       "      <th>pickup_year</th>\n",
       "      <th>pickup_month</th>\n",
       "      <th>pickup_day</th>\n",
       "      <th>pickup_dow</th>\n",
       "      <th>pickup_hour</th>\n",
       "      <th>pickup_min</th>\n",
       "      <th>pickup_sec</th>\n",
       "    </tr>\n",
       "  </thead>\n",
       "  <tbody>\n",
       "    <tr>\n",
       "      <th>1397389</th>\n",
       "      <td>1</td>\n",
       "      <td>2</td>\n",
       "      <td>0</td>\n",
       "      <td>0.013406</td>\n",
       "      <td>2016</td>\n",
       "      <td>2</td>\n",
       "      <td>3</td>\n",
       "      <td>2</td>\n",
       "      <td>18</td>\n",
       "      <td>59</td>\n",
       "      <td>1</td>\n",
       "    </tr>\n",
       "    <tr>\n",
       "      <th>966155</th>\n",
       "      <td>2</td>\n",
       "      <td>1</td>\n",
       "      <td>0</td>\n",
       "      <td>0.060024</td>\n",
       "      <td>2016</td>\n",
       "      <td>4</td>\n",
       "      <td>23</td>\n",
       "      <td>5</td>\n",
       "      <td>0</td>\n",
       "      <td>53</td>\n",
       "      <td>28</td>\n",
       "    </tr>\n",
       "    <tr>\n",
       "      <th>256642</th>\n",
       "      <td>2</td>\n",
       "      <td>1</td>\n",
       "      <td>0</td>\n",
       "      <td>0.005566</td>\n",
       "      <td>2016</td>\n",
       "      <td>4</td>\n",
       "      <td>1</td>\n",
       "      <td>4</td>\n",
       "      <td>16</td>\n",
       "      <td>3</td>\n",
       "      <td>22</td>\n",
       "    </tr>\n",
       "  </tbody>\n",
       "</table>\n",
       "</div>"
      ],
      "text/plain": [
       "         vendor_id  passenger_count  store_and_fwd_flag      dist  \\\n",
       "1397389          1                2                   0  0.013406   \n",
       "966155           2                1                   0  0.060024   \n",
       "256642           2                1                   0  0.005566   \n",
       "\n",
       "         pickup_year  pickup_month  pickup_day  pickup_dow  pickup_hour  \\\n",
       "1397389         2016             2           3           2           18   \n",
       "966155          2016             4          23           5            0   \n",
       "256642          2016             4           1           4           16   \n",
       "\n",
       "         pickup_min  pickup_sec  \n",
       "1397389          59           1  \n",
       "966155           53          28  \n",
       "256642            3          22  "
      ]
     },
     "execution_count": 5,
     "metadata": {},
     "output_type": "execute_result"
    }
   ],
   "source": [
    "# Cleanup data to, for instance, find distance from latitude and longitude\n",
    "X_train = process(X_train)\n",
    "X_test = process(X_test)\n",
    "\n",
    "# Let's see how the data looks\n",
    "X_train.head(3)"
   ]
  },
  {
   "cell_type": "markdown",
   "id": "e9efad0c-5665-4000-918b-fab270982e65",
   "metadata": {},
   "source": [
    "### Train our LightGBM Regression model"
   ]
  },
  {
   "cell_type": "code",
   "execution_count": 6,
   "id": "9e89e997-fe83-4037-ab1a-a548d1af05db",
   "metadata": {},
   "outputs": [
    {
     "data": {
      "text/html": [
       "<style>#sk-container-id-1 {color: black;background-color: white;}#sk-container-id-1 pre{padding: 0;}#sk-container-id-1 div.sk-toggleable {background-color: white;}#sk-container-id-1 label.sk-toggleable__label {cursor: pointer;display: block;width: 100%;margin-bottom: 0;padding: 0.3em;box-sizing: border-box;text-align: center;}#sk-container-id-1 label.sk-toggleable__label-arrow:before {content: \"▸\";float: left;margin-right: 0.25em;color: #696969;}#sk-container-id-1 label.sk-toggleable__label-arrow:hover:before {color: black;}#sk-container-id-1 div.sk-estimator:hover label.sk-toggleable__label-arrow:before {color: black;}#sk-container-id-1 div.sk-toggleable__content {max-height: 0;max-width: 0;overflow: hidden;text-align: left;background-color: #f0f8ff;}#sk-container-id-1 div.sk-toggleable__content pre {margin: 0.2em;color: black;border-radius: 0.25em;background-color: #f0f8ff;}#sk-container-id-1 input.sk-toggleable__control:checked~div.sk-toggleable__content {max-height: 200px;max-width: 100%;overflow: auto;}#sk-container-id-1 input.sk-toggleable__control:checked~label.sk-toggleable__label-arrow:before {content: \"▾\";}#sk-container-id-1 div.sk-estimator input.sk-toggleable__control:checked~label.sk-toggleable__label {background-color: #d4ebff;}#sk-container-id-1 div.sk-label input.sk-toggleable__control:checked~label.sk-toggleable__label {background-color: #d4ebff;}#sk-container-id-1 input.sk-hidden--visually {border: 0;clip: rect(1px 1px 1px 1px);clip: rect(1px, 1px, 1px, 1px);height: 1px;margin: -1px;overflow: hidden;padding: 0;position: absolute;width: 1px;}#sk-container-id-1 div.sk-estimator {font-family: monospace;background-color: #f0f8ff;border: 1px dotted black;border-radius: 0.25em;box-sizing: border-box;margin-bottom: 0.5em;}#sk-container-id-1 div.sk-estimator:hover {background-color: #d4ebff;}#sk-container-id-1 div.sk-parallel-item::after {content: \"\";width: 100%;border-bottom: 1px solid gray;flex-grow: 1;}#sk-container-id-1 div.sk-label:hover label.sk-toggleable__label {background-color: #d4ebff;}#sk-container-id-1 div.sk-serial::before {content: \"\";position: absolute;border-left: 1px solid gray;box-sizing: border-box;top: 0;bottom: 0;left: 50%;z-index: 0;}#sk-container-id-1 div.sk-serial {display: flex;flex-direction: column;align-items: center;background-color: white;padding-right: 0.2em;padding-left: 0.2em;position: relative;}#sk-container-id-1 div.sk-item {position: relative;z-index: 1;}#sk-container-id-1 div.sk-parallel {display: flex;align-items: stretch;justify-content: center;background-color: white;position: relative;}#sk-container-id-1 div.sk-item::before, #sk-container-id-1 div.sk-parallel-item::before {content: \"\";position: absolute;border-left: 1px solid gray;box-sizing: border-box;top: 0;bottom: 0;left: 50%;z-index: -1;}#sk-container-id-1 div.sk-parallel-item {display: flex;flex-direction: column;z-index: 1;position: relative;background-color: white;}#sk-container-id-1 div.sk-parallel-item:first-child::after {align-self: flex-end;width: 50%;}#sk-container-id-1 div.sk-parallel-item:last-child::after {align-self: flex-start;width: 50%;}#sk-container-id-1 div.sk-parallel-item:only-child::after {width: 0;}#sk-container-id-1 div.sk-dashed-wrapped {border: 1px dashed gray;margin: 0 0.4em 0.5em 0.4em;box-sizing: border-box;padding-bottom: 0.4em;background-color: white;}#sk-container-id-1 div.sk-label label {font-family: monospace;font-weight: bold;display: inline-block;line-height: 1.2em;}#sk-container-id-1 div.sk-label-container {text-align: center;}#sk-container-id-1 div.sk-container {/* jupyter's `normalize.less` sets `[hidden] { display: none; }` but bootstrap.min.css set `[hidden] { display: none !important; }` so we also need the `!important` here to be able to override the default hidden behavior on the sphinx rendered scikit-learn.org. See: https://github.com/scikit-learn/scikit-learn/issues/21755 */display: inline-block !important;position: relative;}#sk-container-id-1 div.sk-text-repr-fallback {display: none;}</style><div id=\"sk-container-id-1\" class=\"sk-top-container\"><div class=\"sk-text-repr-fallback\"><pre>LGBMRegressor(n_estimators=500)</pre><b>In a Jupyter environment, please rerun this cell to show the HTML representation or trust the notebook. <br />On GitHub, the HTML representation is unable to render, please try loading this page with nbviewer.org.</b></div><div class=\"sk-container\" hidden><div class=\"sk-item\"><div class=\"sk-estimator sk-toggleable\"><input class=\"sk-toggleable__control sk-hidden--visually\" id=\"sk-estimator-id-1\" type=\"checkbox\" checked><label for=\"sk-estimator-id-1\" class=\"sk-toggleable__label sk-toggleable__label-arrow\">LGBMRegressor</label><div class=\"sk-toggleable__content\"><pre>LGBMRegressor(n_estimators=500)</pre></div></div></div></div></div>"
      ],
      "text/plain": [
       "LGBMRegressor(n_estimators=500)"
      ]
     },
     "execution_count": 6,
     "metadata": {},
     "output_type": "execute_result"
    }
   ],
   "source": [
    "model = LGBMRegressor(n_estimators=500) \n",
    "model.fit(X_train, y_train)"
   ]
  },
  {
   "cell_type": "markdown",
   "id": "b50b06c9-471e-46bc-9c0d-28a2715d23fb",
   "metadata": {},
   "source": [
    "#### Check the training MAPE (Mean Absolute Percentage Error) of our model"
   ]
  },
  {
   "cell_type": "code",
   "execution_count": 7,
   "id": "0997d916-1b43-4f38-80f1-f1eb381647d3",
   "metadata": {},
   "outputs": [
    {
     "name": "stdout",
     "output_type": "stream",
     "text": [
      "Training Mean Percentage Error: 415.74 seconds\n",
      "Training Mean Absolute Percentage Error: 75.34 %\n"
     ]
    }
   ],
   "source": [
    "preds = abs(model.predict(X_train))\n",
    "mae_train = metrics.mean_absolute_error(y_train, preds)\n",
    "print(f\"Training Mean Percentage Error: {mae_train:.2f} seconds\")\n",
    "mape_train = metrics.mean_absolute_percentage_error(y_train, preds)\n",
    "print(f\"Training Mean Absolute Percentage Error: {mape_train*100:.2f} %\")"
   ]
  },
  {
   "cell_type": "markdown",
   "id": "92bdacf4-bdb5-4129-a394-16590dc87224",
   "metadata": {},
   "source": [
    "### Defining Monitors over test data using the UpTrain Framework"
   ]
  },
  {
   "cell_type": "markdown",
   "id": "304e83a8-22f4-41e7-9d0d-32860f38396d",
   "metadata": {},
   "source": [
    "Next, we define monitors over our ML model in test/production with UpTrain."
   ]
  },
  {
   "cell_type": "markdown",
   "id": "0a1b6038-07cd-42e7-aef1-65a2b5c7e6c7",
   "metadata": {},
   "source": [
    "#### Accuracy monitors\n",
    "We define Mean Absolute Error (MAE) and Mean Absolute Percentage Error (MAPE) accuracy monitors for our regression task"
   ]
  },
  {
   "cell_type": "code",
   "execution_count": 8,
   "id": "a732f1bc-68b1-4a2a-9ccb-2fdd912639b3",
   "metadata": {},
   "outputs": [],
   "source": [
    "# To monitor MAE\n",
    "mae_monitor = {       \n",
    "    \"type\": uptrain.Monitor.ACCURACY,\n",
    "    \"measurable_args\": {\n",
    "        'type': uptrain.MeasurableType.MAE,\n",
    "    },\n",
    "}\n",
    "\n",
    "# To monitor  (MAPE)\n",
    "mape_monitor = {\n",
    "    \"type\": uptrain.Monitor.ACCURACY,\n",
    "    \"measurable_args\": {\n",
    "        'type': uptrain.MeasurableType.MAPE,\n",
    "    },\n",
    "}"
   ]
  },
  {
   "cell_type": "markdown",
   "id": "d04072d9-3861-40d8-b6e4-0ed77e9ba21f",
   "metadata": {},
   "source": [
    "#### SHAP explanability\n",
    "SHAP (SHapley Additive exPlanations) is a game theoretic approach to explain the ML model predictions and it available as a [python package](https://github.com/slundberg/shap). Through UpTrain dashboard, we will use SHAP to explain our model's preditions."
   ]
  },
  {
   "cell_type": "code",
   "execution_count": 9,
   "id": "5d0a5ba0-d686-495a-83e0-d4fd1583bd57",
   "metadata": {},
   "outputs": [],
   "source": [
    "# To visualize the SHAP explanability in dashboard\n",
    "shap_visual = {\n",
    "    \"type\": uptrain.Visual.SHAP,\n",
    "    \"model\": model,\n",
    "    # Limit the number of points for which SHAP values are calculated to reduce runtime.\n",
    "    \"shap_num_points\": 10000,\n",
    "    \"id_col\": \"id\"\n",
    "}"
   ]
  },
  {
   "cell_type": "markdown",
   "id": "8b03cb7b-e567-4553-8f67-a5007730d8c1",
   "metadata": {},
   "source": [
    "#### Data integrity monitor\n",
    "We can also define data integrity checks over our test data. One obvious check is that the number of passengers should >= 1."
   ]
  },
  {
   "cell_type": "code",
   "execution_count": 10,
   "id": "91dd83d3-5777-4c03-8dcb-36224eba8286",
   "metadata": {},
   "outputs": [],
   "source": [
    "# Data integrity monitor to check if feature 'pasenger_count' is >=1\n",
    "data_integrity_monitor =  {\n",
    "    \"type\": uptrain.Monitor.DATA_INTEGRITY,\n",
    "    \"measurable_args\": {\n",
    "        'type': uptrain.MeasurableType.INPUT_FEATURE,\n",
    "        'feature_name': 'passenger_count'\n",
    "    },\n",
    "    \"integrity_type\": \"greater_than\",\n",
    "    \"threshold\": 1\n",
    "}"
   ]
  },
  {
   "cell_type": "markdown",
   "id": "4e9c3bf9-6dac-4d23-871b-a1d9abcc29e9",
   "metadata": {},
   "source": [
    "### Define the checks in config and pass it to the UpTrain framework"
   ]
  },
  {
   "cell_type": "code",
   "execution_count": 11,
   "id": "0ef9998f-97c9-4cf9-8349-916a6543c091",
   "metadata": {},
   "outputs": [
    {
     "name": "stdout",
     "output_type": "stream",
     "text": [
      "Deleting the folder:  uptrain_smart_data\n",
      "Deleting the folder:  uptrain_logs\n",
      "- checks:\n",
      "\t- type:\n",
      "\t\tMonitor.ACCURACY\n",
      "\t- measurable_args:\n",
      "\t\t- type:\n",
      "\t\t\tMeasurableType.MAE\n",
      "\t- type:\n",
      "\t\tMonitor.ACCURACY\n",
      "\t- measurable_args:\n",
      "\t\t- type:\n",
      "\t\t\tMeasurableType.MAPE\n",
      "\t- type:\n",
      "\t\tMonitor.DATA_INTEGRITY\n",
      "\t- measurable_args:\n",
      "\t\t- type:\n",
      "\t\t\tMeasurableType.INPUT_FEATURE\n",
      "\t\t- feature_name:\n",
      "\t\t\tpassenger_count\n",
      "\t- integrity_type:\n",
      "\t\tgreater_than\n",
      "\t- threshold:\n",
      "\t\t1\n",
      "\t- type:\n",
      "\t\tVisual.SHAP\n",
      "\t- model:\n",
      "\t\tLGBMRegressor(n_estimators=500)\n",
      "\t- shap_num_points:\n",
      "\t\t10000\n",
      "\t- id_col:\n",
      "\t\tid\n",
      "- logging_args:\n",
      "\t- st_logging:\n",
      "\t\tTrue\n"
     ]
    }
   ],
   "source": [
    "cfg = {\n",
    "    \"checks\": [mae_monitor, mape_monitor, data_integrity_monitor, shap_visual],\n",
    "    \"logging_args\": {\"st_logging\": True},\n",
    "}\n",
    "framework = uptrain.Framework(cfg_dict=cfg)\n",
    "pretty(cfg)"
   ]
  },
  {
   "cell_type": "markdown",
   "id": "9e5c043f-70aa-4e16-aae5-6685e9d63708",
   "metadata": {},
   "source": [
    "### Launch the model in Production"
   ]
  },
  {
   "cell_type": "code",
   "execution_count": null,
   "id": "1ff86aef-d3bc-4474-a7c6-5e9dbe80cdd6",
   "metadata": {},
   "outputs": [],
   "source": [
    "batch_size = 2000\n",
    "cols = list(X_test.columns)\n",
    "for idx in range(int(len(X_test)/batch_size)):\n",
    "    \n",
    "    indices = range(idx*batch_size, (idx+1)*batch_size)\n",
    "    this_elems = X_test.iloc[idx*batch_size: (idx+1)*batch_size, :]\n",
    "    this_preds = abs(model.predict(this_elems))\n",
    "    \n",
    "    # Add ids to corresponding data points to preserve them in dashboard\n",
    "    this_elems = this_elems.assign(id=list(test_ids[idx*batch_size: (idx+1)*batch_size]))\n",
    "    \n",
    "    # Log input and outputs to the UpTrain framework\n",
    "    ids = framework.log(inputs=this_elems, outputs=this_preds)\n",
    "    \n",
    "    # Attach ground truth\n",
    "    ground_truth = list(y_test[idx*batch_size: (idx+1)*batch_size])\n",
    "    framework.log(identifiers=ids, gts=ground_truth)\n",
    "    \n",
    "    time.sleep(0.01)"
   ]
  },
  {
   "cell_type": "markdown",
   "id": "abc63da3-536a-4731-9c23-b9a7529f655a",
   "metadata": {},
   "source": [
    "### SHAP Explanability at the UpTrain Dashboard"
   ]
  },
  {
   "cell_type": "markdown",
   "id": "2a93f717-7a02-4cc3-87f8-914de9831349",
   "metadata": {},
   "source": [
    "As we can notice from the dashboard, we get two plots for SHAP explanability. The plot on the left is the average weight of each feature. As expected, the feature \"dist\" (that represents the distance of the trip) has the biggest impact on the trip duration prediction. Moreover, pickup hour and taxi vendor id also somewhat affect the trip duration. \n",
    "\n",
    "On the right, we can see how the model arrive at the prediction for any data-point (in this case ID `id1787379`). Due to the low distance of the trip, the feature \"dist\" contributed `-256.06` to the overall trip duration. "
   ]
  },
  {
   "cell_type": "markdown",
   "id": "e3e03151-2dff-4c9e-85b4-6d1f953559fe",
   "metadata": {},
   "source": [
    "<img src=\"https://uptrain-demo.s3.us-west-1.amazonaws.com/ride_estimation/shap_featurewise.png\" width=\"510\"/> <img src=\"https://uptrain-demo.s3.us-west-1.amazonaws.com/ride_estimation/shap_datapoint.png\" width=\"450\"/> "
   ]
  },
  {
   "cell_type": "markdown",
   "id": "8cc1b5d6-f024-436b-a931-e03c435957df",
   "metadata": {},
   "source": [
    "### Demo Video: SHAP explainability\n",
    "We have added a small video on how it looks below."
   ]
  },
  {
   "cell_type": "code",
   "execution_count": 13,
   "id": "f4a1edcd-673a-4525-8e76-668bbba9edfe",
   "metadata": {},
   "outputs": [
    {
     "data": {
      "text/html": [
       "<video src=\"https://uptrain-demo.s3.us-west-1.amazonaws.com/ride_estimation/4_Explanability+recording.mov\" controls  width=\"600\" >\n",
       "      Your browser does not support the <code>video</code> element.\n",
       "    </video>"
      ],
      "text/plain": [
       "<IPython.core.display.Video object>"
      ]
     },
     "execution_count": 13,
     "metadata": {},
     "output_type": "execute_result"
    }
   ],
   "source": [
    "from IPython.display import Video\n",
    "video = Video(\"https://uptrain-demo.s3.us-west-1.amazonaws.com/ride_estimation/4_Explanability+recording.mov\")\n",
    "video.width = 600\n",
    "video"
   ]
  },
  {
   "cell_type": "markdown",
   "id": "825c36a7-46d2-4f99-bb11-e7822263150e",
   "metadata": {},
   "source": [
    "### MAE and MAPE Accuracy\n",
    "\n",
    "<img src=\"https://uptrain-demo.s3.us-west-1.amazonaws.com/ride_estimation/mae.png\" width=\"450\"/> <img src=\"https://uptrain-demo.s3.us-west-1.amazonaws.com/ride_estimation/mape.png\" width=\"457\"/> "
   ]
  },
  {
   "cell_type": "markdown",
   "id": "00dfb3a3-e9db-4463-9447-2e33af7fe3f1",
   "metadata": {},
   "source": [
    "### Data Integrity\n",
    "We added a data integrity check for feature passenger_count >=1. We observe that data integrity is maintained through the test dataset (as data integrity is close to one)\n",
    "\n",
    "\n",
    "<img src=\"https://uptrain-demo.s3.us-west-1.amazonaws.com/ride_estimation/data_integrity_passenger_count.png\" width=\"650\"/>"
   ]
  }
 ],
 "metadata": {
  "kernelspec": {
   "display_name": "Python 3 (ipykernel)",
   "language": "python",
   "name": "python3"
  },
  "language_info": {
   "codemirror_mode": {
    "name": "ipython",
    "version": 3
   },
   "file_extension": ".py",
   "mimetype": "text/x-python",
   "name": "python",
   "nbconvert_exporter": "python",
   "pygments_lexer": "ipython3",
   "version": "3.10.4"
  }
 },
 "nbformat": 4,
 "nbformat_minor": 5
}
