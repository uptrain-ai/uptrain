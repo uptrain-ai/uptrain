{
 "cells": [
  {
   "cell_type": "markdown",
   "id": "ed70a480-3686-4522-acee-ae48079579d2",
   "metadata": {
    "id": "ed70a480-3686-4522-acee-ae48079579d2"
   },
   "source": [
    "<h1 align=\"center\">\n",
    "  <a href=\"https://uptrain.ai\">\n",
    "    <img width=\"300\" src=\"https://user-images.githubusercontent.com/108270398/214240695-4f958b76-c993-4ddd-8de6-8668f4d0da84.png\" alt=\"uptrain\">\n",
    "  </a>\n",
    "</h1>"
   ]
  },
  {
   "cell_type": "markdown",
   "id": "c074abda-7ad0-4af1-a7b4-f5177213dae8",
   "metadata": {
    "id": "c074abda-7ad0-4af1-a7b4-f5177213dae8"
   },
   "source": [
    "<h1 style=\"text-align: center;\">Fine-tuning a Large-Language Model</h1>"
   ]
  },
  {
   "cell_type": "markdown",
   "id": "ba099da1",
   "metadata": {
    "id": "ba099da1"
   },
   "source": [
    "**Overview**: In this example, we will see how to fine-tune a large pre-trained language model such as BERT for the task of masked language modelling. Masked language modelling involves masking a certain percentage of tokens or words in a sentence and training the model to predict the masked tokens. Fine-tuning involves further training the pre-trained model on a specific task such as sentiment analysis or question-answering by adjusting the model's parameters to fit the specific task's requirements. We will use UpTrain to filter our dataset to make our data match specific conditions as defined in the problem statement.\n",
    "\n",
    "**Why is fine-tuning needed**: Pre-trained language models, such as GPT-2 and BERT, are trained on large amounts of text data, which makes them very powerful. However, they are trained on generic tasks and may not be optimized for specific tasks. Fine-tuning the pre-trained model on a specific task, such as sentiment analysis or question-answering, allows the model to adapt to the task's specific requirements, resulting in improved performance. This makes fine-tuning essential to achieve optimal results on a specific NLP task.\n",
    "\n",
    "**Problem**: In this example, we aim to generate positive sentiment predictions for a given text with masked words such as \"Nike shoes are very [MASK]\". The challenge is to ensure that the predicted words have a positive connotation, such as \"Comfortable\", \"Durable\", or \"Good-looking\". Conversely, negative sentiment words like \"Expensive\", \"Ugly\", or \"Dirty\" must not be predicted, as they may lead to inaccurate or undesired results. Thus, the goal is to achieve accurate predictions of masked words with a positive sentiment, while avoiding negative sentiment predictions that could affect the overall performance of the model.\n",
    "\n",
    "**Solution**: We will be using UpTrain framework, which provides an easy-to-use technique for defining customized signals that make the process of data filtering less tedious. Data Integrity checks can also be applied to remove null-valued data. We make use of 🤗 Trainer API to perform fine-tuning on our pretrained model"
   ]
  },
  {
   "cell_type": "markdown",
   "id": "c2f34304-dc81-4fd9-94dc-a7dfc371673a",
   "metadata": {
    "id": "c2f34304-dc81-4fd9-94dc-a7dfc371673a"
   },
   "source": [
    "#### Install Required packages\n",
    "\n",
    "- [PyTorch](https://pytorch.org/get-started/locally/): Deep learning framework.\n",
    "- Hugging Face Transformers(https://huggingface.co/docs/transformers/installation): To use pretrained state-of-the-art models.\n",
    "- [Hugging Face Datasets](https://pypi.org/project/datasets/): Use public Hugging Face datasets\n",
    "- [IPywidgets](https://ipywidgets.readthedocs.io/en/stable/user_install.html): For interactive notebook widgets"
   ]
  },
  {
   "cell_type": "code",
   "execution_count": 1,
   "id": "52468837-a2f1-4531-bef5-b95276db6b82",
   "metadata": {
    "colab": {
     "base_uri": "https://localhost:8080/"
    },
    "id": "52468837-a2f1-4531-bef5-b95276db6b82",
    "outputId": "ce680b0d-6266-41f4-8fa0-76d82a0d3e6d",
    "tags": []
   },
   "outputs": [],
   "source": [
    "# !pip install torch 'transformers[torch]' datasets ipywidgets nltk matplotlib==3.6.0 seaborn uptrain"
   ]
  },
  {
   "cell_type": "markdown",
   "id": "f19aecf5",
   "metadata": {
    "id": "f19aecf5"
   },
   "source": [
    "#### Import all required libraries"
   ]
  },
  {
   "cell_type": "code",
   "execution_count": 2,
   "id": "f61005f8-27ae-4a7a-a190-fe5f335821cb",
   "metadata": {
    "colab": {
     "base_uri": "https://localhost:8080/"
    },
    "id": "f61005f8-27ae-4a7a-a190-fe5f335821cb",
    "outputId": "2c140fd5-66e3-4384-eaa5-8dec582ceba4",
    "tags": []
   },
   "outputs": [
    {
     "name": "stderr",
     "output_type": "stream",
     "text": [
      "[nltk_data] Downloading package vader_lexicon to\n",
      "[nltk_data]     /Users/vipul/nltk_data...\n",
      "[nltk_data]   Package vader_lexicon is already up-to-date!\n"
     ]
    },
    {
     "data": {
      "text/plain": [
       "True"
      ]
     },
     "execution_count": 2,
     "metadata": {},
     "output_type": "execute_result"
    }
   ],
   "source": [
    "import json\n",
    "import nltk\n",
    "import torch\n",
    "import transformers\n",
    "import uptrain\n",
    "import numpy as np\n",
    "import pandas as pd\n",
    "import matplotlib.pyplot as plt\n",
    "import seaborn as sns\n",
    "\n",
    "from nltk.sentiment.vader import SentimentIntensityAnalyzer\n",
    "from transformers import (\n",
    "    AutoModelForMaskedLM, AutoTokenizer,\n",
    "    pipeline\n",
    ")\n",
    "\n",
    "from model_constants import *\n",
    "from helper_funcs import (\n",
    "    top_k_tokens, create_sample_dataset, create_dataset_from_csv,\n",
    "    get_loss_history, get_perplexities\n",
    ")\n",
    "from model_train import (\n",
    "    get_model_and_tokenizer, retrain_model\n",
    ")\n",
    "\n",
    "\n",
    "transformers.logging.set_verbosity_error()\n",
    "nltk.download('vader_lexicon')"
   ]
  },
  {
   "cell_type": "markdown",
   "id": "2ce374a2",
   "metadata": {
    "id": "2ce374a2"
   },
   "source": [
    "#### Model and Testing Data Setup"
   ]
  },
  {
   "cell_type": "markdown",
   "id": "e3753482-afaf-4210-8a3e-d4fb8a325ce2",
   "metadata": {
    "id": "e3753482-afaf-4210-8a3e-d4fb8a325ce2"
   },
   "source": [
    "Define few cases to test our model performance before and after retraining."
   ]
  },
  {
   "cell_type": "code",
   "execution_count": 3,
   "id": "e3c59113-37e7-4245-8dc5-3e3d03bcdad6",
   "metadata": {
    "id": "e3c59113-37e7-4245-8dc5-3e3d03bcdad6",
    "tags": []
   },
   "outputs": [],
   "source": [
    "testing_texts = [\n",
    "    \"Nike shoes are very [MASK]\",\n",
    "    \"Nike atheletic wear is known for being very [MASK]\",\n",
    "    \"Nike [MASK] shoes are very comfortable\",\n",
    "    \"Trousers and Hoodies made by [MASK] are not very expensive\",\n",
    "    \"Nike tshirts are famous for being [MASK]\"\n",
    "]"
   ]
  },
  {
   "cell_type": "markdown",
   "id": "df332b98",
   "metadata": {
    "id": "df332b98"
   },
   "source": [
    "Initialize the model and tokenizer from the distilbert-base-uncased model"
   ]
  },
  {
   "cell_type": "code",
   "execution_count": 4,
   "id": "94a9e506",
   "metadata": {
    "colab": {
     "base_uri": "https://localhost:8080/"
    },
    "id": "94a9e506",
    "outputId": "170dcea5-104e-40d3-91df-aad1c74456e9"
   },
   "outputs": [
    {
     "name": "stdout",
     "output_type": "stream",
     "text": [
      "Is \"cuda\" available? False\n"
     ]
    }
   ],
   "source": [
    "model, tokenizer = get_model_and_tokenizer(model_checkpoint)"
   ]
  },
  {
   "cell_type": "markdown",
   "id": "644e2353",
   "metadata": {
    "id": "644e2353"
   },
   "source": [
    "Let's visualize the model structure to understand the complexity behind these large language models"
   ]
  },
  {
   "cell_type": "markdown",
   "id": "3b1cf953",
   "metadata": {
    "id": "3b1cf953"
   },
   "source": [
    "Take a look at the outputs of the vanilla distilbert-base-uncased model on predicting the outputs for the masked sentence:\n",
    "\n",
    "\"Nike shoes are very [MASK]\"\n",
    "\n",
    "Notice that we get the output \"expensive\" among the top 5 predictions. We want to fine-tune the model so that the predicted words form sentences that have a positive sentiment."
   ]
  },
  {
   "cell_type": "code",
   "execution_count": 5,
   "id": "8d6e1263-e704-4de2-af99-507ea68125fd",
   "metadata": {
    "colab": {
     "base_uri": "https://localhost:8080/"
    },
    "id": "8d6e1263-e704-4de2-af99-507ea68125fd",
    "outputId": "979e9fdf-22f6-4f24-be96-bdeff0a615a9",
    "tags": []
   },
   "outputs": [
    {
     "name": "stdout",
     "output_type": "stream",
     "text": [
      "      Text: Nike shoes are very [MASK]\n",
      "Top tokens: ['popular', 'durable', 'expensive', 'comfortable', 'fashionable', 'attractive', 'common', 'effective', 'versatile', 'valuable']\n"
     ]
    }
   ],
   "source": [
    "original_model_outputs = [top_k_tokens(model, tokenizer, text, k=10) for text in testing_texts]\n",
    "print('      Text:', testing_texts[0])\n",
    "print('Top tokens:', original_model_outputs[0])"
   ]
  },
  {
   "cell_type": "markdown",
   "id": "f1c62855",
   "metadata": {
    "id": "f1c62855"
   },
   "source": [
    "#### Dataset Usage/Synthesis\n",
    "\n",
    "For this task, we can use datasets that are available online, synthesize our own datasets or use a combination of the two. To demonstrate the functionality of UpTrain, synthesizing our own dataset will do.\n",
    "\n",
    "In the dataset synthesis, we generate two forms of sentences that we want to fine-tune the model on. Refer to the function definition of `create_sample_dataset`. Note that some sentences that will be formed may not make complete sense but that is not very relevant."
   ]
  },
  {
   "cell_type": "code",
   "execution_count": 6,
   "id": "e43b6718",
   "metadata": {
    "colab": {
     "base_uri": "https://localhost:8080/"
    },
    "id": "e43b6718",
    "outputId": "2bf7071a-106b-4127-813d-0ac688b2b38d"
   },
   "outputs": [
    {
     "name": "stdout",
     "output_type": "stream",
     "text": [
      "Dataset size: 25000\n",
      "                                                    text  label\n",
      "0      shirts made by adidas are known for being func...      1\n",
      "1                        adidas hats offer breathability      1\n",
      "2                            fila gym wear are expensive      0\n",
      "3                             asics pants is flexibility      1\n",
      "4      wristbands made by nike are known for being st...      1\n",
      "...                                                  ...    ...\n",
      "24995                        nike soccer shoes boast fit      1\n",
      "24996                        hoodies made by nike is fit      1\n",
      "24997                                               None      1\n",
      "24998                  tshirts made by nike offer sporty      1\n",
      "24999  nike performance gear are known for being perf...      1\n",
      "\n",
      "[25000 rows x 2 columns]\n"
     ]
    }
   ],
   "source": [
    "SYNTHESIZED_DATASET_SIZE = 25000\n",
    "uptrain_save_fold_name = \"uptrain_smart_data_bert\"\n",
    "synthesized_data_csv = 'data.csv'\n",
    "synthesized_data_json = 'data.json'\n",
    "\n",
    "# Create our own dataset of reviews for different companies, products, etc.\n",
    "dataset = create_sample_dataset(SYNTHESIZED_DATASET_SIZE)\n",
    "df = pd.DataFrame(dataset['data'])\n",
    "df.reset_index(drop=True, inplace=True)\n",
    "\n",
    "print(f'Dataset size: {len(df)}')\n",
    "print(df)\n",
    "\n",
    "df.to_csv(synthesized_data_csv)\n",
    "create_dataset_from_csv(synthesized_data_csv, 'text', synthesized_data_json)"
   ]
  },
  {
   "cell_type": "markdown",
   "id": "8c6a89ef",
   "metadata": {
    "id": "8c6a89ef"
   },
   "source": [
    "#### UpTrain Initialization and Retraining Dataset Generation"
   ]
  },
  {
   "cell_type": "markdown",
   "id": "3ce7ec0c",
   "metadata": {
    "id": "3ce7ec0c"
   },
   "source": [
    "Define helper functions that UpTrain will use to detect edge cases which the model will fine-tune on instead of using the entire dataset.\n",
    "\n",
    "- `nike_text_present_func`: Checks for the existence of \"nike\" in a sentence\n",
    "- `nike_product_keyword_func`: Checks if the sentence contains a product that is manufactured by Nike\n",
    "- `is_positive_sentiment_func`: Checks if a sentence has positive sentiment"
   ]
  },
  {
   "cell_type": "code",
   "execution_count": 7,
   "id": "6ee2ba01",
   "metadata": {
    "id": "6ee2ba01"
   },
   "outputs": [],
   "source": [
    "vader_sia = SentimentIntensityAnalyzer()\n",
    "\n",
    "def nike_text_present_func (inputs, outputs, gts=None, extra_args={}):\n",
    "    is_present = []\n",
    "    for text in inputs[\"text\"]:\n",
    "        present = False\n",
    "        if text is not None:\n",
    "            text = text.lower()\n",
    "            present = bool(\"nike\" in text)\n",
    "        is_present.append(present)\n",
    "    return is_present\n",
    "\n",
    "def nike_product_keyword_func (inputs, outputs, gts=None, extra_args={}):\n",
    "    is_present = []\n",
    "    for text in inputs[\"text\"]:\n",
    "        present = False\n",
    "        if text is not None:\n",
    "            text = text.lower()\n",
    "            present = any(word in text for word in PRODUCTS)\n",
    "        is_present.append(present)\n",
    "    return is_present\n",
    "\n",
    "def is_positive_sentiment_func (inputs, outputs, gts=None, extra_args={}):\n",
    "    is_positive = []\n",
    "    for text in inputs[\"text\"]:\n",
    "        positive = False\n",
    "        if text is not None:\n",
    "            text = text.lower()\n",
    "            if vader_sia.polarity_scores(text)[\"compound\"] >= 0:\n",
    "                positive = any(word in text for word in POSITIVE_SENTIMENT_ADJECTIVES)\n",
    "        is_positive.append(positive)\n",
    "    return is_positive"
   ]
  },
  {
   "cell_type": "markdown",
   "id": "b876c0f9",
   "metadata": {
    "id": "b876c0f9"
   },
   "source": [
    "Define the UpTrain Framework configuration"
   ]
  },
  {
   "cell_type": "code",
   "execution_count": 8,
   "id": "d9edc5da-8366-4c55-93a7-4601c89c9970",
   "metadata": {
    "colab": {
     "base_uri": "https://localhost:8080/"
    },
    "id": "d9edc5da-8366-4c55-93a7-4601c89c9970",
    "outputId": "1729ee13-fed8-4500-eb30-9902245039e5",
    "tags": []
   },
   "outputs": [
    {
     "name": "stdout",
     "output_type": "stream",
     "text": [
      "Deleting the folder:  uptrain_smart_data_bert\n",
      "Deleting the folder:  uptrain_logs\n"
     ]
    }
   ],
   "source": [
    "cfg = {\n",
    "    'checks': [\n",
    "        {\n",
    "            \"type\": uptrain.Monitor.EDGE_CASE,\n",
    "            \"signal_formulae\": \\\n",
    "                uptrain.Signal(\"Is 'Nike' text present?\", nike_text_present_func) &\n",
    "                uptrain.Signal(\"Is it a Nike product?\", nike_product_keyword_func) &\n",
    "                uptrain.Signal(\"Is positive sentiment?\", is_positive_sentiment_func)\n",
    "        },\n",
    "\n",
    "        {\n",
    "            \"type\": uptrain.Monitor.DATA_INTEGRITY,\n",
    "            \"measurable_args\": {\n",
    "                \"type\": uptrain.MeasurableType.INPUT_FEATURE,\n",
    "                \"feature_name\": \"text\"\n",
    "            },\n",
    "            \"integrity_type\": \"non_null\"\n",
    "        }\n",
    "    ],\n",
    "\n",
    "    # Define where to save the retraining dataset\n",
    "    \"retraining_folder\": uptrain_save_fold_name,\n",
    "    \n",
    "    # Define when to retrain, define a large number because we\n",
    "    # are not retraining yet\n",
    "    \"retrain_after\": 10000000000,\n",
    "\n",
    "    \"logging_args\": {\"st_logging\": True},\n",
    "}\n",
    "\n",
    "dashboard_name = \"llm_bert_example\"\n",
    "framework = uptrain.Framework(cfg)"
   ]
  },
  {
   "cell_type": "markdown",
   "id": "335004bc",
   "metadata": {
    "id": "335004bc"
   },
   "source": [
    "Filter out the data that we want to specifically fine-tune on as defined by the configuration provided above"
   ]
  },
  {
   "cell_type": "code",
   "execution_count": 10,
   "id": "948d6c9b",
   "metadata": {
    "colab": {
     "base_uri": "https://localhost:8080/"
    },
    "id": "948d6c9b",
    "outputId": "e7e6414f-d55d-450e-82ff-63036c8ba8a8"
   },
   "outputs": [
    {
     "name": "stdout",
     "output_type": "stream",
     "text": [
      "50 edge cases identified out of 132 total samples\n",
      "100 edge cases identified out of 285 total samples\n",
      "150 edge cases identified out of 454 total samples\n",
      "200 edge cases identified out of 618 total samples\n",
      "250 edge cases identified out of 764 total samples\n",
      "300 edge cases identified out of 905 total samples\n",
      "350 edge cases identified out of 1053 total samples\n",
      "400 edge cases identified out of 1189 total samples\n",
      "450 edge cases identified out of 1309 total samples\n",
      "500 edge cases identified out of 1463 total samples\n",
      "550 edge cases identified out of 1609 total samples\n",
      "600 edge cases identified out of 1750 total samples\n",
      "650 edge cases identified out of 1904 total samples\n",
      "700 edge cases identified out of 2046 total samples\n",
      "750 edge cases identified out of 2189 total samples\n",
      "800 edge cases identified out of 2328 total samples\n",
      "850 edge cases identified out of 2462 total samples\n",
      "900 edge cases identified out of 2604 total samples\n",
      "950 edge cases identified out of 2731 total samples\n",
      "1000 edge cases identified out of 2888 total samples\n",
      "1050 edge cases identified out of 3054 total samples\n",
      "1100 edge cases identified out of 3203 total samples\n",
      "1150 edge cases identified out of 3339 total samples\n",
      "1200 edge cases identified out of 3470 total samples\n",
      "1250 edge cases identified out of 3616 total samples\n",
      "1300 edge cases identified out of 3739 total samples\n",
      "1350 edge cases identified out of 3866 total samples\n",
      "1400 edge cases identified out of 4024 total samples\n",
      "1450 edge cases identified out of 4158 total samples\n",
      "1500 edge cases identified out of 4293 total samples\n",
      "1550 edge cases identified out of 4435 total samples\n",
      "1600 edge cases identified out of 4560 total samples\n",
      "1650 edge cases identified out of 4710 total samples\n",
      "1700 edge cases identified out of 4851 total samples\n",
      "1750 edge cases identified out of 5019 total samples\n",
      "1800 edge cases identified out of 5205 total samples\n",
      "1850 edge cases identified out of 5367 total samples\n",
      "1900 edge cases identified out of 5526 total samples\n",
      "1950 edge cases identified out of 5682 total samples\n",
      "2000 edge cases identified out of 5828 total samples\n",
      "2050 edge cases identified out of 5984 total samples\n",
      "2100 edge cases identified out of 6125 total samples\n",
      "2150 edge cases identified out of 6256 total samples\n",
      "2200 edge cases identified out of 6379 total samples\n",
      "2250 edge cases identified out of 6518 total samples\n",
      "2300 edge cases identified out of 6651 total samples\n",
      "2350 edge cases identified out of 6774 total samples\n",
      "2400 edge cases identified out of 6931 total samples\n",
      "2450 edge cases identified out of 7050 total samples\n",
      "2500 edge cases identified out of 7188 total samples\n",
      "2550 edge cases identified out of 7354 total samples\n",
      "2600 edge cases identified out of 7493 total samples\n",
      "2650 edge cases identified out of 7660 total samples\n",
      "2700 edge cases identified out of 7825 total samples\n",
      "2750 edge cases identified out of 7972 total samples\n",
      "2800 edge cases identified out of 8109 total samples\n",
      "2850 edge cases identified out of 8261 total samples\n",
      "2900 edge cases identified out of 8413 total samples\n",
      "2950 edge cases identified out of 8521 total samples\n",
      "3000 edge cases identified out of 8655 total samples\n",
      "3050 edge cases identified out of 8771 total samples\n",
      "3100 edge cases identified out of 8933 total samples\n",
      "3150 edge cases identified out of 9070 total samples\n",
      "3200 edge cases identified out of 9217 total samples\n",
      "3250 edge cases identified out of 9372 total samples\n",
      "3300 edge cases identified out of 9514 total samples\n",
      "3350 edge cases identified out of 9659 total samples\n",
      "3400 edge cases identified out of 9801 total samples\n",
      "3450 edge cases identified out of 9934 total samples\n",
      "3500 edge cases identified out of 10079 total samples\n",
      "3550 edge cases identified out of 10245 total samples\n",
      "3600 edge cases identified out of 10369 total samples\n",
      "3650 edge cases identified out of 10491 total samples\n",
      "3700 edge cases identified out of 10661 total samples\n",
      "3750 edge cases identified out of 10788 total samples\n",
      "3800 edge cases identified out of 10936 total samples\n",
      "3850 edge cases identified out of 11070 total samples\n",
      "3900 edge cases identified out of 11217 total samples\n",
      "3950 edge cases identified out of 11345 total samples\n",
      "4000 edge cases identified out of 11501 total samples\n",
      "4050 edge cases identified out of 11624 total samples\n",
      "4100 edge cases identified out of 11761 total samples\n",
      "4150 edge cases identified out of 11876 total samples\n",
      "4200 edge cases identified out of 12014 total samples\n",
      "4250 edge cases identified out of 12128 total samples\n",
      "4300 edge cases identified out of 12263 total samples\n",
      "4350 edge cases identified out of 12404 total samples\n",
      "4400 edge cases identified out of 12530 total samples\n",
      "4450 edge cases identified out of 12661 total samples\n",
      "4500 edge cases identified out of 12817 total samples\n",
      "4550 edge cases identified out of 12998 total samples\n",
      "4600 edge cases identified out of 13140 total samples\n",
      "4650 edge cases identified out of 13272 total samples\n",
      "4700 edge cases identified out of 13436 total samples\n",
      "4750 edge cases identified out of 13568 total samples\n",
      "4800 edge cases identified out of 13715 total samples\n",
      "4850 edge cases identified out of 13854 total samples\n",
      "4900 edge cases identified out of 13991 total samples\n",
      "4950 edge cases identified out of 14112 total samples\n",
      "5000 edge cases identified out of 14270 total samples\n",
      "5050 edge cases identified out of 14395 total samples\n",
      "5100 edge cases identified out of 14548 total samples\n",
      "5150 edge cases identified out of 14697 total samples\n",
      "5200 edge cases identified out of 14857 total samples\n",
      "5250 edge cases identified out of 14985 total samples\n",
      "5300 edge cases identified out of 15117 total samples\n",
      "5350 edge cases identified out of 15263 total samples\n",
      "5400 edge cases identified out of 15419 total samples\n",
      "5450 edge cases identified out of 15540 total samples\n",
      "5500 edge cases identified out of 15690 total samples\n",
      "5550 edge cases identified out of 15834 total samples\n",
      "5600 edge cases identified out of 15987 total samples\n",
      "5650 edge cases identified out of 16122 total samples\n",
      "5700 edge cases identified out of 16261 total samples\n",
      "5750 edge cases identified out of 16392 total samples\n",
      "5800 edge cases identified out of 16535 total samples\n",
      "5850 edge cases identified out of 16680 total samples\n",
      "5900 edge cases identified out of 16822 total samples\n",
      "5950 edge cases identified out of 16949 total samples\n",
      "6000 edge cases identified out of 17088 total samples\n",
      "6050 edge cases identified out of 17240 total samples\n",
      "6100 edge cases identified out of 17384 total samples\n",
      "6150 edge cases identified out of 17541 total samples\n",
      "6200 edge cases identified out of 17662 total samples\n",
      "6250 edge cases identified out of 17812 total samples\n",
      "6300 edge cases identified out of 17963 total samples\n",
      "6350 edge cases identified out of 18105 total samples\n",
      "6400 edge cases identified out of 18266 total samples\n",
      "6450 edge cases identified out of 18427 total samples\n",
      "6500 edge cases identified out of 18565 total samples\n",
      "6550 edge cases identified out of 18744 total samples\n",
      "6600 edge cases identified out of 18872 total samples\n",
      "6650 edge cases identified out of 19036 total samples\n",
      "6700 edge cases identified out of 19168 total samples\n",
      "6750 edge cases identified out of 19316 total samples\n",
      "6800 edge cases identified out of 19438 total samples\n",
      "6850 edge cases identified out of 19561 total samples\n",
      "6900 edge cases identified out of 19701 total samples\n",
      "6950 edge cases identified out of 19866 total samples\n",
      "7000 edge cases identified out of 20019 total samples\n",
      "7050 edge cases identified out of 20170 total samples\n",
      "7100 edge cases identified out of 20337 total samples\n",
      "7150 edge cases identified out of 20462 total samples\n",
      "7200 edge cases identified out of 20605 total samples\n",
      "7250 edge cases identified out of 20720 total samples\n",
      "7300 edge cases identified out of 20861 total samples\n",
      "7350 edge cases identified out of 20987 total samples\n",
      "7400 edge cases identified out of 21149 total samples\n",
      "7450 edge cases identified out of 21325 total samples\n",
      "7500 edge cases identified out of 21424 total samples\n",
      "7550 edge cases identified out of 21541 total samples\n",
      "7600 edge cases identified out of 21684 total samples\n",
      "7650 edge cases identified out of 21830 total samples\n",
      "7700 edge cases identified out of 21972 total samples\n",
      "7750 edge cases identified out of 22101 total samples\n",
      "7800 edge cases identified out of 22246 total samples\n",
      "7850 edge cases identified out of 22391 total samples\n",
      "7900 edge cases identified out of 22548 total samples\n",
      "7950 edge cases identified out of 22697 total samples\n",
      "8000 edge cases identified out of 22847 total samples\n",
      "8050 edge cases identified out of 22982 total samples\n",
      "8100 edge cases identified out of 23130 total samples\n",
      "8150 edge cases identified out of 23253 total samples\n",
      "8200 edge cases identified out of 23381 total samples\n",
      "8250 edge cases identified out of 23521 total samples\n",
      "8300 edge cases identified out of 23637 total samples\n",
      "8350 edge cases identified out of 23782 total samples\n",
      "8400 edge cases identified out of 23914 total samples\n",
      "8450 edge cases identified out of 24047 total samples\n",
      "8500 edge cases identified out of 24176 total samples\n",
      "8550 edge cases identified out of 24320 total samples\n",
      "8600 edge cases identified out of 24452 total samples\n",
      "8650 edge cases identified out of 24575 total samples\n",
      "8700 edge cases identified out of 24727 total samples\n",
      "8750 edge cases identified out of 24875 total samples\n"
     ]
    }
   ],
   "source": [
    "for index, sample in enumerate(dataset['data']):\n",
    "    inputs = {'text': [sample['text']]}\n",
    "    framework.log(inputs = inputs, outputs = None)\n",
    "\n",
    "retraining_csv = uptrain_save_fold_name + '/1/smart_data.csv'\n",
    "retraining_json = 'retrain_dataset.json'\n",
    "create_dataset_from_csv(retraining_csv, 'text', retraining_json)"
   ]
  },
  {
   "cell_type": "markdown",
   "id": "8b4cde45-b73f-4a3b-89e8-d9a7bf15a998",
   "metadata": {},
   "source": [
    "## Visualizing Statistics on the UpTrain Dashboard"
   ]
  },
  {
   "cell_type": "markdown",
   "id": "62e62fa3-9b9a-450c-a8b7-2b4622581257",
   "metadata": {},
   "source": [
    "### 1. Data integrity\n",
    "\n",
    "<img width=\"500\" src=\"https://uptrain-demo.s3.us-west-1.amazonaws.com/finetuning_llms/data_integrity.gif\">"
   ]
  },
  {
   "cell_type": "markdown",
   "id": "827a87cb-6c3e-495f-a162-cf74ef938dba",
   "metadata": {},
   "source": [
    "### 2. Number of edge cases\n",
    "\n",
    "<img width=\"500\" src=\"https://uptrain-demo.s3.us-west-1.amazonaws.com/finetuning_llms/edge_cases.gif\">"
   ]
  },
  {
   "cell_type": "markdown",
   "id": "9bb3d07d",
   "metadata": {
    "id": "9bb3d07d"
   },
   "source": [
    "#### Next, let is finetune the model through the edge cases collected by UpTrain "
   ]
  },
  {
   "cell_type": "code",
   "execution_count": null,
   "id": "4ca07a1b",
   "metadata": {
    "colab": {
     "base_uri": "https://localhost:8080/",
     "height": 1000,
     "referenced_widgets": [
      "dad4012e7a2142619d5a94313f836760",
      "3754a7a35b1b47c5a38ad53be51ebc29",
      "e0030995ff4b482296d62777067ee9fb",
      "ece8af72ce7949219717ba1ba04c81c1",
      "6cea27df56c241cd84ba786df885707a",
      "2cd860da5caa4e19a6b0d2b19fa3a543",
      "4c726416714649cfa8b5a5a6be043a28",
      "1739810cc59d4d5a8e0b7d0d0191cf60",
      "cdbd891e64e64c26bfd79a4a25074473",
      "1fa2a5d254dd4db4ba13602eec0ba6b3",
      "acee800d41a54a9987c4c6fe4894244b",
      "00e5f573a60c4359a51ddec7712a080b",
      "5e9b72143e7e484888f604ad272303e7",
      "05716f1e4a084dd0a271a3e77d785860",
      "c1e1045ac8c34657a0d373df3b232a07",
      "5f930e7e63c846ebab99bcbe5c5718ad",
      "8e9f46a77bd14f9ba9d5559fa7e7a381",
      "671d9cacfc334c38b68c345761fbe61c",
      "719ad90aa0ee4ad5ac35a50a32eec9c0",
      "086370f33f3640f2bfeccbac84394d8b",
      "1a878ec550df4722a728d0f9f99b7ada",
      "ed85ea60529f41ba83a556f37969664d",
      "34557f5fd42b4d23b0bf072b4dd46c81",
      "b33245d0682245109fc302b28c3b5c9f",
      "2cef8d41277a498c95b973fcceee0e8b",
      "fcccd0edd30049f6b91634d995b035dc",
      "622c2e37b4c9448e8df224b5e2845333",
      "048e23b4256a4e41b5983a5c30069d92",
      "5d2c6830805746029c7e467b02db7c41",
      "c78742bcfcf847008f4446ffa9aab618",
      "dadb50da3c6e48db9ca8332cb5359f93",
      "902a07f99a0e44f89b19fb331804e469",
      "c9f3455904b145e68de0cdd1a6376102",
      "4e9426e78d2c419c9f9ac1a9c5590002",
      "d6f0c8c7493447d3b91588b363d7597d",
      "f9faf45a27a64c6d90ea1775ad24234f",
      "afb107580cce4e558d6a1025350ceb98",
      "0d8ea2991bab4054b22ed6685d40eef3",
      "97254c51bb8e46cf8753653806533c01",
      "6b90ee1345af4df2b0a92dba863c01fd",
      "721b0c05f5fc446ab714c95a674eeb8c",
      "ad1453b3cf424c36af65af4d6d8ab2ca",
      "5d39d1c0a5064b4993fe3f83bff68d1c",
      "2d0cce4f9be14b0a9bbf7da7978525f9",
      "068f2ed9dc6b4aa7aadb9b8a6b3d4e42",
      "70c15f3f2e934cba99e9e3e167321e06",
      "dd7af1ec342a449086a51ceb2f24d894",
      "7ecd2753ad4949518b0865f9e4e0dd06",
      "ea76d9fefae74eb49d74ce43459e99de",
      "be78be4430534e19b9eff182ab108337",
      "79ef5ee0ce5c437f91ef0dc553b29afe",
      "ada878d52f2b484dbf29dc9a7d601997",
      "5fd8654d259548a884ae5149d117e831",
      "62a3c94caff748d584d2679c9a187c1d",
      "f74a2de916a54e7cb708ed10290e0159",
      "d22b5af540564575b6b8b557a1ba4c22",
      "a094154cf2a74ac488ceabdb7eb2b329",
      "3f4e22c876ea4c93a70eee3441722978",
      "6996dc90d12a4908b7fd92b1e7b798a9",
      "c5af81305f1d4d3ea3708c228493265d",
      "6aee279ff34244bfb4f8f4f3511efede",
      "595c9dfc97ed4da290a4da4da1da4cd3",
      "7f8f7af1536b4e309d02d38fc80a655c",
      "017899bb83184c3da39556c39d9db5c1",
      "0c0f4a8e321c44c9b34556205ed7ab42",
      "0f6cbc3071c8417b91893a3962ea58c6"
     ]
    },
    "id": "4ca07a1b",
    "outputId": "168864f4-8e84-49ec-bfa7-4a395b30c8bf"
   },
   "outputs": [],
   "source": [
    "# The number of training epochs is set low here. Higher number of epochs\n",
    "# result in better performance\n",
    "trainer, _, _, _ = retrain_model(model, retraining_json, num_train_epochs=2)"
   ]
  },
  {
   "cell_type": "code",
   "execution_count": 11,
   "id": "648ef206",
   "metadata": {
    "colab": {
     "base_uri": "https://localhost:8080/"
    },
    "id": "648ef206",
    "outputId": "fc4085b3-7b36-4971-b056-f45eaf6603e0"
   },
   "outputs": [
    {
     "name": "stdout",
     "output_type": "stream",
     "text": [
      "                Text: Nike shoes are very [MASK]\n",
      " Original Top tokens: ['popular', 'durable', 'expensive', 'comfortable', 'fashionable']\n",
      "Retrained Top tokens: ['durable', 'fashionable', 'comfortable', 'lightweight', 'popular']\n",
      "                Text: Nike atheletic wear is known for being very [MASK]\n",
      " Original Top tokens: ['durable', 'expensive', 'popular', 'fashionable', 'rare']\n",
      "Retrained Top tokens: ['durable', 'lightweight', 'fashionable', 'fit', 'flexible']\n",
      "                Text: Nike [MASK] shoes are very comfortable\n",
      " Original Top tokens: ['polo', 'golf', 'swim', 'tennis', 'nike']\n",
      "Retrained Top tokens: ['running', 'soccer', 'basketball', 'training', 'football']\n",
      "                Text: Trousers and Hoodies made by [MASK] are not very expensive\n",
      " Original Top tokens: ['women', 'manufacturers', 'men', 'amateurs', 'slaves']\n",
      "Retrained Top tokens: ['nike', 'honda', 'samsung', 'lego', 'bmw']\n",
      "                Text: Nike tshirts are famous for being [MASK]\n",
      " Original Top tokens: ['.', ':', ';', 'colorful', 'unique']\n",
      "Retrained Top tokens: ['lightweight', '\"', 'durable', 'fit', 'cheap']\n"
     ]
    }
   ],
   "source": [
    "retrained_model_outputs = [top_k_tokens(model, tokenizer, text) for text in testing_texts]\n",
    "\n",
    "for i in range(len(testing_texts)):\n",
    "    print('                Text:', testing_texts[i])\n",
    "    print(' Original Top tokens:', original_model_outputs[i][:5])\n",
    "    print('Retrained Top tokens:', retrained_model_outputs[i][:5])"
   ]
  },
  {
   "cell_type": "markdown",
   "id": "PLJACbZPEbXH",
   "metadata": {
    "id": "PLJACbZPEbXH"
   },
   "source": [
    "We can see from the above output that the model is doing much better at predicting masked words that have positive sentiment associated with them.\n",
    "\n",
    "In the first example, we see that the model no longer predicts masked words such as \"expensive\" among its top 5 predictions, which is exactly what we want!\n",
    "\n",
    "An interesting case to look at is the predictions for example 3. We no longer have swim shoes! 😂"
   ]
  },
  {
   "cell_type": "markdown",
   "id": "3d9242d8",
   "metadata": {
    "id": "3d9242d8"
   },
   "source": [
    "## Visualizing Loss, Perplexity and Mask Prediction Confidence"
   ]
  },
  {
   "cell_type": "markdown",
   "id": "f8d5d759",
   "metadata": {
    "id": "f8d5d759"
   },
   "source": [
    "We can create plots for visualizing training/validation loss and perplexity. We can also plot bar charts to visualize the scores of each predicted masked word (higher scores denote higher confidence of the model at respective mask guesses). Here, we plot confidence scores of the Top 10 predictions of the model for each of the chosen testing sentences."
   ]
  },
  {
   "cell_type": "code",
   "execution_count": 12,
   "id": "cFcsbhbiwqMZ",
   "metadata": {
    "id": "cFcsbhbiwqMZ"
   },
   "outputs": [],
   "source": [
    "(training_loss_steps, training_loss_history), (eval_loss_steps, eval_loss_history) = get_loss_history(trainer.state.log_history)\n",
    "perplexities = get_perplexities(eval_loss_history)"
   ]
  },
  {
   "cell_type": "code",
   "execution_count": 13,
   "id": "kQuzAfMk_tc5",
   "metadata": {
    "colab": {
     "base_uri": "https://localhost:8080/",
     "height": 433
    },
    "id": "kQuzAfMk_tc5",
    "outputId": "c03edff9-6f7c-4262-b5ef-c6300aba7956"
   },
   "outputs": [
    {
     "data": {
      "image/png": "[encoded data removed]",
      "text/plain": [
       "<Figure size 1000x600 with 1 Axes>"
      ]
     },
     "metadata": {},
     "output_type": "display_data"
    }
   ],
   "source": [
    "plt.rcParams['figure.figsize'] = (10, 6)\n",
    "sns.set_theme(style='white')\n",
    "\n",
    "with plt.style.context('fivethirtyeight'):\n",
    "    plt.title('Loss over Time', fontsize = 20)\n",
    "    plt.xlabel('Steps')\n",
    "    plt.ylabel('Loss')\n",
    "\n",
    "    training_color = 'green'\n",
    "    validation_color = 'red'\n",
    "    plt.plot(training_loss_steps, training_loss_history, label = 'Training', color = training_color)\n",
    "    plt.plot(eval_loss_steps, eval_loss_history, label = 'Validation', color = validation_color)\n",
    "\n",
    "    plt.legend()\n",
    "    plt.tight_layout()\n",
    "    plt.savefig('loss_over_time.png')\n",
    "    plt.show()"
   ]
  },
  {
   "cell_type": "code",
   "execution_count": 14,
   "id": "v9y29JtgBGWX",
   "metadata": {
    "colab": {
     "base_uri": "https://localhost:8080/",
     "height": 433
    },
    "id": "v9y29JtgBGWX",
    "outputId": "e1dfbe7c-40bf-422d-8048-8b9783cd9f72"
   },
   "outputs": [
    {
     "data": {
      "image/png": "[encoded data removed]",
      "text/plain": [
       "<Figure size 1000x600 with 1 Axes>"
      ]
     },
     "metadata": {},
     "output_type": "display_data"
    }
   ],
   "source": [
    "with plt.style.context('fivethirtyeight'):\n",
    "    plt.title('Perplexity over Time', fontsize = 20)\n",
    "    plt.xlabel('Steps')\n",
    "    plt.ylabel('Perplexity')\n",
    "\n",
    "    perplexity_color = 'purple'\n",
    "    plt.plot(eval_loss_steps, perplexities, label = 'Perplexity', color = perplexity_color)\n",
    "\n",
    "    plt.legend()\n",
    "    plt.tight_layout()\n",
    "    plt.savefig('perplexity_over_time.png')\n",
    "    plt.show()"
   ]
  },
  {
   "cell_type": "code",
   "execution_count": 15,
   "id": "UtjfJIQXDOSy",
   "metadata": {
    "id": "UtjfJIQXDOSy"
   },
   "outputs": [],
   "source": [
    "model.to('cpu')\n",
    "unmasker = pipeline('fill-mask', model = model, tokenizer = tokenizer, top_k = 1000)\n",
    "token_scores = []\n",
    "\n",
    "for text in testing_texts:\n",
    "    values = unmasker(text)\n",
    "    token_scores.append(values[:10])"
   ]
  },
  {
   "cell_type": "code",
   "execution_count": 16,
   "id": "QuVYJlnZGCGr",
   "metadata": {
    "colab": {
     "base_uri": "https://localhost:8080/",
     "height": 1000
    },
    "id": "QuVYJlnZGCGr",
    "outputId": "93aca20a-667b-46ec-8bd9-b89a216eef6d"
   },
   "outputs": [
    {
     "data": {
      "image/png": "[encoded data removed]",
      "text/plain": [
       "<Figure size 1000x600 with 1 Axes>"
      ]
     },
     "metadata": {},
     "output_type": "display_data"
    },
    {
     "name": "stdout",
     "output_type": "stream",
     "text": [
      "\n",
      "\n"
     ]
    },
    {
     "data": {
      "image/png": "[encoded data removed]",
      "text/plain": [
       "<Figure size 1000x600 with 1 Axes>"
      ]
     },
     "metadata": {},
     "output_type": "display_data"
    },
    {
     "name": "stdout",
     "output_type": "stream",
     "text": [
      "\n",
      "\n"
     ]
    },
    {
     "data": {
      "image/png": "[encoded data removed]",
      "text/plain": [
       "<Figure size 1000x600 with 1 Axes>"
      ]
     },
     "metadata": {},
     "output_type": "display_data"
    },
    {
     "name": "stdout",
     "output_type": "stream",
     "text": [
      "\n",
      "\n"
     ]
    },
    {
     "data": {
      "image/png": "[encoded data removed]",
      "text/plain": [
       "<Figure size 1000x600 with 1 Axes>"
      ]
     },
     "metadata": {},
     "output_type": "display_data"
    },
    {
     "name": "stdout",
     "output_type": "stream",
     "text": [
      "\n",
      "\n"
     ]
    },
    {
     "data": {
      "image/png": "[encoded data removed]",
      "text/plain": [
       "<Figure size 1000x600 with 1 Axes>"
      ]
     },
     "metadata": {},
     "output_type": "display_data"
    },
    {
     "name": "stdout",
     "output_type": "stream",
     "text": [
      "\n",
      "\n"
     ]
    }
   ],
   "source": [
    "for index in range(len(testing_texts)):\n",
    "    df = pd.DataFrame(token_scores[index])\n",
    "\n",
    "    plt.suptitle(f'Best mask predictions for \"{testing_texts[index]}\"', fontsize = 16)\n",
    "\n",
    "    ax = sns.barplot(data = df, x = 'token_str', y = 'score')\n",
    "    ax.set_xticklabels(ax.get_xticklabels(), rotation = 80, ha = 'center')\n",
    "    ax.grid(True)\n",
    "    ax.set_xlabel('Token String', fontsize = 14)\n",
    "    ax.set_ylabel('Score', fontsize = 14)\n",
    "\n",
    "    plt.tight_layout()\n",
    "    plt.savefig(testing_texts[index].replace(' ', '-').replace('[', '').replace(']', '').lower() + '.png')\n",
    "    plt.show()\n",
    "    print('\\n')"
   ]
  }
 ],
 "metadata": {
  "accelerator": "GPU",
  "colab": {
   "provenance": []
  },
  "gpuClass": "standard",
  "kernelspec": {
   "display_name": "Python 3 (ipykernel)",
   "language": "python",
   "name": "python3"
  },
  "language_info": {
   "codemirror_mode": {
    "name": "ipython",
    "version": 3
   },
   "file_extension": ".py",
   "mimetype": "text/x-python",
   "name": "python",
   "nbconvert_exporter": "python",
   "pygments_lexer": "ipython3",
   "version": "3.10.4"
  },
  "widgets": {
   "application/vnd.jupyter.widget-state+json": {
    "00e5f573a60c4359a51ddec7712a080b": {
     "model_module": "@jupyter-widgets/controls",
     "model_module_version": "1.5.0",
     "model_name": "HBoxModel",
     "state": {
      "_dom_classes": [],
      "_model_module": "@jupyter-widgets/controls",
      "_model_module_version": "1.5.0",
      "_model_name": "HBoxModel",
      "_view_count": null,
      "_view_module": "@jupyter-widgets/controls",
      "_view_module_version": "1.5.0",
      "_view_name": "HBoxView",
      "box_style": "",
      "children": [
       "IPY_MODEL_5e9b72143e7e484888f604ad272303e7",
       "IPY_MODEL_05716f1e4a084dd0a271a3e77d785860",
       "IPY_MODEL_c1e1045ac8c34657a0d373df3b232a07"
      ],
      "layout": "IPY_MODEL_5f930e7e63c846ebab99bcbe5c5718ad"
     }
    },
    "017899bb83184c3da39556c39d9db5c1": {
     "model_module": "@jupyter-widgets/controls",
     "model_module_version": "1.5.0",
     "model_name": "ProgressStyleModel",
     "state": {
      "_model_module": "@jupyter-widgets/controls",
      "_model_module_version": "1.5.0",
      "_model_name": "ProgressStyleModel",
      "_view_count": null,
      "_view_module": "@jupyter-widgets/base",
      "_view_module_version": "1.2.0",
      "_view_name": "StyleView",
      "bar_color": null,
      "description_width": ""
     }
    },
    "048e23b4256a4e41b5983a5c30069d92": {
     "model_module": "@jupyter-widgets/base",
     "model_module_version": "1.2.0",
     "model_name": "LayoutModel",
     "state": {
      "_model_module": "@jupyter-widgets/base",
      "_model_module_version": "1.2.0",
      "_model_name": "LayoutModel",
      "_view_count": null,
      "_view_module": "@jupyter-widgets/base",
      "_view_module_version": "1.2.0",
      "_view_name": "LayoutView",
      "align_content": null,
      "align_items": null,
      "align_self": null,
      "border": null,
      "bottom": null,
      "display": null,
      "flex": null,
      "flex_flow": null,
      "grid_area": null,
      "grid_auto_columns": null,
      "grid_auto_flow": null,
      "grid_auto_rows": null,
      "grid_column": null,
      "grid_gap": null,
      "grid_row": null,
      "grid_template_areas": null,
      "grid_template_columns": null,
      "grid_template_rows": null,
      "height": null,
      "justify_content": null,
      "justify_items": null,
      "left": null,
      "margin": null,
      "max_height": null,
      "max_width": null,
      "min_height": null,
      "min_width": null,
      "object_fit": null,
      "object_position": null,
      "order": null,
      "overflow": null,
      "overflow_x": null,
      "overflow_y": null,
      "padding": null,
      "right": null,
      "top": null,
      "visibility": null,
      "width": null
     }
    },
    "05716f1e4a084dd0a271a3e77d785860": {
     "model_module": "@jupyter-widgets/controls",
     "model_module_version": "1.5.0",
     "model_name": "FloatProgressModel",
     "state": {
      "_dom_classes": [],
      "_model_module": "@jupyter-widgets/controls",
      "_model_module_version": "1.5.0",
      "_model_name": "FloatProgressModel",
      "_view_count": null,
      "_view_module": "@jupyter-widgets/controls",
      "_view_module_version": "1.5.0",
      "_view_name": "ProgressView",
      "bar_style": "success",
      "description": "",
      "description_tooltip": null,
      "layout": "IPY_MODEL_719ad90aa0ee4ad5ac35a50a32eec9c0",
      "max": 1,
      "min": 0,
      "orientation": "horizontal",
      "style": "IPY_MODEL_086370f33f3640f2bfeccbac84394d8b",
      "value": 1
     }
    },
    "068f2ed9dc6b4aa7aadb9b8a6b3d4e42": {
     "model_module": "@jupyter-widgets/controls",
     "model_module_version": "1.5.0",
     "model_name": "HBoxModel",
     "state": {
      "_dom_classes": [],
      "_model_module": "@jupyter-widgets/controls",
      "_model_module_version": "1.5.0",
      "_model_name": "HBoxModel",
      "_view_count": null,
      "_view_module": "@jupyter-widgets/controls",
      "_view_module_version": "1.5.0",
      "_view_name": "HBoxView",
      "box_style": "",
      "children": [
       "IPY_MODEL_70c15f3f2e934cba99e9e3e167321e06",
       "IPY_MODEL_dd7af1ec342a449086a51ceb2f24d894",
       "IPY_MODEL_7ecd2753ad4949518b0865f9e4e0dd06"
      ],
      "layout": "IPY_MODEL_ea76d9fefae74eb49d74ce43459e99de"
     }
    },
    "086370f33f3640f2bfeccbac84394d8b": {
     "model_module": "@jupyter-widgets/controls",
     "model_module_version": "1.5.0",
     "model_name": "ProgressStyleModel",
     "state": {
      "_model_module": "@jupyter-widgets/controls",
      "_model_module_version": "1.5.0",
      "_model_name": "ProgressStyleModel",
      "_view_count": null,
      "_view_module": "@jupyter-widgets/base",
      "_view_module_version": "1.2.0",
      "_view_name": "StyleView",
      "bar_color": null,
      "description_width": ""
     }
    },
    "0c0f4a8e321c44c9b34556205ed7ab42": {
     "model_module": "@jupyter-widgets/base",
     "model_module_version": "1.2.0",
     "model_name": "LayoutModel",
     "state": {
      "_model_module": "@jupyter-widgets/base",
      "_model_module_version": "1.2.0",
      "_model_name": "LayoutModel",
      "_view_count": null,
      "_view_module": "@jupyter-widgets/base",
      "_view_module_version": "1.2.0",
      "_view_name": "LayoutView",
      "align_content": null,
      "align_items": null,
      "align_self": null,
      "border": null,
      "bottom": null,
      "display": null,
      "flex": null,
      "flex_flow": null,
      "grid_area": null,
      "grid_auto_columns": null,
      "grid_auto_flow": null,
      "grid_auto_rows": null,
      "grid_column": null,
      "grid_gap": null,
      "grid_row": null,
      "grid_template_areas": null,
      "grid_template_columns": null,
      "grid_template_rows": null,
      "height": null,
      "justify_content": null,
      "justify_items": null,
      "left": null,
      "margin": null,
      "max_height": null,
      "max_width": null,
      "min_height": null,
      "min_width": null,
      "object_fit": null,
      "object_position": null,
      "order": null,
      "overflow": null,
      "overflow_x": null,
      "overflow_y": null,
      "padding": null,
      "right": null,
      "top": null,
      "visibility": null,
      "width": null
     }
    },
    "0d8ea2991bab4054b22ed6685d40eef3": {
     "model_module": "@jupyter-widgets/base",
     "model_module_version": "1.2.0",
     "model_name": "LayoutModel",
     "state": {
      "_model_module": "@jupyter-widgets/base",
      "_model_module_version": "1.2.0",
      "_model_name": "LayoutModel",
      "_view_count": null,
      "_view_module": "@jupyter-widgets/base",
      "_view_module_version": "1.2.0",
      "_view_name": "LayoutView",
      "align_content": null,
      "align_items": null,
      "align_self": null,
      "border": null,
      "bottom": null,
      "display": null,
      "flex": null,
      "flex_flow": null,
      "grid_area": null,
      "grid_auto_columns": null,
      "grid_auto_flow": null,
      "grid_auto_rows": null,
      "grid_column": null,
      "grid_gap": null,
      "grid_row": null,
      "grid_template_areas": null,
      "grid_template_columns": null,
      "grid_template_rows": null,
      "height": null,
      "justify_content": null,
      "justify_items": null,
      "left": null,
      "margin": null,
      "max_height": null,
      "max_width": null,
      "min_height": null,
      "min_width": null,
      "object_fit": null,
      "object_position": null,
      "order": null,
      "overflow": null,
      "overflow_x": null,
      "overflow_y": null,
      "padding": null,
      "right": null,
      "top": null,
      "visibility": null,
      "width": null
     }
    },
    "0f6cbc3071c8417b91893a3962ea58c6": {
     "model_module": "@jupyter-widgets/controls",
     "model_module_version": "1.5.0",
     "model_name": "DescriptionStyleModel",
     "state": {
      "_model_module": "@jupyter-widgets/controls",
      "_model_module_version": "1.5.0",
      "_model_name": "DescriptionStyleModel",
      "_view_count": null,
      "_view_module": "@jupyter-widgets/base",
      "_view_module_version": "1.2.0",
      "_view_name": "StyleView",
      "description_width": ""
     }
    },
    "1739810cc59d4d5a8e0b7d0d0191cf60": {
     "model_module": "@jupyter-widgets/base",
     "model_module_version": "1.2.0",
     "model_name": "LayoutModel",
     "state": {
      "_model_module": "@jupyter-widgets/base",
      "_model_module_version": "1.2.0",
      "_model_name": "LayoutModel",
      "_view_count": null,
      "_view_module": "@jupyter-widgets/base",
      "_view_module_version": "1.2.0",
      "_view_name": "LayoutView",
      "align_content": null,
      "align_items": null,
      "align_self": null,
      "border": null,
      "bottom": null,
      "display": null,
      "flex": null,
      "flex_flow": null,
      "grid_area": null,
      "grid_auto_columns": null,
      "grid_auto_flow": null,
      "grid_auto_rows": null,
      "grid_column": null,
      "grid_gap": null,
      "grid_row": null,
      "grid_template_areas": null,
      "grid_template_columns": null,
      "grid_template_rows": null,
      "height": null,
      "justify_content": null,
      "justify_items": null,
      "left": null,
      "margin": null,
      "max_height": null,
      "max_width": null,
      "min_height": null,
      "min_width": null,
      "object_fit": null,
      "object_position": null,
      "order": null,
      "overflow": null,
      "overflow_x": null,
      "overflow_y": null,
      "padding": null,
      "right": null,
      "top": null,
      "visibility": null,
      "width": null
     }
    },
    "1a878ec550df4722a728d0f9f99b7ada": {
     "model_module": "@jupyter-widgets/base",
     "model_module_version": "1.2.0",
     "model_name": "LayoutModel",
     "state": {
      "_model_module": "@jupyter-widgets/base",
      "_model_module_version": "1.2.0",
      "_model_name": "LayoutModel",
      "_view_count": null,
      "_view_module": "@jupyter-widgets/base",
      "_view_module_version": "1.2.0",
      "_view_name": "LayoutView",
      "align_content": null,
      "align_items": null,
      "align_self": null,
      "border": null,
      "bottom": null,
      "display": null,
      "flex": null,
      "flex_flow": null,
      "grid_area": null,
      "grid_auto_columns": null,
      "grid_auto_flow": null,
      "grid_auto_rows": null,
      "grid_column": null,
      "grid_gap": null,
      "grid_row": null,
      "grid_template_areas": null,
      "grid_template_columns": null,
      "grid_template_rows": null,
      "height": null,
      "justify_content": null,
      "justify_items": null,
      "left": null,
      "margin": null,
      "max_height": null,
      "max_width": null,
      "min_height": null,
      "min_width": null,
      "object_fit": null,
      "object_position": null,
      "order": null,
      "overflow": null,
      "overflow_x": null,
      "overflow_y": null,
      "padding": null,
      "right": null,
      "top": null,
      "visibility": null,
      "width": null
     }
    },
    "1fa2a5d254dd4db4ba13602eec0ba6b3": {
     "model_module": "@jupyter-widgets/base",
     "model_module_version": "1.2.0",
     "model_name": "LayoutModel",
     "state": {
      "_model_module": "@jupyter-widgets/base",
      "_model_module_version": "1.2.0",
      "_model_name": "LayoutModel",
      "_view_count": null,
      "_view_module": "@jupyter-widgets/base",
      "_view_module_version": "1.2.0",
      "_view_name": "LayoutView",
      "align_content": null,
      "align_items": null,
      "align_self": null,
      "border": null,
      "bottom": null,
      "display": null,
      "flex": null,
      "flex_flow": null,
      "grid_area": null,
      "grid_auto_columns": null,
      "grid_auto_flow": null,
      "grid_auto_rows": null,
      "grid_column": null,
      "grid_gap": null,
      "grid_row": null,
      "grid_template_areas": null,
      "grid_template_columns": null,
      "grid_template_rows": null,
      "height": null,
      "justify_content": null,
      "justify_items": null,
      "left": null,
      "margin": null,
      "max_height": null,
      "max_width": null,
      "min_height": null,
      "min_width": null,
      "object_fit": null,
      "object_position": null,
      "order": null,
      "overflow": null,
      "overflow_x": null,
      "overflow_y": null,
      "padding": null,
      "right": null,
      "top": null,
      "visibility": null,
      "width": null
     }
    },
    "2cd860da5caa4e19a6b0d2b19fa3a543": {
     "model_module": "@jupyter-widgets/base",
     "model_module_version": "1.2.0",
     "model_name": "LayoutModel",
     "state": {
      "_model_module": "@jupyter-widgets/base",
      "_model_module_version": "1.2.0",
      "_model_name": "LayoutModel",
      "_view_count": null,
      "_view_module": "@jupyter-widgets/base",
      "_view_module_version": "1.2.0",
      "_view_name": "LayoutView",
      "align_content": null,
      "align_items": null,
      "align_self": null,
      "border": null,
      "bottom": null,
      "display": null,
      "flex": null,
      "flex_flow": null,
      "grid_area": null,
      "grid_auto_columns": null,
      "grid_auto_flow": null,
      "grid_auto_rows": null,
      "grid_column": null,
      "grid_gap": null,
      "grid_row": null,
      "grid_template_areas": null,
      "grid_template_columns": null,
      "grid_template_rows": null,
      "height": null,
      "justify_content": null,
      "justify_items": null,
      "left": null,
      "margin": null,
      "max_height": null,
      "max_width": null,
      "min_height": null,
      "min_width": null,
      "object_fit": null,
      "object_position": null,
      "order": null,
      "overflow": null,
      "overflow_x": null,
      "overflow_y": null,
      "padding": null,
      "right": null,
      "top": null,
      "visibility": null,
      "width": null
     }
    },
    "2cef8d41277a498c95b973fcceee0e8b": {
     "model_module": "@jupyter-widgets/controls",
     "model_module_version": "1.5.0",
     "model_name": "FloatProgressModel",
     "state": {
      "_dom_classes": [],
      "_model_module": "@jupyter-widgets/controls",
      "_model_module_version": "1.5.0",
      "_model_name": "FloatProgressModel",
      "_view_count": null,
      "_view_module": "@jupyter-widgets/controls",
      "_view_module_version": "1.5.0",
      "_view_name": "ProgressView",
      "bar_style": "info",
      "description": "",
      "description_tooltip": null,
      "layout": "IPY_MODEL_c78742bcfcf847008f4446ffa9aab618",
      "max": 1,
      "min": 0,
      "orientation": "horizontal",
      "style": "IPY_MODEL_dadb50da3c6e48db9ca8332cb5359f93",
      "value": 1
     }
    },
    "2d0cce4f9be14b0a9bbf7da7978525f9": {
     "model_module": "@jupyter-widgets/controls",
     "model_module_version": "1.5.0",
     "model_name": "DescriptionStyleModel",
     "state": {
      "_model_module": "@jupyter-widgets/controls",
      "_model_module_version": "1.5.0",
      "_model_name": "DescriptionStyleModel",
      "_view_count": null,
      "_view_module": "@jupyter-widgets/base",
      "_view_module_version": "1.2.0",
      "_view_name": "StyleView",
      "description_width": ""
     }
    },
    "34557f5fd42b4d23b0bf072b4dd46c81": {
     "model_module": "@jupyter-widgets/controls",
     "model_module_version": "1.5.0",
     "model_name": "HBoxModel",
     "state": {
      "_dom_classes": [],
      "_model_module": "@jupyter-widgets/controls",
      "_model_module_version": "1.5.0",
      "_model_name": "HBoxModel",
      "_view_count": null,
      "_view_module": "@jupyter-widgets/controls",
      "_view_module_version": "1.5.0",
      "_view_name": "HBoxView",
      "box_style": "",
      "children": [
       "IPY_MODEL_b33245d0682245109fc302b28c3b5c9f",
       "IPY_MODEL_2cef8d41277a498c95b973fcceee0e8b",
       "IPY_MODEL_fcccd0edd30049f6b91634d995b035dc"
      ],
      "layout": "IPY_MODEL_622c2e37b4c9448e8df224b5e2845333"
     }
    },
    "3754a7a35b1b47c5a38ad53be51ebc29": {
     "model_module": "@jupyter-widgets/controls",
     "model_module_version": "1.5.0",
     "model_name": "HTMLModel",
     "state": {
      "_dom_classes": [],
      "_model_module": "@jupyter-widgets/controls",
      "_model_module_version": "1.5.0",
      "_model_name": "HTMLModel",
      "_view_count": null,
      "_view_module": "@jupyter-widgets/controls",
      "_view_module_version": "1.5.0",
      "_view_name": "HTMLView",
      "description": "",
      "description_tooltip": null,
      "layout": "IPY_MODEL_2cd860da5caa4e19a6b0d2b19fa3a543",
      "placeholder": "​",
      "style": "IPY_MODEL_4c726416714649cfa8b5a5a6be043a28",
      "value": "Downloading data files: 100%"
     }
    },
    "3f4e22c876ea4c93a70eee3441722978": {
     "model_module": "@jupyter-widgets/controls",
     "model_module_version": "1.5.0",
     "model_name": "FloatProgressModel",
     "state": {
      "_dom_classes": [],
      "_model_module": "@jupyter-widgets/controls",
      "_model_module_version": "1.5.0",
      "_model_name": "FloatProgressModel",
      "_view_count": null,
      "_view_module": "@jupyter-widgets/controls",
      "_view_module_version": "1.5.0",
      "_view_name": "ProgressView",
      "bar_style": "",
      "description": "",
      "description_tooltip": null,
      "layout": "IPY_MODEL_7f8f7af1536b4e309d02d38fc80a655c",
      "max": 8901,
      "min": 0,
      "orientation": "horizontal",
      "style": "IPY_MODEL_017899bb83184c3da39556c39d9db5c1",
      "value": 8901
     }
    },
    "4c726416714649cfa8b5a5a6be043a28": {
     "model_module": "@jupyter-widgets/controls",
     "model_module_version": "1.5.0",
     "model_name": "DescriptionStyleModel",
     "state": {
      "_model_module": "@jupyter-widgets/controls",
      "_model_module_version": "1.5.0",
      "_model_name": "DescriptionStyleModel",
      "_view_count": null,
      "_view_module": "@jupyter-widgets/base",
      "_view_module_version": "1.2.0",
      "_view_name": "StyleView",
      "description_width": ""
     }
    },
    "4e9426e78d2c419c9f9ac1a9c5590002": {
     "model_module": "@jupyter-widgets/controls",
     "model_module_version": "1.5.0",
     "model_name": "HBoxModel",
     "state": {
      "_dom_classes": [],
      "_model_module": "@jupyter-widgets/controls",
      "_model_module_version": "1.5.0",
      "_model_name": "HBoxModel",
      "_view_count": null,
      "_view_module": "@jupyter-widgets/controls",
      "_view_module_version": "1.5.0",
      "_view_name": "HBoxView",
      "box_style": "",
      "children": [
       "IPY_MODEL_d6f0c8c7493447d3b91588b363d7597d",
       "IPY_MODEL_f9faf45a27a64c6d90ea1775ad24234f",
       "IPY_MODEL_afb107580cce4e558d6a1025350ceb98"
      ],
      "layout": "IPY_MODEL_0d8ea2991bab4054b22ed6685d40eef3"
     }
    },
    "595c9dfc97ed4da290a4da4da1da4cd3": {
     "model_module": "@jupyter-widgets/controls",
     "model_module_version": "1.5.0",
     "model_name": "DescriptionStyleModel",
     "state": {
      "_model_module": "@jupyter-widgets/controls",
      "_model_module_version": "1.5.0",
      "_model_name": "DescriptionStyleModel",
      "_view_count": null,
      "_view_module": "@jupyter-widgets/base",
      "_view_module_version": "1.2.0",
      "_view_name": "StyleView",
      "description_width": ""
     }
    },
    "5d2c6830805746029c7e467b02db7c41": {
     "model_module": "@jupyter-widgets/controls",
     "model_module_version": "1.5.0",
     "model_name": "DescriptionStyleModel",
     "state": {
      "_model_module": "@jupyter-widgets/controls",
      "_model_module_version": "1.5.0",
      "_model_name": "DescriptionStyleModel",
      "_view_count": null,
      "_view_module": "@jupyter-widgets/base",
      "_view_module_version": "1.2.0",
      "_view_name": "StyleView",
      "description_width": ""
     }
    },
    "5d39d1c0a5064b4993fe3f83bff68d1c": {
     "model_module": "@jupyter-widgets/base",
     "model_module_version": "1.2.0",
     "model_name": "LayoutModel",
     "state": {
      "_model_module": "@jupyter-widgets/base",
      "_model_module_version": "1.2.0",
      "_model_name": "LayoutModel",
      "_view_count": null,
      "_view_module": "@jupyter-widgets/base",
      "_view_module_version": "1.2.0",
      "_view_name": "LayoutView",
      "align_content": null,
      "align_items": null,
      "align_self": null,
      "border": null,
      "bottom": null,
      "display": null,
      "flex": null,
      "flex_flow": null,
      "grid_area": null,
      "grid_auto_columns": null,
      "grid_auto_flow": null,
      "grid_auto_rows": null,
      "grid_column": null,
      "grid_gap": null,
      "grid_row": null,
      "grid_template_areas": null,
      "grid_template_columns": null,
      "grid_template_rows": null,
      "height": null,
      "justify_content": null,
      "justify_items": null,
      "left": null,
      "margin": null,
      "max_height": null,
      "max_width": null,
      "min_height": null,
      "min_width": null,
      "object_fit": null,
      "object_position": null,
      "order": null,
      "overflow": null,
      "overflow_x": null,
      "overflow_y": null,
      "padding": null,
      "right": null,
      "top": null,
      "visibility": null,
      "width": null
     }
    },
    "5e9b72143e7e484888f604ad272303e7": {
     "model_module": "@jupyter-widgets/controls",
     "model_module_version": "1.5.0",
     "model_name": "HTMLModel",
     "state": {
      "_dom_classes": [],
      "_model_module": "@jupyter-widgets/controls",
      "_model_module_version": "1.5.0",
      "_model_name": "HTMLModel",
      "_view_count": null,
      "_view_module": "@jupyter-widgets/controls",
      "_view_module_version": "1.5.0",
      "_view_name": "HTMLView",
      "description": "",
      "description_tooltip": null,
      "layout": "IPY_MODEL_8e9f46a77bd14f9ba9d5559fa7e7a381",
      "placeholder": "​",
      "style": "IPY_MODEL_671d9cacfc334c38b68c345761fbe61c",
      "value": "Extracting data files: 100%"
     }
    },
    "5f930e7e63c846ebab99bcbe5c5718ad": {
     "model_module": "@jupyter-widgets/base",
     "model_module_version": "1.2.0",
     "model_name": "LayoutModel",
     "state": {
      "_model_module": "@jupyter-widgets/base",
      "_model_module_version": "1.2.0",
      "_model_name": "LayoutModel",
      "_view_count": null,
      "_view_module": "@jupyter-widgets/base",
      "_view_module_version": "1.2.0",
      "_view_name": "LayoutView",
      "align_content": null,
      "align_items": null,
      "align_self": null,
      "border": null,
      "bottom": null,
      "display": null,
      "flex": null,
      "flex_flow": null,
      "grid_area": null,
      "grid_auto_columns": null,
      "grid_auto_flow": null,
      "grid_auto_rows": null,
      "grid_column": null,
      "grid_gap": null,
      "grid_row": null,
      "grid_template_areas": null,
      "grid_template_columns": null,
      "grid_template_rows": null,
      "height": null,
      "justify_content": null,
      "justify_items": null,
      "left": null,
      "margin": null,
      "max_height": null,
      "max_width": null,
      "min_height": null,
      "min_width": null,
      "object_fit": null,
      "object_position": null,
      "order": null,
      "overflow": null,
      "overflow_x": null,
      "overflow_y": null,
      "padding": null,
      "right": null,
      "top": null,
      "visibility": null,
      "width": null
     }
    },
    "5fd8654d259548a884ae5149d117e831": {
     "model_module": "@jupyter-widgets/controls",
     "model_module_version": "1.5.0",
     "model_name": "ProgressStyleModel",
     "state": {
      "_model_module": "@jupyter-widgets/controls",
      "_model_module_version": "1.5.0",
      "_model_name": "ProgressStyleModel",
      "_view_count": null,
      "_view_module": "@jupyter-widgets/base",
      "_view_module_version": "1.2.0",
      "_view_name": "StyleView",
      "bar_color": null,
      "description_width": ""
     }
    },
    "622c2e37b4c9448e8df224b5e2845333": {
     "model_module": "@jupyter-widgets/base",
     "model_module_version": "1.2.0",
     "model_name": "LayoutModel",
     "state": {
      "_model_module": "@jupyter-widgets/base",
      "_model_module_version": "1.2.0",
      "_model_name": "LayoutModel",
      "_view_count": null,
      "_view_module": "@jupyter-widgets/base",
      "_view_module_version": "1.2.0",
      "_view_name": "LayoutView",
      "align_content": null,
      "align_items": null,
      "align_self": null,
      "border": null,
      "bottom": null,
      "display": null,
      "flex": null,
      "flex_flow": null,
      "grid_area": null,
      "grid_auto_columns": null,
      "grid_auto_flow": null,
      "grid_auto_rows": null,
      "grid_column": null,
      "grid_gap": null,
      "grid_row": null,
      "grid_template_areas": null,
      "grid_template_columns": null,
      "grid_template_rows": null,
      "height": null,
      "justify_content": null,
      "justify_items": null,
      "left": null,
      "margin": null,
      "max_height": null,
      "max_width": null,
      "min_height": null,
      "min_width": null,
      "object_fit": null,
      "object_position": null,
      "order": null,
      "overflow": null,
      "overflow_x": null,
      "overflow_y": null,
      "padding": null,
      "right": null,
      "top": null,
      "visibility": "hidden",
      "width": null
     }
    },
    "62a3c94caff748d584d2679c9a187c1d": {
     "model_module": "@jupyter-widgets/base",
     "model_module_version": "1.2.0",
     "model_name": "LayoutModel",
     "state": {
      "_model_module": "@jupyter-widgets/base",
      "_model_module_version": "1.2.0",
      "_model_name": "LayoutModel",
      "_view_count": null,
      "_view_module": "@jupyter-widgets/base",
      "_view_module_version": "1.2.0",
      "_view_name": "LayoutView",
      "align_content": null,
      "align_items": null,
      "align_self": null,
      "border": null,
      "bottom": null,
      "display": null,
      "flex": null,
      "flex_flow": null,
      "grid_area": null,
      "grid_auto_columns": null,
      "grid_auto_flow": null,
      "grid_auto_rows": null,
      "grid_column": null,
      "grid_gap": null,
      "grid_row": null,
      "grid_template_areas": null,
      "grid_template_columns": null,
      "grid_template_rows": null,
      "height": null,
      "justify_content": null,
      "justify_items": null,
      "left": null,
      "margin": null,
      "max_height": null,
      "max_width": null,
      "min_height": null,
      "min_width": null,
      "object_fit": null,
      "object_position": null,
      "order": null,
      "overflow": null,
      "overflow_x": null,
      "overflow_y": null,
      "padding": null,
      "right": null,
      "top": null,
      "visibility": null,
      "width": null
     }
    },
    "671d9cacfc334c38b68c345761fbe61c": {
     "model_module": "@jupyter-widgets/controls",
     "model_module_version": "1.5.0",
     "model_name": "DescriptionStyleModel",
     "state": {
      "_model_module": "@jupyter-widgets/controls",
      "_model_module_version": "1.5.0",
      "_model_name": "DescriptionStyleModel",
      "_view_count": null,
      "_view_module": "@jupyter-widgets/base",
      "_view_module_version": "1.2.0",
      "_view_name": "StyleView",
      "description_width": ""
     }
    },
    "6996dc90d12a4908b7fd92b1e7b798a9": {
     "model_module": "@jupyter-widgets/controls",
     "model_module_version": "1.5.0",
     "model_name": "HTMLModel",
     "state": {
      "_dom_classes": [],
      "_model_module": "@jupyter-widgets/controls",
      "_model_module_version": "1.5.0",
      "_model_name": "HTMLModel",
      "_view_count": null,
      "_view_module": "@jupyter-widgets/controls",
      "_view_module_version": "1.5.0",
      "_view_name": "HTMLView",
      "description": "",
      "description_tooltip": null,
      "layout": "IPY_MODEL_0c0f4a8e321c44c9b34556205ed7ab42",
      "placeholder": "​",
      "style": "IPY_MODEL_0f6cbc3071c8417b91893a3962ea58c6",
      "value": " 8901/8901 [00:00&lt;00:00, 12835.57 examples/s]"
     }
    },
    "6aee279ff34244bfb4f8f4f3511efede": {
     "model_module": "@jupyter-widgets/base",
     "model_module_version": "1.2.0",
     "model_name": "LayoutModel",
     "state": {
      "_model_module": "@jupyter-widgets/base",
      "_model_module_version": "1.2.0",
      "_model_name": "LayoutModel",
      "_view_count": null,
      "_view_module": "@jupyter-widgets/base",
      "_view_module_version": "1.2.0",
      "_view_name": "LayoutView",
      "align_content": null,
      "align_items": null,
      "align_self": null,
      "border": null,
      "bottom": null,
      "display": null,
      "flex": null,
      "flex_flow": null,
      "grid_area": null,
      "grid_auto_columns": null,
      "grid_auto_flow": null,
      "grid_auto_rows": null,
      "grid_column": null,
      "grid_gap": null,
      "grid_row": null,
      "grid_template_areas": null,
      "grid_template_columns": null,
      "grid_template_rows": null,
      "height": null,
      "justify_content": null,
      "justify_items": null,
      "left": null,
      "margin": null,
      "max_height": null,
      "max_width": null,
      "min_height": null,
      "min_width": null,
      "object_fit": null,
      "object_position": null,
      "order": null,
      "overflow": null,
      "overflow_x": null,
      "overflow_y": null,
      "padding": null,
      "right": null,
      "top": null,
      "visibility": null,
      "width": null
     }
    },
    "6b90ee1345af4df2b0a92dba863c01fd": {
     "model_module": "@jupyter-widgets/controls",
     "model_module_version": "1.5.0",
     "model_name": "DescriptionStyleModel",
     "state": {
      "_model_module": "@jupyter-widgets/controls",
      "_model_module_version": "1.5.0",
      "_model_name": "DescriptionStyleModel",
      "_view_count": null,
      "_view_module": "@jupyter-widgets/base",
      "_view_module_version": "1.2.0",
      "_view_name": "StyleView",
      "description_width": ""
     }
    },
    "6cea27df56c241cd84ba786df885707a": {
     "model_module": "@jupyter-widgets/base",
     "model_module_version": "1.2.0",
     "model_name": "LayoutModel",
     "state": {
      "_model_module": "@jupyter-widgets/base",
      "_model_module_version": "1.2.0",
      "_model_name": "LayoutModel",
      "_view_count": null,
      "_view_module": "@jupyter-widgets/base",
      "_view_module_version": "1.2.0",
      "_view_name": "LayoutView",
      "align_content": null,
      "align_items": null,
      "align_self": null,
      "border": null,
      "bottom": null,
      "display": null,
      "flex": null,
      "flex_flow": null,
      "grid_area": null,
      "grid_auto_columns": null,
      "grid_auto_flow": null,
      "grid_auto_rows": null,
      "grid_column": null,
      "grid_gap": null,
      "grid_row": null,
      "grid_template_areas": null,
      "grid_template_columns": null,
      "grid_template_rows": null,
      "height": null,
      "justify_content": null,
      "justify_items": null,
      "left": null,
      "margin": null,
      "max_height": null,
      "max_width": null,
      "min_height": null,
      "min_width": null,
      "object_fit": null,
      "object_position": null,
      "order": null,
      "overflow": null,
      "overflow_x": null,
      "overflow_y": null,
      "padding": null,
      "right": null,
      "top": null,
      "visibility": null,
      "width": null
     }
    },
    "70c15f3f2e934cba99e9e3e167321e06": {
     "model_module": "@jupyter-widgets/controls",
     "model_module_version": "1.5.0",
     "model_name": "HTMLModel",
     "state": {
      "_dom_classes": [],
      "_model_module": "@jupyter-widgets/controls",
      "_model_module_version": "1.5.0",
      "_model_name": "HTMLModel",
      "_view_count": null,
      "_view_module": "@jupyter-widgets/controls",
      "_view_module_version": "1.5.0",
      "_view_name": "HTMLView",
      "description": "",
      "description_tooltip": null,
      "layout": "IPY_MODEL_be78be4430534e19b9eff182ab108337",
      "placeholder": "​",
      "style": "IPY_MODEL_79ef5ee0ce5c437f91ef0dc553b29afe",
      "value": "Map:  79%"
     }
    },
    "719ad90aa0ee4ad5ac35a50a32eec9c0": {
     "model_module": "@jupyter-widgets/base",
     "model_module_version": "1.2.0",
     "model_name": "LayoutModel",
     "state": {
      "_model_module": "@jupyter-widgets/base",
      "_model_module_version": "1.2.0",
      "_model_name": "LayoutModel",
      "_view_count": null,
      "_view_module": "@jupyter-widgets/base",
      "_view_module_version": "1.2.0",
      "_view_name": "LayoutView",
      "align_content": null,
      "align_items": null,
      "align_self": null,
      "border": null,
      "bottom": null,
      "display": null,
      "flex": null,
      "flex_flow": null,
      "grid_area": null,
      "grid_auto_columns": null,
      "grid_auto_flow": null,
      "grid_auto_rows": null,
      "grid_column": null,
      "grid_gap": null,
      "grid_row": null,
      "grid_template_areas": null,
      "grid_template_columns": null,
      "grid_template_rows": null,
      "height": null,
      "justify_content": null,
      "justify_items": null,
      "left": null,
      "margin": null,
      "max_height": null,
      "max_width": null,
      "min_height": null,
      "min_width": null,
      "object_fit": null,
      "object_position": null,
      "order": null,
      "overflow": null,
      "overflow_x": null,
      "overflow_y": null,
      "padding": null,
      "right": null,
      "top": null,
      "visibility": null,
      "width": null
     }
    },
    "721b0c05f5fc446ab714c95a674eeb8c": {
     "model_module": "@jupyter-widgets/base",
     "model_module_version": "1.2.0",
     "model_name": "LayoutModel",
     "state": {
      "_model_module": "@jupyter-widgets/base",
      "_model_module_version": "1.2.0",
      "_model_name": "LayoutModel",
      "_view_count": null,
      "_view_module": "@jupyter-widgets/base",
      "_view_module_version": "1.2.0",
      "_view_name": "LayoutView",
      "align_content": null,
      "align_items": null,
      "align_self": null,
      "border": null,
      "bottom": null,
      "display": null,
      "flex": null,
      "flex_flow": null,
      "grid_area": null,
      "grid_auto_columns": null,
      "grid_auto_flow": null,
      "grid_auto_rows": null,
      "grid_column": null,
      "grid_gap": null,
      "grid_row": null,
      "grid_template_areas": null,
      "grid_template_columns": null,
      "grid_template_rows": null,
      "height": null,
      "justify_content": null,
      "justify_items": null,
      "left": null,
      "margin": null,
      "max_height": null,
      "max_width": null,
      "min_height": null,
      "min_width": null,
      "object_fit": null,
      "object_position": null,
      "order": null,
      "overflow": null,
      "overflow_x": null,
      "overflow_y": null,
      "padding": null,
      "right": null,
      "top": null,
      "visibility": null,
      "width": null
     }
    },
    "79ef5ee0ce5c437f91ef0dc553b29afe": {
     "model_module": "@jupyter-widgets/controls",
     "model_module_version": "1.5.0",
     "model_name": "DescriptionStyleModel",
     "state": {
      "_model_module": "@jupyter-widgets/controls",
      "_model_module_version": "1.5.0",
      "_model_name": "DescriptionStyleModel",
      "_view_count": null,
      "_view_module": "@jupyter-widgets/base",
      "_view_module_version": "1.2.0",
      "_view_name": "StyleView",
      "description_width": ""
     }
    },
    "7ecd2753ad4949518b0865f9e4e0dd06": {
     "model_module": "@jupyter-widgets/controls",
     "model_module_version": "1.5.0",
     "model_name": "HTMLModel",
     "state": {
      "_dom_classes": [],
      "_model_module": "@jupyter-widgets/controls",
      "_model_module_version": "1.5.0",
      "_model_name": "HTMLModel",
      "_view_count": null,
      "_view_module": "@jupyter-widgets/controls",
      "_view_module_version": "1.5.0",
      "_view_name": "HTMLView",
      "description": "",
      "description_tooltip": null,
      "layout": "IPY_MODEL_62a3c94caff748d584d2679c9a187c1d",
      "placeholder": "​",
      "style": "IPY_MODEL_f74a2de916a54e7cb708ed10290e0159",
      "value": " 7000/8901 [00:00&lt;00:00, 17890.65 examples/s]"
     }
    },
    "7f8f7af1536b4e309d02d38fc80a655c": {
     "model_module": "@jupyter-widgets/base",
     "model_module_version": "1.2.0",
     "model_name": "LayoutModel",
     "state": {
      "_model_module": "@jupyter-widgets/base",
      "_model_module_version": "1.2.0",
      "_model_name": "LayoutModel",
      "_view_count": null,
      "_view_module": "@jupyter-widgets/base",
      "_view_module_version": "1.2.0",
      "_view_name": "LayoutView",
      "align_content": null,
      "align_items": null,
      "align_self": null,
      "border": null,
      "bottom": null,
      "display": null,
      "flex": null,
      "flex_flow": null,
      "grid_area": null,
      "grid_auto_columns": null,
      "grid_auto_flow": null,
      "grid_auto_rows": null,
      "grid_column": null,
      "grid_gap": null,
      "grid_row": null,
      "grid_template_areas": null,
      "grid_template_columns": null,
      "grid_template_rows": null,
      "height": null,
      "justify_content": null,
      "justify_items": null,
      "left": null,
      "margin": null,
      "max_height": null,
      "max_width": null,
      "min_height": null,
      "min_width": null,
      "object_fit": null,
      "object_position": null,
      "order": null,
      "overflow": null,
      "overflow_x": null,
      "overflow_y": null,
      "padding": null,
      "right": null,
      "top": null,
      "visibility": null,
      "width": null
     }
    },
    "8e9f46a77bd14f9ba9d5559fa7e7a381": {
     "model_module": "@jupyter-widgets/base",
     "model_module_version": "1.2.0",
     "model_name": "LayoutModel",
     "state": {
      "_model_module": "@jupyter-widgets/base",
      "_model_module_version": "1.2.0",
      "_model_name": "LayoutModel",
      "_view_count": null,
      "_view_module": "@jupyter-widgets/base",
      "_view_module_version": "1.2.0",
      "_view_name": "LayoutView",
      "align_content": null,
      "align_items": null,
      "align_self": null,
      "border": null,
      "bottom": null,
      "display": null,
      "flex": null,
      "flex_flow": null,
      "grid_area": null,
      "grid_auto_columns": null,
      "grid_auto_flow": null,
      "grid_auto_rows": null,
      "grid_column": null,
      "grid_gap": null,
      "grid_row": null,
      "grid_template_areas": null,
      "grid_template_columns": null,
      "grid_template_rows": null,
      "height": null,
      "justify_content": null,
      "justify_items": null,
      "left": null,
      "margin": null,
      "max_height": null,
      "max_width": null,
      "min_height": null,
      "min_width": null,
      "object_fit": null,
      "object_position": null,
      "order": null,
      "overflow": null,
      "overflow_x": null,
      "overflow_y": null,
      "padding": null,
      "right": null,
      "top": null,
      "visibility": null,
      "width": null
     }
    },
    "902a07f99a0e44f89b19fb331804e469": {
     "model_module": "@jupyter-widgets/base",
     "model_module_version": "1.2.0",
     "model_name": "LayoutModel",
     "state": {
      "_model_module": "@jupyter-widgets/base",
      "_model_module_version": "1.2.0",
      "_model_name": "LayoutModel",
      "_view_count": null,
      "_view_module": "@jupyter-widgets/base",
      "_view_module_version": "1.2.0",
      "_view_name": "LayoutView",
      "align_content": null,
      "align_items": null,
      "align_self": null,
      "border": null,
      "bottom": null,
      "display": null,
      "flex": null,
      "flex_flow": null,
      "grid_area": null,
      "grid_auto_columns": null,
      "grid_auto_flow": null,
      "grid_auto_rows": null,
      "grid_column": null,
      "grid_gap": null,
      "grid_row": null,
      "grid_template_areas": null,
      "grid_template_columns": null,
      "grid_template_rows": null,
      "height": null,
      "justify_content": null,
      "justify_items": null,
      "left": null,
      "margin": null,
      "max_height": null,
      "max_width": null,
      "min_height": null,
      "min_width": null,
      "object_fit": null,
      "object_position": null,
      "order": null,
      "overflow": null,
      "overflow_x": null,
      "overflow_y": null,
      "padding": null,
      "right": null,
      "top": null,
      "visibility": null,
      "width": null
     }
    },
    "97254c51bb8e46cf8753653806533c01": {
     "model_module": "@jupyter-widgets/base",
     "model_module_version": "1.2.0",
     "model_name": "LayoutModel",
     "state": {
      "_model_module": "@jupyter-widgets/base",
      "_model_module_version": "1.2.0",
      "_model_name": "LayoutModel",
      "_view_count": null,
      "_view_module": "@jupyter-widgets/base",
      "_view_module_version": "1.2.0",
      "_view_name": "LayoutView",
      "align_content": null,
      "align_items": null,
      "align_self": null,
      "border": null,
      "bottom": null,
      "display": null,
      "flex": null,
      "flex_flow": null,
      "grid_area": null,
      "grid_auto_columns": null,
      "grid_auto_flow": null,
      "grid_auto_rows": null,
      "grid_column": null,
      "grid_gap": null,
      "grid_row": null,
      "grid_template_areas": null,
      "grid_template_columns": null,
      "grid_template_rows": null,
      "height": null,
      "justify_content": null,
      "justify_items": null,
      "left": null,
      "margin": null,
      "max_height": null,
      "max_width": null,
      "min_height": null,
      "min_width": null,
      "object_fit": null,
      "object_position": null,
      "order": null,
      "overflow": null,
      "overflow_x": null,
      "overflow_y": null,
      "padding": null,
      "right": null,
      "top": null,
      "visibility": null,
      "width": null
     }
    },
    "a094154cf2a74ac488ceabdb7eb2b329": {
     "model_module": "@jupyter-widgets/controls",
     "model_module_version": "1.5.0",
     "model_name": "HTMLModel",
     "state": {
      "_dom_classes": [],
      "_model_module": "@jupyter-widgets/controls",
      "_model_module_version": "1.5.0",
      "_model_name": "HTMLModel",
      "_view_count": null,
      "_view_module": "@jupyter-widgets/controls",
      "_view_module_version": "1.5.0",
      "_view_name": "HTMLView",
      "description": "",
      "description_tooltip": null,
      "layout": "IPY_MODEL_6aee279ff34244bfb4f8f4f3511efede",
      "placeholder": "​",
      "style": "IPY_MODEL_595c9dfc97ed4da290a4da4da1da4cd3",
      "value": "Map: 100%"
     }
    },
    "acee800d41a54a9987c4c6fe4894244b": {
     "model_module": "@jupyter-widgets/controls",
     "model_module_version": "1.5.0",
     "model_name": "DescriptionStyleModel",
     "state": {
      "_model_module": "@jupyter-widgets/controls",
      "_model_module_version": "1.5.0",
      "_model_name": "DescriptionStyleModel",
      "_view_count": null,
      "_view_module": "@jupyter-widgets/base",
      "_view_module_version": "1.2.0",
      "_view_name": "StyleView",
      "description_width": ""
     }
    },
    "ad1453b3cf424c36af65af4d6d8ab2ca": {
     "model_module": "@jupyter-widgets/controls",
     "model_module_version": "1.5.0",
     "model_name": "ProgressStyleModel",
     "state": {
      "_model_module": "@jupyter-widgets/controls",
      "_model_module_version": "1.5.0",
      "_model_name": "ProgressStyleModel",
      "_view_count": null,
      "_view_module": "@jupyter-widgets/base",
      "_view_module_version": "1.2.0",
      "_view_name": "StyleView",
      "bar_color": null,
      "description_width": ""
     }
    },
    "ada878d52f2b484dbf29dc9a7d601997": {
     "model_module": "@jupyter-widgets/base",
     "model_module_version": "1.2.0",
     "model_name": "LayoutModel",
     "state": {
      "_model_module": "@jupyter-widgets/base",
      "_model_module_version": "1.2.0",
      "_model_name": "LayoutModel",
      "_view_count": null,
      "_view_module": "@jupyter-widgets/base",
      "_view_module_version": "1.2.0",
      "_view_name": "LayoutView",
      "align_content": null,
      "align_items": null,
      "align_self": null,
      "border": null,
      "bottom": null,
      "display": null,
      "flex": null,
      "flex_flow": null,
      "grid_area": null,
      "grid_auto_columns": null,
      "grid_auto_flow": null,
      "grid_auto_rows": null,
      "grid_column": null,
      "grid_gap": null,
      "grid_row": null,
      "grid_template_areas": null,
      "grid_template_columns": null,
      "grid_template_rows": null,
      "height": null,
      "justify_content": null,
      "justify_items": null,
      "left": null,
      "margin": null,
      "max_height": null,
      "max_width": null,
      "min_height": null,
      "min_width": null,
      "object_fit": null,
      "object_position": null,
      "order": null,
      "overflow": null,
      "overflow_x": null,
      "overflow_y": null,
      "padding": null,
      "right": null,
      "top": null,
      "visibility": null,
      "width": null
     }
    },
    "afb107580cce4e558d6a1025350ceb98": {
     "model_module": "@jupyter-widgets/controls",
     "model_module_version": "1.5.0",
     "model_name": "HTMLModel",
     "state": {
      "_dom_classes": [],
      "_model_module": "@jupyter-widgets/controls",
      "_model_module_version": "1.5.0",
      "_model_name": "HTMLModel",
      "_view_count": null,
      "_view_module": "@jupyter-widgets/controls",
      "_view_module_version": "1.5.0",
      "_view_name": "HTMLView",
      "description": "",
      "description_tooltip": null,
      "layout": "IPY_MODEL_5d39d1c0a5064b4993fe3f83bff68d1c",
      "placeholder": "​",
      "style": "IPY_MODEL_2d0cce4f9be14b0a9bbf7da7978525f9",
      "value": " 1/1 [00:00&lt;00:00, 45.63it/s]"
     }
    },
    "b33245d0682245109fc302b28c3b5c9f": {
     "model_module": "@jupyter-widgets/controls",
     "model_module_version": "1.5.0",
     "model_name": "HTMLModel",
     "state": {
      "_dom_classes": [],
      "_model_module": "@jupyter-widgets/controls",
      "_model_module_version": "1.5.0",
      "_model_name": "HTMLModel",
      "_view_count": null,
      "_view_module": "@jupyter-widgets/controls",
      "_view_module_version": "1.5.0",
      "_view_name": "HTMLView",
      "description": "",
      "description_tooltip": null,
      "layout": "IPY_MODEL_048e23b4256a4e41b5983a5c30069d92",
      "placeholder": "​",
      "style": "IPY_MODEL_5d2c6830805746029c7e467b02db7c41",
      "value": "Generating train split: "
     }
    },
    "be78be4430534e19b9eff182ab108337": {
     "model_module": "@jupyter-widgets/base",
     "model_module_version": "1.2.0",
     "model_name": "LayoutModel",
     "state": {
      "_model_module": "@jupyter-widgets/base",
      "_model_module_version": "1.2.0",
      "_model_name": "LayoutModel",
      "_view_count": null,
      "_view_module": "@jupyter-widgets/base",
      "_view_module_version": "1.2.0",
      "_view_name": "LayoutView",
      "align_content": null,
      "align_items": null,
      "align_self": null,
      "border": null,
      "bottom": null,
      "display": null,
      "flex": null,
      "flex_flow": null,
      "grid_area": null,
      "grid_auto_columns": null,
      "grid_auto_flow": null,
      "grid_auto_rows": null,
      "grid_column": null,
      "grid_gap": null,
      "grid_row": null,
      "grid_template_areas": null,
      "grid_template_columns": null,
      "grid_template_rows": null,
      "height": null,
      "justify_content": null,
      "justify_items": null,
      "left": null,
      "margin": null,
      "max_height": null,
      "max_width": null,
      "min_height": null,
      "min_width": null,
      "object_fit": null,
      "object_position": null,
      "order": null,
      "overflow": null,
      "overflow_x": null,
      "overflow_y": null,
      "padding": null,
      "right": null,
      "top": null,
      "visibility": null,
      "width": null
     }
    },
    "c1e1045ac8c34657a0d373df3b232a07": {
     "model_module": "@jupyter-widgets/controls",
     "model_module_version": "1.5.0",
     "model_name": "HTMLModel",
     "state": {
      "_dom_classes": [],
      "_model_module": "@jupyter-widgets/controls",
      "_model_module_version": "1.5.0",
      "_model_name": "HTMLModel",
      "_view_count": null,
      "_view_module": "@jupyter-widgets/controls",
      "_view_module_version": "1.5.0",
      "_view_name": "HTMLView",
      "description": "",
      "description_tooltip": null,
      "layout": "IPY_MODEL_1a878ec550df4722a728d0f9f99b7ada",
      "placeholder": "​",
      "style": "IPY_MODEL_ed85ea60529f41ba83a556f37969664d",
      "value": " 1/1 [00:00&lt;00:00, 49.00it/s]"
     }
    },
    "c5af81305f1d4d3ea3708c228493265d": {
     "model_module": "@jupyter-widgets/base",
     "model_module_version": "1.2.0",
     "model_name": "LayoutModel",
     "state": {
      "_model_module": "@jupyter-widgets/base",
      "_model_module_version": "1.2.0",
      "_model_name": "LayoutModel",
      "_view_count": null,
      "_view_module": "@jupyter-widgets/base",
      "_view_module_version": "1.2.0",
      "_view_name": "LayoutView",
      "align_content": null,
      "align_items": null,
      "align_self": null,
      "border": null,
      "bottom": null,
      "display": null,
      "flex": null,
      "flex_flow": null,
      "grid_area": null,
      "grid_auto_columns": null,
      "grid_auto_flow": null,
      "grid_auto_rows": null,
      "grid_column": null,
      "grid_gap": null,
      "grid_row": null,
      "grid_template_areas": null,
      "grid_template_columns": null,
      "grid_template_rows": null,
      "height": null,
      "justify_content": null,
      "justify_items": null,
      "left": null,
      "margin": null,
      "max_height": null,
      "max_width": null,
      "min_height": null,
      "min_width": null,
      "object_fit": null,
      "object_position": null,
      "order": null,
      "overflow": null,
      "overflow_x": null,
      "overflow_y": null,
      "padding": null,
      "right": null,
      "top": null,
      "visibility": "hidden",
      "width": null
     }
    },
    "c78742bcfcf847008f4446ffa9aab618": {
     "model_module": "@jupyter-widgets/base",
     "model_module_version": "1.2.0",
     "model_name": "LayoutModel",
     "state": {
      "_model_module": "@jupyter-widgets/base",
      "_model_module_version": "1.2.0",
      "_model_name": "LayoutModel",
      "_view_count": null,
      "_view_module": "@jupyter-widgets/base",
      "_view_module_version": "1.2.0",
      "_view_name": "LayoutView",
      "align_content": null,
      "align_items": null,
      "align_self": null,
      "border": null,
      "bottom": null,
      "display": null,
      "flex": null,
      "flex_flow": null,
      "grid_area": null,
      "grid_auto_columns": null,
      "grid_auto_flow": null,
      "grid_auto_rows": null,
      "grid_column": null,
      "grid_gap": null,
      "grid_row": null,
      "grid_template_areas": null,
      "grid_template_columns": null,
      "grid_template_rows": null,
      "height": null,
      "justify_content": null,
      "justify_items": null,
      "left": null,
      "margin": null,
      "max_height": null,
      "max_width": null,
      "min_height": null,
      "min_width": null,
      "object_fit": null,
      "object_position": null,
      "order": null,
      "overflow": null,
      "overflow_x": null,
      "overflow_y": null,
      "padding": null,
      "right": null,
      "top": null,
      "visibility": null,
      "width": "20px"
     }
    },
    "c9f3455904b145e68de0cdd1a6376102": {
     "model_module": "@jupyter-widgets/controls",
     "model_module_version": "1.5.0",
     "model_name": "DescriptionStyleModel",
     "state": {
      "_model_module": "@jupyter-widgets/controls",
      "_model_module_version": "1.5.0",
      "_model_name": "DescriptionStyleModel",
      "_view_count": null,
      "_view_module": "@jupyter-widgets/base",
      "_view_module_version": "1.2.0",
      "_view_name": "StyleView",
      "description_width": ""
     }
    },
    "cdbd891e64e64c26bfd79a4a25074473": {
     "model_module": "@jupyter-widgets/controls",
     "model_module_version": "1.5.0",
     "model_name": "ProgressStyleModel",
     "state": {
      "_model_module": "@jupyter-widgets/controls",
      "_model_module_version": "1.5.0",
      "_model_name": "ProgressStyleModel",
      "_view_count": null,
      "_view_module": "@jupyter-widgets/base",
      "_view_module_version": "1.2.0",
      "_view_name": "StyleView",
      "bar_color": null,
      "description_width": ""
     }
    },
    "d22b5af540564575b6b8b557a1ba4c22": {
     "model_module": "@jupyter-widgets/controls",
     "model_module_version": "1.5.0",
     "model_name": "HBoxModel",
     "state": {
      "_dom_classes": [],
      "_model_module": "@jupyter-widgets/controls",
      "_model_module_version": "1.5.0",
      "_model_name": "HBoxModel",
      "_view_count": null,
      "_view_module": "@jupyter-widgets/controls",
      "_view_module_version": "1.5.0",
      "_view_name": "HBoxView",
      "box_style": "",
      "children": [
       "IPY_MODEL_a094154cf2a74ac488ceabdb7eb2b329",
       "IPY_MODEL_3f4e22c876ea4c93a70eee3441722978",
       "IPY_MODEL_6996dc90d12a4908b7fd92b1e7b798a9"
      ],
      "layout": "IPY_MODEL_c5af81305f1d4d3ea3708c228493265d"
     }
    },
    "d6f0c8c7493447d3b91588b363d7597d": {
     "model_module": "@jupyter-widgets/controls",
     "model_module_version": "1.5.0",
     "model_name": "HTMLModel",
     "state": {
      "_dom_classes": [],
      "_model_module": "@jupyter-widgets/controls",
      "_model_module_version": "1.5.0",
      "_model_name": "HTMLModel",
      "_view_count": null,
      "_view_module": "@jupyter-widgets/controls",
      "_view_module_version": "1.5.0",
      "_view_name": "HTMLView",
      "description": "",
      "description_tooltip": null,
      "layout": "IPY_MODEL_97254c51bb8e46cf8753653806533c01",
      "placeholder": "​",
      "style": "IPY_MODEL_6b90ee1345af4df2b0a92dba863c01fd",
      "value": "100%"
     }
    },
    "dad4012e7a2142619d5a94313f836760": {
     "model_module": "@jupyter-widgets/controls",
     "model_module_version": "1.5.0",
     "model_name": "HBoxModel",
     "state": {
      "_dom_classes": [],
      "_model_module": "@jupyter-widgets/controls",
      "_model_module_version": "1.5.0",
      "_model_name": "HBoxModel",
      "_view_count": null,
      "_view_module": "@jupyter-widgets/controls",
      "_view_module_version": "1.5.0",
      "_view_name": "HBoxView",
      "box_style": "",
      "children": [
       "IPY_MODEL_3754a7a35b1b47c5a38ad53be51ebc29",
       "IPY_MODEL_e0030995ff4b482296d62777067ee9fb",
       "IPY_MODEL_ece8af72ce7949219717ba1ba04c81c1"
      ],
      "layout": "IPY_MODEL_6cea27df56c241cd84ba786df885707a"
     }
    },
    "dadb50da3c6e48db9ca8332cb5359f93": {
     "model_module": "@jupyter-widgets/controls",
     "model_module_version": "1.5.0",
     "model_name": "ProgressStyleModel",
     "state": {
      "_model_module": "@jupyter-widgets/controls",
      "_model_module_version": "1.5.0",
      "_model_name": "ProgressStyleModel",
      "_view_count": null,
      "_view_module": "@jupyter-widgets/base",
      "_view_module_version": "1.2.0",
      "_view_name": "StyleView",
      "bar_color": null,
      "description_width": ""
     }
    },
    "dd7af1ec342a449086a51ceb2f24d894": {
     "model_module": "@jupyter-widgets/controls",
     "model_module_version": "1.5.0",
     "model_name": "FloatProgressModel",
     "state": {
      "_dom_classes": [],
      "_model_module": "@jupyter-widgets/controls",
      "_model_module_version": "1.5.0",
      "_model_name": "FloatProgressModel",
      "_view_count": null,
      "_view_module": "@jupyter-widgets/controls",
      "_view_module_version": "1.5.0",
      "_view_name": "ProgressView",
      "bar_style": "",
      "description": "",
      "description_tooltip": null,
      "layout": "IPY_MODEL_ada878d52f2b484dbf29dc9a7d601997",
      "max": 8901,
      "min": 0,
      "orientation": "horizontal",
      "style": "IPY_MODEL_5fd8654d259548a884ae5149d117e831",
      "value": 8901
     }
    },
    "e0030995ff4b482296d62777067ee9fb": {
     "model_module": "@jupyter-widgets/controls",
     "model_module_version": "1.5.0",
     "model_name": "FloatProgressModel",
     "state": {
      "_dom_classes": [],
      "_model_module": "@jupyter-widgets/controls",
      "_model_module_version": "1.5.0",
      "_model_name": "FloatProgressModel",
      "_view_count": null,
      "_view_module": "@jupyter-widgets/controls",
      "_view_module_version": "1.5.0",
      "_view_name": "ProgressView",
      "bar_style": "success",
      "description": "",
      "description_tooltip": null,
      "layout": "IPY_MODEL_1739810cc59d4d5a8e0b7d0d0191cf60",
      "max": 1,
      "min": 0,
      "orientation": "horizontal",
      "style": "IPY_MODEL_cdbd891e64e64c26bfd79a4a25074473",
      "value": 1
     }
    },
    "ea76d9fefae74eb49d74ce43459e99de": {
     "model_module": "@jupyter-widgets/base",
     "model_module_version": "1.2.0",
     "model_name": "LayoutModel",
     "state": {
      "_model_module": "@jupyter-widgets/base",
      "_model_module_version": "1.2.0",
      "_model_name": "LayoutModel",
      "_view_count": null,
      "_view_module": "@jupyter-widgets/base",
      "_view_module_version": "1.2.0",
      "_view_name": "LayoutView",
      "align_content": null,
      "align_items": null,
      "align_self": null,
      "border": null,
      "bottom": null,
      "display": null,
      "flex": null,
      "flex_flow": null,
      "grid_area": null,
      "grid_auto_columns": null,
      "grid_auto_flow": null,
      "grid_auto_rows": null,
      "grid_column": null,
      "grid_gap": null,
      "grid_row": null,
      "grid_template_areas": null,
      "grid_template_columns": null,
      "grid_template_rows": null,
      "height": null,
      "justify_content": null,
      "justify_items": null,
      "left": null,
      "margin": null,
      "max_height": null,
      "max_width": null,
      "min_height": null,
      "min_width": null,
      "object_fit": null,
      "object_position": null,
      "order": null,
      "overflow": null,
      "overflow_x": null,
      "overflow_y": null,
      "padding": null,
      "right": null,
      "top": null,
      "visibility": "hidden",
      "width": null
     }
    },
    "ece8af72ce7949219717ba1ba04c81c1": {
     "model_module": "@jupyter-widgets/controls",
     "model_module_version": "1.5.0",
     "model_name": "HTMLModel",
     "state": {
      "_dom_classes": [],
      "_model_module": "@jupyter-widgets/controls",
      "_model_module_version": "1.5.0",
      "_model_name": "HTMLModel",
      "_view_count": null,
      "_view_module": "@jupyter-widgets/controls",
      "_view_module_version": "1.5.0",
      "_view_name": "HTMLView",
      "description": "",
      "description_tooltip": null,
      "layout": "IPY_MODEL_1fa2a5d254dd4db4ba13602eec0ba6b3",
      "placeholder": "​",
      "style": "IPY_MODEL_acee800d41a54a9987c4c6fe4894244b",
      "value": " 1/1 [00:00&lt;00:00, 37.32it/s]"
     }
    },
    "ed85ea60529f41ba83a556f37969664d": {
     "model_module": "@jupyter-widgets/controls",
     "model_module_version": "1.5.0",
     "model_name": "DescriptionStyleModel",
     "state": {
      "_model_module": "@jupyter-widgets/controls",
      "_model_module_version": "1.5.0",
      "_model_name": "DescriptionStyleModel",
      "_view_count": null,
      "_view_module": "@jupyter-widgets/base",
      "_view_module_version": "1.2.0",
      "_view_name": "StyleView",
      "description_width": ""
     }
    },
    "f74a2de916a54e7cb708ed10290e0159": {
     "model_module": "@jupyter-widgets/controls",
     "model_module_version": "1.5.0",
     "model_name": "DescriptionStyleModel",
     "state": {
      "_model_module": "@jupyter-widgets/controls",
      "_model_module_version": "1.5.0",
      "_model_name": "DescriptionStyleModel",
      "_view_count": null,
      "_view_module": "@jupyter-widgets/base",
      "_view_module_version": "1.2.0",
      "_view_name": "StyleView",
      "description_width": ""
     }
    },
    "f9faf45a27a64c6d90ea1775ad24234f": {
     "model_module": "@jupyter-widgets/controls",
     "model_module_version": "1.5.0",
     "model_name": "FloatProgressModel",
     "state": {
      "_dom_classes": [],
      "_model_module": "@jupyter-widgets/controls",
      "_model_module_version": "1.5.0",
      "_model_name": "FloatProgressModel",
      "_view_count": null,
      "_view_module": "@jupyter-widgets/controls",
      "_view_module_version": "1.5.0",
      "_view_name": "ProgressView",
      "bar_style": "success",
      "description": "",
      "description_tooltip": null,
      "layout": "IPY_MODEL_721b0c05f5fc446ab714c95a674eeb8c",
      "max": 1,
      "min": 0,
      "orientation": "horizontal",
      "style": "IPY_MODEL_ad1453b3cf424c36af65af4d6d8ab2ca",
      "value": 1
     }
    },
    "fcccd0edd30049f6b91634d995b035dc": {
     "model_module": "@jupyter-widgets/controls",
     "model_module_version": "1.5.0",
     "model_name": "HTMLModel",
     "state": {
      "_dom_classes": [],
      "_model_module": "@jupyter-widgets/controls",
      "_model_module_version": "1.5.0",
      "_model_name": "HTMLModel",
      "_view_count": null,
      "_view_module": "@jupyter-widgets/controls",
      "_view_module_version": "1.5.0",
      "_view_name": "HTMLView",
      "description": "",
      "description_tooltip": null,
      "layout": "IPY_MODEL_902a07f99a0e44f89b19fb331804e469",
      "placeholder": "​",
      "style": "IPY_MODEL_c9f3455904b145e68de0cdd1a6376102",
      "value": " 0/0 [00:00&lt;?, ? examples/s]"
     }
    }
   }
  }
 },
 "nbformat": 4,
 "nbformat_minor": 5
}
