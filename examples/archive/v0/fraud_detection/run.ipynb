{
 "cells": [
  {
   "cell_type": "markdown",
   "id": "e62ae031-5e14-4675-a48e-4f5e371394aa",
   "metadata": {},
   "source": [
    "<h1 align=\"center\">\n",
    "  <a href=\"https://uptrain.ai\">\n",
    "    <img width=\"300\" src=\"https://user-images.githubusercontent.com/108270398/214240695-4f958b76-c993-4ddd-8de6-8668f4d0da84.png\" alt=\"uptrain\">\n",
    "  </a>\n",
    "</h1>"
   ]
  },
  {
   "cell_type": "markdown",
   "id": "013d8c0e-d99c-40dc-a06f-9f9f70aa81a0",
   "metadata": {},
   "source": [
    "<h1 style=\"text-align: center;\">Performance Monitoring: Fraud Detection</h1>"
   ]
  },
  {
   "cell_type": "markdown",
   "id": "703f184c-e1a6-4f5e-be14-f959973a1a83",
   "metadata": {},
   "source": [
    "**Overview**: In this example, we see how to use UpTrain to monitor performance of a fraud classification task. To do this, we will train a binary classifier on a popular network traffic dataset called the [NSL-KDD dataset](https://www.unb.ca/cic/datasets/nsl.html) for cyber-attack classification using the [XGBoost classifier](https://xgboost.readthedocs.io/en/stable/). \n",
    "\n",
    "**Dataset**: The NSL-KDD dataset includes a variety of network attack types, including denial-of-service (DoS) attacks, unauthorized access (U2R) attacks, and probe attacks. The dataset contains a total of around 25,000 instances and 41 different features that describe the behavior of network connections, such as the number of failed login attempts and the size of packets transmitted.\n",
    "\n",
    "**Why is monitoring needed**: Once our fraud detection model has finished training, it may initially perform well in detecting malicious activity. However, over time, attackers may adapt their tactics and evolve their methods, leading to a mismatch between the type of attacks seen during training and those seen in production. This can result in decreased accuracy in our model's predictions.\n",
    "\n",
    "**Solution**: We will use the UpTrain framework which provides an easy-to-configure way to log model predictions and attach ground-truth to monitor the model's performance. We are using drift detection method on top of the model's performance to raise alerts in case of any dip in the model's accuracy. This kind of data drift that occurs when the statistical properties of the target variable changes is commonly called **Concept Drift.**"
   ]
  },
  {
   "cell_type": "markdown",
   "id": "899a18cd-d4d1-40cd-a996-faf41c1d2f2c",
   "metadata": {},
   "source": [
    "### Install required packages for this example [XGBoost]"
   ]
  },
  {
   "cell_type": "code",
   "execution_count": 1,
   "id": "9fcf6586-639e-4b45-8dfd-671f724c766f",
   "metadata": {
    "tags": []
   },
   "outputs": [],
   "source": [
    "# !pip install xgboost streamlit"
   ]
  },
  {
   "cell_type": "markdown",
   "id": "221b823c-b321-4a81-be40-4935a49d8a4c",
   "metadata": {},
   "source": [
    "#### Let's first import all the required packages"
   ]
  },
  {
   "cell_type": "code",
   "execution_count": null,
   "id": "4bb6b22b-52f4-49df-9745-35dd53dccfbf",
   "metadata": {
    "tags": []
   },
   "outputs": [],
   "source": [
    "import uptrain.v0 as uptrain\n",
    "import time\n",
    "import numpy as np\n",
    "import pandas as pd\n",
    "from sklearn.model_selection import train_test_split\n",
    "from sklearn.metrics import accuracy_score\n",
    "from xgboost import XGBClassifier\n",
    "\n",
    "from helper_funcs import download_dataset, pretty"
   ]
  },
  {
   "cell_type": "markdown",
   "id": "67da3324-93a3-459e-9bb4-c73ee4132fe4",
   "metadata": {},
   "source": [
    "## Step 1: Let's download and prepare the NSL-KDD dataset"
   ]
  },
  {
   "cell_type": "code",
   "execution_count": 3,
   "id": "ff84103b-5354-4d35-b3df-70ba8f58cbd7",
   "metadata": {
    "tags": []
   },
   "outputs": [
    {
     "name": "stdout",
     "output_type": "stream",
     "text": [
      "Data file exists. Skipping download.\n",
      "NSL_KDD_binary.csv dataset prepared successfully!\n"
     ]
    }
   ],
   "source": [
    "s3_url = \"https://oodles-dev-training-data.s3.amazonaws.com\"\n",
    "data_file = \"NSL_KDD_binary.csv\"\n",
    "download_dataset(s3_url, data_file)"
   ]
  },
  {
   "cell_type": "markdown",
   "id": "db89c129-f5e1-4644-9d37-f58398970260",
   "metadata": {},
   "source": [
    "#### Let's read the data and see how it looks"
   ]
  },
  {
   "cell_type": "code",
   "execution_count": 4,
   "id": "cee0e008-c9b3-460a-990e-2716ea5483b2",
   "metadata": {
    "tags": []
   },
   "outputs": [
    {
     "name": "stdout",
     "output_type": "stream",
     "text": [
      "Labels for first few rows:\n",
      "[0, 0, 1, 0, 0] \n",
      "\n",
      "Input features for first few rows:\n"
     ]
    },
    {
     "data": {
      "text/html": [
       "<div>\n",
       "<style scoped>\n",
       "    .dataframe tbody tr th:only-of-type {\n",
       "        vertical-align: middle;\n",
       "    }\n",
       "\n",
       "    .dataframe tbody tr th {\n",
       "        vertical-align: top;\n",
       "    }\n",
       "\n",
       "    .dataframe thead th {\n",
       "        text-align: right;\n",
       "    }\n",
       "</style>\n",
       "<table border=\"1\" class=\"dataframe\">\n",
       "  <thead>\n",
       "    <tr style=\"text-align: right;\">\n",
       "      <th></th>\n",
       "      <th>duration</th>\n",
       "      <th>protocol_type</th>\n",
       "      <th>service</th>\n",
       "      <th>flag</th>\n",
       "      <th>src_bytes</th>\n",
       "      <th>dst_bytes</th>\n",
       "      <th>land</th>\n",
       "      <th>wrong_fragment</th>\n",
       "      <th>urgent</th>\n",
       "      <th>hot</th>\n",
       "      <th>...</th>\n",
       "      <th>dst_host_count</th>\n",
       "      <th>dst_host_srv_count</th>\n",
       "      <th>dst_host_same_srv_rate</th>\n",
       "      <th>dst_host_diff_srv_rate</th>\n",
       "      <th>dst_host_same_src_port_rate</th>\n",
       "      <th>dst_host_srv_diff_host_rate</th>\n",
       "      <th>dst_host_serror_rate</th>\n",
       "      <th>dst_host_srv_serror_rate</th>\n",
       "      <th>dst_host_rerror_rate</th>\n",
       "      <th>dst_host_srv_rerror_rate</th>\n",
       "    </tr>\n",
       "  </thead>\n",
       "  <tbody>\n",
       "    <tr>\n",
       "      <th>0</th>\n",
       "      <td>0</td>\n",
       "      <td>1</td>\n",
       "      <td>20</td>\n",
       "      <td>9</td>\n",
       "      <td>491</td>\n",
       "      <td>0</td>\n",
       "      <td>0</td>\n",
       "      <td>0</td>\n",
       "      <td>0</td>\n",
       "      <td>0</td>\n",
       "      <td>...</td>\n",
       "      <td>150</td>\n",
       "      <td>25</td>\n",
       "      <td>0.17</td>\n",
       "      <td>0.03</td>\n",
       "      <td>0.17</td>\n",
       "      <td>0.00</td>\n",
       "      <td>0.00</td>\n",
       "      <td>0.00</td>\n",
       "      <td>0.05</td>\n",
       "      <td>0.00</td>\n",
       "    </tr>\n",
       "    <tr>\n",
       "      <th>1</th>\n",
       "      <td>0</td>\n",
       "      <td>2</td>\n",
       "      <td>44</td>\n",
       "      <td>9</td>\n",
       "      <td>146</td>\n",
       "      <td>0</td>\n",
       "      <td>0</td>\n",
       "      <td>0</td>\n",
       "      <td>0</td>\n",
       "      <td>0</td>\n",
       "      <td>...</td>\n",
       "      <td>255</td>\n",
       "      <td>1</td>\n",
       "      <td>0.00</td>\n",
       "      <td>0.60</td>\n",
       "      <td>0.88</td>\n",
       "      <td>0.00</td>\n",
       "      <td>0.00</td>\n",
       "      <td>0.00</td>\n",
       "      <td>0.00</td>\n",
       "      <td>0.00</td>\n",
       "    </tr>\n",
       "    <tr>\n",
       "      <th>2</th>\n",
       "      <td>0</td>\n",
       "      <td>1</td>\n",
       "      <td>49</td>\n",
       "      <td>5</td>\n",
       "      <td>0</td>\n",
       "      <td>0</td>\n",
       "      <td>0</td>\n",
       "      <td>0</td>\n",
       "      <td>0</td>\n",
       "      <td>0</td>\n",
       "      <td>...</td>\n",
       "      <td>255</td>\n",
       "      <td>26</td>\n",
       "      <td>0.10</td>\n",
       "      <td>0.05</td>\n",
       "      <td>0.00</td>\n",
       "      <td>0.00</td>\n",
       "      <td>1.00</td>\n",
       "      <td>1.00</td>\n",
       "      <td>0.00</td>\n",
       "      <td>0.00</td>\n",
       "    </tr>\n",
       "    <tr>\n",
       "      <th>3</th>\n",
       "      <td>0</td>\n",
       "      <td>1</td>\n",
       "      <td>24</td>\n",
       "      <td>9</td>\n",
       "      <td>232</td>\n",
       "      <td>8153</td>\n",
       "      <td>0</td>\n",
       "      <td>0</td>\n",
       "      <td>0</td>\n",
       "      <td>0</td>\n",
       "      <td>...</td>\n",
       "      <td>30</td>\n",
       "      <td>255</td>\n",
       "      <td>1.00</td>\n",
       "      <td>0.00</td>\n",
       "      <td>0.03</td>\n",
       "      <td>0.04</td>\n",
       "      <td>0.03</td>\n",
       "      <td>0.01</td>\n",
       "      <td>0.00</td>\n",
       "      <td>0.01</td>\n",
       "    </tr>\n",
       "    <tr>\n",
       "      <th>4</th>\n",
       "      <td>0</td>\n",
       "      <td>1</td>\n",
       "      <td>24</td>\n",
       "      <td>9</td>\n",
       "      <td>199</td>\n",
       "      <td>420</td>\n",
       "      <td>0</td>\n",
       "      <td>0</td>\n",
       "      <td>0</td>\n",
       "      <td>0</td>\n",
       "      <td>...</td>\n",
       "      <td>255</td>\n",
       "      <td>255</td>\n",
       "      <td>1.00</td>\n",
       "      <td>0.00</td>\n",
       "      <td>0.00</td>\n",
       "      <td>0.00</td>\n",
       "      <td>0.00</td>\n",
       "      <td>0.00</td>\n",
       "      <td>0.00</td>\n",
       "      <td>0.00</td>\n",
       "    </tr>\n",
       "  </tbody>\n",
       "</table>\n",
       "<p>5 rows × 41 columns</p>\n",
       "</div>"
      ],
      "text/plain": [
       "   duration  protocol_type  service  flag  src_bytes  dst_bytes  land  \\\n",
       "0         0              1       20     9        491          0     0   \n",
       "1         0              2       44     9        146          0     0   \n",
       "2         0              1       49     5          0          0     0   \n",
       "3         0              1       24     9        232       8153     0   \n",
       "4         0              1       24     9        199        420     0   \n",
       "\n",
       "   wrong_fragment  urgent  hot  ...  dst_host_count  dst_host_srv_count  \\\n",
       "0               0       0    0  ...             150                  25   \n",
       "1               0       0    0  ...             255                   1   \n",
       "2               0       0    0  ...             255                  26   \n",
       "3               0       0    0  ...              30                 255   \n",
       "4               0       0    0  ...             255                 255   \n",
       "\n",
       "   dst_host_same_srv_rate  dst_host_diff_srv_rate  \\\n",
       "0                    0.17                    0.03   \n",
       "1                    0.00                    0.60   \n",
       "2                    0.10                    0.05   \n",
       "3                    1.00                    0.00   \n",
       "4                    1.00                    0.00   \n",
       "\n",
       "   dst_host_same_src_port_rate  dst_host_srv_diff_host_rate  \\\n",
       "0                         0.17                         0.00   \n",
       "1                         0.88                         0.00   \n",
       "2                         0.00                         0.00   \n",
       "3                         0.03                         0.04   \n",
       "4                         0.00                         0.00   \n",
       "\n",
       "   dst_host_serror_rate  dst_host_srv_serror_rate  dst_host_rerror_rate  \\\n",
       "0                  0.00                      0.00                  0.05   \n",
       "1                  0.00                      0.00                  0.00   \n",
       "2                  1.00                      1.00                  0.00   \n",
       "3                  0.03                      0.01                  0.00   \n",
       "4                  0.00                      0.00                  0.00   \n",
       "\n",
       "   dst_host_srv_rerror_rate  \n",
       "0                      0.00  \n",
       "1                      0.00  \n",
       "2                      0.00  \n",
       "3                      0.01  \n",
       "4                      0.00  \n",
       "\n",
       "[5 rows x 41 columns]"
      ]
     },
     "execution_count": 4,
     "metadata": {},
     "output_type": "execute_result"
    }
   ],
   "source": [
    "df = pd.read_csv(data_file)\n",
    "print(\"Labels for first few rows:\")\n",
    "print(list(df['label'].head()), \"\\n\")\n",
    "print(\"Input features for first few rows:\")\n",
    "df.drop(\"label\", axis=1).head()"
   ]
  },
  {
   "cell_type": "markdown",
   "id": "6732b268-f547-433d-96d5-0ca0a33932d5",
   "metadata": {},
   "source": [
    "#### Divide the data into training and test sets\n",
    "We use first 10% of the data to train and 90% of the data to evaluate the model in production"
   ]
  },
  {
   "cell_type": "code",
   "execution_count": 5,
   "id": "9cffb270-0cb5-4f84-83ea-e8f195dae0fc",
   "metadata": {
    "tags": []
   },
   "outputs": [
    {
     "name": "stdout",
     "output_type": "stream",
     "text": [
      "Num Training samples:  14851,  Num Testing samples:  133666\n"
     ]
    }
   ],
   "source": [
    "X_train, X_test, y_train, y_test = train_test_split(df.iloc[:, :-1].values, df.iloc[:, -1].values,\n",
    "                                                    test_size = 0.9, \n",
    "                                                    random_state = 0,\n",
    "                                                    shuffle=False)\n",
    "\n",
    "print(\"Num Training samples: \", str(len(X_train)) + \",\", \" Num Testing samples: \", len(X_test))"
   ]
  },
  {
   "cell_type": "markdown",
   "id": "90ee01c1-6cd7-41ab-b060-3d0bcff1c51d",
   "metadata": {},
   "source": [
    "## Step 2: Train our XGBoost Classifier"
   ]
  },
  {
   "cell_type": "code",
   "execution_count": 6,
   "id": "bad7ee0b-7318-4a2f-a681-81bac98547f5",
   "metadata": {
    "tags": []
   },
   "outputs": [
    {
     "name": "stdout",
     "output_type": "stream",
     "text": [
      "Training accuracy: 100.0\n"
     ]
    }
   ],
   "source": [
    "# Train the XGBoost classifier with training data\n",
    "classifier = XGBClassifier()\n",
    "classifier.fit(X_train, y_train)\n",
    "\n",
    "y_pred = classifier.predict(X_train)\n",
    "print(\"Training accuracy: \" + str(100*accuracy_score(y_train, y_pred)))"
   ]
  },
  {
   "cell_type": "markdown",
   "id": "75c5fe45-e1df-4026-8061-5ec5eeef5ac5",
   "metadata": {},
   "source": [
    "Woah! 😲🔥 The training accuracy is 100%. Let's see how long the model lasts in production. "
   ]
  },
  {
   "cell_type": "markdown",
   "id": "db5c7b1d-a489-48be-9886-84421053a3fa",
   "metadata": {},
   "source": [
    "## Step 3: Monitoring model performance using UpTrain"
   ]
  },
  {
   "cell_type": "code",
   "execution_count": 15,
   "id": "09bf8897-5807-4899-bf48-4dfbdfcca7fb",
   "metadata": {
    "tags": []
   },
   "outputs": [
    {
     "name": "stdout",
     "output_type": "stream",
     "text": [
      "- checks:\n",
      "\t- type:\n",
      "\t\tMonitor.CONCEPT_DRIFT\n",
      "\t- algorithm:\n",
      "\t\tDataDriftAlgo.DDM\n",
      "\t- type:\n",
      "\t\tMonitor.CONCEPT_DRIFT\n",
      "\t- algorithm:\n",
      "\t\tDataDriftAlgo.ADWIN\n",
      "\t- measurable_args:\n",
      "\t\t- type:\n",
      "\t\t\tMeasurableType.MAE\n",
      "- retraining_folder:\n",
      "\tuptrain_smart_data\n"
     ]
    }
   ],
   "source": [
    "checks = [\n",
    "    {\n",
    "        \"type\": uptrain.Monitor.CONCEPT_DRIFT,\n",
    "        \"algorithm\": uptrain.DataDriftAlgo.DDM\n",
    "    },\n",
    "    {\n",
    "        \"type\": uptrain.Monitor.CONCEPT_DRIFT,\n",
    "        \"algorithm\": uptrain.DataDriftAlgo.ADWIN,\n",
    "        \"measurable_args\": {\n",
    "            \"type\": uptrain.MeasurableType.MAE\n",
    "        }\n",
    "    }\n",
    "]\n",
    "\n",
    "cfg = {\n",
    "    # Checks to identify concept drift\n",
    "    \"checks\": checks,\n",
    "    \n",
    "    # Folder that stores the drifted data-points identified by UpTrain\n",
    "    \"retraining_folder\": 'uptrain_smart_data',\n",
    "    \n",
    "    # Enable streamlit logging to visualize model's performance\n",
    "    \"logging_args\": {\"st_logging\": True}\n",
    "}\n",
    "\n",
    "pretty(cfg)"
   ]
  },
  {
   "cell_type": "markdown",
   "id": "6fc98bbc",
   "metadata": {},
   "source": [
    "If you have not used streamlit before on your system, follow the instructions at https://docs.streamlit.io/library/get-started/installation before running the next cell"
   ]
  },
  {
   "cell_type": "code",
   "execution_count": 16,
   "id": "474b25b9-c0cd-4cfb-bb34-f2e5a0eb5069",
   "metadata": {
    "scrolled": true,
    "tags": []
   },
   "outputs": [
    {
     "name": "stdout",
     "output_type": "stream",
     "text": [
      "Deleting the folder:  uptrain_smart_data\n",
      "Deleting the folder:  uptrain_logs\n",
      "Drift detected with DDM at time: 111296\n",
      "Drift detected with ADWIN at time: 111455\n"
     ]
    }
   ],
   "source": [
    "# Initialize the UpTrain framework\n",
    "framework = uptrain.Framework(cfg)\n",
    "\n",
    "batch_size = 10000\n",
    "for i in range(int(len(X_test)/batch_size)):\n",
    "    \n",
    "    # Do model prediction\n",
    "    inputs = {\"feats\": X_test[i*batch_size:(i+1)*batch_size]}\n",
    "    preds = classifier.predict(inputs[\"feats\"])\n",
    "    \n",
    "    # Log model inputs and outputs to monitor concept drift\n",
    "    ids = framework.log(inputs=inputs, outputs=preds)\n",
    "    \n",
    "    # Attach ground truth to corresponding predictions \n",
    "    # in UpTrain framework and identify concept drift\n",
    "    ground_truth = y_test[i * batch_size : (i + 1) * batch_size] \n",
    "    framework.log(identifiers=ids, gts=ground_truth)\n",
    "    \n",
    "    # Pausing between batches to monitor progress in the dashboard\n",
    "    time.sleep(0.5)"
   ]
  },
  {
   "cell_type": "markdown",
   "id": "31d1dc35-2b1c-4d8e-a39e-b4d7889e5f6a",
   "metadata": {},
   "source": [
    "### From the UpTrain Dashboard"
   ]
  },
  {
   "cell_type": "markdown",
   "id": "ded14442-b8d3-4aef-9848-b4e1af3796c4",
   "metadata": {
    "tags": []
   },
   "source": [
    "Here is a snippet of the model's performance from the UpTrain dashboard. As you can see, the model's accuracy starts to dip around the timestamp of 111k."
   ]
  },
  {
   "attachments": {},
   "cell_type": "markdown",
   "id": "d42079eb-b549-4fe8-88dd-442ddd255271",
   "metadata": {},
   "source": [
    "#### Concept Drift detected using DDM\n",
    "\n",
    "<img width=\"629\" alt=\"concept_drift_avg_acc\" src=\"https://uptrain-demo.s3.us-west-1.amazonaws.com/fraud_detection/concept_drift_avg_acc.gif\">\n",
    "\n",
    "<br />\n",
    "\n",
    "#### Concept Drift detected using ADWIN\n",
    "\n",
    "<img width=\"629\" alt=\"concept_drift_adwin_mae\" src=\"data:image/png;base64,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\">"
   ]
  },
  {
   "attachments": {},
   "cell_type": "markdown",
   "id": "f8284211-8a38-4a30-80eb-2afb5ad698ec",
   "metadata": {},
   "source": [
    "In this example, we used two popular drift detection algorithms called the [Drift Detection Method (DDM)](https://riverml.xyz/0.11.1/api/drift/DDM/)  and [Adaptive Windowing (ADWIN)](https://riverml.xyz/0.15.0/api/drift/ADWIN/) which is already implemented as a part of the UpTrain package. However, as we can see the model accuracy dropped from 99.7% to 96.9%, which is still a slow decline and might not raise many eyebrows. "
   ]
  },
  {
   "cell_type": "markdown",
   "id": "0124e2a3-75f7-454e-93de-02525b70e14d",
   "metadata": {},
   "source": [
    "For better detection and to understand the severity of the issue, one might want to define a customized metric and monitor the models using them. Let's see how we can do this in UpTrain."
   ]
  },
  {
   "cell_type": "markdown",
   "id": "efbe4b52-2880-411b-a1c5-432dad0bac69",
   "metadata": {},
   "source": [
    "## Step 4: Define a Custom Monitor in UpTrain (for better monitoring)"
   ]
  },
  {
   "cell_type": "markdown",
   "id": "16a788df-c12f-4aea-a5d7-62e6199d4eff",
   "metadata": {},
   "source": [
    "We now define a custom drift metric which monitors the difference between accuracy of the model in the first 200 predictions and the latest 200 predictions. This way, we can quickly identify if there is a sudden degradation in the model's performance."
   ]
  },
  {
   "cell_type": "markdown",
   "id": "03243b43-67bb-4817-a9ce-0a75a3b686ae",
   "metadata": {},
   "source": [
    "Let's define our custom check and UpTrain config with check as \"Custom Monitor\" as below:"
   ]
  },
  {
   "cell_type": "code",
   "execution_count": 9,
   "id": "1322464e-0917-4f68-aa4c-214a9b6fa7c2",
   "metadata": {
    "tags": []
   },
   "outputs": [],
   "source": [
    "# Defining a custom drift metric to check if accuracy drops beyond a threshold.\n",
    "\n",
    "def custom_initialize_func(self) -> None:\n",
    "    self.initial_acc = None       \n",
    "    self.acc_arr = []\n",
    "    self.count = 0       \n",
    "    self.thres = 0.02\n",
    "    self.window_size = 200\n",
    "    self.is_drift_detected = False\n",
    "\n",
    "def custom_check_func(self, inputs, outputs, gts=None, extra_args={}) -> None:\n",
    "    batch_size = len(extra_args[\"id\"])\n",
    "    self.count += batch_size\n",
    "    self.acc_arr.extend(list(np.equal(gts, outputs)))\n",
    "    \n",
    "    # Calculate initial performance of the model on first 200 points\n",
    "    if (self.count >= self.window_size) and (self.initial_acc is None):\n",
    "        self.initial_acc = sum(self.acc_arr[0:self.window_size])/self.window_size\n",
    "        \n",
    "    # Calculate the most recent accuracy and log it to dashboard.\n",
    "    if (self.initial_acc is not None):\n",
    "        for i in range(self.count - batch_size, self.count, self.window_size):\n",
    "            \n",
    "            # Calculate the most recent accuracy\n",
    "            recent_acc = sum(self.acc_arr[i:i+self.window_size])/self.window_size\n",
    "            \n",
    "            # Logging to UpTrain dashboard\n",
    "            self.log_handler.add_scalars('custom_metrics', \n",
    "                    {'y_acc': self.initial_acc},\n",
    "                i, self.dashboard_name, file_name='initial_acc')\n",
    "            self.log_handler.add_scalars('custom_metrics', \n",
    "                    {'y_acc': recent_acc, },\n",
    "                i, self.dashboard_name, file_name='recent_acc')\n",
    "            \n",
    "            # Send an alert when recent model performance goes down \n",
    "            if (self.initial_acc - recent_acc > self.thres) and (not self.is_drift_detected):\n",
    "                alert = f\"Concept drift detected with custom metric at time: {i}!!!\" \n",
    "                print(alert)\n",
    "                self.log_handler.add_alert(\n",
    "                    \"Model Performance Degradation Alert 🚨\",\n",
    "                    alert,\n",
    "                    self.dashboard_name\n",
    "                )\n",
    "                self.is_drift_detected = True"
   ]
  },
  {
   "cell_type": "code",
   "execution_count": 10,
   "id": "89e24bd0",
   "metadata": {},
   "outputs": [],
   "source": [
    "checks.append({\n",
    "    \"type\": uptrain.Monitor.CUSTOM_MONITOR,\n",
    "    \"initialize_func\": custom_initialize_func,\n",
    "    \"check_func\": custom_check_func,\n",
    "    \"need_gt\": True\n",
    "})"
   ]
  },
  {
   "cell_type": "code",
   "execution_count": 11,
   "id": "c8dc1388",
   "metadata": {},
   "outputs": [
    {
     "name": "stdout",
     "output_type": "stream",
     "text": [
      "- checks:\n",
      "\t- type:\n",
      "\t\tMonitor.CONCEPT_DRIFT\n",
      "\t- algorithm:\n",
      "\t\tDataDriftAlgo.DDM\n",
      "\t- type:\n",
      "\t\tMonitor.CONCEPT_DRIFT\n",
      "\t- algorithm:\n",
      "\t\tDataDriftAlgo.ADWIN\n",
      "\t- measurable_args:\n",
      "\t\t- type:\n",
      "\t\t\tMeasurableType.MAE\n",
      "\t- type:\n",
      "\t\tMonitor.CUSTOM_MONITOR\n",
      "\t- initialize_func:\n",
      "\t\t<function custom_initialize_func at 0x7fdd930ad630>\n",
      "\t- check_func:\n",
      "\t\t<function custom_check_func at 0x7fdd930ad480>\n",
      "\t- need_gt:\n",
      "\t\tTrue\n",
      "- retraining_folder:\n",
      "\tuptrain_smart_data\n"
     ]
    }
   ],
   "source": [
    "cfg = {\n",
    "    \"checks\": checks,\n",
    "    \n",
    "    # Folder that stores the drifted data-points identified by UpTrain\n",
    "    \"retraining_folder\": 'uptrain_smart_data',\n",
    "    \n",
    "    # Enable streamlit logging to visualize model's performance\n",
    "    \"logging_args\": {\"st_logging\": True}\n",
    "}\n",
    "\n",
    "pretty(cfg)"
   ]
  },
  {
   "cell_type": "code",
   "execution_count": 12,
   "id": "63118254-37a2-4ec0-9a9d-16a4c3e376d1",
   "metadata": {
    "tags": []
   },
   "outputs": [
    {
     "name": "stdout",
     "output_type": "stream",
     "text": [
      "Deleting the folder:  uptrain_smart_data\n",
      "Drift detected with DDM at time: 111296\n",
      "Drift detected with ADWIN at time: 111455\n",
      "Concept drift detected with custom metric at time: 111000!!!\n"
     ]
    }
   ],
   "source": [
    "# Initialize the UpTrain framework\n",
    "framework = uptrain.Framework(cfg)\n",
    "\n",
    "batch_size = 10000\n",
    "for i in range(int(len(X_test)/batch_size)):\n",
    "    \n",
    "    # Do model prediction\n",
    "    inputs = {\"feats\": X_test[i*batch_size:(i+1)*batch_size]}\n",
    "    preds = classifier.predict(inputs[\"feats\"])\n",
    "    \n",
    "    # Log model inputs and outputs to monitor concept drift\n",
    "    ids = framework.log(inputs=inputs, outputs=preds)\n",
    "    \n",
    "    # Attach ground truth to corresponding predictions \n",
    "    # in UpTrain framework and identify concept drift\n",
    "    ground_truth = y_test[i * batch_size : (i + 1) * batch_size] \n",
    "    framework.log(identifiers=ids, gts=ground_truth)\n",
    "    \n",
    "    # Pausing between batches to monitor progress in the dashboard\n",
    "    time.sleep(0.5)"
   ]
  },
  {
   "cell_type": "markdown",
   "id": "ddd76985-5c96-4b84-a9c7-030b37741571",
   "metadata": {},
   "source": [
    "### From the UpTrain Dashboard"
   ]
  },
  {
   "cell_type": "markdown",
   "id": "6ff120f4-97a8-4d0f-aae8-ce18ff0bf326",
   "metadata": {},
   "source": [
    "After using our custom monitors, we see a sudden and more alarming drop in the model accuracy. It drops from 99.7% to 77%. Being able to detect this drop early enables us to send better alerts and take more urgent measures (ex: model retraining) to resolve them. \n",
    "\n",
    "<img width=\"624\" alt=\"concept_drift_custom\" src=\"https://uptrain-demo.s3.us-west-1.amazonaws.com/fraud_detection/custom_measure.gif\">"
   ]
  },
  {
   "cell_type": "markdown",
   "id": "05ac2a23-d962-4a4a-ab08-e5da0d5bfaaf",
   "metadata": {},
   "source": [
    "## Conclusion"
   ]
  },
  {
   "cell_type": "markdown",
   "id": "09c998ab-9381-4d51-a52d-9853828f7e70",
   "metadata": {},
   "source": [
    "Model monitoring is crucial for tasks such as fraud detection, cyber-security attacks etc. where the malicious agents continuously improve their attack vectors and with time, learn to evade detection. Real-time model observability enables one to proactively address any performance degradation before it leads to serious consequences, such as data breaches or financial losses.\n",
    "\n",
    "In this example, we saw two ways to detect performance degradation - Concept Drift via DDM and Custom Monitor. The UpTrain framework has many other statistical tools, such as data drift, integrity checks, shift in model outputs, and outlier detection, that can be used to identify model issues, even in cases where ground truth is not available. You can explore them [here](https://github.com/uptrain-ai/uptrain/tree/main/examples)\n",
    "\n",
    "- Automatically detecting edge-cases and out-of-distribution samples - [Link](https://github.com/uptrain-ai/uptrain/blob/main/examples/human_orientation_classification/run.ipynb)\n",
    "- Defining custom signals to identify edge-cases - [Link](https://github.com/uptrain-ai/uptrain/blob/main/examples/human_orientation_classification/deepdive_examples/uptrain_edge_cases_torch.ipynb)\n",
    "- Using Data-Drift (i.e. shifts in input distribution) to identify dips in model performance - [Link](https://github.com/uptrain-ai/uptrain/blob/main/examples/1_orientation_classification/deepdive_examples/uptrain_data_drift_custom_measures.ipynb)\n",
    "- Monitoring bias in recommendation systems - [Link](https://github.com/uptrain-ai/uptrain/blob/main/examples/shopping_cart_recommendation/run.ipynb)\n"
   ]
  }
 ],
 "metadata": {
  "kernelspec": {
   "display_name": "Python 3 (ipykernel)",
   "language": "python",
   "name": "python3"
  },
  "language_info": {
   "codemirror_mode": {
    "name": "ipython",
    "version": 3
   },
   "file_extension": ".py",
   "mimetype": "text/x-python",
   "name": "python",
   "nbconvert_exporter": "python",
   "pygments_lexer": "ipython3",
   "version": "3.10.6"
  },
  "vscode": {
   "interpreter": {
    "hash": "5c9d59ef8fd7319b343529049cd41b7d67724075998fb85365859f5b386c072d"
   }
  }
 },
 "nbformat": 4,
 "nbformat_minor": 5
}
