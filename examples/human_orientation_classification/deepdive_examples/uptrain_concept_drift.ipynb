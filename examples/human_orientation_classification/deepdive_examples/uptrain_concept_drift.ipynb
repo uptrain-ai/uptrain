{
 "cells": [
  {
   "cell_type": "markdown",
   "metadata": {},
   "source": [
    "<h1 align=\"center\">\n",
    "  <a href=\"https://uptrain.ai\">\n",
    "    <img width=\"300\" src=\"https://user-images.githubusercontent.com/108270398/214240695-4f958b76-c993-4ddd-8de6-8668f4d0da84.png\" alt=\"uptrain\">\n",
    "  </a>\n",
    "</h1>"
   ]
  },
  {
   "cell_type": "markdown",
   "metadata": {},
   "source": [
    "<h1 style=\"text-align: center;\">Monitoring Concept Drift on a Binary Classification Model</h1>"
   ]
  },
  {
   "cell_type": "markdown",
   "metadata": {},
   "source": [
    "In this notebook, we will see how we can use UpTrain package to identify concept drift ie degradation in model's performance. We will use DDM (Drift Detection Method) for the same."
   ]
  },
  {
   "cell_type": "markdown",
   "metadata": {},
   "source": [
    "### Install the required packages for this example"
   ]
  },
  {
   "cell_type": "code",
   "execution_count": 1,
   "metadata": {},
   "outputs": [
    {
     "name": "stdout",
     "output_type": "stream",
     "text": [
      "Requirement already satisfied: torch in /Users/sourabhagrawal/miniconda3/envs/prod_merge1/lib/python3.10/site-packages (1.13.1)\n",
      "Requirement already satisfied: imgaug in /Users/sourabhagrawal/miniconda3/envs/prod_merge1/lib/python3.10/site-packages (0.4.0)\n",
      "Requirement already satisfied: typing_extensions in /Users/sourabhagrawal/miniconda3/envs/prod_merge1/lib/python3.10/site-packages (from torch) (4.4.0)\n",
      "Requirement already satisfied: scikit-image>=0.14.2 in /Users/sourabhagrawal/miniconda3/envs/prod_merge1/lib/python3.10/site-packages (from imgaug) (0.19.3)\n",
      "Requirement already satisfied: Pillow in /Users/sourabhagrawal/miniconda3/envs/prod_merge1/lib/python3.10/site-packages (from imgaug) (9.3.0)\n",
      "Requirement already satisfied: imageio in /Users/sourabhagrawal/miniconda3/envs/prod_merge1/lib/python3.10/site-packages (from imgaug) (2.25.1)\n",
      "Requirement already satisfied: opencv-python in /Users/sourabhagrawal/miniconda3/envs/prod_merge1/lib/python3.10/site-packages (from imgaug) (4.7.0.72)\n",
      "Requirement already satisfied: Shapely in /Users/sourabhagrawal/miniconda3/envs/prod_merge1/lib/python3.10/site-packages (from imgaug) (2.0.1)\n",
      "Requirement already satisfied: six in /Users/sourabhagrawal/miniconda3/envs/prod_merge1/lib/python3.10/site-packages (from imgaug) (1.16.0)\n",
      "Requirement already satisfied: matplotlib in /Users/sourabhagrawal/miniconda3/envs/prod_merge1/lib/python3.10/site-packages (from imgaug) (3.7.0)\n",
      "Requirement already satisfied: scipy in /Users/sourabhagrawal/miniconda3/envs/prod_merge1/lib/python3.10/site-packages (from imgaug) (1.10.1)\n",
      "Requirement already satisfied: numpy>=1.15 in /Users/sourabhagrawal/miniconda3/envs/prod_merge1/lib/python3.10/site-packages (from imgaug) (1.23.5)\n",
      "Requirement already satisfied: packaging>=20.0 in /Users/sourabhagrawal/miniconda3/envs/prod_merge1/lib/python3.10/site-packages (from scikit-image>=0.14.2->imgaug) (22.0)\n",
      "Requirement already satisfied: tifffile>=2019.7.26 in /Users/sourabhagrawal/miniconda3/envs/prod_merge1/lib/python3.10/site-packages (from scikit-image>=0.14.2->imgaug) (2023.2.3)\n",
      "Requirement already satisfied: networkx>=2.2 in /Users/sourabhagrawal/miniconda3/envs/prod_merge1/lib/python3.10/site-packages (from scikit-image>=0.14.2->imgaug) (3.0)\n",
      "Requirement already satisfied: PyWavelets>=1.1.1 in /Users/sourabhagrawal/miniconda3/envs/prod_merge1/lib/python3.10/site-packages (from scikit-image>=0.14.2->imgaug) (1.4.1)\n",
      "Requirement already satisfied: cycler>=0.10 in /Users/sourabhagrawal/miniconda3/envs/prod_merge1/lib/python3.10/site-packages (from matplotlib->imgaug) (0.11.0)\n",
      "Requirement already satisfied: python-dateutil>=2.7 in /Users/sourabhagrawal/miniconda3/envs/prod_merge1/lib/python3.10/site-packages (from matplotlib->imgaug) (2.8.2)\n",
      "Requirement already satisfied: kiwisolver>=1.0.1 in /Users/sourabhagrawal/miniconda3/envs/prod_merge1/lib/python3.10/site-packages (from matplotlib->imgaug) (1.4.4)\n",
      "Requirement already satisfied: fonttools>=4.22.0 in /Users/sourabhagrawal/miniconda3/envs/prod_merge1/lib/python3.10/site-packages (from matplotlib->imgaug) (4.38.0)\n",
      "Requirement already satisfied: contourpy>=1.0.1 in /Users/sourabhagrawal/miniconda3/envs/prod_merge1/lib/python3.10/site-packages (from matplotlib->imgaug) (1.0.7)\n",
      "Requirement already satisfied: pyparsing>=2.3.1 in /Users/sourabhagrawal/miniconda3/envs/prod_merge1/lib/python3.10/site-packages (from matplotlib->imgaug) (3.0.9)\n"
     ]
    }
   ],
   "source": [
    "!pip install torch imgaug"
   ]
  },
  {
   "cell_type": "code",
   "execution_count": 2,
   "metadata": {},
   "outputs": [
    {
     "name": "stderr",
     "output_type": "stream",
     "text": [
      "/Users/sourabhagrawal/miniconda3/envs/prod_merge1/lib/python3.10/site-packages/tqdm/auto.py:22: TqdmWarning: IProgress not found. Please update jupyter and ipywidgets. See https://ipywidgets.readthedocs.io/en/stable/user_install.html\n",
      "  from .autonotebook import tqdm as notebook_tqdm\n"
     ]
    }
   ],
   "source": [
    "import sys\n",
    "import os\n",
    "import subprocess\n",
    "import zipfile\n",
    "import numpy as np\n",
    "import uptrain\n",
    "import sys\n",
    "sys.path.insert(0,'..')\n",
    "\n",
    "from helper_files import read_json, write_json, KpsDataset\n",
    "import torch"
   ]
  },
  {
   "cell_type": "markdown",
   "metadata": {},
   "source": [
    "Let's first download the dataset from remote and define the testing and annotation files"
   ]
  },
  {
   "cell_type": "code",
   "execution_count": 3,
   "metadata": {
    "tags": []
   },
   "outputs": [],
   "source": [
    "data_dir = \"data\"\n",
    "remote_url = \"https://oodles-dev-training-data.s3.amazonaws.com/data.zip\"\n",
    "orig_training_file = 'data/training_data.json'\n",
    "if not os.path.exists(data_dir):\n",
    "    try:\n",
    "        # Most Linux distributions have Wget installed by default.\n",
    "        # Below command is to install wget for MacOS\n",
    "        wget_installed_ok = subprocess.call(\"brew install wget\", shell=True, stdout=subprocess.DEVNULL, stderr=subprocess.STDOUT)\n",
    "        print(\"Successfully installed wget\")\n",
    "    except:\n",
    "        dummy = 1\n",
    "    try:\n",
    "        if not os.path.exists(\"data.zip\"):\n",
    "            file_downloaded_ok = subprocess.call(\"wget \" + remote_url, shell=True, stdout=subprocess.DEVNULL, stderr=subprocess.STDOUT)\n",
    "            print(\"Data downloaded\")\n",
    "        with zipfile.ZipFile(\"data.zip\", 'r') as zip_ref:\n",
    "            zip_ref.extractall(\"./\")\n",
    "        full_training_data = read_json(orig_training_file)\n",
    "        np.random.seed(1)\n",
    "        np.random.shuffle(full_training_data)\n",
    "        reduced_training_data = full_training_data[0:1000]\n",
    "        write_json(orig_training_file, reduced_training_data)\n",
    "        print(\"Prepared Example Dataset\")\n",
    "        os.remove(\"data.zip\")\n",
    "    except Exception as e:\n",
    "        print(e)\n",
    "        print(\"Could not load training data\")\n",
    "\n",
    "real_world_test_cases = 'data/real_world_testing_data.json'\n",
    "golden_testing_file = 'data/golden_testing_data.json'\n",
    "annotation_args = {'master_file': 'data/master_annotation_data.json'}\n",
    "\n",
    "inference_batch_size = 16"
   ]
  },
  {
   "cell_type": "markdown",
   "metadata": {},
   "source": [
    "Next, we train our network using Deep Neural Network"
   ]
  },
  {
   "cell_type": "code",
   "execution_count": 4,
   "metadata": {},
   "outputs": [],
   "source": [
    "from helper_files import get_accuracy_torch, train_model_torch, BinaryClassification\n",
    "train_model_torch('data/training_data.json', 'version_0')"
   ]
  },
  {
   "cell_type": "markdown",
   "metadata": {},
   "source": [
    "Next, we get the model accuracy on testing dataset"
   ]
  },
  {
   "cell_type": "code",
   "execution_count": 5,
   "metadata": {},
   "outputs": [
    {
     "name": "stdout",
     "output_type": "stream",
     "text": [
      "Evaluating model: version_0  on  15731  data-points\n"
     ]
    },
    {
     "data": {
      "text/plain": [
       "0.9253702879664357"
      ]
     },
     "execution_count": 5,
     "metadata": {},
     "output_type": "execute_result"
    }
   ],
   "source": [
    "get_accuracy_torch(golden_testing_file, 'version_0')"
   ]
  },
  {
   "cell_type": "markdown",
   "metadata": {},
   "source": [
    "Let's define the UpTrain config to detect Concept drift and use DDM as the algorithm for the same"
   ]
  },
  {
   "cell_type": "code",
   "execution_count": 6,
   "metadata": {},
   "outputs": [],
   "source": [
    "cfg = {\n",
    "    \"checks\": [{\n",
    "        'type': uptrain.Monitor.CONCEPT_DRIFT,\n",
    "        'algorithm': uptrain.DataDriftAlgo.DDM\n",
    "    }],\n",
    "    \"data_identifier\": \"id\",\n",
    "    \"logging_args\": {\"st_logging\": True},\n",
    "    \"retraining_folder\": \"uptrain_smart_data_data_integrity\",\n",
    "}"
   ]
  },
  {
   "cell_type": "code",
   "execution_count": 7,
   "metadata": {
    "tags": []
   },
   "outputs": [
    {
     "name": "stdout",
     "output_type": "stream",
     "text": [
      "Deleting the folder:  uptrain_logs\n",
      "\n",
      "  You can now view your Streamlit app in your browser.\n",
      "\n",
      "  Local URL: http://localhost:8501\n",
      "  Network URL: http://192.168.6.92:8501\n",
      "\n",
      "  For better performance, install the Watchdog module:\n",
      "\n",
      "  $ xcode-select --install\n",
      "  $ pip install watchdog\n",
      "            \n",
      "  Stopping...\n"
     ]
    },
    {
     "name": "stderr",
     "output_type": "stream",
     "text": [
      "\n",
      "KeyboardInterrupt\n",
      "\n"
     ]
    }
   ],
   "source": [
    "framework_torch = uptrain.Framework(cfg)\n",
    "\n",
    "model_dir = 'trained_models_torch/'\n",
    "model_save_name = 'version_0'\n",
    "real_world_dataset = KpsDataset(\n",
    "    real_world_test_cases, batch_size=inference_batch_size, is_test=True\n",
    ")\n",
    "model = BinaryClassification()\n",
    "model.load_state_dict(torch.load(model_dir + model_save_name))\n",
    "model.eval()\n",
    "\n",
    "gt_data = read_json(annotation_args['master_file'])\n",
    "all_gt_ids = [x['id'] for x in gt_data]\n",
    "\n",
    "for i,elem in enumerate(real_world_dataset):\n",
    "\n",
    "    # Do model prediction\n",
    "    inputs = {\"kps\": elem[0][\"kps\"], \"id\": elem[0][\"id\"]}\n",
    "    x_test = torch.tensor(inputs[\"kps\"]).type(torch.float)\n",
    "    test_logits = model(x_test).squeeze() \n",
    "    preds = torch.round(torch.sigmoid(test_logits)).detach().numpy()\n",
    "    idens = framework_torch.log(inputs=inputs, outputs=preds)\n",
    "\n",
    "    # Attach ground truth for accuracy evaluation\n",
    "    this_elem_gt = [gt_data[all_gt_ids.index(x)]['gt'] for x in elem[0]['id']]\n",
    "    framework_torch.log(identifiers=idens, gts=this_elem_gt)"
   ]
  }
 ],
 "metadata": {
  "kernelspec": {
   "display_name": "Python 3 (ipykernel)",
   "language": "python",
   "name": "python3"
  },
  "language_info": {
   "codemirror_mode": {
    "name": "ipython",
    "version": 3
   },
   "file_extension": ".py",
   "mimetype": "text/x-python",
   "name": "python",
   "nbconvert_exporter": "python",
   "pygments_lexer": "ipython3",
   "version": "3.10.9"
  },
  "vscode": {
   "interpreter": {
    "hash": "31f2aee4e71d21fbe5cf8b01ff0e069b9275f58929596ceb00d14d90e3e16cd6"
   }
  }
 },
 "nbformat": 4,
 "nbformat_minor": 4
}
