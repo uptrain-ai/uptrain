{
 "cells": [
  {
   "cell_type": "markdown",
   "metadata": {},
   "source": [
    "<h1 align=\"center\">\n",
    "  <a href=\"https://uptrain.ai\">\n",
    "    <img width=\"300\" src=\"https://user-images.githubusercontent.com/108270398/214240695-4f958b76-c993-4ddd-8de6-8668f4d0da84.png\" alt=\"uptrain\">\n",
    "  </a>\n",
    "</h1>"
   ]
  },
  {
   "cell_type": "markdown",
   "metadata": {},
   "source": [
    "<h1 style=\"text-align: center;\"> Measuring Data Drift on a Binary Classification Task </h1>"
   ]
  },
  {
   "cell_type": "markdown",
   "metadata": {},
   "source": [
    "In this example, we consider a binary classification task of human orientation while exercising. That is, given the location of 17 key-points of the body such as the nose, shoulders, wrist, hips, ankles, etc., the model tries to predict whether the person is in a horizontal (see image 1 below) or a vertical (see image 2 below) position. \n",
    "\n",
    "Input: 34-dimensional vector that contains the x and y positions of the 17 key-points.\\\n",
    "Output: Orientation (horizontal or vertical)"
   ]
  },
  {
   "attachments": {
    "020c13d9-0eab-4a18-9d3a-fd645826319f.png": {
     "image/png": "[encoded data removed]"
    },
    "5d35fb64-5f4b-4426-8756-2016a5ddc9a8.png": {
     "image/png": "[encoded data removed]"
    }
   },
   "cell_type": "markdown",
   "metadata": {},
   "source": [
    "![Horizontal_class.png](attachment:020c13d9-0eab-4a18-9d3a-fd645826319f.png)\n",
    "![Vertical_class.png](attachment:5d35fb64-5f4b-4426-8756-2016a5ddc9a8.png)"
   ]
  },
  {
   "cell_type": "markdown",
   "metadata": {},
   "source": [
    "In this notebook, we will see how we can use UpTrain package to identify data drift and identify out of distribution cases on real-world data."
   ]
  },
  {
   "cell_type": "markdown",
   "metadata": {},
   "source": [
    "### Install the required packages for this example"
   ]
  },
  {
   "cell_type": "code",
   "execution_count": null,
   "metadata": {},
   "outputs": [],
   "source": [
    "!pip install torch imgaug"
   ]
  },
  {
   "cell_type": "code",
   "execution_count": 1,
   "metadata": {},
   "outputs": [],
   "source": [
    "import os\n",
    "import subprocess\n",
    "import zipfile\n",
    "import numpy as np\n",
    "import torch\n",
    "import uptrain\n",
    "\n",
    "import sys\n",
    "sys.path.insert(0,'..')\n",
    "\n",
    "from helper_files import read_json, write_json, KpsDataset\n",
    "from helper_files import body_length_signal, plot_all_cluster"
   ]
  },
  {
   "cell_type": "markdown",
   "metadata": {},
   "source": [
    "Download dataset from remote"
   ]
  },
  {
   "cell_type": "code",
   "execution_count": 2,
   "metadata": {
    "tags": []
   },
   "outputs": [],
   "source": [
    "data_dir = \"data\"\n",
    "remote_url = \"https://oodles-dev-training-data.s3.amazonaws.com/data.zip\"\n",
    "orig_training_file = 'data/training_data.json'\n",
    "if not os.path.exists(data_dir):\n",
    "    try:\n",
    "        # Most Linux distributions have Wget installed by default.\n",
    "        # Below command is to install wget for MacOS\n",
    "        wget_installed_ok = subprocess.call(\"brew install wget\", shell=True, stdout=subprocess.DEVNULL, stderr=subprocess.STDOUT)\n",
    "        print(\"Successfully installed wget\")\n",
    "    except:\n",
    "        dummy = 1\n",
    "    try:\n",
    "        if not os.path.exists(\"data.zip\"):\n",
    "            file_downloaded_ok = subprocess.call(\"wget \" + remote_url, shell=True, stdout=subprocess.DEVNULL, stderr=subprocess.STDOUT)\n",
    "            print(\"Data downloaded\")\n",
    "        with zipfile.ZipFile(\"data.zip\", 'r') as zip_ref:\n",
    "            zip_ref.extractall(\"./\")\n",
    "        full_training_data = read_json(orig_training_file)\n",
    "        np.random.seed(1)\n",
    "        np.random.shuffle(full_training_data)\n",
    "        reduced_training_data = full_training_data[0:1000]\n",
    "        write_json(orig_training_file, reduced_training_data)\n",
    "        print(\"Prepared Example Dataset\")\n",
    "        os.remove(\"data.zip\")\n",
    "    except Exception as e:\n",
    "        print(e)\n",
    "        print(\"Could not load training data\")"
   ]
  },
  {
   "cell_type": "markdown",
   "metadata": {},
   "source": [
    "#### Type of data files"
   ]
  },
  {
   "cell_type": "code",
   "execution_count": 3,
   "metadata": {},
   "outputs": [],
   "source": [
    "# Training data\n",
    "training_file = 'data/training_data.json'\n",
    "\n",
    "# A testing dataset to evaluate model performance\n",
    "golden_testing_file = 'data/golden_testing_data.json'\n",
    "\n",
    "# The data-points which the models sees in production\n",
    "real_world_test_cases = 'data/real_world_testing_data.json'\n",
    "\n",
    "# To annotate the collected data points, we extract the ground truth from a master annotation file \n",
    "# (we can also import from any other annotation pipelines such as an annotation job on Mechanical turk).\n",
    "annotation_args = {'master_file': 'data/master_annotation_data.json'}"
   ]
  },
  {
   "cell_type": "markdown",
   "metadata": {},
   "source": [
    "### Step 1: Train our Deep Neural Network model"
   ]
  },
  {
   "cell_type": "code",
   "execution_count": 4,
   "metadata": {},
   "outputs": [
    {
     "name": "stdout",
     "output_type": "stream",
     "text": [
      "Training on:  data/training_data.json  which has  1000  data-points\n",
      "Epoch 0: Loss 6.170424439734028\n",
      "Epoch 1: Loss 1.804898705902639\n",
      "Epoch 2: Loss 1.1475218022891212\n",
      "Epoch 3: Loss 1.1139714462892492\n",
      "Epoch 4: Loss 0.7651904336334047\n",
      "Epoch 5: Loss 0.3935121600208127\n",
      "Epoch 6: Loss 0.40462788252539983\n",
      "Epoch 7: Loss 0.38329376321783504\n",
      "Epoch 8: Loss 0.44259468588855605\n",
      "Epoch 9: Loss 0.3619024118390551\n",
      "Model saved at:  trained_models_torch/version_0\n"
     ]
    }
   ],
   "source": [
    "from helper_files import get_accuracy_torch, train_model_torch, BinaryClassification\n",
    "train_model_torch(training_file, 'version_0')"
   ]
  },
  {
   "cell_type": "markdown",
   "metadata": {},
   "source": [
    "Next, we get the model accuracy on testing dataset"
   ]
  },
  {
   "cell_type": "code",
   "execution_count": 5,
   "metadata": {},
   "outputs": [
    {
     "name": "stdout",
     "output_type": "stream",
     "text": [
      "Evaluating on  15731  data-points\n"
     ]
    },
    {
     "data": {
      "text/plain": [
       "0.9092873943169538"
      ]
     },
     "execution_count": 5,
     "metadata": {},
     "output_type": "execute_result"
    }
   ],
   "source": [
    "get_accuracy_torch(golden_testing_file, 'version_0')"
   ]
  },
  {
   "cell_type": "markdown",
   "metadata": {},
   "source": [
    "### Step 2: Define the list of checks to perform on model"
   ]
  },
  {
   "cell_type": "markdown",
   "metadata": {},
   "source": [
    "In this example, we define a three different data drift checks on the real-world data."
   ]
  },
  {
   "cell_type": "markdown",
   "metadata": {},
   "source": [
    "1. In the first check, we use clustering on training and real-world datasets to identify any distribution shift between real-world data and the reference dataset (the training dataset in this case)."
   ]
  },
  {
   "cell_type": "code",
   "execution_count": 6,
   "metadata": {},
   "outputs": [],
   "source": [
    "check1 = {\n",
    "    'type': uptrain.Anomaly.DATA_DRIFT,\n",
    "    'reference_dataset': orig_training_file,\n",
    "    'is_embedding': True,\n",
    "    \"measurable_args\": {\n",
    "        'type': uptrain.MeasurableType.INPUT_FEATURE,\n",
    "        'feature_name': 'kps'\n",
    "    },\n",
    "}"
   ]
  },
  {
   "cell_type": "markdown",
   "metadata": {},
   "source": [
    "2. Next, we measure data drift for only the first feature: X co-ordinate of the Head keypoint. This is because we might want to see if specific features in the input are drifting or not. "
   ]
  },
  {
   "cell_type": "code",
   "execution_count": 7,
   "metadata": {},
   "outputs": [],
   "source": [
    "check2 = {\n",
    "    'type': uptrain.Anomaly.DATA_DRIFT,\n",
    "    'reference_dataset': orig_training_file,\n",
    "    \"save_edge_cases\": False,\n",
    "    \"measurable_args\": {\n",
    "        'type': uptrain.MeasurableType.SCALAR_FROM_EMBEDDING,\n",
    "        'idx': 0,\n",
    "        'extract_from': {\n",
    "            'type': uptrain.MeasurableType.INPUT_FEATURE,\n",
    "            'feature_name': 'kps'\n",
    "        }\n",
    "    },\n",
    "}"
   ]
  },
  {
   "cell_type": "markdown",
   "metadata": {},
   "source": [
    "3. Finally, we measure data drift for body length. Many times, functions on the input features might be more meaningful to look as compared to the raw features. In this case, we can use the location of the keypoints to determine body length of the user using the UpTrain Signals and monitor if we see any shifts in it's distribution."
   ]
  },
  {
   "cell_type": "code",
   "execution_count": 8,
   "metadata": {},
   "outputs": [],
   "source": [
    "check3 = {\n",
    "    'type': uptrain.Anomaly.DATA_DRIFT,\n",
    "    'reference_dataset': orig_training_file,\n",
    "    'is_embedding': False,\n",
    "    \"save_edge_cases\": False,\n",
    "    \"measurable_args\": {\n",
    "        'type': uptrain.MeasurableType.CUSTOM,\n",
    "        'signal_formulae': uptrain.Signal(\"Body Length\", body_length_signal),\n",
    "    }\n",
    "}"
   ]
  },
  {
   "cell_type": "code",
   "execution_count": 9,
   "metadata": {},
   "outputs": [],
   "source": [
    "checks = [check1, check2, check3]"
   ]
  },
  {
   "cell_type": "markdown",
   "metadata": {},
   "source": [
    "### Step 3: Define the training and evaluation arguments"
   ]
  },
  {
   "cell_type": "code",
   "execution_count": 10,
   "metadata": {},
   "outputs": [],
   "source": [
    "# Define the training pipeline to annotate data and retrain the model automatically\n",
    "training_args = {\n",
    "    \"annotation_method\": {\"method\": uptrain.AnnotationMethod.MASTER_FILE, \"args\": annotation_args}, \n",
    "    \"training_func\": train_model_torch, \n",
    "    \"orig_training_file\": orig_training_file,\n",
    "}\n",
    "\n",
    "# Define evaluation pipeline to test retrained model against original model\n",
    "evaluation_args = {\n",
    "    \"inference_func\": get_accuracy_torch,\n",
    "    \"golden_testing_dataset\": golden_testing_file,\n",
    "}"
   ]
  },
  {
   "cell_type": "markdown",
   "metadata": {},
   "source": [
    "### Step 4: Define the UpTrain Config"
   ]
  },
  {
   "cell_type": "code",
   "execution_count": 11,
   "metadata": {},
   "outputs": [],
   "source": [
    "cfg = {\n",
    "    \"checks\": checks, \n",
    "    \"training_args\": training_args,\n",
    "    \"evaluation_args\": evaluation_args,\n",
    "\n",
    "    # Retrain when 200 datapoints are collected in the retraining dataset\n",
    "    \"retrain_after\": 200,\n",
    "    \n",
    "    # A local folder to store the retraining dataset\n",
    "    \"retraining_folder\": \"uptrain_smart_data_data_drift\",\n",
    "    \n",
    "    # A function to visualize clusters in the data\n",
    "    \"cluster_visualize_func\": plot_all_cluster,\n",
    "    \n",
    "    # Turn on tensorboard logging\n",
    "    \"tb_logging\": True,\n",
    "}"
   ]
  },
  {
   "cell_type": "markdown",
   "metadata": {},
   "source": [
    "### Step 5: Initialize the UpTrain Framework with the config"
   ]
  },
  {
   "cell_type": "code",
   "execution_count": 12,
   "metadata": {},
   "outputs": [
    {
     "name": "stderr",
     "output_type": "stream",
     "text": [
      "\n",
      "NOTE: Using experimental fast data loading logic. To disable, pass\n",
      "    \"--load_fast=false\" and report issues on GitHub. More details:\n",
      "    https://github.com/tensorflow/tensorboard/issues/4784\n",
      "\n",
      "Serving TensorBoard on localhost; to expose to the network, use a proxy or pass --bind_all\n",
      "TensorBoard 2.9.0 at http://localhost:6007/ (Press CTRL+C to quit)\n"
     ]
    }
   ],
   "source": [
    "# Initialize the UpTrain framework object with config \n",
    "# A url will pop up if tensorboard logging is true\n",
    "framework = uptrain.Framework(cfg)"
   ]
  },
  {
   "cell_type": "markdown",
   "metadata": {},
   "source": [
    "### Step 6: Deploy the model in production"
   ]
  },
  {
   "cell_type": "markdown",
   "metadata": {},
   "source": [
    "Ship the model to production worry-free because the UpTrain tool will ideantify any deta drifts, collect interesting data points and automatically retrain the model on them."
   ]
  },
  {
   "cell_type": "code",
   "execution_count": 13,
   "metadata": {},
   "outputs": [
    {
     "name": "stdout",
     "output_type": "stream",
     "text": [
      "51  data-points collected out of  11840  inferred samples\n",
      "100  data-points collected out of  13360  inferred samples\n",
      "150  data-points collected out of  14864  inferred samples\n",
      "201  data-points collected out of  21632  inferred samples\n",
      "Kicking off re-training\n",
      "201 data-points selected out of 21632\n",
      "Training on:  uptrain_smart_data__data_drift/1/training_dataset.json  which has  2005  data-points\n",
      "Epoch 0: Loss 5.470383109092713\n",
      "Epoch 1: Loss 1.6415806330928482\n",
      "Epoch 2: Loss 0.9086297097194329\n",
      "Epoch 3: Loss 0.4365016576597194\n",
      "Epoch 4: Loss 0.3796917619592541\n",
      "Epoch 5: Loss 0.23702367818127187\n",
      "Epoch 6: Loss 0.20188379989718208\n",
      "Epoch 7: Loss 0.11222834637017302\n",
      "Epoch 8: Loss 0.09539343386131066\n",
      "Epoch 9: Loss 0.10638341195479117\n",
      "Model saved at:  trained_models_torch/version_1\n",
      "Model retraining done...\n",
      "Generating comparison report...\n",
      "Training on:  data/training_data.json  which has  1000  data-points\n",
      "Trained model exists. Skipping training again.\n",
      "Evaluating on  15731  data-points\n",
      "Evaluating on  15731  data-points\n",
      "---------------------------------------------\n",
      "---------------------------------------------\n",
      "Old model accuracy:  0.9092873943169538\n",
      "Retrained model accuracy (ie 201 smartly collected data-points added):  0.9952323437797979\n",
      "---------------------------------------------\n",
      "---------------------------------------------\n"
     ]
    }
   ],
   "source": [
    "inference_batch_size = 16\n",
    "model_dir = 'trained_models_torch/'\n",
    "model_save_name = 'version_0'\n",
    "real_world_dataset = KpsDataset(\n",
    "    real_world_test_cases, batch_size=inference_batch_size, is_test=True\n",
    ")\n",
    "model = BinaryClassification()\n",
    "model.load_state_dict(torch.load(model_dir + model_save_name))\n",
    "model.eval()\n",
    "\n",
    "for i,elem in enumerate(real_world_dataset):\n",
    "\n",
    "    # Do model prediction\n",
    "    inputs = {\"data\": {\"kps\": elem[0][\"kps\"]}, \"id\": elem[0][\"id\"]}\n",
    "    x_test = torch.tensor(inputs[\"data\"][\"kps\"]).type(torch.float)\n",
    "    test_logits = model(x_test).squeeze() \n",
    "    preds = torch.round(torch.sigmoid(test_logits)).detach().numpy()\n",
    "\n",
    "    # Log model inputs and outputs to the uptrain Framework to monitor data drift\n",
    "    idens = framework.log(inputs=inputs, outputs=preds)\n",
    "\n",
    "    # Retrain only once\n",
    "    if framework.version > 1:\n",
    "        break"
   ]
  },
  {
   "cell_type": "markdown",
   "metadata": {},
   "source": [
    "#### Hurray! Our model after retraining performs significantly better."
   ]
  },
  {
   "cell_type": "markdown",
   "metadata": {},
   "source": [
    "Next, we identify the clusters that cause the data drift by examining the plots of clusters that cause the data drift."
   ]
  },
  {
   "attachments": {
    "03849f18-82c3-40ee-8519-930e56c47311.png": {
     "image/png": "[encoded data removed]"
    }
   },
   "cell_type": "markdown",
   "metadata": {},
   "source": [
    "![collected_edge_cases_clusters.png](attachment:03849f18-82c3-40ee-8519-930e56c47311.png)"
   ]
  },
  {
   "cell_type": "markdown",
   "metadata": {},
   "source": [
    "From the above plot generated while monitoring the model in production, we see that data drift occurs for many cases when the person is in a horizontal position. Specifically, push-ups during an exercise are causing the model predictions to go wrong. In the example of edge-case detection, we will use this insight to identify any push-up related data points and specifically retrain on them."
   ]
  },
  {
   "cell_type": "markdown",
   "metadata": {},
   "source": [
    "## Do more with UpTrain"
   ]
  },
  {
   "cell_type": "markdown",
   "metadata": {},
   "source": [
    "Apart from data drift, UpTrain has many other features such as \n",
    "1. Checking for edge-cases and collecting them for automated retraining\n",
    "2. Verifying data integrity, \n",
    "3. Monitoring model performance and accuracy of predictions, etc. \n",
    "\n",
    "To dig deeper into it, we recommend you checkout the other examples in the folder \"deepdive_examples\"."
   ]
  }
 ],
 "metadata": {
  "kernelspec": {
   "display_name": "Python 3 (ipykernel)",
   "language": "python",
   "name": "python3"
  },
  "language_info": {
   "codemirror_mode": {
    "name": "ipython",
    "version": 3
   },
   "file_extension": ".py",
   "mimetype": "text/x-python",
   "name": "python",
   "nbconvert_exporter": "python",
   "pygments_lexer": "ipython3",
   "version": "3.8.16"
  },
  "vscode": {
   "interpreter": {
    "hash": "31f2aee4e71d21fbe5cf8b01ff0e069b9275f58929596ceb00d14d90e3e16cd6"
   }
  }
 },
 "nbformat": 4,
 "nbformat_minor": 4
}
