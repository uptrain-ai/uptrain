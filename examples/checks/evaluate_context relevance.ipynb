{
 "cells": [
  {
   "cell_type": "markdown",
   "id": "f6539807-d2be-47b6-a39e-aaacb1e6e0bb",
   "metadata": {},
   "source": [
    "<h1 align=\"center\">\n",
    "  <a href=\"https://uptrain.ai\">\n",
    "    <img width=\"300\" src=\"https://user-images.githubusercontent.com/108270398/214240695-4f958b76-c993-4ddd-8de6-8668f4d0da84.png\" alt=\"uptrain\">\n",
    "  </a>\n",
    "</h1>"
   ]
  },
  {
   "cell_type": "markdown",
   "id": "c2403e87-604e-44c6-8d9e-6c5806bc4cd7",
   "metadata": {},
   "source": [
    "<h1 style=\"text-align: center;\">Evaluating Context Relevance</h1>"
   ]
  },
  {
   "cell_type": "markdown",
   "id": "2ef54d59-295e-4f15-a35f-33f4e86ecdd2",
   "metadata": {},
   "source": [
    "**What is Context Relevance?**: Context relevance is the measure of how relevant the context is to the question asked. A bad context reduces the chances of the model giving a relevant response to the question asked.\n",
    "\n",
    "For example, if the question asked is \"How does a fan cool a room?\" and the context provided is \"A fan is a machine used to create flow within a fluid, typically a gas such as air.\" then the response given by the model should be relevant to the question asked. However, if the context provided is \"A fan is a person who is very interested in a particular activity or subject.\" then the response given by the model will not be relevant to the question asked.\n",
    "\n",
    "**Data schema**: The data schema required for this evaluation is as follows:\n",
    "\n",
    "| Column Name | Description |\n",
    "| ----------- | ----------- |\n",
    "| question | The question asked by the user |\n",
    "| context | Additional information provided that can be used to answer the question |"
   ]
  },
  {
   "cell_type": "markdown",
   "id": "76008cf6-dbd3-44bc-8556-86278868e746",
   "metadata": {},
   "source": [
    "Install UpTrain by running 'pip install uptrain'"
   ]
  },
  {
   "cell_type": "code",
   "execution_count": 4,
   "metadata": {},
   "outputs": [],
   "source": [
    "from uptrain import EvalLLM, Evals\n",
    "import json\n",
    "\n",
    "OPENAI_API_KEY = \"sk-*****************\"  # Insert your OpenAI key here"
   ]
  },
  {
   "cell_type": "markdown",
   "metadata": {},
   "source": [
    "Let's first look at data with context that is relevant to the question asked."
   ]
  },
  {
   "cell_type": "code",
   "execution_count": 6,
   "id": "11a472a8",
   "metadata": {},
   "outputs": [],
   "source": [
    "good_data = [\n",
    "    {\n",
    "        'question': 'How does photosynthesis work?',\n",
    "        'context': 'Like tiny solar factories, plants trap sunlight in their leaves using a green pigment called chlorophyll. This light energy fuels a magical process called photosynthesis, where plants combine water and carbon dioxide to make their own food (glucose) and release precious oxygen back into the air. This energy-packed glucose fuels their growth and keeps them thriving, making them the powerhouses of our planet\\'s ecosystems.'\n",
    "    },\n",
    "    {\n",
    "        'question': 'What is the capital of France?',\n",
    "        'context': 'Paris, the City of Lights, is the capital of France and a global center for art, fashion, gastronomy, and culture. Its 19th-century cityscape is crisscrossed by wide boulevards and the Seine River. Beyond such iconic landmarks as the Eiffel Tower and the 12th-century Notre Dame Cathedral, the city is known for its charming cafes, trendy boutiques, and rich history. '\n",
    "    },\n",
    "    {\n",
    "        'question': 'Who wrote \"Romeo and Juliet\"?',\n",
    "        'context': \"Romeo and Juliet is a timeless tragedy by William Shakespeare about two star-crossed lovers from feuding families, the Montagues and the Capulets. Despite the bitter rivalry between their houses, Romeo and Juliet fall passionately in love at first sight. Their clandestine romance blossoms amidst the danger and secrecy of their forbidden relationship. However, fate intervenes with a series of misunderstandings and tragic circumstances, ultimately leading to their deaths.\"\n",
    "    }\n",
    "]"
   ]
  },
  {
   "cell_type": "code",
   "execution_count": 7,
   "id": "d15fb087-3ed2-442f-9b23-35c7dbc6128e",
   "metadata": {},
   "outputs": [
    {
     "name": "stderr",
     "output_type": "stream",
     "text": [
      "\u001b[32m2023-12-15 16:53:03.401\u001b[0m | \u001b[1mINFO    \u001b[0m | \u001b[36muptrain.framework.evalllm\u001b[0m:\u001b[36mevaluate\u001b[0m:\u001b[36m100\u001b[0m - \u001b[1mSending evaluation request for rows 0 to <50 to the Uptrain\u001b[0m\n"
     ]
    },
    {
     "name": "stderr",
     "output_type": "stream",
     "text": [
      "\u001b[32m2023-12-15 16:53:09.287\u001b[0m | \u001b[1mINFO    \u001b[0m | \u001b[36muptrain.framework.evalllm\u001b[0m:\u001b[36mevaluate\u001b[0m:\u001b[36m100\u001b[0m - \u001b[1mSending evaluation request for rows 0 to <50 to the Uptrain\u001b[0m\n",
      "\u001b[32m2023-12-15 16:53:13.008\u001b[0m | \u001b[1mINFO    \u001b[0m | \u001b[36muptrain.framework.evalllm\u001b[0m:\u001b[36mevaluate\u001b[0m:\u001b[36m100\u001b[0m - \u001b[1mSending evaluation request for rows 0 to <50 to the Uptrain\u001b[0m\n"
     ]
    }
   ],
   "source": [
    "eval_llm = EvalLLM(openai_api_key=OPENAI_API_KEY)\n",
    "\n",
    "res = eval_llm.evaluate(\n",
    "    data = good_data,\n",
    "    checks = [Evals.CONTEXT_RELEVANCE]\n",
    ")"
   ]
  },
  {
   "cell_type": "code",
   "execution_count": 8,
   "id": "0a950849-0348-450f-add0-cea2c1423525",
   "metadata": {},
   "outputs": [
    {
     "name": "stdout",
     "output_type": "stream",
     "text": [
      "[\n",
      "   {\n",
      "      \"question\": \"How does photosynthesis work?\",\n",
      "      \"context\": \"Like tiny solar factories, plants trap sunlight in their leaves using a green pigment called chlorophyll. This light energy fuels a magical process called photosynthesis, where plants combine water and carbon dioxide to make their own food (glucose) and release precious oxygen back into the air. This energy-packed glucose fuels their growth and keeps them thriving, making them the powerhouses of our planet's ecosystems.\",\n",
      "      \"score_context_relevance\": 1.0,\n",
      "      \"explanation_context_relevance\": \"1. The question is asking about how photosynthesis works.\\n2. The extracted context mentions that plants trap sunlight using chlorophyll and use this light energy to combine water and carbon dioxide to make their own food (glucose) and release oxygen.\\n3. The extracted context also mentions that this glucose fuels the growth of plants and keeps them thriving.\\n4. The extracted context provides information about the process of photosynthesis, including the role of sunlight, chlorophyll, water, carbon dioxide, glucose, and oxygen.\\n5. Therefore, the extracted context can answer the given question completely.\\n\\nScore: 1.0\\n1.0\"\n",
      "   },\n",
      "   {\n",
      "      \"question\": \"What is the capital of France?\",\n",
      "      \"context\": \"Paris, the City of Lights, is the capital of France and a global center for art, fashion, gastronomy, and culture. Its 19th-century cityscape is crisscrossed by wide boulevards and the Seine River. Beyond such iconic landmarks as the Eiffel Tower and the 12th-century Notre Dame Cathedral, the city is known for its charming cafes, trendy boutiques, and rich history. \",\n",
      "      \"score_context_relevance\": 1.0,\n",
      "      \"explanation_context_relevance\": \"1. The question is asking for the capital of France.\\n2. The extracted context mentions that Paris is the capital of France.\\n3. The extracted context provides the correct answer to the question.\\n4. Therefore, the extracted context can answer the given question completely.\\n\\nScore: 1.0\\n1.0\"\n",
      "   },\n",
      "   {\n",
      "      \"question\": \"Who wrote \\\"Romeo and Juliet\\\"?\",\n",
      "      \"context\": \"Romeo and Juliet is a timeless tragedy by William Shakespeare about two star-crossed lovers from feuding families, the Montagues and the Capulets. Despite the bitter rivalry between their houses, Romeo and Juliet fall passionately in love at first sight. Their clandestine romance blossoms amidst the danger and secrecy of their forbidden relationship. However, fate intervenes with a series of misunderstandings and tragic circumstances, ultimately leading to their deaths.\",\n",
      "      \"score_context_relevance\": 1.0,\n",
      "      \"explanation_context_relevance\": \"1. The question is asking for the author of \\\"Romeo and Juliet\\\".\\n2. The extracted context mentions that \\\"Romeo and Juliet\\\" is a tragedy by William Shakespeare.\\n3. The extracted context provides the information that William Shakespeare is the author of \\\"Romeo and Juliet\\\".\\n4. Therefore, the extracted context can answer the given question completely.\\n\\nScore: 1.0\\n1.0\"\n",
      "   }\n",
      "]\n"
     ]
    }
   ],
   "source": [
    "print(json.dumps(res,indent=3))"
   ]
  },
  {
   "cell_type": "markdown",
   "metadata": {},
   "source": [
    "Now, let's look at data with context that is not relevant to the question asked."
   ]
  },
  {
   "cell_type": "code",
   "execution_count": 9,
   "metadata": {},
   "outputs": [],
   "source": [
    "bad_data = [\n",
    "    {\n",
    "        'question': 'How does photosynthesis work?',\n",
    "        'context': \"The plant kingdom, a vibrant tapestry of life, encompasses a staggering diversity of organisms, from the towering redwoods to the delicate mosses carpeting the forest floor. These leafy beings, unlike animals, are masters of the photosynthetic craft, harnessing sunlight to weave their own sustenance from air and water. Their emerald veins, coursing with chlorophyll, capture the sun's energy, transforming it into sugars that fuel their growth and fuel the very foundation of life on Earth. \"\n",
    "    },\n",
    "    {\n",
    "        'question': 'What is the capital of France?',\n",
    "        'context': 'France, context for its exquisite pastries and fashion, has a capital city. It\\'s a place where people speak French and enjoy baguettes. I once heard that the Eiffel Tower was built by aliens, but don\\'t quote me on that.'\n",
    "    },\n",
    "    {\n",
    "        'question': 'Who wrote \"Romeo and Juliet\"?',\n",
    "        'context': \"Hamlet, the Prince of Denmark, is Shakespeare's most complex and enigmatic character. Grappling with grief and betrayal, he contemplates life, death, and revenge in some of the Bard's most famous soliloquies. Consumed by the ghost of his murdered father's demands, Hamlet feigns madness to navigate the treacherous political landscape of Elsinore Castle\"\n",
    "    },\n",
    "]"
   ]
  },
  {
   "cell_type": "code",
   "execution_count": 10,
   "metadata": {},
   "outputs": [
    {
     "name": "stderr",
     "output_type": "stream",
     "text": [
      "\u001b[32m2023-12-15 16:53:16.948\u001b[0m | \u001b[1mINFO    \u001b[0m | \u001b[36muptrain.framework.evalllm\u001b[0m:\u001b[36mevaluate\u001b[0m:\u001b[36m100\u001b[0m - \u001b[1mSending evaluation request for rows 0 to <50 to the Uptrain\u001b[0m\n"
     ]
    },
    {
     "name": "stderr",
     "output_type": "stream",
     "text": [
      "\u001b[32m2023-12-15 16:53:24.807\u001b[0m | \u001b[1mINFO    \u001b[0m | \u001b[36muptrain.framework.evalllm\u001b[0m:\u001b[36mevaluate\u001b[0m:\u001b[36m100\u001b[0m - \u001b[1mSending evaluation request for rows 0 to <50 to the Uptrain\u001b[0m\n",
      "\u001b[32m2023-12-15 16:53:31.964\u001b[0m | \u001b[1mINFO    \u001b[0m | \u001b[36muptrain.framework.evalllm\u001b[0m:\u001b[36mevaluate\u001b[0m:\u001b[36m100\u001b[0m - \u001b[1mSending evaluation request for rows 0 to <50 to the Uptrain\u001b[0m\n"
     ]
    }
   ],
   "source": [
    "eval_llm = EvalLLM(openai_api_key=OPENAI_API_KEY)\n",
    "\n",
    "res = eval_llm.evaluate(\n",
    "    data = bad_data,\n",
    "    checks = [Evals.CONTEXT_RELEVANCE]\n",
    ")"
   ]
  },
  {
   "cell_type": "code",
   "execution_count": 11,
   "metadata": {},
   "outputs": [
    {
     "name": "stdout",
     "output_type": "stream",
     "text": [
      "[\n",
      "   {\n",
      "      \"question\": \"How does photosynthesis work?\",\n",
      "      \"context\": \"The plant kingdom, a vibrant tapestry of life, encompasses a staggering diversity of organisms, from the towering redwoods to the delicate mosses carpeting the forest floor. These leafy beings, unlike animals, are masters of the photosynthetic craft, harnessing sunlight to weave their own sustenance from air and water. Their emerald veins, coursing with chlorophyll, capture the sun's energy, transforming it into sugars that fuel their growth and fuel the very foundation of life on Earth. \",\n",
      "      \"score_context_relevance\": 0.5,\n",
      "      \"explanation_context_relevance\": \"1. Read the question: \\\"How does photosynthesis work?\\\"\\n2. Read the extracted context: \\\"The plant kingdom, a vibrant tapestry of life, encompasses a staggering diversity of organisms, from the towering redwoods to the delicate mosses carpeting the forest floor. These leafy beings, unlike animals, are masters of the photosynthetic craft, harnessing sunlight to weave their own sustenance from air and water. Their emerald veins, coursing with chlorophyll, capture the sun's energy, transforming it into sugars that fuel their growth and fuel the very foundation of life on Earth.\\\"\\n3. Compare the semantic similarity between the question and the extracted context.\\n4. The extracted context provides information about the plant kingdom, the diversity of organisms, the photosynthetic process, and the role of chlorophyll in capturing sunlight and transforming it into sugars.\\n5. The extracted context does not provide a direct and detailed explanation of how photosynthesis works, such as the specific steps involved or the chemical reactions that occur.\\n6. However, the extracted context does contain relevant information about the general concept of photosynthesis and the role of sunlight and chlorophyll in the process.\\n7. Therefore, the extracted context can provide a partial answer to the question but cannot answer it completely.\\n8. Based on the reasoning above, the correct choice is (B) The extracted context can give some relevant answer for the given question but can't answer it completely.\\n9. The score associated with choice (B) is 0.5.\\n\\nScore: 0.5\\n0.5\"\n",
      "   },\n",
      "   {\n",
      "      \"question\": \"What is the capital of France?\",\n",
      "      \"context\": \"France, context for its exquisite pastries and fashion, has a capital city. It's a place where people speak French and enjoy baguettes. I once heard that the Eiffel Tower was built by aliens, but don't quote me on that.\",\n",
      "      \"score_context_relevance\": 0.5,\n",
      "      \"explanation_context_relevance\": \"1. Read the question: \\\"What is the capital of France?\\\"\\n2. Read the extracted context: \\\"France, context for its exquisite pastries and fashion, has a capital city. It's a place where people speak French and enjoy baguettes. I once heard that the Eiffel Tower was built by aliens, but don't quote me on that.\\\"\\n3. Compare the extracted context with the question.\\n4. The extracted context mentions that France has a capital city, but it does not provide the actual name of the capital city.\\n5. Therefore, the extracted context can give some relevant information about France having a capital city, but it cannot answer the question completely.\\n6. The correct answer is (B) The extracted context can give some relevant answer for the given question but can't answer it completely.\\n7. The score associated with this choice is 0.5.\\n\\n0.5\\n0.5\"\n",
      "   },\n",
      "   {\n",
      "      \"question\": \"Who wrote \\\"Romeo and Juliet\\\"?\",\n",
      "      \"context\": \"Hamlet, the Prince of Denmark, is Shakespeare's most complex and enigmatic character. Grappling with grief and betrayal, he contemplates life, death, and revenge in some of the Bard's most famous soliloquies. Consumed by the ghost of his murdered father's demands, Hamlet feigns madness to navigate the treacherous political landscape of Elsinore Castle\",\n",
      "      \"score_context_relevance\": 0.0,\n",
      "      \"explanation_context_relevance\": \"1. The question is \\\"Who wrote 'Romeo and Juliet'?\\\"\\n2. The extracted context is about Hamlet, the Prince of Denmark, and his struggles with grief, betrayal, and revenge.\\n3. There is no mention of \\\"Romeo and Juliet\\\" or its author, Shakespeare, in the extracted context.\\n4. Therefore, the extracted context doesn't contain any information to answer the given question.\\n5. The correct answer is (C) The extracted context doesn't contain any information to answer the given question.\\n\\nScore: 0.0\\n0.0\"\n",
      "   }\n",
      "]\n"
     ]
    }
   ],
   "source": [
    "print(json.dumps(res,indent=3))"
   ]
  }
 ],
 "metadata": {
  "kernelspec": {
   "display_name": "Python 3 (ipykernel)",
   "language": "python",
   "name": "python3"
  },
  "language_info": {
   "codemirror_mode": {
    "name": "ipython",
    "version": 3
   },
   "file_extension": ".py",
   "mimetype": "text/x-python",
   "name": "python",
   "nbconvert_exporter": "python",
   "pygments_lexer": "ipython3",
   "version": "3.10.12"
  }
 },
 "nbformat": 4,
 "nbformat_minor": 5
}
