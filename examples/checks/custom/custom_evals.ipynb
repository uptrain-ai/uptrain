{
 "cells": [
  {
   "cell_type": "markdown",
   "metadata": {},
   "source": [
    "<a href=\"https://colab.research.google.com/github/uptrain-ai/uptrain/blob/main/examples/checks/custom/custom_evals.ipynb\" target=\"_parent\"><img src=\"https://colab.research.google.com/assets/colab-badge.svg\" alt=\"Open In Colab\"/></a>"
   ]
  },
  {
   "cell_type": "markdown",
   "metadata": {},
   "source": [
    "<h1 align=\"center\">\n",
    "  <a href=\"https://uptrain.ai\">\n",
    "    <img width=\"300\" src=\"https://user-images.githubusercontent.com/108270398/214240695-4f958b76-c993-4ddd-8de6-8668f4d0da84.png\" alt=\"uptrain\">\n",
    "  </a>\n",
    "</h1>"
   ]
  },
  {
   "cell_type": "markdown",
   "metadata": {},
   "source": [
    "<h1 style=\"text-align: center;\">Building Custom Evaluations using UpTrain</h1>"
   ]
  },
  {
   "cell_type": "markdown",
   "metadata": {},
   "source": [
    "UpTrain offers a multitude of [pre-built evaluations](https://docs.uptrain.ai/predefined-evaluations/overview) that use custom prompt templates to evaluate your model's performance. If you want to create your own custom prompt templates for evaluations, you can check out the [Custom Prompt Evals Tutorial](https://github.com/uptrain-ai/uptrain/blob/main/examples/checks/custom/custom_prompt_evals.ipynb). All of these evaluations involve making LLM calls. This is not always necessary. Some evaluations can be done with simple Python code. In this tutorial, we will show you how to create custom evaluations using Python code."
   ]
  },
  {
   "cell_type": "markdown",
   "metadata": {},
   "source": [
    " \n",
    "If you face any difficulties, need some help with using UpTrain or want to brainstorm on custom evaluations for your use-case, [speak to the maintainers of UpTrain here](https://calendly.com/uptrain-sourabh/30min).\n",
    " "
   ]
  },
  {
   "cell_type": "markdown",
   "metadata": {},
   "source": [
    "## Step 1: Install UpTrain by running 'pip install uptrain'"
   ]
  },
  {
   "cell_type": "code",
   "execution_count": 1,
   "metadata": {},
   "outputs": [],
   "source": [
    "#!pip install uptrain"
   ]
  },
  {
   "cell_type": "markdown",
   "metadata": {},
   "source": [
    "## Step 2: Let's define the custom evaluation\n",
    "\n",
    "Let's say you want to check how diverse the vocabulary of your model is. You can do this by checking the number of unique words in the output of your model. We will define a function that takes in the output of the model and returns the number of unique words in the output. "
   ]
  },
  {
   "cell_type": "code",
   "execution_count": 15,
   "metadata": {
    "tags": []
   },
   "outputs": [],
   "source": [
    "from uptrain.framework.base import Settings\n",
    "from uptrain.operators.base import TransformOp, register_custom_op, TYPE_TABLE_OUTPUT\n",
    "import polars as pl\n",
    "\n",
    "\n",
    "# Note: Make sure that the score column names start with \"score_\" in order for them to show up in the dashboard\n",
    "@register_custom_op\n",
    "class DiverseVocabularyEval(TransformOp):\n",
    "    col_in_text: str = \"response\"\n",
    "    col_out_score: str = \"score_diverse_vocabulary\"\n",
    "\n",
    "    def setup(self, settings: Settings):\n",
    "        return self\n",
    "\n",
    "    def run(self, data: pl.DataFrame) -> TYPE_TABLE_OUTPUT:\n",
    "        scores = data.get_column(self.col_in_text).map_elements(lambda s : round(len(set(s.split())) / len(s.split()), 2))\n",
    "        return {\"output\": data.with_columns([scores.alias(self.col_out_score)])}"
   ]
  },
  {
   "cell_type": "code",
   "execution_count": 16,
   "metadata": {},
   "outputs": [
    {
     "name": "stderr",
     "output_type": "stream",
     "text": [
      "\u001b[32m2024-03-20 16:52:40.204\u001b[0m | \u001b[34m\u001b[1mDEBUG   \u001b[0m | \u001b[36muptrain.framework.base\u001b[0m:\u001b[36mrun\u001b[0m:\u001b[36m217\u001b[0m - \u001b[34m\u001b[1mExecuting node: operator_0 for operator DAG: dummy\u001b[0m\n"
     ]
    }
   ],
   "source": [
    "from uptrain import EvalLLM\n",
    "from uptrain.operators.language.text import WordCount\n",
    "import os\n",
    "\n",
    "OPENAI_API_KEY = os.environ.get(\"OPENAI_API_KEY\")\n",
    "\n",
    "data = [\n",
    "    {\n",
    "        \"question\": \"What are the primary components of a cell?\",\n",
    "        \"response\": \"A cell comprises a cell membrane, cytoplasm, and nucleus. The cell membrane regulates substance passage, the cytoplasm contains organelles, and the nucleus houses genetic material.\"\n",
    "    },\n",
    "    {\n",
    "        \"question\": \"How does photosynthesis work?\",\n",
    "        \"response\": \"Photosynthesis converts light energy into chemical energy in plants, algae, and some bacteria. Chlorophyll absorbs sunlight, synthesizing glucose from carbon dioxide and water, with oxygen released as a byproduct.\"\n",
    "    },\n",
    "    {\n",
    "        \"question\": \"What are the key features of the Python programming language?\",\n",
    "        \"response\": \"Python is a high-level, interpreted language known for readability. It supports object-oriented, imperative, and functional programming with a large standard library, dynamic typing, and automatic memory management.\"\n",
    "    }\n",
    "]\n",
    "\n",
    "eval_llm = EvalLLM(openai_api_key=OPENAI_API_KEY)\n",
    "\n",
    "results = eval_llm.evaluate(\n",
    "    data=data,\n",
    "    checks=[\n",
    "        DiverseVocabularyEval(col_in_text=\"response\"),\n",
    "        WordCount(col_in_text=\"response\"), # You can also use the built-in operators offered by Uptrain\n",
    "    ],\n",
    ")"
   ]
  },
  {
   "cell_type": "code",
   "execution_count": 17,
   "metadata": {},
   "outputs": [
    {
     "data": {
      "text/plain": [
       "[{'question': 'What are the primary components of a cell?',\n",
       "  'response': 'A cell comprises a cell membrane, cytoplasm, and nucleus. The cell membrane regulates substance passage, the cytoplasm contains organelles, and the nucleus houses genetic material.',\n",
       "  'score_diverse_vocabulary': 0.84,\n",
       "  'word_count': 25},\n",
       " {'question': 'How does photosynthesis work?',\n",
       "  'response': 'Photosynthesis converts light energy into chemical energy in plants, algae, and some bacteria. Chlorophyll absorbs sunlight, synthesizing glucose from carbon dioxide and water, with oxygen released as a byproduct.',\n",
       "  'score_diverse_vocabulary': 0.93,\n",
       "  'word_count': 29},\n",
       " {'question': 'What are the key features of the Python programming language?',\n",
       "  'response': 'Python is a high-level, interpreted language known for readability. It supports object-oriented, imperative, and functional programming with a large standard library, dynamic typing, and automatic memory management.',\n",
       "  'score_diverse_vocabulary': 0.93,\n",
       "  'word_count': 27}]"
      ]
     },
     "execution_count": 17,
     "metadata": {},
     "output_type": "execute_result"
    }
   ],
   "source": [
    "results"
   ]
  }
 ],
 "metadata": {
  "kernelspec": {
   "display_name": "Python 3 (ipykernel)",
   "language": "python",
   "name": "python3"
  },
  "language_info": {
   "codemirror_mode": {
    "name": "ipython",
    "version": 3
   },
   "file_extension": ".py",
   "mimetype": "text/x-python",
   "name": "python",
   "nbconvert_exporter": "python",
   "pygments_lexer": "ipython3",
   "version": "3.11.7"
  }
 },
 "nbformat": 4,
 "nbformat_minor": 4
}
