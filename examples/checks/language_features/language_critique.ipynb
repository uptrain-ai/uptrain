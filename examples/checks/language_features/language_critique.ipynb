{
 "cells": [
  {
   "cell_type": "markdown",
   "id": "f6539807-d2be-47b6-a39e-aaacb1e6e0bb",
   "metadata": {},
   "source": [
    "<h1 align=\"center\">\n",
    "  <a href=\"https://uptrain.ai\">\n",
    "    <img width=\"300\" src=\"https://user-images.githubusercontent.com/108270398/214240695-4f958b76-c993-4ddd-8de6-8668f4d0da84.png\" alt=\"uptrain\">\n",
    "  </a>\n",
    "</h1>\n"
   ]
  },
  {
   "cell_type": "markdown",
   "id": "c2403e87-604e-44c6-8d9e-6c5806bc4cd7",
   "metadata": {},
   "source": [
    "<h1 style=\"text-align: center;\">Evaluating Critique Language</h1>\n"
   ]
  },
  {
   "cell_type": "markdown",
   "id": "2ef54d59-295e-4f15-a35f-33f4e86ecdd2",
   "metadata": {},
   "source": [
    "**What is Critique Language Evaluation?**: Critique Language Evaluation is a method used to assess the quality and effectiveness of language in a response, focusing on factors such as clarity, coherence, conciseness, and overall communication. It involves analyzing how well the language used in a response conveys the intended message, whether it addresses the question or issue comprehensively, and if it is free from ambiguity or confusion.\n",
    "\n",
    "For example, if a user asks a language model, \"Can you recommend a smartphone with a good camera for photography?\" A comprehensive and well-articulated response would not only list a suitable smartphone but also provide additional details such as camera specifications, features, and perhaps considerations for the user's specific photography needs. A critique of the language in this response would assess whether the information is clearly presented, if it directly addresses the user's request, and if it is communicated in a concise and understandable manner. The evaluation would focus on the quality of language use to ensure that the response is not only accurate but also effectively conveys the necessary information to the user.\n",
    "\n",
    "**Data schema**: The data schema required for this evaluation is as follows:\n",
    "\n",
    "| Column Name | Description                     |\n",
    "| ----------- | ------------------------------- |\n",
    "| response    | The response given by the model |"
   ]
  },
  {
   "cell_type": "markdown",
   "id": "76008cf6-dbd3-44bc-8556-86278868e746",
   "metadata": {},
   "source": [
    "Install UpTrain by running 'pip install uptrain'\n"
   ]
  },
  {
   "cell_type": "code",
   "execution_count": 1,
   "id": "90f4ff7d-10b9-482e-aa92-85c64ffc4057",
   "metadata": {},
   "outputs": [],
   "source": [
    "from uptrain import EvalLLM, Evals\n",
    "import json\n",
    "\n",
    "OPENAI_API_KEY = \"sk-*****************\"  # Insert your OpenAI key here"
   ]
  },
  {
   "cell_type": "code",
   "execution_count": 3,
   "id": "a540fc5a",
   "metadata": {},
   "outputs": [],
   "source": [
    "good_language_responses = [\n",
    "    {\"response\": \"The formula for calculating the area of a circle is A = πr^2, where A is the area and r is the radius.\"},\n",
    "\n",
    "    {\"response\": \"Certainly. Photosynthesis is the process by which green plants, algae, and some bacteria convert light energy into chemical energy. It involves the absorption of sunlight, carbon dioxide, and water to produce glucose and oxygen.\"},\n",
    "\n",
    "    {\"response\": \"The blue color of the sky during the day is due to Rayleigh scattering. Shorter wavelengths of light, such as blue and violet, are scattered more by the Earth's atmosphere, making the sky appear blue.\"},\n",
    "\n",
    "    {\"response\":\n",
    "        \"To solve a quadratic equation in the form ax^2 + bx + c = 0, you can use the quadratic formula: x = (-b ± √(b^2 - 4ac)) / 2a.\"},\n",
    "\n",
    "    {\"response\": \"The Declaration of Independence, adopted on July 4, 1776, declared the thirteen American colonies as independent states and no longer part of the British Empire. It expressed the principles of self-government and individual rights, serving as a foundational document for the United States.\"},\n",
    "]"
   ]
  },
  {
   "cell_type": "code",
   "execution_count": 4,
   "id": "d15fb087-3ed2-442f-9b23-35c7dbc6128e",
   "metadata": {},
   "outputs": [
    {
     "name": "stderr",
     "output_type": "stream",
     "text": [
      "\u001b[32m2023-12-19 16:15:11.932\u001b[0m | \u001b[1mINFO    \u001b[0m | \u001b[36muptrain.framework.evalllm\u001b[0m:\u001b[36mevaluate\u001b[0m:\u001b[36m100\u001b[0m - \u001b[1mSending evaluation request for rows 0 to <50 to the Uptrain\u001b[0m\n"
     ]
    },
    {
     "name": "stderr",
     "output_type": "stream",
     "text": [
      "\u001b[32m2023-12-19 16:15:17.465\u001b[0m | \u001b[1mINFO    \u001b[0m | \u001b[36muptrain.framework.evalllm\u001b[0m:\u001b[36mevaluate\u001b[0m:\u001b[36m100\u001b[0m - \u001b[1mSending evaluation request for rows 0 to <50 to the Uptrain\u001b[0m\n",
      "\u001b[32m2023-12-19 16:15:21.396\u001b[0m | \u001b[1mINFO    \u001b[0m | \u001b[36muptrain.framework.evalllm\u001b[0m:\u001b[36mevaluate\u001b[0m:\u001b[36m100\u001b[0m - \u001b[1mSending evaluation request for rows 0 to <50 to the Uptrain\u001b[0m\n"
     ]
    }
   ],
   "source": [
    "eval_llm = EvalLLM(openai_api_key=OPENAI_API_KEY)\n",
    "\n",
    "res = eval_llm.evaluate(\n",
    "    data=good_language_responses,\n",
    "    checks=[Evals.CRITIQUE_LANGUAGE]\n",
    ")"
   ]
  },
  {
   "cell_type": "code",
   "execution_count": 5,
   "id": "0a950849-0348-450f-add0-cea2c1423525",
   "metadata": {},
   "outputs": [
    {
     "name": "stdout",
     "output_type": "stream",
     "text": [
      "[\n",
      "   {\n",
      "      \"response\": \"The formula for calculating the area of a circle is A = \\u03c0r^2, where A is the area and r is the radius.\",\n",
      "      \"score_fluency\": 1.0,\n",
      "      \"score_coherence\": 1.0,\n",
      "      \"score_grammar\": 1.0,\n",
      "      \"score_politeness\": 1.0,\n",
      "      \"explanation_fluency\": \"The text is fluent and natural sounding.\",\n",
      "      \"explanation_coherence\": \"The text is coherent and the elements in the sentence stitch together to produce meaningful text.\",\n",
      "      \"explanation_grammar\": \"The grammar and word usage in the text is perfect.\",\n",
      "      \"explanation_politeness\": \"The tone of the text is neutral and polite.\"\n",
      "   },\n",
      "   {\n",
      "      \"response\": \"Certainly. Photosynthesis is the process by which green plants, algae, and some bacteria convert light energy into chemical energy. It involves the absorption of sunlight, carbon dioxide, and water to produce glucose and oxygen.\",\n",
      "      \"score_fluency\": 1.0,\n",
      "      \"score_coherence\": 1.0,\n",
      "      \"score_grammar\": 1.0,\n",
      "      \"score_politeness\": 1.0,\n",
      "      \"explanation_fluency\": \"The text flows smoothly and sounds natural.\",\n",
      "      \"explanation_coherence\": \"The information is presented in a logical and organized manner, with clear connections between the different elements.\",\n",
      "      \"explanation_grammar\": \"The grammar and word usage are correct.\",\n",
      "      \"explanation_politeness\": \"The tone is neutral and polite.\"\n",
      "   },\n",
      "   {\n",
      "      \"response\": \"The blue color of the sky during the day is due to Rayleigh scattering. Shorter wavelengths of light, such as blue and violet, are scattered more by the Earth's atmosphere, making the sky appear blue.\",\n",
      "      \"score_fluency\": 1.0,\n",
      "      \"score_coherence\": 1.0,\n",
      "      \"score_grammar\": 1.0,\n",
      "      \"score_politeness\": 1.0,\n",
      "      \"explanation_fluency\": \"The text flows smoothly and sounds natural.\",\n",
      "      \"explanation_coherence\": \"The text is coherent and the information is presented in a logical manner.\",\n",
      "      \"explanation_grammar\": \"The grammar and word usage are correct.\",\n",
      "      \"explanation_politeness\": \"The tone of the text is neutral and polite.\"\n",
      "   },\n",
      "   {\n",
      "      \"response\": \"To solve a quadratic equation in the form ax^2 + bx + c = 0, you can use the quadratic formula: x = (-b \\u00b1 \\u221a(b^2 - 4ac)) / 2a.\",\n",
      "      \"score_fluency\": 1.0,\n",
      "      \"score_coherence\": 1.0,\n",
      "      \"score_grammar\": 1.0,\n",
      "      \"score_politeness\": 1.0,\n",
      "      \"explanation_fluency\": \"The text is fluent and natural sounding.\",\n",
      "      \"explanation_coherence\": \"The text is coherent and presents a clear and logical explanation of how to solve a quadratic equation.\",\n",
      "      \"explanation_grammar\": \"The grammar and word usage in the text are perfect.\",\n",
      "      \"explanation_politeness\": \"The tone of the text is neutral and polite.\"\n",
      "   },\n",
      "   {\n",
      "      \"response\": \"The Declaration of Independence, adopted on July 4, 1776, declared the thirteen American colonies as independent states and no longer part of the British Empire. It expressed the principles of self-government and individual rights, serving as a foundational document for the United States.\",\n",
      "      \"score_fluency\": 1.0,\n",
      "      \"score_coherence\": 1.0,\n",
      "      \"score_grammar\": 1.0,\n",
      "      \"score_politeness\": 1.0,\n",
      "      \"explanation_fluency\": \"The text flows smoothly and sounds natural.\",\n",
      "      \"explanation_coherence\": \"The text is coherent and presents information in a logical manner.\",\n",
      "      \"explanation_grammar\": \"The grammar and word usage are perfect.\",\n",
      "      \"explanation_politeness\": \"The tone of the text is neutral and appropriate.\"\n",
      "   }\n",
      "]\n"
     ]
    }
   ],
   "source": [
    "print(json.dumps(res, indent=3))"
   ]
  },
  {
   "cell_type": "code",
   "execution_count": 6,
   "id": "0c373c9c",
   "metadata": {},
   "outputs": [],
   "source": [
    "poor_language_responses = [\n",
    "    {\"response\": \"Uh, yeah, so, like, you gotta use this formula thingy. It's A equals, um, pi times the radius squared. You know, pi, that number thing. And squared means, like, you multiply the radius by itself.\"},\n",
    "\n",
    "    {\"response\": \"Photosynthesis, right? So, plants and stuff, they do this thing with sunlight and, uh, carbon dioxide and water. It's like a chemical thing that makes, um, glucose and oxygen, or whatever.\"},\n",
    "\n",
    "    {\"response\": \"Oh, the sky being blue? It's, um, because of, like, this scattering thing. The sunlight and colors and, you know, shorter wavelengths and all that. So, blue. Yeah.\"},\n",
    "\n",
    "    {\"response\": \"Quadratic equation solving? Yeah, so, you use this formula stuff. It's got letters and numbers and things like minus and plus. Just plug it in and, you know, solve for the variable thing.\"},\n",
    "\n",
    "    {\"response\": \"So, the Declaration of Independence. Important, right? It's about, like, colonies and not being with Britain. Talks about self-government and rights. Foundational for the U.S. or something.\"},\n",
    "]"
   ]
  },
  {
   "cell_type": "code",
   "execution_count": 7,
   "id": "1d367008",
   "metadata": {},
   "outputs": [
    {
     "name": "stderr",
     "output_type": "stream",
     "text": [
      "\u001b[32m2023-12-19 16:15:25.344\u001b[0m | \u001b[1mINFO    \u001b[0m | \u001b[36muptrain.framework.evalllm\u001b[0m:\u001b[36mevaluate\u001b[0m:\u001b[36m100\u001b[0m - \u001b[1mSending evaluation request for rows 0 to <50 to the Uptrain\u001b[0m\n",
      "\u001b[32m2023-12-19 16:15:32.394\u001b[0m | \u001b[1mINFO    \u001b[0m | \u001b[36muptrain.framework.evalllm\u001b[0m:\u001b[36mevaluate\u001b[0m:\u001b[36m100\u001b[0m - \u001b[1mSending evaluation request for rows 0 to <50 to the Uptrain\u001b[0m\n",
      "\u001b[32m2023-12-19 16:15:38.938\u001b[0m | \u001b[1mINFO    \u001b[0m | \u001b[36muptrain.framework.evalllm\u001b[0m:\u001b[36mevaluate\u001b[0m:\u001b[36m100\u001b[0m - \u001b[1mSending evaluation request for rows 0 to <50 to the Uptrain\u001b[0m\n"
     ]
    }
   ],
   "source": [
    "res = eval_llm.evaluate(\n",
    "    data=poor_language_responses,\n",
    "    checks=[Evals.CRITIQUE_LANGUAGE]\n",
    ")"
   ]
  },
  {
   "cell_type": "code",
   "execution_count": 8,
   "id": "23751ef5",
   "metadata": {},
   "outputs": [
    {
     "name": "stdout",
     "output_type": "stream",
     "text": [
      "[\n",
      "   {\n",
      "      \"response\": \"Uh, yeah, so, like, you gotta use this formula thingy. It's A equals, um, pi times the radius squared. You know, pi, that number thing. And squared means, like, you multiply the radius by itself.\",\n",
      "      \"score_fluency\": 0.4,\n",
      "      \"score_coherence\": 0.6,\n",
      "      \"score_grammar\": 0.6,\n",
      "      \"score_politeness\": 1.0,\n",
      "      \"explanation_fluency\": \"The text is filled with hesitations, fillers, and informal language, making it sound very unnatural and hesitant.\",\n",
      "      \"explanation_coherence\": \"The text is somewhat coherent in terms of explaining the formula, but the excessive use of fillers and informal language makes it less clear.\",\n",
      "      \"explanation_grammar\": \"The text has some grammatical errors, such as missing articles and incorrect word choices.\",\n",
      "      \"explanation_politeness\": \"The tone of the text is polite and neutral.\"\n",
      "   },\n",
      "   {\n",
      "      \"response\": \"Photosynthesis, right? So, plants and stuff, they do this thing with sunlight and, uh, carbon dioxide and water. It's like a chemical thing that makes, um, glucose and oxygen, or whatever.\",\n",
      "      \"score_fluency\": 0.6,\n",
      "      \"score_coherence\": 0.8,\n",
      "      \"score_grammar\": 0.6,\n",
      "      \"score_politeness\": 1.0,\n",
      "      \"explanation_fluency\": \"The text has some hesitations and fillers, making it sound slightly unnatural.\",\n",
      "      \"explanation_coherence\": \"The text is coherent and the elements in the sentences stitch together to produce a meaningful explanation.\",\n",
      "      \"explanation_grammar\": \"The text has some grammatical errors like missing articles and incorrect word choices.\",\n",
      "      \"explanation_politeness\": \"The tone of the text is neutral and polite.\"\n",
      "   },\n",
      "   {\n",
      "      \"response\": \"Oh, the sky being blue? It's, um, because of, like, this scattering thing. The sunlight and colors and, you know, shorter wavelengths and all that. So, blue. Yeah.\",\n",
      "      \"score_fluency\": 0.6,\n",
      "      \"score_coherence\": 0.8,\n",
      "      \"score_grammar\": 0.6,\n",
      "      \"score_politeness\": 1.0,\n",
      "      \"explanation_fluency\": \"The text has some hesitations and fillers, but overall it flows reasonably well.\",\n",
      "      \"explanation_coherence\": \"The text is coherent and stays on topic, explaining why the sky is blue.\",\n",
      "      \"explanation_grammar\": \"The text has some informal language and lacks proper punctuation, but it is still understandable.\",\n",
      "      \"explanation_politeness\": \"The tone of the text is polite and neutral.\"\n",
      "   },\n",
      "   {\n",
      "      \"response\": \"Quadratic equation solving? Yeah, so, you use this formula stuff. It's got letters and numbers and things like minus and plus. Just plug it in and, you know, solve for the variable thing.\",\n",
      "      \"score_fluency\": 0.6,\n",
      "      \"score_coherence\": 0.8,\n",
      "      \"score_grammar\": 0.6,\n",
      "      \"score_politeness\": 1.0,\n",
      "      \"explanation_fluency\": \"The text is somewhat fluent but has some pauses and hesitations.\",\n",
      "      \"explanation_coherence\": \"The text is coherent and the elements in the sentences and paragraphs stitch together to produce meaningful text.\",\n",
      "      \"explanation_grammar\": \"The text has some grammatical errors and informal language usage.\",\n",
      "      \"explanation_politeness\": \"The tone of the text is polite and appropriate.\"\n",
      "   },\n",
      "   {\n",
      "      \"response\": \"So, the Declaration of Independence. Important, right? It's about, like, colonies and not being with Britain. Talks about self-government and rights. Foundational for the U.S. or something.\",\n",
      "      \"score_fluency\": 0.8,\n",
      "      \"score_coherence\": 0.8,\n",
      "      \"score_grammar\": 0.8,\n",
      "      \"score_politeness\": 1.0,\n",
      "      \"explanation_fluency\": \"The text flows smoothly and sounds natural.\",\n",
      "      \"explanation_coherence\": \"The text is coherent and presents the main ideas about the Declaration of Independence.\",\n",
      "      \"explanation_grammar\": \"The grammar and word usage are generally correct.\",\n",
      "      \"explanation_politeness\": \"The tone of the text is neutral and polite.\"\n",
      "   }\n",
      "]\n"
     ]
    }
   ],
   "source": [
    "print(json.dumps(res, indent=3))"
   ]
  }
 ],
 "metadata": {
  "kernelspec": {
   "display_name": "Python 3 (ipykernel)",
   "language": "python",
   "name": "python3"
  },
  "language_info": {
   "codemirror_mode": {
    "name": "ipython",
    "version": 3
   },
   "file_extension": ".py",
   "mimetype": "text/x-python",
   "name": "python",
   "nbconvert_exporter": "python",
   "pygments_lexer": "ipython3",
   "version": "3.10.12"
  }
 },
 "nbformat": 4,
 "nbformat_minor": 5
}
