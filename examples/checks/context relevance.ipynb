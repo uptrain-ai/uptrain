{
 "cells": [
  {
   "cell_type": "markdown",
   "id": "f6539807-d2be-47b6-a39e-aaacb1e6e0bb",
   "metadata": {},
   "source": [
    "<h1 align=\"center\">\n",
    "  <a href=\"https://uptrain.ai\">\n",
    "    <img width=\"300\" src=\"https://user-images.githubusercontent.com/108270398/214240695-4f958b76-c993-4ddd-8de6-8668f4d0da84.png\" alt=\"uptrain\">\n",
    "  </a>\n",
    "</h1>"
   ]
  },
  {
   "cell_type": "markdown",
   "id": "c2403e87-604e-44c6-8d9e-6c5806bc4cd7",
   "metadata": {},
   "source": [
    "<h1 style=\"text-align: center;\">Evaluating Context Relevance</h1>"
   ]
  },
  {
   "cell_type": "markdown",
   "id": "2ef54d59-295e-4f15-a35f-33f4e86ecdd2",
   "metadata": {},
   "source": [
    "**What is Context Relevance?**: Context relevance score measures if the retrieved context has enough information to answer the question being asked. A bad context reduces the chances of the model giving a relevant response to the question asked, as well as leads to hallucinations.\n",
    "\n",
    "For example, if the question asked is \"How does a fan cool a room?\" and the context provided is \"A fan is a machine used to create flow within a fluid, typically a gas such as air.\" then the response given by the model should be relevant to the question asked. However, if the context provided is \"A fan is a person who is very interested in a particular activity or subject.\" then the response given by the model will not be relevant to the question asked.\n",
    "\n",
    "[Read our blog to learn more about context retrieval in LLMs.](https://uptrain.ai/blog/a-comprehensive-guide-to-context-retrieval-in-llms)\n",
    "\n",
    "**Data schema**: The data schema required for this evaluation is as follows:\n",
    "\n",
    "| Column Name | Description |\n",
    "| ----------- | ----------- |\n",
    "| question | The question asked by the user |\n",
    "| context | Additional information provided that can be used to answer the question |"
   ]
  },
  {
   "cell_type": "markdown",
   "id": "559b24f9-b77c-4b1d-bc03-525febecf00b",
   "metadata": {},
   "source": [
    " \n",
    "If you face any difficulties, need some help with using UpTrain or want to brainstorm on custom evaluations for your use-case, [speak to the maintainers of UpTrain here](https://calendly.com/uptrain-sourabh/30min).\n",
    " "
   ]
  },
  {
   "cell_type": "markdown",
   "id": "76008cf6-dbd3-44bc-8556-86278868e746",
   "metadata": {},
   "source": [
    "## Step 1: Install UpTrain by running 'pip install uptrain'"
   ]
  },
  {
   "cell_type": "code",
   "execution_count": 1,
   "id": "75f70188-1a0e-45a0-a075-26dcf96fca84",
   "metadata": {},
   "outputs": [],
   "source": [
    "#!pip install uptrain"
   ]
  },
  {
   "cell_type": "markdown",
   "id": "40b0b5ce-3833-4d0b-a170-615b8eff883a",
   "metadata": {},
   "source": [
    "## Step 2: Let's define our dataset to run evaluations upon"
   ]
  },
  {
   "cell_type": "code",
   "execution_count": 9,
   "id": "11a472a8",
   "metadata": {},
   "outputs": [],
   "source": [
    "cases_with_good_context = [\n",
    "    {\n",
    "        'question': 'How does photosynthesis work?',\n",
    "        'context': 'Like tiny solar factories, plants trap sunlight in their leaves using a green pigment called chlorophyll. This light energy fuels a magical process called photosynthesis, where plants combine water and carbon dioxide to make their own food (glucose) and release precious oxygen back into the air. This energy-packed glucose fuels their growth and keeps them thriving, making them the powerhouses of our planet\\'s ecosystems.'\n",
    "    },\n",
    "    {\n",
    "        'question': 'What is the capital of France?',\n",
    "        'context': 'Paris, the City of Lights, is the capital of France and a global center for art, fashion, gastronomy, and culture. Its 19th-century cityscape is crisscrossed by wide boulevards and the Seine River. Beyond such iconic landmarks as the Eiffel Tower and the 12th-century Notre Dame Cathedral, the city is known for its charming cafes, trendy boutiques, and rich history. '\n",
    "    },\n",
    "    {\n",
    "        'question': 'Who wrote \"Romeo and Juliet\"?',\n",
    "        'context': \"Romeo and Juliet is a timeless tragedy by William Shakespeare about two star-crossed lovers from feuding families, the Montagues and the Capulets. Despite the bitter rivalry between their houses, Romeo and Juliet fall passionately in love at first sight. Their clandestine romance blossoms amidst the danger and secrecy of their forbidden relationship. However, fate intervenes with a series of misunderstandings and tragic circumstances, ultimately leading to their deaths.\"\n",
    "    }\n",
    "]\n",
    "\n",
    "cases_with_bad_context = [\n",
    "    {\n",
    "        'question': 'What is the capital of France?',\n",
    "        'context': 'France, context for its exquisite pastries and fashion, has a capital city. It\\'s a place where people speak French and enjoy baguettes. I once heard that the Eiffel Tower was built by aliens, but don\\'t quote me on that.'\n",
    "    },\n",
    "    {\n",
    "        'question': 'Who wrote \"Romeo and Juliet\"?',\n",
    "        'context': \"Hamlet, the Prince of Denmark, is Shakespeare's most complex and enigmatic character. Grappling with grief and betrayal, he contemplates life, death, and revenge in some of the Bard's most famous soliloquies. Consumed by the ghost of his murdered father's demands, Hamlet feigns madness to navigate the treacherous political landscape of Elsinore Castle\"\n",
    "    },\n",
    "]\n",
    "\n",
    "data = cases_with_good_context + cases_with_bad_context"
   ]
  },
  {
   "cell_type": "markdown",
   "id": "32f9f8c5-2c73-4d29-be80-2d016376a2c1",
   "metadata": {},
   "source": [
    "## Step 3: Running evaluations using UpTrain OSS"
   ]
  },
  {
   "cell_type": "code",
   "execution_count": 10,
   "id": "78b0aa6b",
   "metadata": {},
   "outputs": [
    {
     "name": "stderr",
     "output_type": "stream",
     "text": [
      "\u001b[32m2024-01-11 13:50:19.382\u001b[0m | \u001b[1mINFO    \u001b[0m | \u001b[36muptrain.framework.evalllm\u001b[0m:\u001b[36mevaluate\u001b[0m:\u001b[36m100\u001b[0m - \u001b[1mSending evaluation request for rows 0 to <50 to the Uptrain\u001b[0m\n"
     ]
    }
   ],
   "source": [
    "from uptrain import EvalLLM, Evals\n",
    "import json\n",
    "\n",
    "OPENAI_API_KEY = \"sk-********************\"  # Insert your OpenAI key here\n",
    "\n",
    "eval_llm = EvalLLM(openai_api_key=OPENAI_API_KEY)\n",
    "\n",
    "res = eval_llm.evaluate(\n",
    "    data = data,\n",
    "    checks = [Evals.CONTEXT_RELEVANCE]\n",
    ")"
   ]
  },
  {
   "cell_type": "code",
   "execution_count": 11,
   "id": "0a950849-0348-450f-add0-cea2c1423525",
   "metadata": {
    "scrolled": true
   },
   "outputs": [
    {
     "name": "stdout",
     "output_type": "stream",
     "text": [
      "[\n",
      "   {\n",
      "      \"question\": \"How does photosynthesis work?\",\n",
      "      \"context\": \"Like tiny solar factories, plants trap sunlight in their leaves using a green pigment called chlorophyll. This light energy fuels a magical process called photosynthesis, where plants combine water and carbon dioxide to make their own food (glucose) and release precious oxygen back into the air. This energy-packed glucose fuels their growth and keeps them thriving, making them the powerhouses of our planet's ecosystems.\",\n",
      "      \"score_context_relevance\": 1.0,\n",
      "      \"explanation_context_relevance\": \"The question is asking about how photosynthesis works. The extracted context provides a clear explanation of how photosynthesis works, describing the process of plants trapping sunlight, using chlorophyll, and combining water and carbon dioxide to make their own food and release oxygen. Therefore, the extracted context can answer the given question completely.\\n\\n1.0\\n1.0\"\n",
      "   },\n",
      "   {\n",
      "      \"question\": \"What is the capital of France?\",\n",
      "      \"context\": \"Paris, the City of Lights, is the capital of France and a global center for art, fashion, gastronomy, and culture. Its 19th-century cityscape is crisscrossed by wide boulevards and the Seine River. Beyond such iconic landmarks as the Eiffel Tower and the 12th-century Notre Dame Cathedral, the city is known for its charming cafes, trendy boutiques, and rich history. \",\n",
      "      \"score_context_relevance\": 1.0,\n",
      "      \"explanation_context_relevance\": \"The question is \\\"What is the capital of France?\\\" The extracted context states \\\"Paris, the City of Lights, is the capital of France.\\\" This directly answers the given question completely. Therefore, the correct choice is (A) The extracted context can answer the given question completely.\\n\\n1.0\\n1.0\"\n",
      "   },\n",
      "   {\n",
      "      \"question\": \"Who wrote \\\"Romeo and Juliet\\\"?\",\n",
      "      \"context\": \"Romeo and Juliet is a timeless tragedy by William Shakespeare about two star-crossed lovers from feuding families, the Montagues and the Capulets. Despite the bitter rivalry between their houses, Romeo and Juliet fall passionately in love at first sight. Their clandestine romance blossoms amidst the danger and secrecy of their forbidden relationship. However, fate intervenes with a series of misunderstandings and tragic circumstances, ultimately leading to their deaths.\",\n",
      "      \"score_context_relevance\": 1.0,\n",
      "      \"explanation_context_relevance\": \"Step 1: The question is asking for the author of \\\"Romeo and Juliet\\\".\\nStep 2: The extracted context mentions \\\"Romeo and Juliet\\\" and the author, William Shakespeare.\\nStep 3: The context provides the complete and relevant information to answer the question.\\nStep 4: Therefore, the correct answer is (A) The extracted context can answer the given question completely.\\n\\n1.0\\n1.0\"\n",
      "   },\n",
      "   {\n",
      "      \"question\": \"What is the capital of France?\",\n",
      "      \"context\": \"France, context for its exquisite pastries and fashion, has a capital city. It's a place where people speak French and enjoy baguettes. I once heard that the Eiffel Tower was built by aliens, but don't quote me on that.\",\n",
      "      \"score_context_relevance\": 0.5,\n",
      "      \"explanation_context_relevance\": \"Step 1: The question is \\\"What is the capital of France?\\\"\\nStep 2: The extracted context mentions France and talks about its pastries, fashion, language, and the Eiffel Tower.\\nStep 3: The context does not directly mention the capital of France.\\nStep 4: The context does not provide a direct answer to the question, but it does contain relevant information about France.\\nStep 5: Therefore, the extracted context can give some relevant answer for the given question but can't answer it completely. \\n\\n0.5\\n0.5\"\n",
      "   },\n",
      "   {\n",
      "      \"question\": \"Who wrote \\\"Romeo and Juliet\\\"?\",\n",
      "      \"context\": \"Hamlet, the Prince of Denmark, is Shakespeare's most complex and enigmatic character. Grappling with grief and betrayal, he contemplates life, death, and revenge in some of the Bard's most famous soliloquies. Consumed by the ghost of his murdered father's demands, Hamlet feigns madness to navigate the treacherous political landscape of Elsinore Castle\",\n",
      "      \"score_context_relevance\": 0.0,\n",
      "      \"explanation_context_relevance\": \"The question is asking about the author of \\\"Romeo and Juliet\\\", but the extracted context is about Hamlet, the Prince of Denmark, and his struggles. There is no mention of \\\"Romeo and Juliet\\\" or its author in the extracted context. Therefore, the extracted context doesn't contain any information to answer the given question.\\n\\n0.0\\n0.0\"\n",
      "   }\n",
      "]\n"
     ]
    }
   ],
   "source": [
    "print(json.dumps(res,indent=3))"
   ]
  },
  {
   "cell_type": "markdown",
   "id": "747d47a1-962c-4b8c-b819-f4e0936df068",
   "metadata": {},
   "source": [
    "## Step 4: Let's look at some of the results "
   ]
  },
  {
   "cell_type": "markdown",
   "id": "435781ea-a546-49b7-9e63-94b6f23f9b13",
   "metadata": {},
   "source": [
    "### Sample with good context"
   ]
  },
  {
   "cell_type": "code",
   "execution_count": 12,
   "id": "1815ba00-2376-45e7-8280-61781d87f661",
   "metadata": {
    "scrolled": true
   },
   "outputs": [
    {
     "name": "stdout",
     "output_type": "stream",
     "text": [
      "{\n",
      "   \"question\": \"How does photosynthesis work?\",\n",
      "   \"context\": \"Like tiny solar factories, plants trap sunlight in their leaves using a green pigment called chlorophyll. This light energy fuels a magical process called photosynthesis, where plants combine water and carbon dioxide to make their own food (glucose) and release precious oxygen back into the air. This energy-packed glucose fuels their growth and keeps them thriving, making them the powerhouses of our planet's ecosystems.\",\n",
      "   \"score_context_relevance\": 1.0,\n",
      "   \"explanation_context_relevance\": \"The question is asking about how photosynthesis works. The extracted context provides a clear explanation of how photosynthesis works, describing the process of plants trapping sunlight, using chlorophyll, and combining water and carbon dioxide to make their own food and release oxygen. Therefore, the extracted context can answer the given question completely.\\n\\n1.0\\n1.0\"\n",
      "}\n"
     ]
    }
   ],
   "source": [
    "print(json.dumps(res[0],indent=3))"
   ]
  },
  {
   "cell_type": "markdown",
   "id": "54d66ed4-e8c0-46f8-b973-ffaf18a2beae",
   "metadata": {},
   "source": [
    "### Sample with bad context"
   ]
  },
  {
   "cell_type": "code",
   "execution_count": 13,
   "id": "d16b37a5-527e-475c-b384-8cc057d4f8ea",
   "metadata": {
    "scrolled": true
   },
   "outputs": [
    {
     "name": "stdout",
     "output_type": "stream",
     "text": [
      "{\n",
      "   \"question\": \"Who wrote \\\"Romeo and Juliet\\\"?\",\n",
      "   \"context\": \"Hamlet, the Prince of Denmark, is Shakespeare's most complex and enigmatic character. Grappling with grief and betrayal, he contemplates life, death, and revenge in some of the Bard's most famous soliloquies. Consumed by the ghost of his murdered father's demands, Hamlet feigns madness to navigate the treacherous political landscape of Elsinore Castle\",\n",
      "   \"score_context_relevance\": 0.0,\n",
      "   \"explanation_context_relevance\": \"The question is asking about the author of \\\"Romeo and Juliet\\\", but the extracted context is about Hamlet, the Prince of Denmark, and his struggles. There is no mention of \\\"Romeo and Juliet\\\" or its author in the extracted context. Therefore, the extracted context doesn't contain any information to answer the given question.\\n\\n0.0\\n0.0\"\n",
      "}\n"
     ]
    }
   ],
   "source": [
    "print(json.dumps(res[4],indent=3))"
   ]
  },
  {
   "cell_type": "markdown",
   "id": "7b04b04d-1b07-4675-9dc2-3ddba468d4e7",
   "metadata": {},
   "source": [
    "## [Optional] Step 5: UpTrain Managed Service and Dashboards"
   ]
  },
  {
   "cell_type": "markdown",
   "id": "17d5d1e9-b258-4c5f-b18c-db5beaafdda1",
   "metadata": {},
   "source": [
    "You can create a free UpTrain account [here](https://uptrain.ai/) and get free trial credits. If you want more trial credits, [book a call with the maintainers of UpTrain here](https://calendly.com/uptrain-sourabh/30min)."
   ]
  },
  {
   "cell_type": "markdown",
   "id": "af2e9cd9-e1c8-4dd9-9bcc-70551e1e42a9",
   "metadata": {},
   "source": [
    "UpTrain Managed service provides:\n",
    "1. Dashboards with advanced drill-down and filtering options\n",
    "2. Insights and common topics among failing cases\n",
    "3. Observability and real-time monitoring of production data\n",
    "4. Regression testing via seamless integration with your CI/CD pipelines"
   ]
  },
  {
   "cell_type": "code",
   "execution_count": 14,
   "id": "90d8aa5d-3281-44fd-b4c7-11eb25963f16",
   "metadata": {},
   "outputs": [
    {
     "name": "stderr",
     "output_type": "stream",
     "text": [
      "\u001b[32m2024-01-11 13:50:26.011\u001b[0m | \u001b[1mINFO    \u001b[0m | \u001b[36muptrain.framework.remote\u001b[0m:\u001b[36mlog_and_evaluate\u001b[0m:\u001b[36m507\u001b[0m - \u001b[1mSending evaluation request for rows 0 to <50 to the Uptrain server\u001b[0m\n"
     ]
    }
   ],
   "source": [
    "from uptrain import APIClient, Evals\n",
    "import json\n",
    "\n",
    "UPTRAIN_API_KEY = \"up-********************\"  # Insert your UpTrain key here\n",
    "\n",
    "uptrain_client = APIClient(uptrain_api_key=UPTRAIN_API_KEY)\n",
    "\n",
    "res = uptrain_client.log_and_evaluate(\n",
    "    \"Sample-context-relevance-evals\",\n",
    "    data,\n",
    "    [Evals.CONTEXT_RELEVANCE]\n",
    ")"
   ]
  },
  {
   "cell_type": "code",
   "execution_count": 15,
   "id": "67aa6cdf-bb61-4e5f-be04-0e28463d3f41",
   "metadata": {
    "scrolled": true
   },
   "outputs": [
    {
     "name": "stdout",
     "output_type": "stream",
     "text": [
      "[\n",
      "   {\n",
      "      \"question\": \"How does photosynthesis work?\",\n",
      "      \"context\": \"Like tiny solar factories, plants trap sunlight in their leaves using a green pigment called chlorophyll. This light energy fuels a magical process called photosynthesis, where plants combine water and carbon dioxide to make their own food (glucose) and release precious oxygen back into the air. This energy-packed glucose fuels their growth and keeps them thriving, making them the powerhouses of our planet's ecosystems.\",\n",
      "      \"score_context_relevance\": 1.0,\n",
      "      \"explanation_context_relevance\": \"The question is asking about how photosynthesis works. The extracted context provides information about how plants trap sunlight using chlorophyll, and how they use this light energy to combine water and carbon dioxide to make their own food (glucose) and release oxygen. This information directly addresses the process of photosynthesis, explaining how it works in plants. Therefore, the extracted context can answer the given question completely.\\n\\n1.0\\n1.0\"\n",
      "   },\n",
      "   {\n",
      "      \"question\": \"What is the capital of France?\",\n",
      "      \"context\": \"Paris, the City of Lights, is the capital of France and a global center for art, fashion, gastronomy, and culture. Its 19th-century cityscape is crisscrossed by wide boulevards and the Seine River. Beyond such iconic landmarks as the Eiffel Tower and the 12th-century Notre Dame Cathedral, the city is known for its charming cafes, trendy boutiques, and rich history. \",\n",
      "      \"score_context_relevance\": 1.0,\n",
      "      \"explanation_context_relevance\": \"The question is asking for the capital of France, and the extracted context clearly states that Paris is the capital of France. Therefore, the extracted context can answer the given question completely.\\n\\n1.0\\n1.0\"\n",
      "   },\n",
      "   {\n",
      "      \"question\": \"Who wrote \\\"Romeo and Juliet\\\"?\",\n",
      "      \"context\": \"Romeo and Juliet is a timeless tragedy by William Shakespeare about two star-crossed lovers from feuding families, the Montagues and the Capulets. Despite the bitter rivalry between their houses, Romeo and Juliet fall passionately in love at first sight. Their clandestine romance blossoms amidst the danger and secrecy of their forbidden relationship. However, fate intervenes with a series of misunderstandings and tragic circumstances, ultimately leading to their deaths.\",\n",
      "      \"score_context_relevance\": 1.0,\n",
      "      \"explanation_context_relevance\": \"The question is asking for the author of \\\"Romeo and Juliet.\\\" The extracted context mentions that \\\"Romeo and Juliet\\\" was written by William Shakespeare. Therefore, the extracted context can answer the given question completely.\\n\\n1.0\\n1.0\"\n",
      "   },\n",
      "   {\n",
      "      \"question\": \"What is the capital of France?\",\n",
      "      \"context\": \"France, context for its exquisite pastries and fashion, has a capital city. It's a place where people speak French and enjoy baguettes. I once heard that the Eiffel Tower was built by aliens, but don't quote me on that.\",\n",
      "      \"score_context_relevance\": 0.0,\n",
      "      \"explanation_context_relevance\": \"Step 1: The question is \\\"What is the capital of France?\\\"\\nStep 2: The extracted context mentions France and describes it as a place where people speak French and enjoy baguettes. It also mentions the Eiffel Tower.\\nStep 3: The context does not directly answer the question of what the capital of France is.\\nStep 4: The context does not contain any relevant information to answer the given question.\\nStep 5: Therefore, the correct choice is (C) The extracted context doesn't contain any information to answer the given question.\\n\\n0.0\\n0.0\"\n",
      "   },\n",
      "   {\n",
      "      \"question\": \"Who wrote \\\"Romeo and Juliet\\\"?\",\n",
      "      \"context\": \"Hamlet, the Prince of Denmark, is Shakespeare's most complex and enigmatic character. Grappling with grief and betrayal, he contemplates life, death, and revenge in some of the Bard's most famous soliloquies. Consumed by the ghost of his murdered father's demands, Hamlet feigns madness to navigate the treacherous political landscape of Elsinore Castle\",\n",
      "      \"score_context_relevance\": 0.0,\n",
      "      \"explanation_context_relevance\": \"The question is asking for the author of \\\"Romeo and Juliet.\\\" The extracted context, however, talks about Hamlet, the Prince of Denmark, and his struggles with grief and betrayal. There is no mention of \\\"Romeo and Juliet\\\" or its author in the extracted context. Therefore, the extracted context doesn't contain any information to answer the given question.\\n\\n0.0\\n0.0\"\n",
      "   }\n",
      "]\n"
     ]
    }
   ],
   "source": [
    "print(json.dumps(res,indent=3))"
   ]
  },
  {
   "cell_type": "markdown",
   "id": "fa2d1b06-19e2-46a5-a19c-6d4ab76ad8f0",
   "metadata": {},
   "source": [
    "### Dashboards: \n",
    "Histogram of score vs number of cases with that score"
   ]
  },
  {
   "cell_type": "markdown",
   "id": "ead15c70-889b-455d-8586-a2600ed88292",
   "metadata": {},
   "source": [
    "### Insights:\n",
    "You can filter failure cases and generate common topics among them. This can help identify the core issue and help fix it"
   ]
  }
 ],
 "metadata": {
  "kernelspec": {
   "display_name": "Python 3 (ipykernel)",
   "language": "python",
   "name": "python3"
  },
  "language_info": {
   "codemirror_mode": {
    "name": "ipython",
    "version": 3
   },
   "file_extension": ".py",
   "mimetype": "text/x-python",
   "name": "python",
   "nbconvert_exporter": "python",
   "pygments_lexer": "ipython3",
   "version": "3.11.4"
  }
 },
 "nbformat": 4,
 "nbformat_minor": 5
}
