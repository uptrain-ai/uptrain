{
 "cells": [
  {
   "cell_type": "markdown",
   "id": "a59d919d",
   "metadata": {},
   "source": [
    "<a href=\"https://colab.research.google.com/github/uptrain-ai/uptrain/blob/main/examples/checks/context_awareness/factual_accuracy.ipynb\" target=\"_parent\"><img src=\"https://colab.research.google.com/assets/colab-badge.svg\" alt=\"Open In Colab\"/></a>"
   ]
  },
  {
   "cell_type": "markdown",
   "id": "f6539807-d2be-47b6-a39e-aaacb1e6e0bb",
   "metadata": {},
   "source": [
    "<h1 align=\"center\">\n",
    "  <a href=\"https://uptrain.ai\">\n",
    "    <img width=\"300\" src=\"https://user-images.githubusercontent.com/108270398/214240695-4f958b76-c993-4ddd-8de6-8668f4d0da84.png\" alt=\"uptrain\">\n",
    "  </a>\n",
    "</h1>"
   ]
  },
  {
   "cell_type": "markdown",
   "id": "c2403e87-604e-44c6-8d9e-6c5806bc4cd7",
   "metadata": {},
   "source": [
    "<h1 style=\"text-align: center;\">Evaluating Factual Accuracy</h1>"
   ]
  },
  {
   "cell_type": "markdown",
   "id": "2ef54d59-295e-4f15-a35f-33f4e86ecdd2",
   "metadata": {},
   "source": [
    "**What is Factual Accuracy?**: Factual accuracy is the degree to which a claim is true. It is crucial in fields like Healthcare, Finance, and Law, where decisions are made based on the accuracy of the information provided. \n",
    "\n",
    "For example, the claim \"The sky is blue\" is factually accurate, while the claim \"The sky is green\" is not. If LLMs are to be used in a field like Healthcare, it is important to know how accurate the information they provide is. If a patient is diagnosed with a disease, the treatment plan will be based on the accuracy of the diagnosis. If the diagnosis is inaccurate, the treatment plan will be ineffective. This could be the difference between life and death for the patient.\n",
    "\n",
    "**Data schema**: The data schema required for this evaluation is as follows:\n",
    "\n",
    "| Column Name | Description |\n",
    "| ----------- | ----------- |\n",
    "| question | The question asked by the user |\n",
    "| context | Additional information provided that can be used to answer the question |\n",
    "| response | The response given by the model |"
   ]
  },
  {
   "cell_type": "markdown",
   "id": "76008cf6-dbd3-44bc-8556-86278868e746",
   "metadata": {},
   "source": [
    "Install UpTrain by running 'pip install uptrain'"
   ]
  },
  {
   "cell_type": "code",
   "execution_count": 8,
   "id": "90f4ff7d-10b9-482e-aa92-85c64ffc4057",
   "metadata": {},
   "outputs": [],
   "source": [
    "from uptrain import EvalLLM, Evals\n",
    "import json\n",
    "\n",
    "OPENAI_API_KEY = \"sk-*****************\"  # Insert your OpenAI key here"
   ]
  },
  {
   "cell_type": "markdown",
   "metadata": {},
   "source": [
    "Let's first evaluate some data with factually correct responses (with respect to the context)."
   ]
  },
  {
   "cell_type": "code",
   "execution_count": 10,
   "id": "11a472a8",
   "metadata": {},
   "outputs": [],
   "source": [
    "good_data = [\n",
    "   {\n",
    "      \"question\": \"What causes diabetes?\",\n",
    "      \"context\": \"Diabetes is a metabolic disorder characterized by high blood sugar levels. It is primarily caused by a combination of genetic and environmental factors, including obesity and lack of physical activity.\",\n",
    "      \"response\": \"Diabetes is primarily caused by a combination of genetic and environmental factors, including obesity and lack of physical activity.\"\n",
    "   },\n",
    "   {\n",
    "      \"question\": \"How is pneumonia treated?\",\n",
    "      \"context\": \"Pneumonia is an infection that inflames the air sacs in one or both lungs. It is typically treated with antibiotics, rest, and supportive care. The choice of antibiotics depends on the type of pneumonia and its severity.\",\n",
    "      \"response\": \"Pneumonia is typically treated with antibiotics, rest, and supportive care. The choice of antibiotics depends on the type of pneumonia and its severity.\"\n",
    "   },\n",
    "   {\n",
    "      \"question\": \"Is the flu vaccine effective?\",\n",
    "      \"context\": \"The influenza vaccine is recommended to prevent seasonal flu. Yes, the flu vaccine is generally effective in preventing or reducing the severity of influenza. However, its effectiveness can vary based on factors such as age and the match between the vaccine and circulating flu strains.\",\n",
    "      \"response\": \"Yes, the flu vaccine is generally effective in preventing or reducing the severity of influenza. However, its effectiveness can vary based on factors such as age and the match between the vaccine and circulating flu strains.\"\n",
    "   },\n",
    "   {\n",
    "      \"question\": \"What are the symptoms of a heart attack?\",\n",
    "      \"context\": \"A heart attack, or myocardial infarction, occurs when the blood supply to the heart muscle is blocked. Symptoms of a heart attack may include chest pain or discomfort, shortness of breath, nausea, lightheadedness, and pain or discomfort in one or both arms, the jaw, neck, or back.\",\n",
    "      \"response\": \"Symptoms of a heart attack may include chest pain or discomfort, shortness of breath, nausea, lightheadedness, and pain or discomfort in one or both arms, the jaw, neck, or back.\"\n",
    "   },\n",
    "   {\n",
    "      \"question\": \"Can stress cause physical health problems?\",\n",
    "      \"context\": \"Stress is the body's response to challenges or threats. Yes, chronic stress can contribute to various physical health problems, including cardiovascular issues, digestive problems, and a weakened immune system.\",\n",
    "      \"response\": \"Yes, chronic stress can contribute to various physical health problems, including cardiovascular issues, digestive problems, and a weakened immune system.\"\n",
    "   }\n",
    "]"
   ]
  },
  {
   "cell_type": "code",
   "execution_count": 11,
   "id": "d15fb087-3ed2-442f-9b23-35c7dbc6128e",
   "metadata": {},
   "outputs": [
    {
     "name": "stderr",
     "output_type": "stream",
     "text": [
      "\u001b[32m2023-12-15 16:46:04.069\u001b[0m | \u001b[1mINFO    \u001b[0m | \u001b[36muptrain.framework.evalllm\u001b[0m:\u001b[36mevaluate\u001b[0m:\u001b[36m100\u001b[0m - \u001b[1mSending evaluation request for rows 0 to <50 to the Uptrain\u001b[0m\n"
     ]
    },
    {
     "name": "stderr",
     "output_type": "stream",
     "text": [
      "\u001b[32m2023-12-15 16:46:19.978\u001b[0m | \u001b[1mINFO    \u001b[0m | \u001b[36muptrain.framework.evalllm\u001b[0m:\u001b[36mevaluate\u001b[0m:\u001b[36m100\u001b[0m - \u001b[1mSending evaluation request for rows 0 to <50 to the Uptrain\u001b[0m\n",
      "\u001b[32m2023-12-15 16:46:29.839\u001b[0m | \u001b[1mINFO    \u001b[0m | \u001b[36muptrain.framework.evalllm\u001b[0m:\u001b[36mevaluate\u001b[0m:\u001b[36m100\u001b[0m - \u001b[1mSending evaluation request for rows 0 to <50 to the Uptrain\u001b[0m\n"
     ]
    }
   ],
   "source": [
    "eval_llm = EvalLLM(openai_api_key=OPENAI_API_KEY)\n",
    "\n",
    "res = eval_llm.evaluate(\n",
    "    data = good_data,\n",
    "    checks = [Evals.FACTUAL_ACCURACY]\n",
    ")"
   ]
  },
  {
   "cell_type": "code",
   "execution_count": 12,
   "id": "0a950849-0348-450f-add0-cea2c1423525",
   "metadata": {},
   "outputs": [
    {
     "name": "stdout",
     "output_type": "stream",
     "text": [
      "[\n",
      "   {\n",
      "      \"question\": \"What causes diabetes?\",\n",
      "      \"context\": \"Diabetes is a metabolic disorder characterized by high blood sugar levels. It is primarily caused by a combination of genetic and environmental factors, including obesity and lack of physical activity.\",\n",
      "      \"response\": \"Diabetes is primarily caused by a combination of genetic and environmental factors, including obesity and lack of physical activity.\",\n",
      "      \"score_factual_accuracy\": 1.0,\n",
      "      \"explanation_factual_accuracy\": \"1. Diabetes is primarily caused by a combination of genetic and environmental factors.\\nArgument for yes: The context explicitly states that diabetes is primarily caused by a combination of genetic and environmental factors.\\nArgument for no: No arguments.\\nJudgement: yes. Argument for yes looks stronger.\\n\\n2. Obesity is one of the environmental factors that can contribute to diabetes.\\nArgument for yes: The context mentions that obesity is one of the environmental factors that can contribute to diabetes.\\nArgument for no: No arguments.\\nJudgement: yes. Argument for yes looks stronger.\\n\\n3. Lack of physical activity is another environmental factor that can contribute to diabetes.\\nArgument for yes: The context mentions that lack of physical activity is another environmental factor that can contribute to diabetes.\\nArgument for no: No arguments.\\nJudgement: yes. Argument for yes looks stronger.\\n\\n\"\n",
      "   },\n",
      "   {\n",
      "      \"question\": \"How is pneumonia treated?\",\n",
      "      \"context\": \"Pneumonia is an infection that inflames the air sacs in one or both lungs. It is typically treated with antibiotics, rest, and supportive care. The choice of antibiotics depends on the type of pneumonia and its severity.\",\n",
      "      \"response\": \"Pneumonia is typically treated with antibiotics, rest, and supportive care. The choice of antibiotics depends on the type of pneumonia and its severity.\",\n",
      "      \"score_factual_accuracy\": 0.6,\n",
      "      \"explanation_factual_accuracy\": \"1. Pneumonia is typically treated with antibiotics.\\nArgument for yes: The context explicitly states that pneumonia is typically treated with antibiotics.\\nArgument for no: No arguments.\\nJudgement: yes. Argument for yes looks stronger.\\n\\n2. Pneumonia is typically treated with rest.\\nArgument for yes: The context mentions that pneumonia is typically treated with rest.\\nArgument for no: The context does not explicitly state that rest is a typical treatment for pneumonia.\\nJudgement: no. As there is no explicit mention of rest being a typical treatment for pneumonia.\\n\\n3. Pneumonia is typically treated with supportive care.\\nArgument for yes: The context mentions that pneumonia is typically treated with supportive care.\\nArgument for no: The context does not explicitly state that supportive care is a typical treatment for pneumonia.\\nJudgement: no. As there is no explicit mention of supportive care being a typical treatment for pneumonia.\\n\\n4. The choice of antibiotics for pneumonia depends on the type of pneumonia.\\nArgument for yes: The context mentions that the choice of antibiotics depends on the type of pneumonia.\\nArgument for no: No arguments.\\nJudgement: yes. Argument for yes looks stronger.\\n\\n5. The choice of antibiotics for pneumonia depends on the severity of pneumonia.\\nArgument for yes: The context mentions that the choice of antibiotics depends on the severity of pneumonia.\\nArgument for no: No arguments.\\nJudgement: yes. Argument for yes looks stronger.\\n\\n\"\n",
      "   },\n",
      "   {\n",
      "      \"question\": \"Is the flu vaccine effective?\",\n",
      "      \"context\": \"The influenza vaccine is recommended to prevent seasonal flu. Yes, the flu vaccine is generally effective in preventing or reducing the severity of influenza. However, its effectiveness can vary based on factors such as age and the match between the vaccine and circulating flu strains.\",\n",
      "      \"response\": \"Yes, the flu vaccine is generally effective in preventing or reducing the severity of influenza. However, its effectiveness can vary based on factors such as age and the match between the vaccine and circulating flu strains.\",\n",
      "      \"score_factual_accuracy\": 1.0,\n",
      "      \"explanation_factual_accuracy\": \"1. The flu vaccine is generally effective in preventing or reducing the severity of influenza.\\nArgument for yes: The context explicitly states that the flu vaccine is generally effective in preventing or reducing the severity of influenza.\\nArgument for no: No arguments.\\nJudgement: yes. Argument for yes looks stronger.\\n\\n2. The effectiveness of the flu vaccine can vary based on factors such as age.\\nArgument for yes: The context mentions that the effectiveness of the flu vaccine can vary based on factors such as age.\\nArgument for no: No arguments.\\nJudgement: yes. Argument for yes looks stronger.\\n\\n3. The effectiveness of the flu vaccine can vary based on the match between the vaccine and circulating flu strains.\\nArgument for yes: The context mentions that the effectiveness of the flu vaccine can vary based on the match between the vaccine and circulating flu strains.\\nArgument for no: No arguments.\\nJudgement: yes. Argument for yes looks stronger.\\n\\n\"\n",
      "   },\n",
      "   {\n",
      "      \"question\": \"What are the symptoms of a heart attack?\",\n",
      "      \"context\": \"A heart attack, or myocardial infarction, occurs when the blood supply to the heart muscle is blocked. Symptoms of a heart attack may include chest pain or discomfort, shortness of breath, nausea, lightheadedness, and pain or discomfort in one or both arms, the jaw, neck, or back.\",\n",
      "      \"response\": \"Symptoms of a heart attack may include chest pain or discomfort, shortness of breath, nausea, lightheadedness, and pain or discomfort in one or both arms, the jaw, neck, or back.\",\n",
      "      \"score_factual_accuracy\": 1.0,\n",
      "      \"explanation_factual_accuracy\": \"1. Symptoms of a heart attack may include chest pain or discomfort.\\nArgument for yes: The context explicitly states that symptoms of a heart attack may include chest pain or discomfort.\\nArgument for no: No arguments.\\nJudgement: yes. Argument for yes looks stronger.\\n\\n2. Symptoms of a heart attack may include shortness of breath.\\nArgument for yes: The context explicitly states that symptoms of a heart attack may include shortness of breath.\\nArgument for no: No arguments.\\nJudgement: yes. Argument for yes looks stronger.\\n\\n3. Symptoms of a heart attack may include nausea.\\nArgument for yes: The context explicitly states that symptoms of a heart attack may include nausea.\\nArgument for no: No arguments.\\nJudgement: yes. Argument for yes looks stronger.\\n\\n4. Symptoms of a heart attack may include lightheadedness.\\nArgument for yes: The context explicitly states that symptoms of a heart attack may include lightheadedness.\\nArgument for no: No arguments.\\nJudgement: yes. Argument for yes looks stronger.\\n\\n5. Symptoms of a heart attack may include pain or discomfort in one or both arms, the jaw, neck, or back.\\nArgument for yes: The context explicitly states that symptoms of a heart attack may include pain or discomfort in one or both arms, the jaw, neck, or back.\\nArgument for no: No arguments.\\nJudgement: yes. Argument for yes looks stronger.\\n\\n\"\n",
      "   },\n",
      "   {\n",
      "      \"question\": \"Can stress cause physical health problems?\",\n",
      "      \"context\": \"Stress is the body's response to challenges or threats. Yes, chronic stress can contribute to various physical health problems, including cardiovascular issues, digestive problems, and a weakened immune system.\",\n",
      "      \"response\": \"Yes, chronic stress can contribute to various physical health problems, including cardiovascular issues, digestive problems, and a weakened immune system.\",\n",
      "      \"score_factual_accuracy\": 1.0,\n",
      "      \"explanation_factual_accuracy\": \"1. Chronic stress can contribute to various physical health problems.\\nArgument for yes: The context explicitly states that chronic stress can contribute to various physical health problems.\\nArgument for no: No arguments.\\nJudgement: yes. Argument for yes looks stronger.\\n2. These health problems include cardiovascular issues.\\nArgument for yes: The context explicitly states that chronic stress can contribute to cardiovascular issues.\\nArgument for no: No arguments.\\nJudgement: yes. Argument for yes looks stronger.\\n3. These health problems include digestive problems.\\nArgument for yes: The context explicitly states that chronic stress can contribute to digestive problems.\\nArgument for no: No arguments.\\nJudgement: yes. Argument for yes looks stronger.\\n4. These health problems include a weakened immune system.\\nArgument for yes: The context explicitly states that chronic stress can contribute to a weakened immune system.\\nArgument for no: No arguments.\\nJudgement: yes. Argument for yes looks stronger.\\n\"\n",
      "   }\n",
      "]\n"
     ]
    }
   ],
   "source": [
    "print(json.dumps(res,indent=3))"
   ]
  },
  {
   "cell_type": "markdown",
   "metadata": {},
   "source": [
    "Now, let's evaluate some data with factually incorrect responses (with respect to the context)."
   ]
  },
  {
   "cell_type": "code",
   "execution_count": 26,
   "metadata": {},
   "outputs": [],
   "source": [
    "bad_data = [\n",
    "    {\n",
    "        'question': \"What causes diabetes?\",\n",
    "        'context': \"Diabetes is a metabolic disorder characterized by high blood sugar levels. It is primarily caused by a combination of genetic and environmental factors, including obesity and lack of physical activity.\",\n",
    "        'response': \"Diabetes is caused by eating too much sugar, and reducing sugar intake can cure it completely.\"\n",
    "    },\n",
    "    {\n",
    "        'question': \"How is pneumonia treated?\",\n",
    "        'context': \"Pneumonia is an infection that inflames the air sacs in one or both lungs. It is typically treated with antibiotics, rest, and supportive care. The choice of antibiotics depends on the type of pneumonia and its severity.\",\n",
    "        'response': \"Pneumonia can be treated with over-the-counter painkillers, and rest is not necessary for recovery.\"\n",
    "    },\n",
    "    {\n",
    "        'question': \"Is the flu vaccine effective?\",\n",
    "        'context': \"The influenza vaccine is recommended to prevent seasonal flu. Yes, the flu vaccine is generally effective in preventing or reducing the severity of influenza. However, its effectiveness can vary based on factors such as age and the match between the vaccine and circulating flu strains.\",\n",
    "        'response': \"The flu vaccine is not effective and may actually increase the risk of getting the flu.\"\n",
    "    },\n",
    "    {\n",
    "        'question': \"What are the symptoms of a heart attack?\",\n",
    "        'context': \"A heart attack, or myocardial infarction, occurs when the blood supply to the heart muscle is blocked. Symptoms of a heart attack may include chest pain or discomfort, shortness of breath, nausea, lightheadedness, and pain or discomfort in one or both arms, the jaw, neck, or back.\",\n",
    "        'response': \"Heart attack symptoms are usually just indigestion and can be relieved with antacids.\"\n",
    "    },\n",
    "    {\n",
    "        'question': \"Can stress cause physical health problems?\",\n",
    "        'context': \"Stress is the body's response to challenges or threats. Yes, chronic stress can contribute to various physical health problems, including cardiovascular issues, digestive problems, and a weakened immune system.\",\n",
    "        'response': \"Stress has no impact on physical health; it's just a mental state and doesn't affect the body.\"\n",
    "    }\n",
    "]\n"
   ]
  },
  {
   "cell_type": "code",
   "execution_count": 27,
   "metadata": {},
   "outputs": [
    {
     "name": "stderr",
     "output_type": "stream",
     "text": [
      "\u001b[32m2023-12-15 17:05:03.707\u001b[0m | \u001b[1mINFO    \u001b[0m | \u001b[36muptrain.framework.evalllm\u001b[0m:\u001b[36mevaluate\u001b[0m:\u001b[36m100\u001b[0m - \u001b[1mSending evaluation request for rows 0 to <50 to the Uptrain\u001b[0m\n"
     ]
    },
    {
     "name": "stderr",
     "output_type": "stream",
     "text": [
      "\u001b[32m2023-12-15 17:05:12.007\u001b[0m | \u001b[1mINFO    \u001b[0m | \u001b[36muptrain.framework.evalllm\u001b[0m:\u001b[36mevaluate\u001b[0m:\u001b[36m100\u001b[0m - \u001b[1mSending evaluation request for rows 0 to <50 to the Uptrain\u001b[0m\n",
      "\u001b[32m2023-12-15 17:05:20.747\u001b[0m | \u001b[1mINFO    \u001b[0m | \u001b[36muptrain.framework.evalllm\u001b[0m:\u001b[36mevaluate\u001b[0m:\u001b[36m100\u001b[0m - \u001b[1mSending evaluation request for rows 0 to <50 to the Uptrain\u001b[0m\n"
     ]
    }
   ],
   "source": [
    "eval_llm = EvalLLM(openai_api_key=OPENAI_API_KEY)\n",
    "\n",
    "res = eval_llm.evaluate(\n",
    "    data = bad_data,\n",
    "    checks = [Evals.FACTUAL_ACCURACY]\n",
    ")"
   ]
  },
  {
   "cell_type": "code",
   "execution_count": 28,
   "metadata": {},
   "outputs": [
    {
     "name": "stdout",
     "output_type": "stream",
     "text": [
      "[\n",
      "   {\n",
      "      \"question\": \"What causes diabetes?\",\n",
      "      \"context\": \"Diabetes is a metabolic disorder characterized by high blood sugar levels. It is primarily caused by a combination of genetic and environmental factors, including obesity and lack of physical activity.\",\n",
      "      \"response\": \"Diabetes is caused by eating too much sugar, and reducing sugar intake can cure it completely.\",\n",
      "      \"score_factual_accuracy\": 0.0,\n",
      "      \"explanation_factual_accuracy\": \"1. Diabetes is caused by eating too much sugar.\\nArgument for yes: The context mentions that diabetes is characterized by high blood sugar levels, which could imply that eating too much sugar causes diabetes.\\nArgument for no: The context states that diabetes is primarily caused by a combination of genetic and environmental factors, including obesity and lack of physical activity, with no mention of sugar intake as a direct cause.\\nJudgement: no. As argument for no clearly states that diabetes is primarily caused by genetic and environmental factors, not by eating too much sugar.\\n\\n2. Reducing sugar intake can cure diabetes completely.\\nArgument for yes: The context does not explicitly mention that reducing sugar intake can cure diabetes, but it does state that diabetes is characterized by high blood sugar levels. Therefore, it can be inferred that reducing sugar intake may help manage or control diabetes.\\nArgument for no: The context does not provide any information about the effectiveness of reducing sugar intake in curing diabetes completely.\\nJudgement: no. As argument for no clearly states that the context does not provide any information about the effectiveness of reducing sugar intake in curing diabetes completely.\\n\\n\"\n",
      "   },\n",
      "   {\n",
      "      \"question\": \"How is pneumonia treated?\",\n",
      "      \"context\": \"Pneumonia is an infection that inflames the air sacs in one or both lungs. It is typically treated with antibiotics, rest, and supportive care. The choice of antibiotics depends on the type of pneumonia and its severity.\",\n",
      "      \"response\": \"Pneumonia can be treated with over-the-counter painkillers, and rest is not necessary for recovery.\",\n",
      "      \"score_factual_accuracy\": 0.0,\n",
      "      \"explanation_factual_accuracy\": \"1. Pneumonia can be treated with over-the-counter painkillers.\\nArgument for yes: The context does not explicitly mention that over-the-counter painkillers are used to treat pneumonia, but it also does not explicitly state that they are not used. It only mentions antibiotics as a treatment option, leaving room for the possibility of painkillers being used as well.\\nArgument for no: The context specifically mentions that pneumonia is typically treated with antibiotics, rest, and supportive care, but does not mention the use of painkillers.\\nJudgement: no. The argument for no is stronger as the context does not mention the use of painkillers to treat pneumonia.\\n\\n2. Rest is not necessary for recovery.\\nArgument for yes: The context mentions that pneumonia is typically treated with rest, implying that rest is not necessary for recovery.\\nArgument for no: The context explicitly states that pneumonia is typically treated with rest, indicating that rest is indeed necessary for recovery.\\nJudgement: no. The argument for no is stronger as the context clearly states that rest is necessary for recovery from pneumonia.\\n\\n\"\n",
      "   },\n",
      "   {\n",
      "      \"question\": \"Is the flu vaccine effective?\",\n",
      "      \"context\": \"The influenza vaccine is recommended to prevent seasonal flu. Yes, the flu vaccine is generally effective in preventing or reducing the severity of influenza. However, its effectiveness can vary based on factors such as age and the match between the vaccine and circulating flu strains.\",\n",
      "      \"response\": \"The flu vaccine is not effective and may actually increase the risk of getting the flu.\",\n",
      "      \"score_factual_accuracy\": 0.5,\n",
      "      \"explanation_factual_accuracy\": \"1. The flu vaccine is not effective.\\nArgument for yes: The context mentions that the flu vaccine is generally effective in preventing or reducing the severity of influenza, implying that it may not be effective in all cases.\\nArgument for no: The context explicitly states that the flu vaccine is effective in preventing or reducing the severity of influenza.\\nJudgement: no. Argument for no looks stronger as the context clearly states that the flu vaccine is effective.\\n2. The flu vaccine may actually increase the risk of getting the flu.\\nArgument for yes: The context mentions that the effectiveness of the flu vaccine can vary based on factors such as age and the match between the vaccine and circulating flu strains, implying that in some cases it may not be effective and could potentially increase the risk of getting the flu.\\nArgument for no: The context does not explicitly state that the flu vaccine may increase the risk of getting the flu.\\nJudgement: yes. Argument for yes looks stronger as the context implies that the flu vaccine may not always be effective and could potentially increase the risk of getting the flu.\\n\"\n",
      "   },\n",
      "   {\n",
      "      \"question\": \"What are the symptoms of a heart attack?\",\n",
      "      \"context\": \"A heart attack, or myocardial infarction, occurs when the blood supply to the heart muscle is blocked. Symptoms of a heart attack may include chest pain or discomfort, shortness of breath, nausea, lightheadedness, and pain or discomfort in one or both arms, the jaw, neck, or back.\",\n",
      "      \"response\": \"Heart attack symptoms are usually just indigestion and can be relieved with antacids.\",\n",
      "      \"score_factual_accuracy\": 0.0,\n",
      "      \"explanation_factual_accuracy\": \"1. Heart attack symptoms are usually just indigestion.\\nArgument for yes: The context does not explicitly mention that heart attack symptoms are not usually just indigestion.\\nArgument for no: The context describes symptoms of a heart attack that include chest pain or discomfort, which is not typically associated with indigestion.\\nJudgement: no. The argument for no is stronger as the context describes symptoms that are not typically associated with indigestion.\\n2. Heart attack symptoms can be relieved with antacids.\\nArgument for yes: The context does not explicitly mention that heart attack symptoms cannot be relieved with antacids.\\nArgument for no: The context describes symptoms of a heart attack that are caused by a blockage in the blood supply to the heart muscle, which cannot be relieved with antacids.\\nJudgement: no. The argument for no is stronger as the context describes symptoms that are caused by a blockage and cannot be relieved with antacids.\\n\"\n",
      "   },\n",
      "   {\n",
      "      \"question\": \"Can stress cause physical health problems?\",\n",
      "      \"context\": \"Stress is the body's response to challenges or threats. Yes, chronic stress can contribute to various physical health problems, including cardiovascular issues, digestive problems, and a weakened immune system.\",\n",
      "      \"response\": \"Stress has no impact on physical health; it's just a mental state and doesn't affect the body.\",\n",
      "      \"score_factual_accuracy\": 0.0,\n",
      "      \"explanation_factual_accuracy\": \"1. Stress has no impact on physical health.\\nArgument for yes: The context explicitly states that chronic stress can contribute to various physical health problems.\\nArgument for no: The context mentions that stress can contribute to physical health problems, implying that stress does have an impact on physical health.\\nJudgement: no. The argument for no is stronger as the context clearly states that stress can impact physical health.\\n2. Stress is just a mental state.\\nArgument for yes: The context mentions that stress is the body's response to challenges or threats, implying that it is a mental state.\\nArgument for no: The context also mentions that chronic stress can contribute to physical health problems, implying that stress is not just a mental state.\\nJudgement: no. The argument for no is stronger as the context suggests that stress is not solely a mental state.\\n3. Stress doesn't affect the body.\\nArgument for yes: No arguments.\\nArgument for no: The context explicitly states that chronic stress can contribute to various physical health problems, indicating that stress does affect the body.\\nJudgement: no. The argument for no is stronger as the context clearly states that stress does affect the body.\\n\"\n",
      "   }\n",
      "]\n"
     ]
    }
   ],
   "source": [
    "print(json.dumps(res,indent=3))"
   ]
  }
 ],
 "metadata": {
  "kernelspec": {
   "display_name": "Python 3 (ipykernel)",
   "language": "python",
   "name": "python3"
  },
  "language_info": {
   "codemirror_mode": {
    "name": "ipython",
    "version": 3
   },
   "file_extension": ".py",
   "mimetype": "text/x-python",
   "name": "python",
   "nbconvert_exporter": "python",
   "pygments_lexer": "ipython3",
   "version": "3.10.12"
  }
 },
 "nbformat": 4,
 "nbformat_minor": 5
}
