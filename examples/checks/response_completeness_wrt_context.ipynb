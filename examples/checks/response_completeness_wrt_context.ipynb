{
 "cells": [
  {
   "cell_type": "markdown",
   "id": "f6539807-d2be-47b6-a39e-aaacb1e6e0bb",
   "metadata": {},
   "source": [
    "<h1 align=\"center\">\n",
    "  <a href=\"https://uptrain.ai\">\n",
    "    <img width=\"300\" src=\"https://user-images.githubusercontent.com/108270398/214240695-4f958b76-c993-4ddd-8de6-8668f4d0da84.png\" alt=\"uptrain\">\n",
    "  </a>\n",
    "</h1>\n"
   ]
  },
  {
   "cell_type": "markdown",
   "id": "c2403e87-604e-44c6-8d9e-6c5806bc4cd7",
   "metadata": {},
   "source": [
    "<h1 style=\"text-align: center;\">Evaluating Response Completeness WRT Context</h1>\n"
   ]
  },
  {
   "cell_type": "markdown",
   "id": "2ef54d59-295e-4f15-a35f-33f4e86ecdd2",
   "metadata": {},
   "source": [
    "**What is Response Completeness wrt context?**: Response Completeness with respect to context refers to the thoroughness with which a model addresses all relevant information within the context of a given question or task. It emphasizes the need for a response that not only accurately answers the question but also considers the broader context and its various dimensions.\n",
    "\n",
    "In practical applications, such as customer support inquiries, a complete response should cover all aspects of the customer's query, taking into account specific details, potential follow-up questions, and any relevant contextual information. This ensures a more effective and satisfactory interaction with the user.\n",
    "\n",
    "**Data schema**: The data schema required for this evaluation is as follows:\n",
    "\n",
    "| Column Name | Description                     |\n",
    "| ----------- | ------------------------------- |\n",
    "| question    | The question asked by the user  |\n",
    "| context | Additional information provided that can be used to answer the question |\n",
    "| response    | The response given by the model |\n"
   ]
  },
  {
   "cell_type": "markdown",
   "id": "76008cf6-dbd3-44bc-8556-86278868e746",
   "metadata": {},
   "source": [
    "Install UpTrain by running 'pip install uptrain'\n"
   ]
  },
  {
   "cell_type": "code",
   "execution_count": 1,
   "id": "90f4ff7d-10b9-482e-aa92-85c64ffc4057",
   "metadata": {},
   "outputs": [],
   "source": [
    "from uptrain import EvalLLM, Evals\n",
    "import json\n",
    "\n",
    "OPENAI_API_KEY = \"sk-*****************\"  # Insert your OpenAI key here"
   ]
  },
  {
   "cell_type": "code",
   "execution_count": 3,
   "id": "a540fc5a",
   "metadata": {},
   "outputs": [],
   "source": [
    "good_data = [\n",
    "    {\n",
    "        \"question\": \"What are the key features of the latest smartphone model?\",\n",
    "        \"context\": \"The latest smartphone model, released in 2023, boasts advanced camera technology, a high-resolution display, and a powerful processor.\",\n",
    "        \"response\": \"The key features of the latest smartphone model include advanced camera technology, a high-resolution display, and a powerful processor.\"\n",
    "    },\n",
    "    {\n",
    "        \"question\": \"Can you recommend a good restaurant for a romantic dinner?\",\n",
    "        \"context\": \"You mentioned that you prefer Italian cuisine and a quiet atmosphere for a romantic dinner.\",\n",
    "        \"response\": \"Certainly! I recommend 'La Trattoria' for a romantic dinner. It offers delicious Italian cuisine in a quiet and intimate setting.\"\n",
    "    },\n",
    "    {\n",
    "        \"question\": \"What are the main benefits of regular exercise?\",\n",
    "        \"context\": \"Regular exercise is known to have various health benefits, including improved cardiovascular health, weight management, and enhanced mood.\",\n",
    "        \"response\": \"The main benefits of regular exercise include improved cardiovascular health, weight management, and enhanced mood.\"\n",
    "    },\n",
    "    {\n",
    "        \"question\": \"Could you provide an overview of the company's financial performance in the last quarter?\",\n",
    "        \"context\": \"In the last quarter, the company experienced increased revenue due to successful product launches and cost-cutting measures.\",\n",
    "        \"response\": \"Certainly! In the last quarter, the company saw increased revenue attributed to successful product launches and cost-cutting measures.\"\n",
    "    }\n",
    "]\n"
   ]
  },
  {
   "cell_type": "code",
   "execution_count": 4,
   "id": "d15fb087-3ed2-442f-9b23-35c7dbc6128e",
   "metadata": {},
   "outputs": [
    {
     "name": "stderr",
     "output_type": "stream",
     "text": [
      "\u001b[32m2023-12-19 16:27:26.011\u001b[0m | \u001b[1mINFO    \u001b[0m | \u001b[36muptrain.framework.evalllm\u001b[0m:\u001b[36mevaluate\u001b[0m:\u001b[36m100\u001b[0m - \u001b[1mSending evaluation request for rows 0 to <50 to the Uptrain\u001b[0m\n"
     ]
    },
    {
     "name": "stderr",
     "output_type": "stream",
     "text": [
      "\u001b[32m2023-12-19 16:27:33.257\u001b[0m | \u001b[1mINFO    \u001b[0m | \u001b[36muptrain.framework.evalllm\u001b[0m:\u001b[36mevaluate\u001b[0m:\u001b[36m100\u001b[0m - \u001b[1mSending evaluation request for rows 0 to <50 to the Uptrain\u001b[0m\n",
      "\u001b[32m2023-12-19 16:27:39.491\u001b[0m | \u001b[1mINFO    \u001b[0m | \u001b[36muptrain.framework.evalllm\u001b[0m:\u001b[36mevaluate\u001b[0m:\u001b[36m100\u001b[0m - \u001b[1mSending evaluation request for rows 0 to <50 to the Uptrain\u001b[0m\n"
     ]
    }
   ],
   "source": [
    "eval_llm = EvalLLM(openai_api_key=OPENAI_API_KEY)\n",
    "\n",
    "res = eval_llm.evaluate(\n",
    "    data=good_data,\n",
    "    checks=[Evals.RESPONSE_COMPLETENESS_WRT_CONTEXT]\n",
    ")"
   ]
  },
  {
   "cell_type": "code",
   "execution_count": 5,
   "id": "0a950849-0348-450f-add0-cea2c1423525",
   "metadata": {},
   "outputs": [
    {
     "name": "stdout",
     "output_type": "stream",
     "text": [
      "[\n",
      "   {\n",
      "      \"question\": \"What are the key features of the latest smartphone model?\",\n",
      "      \"context\": \"The latest smartphone model, released in 2023, boasts advanced camera technology, a high-resolution display, and a powerful processor.\",\n",
      "      \"response\": \"The key features of the latest smartphone model include advanced camera technology, a high-resolution display, and a powerful processor.\",\n",
      "      \"score_response_completeness_wrt_context\": 1.0,\n",
      "      \"explanation_response_completeness_wrt_context\": \"1. The question asks for the key features of the latest smartphone model.\\n2. The context provides the relevant information about the latest smartphone model, stating that it has advanced camera technology, a high-resolution display, and a powerful processor.\\n3. The generated response includes all the key features mentioned in the context, which are advanced camera technology, a high-resolution display, and a powerful processor.\\n4. The generated answer adequately extracts all the relevant information from the context and answers the user query.\\n\\nThe correct answer is: E. The generated answer answers the given question adequately.\\n\\nScore: 1.0\"\n",
      "   },\n",
      "   {\n",
      "      \"question\": \"Can you recommend a good restaurant for a romantic dinner?\",\n",
      "      \"context\": \"You mentioned that you prefer Italian cuisine and a quiet atmosphere for a romantic dinner.\",\n",
      "      \"response\": \"Certainly! I recommend 'La Trattoria' for a romantic dinner. It offers delicious Italian cuisine in a quiet and intimate setting.\",\n",
      "      \"score_response_completeness_wrt_context\": 1.0,\n",
      "      \"explanation_response_completeness_wrt_context\": \"1. The question asks for a recommendation for a good restaurant for a romantic dinner.\\n2. The context provides relevant information about the user's preferences, which include Italian cuisine and a quiet atmosphere.\\n3. The machine-generated response recommends 'La Trattoria' as a good restaurant for a romantic dinner.\\n4. The response mentions that 'La Trattoria' offers delicious Italian cuisine in a quiet and intimate setting.\\n5. The response directly addresses the user's query by recommending a restaurant that meets their preferences for Italian cuisine and a quiet atmosphere.\\n6. The response adequately answers the question by providing a specific recommendation based on the user's preferences.\\n\\nThe generated answer answers the given question adequately.\\n\\n1.0\\n1.0\"\n",
      "   },\n",
      "   {\n",
      "      \"question\": \"What are the main benefits of regular exercise?\",\n",
      "      \"context\": \"Regular exercise is known to have various health benefits, including improved cardiovascular health, weight management, and enhanced mood.\",\n",
      "      \"response\": \"The main benefits of regular exercise include improved cardiovascular health, weight management, and enhanced mood.\",\n",
      "      \"score_response_completeness_wrt_context\": 1.0,\n",
      "      \"explanation_response_completeness_wrt_context\": \"1. The question asks for the main benefits of regular exercise.\\n2. The context provides information about the main benefits of regular exercise, including improved cardiovascular health, weight management, and enhanced mood.\\n3. The machine-generated response includes the same information provided in the context, mentioning improved cardiovascular health, weight management, and enhanced mood.\\n4. The machine-generated response accurately extracts all the relevant information from the context and answers the user query adequately.\\n5. Therefore, the correct answer is E. The generated answer answers the given question adequately.\\n\\nScore: 1.0\"\n",
      "   },\n",
      "   {\n",
      "      \"question\": \"Could you provide an overview of the company's financial performance in the last quarter?\",\n",
      "      \"context\": \"In the last quarter, the company experienced increased revenue due to successful product launches and cost-cutting measures.\",\n",
      "      \"response\": \"Certainly! In the last quarter, the company saw increased revenue attributed to successful product launches and cost-cutting measures.\",\n",
      "      \"score_response_completeness_wrt_context\": 1.0,\n",
      "      \"explanation_response_completeness_wrt_context\": \"1. The question asks for an overview of the company's financial performance in the last quarter.\\n2. The context provides relevant information about the company's increased revenue in the last quarter due to successful product launches and cost-cutting measures.\\n3. The generated response acknowledges the increased revenue in the last quarter and attributes it to successful product launches and cost-cutting measures.\\n4. The generated response adequately answers the question by providing an overview of the company's financial performance in the last quarter.\\n\\nThe generated answer answers the given question adequately.\\n\\nScore: 1.0\"\n",
      "   }\n",
      "]\n"
     ]
    }
   ],
   "source": [
    "print(json.dumps(res, indent=3))"
   ]
  },
  {
   "cell_type": "code",
   "execution_count": 6,
   "id": "0c373c9c",
   "metadata": {},
   "outputs": [],
   "source": [
    "bad_data = [\n",
    "    {\n",
    "        \"question\": \"What are the key features of the latest smartphone model?\",\n",
    "        \"context\": \"The latest smartphone model, released in 2023, boasts advanced camera technology, a high-resolution display, and a powerful processor.\",\n",
    "        \"response\": \"It's a great phone with lots of features.\"\n",
    "    },\n",
    "    {\n",
    "        \"question\": \"Can you recommend a good restaurant for a romantic dinner?\",\n",
    "        \"context\": \"You mentioned that you prefer Italian cuisine and a quiet atmosphere for a romantic dinner.\",\n",
    "        \"response\": \"Try 'Pizzeria XYZ.'\"\n",
    "    },\n",
    "    {\n",
    "        \"question\": \"What are the main benefits of regular exercise?\",\n",
    "        \"context\": \"Regular exercise is known to have various health benefits, including improved cardiovascular health, weight management, and enhanced mood.\",\n",
    "        \"response\": \"Exercise is good for your health.\"\n",
    "    },\n",
    "    {\n",
    "        \"question\": \"Could you provide an overview of the company's financial performance in the last quarter?\",\n",
    "        \"context\": \"In the last quarter, the company experienced increased revenue due to successful product launches and cost-cutting measures.\",\n",
    "        \"response\": \"The company made more money.\"\n",
    "    }\n",
    "]\n"
   ]
  },
  {
   "cell_type": "code",
   "execution_count": 7,
   "id": "1d367008",
   "metadata": {},
   "outputs": [
    {
     "name": "stderr",
     "output_type": "stream",
     "text": [
      "\u001b[32m2023-12-19 16:27:45.483\u001b[0m | \u001b[1mINFO    \u001b[0m | \u001b[36muptrain.framework.evalllm\u001b[0m:\u001b[36mevaluate\u001b[0m:\u001b[36m100\u001b[0m - \u001b[1mSending evaluation request for rows 0 to <50 to the Uptrain\u001b[0m\n",
      "\u001b[32m2023-12-19 16:27:52.724\u001b[0m | \u001b[1mINFO    \u001b[0m | \u001b[36muptrain.framework.evalllm\u001b[0m:\u001b[36mevaluate\u001b[0m:\u001b[36m100\u001b[0m - \u001b[1mSending evaluation request for rows 0 to <50 to the Uptrain\u001b[0m\n",
      "\u001b[32m2023-12-19 16:28:00.679\u001b[0m | \u001b[1mINFO    \u001b[0m | \u001b[36muptrain.framework.evalllm\u001b[0m:\u001b[36mevaluate\u001b[0m:\u001b[36m100\u001b[0m - \u001b[1mSending evaluation request for rows 0 to <50 to the Uptrain\u001b[0m\n"
     ]
    }
   ],
   "source": [
    "res = eval_llm.evaluate(\n",
    "    data=bad_data,\n",
    "    checks=[Evals.RESPONSE_COMPLETENESS_WRT_CONTEXT]\n",
    ")"
   ]
  },
  {
   "cell_type": "code",
   "execution_count": 8,
   "id": "23751ef5",
   "metadata": {},
   "outputs": [
    {
     "name": "stdout",
     "output_type": "stream",
     "text": [
      "[\n",
      "   {\n",
      "      \"question\": \"What are the key features of the latest smartphone model?\",\n",
      "      \"context\": \"The latest smartphone model, released in 2023, boasts advanced camera technology, a high-resolution display, and a powerful processor.\",\n",
      "      \"response\": \"It's a great phone with lots of features.\",\n",
      "      \"score_response_completeness_wrt_context\": 0.0,\n",
      "      \"explanation_response_completeness_wrt_context\": \"1. The question asks for the key features of the latest smartphone model.\\n2. The context provides the relevant information about the key features of the latest smartphone model, which include advanced camera technology, a high-resolution display, and a powerful processor.\\n3. The machine-generated response, \\\"It's a great phone with lots of features,\\\" does not directly mention any of the key features mentioned in the context.\\n4. Therefore, the generated answer does not answer the given question at all even though the context has relevant information to answer the question.\\n\\nThe correct answer is A: The generated answer doesn't answer the given question at all even though the context has relevant information to answer the question.\\n\\n0.0\\n0.0\"\n",
      "   },\n",
      "   {\n",
      "      \"question\": \"Can you recommend a good restaurant for a romantic dinner?\",\n",
      "      \"context\": \"You mentioned that you prefer Italian cuisine and a quiet atmosphere for a romantic dinner.\",\n",
      "      \"response\": \"Try 'Pizzeria XYZ.'\",\n",
      "      \"score_response_completeness_wrt_context\": 0.0,\n",
      "      \"explanation_response_completeness_wrt_context\": \"1. The question asks for a recommendation for a good restaurant for a romantic dinner.\\n2. The context provides relevant information about the user's preferences, which include Italian cuisine and a quiet atmosphere.\\n3. The response suggests trying 'Pizzeria XYZ' without any further explanation or justification.\\n4. The response does not mention anything about the restaurant being good or suitable for a romantic dinner.\\n5. The response does not mention anything about the restaurant offering Italian cuisine or a quiet atmosphere.\\n6. Therefore, the generated answer does not answer the given question at all, even though the context has relevant information to answer the question.\\n\\nThe correct answer is: A. The generated answer doesn't answer the given question at all even though the context has relevant information to answer the question.\\n\\n0.0\\n0.0\"\n",
      "   },\n",
      "   {\n",
      "      \"question\": \"What are the main benefits of regular exercise?\",\n",
      "      \"context\": \"Regular exercise is known to have various health benefits, including improved cardiovascular health, weight management, and enhanced mood.\",\n",
      "      \"response\": \"Exercise is good for your health.\",\n",
      "      \"score_response_completeness_wrt_context\": 0.5,\n",
      "      \"explanation_response_completeness_wrt_context\": \"1. The question asks for the main benefits of regular exercise.\\n2. The context provides relevant information about the health benefits of regular exercise, including improved cardiovascular health, weight management, and enhanced mood.\\n3. The machine-generated response states \\\"Exercise is good for your health.\\\"\\n4. The response does not specifically mention the main benefits of regular exercise mentioned in the context.\\n5. Therefore, the generated answer only partially answers the given question even though the context has relevant information to answer the question completely.\\n\\nThe correct answer is C: The generated answer only partially answers the given question even though the context has relevant information to answer the question completely.\\n\\n0.5\\n0.5\"\n",
      "   },\n",
      "   {\n",
      "      \"question\": \"Could you provide an overview of the company's financial performance in the last quarter?\",\n",
      "      \"context\": \"In the last quarter, the company experienced increased revenue due to successful product launches and cost-cutting measures.\",\n",
      "      \"response\": \"The company made more money.\",\n",
      "      \"score_response_completeness_wrt_context\": 0.0,\n",
      "      \"explanation_response_completeness_wrt_context\": \"1. The question asks for an overview of the company's financial performance in the last quarter.\\n2. The context provides information about increased revenue due to successful product launches and cost-cutting measures.\\n3. The machine-generated response states \\\"The company made more money.\\\"\\n4. The response does not provide an overview of the company's financial performance in the last quarter.\\n5. The response does not mention anything about revenue, product launches, or cost-cutting measures.\\n6. Therefore, the generated answer doesn't answer the given question at all even though the context has relevant information to answer the question.\\n\\nScore: 0.0\\n0.0\"\n",
      "   }\n",
      "]\n"
     ]
    }
   ],
   "source": [
    "print(json.dumps(res, indent=3))"
   ]
  }
 ],
 "metadata": {
  "kernelspec": {
   "display_name": "Python 3 (ipykernel)",
   "language": "python",
   "name": "python3"
  },
  "language_info": {
   "codemirror_mode": {
    "name": "ipython",
    "version": 3
   },
   "file_extension": ".py",
   "mimetype": "text/x-python",
   "name": "python",
   "nbconvert_exporter": "python",
   "pygments_lexer": "ipython3",
   "version": "3.10.12"
  }
 },
 "nbformat": 4,
 "nbformat_minor": 5
}
