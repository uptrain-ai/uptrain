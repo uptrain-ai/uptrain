{
 "cells": [
  {
   "cell_type": "markdown",
   "id": "f6539807-d2be-47b6-a39e-aaacb1e6e0bb",
   "metadata": {},
   "source": [
    "<h1 align=\"center\">\n",
    "  <a href=\"https://uptrain.ai\">\n",
    "    <img width=\"300\" src=\"https://user-images.githubusercontent.com/108270398/214240695-4f958b76-c993-4ddd-8de6-8668f4d0da84.png\" alt=\"uptrain\">\n",
    "  </a>\n",
    "</h1>"
   ]
  },
  {
   "cell_type": "markdown",
   "id": "c2403e87-604e-44c6-8d9e-6c5806bc4cd7",
   "metadata": {},
   "source": [
    "<h1 style=\"text-align: center;\">Evaluating Critique Tone</h1>"
   ]
  },
  {
   "cell_type": "markdown",
   "id": "2ef54d59-295e-4f15-a35f-33f4e86ecdd2",
   "metadata": {},
   "source": [
    "**What is Critique Tone Evaluation?**: Critique tone evaluation involves assessing the language model's output in terms of the tone used when following or deviating from guidelines. It aims to ensure that the language model not only adheres to guidelines but also communicates its adherence or deviations in an appropriate and respectful manner.\n",
    "\n",
    "For example, in the context of the appointment booking chatbot, if the LLM decides to redirect a user query to a human agent (as per the guideline), the critique tone evaluation would assess how well the LLM communicates this redirection to the user. A polite and informative tone would be desirable.\n",
    "\n",
    "#### CritiqueTone(\n",
    "    llm_persona: str  # The persona the LLM being assessed was exposed to follow \n",
    "#### )\n"
   ]
  },
  {
   "cell_type": "markdown",
   "id": "76008cf6-dbd3-44bc-8556-86278868e746",
   "metadata": {},
   "source": [
    "Install UpTrain by running 'pip install uptrain'"
   ]
  },
  {
   "cell_type": "code",
   "execution_count": 1,
   "id": "90f4ff7d-10b9-482e-aa92-85c64ffc4057",
   "metadata": {},
   "outputs": [],
   "source": [
    "from uptrain import EvalLLM, CritiqueTone\n",
    "import json\n",
    "\n",
    "OPENAI_API_KEY = \"sk-*****************\"  # Insert your OpenAI key here"
   ]
  },
  {
   "cell_type": "code",
   "execution_count": 3,
   "id": "bf292449-f9df-4e0f-912a-1a3fdedc19f1",
   "metadata": {},
   "outputs": [],
   "source": [
    "strict_teacher_data = [\n",
    "    {\"response\": \"Mitosis is a cell division process that results in two identical daughter cells, each with the same number of chromosomes as the parent cell. Meiosis, on the other hand, is a special type of cell division that produces four non-identical haploid cells, each with half the number of chromosomes of the parent cell.\"},\n",
    "\n",
    "    {\"response\": \"The law of conservation of energy states that energy cannot be created or destroyed, only transformed from one form to another. In a closed system, the total amount of energy remains constant.\"},\n",
    "\n",
    "    {\"response\": \"Balancing a chemical equation involves ensuring that the number of atoms of each element on the reactant side is equal to the number of atoms of the same element on the product side. This is achieved by adjusting coefficients in front of the chemical formulas.\"},\n",
    "\n",
    "    {\"response\": \"Velocity is a vector quantity that measures the rate of change of an object's displacement with respect to time, including both speed and direction. Acceleration, on the other hand, is the rate of change of velocity with respect to time.\"},\n",
    "\n",
    "    {\"response\": \"Shakespeare is considered one of the greatest playwrights due to his unparalleled skill in capturing the complexity of human nature, his mastery of language and poetic expression, and the enduring relevance of his works, which explore universal themes.\"},\n",
    "]"
   ]
  },
  {
   "cell_type": "code",
   "execution_count": 4,
   "id": "d15fb087-3ed2-442f-9b23-35c7dbc6128e",
   "metadata": {},
   "outputs": [
    {
     "name": "stderr",
     "output_type": "stream",
     "text": [
      "\u001b[32m2023-12-19 16:14:41.662\u001b[0m | \u001b[1mINFO    \u001b[0m | \u001b[36muptrain.framework.evalllm\u001b[0m:\u001b[36mevaluate\u001b[0m:\u001b[36m100\u001b[0m - \u001b[1mSending evaluation request for rows 0 to <50 to the Uptrain\u001b[0m\n"
     ]
    },
    {
     "name": "stderr",
     "output_type": "stream",
     "text": [
      "\u001b[32m2023-12-19 16:14:45.828\u001b[0m | \u001b[1mINFO    \u001b[0m | \u001b[36muptrain.framework.evalllm\u001b[0m:\u001b[36mevaluate\u001b[0m:\u001b[36m100\u001b[0m - \u001b[1mSending evaluation request for rows 0 to <50 to the Uptrain\u001b[0m\n",
      "\u001b[32m2023-12-19 16:14:48.471\u001b[0m | \u001b[1mINFO    \u001b[0m | \u001b[36muptrain.framework.evalllm\u001b[0m:\u001b[36mevaluate\u001b[0m:\u001b[36m100\u001b[0m - \u001b[1mSending evaluation request for rows 0 to <50 to the Uptrain\u001b[0m\n"
     ]
    }
   ],
   "source": [
    "eval_llm = EvalLLM(openai_api_key=OPENAI_API_KEY)\n",
    "\n",
    "res = eval_llm.evaluate(\n",
    "    data = strict_teacher_data,\n",
    "    checks = [CritiqueTone(llm_persona=\"methodical teacher\")]\n",
    ")"
   ]
  },
  {
   "cell_type": "code",
   "execution_count": 5,
   "metadata": {},
   "outputs": [
    {
     "data": {
      "text/plain": [
       "[0.8, 0.8, 0.8, 0.8, 0.8]"
      ]
     },
     "execution_count": 5,
     "metadata": {},
     "output_type": "execute_result"
    }
   ],
   "source": [
    "[i[\"score_tone\"] for i in res]"
   ]
  },
  {
   "cell_type": "code",
   "execution_count": 6,
   "id": "0a950849-0348-450f-add0-cea2c1423525",
   "metadata": {},
   "outputs": [
    {
     "name": "stdout",
     "output_type": "stream",
     "text": [
      "[\n",
      "   {\n",
      "      \"response\": \"Mitosis is a cell division process that results in two identical daughter cells, each with the same number of chromosomes as the parent cell. Meiosis, on the other hand, is a special type of cell division that produces four non-identical haploid cells, each with half the number of chromosomes of the parent cell.\",\n",
      "      \"score_tone\": 0.8,\n",
      "      \"explanation_tone\": \"The tone of the response aligns well with the persona of a methodical teacher. It provides clear and concise information about the topic without any unnecessary embellishments.\"\n",
      "   },\n",
      "   {\n",
      "      \"response\": \"The law of conservation of energy states that energy cannot be created or destroyed, only transformed from one form to another. In a closed system, the total amount of energy remains constant.\",\n",
      "      \"score_tone\": 0.8,\n",
      "      \"explanation_tone\": \"The tone of the response aligns well with the persona of a methodical teacher. It is informative and straightforward, providing a clear explanation of the concept without unnecessary embellishments.\"\n",
      "   },\n",
      "   {\n",
      "      \"response\": \"Balancing a chemical equation involves ensuring that the number of atoms of each element on the reactant side is equal to the number of atoms of the same element on the product side. This is achieved by adjusting coefficients in front of the chemical formulas.\",\n",
      "      \"score_tone\": 0.8,\n",
      "      \"explanation_tone\": \"The tone of the response aligns well with the persona of a methodical teacher. It provides clear and concise information about balancing chemical equations and explains the process in a logical and systematic manner.\"\n",
      "   },\n",
      "   {\n",
      "      \"response\": \"Velocity is a vector quantity that measures the rate of change of an object's displacement with respect to time, including both speed and direction. Acceleration, on the other hand, is the rate of change of velocity with respect to time.\",\n",
      "      \"score_tone\": 0.8,\n",
      "      \"explanation_tone\": \"The tone of the machine-generated response aligns well with the expectations for a methodical teacher. It provides a clear and concise explanation of the concepts, without any unnecessary embellishments.\"\n",
      "   },\n",
      "   {\n",
      "      \"response\": \"Shakespeare is considered one of the greatest playwrights due to his unparalleled skill in capturing the complexity of human nature, his mastery of language and poetic expression, and the enduring relevance of his works, which explore universal themes.\",\n",
      "      \"score_tone\": 0.8,\n",
      "      \"explanation_tone\": \"The tone of the response aligns well with the persona of a methodical teacher. It is informative and provides a clear explanation of why Shakespeare is considered one of the greatest playwrights.\"\n",
      "   }\n",
      "]\n"
     ]
    }
   ],
   "source": [
    "print(json.dumps(res,indent=3))"
   ]
  },
  {
   "cell_type": "code",
   "execution_count": 7,
   "metadata": {},
   "outputs": [],
   "source": [
    "fun_teacher_data = [\n",
    "    {\"response\": \"Mitosis and meiosis are like the yin and yang of cell division. Mitosis makes mini-me cells, identical and ready for action, while meiosis is the wild party where cells swap genetic goodies, creating a diverse bunch of offspring.\"},\n",
    "\n",
    "    {\"response\": \"Picture this: energy is like a cosmic disco ball that never stops grooving. The law of conservation of energy says the total party vibes in a closed system remain constant. No energy left behind on the dance floor!\"},\n",
    "\n",
    "    {\"response\": \"Balancing a chemical equation is like creating a chemical masterpiece! Just sprinkle some coefficients here and there until you've got the perfect formula dance. It's a choreography of atoms.\"},\n",
    "\n",
    "    {\"response\": \"Velocity is like speed's fancy cousin with a sense of direction – it's the total package! Acceleration, on the other hand, is like the speedometer on a roller coaster – it tells you how fast you're picking up speed.\"},\n",
    "\n",
    "    {\"response\": \"Shakespeare, the OG drama queen! He's the ultimate wordsmith, the grand poobah of poetic prowess. His plays are like timeless memes, connecting with us through the ages. It's Shakespeare's world; we're just living in it!\"},\n",
    "]"
   ]
  },
  {
   "cell_type": "code",
   "execution_count": 8,
   "metadata": {},
   "outputs": [
    {
     "name": "stderr",
     "output_type": "stream",
     "text": [
      "\u001b[32m2023-12-19 16:14:51.773\u001b[0m | \u001b[1mINFO    \u001b[0m | \u001b[36muptrain.framework.evalllm\u001b[0m:\u001b[36mevaluate\u001b[0m:\u001b[36m100\u001b[0m - \u001b[1mSending evaluation request for rows 0 to <50 to the Uptrain\u001b[0m\n"
     ]
    },
    {
     "name": "stderr",
     "output_type": "stream",
     "text": [
      "\u001b[32m2023-12-19 16:14:56.931\u001b[0m | \u001b[1mINFO    \u001b[0m | \u001b[36muptrain.framework.evalllm\u001b[0m:\u001b[36mevaluate\u001b[0m:\u001b[36m100\u001b[0m - \u001b[1mSending evaluation request for rows 0 to <50 to the Uptrain\u001b[0m\n",
      "\u001b[32m2023-12-19 16:15:01.372\u001b[0m | \u001b[1mINFO    \u001b[0m | \u001b[36muptrain.framework.evalllm\u001b[0m:\u001b[36mevaluate\u001b[0m:\u001b[36m100\u001b[0m - \u001b[1mSending evaluation request for rows 0 to <50 to the Uptrain\u001b[0m\n"
     ]
    }
   ],
   "source": [
    "eval_llm = EvalLLM(openai_api_key=OPENAI_API_KEY)\n",
    "\n",
    "res = eval_llm.evaluate(\n",
    "    data = fun_teacher_data,\n",
    "    checks = [CritiqueTone(llm_persona=\"methodical teacher\")]\n",
    ")"
   ]
  },
  {
   "cell_type": "code",
   "execution_count": 9,
   "metadata": {},
   "outputs": [
    {
     "name": "stdout",
     "output_type": "stream",
     "text": [
      "[\n",
      "   {\n",
      "      \"response\": \"Mitosis and meiosis are like the yin and yang of cell division. Mitosis makes mini-me cells, identical and ready for action, while meiosis is the wild party where cells swap genetic goodies, creating a diverse bunch of offspring.\",\n",
      "      \"score_tone\": 0.4,\n",
      "      \"explanation_tone\": \"The tone of the response is not appropriate for a methodical teacher. The use of phrases like \\\"yin and yang\\\" and \\\"wild party\\\" is too casual and informal for a teacher. The response should have a more serious and instructional tone.\"\n",
      "   },\n",
      "   {\n",
      "      \"response\": \"Picture this: energy is like a cosmic disco ball that never stops grooving. The law of conservation of energy says the total party vibes in a closed system remain constant. No energy left behind on the dance floor!\",\n",
      "      \"score_tone\": 0.4,\n",
      "      \"explanation_tone\": \"Inappropriate tone for a methodical teacher. The response uses informal language and metaphors that may confuse or distract the student.\"\n",
      "   },\n",
      "   {\n",
      "      \"response\": \"Balancing a chemical equation is like creating a chemical masterpiece! Just sprinkle some coefficients here and there until you've got the perfect formula dance. It's a choreography of atoms.\",\n",
      "      \"score_tone\": 0.4,\n",
      "      \"explanation_tone\": \"Inappropriate tone for a methodical teacher. The response uses overly casual and metaphorical language that may confuse or distract the student. A methodical teacher would typically use clear and precise language to explain concepts.\"\n",
      "   },\n",
      "   {\n",
      "      \"response\": \"Velocity is like speed's fancy cousin with a sense of direction \\u2013 it's the total package! Acceleration, on the other hand, is like the speedometer on a roller coaster \\u2013 it tells you how fast you're picking up speed.\",\n",
      "      \"score_tone\": 0.6,\n",
      "      \"explanation_tone\": \"The tone is somewhat appropriate for a methodical teacher, but it could be improved. The use of informal language like \\\"fancy cousin\\\" and \\\"total package\\\" may not align well with the persona of a methodical teacher. Additionally, the comparison to a roller coaster may not be the most effective way to explain acceleration. A more precise and structured explanation would be expected from a methodical teacher.\"\n",
      "   },\n",
      "   {\n",
      "      \"response\": \"Shakespeare, the OG drama queen! He's the ultimate wordsmith, the grand poobah of poetic prowess. His plays are like timeless memes, connecting with us through the ages. It's Shakespeare's world; we're just living in it!\",\n",
      "      \"score_tone\": 0.4,\n",
      "      \"explanation_tone\": \"Inappropriate tone for a methodical teacher. The response uses informal language and slang, which is not expected from a methodical teacher.\"\n",
      "   }\n",
      "]\n"
     ]
    }
   ],
   "source": [
    "print(json.dumps(res,indent=3))"
   ]
  }
 ],
 "metadata": {
  "kernelspec": {
   "display_name": "Python 3 (ipykernel)",
   "language": "python",
   "name": "python3"
  },
  "language_info": {
   "codemirror_mode": {
    "name": "ipython",
    "version": 3
   },
   "file_extension": ".py",
   "mimetype": "text/x-python",
   "name": "python",
   "nbconvert_exporter": "python",
   "pygments_lexer": "ipython3",
   "version": "3.10.12"
  }
 },
 "nbformat": 4,
 "nbformat_minor": 5
}
