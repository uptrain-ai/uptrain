{
 "cells": [
  {
   "cell_type": "markdown",
   "id": "f6539807-d2be-47b6-a39e-aaacb1e6e0bb",
   "metadata": {},
   "source": [
    "<h1 align=\"center\">\n",
    "  <a href=\"https://uptrain.ai\">\n",
    "    <img width=\"300\" src=\"https://user-images.githubusercontent.com/108270398/214240695-4f958b76-c993-4ddd-8de6-8668f4d0da84.png\" alt=\"uptrain\">\n",
    "  </a>\n",
    "</h1>"
   ]
  },
  {
   "cell_type": "markdown",
   "id": "c2403e87-604e-44c6-8d9e-6c5806bc4cd7",
   "metadata": {},
   "source": [
    "<h1 style=\"text-align: center;\">Evaluating Response Consistency</h1>"
   ]
  },
  {
   "cell_type": "markdown",
   "id": "2ef54d59-295e-4f15-a35f-33f4e86ecdd2",
   "metadata": {},
   "source": [
    "**What is Response Consistency**:Response Consistency is the measure of how well the generated response aligns with both the question asked and the context provided. In evaluating response consistency, it is important to assess whether the information provided in the response directly addresses the query posed by the user and is coherent with any additional context given.\n",
    "\n",
    "For instance, if a user asks a question about a specific medical condition, a consistent response should directly address that condition, taking into account any relevant details mentioned in the context. If the generated response deviates from the question or provides contradictory information, it would be considered inconsistent.\n",
    "\n",
    "Consistency is crucial for the usefulness and reliability of responses, especially in applications where accurate and coherent information is vital, such as healthcare, finance, and legal contexts. In these fields, a lack of response consistency could lead to misunderstandings, errors in decision-making, and potential harm.\n",
    "\n",
    "**Data schema**:\n",
    "\n",
    "The data schema for evaluating response consistency includes the following columns:\n",
    "\n",
    "| Column Name | Description |\n",
    "| ----------- | ----------- |\n",
    "| question | The question asked by the user |\n",
    "| context | Additional information provided that can be used to answer the question |\n",
    "| response | The response given by the model |"
   ]
  },
  {
   "cell_type": "markdown",
   "id": "76008cf6-dbd3-44bc-8556-86278868e746",
   "metadata": {},
   "source": [
    "Install UpTrain by running 'pip install uptrain'"
   ]
  },
  {
   "cell_type": "code",
   "execution_count": 1,
   "id": "90f4ff7d-10b9-482e-aa92-85c64ffc4057",
   "metadata": {},
   "outputs": [],
   "source": [
    "from uptrain import EvalLLM, Evals\n",
    "import json\n",
    "\n",
    "OPENAI_API_KEY = \"sk-*****************\"  # Insert your OpenAI key here"
   ]
  },
  {
   "cell_type": "markdown",
   "metadata": {},
   "source": [
    "Let's first evaluate some data with factually correct responses (with respect to the context)."
   ]
  },
  {
   "cell_type": "code",
   "execution_count": 3,
   "id": "11a472a8",
   "metadata": {},
   "outputs": [],
   "source": [
    "good_data = [\n",
    "   {\n",
    "      \"question\": \"What causes diabetes?\",\n",
    "      \"context\": \"Diabetes is a metabolic disorder characterized by high blood sugar levels. It is primarily caused by a combination of genetic and environmental factors, including obesity and lack of physical activity.\",\n",
    "      \"response\": \"Diabetes is primarily caused by a combination of genetic and environmental factors, including obesity and lack of physical activity.\"\n",
    "   },\n",
    "   {\n",
    "      \"question\": \"How is pneumonia treated?\",\n",
    "      \"context\": \"Pneumonia is an infection that inflames the air sacs in one or both lungs. It is typically treated with antibiotics, rest, and supportive care. The choice of antibiotics depends on the type of pneumonia and its severity.\",\n",
    "      \"response\": \"Pneumonia is typically treated with antibiotics, rest, and supportive care. The choice of antibiotics depends on the type of pneumonia and its severity.\"\n",
    "   },\n",
    "   {\n",
    "      \"question\": \"Is the flu vaccine effective?\",\n",
    "      \"context\": \"The influenza vaccine is recommended to prevent seasonal flu. Yes, the flu vaccine is generally effective in preventing or reducing the severity of influenza. However, its effectiveness can vary based on factors such as age and the match between the vaccine and circulating flu strains.\",\n",
    "      \"response\": \"Yes, the flu vaccine is generally effective in preventing or reducing the severity of influenza. However, its effectiveness can vary based on factors such as age and the match between the vaccine and circulating flu strains.\"\n",
    "   },\n",
    "   {\n",
    "      \"question\": \"What are the symptoms of a heart attack?\",\n",
    "      \"context\": \"A heart attack, or myocardial infarction, occurs when the blood supply to the heart muscle is blocked. Symptoms of a heart attack may include chest pain or discomfort, shortness of breath, nausea, lightheadedness, and pain or discomfort in one or both arms, the jaw, neck, or back.\",\n",
    "      \"response\": \"Symptoms of a heart attack may include chest pain or discomfort, shortness of breath, nausea, lightheadedness, and pain or discomfort in one or both arms, the jaw, neck, or back.\"\n",
    "   },\n",
    "   {\n",
    "      \"question\": \"Can stress cause physical health problems?\",\n",
    "      \"context\": \"Stress is the body's response to challenges or threats. Yes, chronic stress can contribute to various physical health problems, including cardiovascular issues, digestive problems, and a weakened immune system.\",\n",
    "      \"response\": \"Yes, chronic stress can contribute to various physical health problems, including cardiovascular issues, digestive problems, and a weakened immune system.\"\n",
    "   }\n",
    "]"
   ]
  },
  {
   "cell_type": "code",
   "execution_count": 4,
   "id": "d15fb087-3ed2-442f-9b23-35c7dbc6128e",
   "metadata": {},
   "outputs": [
    {
     "name": "stderr",
     "output_type": "stream",
     "text": [
      "\u001b[32m2023-12-18 14:56:48.574\u001b[0m | \u001b[1mINFO    \u001b[0m | \u001b[36muptrain.framework.evalllm\u001b[0m:\u001b[36mevaluate\u001b[0m:\u001b[36m100\u001b[0m - \u001b[1mSending evaluation request for rows 0 to <50 to the Uptrain\u001b[0m\n"
     ]
    },
    {
     "name": "stderr",
     "output_type": "stream",
     "text": [
      "\u001b[32m2023-12-18 14:57:02.362\u001b[0m | \u001b[1mINFO    \u001b[0m | \u001b[36muptrain.framework.evalllm\u001b[0m:\u001b[36mevaluate\u001b[0m:\u001b[36m100\u001b[0m - \u001b[1mSending evaluation request for rows 0 to <50 to the Uptrain\u001b[0m\n",
      "\u001b[32m2023-12-18 14:57:15.360\u001b[0m | \u001b[1mINFO    \u001b[0m | \u001b[36muptrain.framework.evalllm\u001b[0m:\u001b[36mevaluate\u001b[0m:\u001b[36m100\u001b[0m - \u001b[1mSending evaluation request for rows 0 to <50 to the Uptrain\u001b[0m\n"
     ]
    }
   ],
   "source": [
    "eval_llm = EvalLLM(openai_api_key=OPENAI_API_KEY)\n",
    "\n",
    "res = eval_llm.evaluate(\n",
    "    data = good_data,\n",
    "    checks = [Evals.RESPONSE_CONSISTENCY]\n",
    ")"
   ]
  },
  {
   "cell_type": "code",
   "execution_count": 5,
   "id": "0a950849-0348-450f-add0-cea2c1423525",
   "metadata": {},
   "outputs": [
    {
     "name": "stdout",
     "output_type": "stream",
     "text": [
      "[\n",
      "   {\n",
      "      \"question\": \"What causes diabetes?\",\n",
      "      \"context\": \"Diabetes is a metabolic disorder characterized by high blood sugar levels. It is primarily caused by a combination of genetic and environmental factors, including obesity and lack of physical activity.\",\n",
      "      \"response\": \"Diabetes is primarily caused by a combination of genetic and environmental factors, including obesity and lack of physical activity.\",\n",
      "      \"score_response_consistency\": 0.9,\n",
      "      \"explanation_response_consistency\": \"The argument is logical and well-supported by the information in the context. The response accurately reflects the causes of diabetes mentioned in the context, making it a suitable answer to the question.\"\n",
      "   },\n",
      "   {\n",
      "      \"question\": \"How is pneumonia treated?\",\n",
      "      \"context\": \"Pneumonia is an infection that inflames the air sacs in one or both lungs. It is typically treated with antibiotics, rest, and supportive care. The choice of antibiotics depends on the type of pneumonia and its severity.\",\n",
      "      \"response\": \"Pneumonia is typically treated with antibiotics, rest, and supportive care. The choice of antibiotics depends on the type of pneumonia and its severity.\",\n",
      "      \"score_response_consistency\": 0.9,\n",
      "      \"explanation_response_consistency\": \"The argument is logical and well-supported by the information in the context. The response provides a concise and accurate summary of the treatment approach for pneumonia, including the use of antibiotics, rest, and supportive care. It also acknowledges the importance of considering the type and severity of pneumonia when determining the choice of antibiotics. Overall, the argument is strong and aligns with the information provided.\"\n",
      "   },\n",
      "   {\n",
      "      \"question\": \"Is the flu vaccine effective?\",\n",
      "      \"context\": \"The influenza vaccine is recommended to prevent seasonal flu. Yes, the flu vaccine is generally effective in preventing or reducing the severity of influenza. However, its effectiveness can vary based on factors such as age and the match between the vaccine and circulating flu strains.\",\n",
      "      \"response\": \"Yes, the flu vaccine is generally effective in preventing or reducing the severity of influenza. However, its effectiveness can vary based on factors such as age and the match between the vaccine and circulating flu strains.\",\n",
      "      \"score_response_consistency\": 0.9,\n",
      "      \"explanation_response_consistency\": \"The argument is logical and well-supported by the information in the context. The response accurately reflects the information provided in the context and provides a nuanced answer to the question about the effectiveness of the flu vaccine.\"\n",
      "   },\n",
      "   {\n",
      "      \"question\": \"What are the symptoms of a heart attack?\",\n",
      "      \"context\": \"A heart attack, or myocardial infarction, occurs when the blood supply to the heart muscle is blocked. Symptoms of a heart attack may include chest pain or discomfort, shortness of breath, nausea, lightheadedness, and pain or discomfort in one or both arms, the jaw, neck, or back.\",\n",
      "      \"response\": \"Symptoms of a heart attack may include chest pain or discomfort, shortness of breath, nausea, lightheadedness, and pain or discomfort in one or both arms, the jaw, neck, or back.\",\n",
      "      \"score_response_consistency\": 1.0,\n",
      "      \"explanation_response_consistency\": \"The argument is logical and well-supported by the information in the context. The response provides a concise and accurate list of the symptoms of a heart attack, which directly corresponds to the question asked. There are no logical fallacies or incorrect assumptions in the argument.\"\n",
      "   },\n",
      "   {\n",
      "      \"question\": \"Can stress cause physical health problems?\",\n",
      "      \"context\": \"Stress is the body's response to challenges or threats. Yes, chronic stress can contribute to various physical health problems, including cardiovascular issues, digestive problems, and a weakened immune system.\",\n",
      "      \"response\": \"Yes, chronic stress can contribute to various physical health problems, including cardiovascular issues, digestive problems, and a weakened immune system.\",\n",
      "      \"score_response_consistency\": 1.0,\n",
      "      \"explanation_response_consistency\": \"The argument is logical and well-supported by the information in the context. The response provides a clear and direct answer to the question, providing specific examples of physical health problems that can be caused by chronic stress.\"\n",
      "   }\n",
      "]\n"
     ]
    }
   ],
   "source": [
    "print(json.dumps(res,indent=3))"
   ]
  },
  {
   "cell_type": "markdown",
   "metadata": {},
   "source": [
    "Now, let's evaluate some data with factually incorrect responses (with respect to the context)."
   ]
  },
  {
   "cell_type": "code",
   "execution_count": 6,
   "metadata": {},
   "outputs": [],
   "source": [
    "bad_data = [\n",
    "    {\n",
    "        'question': \"What causes diabetes?\",\n",
    "        'context': \"Diabetes is a metabolic disorder characterized by high blood sugar levels. It is primarily caused by a combination of genetic and environmental factors, including obesity and lack of physical activity.\",\n",
    "        'response': \"Diabetes is caused by eating too much sugar, and reducing sugar intake can cure it completely.\"\n",
    "    },\n",
    "    {\n",
    "        'question': \"How is pneumonia treated?\",\n",
    "        'context': \"Pneumonia is an infection that inflames the air sacs in one or both lungs. It is typically treated with antibiotics, rest, and supportive care. The choice of antibiotics depends on the type of pneumonia and its severity.\",\n",
    "        'response': \"Pneumonia can be treated with over-the-counter painkillers, and rest is not necessary for recovery.\"\n",
    "    },\n",
    "    {\n",
    "        'question': \"Is the flu vaccine effective?\",\n",
    "        'context': \"The influenza vaccine is recommended to prevent seasonal flu. Yes, the flu vaccine is generally effective in preventing or reducing the severity of influenza. However, its effectiveness can vary based on factors such as age and the match between the vaccine and circulating flu strains.\",\n",
    "        'response': \"The flu vaccine is not effective and may actually increase the risk of getting the flu.\"\n",
    "    },\n",
    "    {\n",
    "        'question': \"What are the symptoms of a heart attack?\",\n",
    "        'context': \"A heart attack, or myocardial infarction, occurs when the blood supply to the heart muscle is blocked. Symptoms of a heart attack may include chest pain or discomfort, shortness of breath, nausea, lightheadedness, and pain or discomfort in one or both arms, the jaw, neck, or back.\",\n",
    "        'response': \"Heart attack symptoms are usually just indigestion and can be relieved with antacids.\"\n",
    "    },\n",
    "    {\n",
    "        'question': \"Can stress cause physical health problems?\",\n",
    "        'context': \"Stress is the body's response to challenges or threats. Yes, chronic stress can contribute to various physical health problems, including cardiovascular issues, digestive problems, and a weakened immune system.\",\n",
    "        'response': \"Stress has no impact on physical health; it's just a mental state and doesn't affect the body.\"\n",
    "    }\n",
    "]\n"
   ]
  },
  {
   "cell_type": "code",
   "execution_count": 7,
   "metadata": {},
   "outputs": [
    {
     "name": "stderr",
     "output_type": "stream",
     "text": [
      "\u001b[32m2023-12-18 14:57:27.220\u001b[0m | \u001b[1mINFO    \u001b[0m | \u001b[36muptrain.framework.evalllm\u001b[0m:\u001b[36mevaluate\u001b[0m:\u001b[36m100\u001b[0m - \u001b[1mSending evaluation request for rows 0 to <50 to the Uptrain\u001b[0m\n"
     ]
    },
    {
     "name": "stderr",
     "output_type": "stream",
     "text": [
      "\u001b[32m2023-12-18 14:57:40.245\u001b[0m | \u001b[1mINFO    \u001b[0m | \u001b[36muptrain.framework.evalllm\u001b[0m:\u001b[36mevaluate\u001b[0m:\u001b[36m100\u001b[0m - \u001b[1mSending evaluation request for rows 0 to <50 to the Uptrain\u001b[0m\n",
      "\u001b[32m2023-12-18 14:57:53.537\u001b[0m | \u001b[1mINFO    \u001b[0m | \u001b[36muptrain.framework.evalllm\u001b[0m:\u001b[36mevaluate\u001b[0m:\u001b[36m100\u001b[0m - \u001b[1mSending evaluation request for rows 0 to <50 to the Uptrain\u001b[0m\n"
     ]
    }
   ],
   "source": [
    "eval_llm = EvalLLM(openai_api_key=OPENAI_API_KEY)\n",
    "\n",
    "res = eval_llm.evaluate(\n",
    "    data = bad_data,\n",
    "    checks = [Evals.RESPONSE_CONSISTENCY]\n",
    ")"
   ]
  },
  {
   "cell_type": "code",
   "execution_count": 8,
   "metadata": {},
   "outputs": [
    {
     "name": "stdout",
     "output_type": "stream",
     "text": [
      "[\n",
      "   {\n",
      "      \"question\": \"What causes diabetes?\",\n",
      "      \"context\": \"Diabetes is a metabolic disorder characterized by high blood sugar levels. It is primarily caused by a combination of genetic and environmental factors, including obesity and lack of physical activity.\",\n",
      "      \"response\": \"Diabetes is caused by eating too much sugar, and reducing sugar intake can cure it completely.\",\n",
      "      \"score_response_consistency\": 0.2,\n",
      "      \"explanation_response_consistency\": \"The argument is logical as it points out the incorrect assumption made in the given response and highlights the complexity of diabetes. However, the argument could be further strengthened by providing more specific information about the various causes of diabetes and the comprehensive treatment approach required.\"\n",
      "   },\n",
      "   {\n",
      "      \"question\": \"How is pneumonia treated?\",\n",
      "      \"context\": \"Pneumonia is an infection that inflames the air sacs in one or both lungs. It is typically treated with antibiotics, rest, and supportive care. The choice of antibiotics depends on the type of pneumonia and its severity.\",\n",
      "      \"response\": \"Pneumonia can be treated with over-the-counter painkillers, and rest is not necessary for recovery.\",\n",
      "      \"score_response_consistency\": 0.0,\n",
      "      \"explanation_response_consistency\": \"The argument is logical and well-supported by the information in the context. The response does not provide accurate information about the treatment of pneumonia, making it inappropriate for the given question.\"\n",
      "   },\n",
      "   {\n",
      "      \"question\": \"Is the flu vaccine effective?\",\n",
      "      \"context\": \"The influenza vaccine is recommended to prevent seasonal flu. Yes, the flu vaccine is generally effective in preventing or reducing the severity of influenza. However, its effectiveness can vary based on factors such as age and the match between the vaccine and circulating flu strains.\",\n",
      "      \"response\": \"The flu vaccine is not effective and may actually increase the risk of getting the flu.\",\n",
      "      \"score_response_consistency\": 0.0,\n",
      "      \"explanation_response_consistency\": \"The argument is logical because the response contradicts the information provided in the context and does not address the question about the effectiveness of the flu vaccine.\"\n",
      "   },\n",
      "   {\n",
      "      \"question\": \"What are the symptoms of a heart attack?\",\n",
      "      \"context\": \"A heart attack, or myocardial infarction, occurs when the blood supply to the heart muscle is blocked. Symptoms of a heart attack may include chest pain or discomfort, shortness of breath, nausea, lightheadedness, and pain or discomfort in one or both arms, the jaw, neck, or back.\",\n",
      "      \"response\": \"Heart attack symptoms are usually just indigestion and can be relieved with antacids.\",\n",
      "      \"score_response_consistency\": 0.0,\n",
      "      \"explanation_response_consistency\": \"1. The question asks for the symptoms of a heart attack.\\n2. The response states that heart attack symptoms are usually just indigestion and can be relieved with antacids.\\n3. The response does not mention any other symptoms of a heart attack.\\n4. The response also suggests that indigestion is the main symptom of a heart attack, which is incorrect.\\n5. The response does not adequately answer the question as it only mentions one incorrect symptom and does not provide a comprehensive list of heart attack symptoms.\\n\\nBased on this reasoning, the correct answer is A. The generated answer doesn't answer the given question at all.\\n\\nScore: 0.0\"\n",
      "   },\n",
      "   {\n",
      "      \"question\": \"Can stress cause physical health problems?\",\n",
      "      \"context\": \"Stress is the body's response to challenges or threats. Yes, chronic stress can contribute to various physical health problems, including cardiovascular issues, digestive problems, and a weakened immune system.\",\n",
      "      \"response\": \"Stress has no impact on physical health; it's just a mental state and doesn't affect the body.\",\n",
      "      \"score_response_consistency\": 0.0,\n",
      "      \"explanation_response_consistency\": \"1. The question asks if stress can cause physical health problems.\\n2. The response states that stress has no impact on physical health and only affects the mind.\\n3. The response does not address the question adequately because it denies any connection between stress and physical health problems.\\n4. The response is incorrect because stress can indeed have a significant impact on physical health. Chronic stress has been linked to various health problems such as heart disease, high blood pressure, weakened immune system, digestive issues, and more.\\n5. Therefore, the generated answer doesn't answer the given question at all.\\n\\nScore: 0.0\"\n",
      "   }\n",
      "]\n"
     ]
    }
   ],
   "source": [
    "print(json.dumps(res,indent=3))"
   ]
  }
 ],
 "metadata": {
  "kernelspec": {
   "display_name": "Python 3 (ipykernel)",
   "language": "python",
   "name": "python3"
  },
  "language_info": {
   "codemirror_mode": {
    "name": "ipython",
    "version": 3
   },
   "file_extension": ".py",
   "mimetype": "text/x-python",
   "name": "python",
   "nbconvert_exporter": "python",
   "pygments_lexer": "ipython3",
   "version": "3.10.12"
  }
 },
 "nbformat": 4,
 "nbformat_minor": 5
}
