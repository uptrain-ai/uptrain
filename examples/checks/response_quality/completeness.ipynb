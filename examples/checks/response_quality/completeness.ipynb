{
 "cells": [
  {
   "cell_type": "markdown",
   "id": "f6539807-d2be-47b6-a39e-aaacb1e6e0bb",
   "metadata": {},
   "source": [
    "<h1 align=\"center\">\n",
    "  <a href=\"https://uptrain.ai\">\n",
    "    <img width=\"300\" src=\"https://user-images.githubusercontent.com/108270398/214240695-4f958b76-c993-4ddd-8de6-8668f4d0da84.png\" alt=\"uptrain\">\n",
    "  </a>\n",
    "</h1>\n"
   ]
  },
  {
   "cell_type": "markdown",
   "id": "c2403e87-604e-44c6-8d9e-6c5806bc4cd7",
   "metadata": {},
   "source": [
    "<h1 style=\"text-align: center;\">Evaluating Response Completeness</h1>\n"
   ]
  },
  {
   "cell_type": "markdown",
   "id": "2ef54d59-295e-4f15-a35f-33f4e86ecdd2",
   "metadata": {},
   "source": [
    "**What is Response Completeness?**: Response Completeness is a metric that determines how well a model answers all aspects of a question. This is important when making important decisions where you want to consider all aspects of a question.\n",
    "\n",
    "For example, if you are asking a model to determine if a person is eligible for a loan, you want to make sure that the model considers all aspects of the person's financial situation. If the model only considers the person's income, it may not be able to make an accurate decision.\n",
    "\n",
    "**Data schema**: The data schema required for this evaluation is as follows:\n",
    "\n",
    "| Column Name | Description                     |\n",
    "| ----------- | ------------------------------- |\n",
    "| question    | The question asked by the user  |\n",
    "| response    | The response given by the model |\n"
   ]
  },
  {
   "cell_type": "markdown",
   "id": "76008cf6-dbd3-44bc-8556-86278868e746",
   "metadata": {},
   "source": [
    "Install UpTrain by running 'pip install uptrain'\n"
   ]
  },
  {
   "cell_type": "code",
   "execution_count": 1,
   "id": "90f4ff7d-10b9-482e-aa92-85c64ffc4057",
   "metadata": {},
   "outputs": [],
   "source": [
    "from uptrain import EvalLLM, Evals\n",
    "import json\n",
    "\n",
    "OPENAI_API_KEY = \"sk-*****************\"  # Insert your OpenAI key here"
   ]
  },
  {
   "cell_type": "markdown",
   "metadata": {},
   "source": [
    "Let's look at some good data first. The first question asks about the best ways to save money. The response contains many different ways as well as specific tips to save money. This is a complete response. The other two responses are also good and complete."
   ]
  },
  {
   "cell_type": "code",
   "execution_count": 2,
   "id": "a540fc5a",
   "metadata": {},
   "outputs": [],
   "source": [
    "good_data = [{\n",
    "    \"question\": \"What are the best ways to save money?\",\n",
    "    \"response\": \"There are many ways to save money, including:\\\n",
    "\\\n",
    "* Creating a budget and tracking your spending\\\n",
    "* Cutting back on unnecessary expenses\\\n",
    "* Saving money on your groceries and other everyday purchases\\\n",
    "* Investing your money wisely\\\n",
    "\\\n",
    "Here are some specific tips for saving money:\\\n",
    "\\\n",
    "* Set financial goals. What are you saving for? Once you know what you're saving for, you can create a plan to reach your goals.\\\n",
    "* Create a budget. A budget can help you track your income and expenses, so you can see where your money is going and make changes to save more.\\\n",
    "* Cut back on unnecessary expenses. Take a close look at your spending and identify any areas where you can cut back. For example, you could cook more meals at home instead of eating out, or cancel unused subscriptions.\\\n",
    "* Save money on your groceries and other everyday purchases. There are many ways to save money on groceries and other everyday purchases, such as using coupons, shopping at discount stores, and buying in bulk.\\\n",
    "* Invest your money wisely. Investing is a great way to grow your money over time. However, it's important to do your research and invest in a way that's appropriate for your risk tolerance and financial goals.\"\n",
    "},\n",
    "    {\n",
    "    \"question\": \"What are the different types of business loans?\",\n",
    "    \"response\": \"There are many different types of business loans available, depending on the needs of your business. Some of the most common types of business loans include:\\\n",
    "\\\n",
    "\\\n",
    "* Term loans: Term loans are repaid over a set period of time, typically with equal monthly payments.\\\n",
    "* Line of credit: A line of credit is a revolving loan that you can borrow from and repay as needed.\\\n",
    "* Equipment loans: Equipment loans are used to finance the purchase of equipment for your business.\\\n",
    "* Real estate loans: Real estate loans are used to finance the purchase of commercial real estate for your business.\\\n",
    "* SBA loans: SBA loans are guaranteed by the Small Business Administration, making them easier to qualify for.\\\n",
    "\\\n",
    "To choose the right type of business loan for your needs, you should consider the following factors:\\\n",
    "\\\n",
    "* The amount of money you need to borrow\\\n",
    "* The purpose of the loan\\\n",
    "* Your credit score and financial history\\\n",
    "* The term of the loan\\\n",
    "* The interest rate\\\n",
    "\\\n",
    "You should also compare offers from multiple lenders before choosing a loan.\"\n",
    "},\n",
    "    {\n",
    "    \"question\": \"What are the tax implications of starting a business?\",\n",
    "    \"response\": \"There are a number of tax implications to consider when starting a business. Some of the most important tax considerations include:\\\n",
    "\\\n",
    "* The type of business entity you choose: The type of business entity you choose will affect how your business is taxed. For example, sole proprietors and partnerships are taxed as pass-through entities, meaning that the business income is passed through to the owners and taxed on their individual tax returns. Corporations, on the other hand, are taxed as separate entities.\\\n",
    "* Business income and expenses: All business income is subject to income tax. Business expenses can be deducted to reduce taxable income. However, there are certain rules that apply to business deductions.\\\n",
    "* Self-employment tax: Self-employment tax is a combination of Social Security and Medicare taxes that self-employed individuals must pay.\\\n",
    "* Estimated taxes: Self-employed individuals and businesses that expect to owe more than $1,000 in taxes for the year are required to make estimated tax payments throughout the year.\\\n",
    "\\\n",
    "It is important to consult with a tax advisor to discuss the specific tax implications of starting your business.\"\n",
    "}\n",
    "]"
   ]
  },
  {
   "cell_type": "code",
   "execution_count": 3,
   "id": "d15fb087-3ed2-442f-9b23-35c7dbc6128e",
   "metadata": {},
   "outputs": [
    {
     "name": "stderr",
     "output_type": "stream",
     "text": [
      "\u001b[32m2023-11-16 12:27:37.114\u001b[0m | \u001b[1mINFO    \u001b[0m | \u001b[36muptrain.framework.evalllm\u001b[0m:\u001b[36mevaluate\u001b[0m:\u001b[36m95\u001b[0m - \u001b[1mSending evaluation request for rows 0 to <50 to the Uptrain\u001b[0m\n"
     ]
    },
    {
     "name": "stderr",
     "output_type": "stream",
     "text": [
      "\u001b[32m2023-11-16 12:27:47.567\u001b[0m | \u001b[1mINFO    \u001b[0m | \u001b[36muptrain.framework.evalllm\u001b[0m:\u001b[36mevaluate\u001b[0m:\u001b[36m95\u001b[0m - \u001b[1mSending evaluation request for rows 0 to <50 to the Uptrain\u001b[0m\n",
      "\u001b[32m2023-11-16 12:27:52.009\u001b[0m | \u001b[1mINFO    \u001b[0m | \u001b[36muptrain.framework.evalllm\u001b[0m:\u001b[36mevaluate\u001b[0m:\u001b[36m95\u001b[0m - \u001b[1mSending evaluation request for rows 0 to <50 to the Uptrain\u001b[0m\n"
     ]
    }
   ],
   "source": [
    "eval_llm = EvalLLM(openai_api_key=OPENAI_API_KEY)\n",
    "\n",
    "res = eval_llm.evaluate(\n",
    "    data=good_data,\n",
    "    checks=[Evals.RESPONSE_COMPLETENESS]\n",
    ")"
   ]
  },
  {
   "cell_type": "markdown",
   "metadata": {},
   "source": [
    "Now let's look at the results of the UpTrain evaluation. We can see that the responses have been given a high score along with a detailed explanation of why the score was given."
   ]
  },
  {
   "cell_type": "code",
   "execution_count": 4,
   "id": "0a950849-0348-450f-add0-cea2c1423525",
   "metadata": {},
   "outputs": [
    {
     "name": "stdout",
     "output_type": "stream",
     "text": [
      "[\n",
      "   {\n",
      "      \"question\": \"What are the best ways to save money?\",\n",
      "      \"response\": \"There are many ways to save money, including:* Creating a budget and tracking your spending* Cutting back on unnecessary expenses* Saving money on your groceries and other everyday purchases* Investing your money wiselyHere are some specific tips for saving money:* Set financial goals. What are you saving for? Once you know what you're saving for, you can create a plan to reach your goals.* Create a budget. A budget can help you track your income and expenses, so you can see where your money is going and make changes to save more.* Cut back on unnecessary expenses. Take a close look at your spending and identify any areas where you can cut back. For example, you could cook more meals at home instead of eating out, or cancel unused subscriptions.* Save money on your groceries and other everyday purchases. There are many ways to save money on groceries and other everyday purchases, such as using coupons, shopping at discount stores, and buying in bulk.* Invest your money wisely. Investing is a great way to grow your money over time. However, it's important to do your research and invest in a way that's appropriate for your risk tolerance and financial goals.\",\n",
      "      \"score_response_completeness\": 1.0,\n",
      "      \"explanation_response_completeness\": \"1. The question asks for the best ways to save money.\\n2. The response provides a list of ways to save money, including creating a budget, cutting back on unnecessary expenses, saving money on groceries and everyday purchases, and investing money wisely.\\n3. The response also provides specific tips for saving money, such as setting financial goals, creating a budget, cutting back on unnecessary expenses, saving money on groceries and everyday purchases, and investing money wisely.\\n4. The response addresses the question by providing relevant and adequate information on the best ways to save money.\\n5. Therefore, the generated answer answers the given question adequately.\\n\\nThe score is 1.0\\n1.0\"\n",
      "   },\n",
      "   {\n",
      "      \"question\": \"What are the different types of business loans?\",\n",
      "      \"response\": \"There are many different types of business loans available, depending on the needs of your business. Some of the most common types of business loans include:* Term loans: Term loans are repaid over a set period of time, typically with equal monthly payments.* Line of credit: A line of credit is a revolving loan that you can borrow from and repay as needed.* Equipment loans: Equipment loans are used to finance the purchase of equipment for your business.* Real estate loans: Real estate loans are used to finance the purchase of commercial real estate for your business.* SBA loans: SBA loans are guaranteed by the Small Business Administration, making them easier to qualify for.To choose the right type of business loan for your needs, you should consider the following factors:* The amount of money you need to borrow* The purpose of the loan* Your credit score and financial history* The term of the loan* The interest rateYou should also compare offers from multiple lenders before choosing a loan.\",\n",
      "      \"score_response_completeness\": 1.0,\n",
      "      \"explanation_response_completeness\": \"The machine-generated response provides a comprehensive list of different types of business loans, including term loans, line of credit, equipment loans, real estate loans, and SBA loans. It also mentions factors to consider when choosing the right type of business loan. \\n\\nThe response directly addresses the question by providing a clear and relevant answer. It adequately explains the different types of business loans and provides additional information on how to choose the right loan. \\n\\nTherefore, the generated answer answers the given question adequately. \\n\\nScore: 1.0\\n1.0\"\n",
      "   },\n",
      "   {\n",
      "      \"question\": \"What are the tax implications of starting a business?\",\n",
      "      \"response\": \"There are a number of tax implications to consider when starting a business. Some of the most important tax considerations include:* The type of business entity you choose: The type of business entity you choose will affect how your business is taxed. For example, sole proprietors and partnerships are taxed as pass-through entities, meaning that the business income is passed through to the owners and taxed on their individual tax returns. Corporations, on the other hand, are taxed as separate entities.* Business income and expenses: All business income is subject to income tax. Business expenses can be deducted to reduce taxable income. However, there are certain rules that apply to business deductions.* Self-employment tax: Self-employment tax is a combination of Social Security and Medicare taxes that self-employed individuals must pay.* Estimated taxes: Self-employed individuals and businesses that expect to owe more than $1,000 in taxes for the year are required to make estimated tax payments throughout the year.It is important to consult with a tax advisor to discuss the specific tax implications of starting your business.\",\n",
      "      \"score_response_completeness\": 1.0,\n",
      "      \"explanation_response_completeness\": \"The machine-generated response provides a detailed explanation of the tax implications of starting a business. It mentions important considerations such as the type of business entity, business income and expenses, self-employment tax, and estimated taxes. It also advises consulting with a tax advisor for specific implications. \\n\\nThe response is directly relevant to the question and adequately answers it by providing comprehensive information about the tax implications of starting a business. \\n\\nTherefore, the score is 1.0.\"\n",
      "   }\n",
      "]\n"
     ]
    }
   ],
   "source": [
    "print(json.dumps(res, indent=3))"
   ]
  },
  {
   "cell_type": "markdown",
   "metadata": {},
   "source": [
    "We can look at the explanation for the first response and see that it is logical and reasonable. "
   ]
  },
  {
   "cell_type": "code",
   "execution_count": 5,
   "metadata": {},
   "outputs": [
    {
     "name": "stdout",
     "output_type": "stream",
     "text": [
      "1. The question asks for the best ways to save money.\n",
      "2. The response provides a list of ways to save money, including creating a budget, cutting back on unnecessary expenses, saving money on groceries and everyday purchases, and investing money wisely.\n",
      "3. The response also provides specific tips for saving money, such as setting financial goals, creating a budget, cutting back on unnecessary expenses, saving money on groceries and everyday purchases, and investing money wisely.\n",
      "4. The response addresses the question by providing relevant and adequate information on the best ways to save money.\n",
      "5. Therefore, the generated answer answers the given question adequately.\n",
      "\n",
      "The score is 1.0\n",
      "1.0\n"
     ]
    }
   ],
   "source": [
    "print(res[0][\"explanation_response_completeness\"])"
   ]
  },
  {
   "cell_type": "markdown",
   "metadata": {},
   "source": [
    "Now, let's look at some bad data. We will take up the same questions, but with bad responses and look at the results of the UpTrain evaluation. Looking at the response of the first question again, we can easily tell that it is not a good response and does not answer the question completely. Let's also see what happens when we give a response that is not even in the same domain as the question. "
   ]
  },
  {
   "cell_type": "code",
   "execution_count": 6,
   "id": "0c373c9c",
   "metadata": {},
   "outputs": [],
   "source": [
    "bad_data = [{\n",
    "    \"question\": \"What are the best ways to save money?\",\n",
    "    \"response\": \"Just don't spend money. It's that simple.\",\n",
    "},\n",
    "    {\n",
    "    \"question\": \"What are the tax implications of starting a business?\",\n",
    "    \"response\": \"Taxes are complicated. You should hire an accountant to help you with your taxes.\",\n",
    "},\n",
    "    {\n",
    "    \"question\": \"What are the different types of business loans?\",\n",
    "    \"response\": \"Fruits with high water content, such as watermelon and cantaloupe, are good for hydration.\",\n",
    "}]"
   ]
  },
  {
   "cell_type": "code",
   "execution_count": 7,
   "id": "1d367008",
   "metadata": {},
   "outputs": [
    {
     "name": "stderr",
     "output_type": "stream",
     "text": [
      "\u001b[32m2023-11-16 12:27:56.483\u001b[0m | \u001b[1mINFO    \u001b[0m | \u001b[36muptrain.framework.evalllm\u001b[0m:\u001b[36mevaluate\u001b[0m:\u001b[36m95\u001b[0m - \u001b[1mSending evaluation request for rows 0 to <50 to the Uptrain\u001b[0m\n",
      "\u001b[32m2023-11-16 12:28:01.054\u001b[0m | \u001b[1mINFO    \u001b[0m | \u001b[36muptrain.framework.evalllm\u001b[0m:\u001b[36mevaluate\u001b[0m:\u001b[36m95\u001b[0m - \u001b[1mSending evaluation request for rows 0 to <50 to the Uptrain\u001b[0m\n",
      "\u001b[32m2023-11-16 12:28:05.993\u001b[0m | \u001b[1mINFO    \u001b[0m | \u001b[36muptrain.framework.evalllm\u001b[0m:\u001b[36mevaluate\u001b[0m:\u001b[36m95\u001b[0m - \u001b[1mSending evaluation request for rows 0 to <50 to the Uptrain\u001b[0m\n"
     ]
    }
   ],
   "source": [
    "res = eval_llm.evaluate(\n",
    "    data=bad_data,\n",
    "    checks=[Evals.RESPONSE_COMPLETENESS]\n",
    ")"
   ]
  },
  {
   "cell_type": "markdown",
   "metadata": {},
   "source": [
    "Let's look at the results of the evaluations."
   ]
  },
  {
   "cell_type": "code",
   "execution_count": 8,
   "id": "23751ef5",
   "metadata": {},
   "outputs": [
    {
     "name": "stdout",
     "output_type": "stream",
     "text": [
      "[\n",
      "   {\n",
      "      \"question\": \"What are the best ways to save money?\",\n",
      "      \"response\": \"Just don't spend money. It's that simple.\",\n",
      "      \"score_response_completeness\": 0.5,\n",
      "      \"explanation_response_completeness\": \"1. The question asks for the best ways to save money.\\n2. The machine-generated response states, \\\"Just don't spend money. It's that simple.\\\"\\n3. The response does not provide any specific ways or strategies to save money.\\n4. Instead, the response suggests not spending money as the solution.\\n5. While not spending money can be a way to save money, it is not a comprehensive answer to the question.\\n6. The response does not address other potential ways to save money such as budgeting, cutting expenses, or investing.\\n7. Therefore, the generated answer only partially answers the given question.\\n8. The correct choice is B: The generated answer only partially answers the given question.\\n\\n0.5\\n0.5\"\n",
      "   },\n",
      "   {\n",
      "      \"question\": \"What are the tax implications of starting a business?\",\n",
      "      \"response\": \"Taxes are complicated. You should hire an accountant to help you with your taxes.\",\n",
      "      \"score_response_completeness\": 0.5,\n",
      "      \"explanation_response_completeness\": \"1. The question asks about the tax implications of starting a business.\\n2. The response acknowledges that taxes are complicated.\\n3. The response suggests hiring an accountant to help with taxes.\\n4. While the response does not directly provide information about the tax implications of starting a business, it does offer a relevant suggestion to seek professional help.\\n5. The response does not fully answer the question but provides a partial answer by recommending hiring an accountant.\\n6. Therefore, the generated answer only partially answers the given question.\\n\\nThe generated answer only partially answers the given question. \\n\\n0.5\\n0.5\"\n",
      "   },\n",
      "   {\n",
      "      \"question\": \"What are the different types of business loans?\",\n",
      "      \"response\": \"Fruits with high water content, such as watermelon and cantaloupe, are good for hydration.\",\n",
      "      \"score_response_completeness\": 0.0,\n",
      "      \"explanation_response_completeness\": \"1. The question asks about the different types of business loans.\\n2. The response talks about fruits with high water content, such as watermelon and cantaloupe, being good for hydration.\\n3. The response is completely unrelated to the question and does not provide any information about business loans.\\n4. Therefore, the generated answer doesn't answer the given question at all.\\n\\nScore: 0.0\"\n",
      "   }\n",
      "]\n"
     ]
    }
   ],
   "source": [
    "print(json.dumps(res, indent=3))"
   ]
  },
  {
   "cell_type": "markdown",
   "metadata": {},
   "source": [
    "We can look at the explanation for the first one and contrast it with the explanation for the good response. It is clear that this response misses many aspects of the question and is not a good response and thus gets a score of 0.5."
   ]
  },
  {
   "cell_type": "code",
   "execution_count": 9,
   "metadata": {},
   "outputs": [
    {
     "name": "stdout",
     "output_type": "stream",
     "text": [
      "1. The question asks for the best ways to save money.\n",
      "2. The machine-generated response states, \"Just don't spend money. It's that simple.\"\n",
      "3. The response does not provide any specific ways or strategies to save money.\n",
      "4. Instead, the response suggests not spending money as the solution.\n",
      "5. While not spending money can be a way to save money, it is not a comprehensive answer to the question.\n",
      "6. The response does not address other potential ways to save money such as budgeting, cutting expenses, or investing.\n",
      "7. Therefore, the generated answer only partially answers the given question.\n",
      "8. The correct choice is B: The generated answer only partially answers the given question.\n",
      "\n",
      "0.5\n",
      "0.5\n"
     ]
    }
   ],
   "source": [
    "print(res[0][\"explanation_response_completeness\"])"
   ]
  },
  {
   "cell_type": "markdown",
   "metadata": {},
   "source": [
    "The first two responses got a score of 0.5 because they answered some aspects of the question, but not all. The last response got a score of 0 because it did not answer any aspect of the question. Let's look at the explanation that UpTrain returned for this score."
   ]
  },
  {
   "cell_type": "code",
   "execution_count": 10,
   "metadata": {},
   "outputs": [
    {
     "name": "stdout",
     "output_type": "stream",
     "text": [
      "1. The question asks about the different types of business loans.\n",
      "2. The response talks about fruits with high water content, such as watermelon and cantaloupe, being good for hydration.\n",
      "3. The response is completely unrelated to the question and does not provide any information about business loans.\n",
      "4. Therefore, the generated answer doesn't answer the given question at all.\n",
      "\n",
      "Score: 0.0\n"
     ]
    }
   ],
   "source": [
    "print(res[2][\"explanation_response_completeness\"])"
   ]
  }
 ],
 "metadata": {
  "kernelspec": {
   "display_name": "Python 3 (ipykernel)",
   "language": "python",
   "name": "python3"
  },
  "language_info": {
   "codemirror_mode": {
    "name": "ipython",
    "version": 3
   },
   "file_extension": ".py",
   "mimetype": "text/x-python",
   "name": "python",
   "nbconvert_exporter": "python",
   "pygments_lexer": "ipython3",
   "version": "3.10.12"
  }
 },
 "nbformat": 4,
 "nbformat_minor": 5
}
