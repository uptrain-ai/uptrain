{
 "cells": [
  {
   "cell_type": "code",
   "execution_count": 11,
   "metadata": {},
   "outputs": [],
   "source": [
    "from uptrain import Settings\n",
    "from uptrain.operators import TextCompletion, JsonReader\n",
    "\n",
    "import os\n",
    "import polars as pl\n",
    "import nest_asyncio\n",
    "nest_asyncio.apply()"
   ]
  },
  {
   "cell_type": "code",
   "execution_count": 4,
   "metadata": {},
   "outputs": [
    {
     "name": "stdout",
     "output_type": "stream",
     "text": [
      "shape: (25, 3)\n",
      "┌───────────────────────────────────┬───────────────────────────────────┬─────┐\n",
      "│ question                          ┆ context                           ┆ idx │\n",
      "│ ---                               ┆ ---                               ┆ --- │\n",
      "│ str                               ┆ str                               ┆ i64 │\n",
      "╞═══════════════════════════════════╪═══════════════════════════════════╪═════╡\n",
      "│ How to get a grip on finance?'    ┆ Try downloading a finance app li… ┆ 1   │\n",
      "│ How do “held” amounts appear on … ┆ \"The \"\"hold\"\" is just placeholde… ┆ 2   │\n",
      "│ Does negative P/E ratio mean sto… ┆ P/E is the number of years it wo… ┆ 3   │\n",
      "│ Should a retail trader choose a … ┆ \"That\\'s like a car dealer adver… ┆ 4   │\n",
      "│ Possibility to buy index funds a… ┆ \"As user quid states in his answ… ┆ 5   │\n",
      "│ …                                 ┆ …                                 ┆ …   │\n",
      "│ Discuss the role of inflation in… ┆ Inflation is a pervasive economi… ┆ 21  │\n",
      "│ Explain the concept of plate tec… ┆                                   ┆ 22  │\n",
      "│                                   ┆                                   ┆     │\n",
      "│                                   ┆ The Earth's dynamic and ever-c…   ┆     │\n",
      "│ How did the surrealist movement … ┆                                   ┆ 23  │\n",
      "│                                   ┆                                   ┆     │\n",
      "│                                   ┆                                   ┆     │\n",
      "│                                   ┆ The Surrealist movement, whic…    ┆     │\n",
      "│ Discuss the impact of globalizat… ┆                                   ┆ 24  │\n",
      "│                                   ┆                                   ┆     │\n",
      "│                                   ┆ Globalization, characterized b…   ┆     │\n",
      "│ What are the key differences bet… ┆                                   ┆ 25  │\n",
      "│                                   ┆ In the realm of infectious dise…  ┆     │\n",
      "└───────────────────────────────────┴───────────────────────────────────┴─────┘\n"
     ]
    }
   ],
   "source": [
    "url = \"https://uptrain-assets.s3.ap-south-1.amazonaws.com/data/uptrain_benchmark.jsonl\"\n",
    "dataset_path = os.path.join('./', \"uptrain_benchmark.jsonl\")\n",
    "\n",
    "if not os.path.exists(dataset_path):\n",
    "    import httpx\n",
    "    r = httpx.get(url)\n",
    "    with open(dataset_path, \"wb\") as f:\n",
    "        f.write(r.content)  \n",
    "\n",
    "dataset = pl.read_ndjson(dataset_path)\n",
    "print(dataset)"
   ]
  },
  {
   "cell_type": "code",
   "execution_count": 5,
   "metadata": {},
   "outputs": [
    {
     "name": "stderr",
     "output_type": "stream",
     "text": [
      "\u001b[32m2024-03-06 14:42:17.684\u001b[0m | \u001b[33m\u001b[1mWARNING \u001b[0m | \u001b[36muptrain.operators.language.llm\u001b[0m:\u001b[36mfetch_responses\u001b[0m:\u001b[36m243\u001b[0m - \u001b[33m\u001b[1mDetected a running event loop, scheduling requests in a separate thread.\u001b[0m\n",
      "  0%|          | 0/25 [00:00<?, ?it/s]/Users/dhruvchawla/Work/uptrain-v1/.venv/lib/python3.11/site-packages/pydantic/_internal/_fields.py:151: UserWarning: Field \"model_max_budget\" has conflict with protected namespace \"model_\".\n",
      "\n",
      "You may be able to resolve this warning by setting `model_config['protected_namespaces'] = ()`.\n",
      "  warnings.warn(\n",
      "100%|██████████| 25/25 [05:31<00:00, 13.25s/it]\n",
      "/Users/dhruvchawla/Work/uptrain-v1/uptrain/operators/language/llm.py:246: RuntimeWarning: coroutine 'LLMMulticlient.async_fetch_responses' was never awaited\n",
      "  with ThreadPoolExecutor(max_workers=1) as executor:\n",
      "RuntimeWarning: Enable tracemalloc to get the object allocation traceback\n"
     ]
    },
    {
     "data": {
      "text/html": [
       "<div><style>\n",
       ".dataframe > thead > tr,\n",
       ".dataframe > tbody > tr {\n",
       "  text-align: right;\n",
       "  white-space: pre-wrap;\n",
       "}\n",
       "</style>\n",
       "<small>shape: (25, 5)</small><table border=\"1\" class=\"dataframe\"><thead><tr><th>question</th><th>context</th><th>idx</th><th>model</th><th>response</th></tr><tr><td>str</td><td>str</td><td>i64</td><td>str</td><td>str</td></tr></thead><tbody><tr><td>&quot;How to get a g…</td><td>&quot;Try downloadin…</td><td>1</td><td>&quot;claude-3-opus-…</td><td>&quot;Getting a grip…</td></tr><tr><td>&quot;How do “held” …</td><td>&quot;&quot;The &quot;&quot;hold&quot;&quot; …</td><td>2</td><td>&quot;claude-3-opus-…</td><td>&quot;When a credit …</td></tr><tr><td>&quot;Does negative …</td><td>&quot;P/E is the num…</td><td>3</td><td>&quot;claude-3-opus-…</td><td>&quot;A negative P/E…</td></tr><tr><td>&quot;Should a retai…</td><td>&quot;&quot;That\\&#x27;s like …</td><td>4</td><td>&quot;claude-3-opus-…</td><td>&quot;The decision t…</td></tr><tr><td>&quot;Possibility to…</td><td>&quot;&quot;As user quid …</td><td>5</td><td>&quot;claude-3-opus-…</td><td>&quot;Yes, it is pos…</td></tr><tr><td>&hellip;</td><td>&hellip;</td><td>&hellip;</td><td>&hellip;</td><td>&hellip;</td></tr><tr><td>&quot;Discuss the ro…</td><td>&quot;Inflation is a…</td><td>21</td><td>&quot;claude-3-opus-…</td><td>&quot;Inflation is a…</td></tr><tr><td>&quot;Explain the co…</td><td>&quot;\n",
       "\n",
       "The Earth&#x27;s …</td><td>22</td><td>&quot;claude-3-opus-…</td><td>&quot;Plate tectonic…</td></tr><tr><td>&quot;How did the su…</td><td>&quot;\n",
       "\n",
       "\n",
       "The Surreal…</td><td>23</td><td>&quot;claude-3-opus-…</td><td>&quot;The Surrealist…</td></tr><tr><td>&quot;Discuss the im…</td><td>&quot;\n",
       "\n",
       "Globalizatio…</td><td>24</td><td>&quot;claude-3-opus-…</td><td>&quot;Globalization …</td></tr><tr><td>&quot;What are the k…</td><td>&quot;\n",
       "In the realm …</td><td>25</td><td>&quot;claude-3-opus-…</td><td>&quot;Viral and bact…</td></tr></tbody></table></div>"
      ],
      "text/plain": [
       "shape: (25, 5)\n",
       "┌───────────────────────┬──────────────────────┬─────┬──────────────────────┬──────────────────────┐\n",
       "│ question              ┆ context              ┆ idx ┆ model                ┆ response             │\n",
       "│ ---                   ┆ ---                  ┆ --- ┆ ---                  ┆ ---                  │\n",
       "│ str                   ┆ str                  ┆ i64 ┆ str                  ┆ str                  │\n",
       "╞═══════════════════════╪══════════════════════╪═════╪══════════════════════╪══════════════════════╡\n",
       "│ How to get a grip on  ┆ Try downloading a    ┆ 1   ┆ claude-3-opus-202402 ┆ Getting a grip on    │\n",
       "│ finance?'             ┆ finance app li…      ┆     ┆ 29                   ┆ your finances …      │\n",
       "│ How do “held” amounts ┆ \"The \"\"hold\"\" is     ┆ 2   ┆ claude-3-opus-202402 ┆ When a credit card   │\n",
       "│ appear on …           ┆ just placeholde…     ┆     ┆ 29                   ┆ transaction i…       │\n",
       "│ Does negative P/E     ┆ P/E is the number of ┆ 3   ┆ claude-3-opus-202402 ┆ A negative P/E ratio │\n",
       "│ ratio mean sto…       ┆ years it wo…         ┆     ┆ 29                   ┆ does not ne…         │\n",
       "│ Should a retail       ┆ \"That\\'s like a car  ┆ 4   ┆ claude-3-opus-202402 ┆ The decision to      │\n",
       "│ trader choose a …     ┆ dealer adver…        ┆     ┆ 29                   ┆ choose a broker …    │\n",
       "│ Possibility to buy    ┆ \"As user quid states ┆ 5   ┆ claude-3-opus-202402 ┆ Yes, it is possible  │\n",
       "│ index funds a…        ┆ in his answ…         ┆     ┆ 29                   ┆ to buy both …        │\n",
       "│ …                     ┆ …                    ┆ …   ┆ …                    ┆ …                    │\n",
       "│ Discuss the role of   ┆ Inflation is a       ┆ 21  ┆ claude-3-opus-202402 ┆ Inflation is a       │\n",
       "│ inflation in…         ┆ pervasive economi…   ┆     ┆ 29                   ┆ sustained increas…   │\n",
       "│ Explain the concept   ┆                      ┆ 22  ┆ claude-3-opus-202402 ┆ Plate tectonics is a │\n",
       "│ of plate tec…         ┆                      ┆     ┆ 29                   ┆ scientific …         │\n",
       "│                       ┆ The Earth's dynamic  ┆     ┆                      ┆                      │\n",
       "│                       ┆ and ever-c…          ┆     ┆                      ┆                      │\n",
       "│ How did the           ┆                      ┆ 23  ┆ claude-3-opus-202402 ┆ The Surrealist       │\n",
       "│ surrealist movement … ┆                      ┆     ┆ 29                   ┆ movement, which e…   │\n",
       "│                       ┆                      ┆     ┆                      ┆                      │\n",
       "│                       ┆ The Surrealist       ┆     ┆                      ┆                      │\n",
       "│                       ┆ movement, whic…      ┆     ┆                      ┆                      │\n",
       "│ Discuss the impact of ┆                      ┆ 24  ┆ claude-3-opus-202402 ┆ Globalization has    │\n",
       "│ globalizat…           ┆                      ┆     ┆ 29                   ┆ had a profound…      │\n",
       "│                       ┆ Globalization,       ┆     ┆                      ┆                      │\n",
       "│                       ┆ characterized b…     ┆     ┆                      ┆                      │\n",
       "│ What are the key      ┆                      ┆ 25  ┆ claude-3-opus-202402 ┆ Viral and bacterial  │\n",
       "│ differences bet…      ┆ In the realm of      ┆     ┆ 29                   ┆ infections a…        │\n",
       "│                       ┆ infectious dise…     ┆     ┆                      ┆                      │\n",
       "└───────────────────────┴──────────────────────┴─────┴──────────────────────┴──────────────────────┘"
      ]
     },
     "execution_count": 5,
     "metadata": {},
     "output_type": "execute_result"
    }
   ],
   "source": [
    "dataset_path=\"./benchmark.jsonl\"\n",
    "claude_settings = Settings(model=\"claude-3-opus-20240229\", rpm_limit=4)\n",
    "dataset = JsonReader(fpath=dataset_path).setup(settings=claude_settings).run()[\"output\"]\n",
    "\n",
    "dataset = dataset.with_columns([pl.lit(\"claude-3-opus-20240229\").alias(\"model\")])\n",
    "dataset_with_claude_responses = TextCompletion(col_in_prompt=\"question\", col_out_completion=\"response\").setup(settings=claude_settings).run(dataset)[\"output\"]\n",
    "dataset_with_claude_responses"
   ]
  },
  {
   "cell_type": "code",
   "execution_count": 12,
   "metadata": {},
   "outputs": [
    {
     "name": "stderr",
     "output_type": "stream",
     "text": [
      "100%|██████████| 25/25 [00:28<00:00,  1.14s/it]\n"
     ]
    },
    {
     "data": {
      "text/html": [
       "<div><style>\n",
       ".dataframe > thead > tr,\n",
       ".dataframe > tbody > tr {\n",
       "  text-align: right;\n",
       "  white-space: pre-wrap;\n",
       "}\n",
       "</style>\n",
       "<small>shape: (25, 6)</small><table border=\"1\" class=\"dataframe\"><thead><tr><th>question</th><th>context</th><th>idx</th><th>model</th><th>response</th><th>ground_truth</th></tr><tr><td>str</td><td>str</td><td>i64</td><td>str</td><td>str</td><td>str</td></tr></thead><tbody><tr><td>&quot;How to get a g…</td><td>&quot;Try downloadin…</td><td>1</td><td>&quot;gpt-4&quot;</td><td>&quot;Getting a grip…</td><td>&quot;1. Educate You…</td></tr><tr><td>&quot;How do “held” …</td><td>&quot;&quot;The &quot;&quot;hold&quot;&quot; …</td><td>2</td><td>&quot;gpt-4&quot;</td><td>&quot;When a credit …</td><td>&quot;&quot;Held&quot; amounts…</td></tr><tr><td>&quot;Does negative …</td><td>&quot;P/E is the num…</td><td>3</td><td>&quot;gpt-4&quot;</td><td>&quot;A negative P/E…</td><td>&quot;A negative P/E…</td></tr><tr><td>&quot;Should a retai…</td><td>&quot;&quot;That\\&#x27;s like …</td><td>4</td><td>&quot;gpt-4&quot;</td><td>&quot;The decision t…</td><td>&quot;Whether a reta…</td></tr><tr><td>&quot;Possibility to…</td><td>&quot;&quot;As user quid …</td><td>5</td><td>&quot;gpt-4&quot;</td><td>&quot;Yes, it is pos…</td><td>&quot;Yes, it is pos…</td></tr><tr><td>&hellip;</td><td>&hellip;</td><td>&hellip;</td><td>&hellip;</td><td>&hellip;</td><td>&hellip;</td></tr><tr><td>&quot;Discuss the ro…</td><td>&quot;Inflation is a…</td><td>21</td><td>&quot;gpt-4&quot;</td><td>&quot;Inflation is a…</td><td>&quot;Inflation is a…</td></tr><tr><td>&quot;Explain the co…</td><td>&quot;\n",
       "\n",
       "The Earth&#x27;s …</td><td>22</td><td>&quot;gpt-4&quot;</td><td>&quot;Plate tectonic…</td><td>&quot;Plate tectonic…</td></tr><tr><td>&quot;How did the su…</td><td>&quot;\n",
       "\n",
       "\n",
       "The Surreal…</td><td>23</td><td>&quot;gpt-4&quot;</td><td>&quot;The Surrealist…</td><td>&quot;The Surrealist…</td></tr><tr><td>&quot;Discuss the im…</td><td>&quot;\n",
       "\n",
       "Globalizatio…</td><td>24</td><td>&quot;gpt-4&quot;</td><td>&quot;Globalization …</td><td>&quot;Globalization …</td></tr><tr><td>&quot;What are the k…</td><td>&quot;\n",
       "In the realm …</td><td>25</td><td>&quot;gpt-4&quot;</td><td>&quot;Viral and bact…</td><td>&quot;Viral and bact…</td></tr></tbody></table></div>"
      ],
      "text/plain": [
       "shape: (25, 6)\n",
       "┌─────────────────────┬────────────────────┬─────┬───────┬────────────────────┬────────────────────┐\n",
       "│ question            ┆ context            ┆ idx ┆ model ┆ response           ┆ ground_truth       │\n",
       "│ ---                 ┆ ---                ┆ --- ┆ ---   ┆ ---                ┆ ---                │\n",
       "│ str                 ┆ str                ┆ i64 ┆ str   ┆ str                ┆ str                │\n",
       "╞═════════════════════╪════════════════════╪═════╪═══════╪════════════════════╪════════════════════╡\n",
       "│ How to get a grip   ┆ Try downloading a  ┆ 1   ┆ gpt-4 ┆ Getting a grip on  ┆ 1. Educate         │\n",
       "│ on finance?'        ┆ finance app li…    ┆     ┆       ┆ your finances …    ┆ Yourself: The      │\n",
       "│                     ┆                    ┆     ┆       ┆                    ┆ first s…           │\n",
       "│ How do “held”       ┆ \"The \"\"hold\"\" is   ┆ 2   ┆ gpt-4 ┆ When a credit card ┆ \"Held\" amounts     │\n",
       "│ amounts appear on … ┆ just placeholde…   ┆     ┆       ┆ transaction i…     ┆ often appear on c… │\n",
       "│ Does negative P/E   ┆ P/E is the number  ┆ 3   ┆ gpt-4 ┆ A negative P/E     ┆ A negative P/E     │\n",
       "│ ratio mean sto…     ┆ of years it wo…    ┆     ┆       ┆ ratio does not ne… ┆ ratio typically m… │\n",
       "│ Should a retail     ┆ \"That\\'s like a    ┆ 4   ┆ gpt-4 ┆ The decision to    ┆ Whether a retail   │\n",
       "│ trader choose a …   ┆ car dealer adver…  ┆     ┆       ┆ choose a broker …  ┆ trader should c…   │\n",
       "│ Possibility to buy  ┆ \"As user quid      ┆ 5   ┆ gpt-4 ┆ Yes, it is         ┆ Yes, it is         │\n",
       "│ index funds a…      ┆ states in his      ┆     ┆       ┆ possible to buy    ┆ possible to buy    │\n",
       "│                     ┆ answ…              ┆     ┆       ┆ both …             ┆ both …             │\n",
       "│ …                   ┆ …                  ┆ …   ┆ …     ┆ …                  ┆ …                  │\n",
       "│ Discuss the role of ┆ Inflation is a     ┆ 21  ┆ gpt-4 ┆ Inflation is a     ┆ Inflation is a     │\n",
       "│ inflation in…       ┆ pervasive economi… ┆     ┆       ┆ sustained increas… ┆ phenomenon that d… │\n",
       "│ Explain the concept ┆                    ┆ 22  ┆ gpt-4 ┆ Plate tectonics is ┆ Plate tectonics is │\n",
       "│ of plate tec…       ┆                    ┆     ┆       ┆ a scientific …     ┆ the theory th…     │\n",
       "│                     ┆ The Earth's        ┆     ┆       ┆                    ┆                    │\n",
       "│                     ┆ dynamic and        ┆     ┆       ┆                    ┆                    │\n",
       "│                     ┆ ever-c…            ┆     ┆       ┆                    ┆                    │\n",
       "│ How did the         ┆                    ┆ 23  ┆ gpt-4 ┆ The Surrealist     ┆ The Surrealist     │\n",
       "│ surrealist movement ┆                    ┆     ┆       ┆ movement, which e… ┆ movement had a si… │\n",
       "│ …                   ┆                    ┆     ┆       ┆                    ┆                    │\n",
       "│                     ┆ The Surrealist     ┆     ┆       ┆                    ┆                    │\n",
       "│                     ┆ movement, whic…    ┆     ┆       ┆                    ┆                    │\n",
       "│ Discuss the impact  ┆                    ┆ 24  ┆ gpt-4 ┆ Globalization has  ┆ Globalization is   │\n",
       "│ of globalizat…      ┆                    ┆     ┆       ┆ had a profound…    ┆ defined as the …   │\n",
       "│                     ┆ Globalization,     ┆     ┆       ┆                    ┆                    │\n",
       "│                     ┆ characterized b…   ┆     ┆       ┆                    ┆                    │\n",
       "│ What are the key    ┆                    ┆ 25  ┆ gpt-4 ┆ Viral and          ┆ Viral and          │\n",
       "│ differences bet…    ┆ In the realm of    ┆     ┆       ┆ bacterial          ┆ bacterial          │\n",
       "│                     ┆ infectious dise…   ┆     ┆       ┆ infections a…      ┆ infections a…      │\n",
       "└─────────────────────┴────────────────────┴─────┴───────┴────────────────────┴────────────────────┘"
      ]
     },
     "execution_count": 12,
     "metadata": {},
     "output_type": "execute_result"
    }
   ],
   "source": [
    "gpt_settings = Settings(model=\"gpt-4\", rpm_limit=100)\n",
    "dataset = dataset_with_claude_responses.with_columns([pl.lit(\"gpt-4\").alias(\"model\")])\n",
    "experiment_dataset = TextCompletion(col_in_prompt=\"question\", col_out_completion=\"ground_truth\").setup(settings=gpt_settings).run(dataset)[\"output\"]\n",
    "experiment_dataset"
   ]
  },
  {
   "cell_type": "code",
   "execution_count": 30,
   "metadata": {},
   "outputs": [
    {
     "data": {
      "text/html": [
       "<div><style>\n",
       ".dataframe > thead > tr,\n",
       ".dataframe > tbody > tr {\n",
       "  text-align: right;\n",
       "  white-space: pre-wrap;\n",
       "}\n",
       "</style>\n",
       "<small>shape: (25, 4)</small><table border=\"1\" class=\"dataframe\"><thead><tr><th>question</th><th>idx</th><th>response</th><th>ground_truth</th></tr><tr><td>str</td><td>i64</td><td>str</td><td>str</td></tr></thead><tbody><tr><td>&quot;How to get a g…</td><td>1</td><td>&quot;Getting a grip…</td><td>&quot;1. Educate You…</td></tr><tr><td>&quot;How do “held” …</td><td>2</td><td>&quot;When a credit …</td><td>&quot;&quot;Held&quot; amounts…</td></tr><tr><td>&quot;Does negative …</td><td>3</td><td>&quot;A negative P/E…</td><td>&quot;A negative P/E…</td></tr><tr><td>&quot;Should a retai…</td><td>4</td><td>&quot;The decision t…</td><td>&quot;Whether a reta…</td></tr><tr><td>&quot;Possibility to…</td><td>5</td><td>&quot;Yes, it is pos…</td><td>&quot;Yes, it is pos…</td></tr><tr><td>&hellip;</td><td>&hellip;</td><td>&hellip;</td><td>&hellip;</td></tr><tr><td>&quot;Discuss the ro…</td><td>21</td><td>&quot;Inflation is a…</td><td>&quot;Inflation is a…</td></tr><tr><td>&quot;Explain the co…</td><td>22</td><td>&quot;Plate tectonic…</td><td>&quot;Plate tectonic…</td></tr><tr><td>&quot;How did the su…</td><td>23</td><td>&quot;The Surrealist…</td><td>&quot;The Surrealist…</td></tr><tr><td>&quot;Discuss the im…</td><td>24</td><td>&quot;Globalization …</td><td>&quot;Globalization …</td></tr><tr><td>&quot;What are the k…</td><td>25</td><td>&quot;Viral and bact…</td><td>&quot;Viral and bact…</td></tr></tbody></table></div>"
      ],
      "text/plain": [
       "shape: (25, 4)\n",
       "┌──────────────────────────────┬─────┬──────────────────────────────┬──────────────────────────────┐\n",
       "│ question                     ┆ idx ┆ response                     ┆ ground_truth                 │\n",
       "│ ---                          ┆ --- ┆ ---                          ┆ ---                          │\n",
       "│ str                          ┆ i64 ┆ str                          ┆ str                          │\n",
       "╞══════════════════════════════╪═════╪══════════════════════════════╪══════════════════════════════╡\n",
       "│ How to get a grip on         ┆ 1   ┆ Getting a grip on your       ┆ 1. Educate Yourself: The     │\n",
       "│ finance?'                    ┆     ┆ finances …                   ┆ first s…                     │\n",
       "│ How do “held” amounts appear ┆ 2   ┆ When a credit card           ┆ \"Held\" amounts often appear  │\n",
       "│ on …                         ┆     ┆ transaction i…               ┆ on c…                        │\n",
       "│ Does negative P/E ratio mean ┆ 3   ┆ A negative P/E ratio does    ┆ A negative P/E ratio         │\n",
       "│ sto…                         ┆     ┆ not ne…                      ┆ typically m…                 │\n",
       "│ Should a retail trader       ┆ 4   ┆ The decision to choose a     ┆ Whether a retail trader      │\n",
       "│ choose a …                   ┆     ┆ broker …                     ┆ should c…                    │\n",
       "│ Possibility to buy index     ┆ 5   ┆ Yes, it is possible to buy   ┆ Yes, it is possible to buy   │\n",
       "│ funds a…                     ┆     ┆ both …                       ┆ both …                       │\n",
       "│ …                            ┆ …   ┆ …                            ┆ …                            │\n",
       "│ Discuss the role of          ┆ 21  ┆ Inflation is a sustained     ┆ Inflation is a phenomenon    │\n",
       "│ inflation in…                ┆     ┆ increas…                     ┆ that d…                      │\n",
       "│ Explain the concept of plate ┆ 22  ┆ Plate tectonics is a         ┆ Plate tectonics is the       │\n",
       "│ tec…                         ┆     ┆ scientific …                 ┆ theory th…                   │\n",
       "│ How did the surrealist       ┆ 23  ┆ The Surrealist movement,     ┆ The Surrealist movement had  │\n",
       "│ movement …                   ┆     ┆ which e…                     ┆ a si…                        │\n",
       "│ Discuss the impact of        ┆ 24  ┆ Globalization has had a      ┆ Globalization is defined as  │\n",
       "│ globalizat…                  ┆     ┆ profound…                    ┆ the …                        │\n",
       "│ What are the key differences ┆ 25  ┆ Viral and bacterial          ┆ Viral and bacterial          │\n",
       "│ bet…                         ┆     ┆ infections a…                ┆ infections a…                │\n",
       "└──────────────────────────────┴─────┴──────────────────────────────┴──────────────────────────────┘"
      ]
     },
     "execution_count": 30,
     "metadata": {},
     "output_type": "execute_result"
    }
   ],
   "source": [
    "experiment_dataset"
   ]
  },
  {
   "cell_type": "code",
   "execution_count": 29,
   "metadata": {},
   "outputs": [
    {
     "name": "stderr",
     "output_type": "stream",
     "text": [
      "\u001b[32m2024-03-06 15:45:10.510\u001b[0m | \u001b[1mINFO    \u001b[0m | \u001b[36muptrain.framework.evalllm\u001b[0m:\u001b[36mevaluate_on_server\u001b[0m:\u001b[36m341\u001b[0m - \u001b[1mSending evaluation request for rows 0 to <50 to the Uptrain\u001b[0m\n"
     ]
    },
    {
     "name": "stderr",
     "output_type": "stream",
     "text": [
      "\u001b[32m2024-03-06 15:45:43.867\u001b[0m | \u001b[1mINFO    \u001b[0m | \u001b[36muptrain.framework.evalllm\u001b[0m:\u001b[36mevaluate\u001b[0m:\u001b[36m330\u001b[0m - \u001b[1mServer is not running!\u001b[0m\n"
     ]
    }
   ],
   "source": [
    "from uptrain import EvalLLM, ResponseMatching\n",
    "\n",
    "settings = Settings(evaluate_locally=False)\n",
    "\n",
    "# Drop the \"context\" and \"model\" columns as they are not needed for local evaluation\n",
    "experiment_dataset = experiment_dataset.drop([\"context\", \"model\"])\n",
    "\n",
    "eval_llm = EvalLLM(settings=settings)\n",
    "results = eval_llm.evaluate(\n",
    "    data=experiment_dataset,\n",
    "    checks=[\n",
    "        ResponseMatching(\n",
    "            method=\"llm\",\n",
    "            col_ground_truth=\"ground_truth\",\n",
    "        )\n",
    "    ]\n",
    ")"
   ]
  }
 ],
 "metadata": {
  "kernelspec": {
   "display_name": ".venv",
   "language": "python",
   "name": "python3"
  },
  "language_info": {
   "codemirror_mode": {
    "name": "ipython",
    "version": 3
   },
   "file_extension": ".py",
   "mimetype": "text/x-python",
   "name": "python",
   "nbconvert_exporter": "python",
   "pygments_lexer": "ipython3",
   "version": "3.11.7"
  }
 },
 "nbformat": 4,
 "nbformat_minor": 2
}
