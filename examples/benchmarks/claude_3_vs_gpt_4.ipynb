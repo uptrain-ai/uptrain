{
 "cells": [
  {
   "cell_type": "markdown",
   "metadata": {},
   "source": [
    "<a href=\"https://colab.research.google.com/github/uptrain-ai/uptrain/blob/main/examples/benchmarks/claude_3_vs_gpt_4.ipynb\" target=\"_parent\"><img src=\"https://colab.research.google.com/assets/colab-badge.svg\" alt=\"Open In Colab\"/></a>"
   ]
  },
  {
   "cell_type": "markdown",
   "metadata": {},
   "source": [
    "<h1 align=\"center\">\n",
    "  <a href=\"https://uptrain.ai\">\n",
    "    <img width=\"300\" src=\"https://user-images.githubusercontent.com/108270398/214240695-4f958b76-c993-4ddd-8de6-8668f4d0da84.png\" alt=\"uptrain\">\n",
    "  </a>\n",
    "</h1>"
   ]
  },
  {
   "cell_type": "markdown",
   "metadata": {},
   "source": [
    "# Claude 3 vs GPT-4\n",
    "Claude 3 was recently launched by Anthropic as a competitor to OpenAI's GPT-4. In this notebook, we will compare the two models to see if you should make the switch from GPT-4 to Claude 3.\n",
    "\n",
    "To do this comparison, we will use UpTrain's Response Matching operator. This operator takes in two values - response and ground_truth - and returns a score between 0 and 1. The score is 1 if the response is very similar the ground_truth and 0 if the response is completely different from the ground_truth.\n",
    "\n",
    "We have curated a dataset of 25 questions and context pairs. For each question, we will get responses from both GPT-4 and Claude 3.  We will take the response from GPT-4 as the ground_truth and compare the response from Claude 3 to the ground_truth using the Response Matching operator."
   ]
  },
  {
   "cell_type": "markdown",
   "metadata": {},
   "source": [
    "# Import the required libraries"
   ]
  },
  {
   "cell_type": "code",
   "execution_count": 1,
   "metadata": {},
   "outputs": [
    {
     "name": "stderr",
     "output_type": "stream",
     "text": [
      "/Users/dhruvchawla/Work/uptrain-v1/.venv/lib/python3.11/site-packages/lazy_loader/__init__.py:185: RuntimeWarning: subpackages can technically be lazily loaded, but it causes the package to be eagerly loaded even if it is already lazily loaded.So, you probably shouldn't use subpackages with this lazy feature.\n",
      "  warnings.warn(msg, RuntimeWarning)\n"
     ]
    }
   ],
   "source": [
    "from uptrain import Settings\n",
    "from uptrain.operators import TextCompletion, JsonReader\n",
    "\n",
    "import os\n",
    "import polars as pl\n",
    "import nest_asyncio\n",
    "nest_asyncio.apply()"
   ]
  },
  {
   "cell_type": "markdown",
   "metadata": {},
   "source": [
    "# Download the dataset"
   ]
  },
  {
   "cell_type": "code",
   "execution_count": 2,
   "metadata": {},
   "outputs": [
    {
     "name": "stdout",
     "output_type": "stream",
     "text": [
      "shape: (25, 3)\n",
      "┌───────────────────────────────────┬───────────────────────────────────┬─────┐\n",
      "│ question                          ┆ context                           ┆ idx │\n",
      "│ ---                               ┆ ---                               ┆ --- │\n",
      "│ str                               ┆ str                               ┆ i64 │\n",
      "╞═══════════════════════════════════╪═══════════════════════════════════╪═════╡\n",
      "│ How to get a grip on finance?'    ┆ Try downloading a finance app li… ┆ 1   │\n",
      "│ How do “held” amounts appear on … ┆ \"The \"\"hold\"\" is just placeholde… ┆ 2   │\n",
      "│ Does negative P/E ratio mean sto… ┆ P/E is the number of years it wo… ┆ 3   │\n",
      "│ Should a retail trader choose a … ┆ \"That\\'s like a car dealer adver… ┆ 4   │\n",
      "│ Possibility to buy index funds a… ┆ \"As user quid states in his answ… ┆ 5   │\n",
      "│ …                                 ┆ …                                 ┆ …   │\n",
      "│ Discuss the role of inflation in… ┆ Inflation is a pervasive economi… ┆ 21  │\n",
      "│ Explain the concept of plate tec… ┆                                   ┆ 22  │\n",
      "│                                   ┆                                   ┆     │\n",
      "│                                   ┆ The Earth's dynamic and ever-c…   ┆     │\n",
      "│ How did the surrealist movement … ┆                                   ┆ 23  │\n",
      "│                                   ┆                                   ┆     │\n",
      "│                                   ┆                                   ┆     │\n",
      "│                                   ┆ The Surrealist movement, whic…    ┆     │\n",
      "│ Discuss the impact of globalizat… ┆                                   ┆ 24  │\n",
      "│                                   ┆                                   ┆     │\n",
      "│                                   ┆ Globalization, characterized b…   ┆     │\n",
      "│ What are the key differences bet… ┆                                   ┆ 25  │\n",
      "│                                   ┆ In the realm of infectious dise…  ┆     │\n",
      "└───────────────────────────────────┴───────────────────────────────────┴─────┘\n"
     ]
    }
   ],
   "source": [
    "url = \"https://uptrain-assets.s3.ap-south-1.amazonaws.com/data/uptrain_benchmark.jsonl\"\n",
    "dataset_path = os.path.join('./', \"uptrain_benchmark.jsonl\")\n",
    "\n",
    "if not os.path.exists(dataset_path):\n",
    "    import httpx\n",
    "    r = httpx.get(url)\n",
    "    with open(dataset_path, \"wb\") as f:\n",
    "        f.write(r.content)  \n",
    "\n",
    "dataset = pl.read_ndjson(dataset_path)\n",
    "print(dataset)"
   ]
  },
  {
   "cell_type": "markdown",
   "metadata": {},
   "source": [
    "# Get responses from Claude 3"
   ]
  },
  {
   "cell_type": "code",
   "execution_count": 5,
   "metadata": {},
   "outputs": [
    {
     "name": "stderr",
     "output_type": "stream",
     "text": [
      "100%|██████████| 25/25 [05:31<00:00, 13.25s/it]\n"
     ]
    },
    {
     "data": {
      "text/html": [
       "<div><style>\n",
       ".dataframe > thead > tr,\n",
       ".dataframe > tbody > tr {\n",
       "  text-align: right;\n",
       "  white-space: pre-wrap;\n",
       "}\n",
       "</style>\n",
       "<small>shape: (25, 5)</small><table border=\"1\" class=\"dataframe\"><thead><tr><th>question</th><th>context</th><th>idx</th><th>model</th><th>claude_3_response</th></tr><tr><td>str</td><td>str</td><td>i64</td><td>str</td><td>str</td></tr></thead><tbody><tr><td>&quot;How to get a g…</td><td>&quot;Try downloadin…</td><td>1</td><td>&quot;claude-3-opus-…</td><td>&quot;To get a grip …</td></tr><tr><td>&quot;How do “held” …</td><td>&quot;&quot;The &quot;&quot;hold&quot;&quot; …</td><td>2</td><td>&quot;claude-3-opus-…</td><td>&quot;When a credit …</td></tr><tr><td>&quot;Does negative …</td><td>&quot;P/E is the num…</td><td>3</td><td>&quot;claude-3-opus-…</td><td>&quot;A negative P/E…</td></tr><tr><td>&quot;Should a retai…</td><td>&quot;&quot;That\\&#x27;s like …</td><td>4</td><td>&quot;claude-3-opus-…</td><td>&quot;Dark pools are…</td></tr><tr><td>&quot;Possibility to…</td><td>&quot;&quot;As user quid …</td><td>5</td><td>&quot;claude-3-opus-…</td><td>&quot;Yes, it is pos…</td></tr><tr><td>&hellip;</td><td>&hellip;</td><td>&hellip;</td><td>&hellip;</td><td>&hellip;</td></tr><tr><td>&quot;Discuss the ro…</td><td>&quot;Inflation is a…</td><td>21</td><td>&quot;claude-3-opus-…</td><td>&quot;Inflation is a…</td></tr><tr><td>&quot;Explain the co…</td><td>&quot;\n",
       "\n",
       "The Earth&#x27;s …</td><td>22</td><td>&quot;claude-3-opus-…</td><td>&quot;Plate tectonic…</td></tr><tr><td>&quot;How did the su…</td><td>&quot;\n",
       "\n",
       "\n",
       "The Surreal…</td><td>23</td><td>&quot;claude-3-opus-…</td><td>&quot;The Surrealist…</td></tr><tr><td>&quot;Discuss the im…</td><td>&quot;\n",
       "\n",
       "Globalizatio…</td><td>24</td><td>&quot;claude-3-opus-…</td><td>&quot;Globalization …</td></tr><tr><td>&quot;What are the k…</td><td>&quot;\n",
       "In the realm …</td><td>25</td><td>&quot;claude-3-opus-…</td><td>&quot;Viral and bact…</td></tr></tbody></table></div>"
      ],
      "text/plain": [
       "shape: (25, 5)\n",
       "┌───────────────────────┬──────────────────────┬─────┬──────────────────────┬──────────────────────┐\n",
       "│ question              ┆ context              ┆ idx ┆ model                ┆ claude_3_response    │\n",
       "│ ---                   ┆ ---                  ┆ --- ┆ ---                  ┆ ---                  │\n",
       "│ str                   ┆ str                  ┆ i64 ┆ str                  ┆ str                  │\n",
       "╞═══════════════════════╪══════════════════════╪═════╪══════════════════════╪══════════════════════╡\n",
       "│ How to get a grip on  ┆ Try downloading a    ┆ 1   ┆ claude-3-opus-202402 ┆ To get a grip on     │\n",
       "│ finance?'             ┆ finance app li…      ┆     ┆ 29                   ┆ your finances, …     │\n",
       "│ How do “held” amounts ┆ \"The \"\"hold\"\" is     ┆ 2   ┆ claude-3-opus-202402 ┆ When a credit card   │\n",
       "│ appear on …           ┆ just placeholde…     ┆     ┆ 29                   ┆ transaction i…       │\n",
       "│ Does negative P/E     ┆ P/E is the number of ┆ 3   ┆ claude-3-opus-202402 ┆ A negative P/E ratio │\n",
       "│ ratio mean sto…       ┆ years it wo…         ┆     ┆ 29                   ┆ does not ne…         │\n",
       "│ Should a retail       ┆ \"That\\'s like a car  ┆ 4   ┆ claude-3-opus-202402 ┆ Dark pools are       │\n",
       "│ trader choose a …     ┆ dealer adver…        ┆     ┆ 29                   ┆ private exchanges…   │\n",
       "│ Possibility to buy    ┆ \"As user quid states ┆ 5   ┆ claude-3-opus-202402 ┆ Yes, it is possible  │\n",
       "│ index funds a…        ┆ in his answ…         ┆     ┆ 29                   ┆ to buy both …        │\n",
       "│ …                     ┆ …                    ┆ …   ┆ …                    ┆ …                    │\n",
       "│ Discuss the role of   ┆ Inflation is a       ┆ 21  ┆ claude-3-opus-202402 ┆ Inflation is a       │\n",
       "│ inflation in…         ┆ pervasive economi…   ┆     ┆ 29                   ┆ sustained increas…   │\n",
       "│ Explain the concept   ┆                      ┆ 22  ┆ claude-3-opus-202402 ┆ Plate tectonics is a │\n",
       "│ of plate tec…         ┆                      ┆     ┆ 29                   ┆ scientific …         │\n",
       "│                       ┆ The Earth's dynamic  ┆     ┆                      ┆                      │\n",
       "│                       ┆ and ever-c…          ┆     ┆                      ┆                      │\n",
       "│ How did the           ┆                      ┆ 23  ┆ claude-3-opus-202402 ┆ The Surrealist       │\n",
       "│ surrealist movement … ┆                      ┆     ┆ 29                   ┆ movement, which e…   │\n",
       "│                       ┆                      ┆     ┆                      ┆                      │\n",
       "│                       ┆ The Surrealist       ┆     ┆                      ┆                      │\n",
       "│                       ┆ movement, whic…      ┆     ┆                      ┆                      │\n",
       "│ Discuss the impact of ┆                      ┆ 24  ┆ claude-3-opus-202402 ┆ Globalization has    │\n",
       "│ globalizat…           ┆                      ┆     ┆ 29                   ┆ had a profound…      │\n",
       "│                       ┆ Globalization,       ┆     ┆                      ┆                      │\n",
       "│                       ┆ characterized b…     ┆     ┆                      ┆                      │\n",
       "│ What are the key      ┆                      ┆ 25  ┆ claude-3-opus-202402 ┆ Viral and bacterial  │\n",
       "│ differences bet…      ┆ In the realm of      ┆     ┆ 29                   ┆ infections a…        │\n",
       "│                       ┆ infectious dise…     ┆     ┆                      ┆                      │\n",
       "└───────────────────────┴──────────────────────┴─────┴──────────────────────┴──────────────────────┘"
      ]
     },
     "execution_count": 5,
     "metadata": {},
     "output_type": "execute_result"
    }
   ],
   "source": [
    "dataset_path=\"./uptrain_benchmark.jsonl\"\n",
    "claude_settings = Settings(model=\"claude-3-opus-20240229\", rpm_limit=4)\n",
    "dataset = JsonReader(fpath=dataset_path).setup(settings=claude_settings).run()[\"output\"]\n",
    "\n",
    "dataset = dataset.with_columns([pl.lit(\"claude-3-opus-20240229\").alias(\"model\")])\n",
    "dataset_with_claude_responses = TextCompletion(col_in_prompt=\"question\", col_out_completion=\"claude_3_response\").setup(settings=claude_settings).run(dataset)[\"output\"]\n",
    "dataset_with_claude_responses"
   ]
  },
  {
   "cell_type": "code",
   "execution_count": 6,
   "metadata": {},
   "outputs": [
    {
     "data": {
      "text/html": [
       "<div><style>\n",
       ".dataframe > thead > tr,\n",
       ".dataframe > tbody > tr {\n",
       "  text-align: right;\n",
       "  white-space: pre-wrap;\n",
       "}\n",
       "</style>\n",
       "<small>shape: (25, 5)</small><table border=\"1\" class=\"dataframe\"><thead><tr><th>question</th><th>context</th><th>idx</th><th>model</th><th>claude_3_response</th></tr><tr><td>str</td><td>str</td><td>i64</td><td>str</td><td>str</td></tr></thead><tbody><tr><td>&quot;How to get a g…</td><td>&quot;Try downloadin…</td><td>1</td><td>&quot;claude-3-opus-…</td><td>&quot;To get a grip …</td></tr><tr><td>&quot;How do “held” …</td><td>&quot;&quot;The &quot;&quot;hold&quot;&quot; …</td><td>2</td><td>&quot;claude-3-opus-…</td><td>&quot;When a credit …</td></tr><tr><td>&quot;Does negative …</td><td>&quot;P/E is the num…</td><td>3</td><td>&quot;claude-3-opus-…</td><td>&quot;A negative P/E…</td></tr><tr><td>&quot;Should a retai…</td><td>&quot;&quot;That\\&#x27;s like …</td><td>4</td><td>&quot;claude-3-opus-…</td><td>&quot;Dark pools are…</td></tr><tr><td>&quot;Possibility to…</td><td>&quot;&quot;As user quid …</td><td>5</td><td>&quot;claude-3-opus-…</td><td>&quot;Yes, it is pos…</td></tr><tr><td>&hellip;</td><td>&hellip;</td><td>&hellip;</td><td>&hellip;</td><td>&hellip;</td></tr><tr><td>&quot;Discuss the ro…</td><td>&quot;Inflation is a…</td><td>21</td><td>&quot;claude-3-opus-…</td><td>&quot;Inflation is a…</td></tr><tr><td>&quot;Explain the co…</td><td>&quot;\n",
       "\n",
       "The Earth&#x27;s …</td><td>22</td><td>&quot;claude-3-opus-…</td><td>&quot;Plate tectonic…</td></tr><tr><td>&quot;How did the su…</td><td>&quot;\n",
       "\n",
       "\n",
       "The Surreal…</td><td>23</td><td>&quot;claude-3-opus-…</td><td>&quot;The Surrealist…</td></tr><tr><td>&quot;Discuss the im…</td><td>&quot;\n",
       "\n",
       "Globalizatio…</td><td>24</td><td>&quot;claude-3-opus-…</td><td>&quot;Globalization …</td></tr><tr><td>&quot;What are the k…</td><td>&quot;\n",
       "In the realm …</td><td>25</td><td>&quot;claude-3-opus-…</td><td>&quot;Viral and bact…</td></tr></tbody></table></div>"
      ],
      "text/plain": [
       "shape: (25, 5)\n",
       "┌───────────────────────┬──────────────────────┬─────┬──────────────────────┬──────────────────────┐\n",
       "│ question              ┆ context              ┆ idx ┆ model                ┆ claude_3_response    │\n",
       "│ ---                   ┆ ---                  ┆ --- ┆ ---                  ┆ ---                  │\n",
       "│ str                   ┆ str                  ┆ i64 ┆ str                  ┆ str                  │\n",
       "╞═══════════════════════╪══════════════════════╪═════╪══════════════════════╪══════════════════════╡\n",
       "│ How to get a grip on  ┆ Try downloading a    ┆ 1   ┆ claude-3-opus-202402 ┆ To get a grip on     │\n",
       "│ finance?'             ┆ finance app li…      ┆     ┆ 29                   ┆ your finances, …     │\n",
       "│ How do “held” amounts ┆ \"The \"\"hold\"\" is     ┆ 2   ┆ claude-3-opus-202402 ┆ When a credit card   │\n",
       "│ appear on …           ┆ just placeholde…     ┆     ┆ 29                   ┆ transaction i…       │\n",
       "│ Does negative P/E     ┆ P/E is the number of ┆ 3   ┆ claude-3-opus-202402 ┆ A negative P/E ratio │\n",
       "│ ratio mean sto…       ┆ years it wo…         ┆     ┆ 29                   ┆ does not ne…         │\n",
       "│ Should a retail       ┆ \"That\\'s like a car  ┆ 4   ┆ claude-3-opus-202402 ┆ Dark pools are       │\n",
       "│ trader choose a …     ┆ dealer adver…        ┆     ┆ 29                   ┆ private exchanges…   │\n",
       "│ Possibility to buy    ┆ \"As user quid states ┆ 5   ┆ claude-3-opus-202402 ┆ Yes, it is possible  │\n",
       "│ index funds a…        ┆ in his answ…         ┆     ┆ 29                   ┆ to buy both …        │\n",
       "│ …                     ┆ …                    ┆ …   ┆ …                    ┆ …                    │\n",
       "│ Discuss the role of   ┆ Inflation is a       ┆ 21  ┆ claude-3-opus-202402 ┆ Inflation is a       │\n",
       "│ inflation in…         ┆ pervasive economi…   ┆     ┆ 29                   ┆ sustained increas…   │\n",
       "│ Explain the concept   ┆                      ┆ 22  ┆ claude-3-opus-202402 ┆ Plate tectonics is a │\n",
       "│ of plate tec…         ┆                      ┆     ┆ 29                   ┆ scientific …         │\n",
       "│                       ┆ The Earth's dynamic  ┆     ┆                      ┆                      │\n",
       "│                       ┆ and ever-c…          ┆     ┆                      ┆                      │\n",
       "│ How did the           ┆                      ┆ 23  ┆ claude-3-opus-202402 ┆ The Surrealist       │\n",
       "│ surrealist movement … ┆                      ┆     ┆ 29                   ┆ movement, which e…   │\n",
       "│                       ┆                      ┆     ┆                      ┆                      │\n",
       "│                       ┆ The Surrealist       ┆     ┆                      ┆                      │\n",
       "│                       ┆ movement, whic…      ┆     ┆                      ┆                      │\n",
       "│ Discuss the impact of ┆                      ┆ 24  ┆ claude-3-opus-202402 ┆ Globalization has    │\n",
       "│ globalizat…           ┆                      ┆     ┆ 29                   ┆ had a profound…      │\n",
       "│                       ┆ Globalization,       ┆     ┆                      ┆                      │\n",
       "│                       ┆ characterized b…     ┆     ┆                      ┆                      │\n",
       "│ What are the key      ┆                      ┆ 25  ┆ claude-3-opus-202402 ┆ Viral and bacterial  │\n",
       "│ differences bet…      ┆ In the realm of      ┆     ┆ 29                   ┆ infections a…        │\n",
       "│                       ┆ infectious dise…     ┆     ┆                      ┆                      │\n",
       "└───────────────────────┴──────────────────────┴─────┴──────────────────────┴──────────────────────┘"
      ]
     },
     "execution_count": 6,
     "metadata": {},
     "output_type": "execute_result"
    }
   ],
   "source": [
    "dataset_with_claude_responses"
   ]
  },
  {
   "cell_type": "markdown",
   "metadata": {},
   "source": [
    "# Get Responses from GPT-4"
   ]
  },
  {
   "cell_type": "code",
   "execution_count": 7,
   "metadata": {},
   "outputs": [
    {
     "name": "stderr",
     "output_type": "stream",
     "text": [
      "100%|██████████| 25/25 [00:35<00:00,  1.44s/it]\n"
     ]
    },
    {
     "data": {
      "text/html": [
       "<div><style>\n",
       ".dataframe > thead > tr,\n",
       ".dataframe > tbody > tr {\n",
       "  text-align: right;\n",
       "  white-space: pre-wrap;\n",
       "}\n",
       "</style>\n",
       "<small>shape: (25, 6)</small><table border=\"1\" class=\"dataframe\"><thead><tr><th>question</th><th>context</th><th>idx</th><th>model</th><th>claude_3_response</th><th>gpt_4_response</th></tr><tr><td>str</td><td>str</td><td>i64</td><td>str</td><td>str</td><td>str</td></tr></thead><tbody><tr><td>&quot;How to get a g…</td><td>&quot;Try downloadin…</td><td>1</td><td>&quot;gpt-4&quot;</td><td>&quot;To get a grip …</td><td>&quot;1. Education: …</td></tr><tr><td>&quot;How do “held” …</td><td>&quot;&quot;The &quot;&quot;hold&quot;&quot; …</td><td>2</td><td>&quot;gpt-4&quot;</td><td>&quot;When a credit …</td><td>&quot;When you use a…</td></tr><tr><td>&quot;Does negative …</td><td>&quot;P/E is the num…</td><td>3</td><td>&quot;gpt-4&quot;</td><td>&quot;A negative P/E…</td><td>&quot;No, a negative…</td></tr><tr><td>&quot;Should a retai…</td><td>&quot;&quot;That\\&#x27;s like …</td><td>4</td><td>&quot;gpt-4&quot;</td><td>&quot;Dark pools are…</td><td>&quot;Whether a reta…</td></tr><tr><td>&quot;Possibility to…</td><td>&quot;&quot;As user quid …</td><td>5</td><td>&quot;gpt-4&quot;</td><td>&quot;Yes, it is pos…</td><td>&quot;Yes, it is pos…</td></tr><tr><td>&hellip;</td><td>&hellip;</td><td>&hellip;</td><td>&hellip;</td><td>&hellip;</td><td>&hellip;</td></tr><tr><td>&quot;Discuss the ro…</td><td>&quot;Inflation is a…</td><td>21</td><td>&quot;gpt-4&quot;</td><td>&quot;Inflation is a…</td><td>&quot;Inflation is a…</td></tr><tr><td>&quot;Explain the co…</td><td>&quot;\n",
       "\n",
       "The Earth&#x27;s …</td><td>22</td><td>&quot;gpt-4&quot;</td><td>&quot;Plate tectonic…</td><td>&quot;Plate tectonic…</td></tr><tr><td>&quot;How did the su…</td><td>&quot;\n",
       "\n",
       "\n",
       "The Surreal…</td><td>23</td><td>&quot;gpt-4&quot;</td><td>&quot;The Surrealist…</td><td>&quot;The Surrealist…</td></tr><tr><td>&quot;Discuss the im…</td><td>&quot;\n",
       "\n",
       "Globalizatio…</td><td>24</td><td>&quot;gpt-4&quot;</td><td>&quot;Globalization …</td><td>&quot;Globalization …</td></tr><tr><td>&quot;What are the k…</td><td>&quot;\n",
       "In the realm …</td><td>25</td><td>&quot;gpt-4&quot;</td><td>&quot;Viral and bact…</td><td>&quot;Viral and bact…</td></tr></tbody></table></div>"
      ],
      "text/plain": [
       "shape: (25, 6)\n",
       "┌─────────────────────┬────────────────────┬─────┬───────┬────────────────────┬────────────────────┐\n",
       "│ question            ┆ context            ┆ idx ┆ model ┆ claude_3_response  ┆ gpt_4_response     │\n",
       "│ ---                 ┆ ---                ┆ --- ┆ ---   ┆ ---                ┆ ---                │\n",
       "│ str                 ┆ str                ┆ i64 ┆ str   ┆ str                ┆ str                │\n",
       "╞═════════════════════╪════════════════════╪═════╪═══════╪════════════════════╪════════════════════╡\n",
       "│ How to get a grip   ┆ Try downloading a  ┆ 1   ┆ gpt-4 ┆ To get a grip on   ┆ 1. Education:      │\n",
       "│ on finance?'        ┆ finance app li…    ┆     ┆       ┆ your finances, …   ┆ Start by learning  │\n",
       "│                     ┆                    ┆     ┆       ┆                    ┆ …                  │\n",
       "│ How do “held”       ┆ \"The \"\"hold\"\" is   ┆ 2   ┆ gpt-4 ┆ When a credit card ┆ When you use a     │\n",
       "│ amounts appear on … ┆ just placeholde…   ┆     ┆       ┆ transaction i…     ┆ traditional credi… │\n",
       "│ Does negative P/E   ┆ P/E is the number  ┆ 3   ┆ gpt-4 ┆ A negative P/E     ┆ No, a negative P/E │\n",
       "│ ratio mean sto…     ┆ of years it wo…    ┆     ┆       ┆ ratio does not ne… ┆ ratio doesn't…     │\n",
       "│ Should a retail     ┆ \"That\\'s like a    ┆ 4   ┆ gpt-4 ┆ Dark pools are     ┆ Whether a retail   │\n",
       "│ trader choose a …   ┆ car dealer adver…  ┆     ┆       ┆ private exchanges… ┆ trader should c…   │\n",
       "│ Possibility to buy  ┆ \"As user quid      ┆ 5   ┆ gpt-4 ┆ Yes, it is         ┆ Yes, it is         │\n",
       "│ index funds a…      ┆ states in his      ┆     ┆       ┆ possible to buy    ┆ possible to buy    │\n",
       "│                     ┆ answ…              ┆     ┆       ┆ both …             ┆ indiv…             │\n",
       "│ …                   ┆ …                  ┆ …   ┆ …     ┆ …                  ┆ …                  │\n",
       "│ Discuss the role of ┆ Inflation is a     ┆ 21  ┆ gpt-4 ┆ Inflation is a     ┆ Inflation is a     │\n",
       "│ inflation in…       ┆ pervasive economi… ┆     ┆       ┆ sustained increas… ┆ vital economic pr… │\n",
       "│ Explain the concept ┆                    ┆ 22  ┆ gpt-4 ┆ Plate tectonics is ┆ Plate tectonics is │\n",
       "│ of plate tec…       ┆                    ┆     ┆       ┆ a scientific …     ┆ a scientific …     │\n",
       "│                     ┆ The Earth's        ┆     ┆       ┆                    ┆                    │\n",
       "│                     ┆ dynamic and        ┆     ┆       ┆                    ┆                    │\n",
       "│                     ┆ ever-c…            ┆     ┆       ┆                    ┆                    │\n",
       "│ How did the         ┆                    ┆ 23  ┆ gpt-4 ┆ The Surrealist     ┆ The Surrealist     │\n",
       "│ surrealist movement ┆                    ┆     ┆       ┆ movement, which e… ┆ movement signific… │\n",
       "│ …                   ┆                    ┆     ┆       ┆                    ┆                    │\n",
       "│                     ┆ The Surrealist     ┆     ┆       ┆                    ┆                    │\n",
       "│                     ┆ movement, whic…    ┆     ┆       ┆                    ┆                    │\n",
       "│ Discuss the impact  ┆                    ┆ 24  ┆ gpt-4 ┆ Globalization has  ┆ Globalization      │\n",
       "│ of globalizat…      ┆                    ┆     ┆       ┆ had a profound…    ┆ significantly      │\n",
       "│                     ┆ Globalization,     ┆     ┆       ┆                    ┆ impa…              │\n",
       "│                     ┆ characterized b…   ┆     ┆       ┆                    ┆                    │\n",
       "│ What are the key    ┆                    ┆ 25  ┆ gpt-4 ┆ Viral and          ┆ Viral and          │\n",
       "│ differences bet…    ┆ In the realm of    ┆     ┆       ┆ bacterial          ┆ bacterial          │\n",
       "│                     ┆ infectious dise…   ┆     ┆       ┆ infections a…      ┆ infections a…      │\n",
       "└─────────────────────┴────────────────────┴─────┴───────┴────────────────────┴────────────────────┘"
      ]
     },
     "execution_count": 7,
     "metadata": {},
     "output_type": "execute_result"
    }
   ],
   "source": [
    "gpt_settings = Settings(model=\"gpt-4\", rpm_limit=100)\n",
    "dataset = dataset_with_claude_responses.with_columns([pl.lit(\"gpt-4\").alias(\"model\")])\n",
    "experiment_dataset = TextCompletion(col_in_prompt=\"question\", col_out_completion=\"gpt_4_response\").setup(settings=gpt_settings).run(dataset)[\"output\"]\n",
    "experiment_dataset"
   ]
  },
  {
   "cell_type": "markdown",
   "metadata": {},
   "source": [
    "# Use the Response Matching operator to get the scores"
   ]
  },
  {
   "cell_type": "code",
   "execution_count": 9,
   "metadata": {},
   "outputs": [
    {
     "name": "stderr",
     "output_type": "stream",
     "text": [
      "\u001b[32m2024-03-07 00:31:13.158\u001b[0m | \u001b[1mINFO    \u001b[0m | \u001b[36muptrain.framework.evalllm\u001b[0m:\u001b[36mevaluate_on_server\u001b[0m:\u001b[36m341\u001b[0m - \u001b[1mSending evaluation request for rows 0 to <50 to the Uptrain\u001b[0m\n"
     ]
    },
    {
     "name": "stderr",
     "output_type": "stream",
     "text": [
      "\u001b[32m2024-03-07 00:31:51.691\u001b[0m | \u001b[1mINFO    \u001b[0m | \u001b[36muptrain.framework.evalllm\u001b[0m:\u001b[36mevaluate\u001b[0m:\u001b[36m330\u001b[0m - \u001b[1mServer is not running!\u001b[0m\n"
     ]
    }
   ],
   "source": [
    "from uptrain import EvalLLM, ResponseMatching\n",
    "\n",
    "settings = Settings(evaluate_locally=False)\n",
    "\n",
    "# Drop the \"context\" and \"model\" columns as they are not needed for local evaluation\n",
    "experiment_dataset = experiment_dataset.drop([\"context\", \"model\"])\n",
    "\n",
    "eval_llm = EvalLLM(settings=settings)\n",
    "results = eval_llm.evaluate(\n",
    "    data=experiment_dataset,\n",
    "    checks=[\n",
    "        ResponseMatching(\n",
    "            method=\"llm\",\n",
    "        )\n",
    "    ],\n",
    "    schema={\n",
    "        \"question\": \"question\",\n",
    "        \"response\": \"claude_3_response\",\n",
    "        \"ground_truth\": \"gpt_4_response\",\n",
    "    }\n",
    ")"
   ]
  },
  {
   "cell_type": "markdown",
   "metadata": {},
   "source": [
    "# Analysis"
   ]
  },
  {
   "cell_type": "markdown",
   "metadata": {},
   "source": [
    "Let's take a few examples and see the scores for each model."
   ]
  },
  {
   "cell_type": "code",
   "execution_count": 14,
   "metadata": {},
   "outputs": [
    {
     "name": "stdout",
     "output_type": "stream",
     "text": [
      "Question: How to get a grip on finance?'\n"
     ]
    }
   ],
   "source": [
    "row = results[0]\n",
    "print(\"Question:\", row[\"question\"])"
   ]
  },
  {
   "cell_type": "code",
   "execution_count": 15,
   "metadata": {},
   "outputs": [
    {
     "name": "stdout",
     "output_type": "stream",
     "text": [
      "GPT-4 Response:\n",
      "\n",
      "\n",
      "1. Education: Start by learning the basics of financial concepts. This includes savings, investment, loans, interest rates, taxes, etc. You can learn about finance through online courses, books, blogs, podcasts and webinars.\n",
      "\n",
      "2. Budgeting: Develop a habit of budgeting your income and expenses. This will help you manage your money more effectively, avoid unnecessary expenses, and save more.\n",
      "\n",
      "3. Investment: Learn about different types of investment options such as stocks, bonds, mutual funds, real estate, etc., and make informed decisions based on your financial goals and risk tolerance.\n",
      "\n",
      "4. Financial Planning: Understand the importance of financial planning. This includes setting financial goals, planning for retirement, tax planning, estate planning, etc.\n",
      "\n",
      "5. Credit Management: Understand how credit works, the importance of a good credit score, and how to manage credit effectively.\n",
      "\n",
      "6. Consult Experts: Consider consulting a financial advisor or expert for professional advice, especially when dealing with complex financial matters.\n",
      "\n",
      "7. Keep Up-to-Date: Stay updated with the latest news and trends in finance. This can help you make informed financial decisions.\n",
      "\n",
      "8. Practice: The more you practice managing your finances, the better you will become at it. Try different strategies, learn from your mistakes, and constantly strive to improve your financial management skills.\n",
      "\n",
      "9. Use Financial Tools: There are many financial tools and apps available that can help you track your expenses, manage your budget, calculate interest, etc.\n",
      "\n",
      "10. Understand Taxes: Get a grip on how taxes work to avoid any potential legal issues and to take advantage of any tax benefits available to you. \n",
      "\n",
      "Finally, remember that mastering finance takes time and patience. Start slow, and don't be afraid to ask for help.\n"
     ]
    }
   ],
   "source": [
    "print(\"GPT-4 Response:\\n\\n\")\n",
    "print(row[\"gpt_4_response\"])"
   ]
  },
  {
   "cell_type": "code",
   "execution_count": 16,
   "metadata": {},
   "outputs": [
    {
     "name": "stdout",
     "output_type": "stream",
     "text": [
      "Claude-3 Response:\n",
      "\n",
      "\n",
      "To get a grip on your finances, you can follow these steps:\n",
      "\n",
      "1. Track your income and expenses: Start by keeping a record of all your income sources and expenses. This will help you understand your spending patterns and identify areas where you can cut back.\n",
      "\n",
      "2. Create a budget: Based on your income and expenses, create a realistic budget that allocates your money towards essential expenses, savings, and discretionary spending.\n",
      "\n",
      "3. Set financial goals: Establish short-term and long-term financial goals, such as paying off debt, saving for a down payment on a house, or building an emergency fund.\n",
      "\n",
      "4. Pay off debt: If you have any outstanding debts, make a plan to pay them off as quickly as possible. Start with high-interest debts like credit card balances.\n",
      "\n",
      "5. Save and invest: Allocate a portion of your income towards savings and investments. Consider setting up automatic transfers to your savings account or retirement fund.\n",
      "\n",
      "6. Cut unnecessary expenses: Look for areas where you can reduce your spending, such as dining out, subscription services, or impulse purchases.\n",
      "\n",
      "7. Educate yourself: Learn about personal finance through books, articles, podcasts, or courses. The more knowledge\n"
     ]
    }
   ],
   "source": [
    "print(\"Claude-3 Response:\\n\\n\")\n",
    "print(row[\"claude_3_response\"])"
   ]
  },
  {
   "cell_type": "code",
   "execution_count": 17,
   "metadata": {},
   "outputs": [
    {
     "name": "stdout",
     "output_type": "stream",
     "text": [
      "Response Matching Score: 0.7567567567567567\n"
     ]
    }
   ],
   "source": [
    "print(\"Response Matching Score:\", row[\"score_response_match\"])"
   ]
  }
 ],
 "metadata": {
  "kernelspec": {
   "display_name": ".venv",
   "language": "python",
   "name": "python3"
  },
  "language_info": {
   "codemirror_mode": {
    "name": "ipython",
    "version": 3
   },
   "file_extension": ".py",
   "mimetype": "text/x-python",
   "name": "python",
   "nbconvert_exporter": "python",
   "pygments_lexer": "ipython3",
   "version": "3.11.7"
  }
 },
 "nbformat": 4,
 "nbformat_minor": 2
}
