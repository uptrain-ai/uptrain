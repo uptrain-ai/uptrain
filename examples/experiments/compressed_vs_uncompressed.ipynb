{
  "cells": [
    {
      "cell_type": "markdown",
      "id": "97d31b8c",
      "metadata": {
        "id": "97d31b8c"
      },
      "source": [
        "<a href=\"https://colab.research.google.com/github/uptrain-ai/uptrain/blob/main/examples/experiments/llm_compression.ipynb\" target=\"_parent\"><img src=\"https://colab.research.google.com/assets/colab-badge.svg\" alt=\"Open In Colab\"/></a>"
      ]
    },
    {
      "cell_type": "markdown",
      "id": "b69135d1",
      "metadata": {
        "id": "b69135d1"
      },
      "source": [
        "<h1 align=\"center\">\n",
        "  <a href=\"https://uptrain.ai\">\n",
        "    <img width=\"300\" src=\"https://user-images.githubusercontent.com/108270398/214240695-4f958b76-c993-4ddd-8de6-8668f4d0da84.png\" alt=\"uptrain\">\n",
        "  </a>\n",
        "</h1>"
      ]
    },
    {
      "cell_type": "markdown",
      "id": "7c529441-0282-43e2-a443-9cff01b2c64e",
      "metadata": {
        "id": "7c529441-0282-43e2-a443-9cff01b2c64e"
      },
      "source": [
        "## Experimenting with Compressed and non-compressed"
      ]
    },
    {
      "cell_type": "markdown",
      "id": "6370d692-f235-46fb-a72c-7a6da2e89cb8",
      "metadata": {
        "id": "6370d692-f235-46fb-a72c-7a6da2e89cb8"
      },
      "source": [
        "**Overview**: In this notebook, we will compare same mode, but compressed and non compressed to measure the hit in accuracy due to compression. We will be using around 30 randomly picked examples from the Financial QA dataset and evaluate the response on different criteria to determine which of the two models performs better.\n",
        "\n",
        "\n"
      ]
    },
    {
      "cell_type": "code",
      "execution_count": 1,
      "id": "9c876701-7a13-4b71-8164-02e0c4849e22",
      "metadata": {
        "scrolled": true,
        "id": "9c876701-7a13-4b71-8164-02e0c4849e22",
        "colab": {
          "base_uri": "https://localhost:8080/"
        },
        "outputId": "21bf363b-83ee-40db-9094-5cb7df4dfe91"
      },
      "outputs": [
        {
          "output_type": "stream",
          "name": "stdout",
          "text": [
            "\u001b[?25l     \u001b[90m━━━━━━━━━━━━━━━━━━━━━━━━━━━━━━━━━━━━━━━━\u001b[0m \u001b[32m0.0/257.5 kB\u001b[0m \u001b[31m?\u001b[0m eta \u001b[36m-:--:--\u001b[0m\r\u001b[2K     \u001b[91m━━━━━━━━━━━━━━━━━\u001b[0m\u001b[90m╺\u001b[0m\u001b[90m━━━━━━━━━━━━━━━━━━━━━━\u001b[0m \u001b[32m112.6/257.5 kB\u001b[0m \u001b[31m3.1 MB/s\u001b[0m eta \u001b[36m0:00:01\u001b[0m\r\u001b[2K     \u001b[90m━━━━━━━━━━━━━━━━━━━━━━━━━━━━━━━━━━━━━━━━\u001b[0m \u001b[32m257.5/257.5 kB\u001b[0m \u001b[31m3.6 MB/s\u001b[0m eta \u001b[36m0:00:00\u001b[0m\n",
            "\u001b[2K     \u001b[90m━━━━━━━━━━━━━━━━━━━━━━━━━━━━━━━━━━━━━━━━\u001b[0m \u001b[32m159.6/159.6 kB\u001b[0m \u001b[31m9.6 MB/s\u001b[0m eta \u001b[36m0:00:00\u001b[0m\n",
            "\u001b[2K     \u001b[90m━━━━━━━━━━━━━━━━━━━━━━━━━━━━━━━━━━━━━━━━\u001b[0m \u001b[32m75.6/75.6 kB\u001b[0m \u001b[31m8.0 MB/s\u001b[0m eta \u001b[36m0:00:00\u001b[0m\n",
            "\u001b[2K     \u001b[90m━━━━━━━━━━━━━━━━━━━━━━━━━━━━━━━━━━━━━━━━\u001b[0m \u001b[32m62.5/62.5 kB\u001b[0m \u001b[31m6.5 MB/s\u001b[0m eta \u001b[36m0:00:00\u001b[0m\n",
            "\u001b[2K     \u001b[90m━━━━━━━━━━━━━━━━━━━━━━━━━━━━━━━━━━━━━━━━\u001b[0m \u001b[32m77.8/77.8 kB\u001b[0m \u001b[31m7.5 MB/s\u001b[0m eta \u001b[36m0:00:00\u001b[0m\n",
            "\u001b[2K     \u001b[90m━━━━━━━━━━━━━━━━━━━━━━━━━━━━━━━━━━━━━━━━\u001b[0m \u001b[32m58.3/58.3 kB\u001b[0m \u001b[31m5.6 MB/s\u001b[0m eta \u001b[36m0:00:00\u001b[0m\n",
            "\u001b[?25h"
          ]
        }
      ],
      "source": [
        "!pip install openai uptrain -q"
      ]
    },
    {
      "cell_type": "markdown",
      "id": "9a3717e1-3752-4a7a-a746-a151b32b06dd",
      "metadata": {
        "id": "9a3717e1-3752-4a7a-a746-a151b32b06dd"
      },
      "source": [
        "### Download the testing dataset\n",
        "\n",
        "Note: Ground Truth is optional as UpTrain supports many checks (like factual accuracy, response relevance, etc. which doesn't require ground truth)"
      ]
    },
    {
      "cell_type": "code",
      "execution_count": 8,
      "id": "0c2da51d-1f13-4a77-bd95-d2ebf75afb59",
      "metadata": {
        "id": "0c2da51d-1f13-4a77-bd95-d2ebf75afb59",
        "outputId": "629f912e-1e30-4382-9a22-4396294a2f8e",
        "colab": {
          "base_uri": "https://localhost:8080/"
        }
      },
      "outputs": [
        {
          "output_type": "stream",
          "name": "stdout",
          "text": [
            "Filtered dataset saved successfully.\n",
            "shape: (4, 3)\n",
            "┌────────────────────────────────┬────────────────────────────────┬────────────────────────────────┐\n",
            "│ question                       ┆ ground_truth                   ┆ context                        │\n",
            "│ ---                            ┆ ---                            ┆ ---                            │\n",
            "│ str                            ┆ str                            ┆ str                            │\n",
            "╞════════════════════════════════╪════════════════════════════════╪════════════════════════════════╡\n",
            "│ How does a stock operate when  ┆ Say a stock is listed in       ┆ Say a stock is listed in       │\n",
            "│ it…                            ┆ Nasdaq,…                       ┆ Nasdaq,…                       │\n",
            "│ How do credit card banks       ┆ One bank is more willing to    ┆ \"Having worked in the          │\n",
            "│ detect …                       ┆ risk…                          ┆ financial …                    │\n",
            "│ What is the 'real' monthly     ┆ How can I find out what these  ┆ How can I find out what these  │\n",
            "│ cost …                         ┆ 'a…                            ┆ 'a…                            │\n",
            "│ Why was S&P 500 PE Ratio so    ┆ \"Asking why the p/e was so     ┆ \"Asking why the p/e was so     │\n",
            "│ high…                          ┆ high …                         ┆ high …                         │\n",
            "└────────────────────────────────┴────────────────────────────────┴────────────────────────────────┘\n"
          ]
        }
      ],
      "source": [
        "import polars as pl\n",
        "import os\n",
        "import re\n",
        "\n",
        "url = \"https://uptrain-assets.s3.ap-south-1.amazonaws.com/data/evaluations_dataset.jsonl\"\n",
        "dataset_path = os.path.join('./', \"benchmark.jsonl\")\n",
        "\n",
        "if not os.path.exists(dataset_path):\n",
        "    import httpx\n",
        "    r = httpx.get(url)\n",
        "    with open(dataset_path, \"wb\") as f:\n",
        "        f.write(r.content)\n",
        "\n",
        "filtered_dataset = pl.read_ndjson(dataset_path).select(pl.col([\"question\", \"ground_truth\", \"context\"]))\n",
        "\n",
        "\n",
        "\n"
      ]
    },
    {
      "cell_type": "markdown",
      "id": "2c05cfdf-f5c5-4217-846f-65beaba32118",
      "metadata": {
        "id": "2c05cfdf-f5c5-4217-846f-65beaba32118"
      },
      "source": [
        "### Let's define a simple prompt to generate responses"
      ]
    },
    {
      "cell_type": "code",
      "execution_count": 25,
      "id": "3aacb452-37fd-4b5a-9485-829c8fb22644",
      "metadata": {
        "id": "3aacb452-37fd-4b5a-9485-829c8fb22644",
        "colab": {
          "base_uri": "https://localhost:8080/"
        },
        "outputId": "6e61ba36-aa20-4bab-a985-de0dd8c05c09"
      },
      "outputs": [
        {
          "output_type": "stream",
          "name": "stdout",
          "text": [
            "Requirement already satisfied: loguru in /usr/local/lib/python3.10/dist-packages (0.7.2)\n"
          ]
        }
      ],
      "source": [
        "from transformers import RobertaForQuestionAnswering, RobertaTokenizer\n",
        "import torch\n",
        "\n",
        "\n",
        "def get_response(row, model_name, max_seq_length=512):\n",
        "    question = row['question'][0]\n",
        "    context = row['context'][0]\n",
        "\n",
        "    # Load the question answering model and tokenizer\n",
        "    model = RobertaForQuestionAnswering.from_pretrained(model_name)\n",
        "    tokenizer = RobertaTokenizer.from_pretrained(model_name)\n",
        "\n",
        "    # Tokenize the input text\n",
        "    inputs = tokenizer(question, context, return_tensors=\"pt\", max_length=max_seq_length, truncation=True)\n",
        "\n",
        "    # Check if the input exceeds the maximum sequence length\n",
        "    if inputs['input_ids'].size(1) > max_seq_length:\n",
        "        # Handle the case of a longer sequence by truncating or splitting\n",
        "        # You may choose to truncate or implement your logic for handling longer sequences\n",
        "\n",
        "        # Example: Truncate the input sequence\n",
        "        inputs['input_ids'] = inputs['input_ids'][:, :max_seq_length]\n",
        "        inputs['attention_mask'] = inputs['attention_mask'][:, :max_seq_length]\n",
        "\n",
        "    # Perform inference with the question answering model\n",
        "    outputs = model(**inputs)\n",
        "\n",
        "    # Get the start and end scores from the output\n",
        "    start_scores = outputs.start_logits\n",
        "    end_scores = outputs.end_logits\n",
        "\n",
        "    # Get the answer span from the start and end scores\n",
        "    answer_start = torch.argmax(start_scores, dim=1).item()\n",
        "    answer_end = torch.argmax(end_scores, dim=1).item() + 1\n",
        "\n",
        "    # Decode the answer from the tokens\n",
        "    answer = tokenizer.decode(inputs[\"input_ids\"][0][answer_start:answer_end])\n",
        "\n",
        "    # Log the answer\n",
        "    logger.info(f\"Answer: {answer}\")\n",
        "\n",
        "    return {\n",
        "        'question': question,\n",
        "        'context':context,\n",
        "        'response': answer,\n",
        "        'ground_truth': row['ground_truth'][0]\n",
        "    }"
      ]
    },
    {
      "cell_type": "markdown",
      "id": "9a1750f0-d2d6-4ac1-85de-df4f60366f1d",
      "metadata": {
        "id": "9a1750f0-d2d6-4ac1-85de-df4f60366f1d"
      },
      "source": [
        "### Generate responses for both the models"
      ]
    },
    {
      "cell_type": "markdown",
      "source": [
        "Here is the response from \"lighter\" compressed model. This is distilled version of the roberta-base\n",
        "\n"
      ],
      "metadata": {
        "id": "boiHTr5-sb7i"
      },
      "id": "boiHTr5-sb7i"
    },
    {
      "cell_type": "code",
      "execution_count": 26,
      "id": "cca09106-6d51-41cc-9452-7a412f35a8c1",
      "metadata": {
        "id": "cca09106-6d51-41cc-9452-7a412f35a8c1",
        "colab": {
          "base_uri": "https://localhost:8080/"
        },
        "outputId": "96288227-8e27-4b79-bee6-f1864dbb8fa9"
      },
      "outputs": [
        {
          "output_type": "stream",
          "name": "stdout",
          "text": [
            "Requirement already satisfied: nest_asyncio in /usr/local/lib/python3.10/dist-packages (1.6.0)\n",
            "Requirement already satisfied: loguru in /usr/local/lib/python3.10/dist-packages (0.7.2)\n"
          ]
        },
        {
          "output_type": "stream",
          "name": "stderr",
          "text": [
            "Be aware, overflowing tokens are not returned for the setting you have chosen, i.e. sequence pairs with the 'longest_first' truncation strategy. So the returned list will always be empty even if some tokens have been removed.\n"
          ]
        },
        {
          "output_type": "stream",
          "name": "stdout",
          "text": [
            "[{'question': 'How does a stock operate when it is listed between two exchanges?', 'context': 'Say a stock is listed in Nasdaq, and the same company has a stock listed in Tsx. Does the Nasdaq price affect the Tsx price as trading commences? Not directly. Basically, an exchange is a market, and the price is defined only by supply and demand in that market. However, any substantial price differential for a commodity traded in multiple market creates an arbitrage opportunity, and there are many traders whose job it is exactly to find and use such opportunities. Their activity in turn has the effect of reducing the price differentials to the point where transaction costs make them unprofitable. With high-frequency traders around, the time for a price differential to disappear is nowadays measured in milliseconds. If a trader buys from one exchange, will it affect the price of the other? Only through the mechanism mentioned above.  Are there any benefits to being listed in two exchanges? It increases the liquidity of a stock.\\n\"listed simultaneously in New York, London, and maybe even some Asian markets - is this correct? If the exchanges are not connected, then in primary market the shares are listed. On other exchanges, the \"\"Depository Receipts\"\" are listed. i.e. the Company will keep say 100,000 shares with the primary stock exchange / depository. Based on this it would create new instruments \"\"Depository Receipts\"\". They can be 1:1 or whatever ratio. hypothetically, if I want to buy all of the company\\'s stock Even if it is on one exchange, buying all stocks would trigger various regulatory aspects of Companies Act, or Stock Exchange rules. This is not simple or easy like clicking some buttons and buying everything. That is, let\\'s say that in New York the company has listed 1000 shares, and in London only 10 shares, each worth 10 USD Market capitalization is sum of all outstanding shares into value.\"\\nI don\\'t quite understand the NYSE argument that the credit system helps NASDAQ undercut NYSE on pricing and force brokers to trade on NASDAQ. I thought if you were trading a stock listed on NASDAQ, you traded through them and if you were trading a stock listed on NYSE, you\\'d trade over there. The choice of exchange coming down to the stocks you want to trade more than anything. Are the exchanges also acting as endpoints on trades for securities listed on the other exchange?', 'response': '<s>', 'ground_truth': 'Say a stock is listed in Nasdaq, and the same company has a stock listed in Tsx. Does the Nasdaq price affect the Tsx price as trading commences? Not directly. Basically, an exchange is a market, and the price is defined only by supply and demand in that market. However, any substantial price differential for a commodity traded in multiple market creates an arbitrage opportunity, and there are many traders whose job it is exactly to find and use such opportunities. Their activity in turn has the effect of reducing the price differentials to the point where transaction costs make them unprofitable. With high-frequency traders around, the time for a price differential to disappear is nowadays measured in milliseconds. If a trader buys from one exchange, will it affect the price of the other? Only through the mechanism mentioned above.  Are there any benefits to being listed in two exchanges? It increases the liquidity of a stock.'}, {'question': 'How do credit card banks detect fraudulent transactions without requiring a travel advisory?', 'context': '\"Having worked in the financial industry, I can say 9:10 times a card is blocked, it is not actually the financial industry, but a credit/credit card monitoring service like \"\"Falcon\"\" for VISA. If you have not added travel notes or similar, they will decline large, our of country purchases as a way to protect you, from what is most likely fraud. Imagine if you were living in Sweden and making regular steady purchases, then all of a sudden, without warning your card was used in Spain. This would look suspicious on paper, even it was obvious to you.  This is less to do with your financial institution, and more to do with increased fraud prevention. Call your bank. They will help you.\"\\nBanks and credit unions are constantly required to improve their detection methods for suspicious transactions.  It\\'s not just big transactions anymore, it\\'s scattered little ones, etc. Our credit union had to buy software that runs through transactions sniffing for suspicious patterns.  More regulations and more costs that ultimately get passed on to customers in one way or another. Some of your transactions probably tripped a wire where there was none before.\\nContrary to what many people think, credit card companies pass nearly all fraud costs via purchased goods onto the merchant who sells them. As a result, they stand a very high chance of getting the money from a fraudulent purchase of a specific purchased item back, as they just chargeback the merchant who has to stomach the cost. This is not the case for cash transactions obviously, where as soon as the money leaves the ATM fraudulently it is as good as gone. As a result, the risk profile of the two types of transaction is wildly different, and the credit limits of each reflect this.', 'response': '<s>', 'ground_truth': \"One bank is more willing to risk losses and customer hassle in exchange for lower processing costs than the other bank is. It's strictly a business decision. Regarding how they detect suspicious transactions: Patten detection based on your past usage history. I've gotten calls asking me to confirm that I just placed a large order with a company I'd never bought from before, or in a country that I haven't previously visited, or...\"}, {'question': \"What is the 'real' monthly cost of a car?\", 'context': \"How can I find out what these 'additional' costs will be when looking to buy a car? If you know what model you're interested in buying you can try out Edmund's True Cost To Own calculator. This will estimate the depreciation, taxes and fees, financing costs, fuel costs, insurance premiums, maintenance, repairs, and any tax credits for owning a certain model for various periods of time. You can improve the accuracy be substituting your own calculations, like if you already have an insurance quote. Consumer Reports has a useful chart to demonstrate how much each of those additional costs will add up, percentage-wise. They also list the most and least expensive cars to own.\\nThe .9% looks great, but it's not as relevant as the cost of the car itself. There are those who believe that one should never own a new car, that the first X years/miles of a car's life are the most expensive.  The real question is how your budget is allocated. Is the car payment a small sliver or a large slice? How big is the housing wedge?\\nI've read online that 20% is a reasonable amount to pay for a car each month - Don't believe everything you read on the internet.  But, let me ask, does your current car have zero expense? No fuel, no oil change, no repairs, no insurance? If the 20% is true, you are already spending a good chunk of it each month. My car just celebrated her 8th birthday. And at 125,000 miles, needed $3000 worth of maintenance repairs.  The issue isn't with buying the expensive car, you can buy whatever you can afford, that's a personal preference. It's how you propose to budget for it that seems to be bad math. Other members here have already pointed out that this financial decision might not be so wise.\", 'response': '<s>', 'ground_truth': \"How can I find out what these 'additional' costs will be when looking to buy a car? If you know what model you're interested in buying you can try out Edmund's True Cost To Own calculator. This will estimate the depreciation, taxes and fees, financing costs, fuel costs, insurance premiums, maintenance, repairs, and any tax credits for owning a certain model for various periods of time. You can improve the accuracy be substituting your own calculations, like if you already have an insurance quote. Consumer Reports has a useful chart to demonstrate how much each of those additional costs will add up, percentage-wise. They also list the most and least expensive cars to own.\"}, {'question': 'Why was S&P 500 PE Ratio so high on May 2009', 'context': '\"Asking why the p/e was so high is best answered \"\"because reported earnings were so low\"\". Recall that the S&P500 bottomed in early March 2009 when the panic of the financial crisis reached exhaustion.  As noted on the page you have linked, the reported p/e ratios are computed using reported earnings from the trailing twelve months.  During those twelve months the banks were writing down all of the bad debt associated with the mortgage backed securities that has lost so much value.  This meant that the banks were reporting negative earnings.  Since the financial sector is a large part of the S&P500, this alone had an enormous effect on the index p/e.  However, the problem was compounded by a general collapse in earnings across the economy as consumers reacted to the resulting uncertainty.  The same site reports earnings for the previous years at $17.11 for the S&P500, compared to $76.17 for the year prior to 2008.  That is a collapse of about 78% in earnings.  Although the S&P500 has suffered badly during this time, stock market investors being forward looking were starting to price in improved earnings by May 2009.  Indeed, the S&P500 was up about 33% in just two months, from its low in March2009 to mid May2009.  Thus, by May of 2009 prices were not suffering to the same extent as reported trailing earnings.  This would account for the anomalous p/e value reporting in May2009.\"\\nThe article is talking about relative cost. You could use the cash Schiller P/E ratio as a proxy. That\\'s unit of price per unit of earning. The answer to your question is one time in history, during the 2000 dot com bubble. It\\'s higher than 2008 before the downturn. You are paying more for the same earnings. That has nothing to do with the size of the economy and everything to do with interest rates being too low for too long\\nCurrent S&amp;P 500 Shiller PE is higher than it was on Black Tuesday in 1929, Black Monday in 1987, and 2008 before the market went off the cliff.  I\\'m a firm believer in what comes up having to go down eventually, I just can\\'t put my finger on how soon it\\'ll be or the magnitude.  I don\\'t think we\\'ll see a dot com blowup, since this current bull market isn\\'t based on fiction, but there will be a drawdown as the Fed unwinds their balance sheet and interest rates return back to normal.  The only question is how much further it\\'ll fall at that point.', 'response': '<s>', 'ground_truth': '\"Asking why the p/e was so high is best answered \"\"because reported earnings were so low\"\". Recall that the S&P500 bottomed in early March 2009 when the panic of the financial crisis reached exhaustion.  As noted on the page you have linked, the reported p/e ratios are computed using reported earnings from the trailing twelve months.  During those twelve months the banks were writing down all of the bad debt associated with the mortgage backed securities that has lost so much value.  This meant that the banks were reporting negative earnings.  Since the financial sector is a large part of the S&P500, this alone had an enormous effect on the index p/e.  However, the problem was compounded by a general collapse in earnings across the economy as consumers reacted to the resulting uncertainty.  The same site reports earnings for the previous years at $17.11 for the S&P500, compared to $76.17 for the year prior to 2008.  That is a collapse of about 78% in earnings.  Although the S&P500 has suffered badly during this time, stock market investors being forward looking were starting to price in improved earnings by May 2009.  Indeed, the S&P500 was up about 33% in just two months, from its low in March2009 to mid May2009.  Thus, by May of 2009 prices were not suffering to the same extent as reported trailing earnings.  This would account for the anomalous p/e value reporting in May2009.\"'}]\n"
          ]
        }
      ],
      "source": [
        "\n",
        "results = [get_response(filtered_dataset[idx], 'deepset/tinyroberta-squad2') for idx in range(len(filtered_dataset))]\n",
        "\n",
        "print(results)"
      ]
    },
    {
      "cell_type": "markdown",
      "source": [
        "And here is the response from \"larger\" non compressed model"
      ],
      "metadata": {
        "id": "Ake12jrhsl5H"
      },
      "id": "Ake12jrhsl5H"
    },
    {
      "cell_type": "code",
      "source": [
        "\n",
        "results_large = [get_response(filtered_dataset[idx], 'deepset/roberta-base-squad2') for idx in range(len(filtered_dataset))]\n",
        "\n",
        "print(results)"
      ],
      "metadata": {
        "colab": {
          "base_uri": "https://localhost:8080/"
        },
        "id": "523bBT9OsmeM",
        "outputId": "7bd283f7-6a0c-47fe-9459-3079976e06da"
      },
      "id": "523bBT9OsmeM",
      "execution_count": 27,
      "outputs": [
        {
          "output_type": "stream",
          "name": "stderr",
          "text": [
            "Be aware, overflowing tokens are not returned for the setting you have chosen, i.e. sequence pairs with the 'longest_first' truncation strategy. So the returned list will always be empty even if some tokens have been removed.\n"
          ]
        },
        {
          "output_type": "stream",
          "name": "stdout",
          "text": [
            "[{'question': 'How does a stock operate when it is listed between two exchanges?', 'context': 'Say a stock is listed in Nasdaq, and the same company has a stock listed in Tsx. Does the Nasdaq price affect the Tsx price as trading commences? Not directly. Basically, an exchange is a market, and the price is defined only by supply and demand in that market. However, any substantial price differential for a commodity traded in multiple market creates an arbitrage opportunity, and there are many traders whose job it is exactly to find and use such opportunities. Their activity in turn has the effect of reducing the price differentials to the point where transaction costs make them unprofitable. With high-frequency traders around, the time for a price differential to disappear is nowadays measured in milliseconds. If a trader buys from one exchange, will it affect the price of the other? Only through the mechanism mentioned above.  Are there any benefits to being listed in two exchanges? It increases the liquidity of a stock.\\n\"listed simultaneously in New York, London, and maybe even some Asian markets - is this correct? If the exchanges are not connected, then in primary market the shares are listed. On other exchanges, the \"\"Depository Receipts\"\" are listed. i.e. the Company will keep say 100,000 shares with the primary stock exchange / depository. Based on this it would create new instruments \"\"Depository Receipts\"\". They can be 1:1 or whatever ratio. hypothetically, if I want to buy all of the company\\'s stock Even if it is on one exchange, buying all stocks would trigger various regulatory aspects of Companies Act, or Stock Exchange rules. This is not simple or easy like clicking some buttons and buying everything. That is, let\\'s say that in New York the company has listed 1000 shares, and in London only 10 shares, each worth 10 USD Market capitalization is sum of all outstanding shares into value.\"\\nI don\\'t quite understand the NYSE argument that the credit system helps NASDAQ undercut NYSE on pricing and force brokers to trade on NASDAQ. I thought if you were trading a stock listed on NASDAQ, you traded through them and if you were trading a stock listed on NYSE, you\\'d trade over there. The choice of exchange coming down to the stocks you want to trade more than anything. Are the exchanges also acting as endpoints on trades for securities listed on the other exchange?', 'response': '<s>', 'ground_truth': 'Say a stock is listed in Nasdaq, and the same company has a stock listed in Tsx. Does the Nasdaq price affect the Tsx price as trading commences? Not directly. Basically, an exchange is a market, and the price is defined only by supply and demand in that market. However, any substantial price differential for a commodity traded in multiple market creates an arbitrage opportunity, and there are many traders whose job it is exactly to find and use such opportunities. Their activity in turn has the effect of reducing the price differentials to the point where transaction costs make them unprofitable. With high-frequency traders around, the time for a price differential to disappear is nowadays measured in milliseconds. If a trader buys from one exchange, will it affect the price of the other? Only through the mechanism mentioned above.  Are there any benefits to being listed in two exchanges? It increases the liquidity of a stock.'}, {'question': 'How do credit card banks detect fraudulent transactions without requiring a travel advisory?', 'context': '\"Having worked in the financial industry, I can say 9:10 times a card is blocked, it is not actually the financial industry, but a credit/credit card monitoring service like \"\"Falcon\"\" for VISA. If you have not added travel notes or similar, they will decline large, our of country purchases as a way to protect you, from what is most likely fraud. Imagine if you were living in Sweden and making regular steady purchases, then all of a sudden, without warning your card was used in Spain. This would look suspicious on paper, even it was obvious to you.  This is less to do with your financial institution, and more to do with increased fraud prevention. Call your bank. They will help you.\"\\nBanks and credit unions are constantly required to improve their detection methods for suspicious transactions.  It\\'s not just big transactions anymore, it\\'s scattered little ones, etc. Our credit union had to buy software that runs through transactions sniffing for suspicious patterns.  More regulations and more costs that ultimately get passed on to customers in one way or another. Some of your transactions probably tripped a wire where there was none before.\\nContrary to what many people think, credit card companies pass nearly all fraud costs via purchased goods onto the merchant who sells them. As a result, they stand a very high chance of getting the money from a fraudulent purchase of a specific purchased item back, as they just chargeback the merchant who has to stomach the cost. This is not the case for cash transactions obviously, where as soon as the money leaves the ATM fraudulently it is as good as gone. As a result, the risk profile of the two types of transaction is wildly different, and the credit limits of each reflect this.', 'response': '<s>', 'ground_truth': \"One bank is more willing to risk losses and customer hassle in exchange for lower processing costs than the other bank is. It's strictly a business decision. Regarding how they detect suspicious transactions: Patten detection based on your past usage history. I've gotten calls asking me to confirm that I just placed a large order with a company I'd never bought from before, or in a country that I haven't previously visited, or...\"}, {'question': \"What is the 'real' monthly cost of a car?\", 'context': \"How can I find out what these 'additional' costs will be when looking to buy a car? If you know what model you're interested in buying you can try out Edmund's True Cost To Own calculator. This will estimate the depreciation, taxes and fees, financing costs, fuel costs, insurance premiums, maintenance, repairs, and any tax credits for owning a certain model for various periods of time. You can improve the accuracy be substituting your own calculations, like if you already have an insurance quote. Consumer Reports has a useful chart to demonstrate how much each of those additional costs will add up, percentage-wise. They also list the most and least expensive cars to own.\\nThe .9% looks great, but it's not as relevant as the cost of the car itself. There are those who believe that one should never own a new car, that the first X years/miles of a car's life are the most expensive.  The real question is how your budget is allocated. Is the car payment a small sliver or a large slice? How big is the housing wedge?\\nI've read online that 20% is a reasonable amount to pay for a car each month - Don't believe everything you read on the internet.  But, let me ask, does your current car have zero expense? No fuel, no oil change, no repairs, no insurance? If the 20% is true, you are already spending a good chunk of it each month. My car just celebrated her 8th birthday. And at 125,000 miles, needed $3000 worth of maintenance repairs.  The issue isn't with buying the expensive car, you can buy whatever you can afford, that's a personal preference. It's how you propose to budget for it that seems to be bad math. Other members here have already pointed out that this financial decision might not be so wise.\", 'response': '<s>', 'ground_truth': \"How can I find out what these 'additional' costs will be when looking to buy a car? If you know what model you're interested in buying you can try out Edmund's True Cost To Own calculator. This will estimate the depreciation, taxes and fees, financing costs, fuel costs, insurance premiums, maintenance, repairs, and any tax credits for owning a certain model for various periods of time. You can improve the accuracy be substituting your own calculations, like if you already have an insurance quote. Consumer Reports has a useful chart to demonstrate how much each of those additional costs will add up, percentage-wise. They also list the most and least expensive cars to own.\"}, {'question': 'Why was S&P 500 PE Ratio so high on May 2009', 'context': '\"Asking why the p/e was so high is best answered \"\"because reported earnings were so low\"\". Recall that the S&P500 bottomed in early March 2009 when the panic of the financial crisis reached exhaustion.  As noted on the page you have linked, the reported p/e ratios are computed using reported earnings from the trailing twelve months.  During those twelve months the banks were writing down all of the bad debt associated with the mortgage backed securities that has lost so much value.  This meant that the banks were reporting negative earnings.  Since the financial sector is a large part of the S&P500, this alone had an enormous effect on the index p/e.  However, the problem was compounded by a general collapse in earnings across the economy as consumers reacted to the resulting uncertainty.  The same site reports earnings for the previous years at $17.11 for the S&P500, compared to $76.17 for the year prior to 2008.  That is a collapse of about 78% in earnings.  Although the S&P500 has suffered badly during this time, stock market investors being forward looking were starting to price in improved earnings by May 2009.  Indeed, the S&P500 was up about 33% in just two months, from its low in March2009 to mid May2009.  Thus, by May of 2009 prices were not suffering to the same extent as reported trailing earnings.  This would account for the anomalous p/e value reporting in May2009.\"\\nThe article is talking about relative cost. You could use the cash Schiller P/E ratio as a proxy. That\\'s unit of price per unit of earning. The answer to your question is one time in history, during the 2000 dot com bubble. It\\'s higher than 2008 before the downturn. You are paying more for the same earnings. That has nothing to do with the size of the economy and everything to do with interest rates being too low for too long\\nCurrent S&amp;P 500 Shiller PE is higher than it was on Black Tuesday in 1929, Black Monday in 1987, and 2008 before the market went off the cliff.  I\\'m a firm believer in what comes up having to go down eventually, I just can\\'t put my finger on how soon it\\'ll be or the magnitude.  I don\\'t think we\\'ll see a dot com blowup, since this current bull market isn\\'t based on fiction, but there will be a drawdown as the Fed unwinds their balance sheet and interest rates return back to normal.  The only question is how much further it\\'ll fall at that point.', 'response': '<s>', 'ground_truth': '\"Asking why the p/e was so high is best answered \"\"because reported earnings were so low\"\". Recall that the S&P500 bottomed in early March 2009 when the panic of the financial crisis reached exhaustion.  As noted on the page you have linked, the reported p/e ratios are computed using reported earnings from the trailing twelve months.  During those twelve months the banks were writing down all of the bad debt associated with the mortgage backed securities that has lost so much value.  This meant that the banks were reporting negative earnings.  Since the financial sector is a large part of the S&P500, this alone had an enormous effect on the index p/e.  However, the problem was compounded by a general collapse in earnings across the economy as consumers reacted to the resulting uncertainty.  The same site reports earnings for the previous years at $17.11 for the S&P500, compared to $76.17 for the year prior to 2008.  That is a collapse of about 78% in earnings.  Although the S&P500 has suffered badly during this time, stock market investors being forward looking were starting to price in improved earnings by May 2009.  Indeed, the S&P500 was up about 33% in just two months, from its low in March2009 to mid May2009.  Thus, by May of 2009 prices were not suffering to the same extent as reported trailing earnings.  This would account for the anomalous p/e value reporting in May2009.\"'}]\n"
          ]
        }
      ]
    },
    {
      "cell_type": "markdown",
      "id": "9fb3fb53-35a8-4b2d-9f04-ba7550059c67",
      "metadata": {
        "id": "9fb3fb53-35a8-4b2d-9f04-ba7550059c67"
      },
      "source": [
        "### Evaluating Experiments using UpTrain\n",
        "\n",
        "UpTrain's EvalLLM provides an \"evaluate_experiments\" method which takes the input data to be evaluated along with the list of checks to be run and the name of the columns associated with the experiment. In this example, we are generating responses in the notebook itself but you can imagine generating responses via your own setup and just passing the query-response pair to UpTrain for evaluation"
      ]
    },
    {
      "cell_type": "code",
      "execution_count": 28,
      "id": "b400ed9a-7c7e-49a9-bbe8-c57ee84e5f06",
      "metadata": {
        "id": "b400ed9a-7c7e-49a9-bbe8-c57ee84e5f06",
        "outputId": "1dd987b1-06f8-4dbd-9c3e-44841ee6610c",
        "colab": {
          "base_uri": "https://localhost:8080/"
        }
      },
      "outputs": [
        {
          "output_type": "stream",
          "name": "stdout",
          "text": [
            "[{'question': 'How does a stock operate when it is listed between two exchanges?', 'context': 'Say a stock is listed in Nasdaq, and the same company has a stock listed in Tsx. Does the Nasdaq price affect the Tsx price as trading commences? Not directly. Basically, an exchange is a market, and the price is defined only by supply and demand in that market. However, any substantial price differential for a commodity traded in multiple market creates an arbitrage opportunity, and there are many traders whose job it is exactly to find and use such opportunities. Their activity in turn has the effect of reducing the price differentials to the point where transaction costs make them unprofitable. With high-frequency traders around, the time for a price differential to disappear is nowadays measured in milliseconds. If a trader buys from one exchange, will it affect the price of the other? Only through the mechanism mentioned above.  Are there any benefits to being listed in two exchanges? It increases the liquidity of a stock.\\n\"listed simultaneously in New York, London, and maybe even some Asian markets - is this correct? If the exchanges are not connected, then in primary market the shares are listed. On other exchanges, the \"\"Depository Receipts\"\" are listed. i.e. the Company will keep say 100,000 shares with the primary stock exchange / depository. Based on this it would create new instruments \"\"Depository Receipts\"\". They can be 1:1 or whatever ratio. hypothetically, if I want to buy all of the company\\'s stock Even if it is on one exchange, buying all stocks would trigger various regulatory aspects of Companies Act, or Stock Exchange rules. This is not simple or easy like clicking some buttons and buying everything. That is, let\\'s say that in New York the company has listed 1000 shares, and in London only 10 shares, each worth 10 USD Market capitalization is sum of all outstanding shares into value.\"\\nI don\\'t quite understand the NYSE argument that the credit system helps NASDAQ undercut NYSE on pricing and force brokers to trade on NASDAQ. I thought if you were trading a stock listed on NASDAQ, you traded through them and if you were trading a stock listed on NYSE, you\\'d trade over there. The choice of exchange coming down to the stocks you want to trade more than anything. Are the exchanges also acting as endpoints on trades for securities listed on the other exchange?', 'response': '<s>', 'ground_truth': 'Say a stock is listed in Nasdaq, and the same company has a stock listed in Tsx. Does the Nasdaq price affect the Tsx price as trading commences? Not directly. Basically, an exchange is a market, and the price is defined only by supply and demand in that market. However, any substantial price differential for a commodity traded in multiple market creates an arbitrage opportunity, and there are many traders whose job it is exactly to find and use such opportunities. Their activity in turn has the effect of reducing the price differentials to the point where transaction costs make them unprofitable. With high-frequency traders around, the time for a price differential to disappear is nowadays measured in milliseconds. If a trader buys from one exchange, will it affect the price of the other? Only through the mechanism mentioned above.  Are there any benefits to being listed in two exchanges? It increases the liquidity of a stock.'}, {'question': 'How do credit card banks detect fraudulent transactions without requiring a travel advisory?', 'context': '\"Having worked in the financial industry, I can say 9:10 times a card is blocked, it is not actually the financial industry, but a credit/credit card monitoring service like \"\"Falcon\"\" for VISA. If you have not added travel notes or similar, they will decline large, our of country purchases as a way to protect you, from what is most likely fraud. Imagine if you were living in Sweden and making regular steady purchases, then all of a sudden, without warning your card was used in Spain. This would look suspicious on paper, even it was obvious to you.  This is less to do with your financial institution, and more to do with increased fraud prevention. Call your bank. They will help you.\"\\nBanks and credit unions are constantly required to improve their detection methods for suspicious transactions.  It\\'s not just big transactions anymore, it\\'s scattered little ones, etc. Our credit union had to buy software that runs through transactions sniffing for suspicious patterns.  More regulations and more costs that ultimately get passed on to customers in one way or another. Some of your transactions probably tripped a wire where there was none before.\\nContrary to what many people think, credit card companies pass nearly all fraud costs via purchased goods onto the merchant who sells them. As a result, they stand a very high chance of getting the money from a fraudulent purchase of a specific purchased item back, as they just chargeback the merchant who has to stomach the cost. This is not the case for cash transactions obviously, where as soon as the money leaves the ATM fraudulently it is as good as gone. As a result, the risk profile of the two types of transaction is wildly different, and the credit limits of each reflect this.', 'response': '<s>', 'ground_truth': \"One bank is more willing to risk losses and customer hassle in exchange for lower processing costs than the other bank is. It's strictly a business decision. Regarding how they detect suspicious transactions: Patten detection based on your past usage history. I've gotten calls asking me to confirm that I just placed a large order with a company I'd never bought from before, or in a country that I haven't previously visited, or...\"}, {'question': \"What is the 'real' monthly cost of a car?\", 'context': \"How can I find out what these 'additional' costs will be when looking to buy a car? If you know what model you're interested in buying you can try out Edmund's True Cost To Own calculator. This will estimate the depreciation, taxes and fees, financing costs, fuel costs, insurance premiums, maintenance, repairs, and any tax credits for owning a certain model for various periods of time. You can improve the accuracy be substituting your own calculations, like if you already have an insurance quote. Consumer Reports has a useful chart to demonstrate how much each of those additional costs will add up, percentage-wise. They also list the most and least expensive cars to own.\\nThe .9% looks great, but it's not as relevant as the cost of the car itself. There are those who believe that one should never own a new car, that the first X years/miles of a car's life are the most expensive.  The real question is how your budget is allocated. Is the car payment a small sliver or a large slice? How big is the housing wedge?\\nI've read online that 20% is a reasonable amount to pay for a car each month - Don't believe everything you read on the internet.  But, let me ask, does your current car have zero expense? No fuel, no oil change, no repairs, no insurance? If the 20% is true, you are already spending a good chunk of it each month. My car just celebrated her 8th birthday. And at 125,000 miles, needed $3000 worth of maintenance repairs.  The issue isn't with buying the expensive car, you can buy whatever you can afford, that's a personal preference. It's how you propose to budget for it that seems to be bad math. Other members here have already pointed out that this financial decision might not be so wise.\", 'response': '<s>', 'ground_truth': \"How can I find out what these 'additional' costs will be when looking to buy a car? If you know what model you're interested in buying you can try out Edmund's True Cost To Own calculator. This will estimate the depreciation, taxes and fees, financing costs, fuel costs, insurance premiums, maintenance, repairs, and any tax credits for owning a certain model for various periods of time. You can improve the accuracy be substituting your own calculations, like if you already have an insurance quote. Consumer Reports has a useful chart to demonstrate how much each of those additional costs will add up, percentage-wise. They also list the most and least expensive cars to own.\"}, {'question': 'Why was S&P 500 PE Ratio so high on May 2009', 'context': '\"Asking why the p/e was so high is best answered \"\"because reported earnings were so low\"\". Recall that the S&P500 bottomed in early March 2009 when the panic of the financial crisis reached exhaustion.  As noted on the page you have linked, the reported p/e ratios are computed using reported earnings from the trailing twelve months.  During those twelve months the banks were writing down all of the bad debt associated with the mortgage backed securities that has lost so much value.  This meant that the banks were reporting negative earnings.  Since the financial sector is a large part of the S&P500, this alone had an enormous effect on the index p/e.  However, the problem was compounded by a general collapse in earnings across the economy as consumers reacted to the resulting uncertainty.  The same site reports earnings for the previous years at $17.11 for the S&P500, compared to $76.17 for the year prior to 2008.  That is a collapse of about 78% in earnings.  Although the S&P500 has suffered badly during this time, stock market investors being forward looking were starting to price in improved earnings by May 2009.  Indeed, the S&P500 was up about 33% in just two months, from its low in March2009 to mid May2009.  Thus, by May of 2009 prices were not suffering to the same extent as reported trailing earnings.  This would account for the anomalous p/e value reporting in May2009.\"\\nThe article is talking about relative cost. You could use the cash Schiller P/E ratio as a proxy. That\\'s unit of price per unit of earning. The answer to your question is one time in history, during the 2000 dot com bubble. It\\'s higher than 2008 before the downturn. You are paying more for the same earnings. That has nothing to do with the size of the economy and everything to do with interest rates being too low for too long\\nCurrent S&amp;P 500 Shiller PE is higher than it was on Black Tuesday in 1929, Black Monday in 1987, and 2008 before the market went off the cliff.  I\\'m a firm believer in what comes up having to go down eventually, I just can\\'t put my finger on how soon it\\'ll be or the magnitude.  I don\\'t think we\\'ll see a dot com blowup, since this current bull market isn\\'t based on fiction, but there will be a drawdown as the Fed unwinds their balance sheet and interest rates return back to normal.  The only question is how much further it\\'ll fall at that point.', 'response': '<s>', 'ground_truth': '\"Asking why the p/e was so high is best answered \"\"because reported earnings were so low\"\". Recall that the S&P500 bottomed in early March 2009 when the panic of the financial crisis reached exhaustion.  As noted on the page you have linked, the reported p/e ratios are computed using reported earnings from the trailing twelve months.  During those twelve months the banks were writing down all of the bad debt associated with the mortgage backed securities that has lost so much value.  This meant that the banks were reporting negative earnings.  Since the financial sector is a large part of the S&P500, this alone had an enormous effect on the index p/e.  However, the problem was compounded by a general collapse in earnings across the economy as consumers reacted to the resulting uncertainty.  The same site reports earnings for the previous years at $17.11 for the S&P500, compared to $76.17 for the year prior to 2008.  That is a collapse of about 78% in earnings.  Although the S&P500 has suffered badly during this time, stock market investors being forward looking were starting to price in improved earnings by May 2009.  Indeed, the S&P500 was up about 33% in just two months, from its low in March2009 to mid May2009.  Thus, by May of 2009 prices were not suffering to the same extent as reported trailing earnings.  This would account for the anomalous p/e value reporting in May2009.\"'}, {'question': 'How does a stock operate when it is listed between two exchanges?', 'context': 'Say a stock is listed in Nasdaq, and the same company has a stock listed in Tsx. Does the Nasdaq price affect the Tsx price as trading commences? Not directly. Basically, an exchange is a market, and the price is defined only by supply and demand in that market. However, any substantial price differential for a commodity traded in multiple market creates an arbitrage opportunity, and there are many traders whose job it is exactly to find and use such opportunities. Their activity in turn has the effect of reducing the price differentials to the point where transaction costs make them unprofitable. With high-frequency traders around, the time for a price differential to disappear is nowadays measured in milliseconds. If a trader buys from one exchange, will it affect the price of the other? Only through the mechanism mentioned above.  Are there any benefits to being listed in two exchanges? It increases the liquidity of a stock.\\n\"listed simultaneously in New York, London, and maybe even some Asian markets - is this correct? If the exchanges are not connected, then in primary market the shares are listed. On other exchanges, the \"\"Depository Receipts\"\" are listed. i.e. the Company will keep say 100,000 shares with the primary stock exchange / depository. Based on this it would create new instruments \"\"Depository Receipts\"\". They can be 1:1 or whatever ratio. hypothetically, if I want to buy all of the company\\'s stock Even if it is on one exchange, buying all stocks would trigger various regulatory aspects of Companies Act, or Stock Exchange rules. This is not simple or easy like clicking some buttons and buying everything. That is, let\\'s say that in New York the company has listed 1000 shares, and in London only 10 shares, each worth 10 USD Market capitalization is sum of all outstanding shares into value.\"\\nI don\\'t quite understand the NYSE argument that the credit system helps NASDAQ undercut NYSE on pricing and force brokers to trade on NASDAQ. I thought if you were trading a stock listed on NASDAQ, you traded through them and if you were trading a stock listed on NYSE, you\\'d trade over there. The choice of exchange coming down to the stocks you want to trade more than anything. Are the exchanges also acting as endpoints on trades for securities listed on the other exchange?', 'response': '<s>', 'ground_truth': 'Say a stock is listed in Nasdaq, and the same company has a stock listed in Tsx. Does the Nasdaq price affect the Tsx price as trading commences? Not directly. Basically, an exchange is a market, and the price is defined only by supply and demand in that market. However, any substantial price differential for a commodity traded in multiple market creates an arbitrage opportunity, and there are many traders whose job it is exactly to find and use such opportunities. Their activity in turn has the effect of reducing the price differentials to the point where transaction costs make them unprofitable. With high-frequency traders around, the time for a price differential to disappear is nowadays measured in milliseconds. If a trader buys from one exchange, will it affect the price of the other? Only through the mechanism mentioned above.  Are there any benefits to being listed in two exchanges? It increases the liquidity of a stock.'}, {'question': 'How do credit card banks detect fraudulent transactions without requiring a travel advisory?', 'context': '\"Having worked in the financial industry, I can say 9:10 times a card is blocked, it is not actually the financial industry, but a credit/credit card monitoring service like \"\"Falcon\"\" for VISA. If you have not added travel notes or similar, they will decline large, our of country purchases as a way to protect you, from what is most likely fraud. Imagine if you were living in Sweden and making regular steady purchases, then all of a sudden, without warning your card was used in Spain. This would look suspicious on paper, even it was obvious to you.  This is less to do with your financial institution, and more to do with increased fraud prevention. Call your bank. They will help you.\"\\nBanks and credit unions are constantly required to improve their detection methods for suspicious transactions.  It\\'s not just big transactions anymore, it\\'s scattered little ones, etc. Our credit union had to buy software that runs through transactions sniffing for suspicious patterns.  More regulations and more costs that ultimately get passed on to customers in one way or another. Some of your transactions probably tripped a wire where there was none before.\\nContrary to what many people think, credit card companies pass nearly all fraud costs via purchased goods onto the merchant who sells them. As a result, they stand a very high chance of getting the money from a fraudulent purchase of a specific purchased item back, as they just chargeback the merchant who has to stomach the cost. This is not the case for cash transactions obviously, where as soon as the money leaves the ATM fraudulently it is as good as gone. As a result, the risk profile of the two types of transaction is wildly different, and the credit limits of each reflect this.', 'response': '<s>', 'ground_truth': \"One bank is more willing to risk losses and customer hassle in exchange for lower processing costs than the other bank is. It's strictly a business decision. Regarding how they detect suspicious transactions: Patten detection based on your past usage history. I've gotten calls asking me to confirm that I just placed a large order with a company I'd never bought from before, or in a country that I haven't previously visited, or...\"}, {'question': \"What is the 'real' monthly cost of a car?\", 'context': \"How can I find out what these 'additional' costs will be when looking to buy a car? If you know what model you're interested in buying you can try out Edmund's True Cost To Own calculator. This will estimate the depreciation, taxes and fees, financing costs, fuel costs, insurance premiums, maintenance, repairs, and any tax credits for owning a certain model for various periods of time. You can improve the accuracy be substituting your own calculations, like if you already have an insurance quote. Consumer Reports has a useful chart to demonstrate how much each of those additional costs will add up, percentage-wise. They also list the most and least expensive cars to own.\\nThe .9% looks great, but it's not as relevant as the cost of the car itself. There are those who believe that one should never own a new car, that the first X years/miles of a car's life are the most expensive.  The real question is how your budget is allocated. Is the car payment a small sliver or a large slice? How big is the housing wedge?\\nI've read online that 20% is a reasonable amount to pay for a car each month - Don't believe everything you read on the internet.  But, let me ask, does your current car have zero expense? No fuel, no oil change, no repairs, no insurance? If the 20% is true, you are already spending a good chunk of it each month. My car just celebrated her 8th birthday. And at 125,000 miles, needed $3000 worth of maintenance repairs.  The issue isn't with buying the expensive car, you can buy whatever you can afford, that's a personal preference. It's how you propose to budget for it that seems to be bad math. Other members here have already pointed out that this financial decision might not be so wise.\", 'response': '<s>', 'ground_truth': \"How can I find out what these 'additional' costs will be when looking to buy a car? If you know what model you're interested in buying you can try out Edmund's True Cost To Own calculator. This will estimate the depreciation, taxes and fees, financing costs, fuel costs, insurance premiums, maintenance, repairs, and any tax credits for owning a certain model for various periods of time. You can improve the accuracy be substituting your own calculations, like if you already have an insurance quote. Consumer Reports has a useful chart to demonstrate how much each of those additional costs will add up, percentage-wise. They also list the most and least expensive cars to own.\"}, {'question': 'Why was S&P 500 PE Ratio so high on May 2009', 'context': '\"Asking why the p/e was so high is best answered \"\"because reported earnings were so low\"\". Recall that the S&P500 bottomed in early March 2009 when the panic of the financial crisis reached exhaustion.  As noted on the page you have linked, the reported p/e ratios are computed using reported earnings from the trailing twelve months.  During those twelve months the banks were writing down all of the bad debt associated with the mortgage backed securities that has lost so much value.  This meant that the banks were reporting negative earnings.  Since the financial sector is a large part of the S&P500, this alone had an enormous effect on the index p/e.  However, the problem was compounded by a general collapse in earnings across the economy as consumers reacted to the resulting uncertainty.  The same site reports earnings for the previous years at $17.11 for the S&P500, compared to $76.17 for the year prior to 2008.  That is a collapse of about 78% in earnings.  Although the S&P500 has suffered badly during this time, stock market investors being forward looking were starting to price in improved earnings by May 2009.  Indeed, the S&P500 was up about 33% in just two months, from its low in March2009 to mid May2009.  Thus, by May of 2009 prices were not suffering to the same extent as reported trailing earnings.  This would account for the anomalous p/e value reporting in May2009.\"\\nThe article is talking about relative cost. You could use the cash Schiller P/E ratio as a proxy. That\\'s unit of price per unit of earning. The answer to your question is one time in history, during the 2000 dot com bubble. It\\'s higher than 2008 before the downturn. You are paying more for the same earnings. That has nothing to do with the size of the economy and everything to do with interest rates being too low for too long\\nCurrent S&amp;P 500 Shiller PE is higher than it was on Black Tuesday in 1929, Black Monday in 1987, and 2008 before the market went off the cliff.  I\\'m a firm believer in what comes up having to go down eventually, I just can\\'t put my finger on how soon it\\'ll be or the magnitude.  I don\\'t think we\\'ll see a dot com blowup, since this current bull market isn\\'t based on fiction, but there will be a drawdown as the Fed unwinds their balance sheet and interest rates return back to normal.  The only question is how much further it\\'ll fall at that point.', 'response': '<s>', 'ground_truth': '\"Asking why the p/e was so high is best answered \"\"because reported earnings were so low\"\". Recall that the S&P500 bottomed in early March 2009 when the panic of the financial crisis reached exhaustion.  As noted on the page you have linked, the reported p/e ratios are computed using reported earnings from the trailing twelve months.  During those twelve months the banks were writing down all of the bad debt associated with the mortgage backed securities that has lost so much value.  This meant that the banks were reporting negative earnings.  Since the financial sector is a large part of the S&P500, this alone had an enormous effect on the index p/e.  However, the problem was compounded by a general collapse in earnings across the economy as consumers reacted to the resulting uncertainty.  The same site reports earnings for the previous years at $17.11 for the S&P500, compared to $76.17 for the year prior to 2008.  That is a collapse of about 78% in earnings.  Although the S&P500 has suffered badly during this time, stock market investors being forward looking were starting to price in improved earnings by May 2009.  Indeed, the S&P500 was up about 33% in just two months, from its low in March2009 to mid May2009.  Thus, by May of 2009 prices were not suffering to the same extent as reported trailing earnings.  This would account for the anomalous p/e value reporting in May2009.\"'}]\n"
          ]
        }
      ],
      "source": [
        "from uptrain import EvalLLM, Evals, APIClient , Settings\n",
        "import json\n",
        "\n",
        "data = results + results_large\n",
        "\n",
        "print(data)\n",
        "\n"
      ]
    },
    {
      "cell_type": "markdown",
      "source": [],
      "metadata": {
        "id": "bBbgiT1-hCWQ"
      },
      "id": "bBbgiT1-hCWQ"
    },
    {
      "cell_type": "code",
      "source": [
        "UPTRAIN_API_KEY = \"up-*******************************\"  # Insert your UpTrain API key here\n",
        "\n",
        "uptrain_client = APIClient(\n",
        "    Settings(\n",
        "        uptrain_access_token=UPTRAIN_API_KEY, response_format={\"type\": \"json_object\"}\n",
        "    )\n",
        ")\n",
        "\n",
        "res = uptrain_client.log_and_evaluate(\n",
        "    \"LLM compression\", data, [Evals.FACTUAL_ACCURACY,Evals.RESPONSE_COMPLETENESS_WRT_CONTEXT ]\n",
        ")\n",
        "\n",
        "print(json.dumps(res, indent=3))"
      ],
      "metadata": {
        "colab": {
          "base_uri": "https://localhost:8080/"
        },
        "id": "ppPBOjFYKjiM",
        "outputId": "bcd459bb-485d-41c0-b40b-811aee6a3d11"
      },
      "id": "ppPBOjFYKjiM",
      "execution_count": 29,
      "outputs": [
        {
          "output_type": "stream",
          "name": "stdout",
          "text": [
            "[\n",
            "   {\n",
            "      \"question\": \"How does a stock operate when it is listed between two exchanges?\",\n",
            "      \"context\": \"Say a stock is listed in Nasdaq, and the same company has a stock listed in Tsx. Does the Nasdaq price affect the Tsx price as trading commences? Not directly. Basically, an exchange is a market, and the price is defined only by supply and demand in that market. However, any substantial price differential for a commodity traded in multiple market creates an arbitrage opportunity, and there are many traders whose job it is exactly to find and use such opportunities. Their activity in turn has the effect of reducing the price differentials to the point where transaction costs make them unprofitable. With high-frequency traders around, the time for a price differential to disappear is nowadays measured in milliseconds. If a trader buys from one exchange, will it affect the price of the other? Only through the mechanism mentioned above.  Are there any benefits to being listed in two exchanges? It increases the liquidity of a stock.\\n\\\"listed simultaneously in New York, London, and maybe even some Asian markets - is this correct? If the exchanges are not connected, then in primary market the shares are listed. On other exchanges, the \\\"\\\"Depository Receipts\\\"\\\" are listed. i.e. the Company will keep say 100,000 shares with the primary stock exchange / depository. Based on this it would create new instruments \\\"\\\"Depository Receipts\\\"\\\". They can be 1:1 or whatever ratio. hypothetically, if I want to buy all of the company's stock Even if it is on one exchange, buying all stocks would trigger various regulatory aspects of Companies Act, or Stock Exchange rules. This is not simple or easy like clicking some buttons and buying everything. That is, let's say that in New York the company has listed 1000 shares, and in London only 10 shares, each worth 10 USD Market capitalization is sum of all outstanding shares into value.\\\"\\nI don't quite understand the NYSE argument that the credit system helps NASDAQ undercut NYSE on pricing and force brokers to trade on NASDAQ. I thought if you were trading a stock listed on NASDAQ, you traded through them and if you were trading a stock listed on NYSE, you'd trade over there. The choice of exchange coming down to the stocks you want to trade more than anything. Are the exchanges also acting as endpoints on trades for securities listed on the other exchange?\",\n",
            "      \"response\": \"<s>\",\n",
            "      \"ground_truth\": \"Say a stock is listed in Nasdaq, and the same company has a stock listed in Tsx. Does the Nasdaq price affect the Tsx price as trading commences? Not directly. Basically, an exchange is a market, and the price is defined only by supply and demand in that market. However, any substantial price differential for a commodity traded in multiple market creates an arbitrage opportunity, and there are many traders whose job it is exactly to find and use such opportunities. Their activity in turn has the effect of reducing the price differentials to the point where transaction costs make them unprofitable. With high-frequency traders around, the time for a price differential to disappear is nowadays measured in milliseconds. If a trader buys from one exchange, will it affect the price of the other? Only through the mechanism mentioned above.  Are there any benefits to being listed in two exchanges? It increases the liquidity of a stock.\",\n",
            "      \"score_factual_accuracy\": 0.0,\n",
            "      \"explanation_factual_accuracy\": \"No facts could be extracted from response. Hence, assigning default score of 0\",\n",
            "      \"score_response_completeness_wrt_context\": 0.0,\n",
            "      \"explanation_response_completeness_wrt_context\": \"Key points in the context:\\n1. Stock listed in Nasdaq and Tsx\\n2. Price is defined by supply and demand in the market\\n3. Arbitrage opportunities exist for price differentials\\n4. High-frequency traders reduce price differentials\\n5. Listing in multiple exchanges increases liquidity\\n6. Depository Receipts are listed in other exchanges\\n7. Trading a stock listed on NASDAQ is done through them\\n8. Exchanges act as endpoints on trades for securities listed on the other exchange\\n\\nKey points in the response:\\n- No response provided\\n\\nReasoning:\\nThe context provides information about how a stock operates when listed between two exchanges, including the impact of price differentials, arbitrage opportunities, and the role of high-frequency traders. It also discusses the concept of Depository Receipts and the trading process for stocks listed on different exchanges. However, the response does not incorporate any of this relevant information from the context.\\n\\n[Choice]: (C) The generated response doesn't incorporate any information present in the context.\"\n",
            "   },\n",
            "   {\n",
            "      \"question\": \"How do credit card banks detect fraudulent transactions without requiring a travel advisory?\",\n",
            "      \"context\": \"\\\"Having worked in the financial industry, I can say 9:10 times a card is blocked, it is not actually the financial industry, but a credit/credit card monitoring service like \\\"\\\"Falcon\\\"\\\" for VISA. If you have not added travel notes or similar, they will decline large, our of country purchases as a way to protect you, from what is most likely fraud. Imagine if you were living in Sweden and making regular steady purchases, then all of a sudden, without warning your card was used in Spain. This would look suspicious on paper, even it was obvious to you.  This is less to do with your financial institution, and more to do with increased fraud prevention. Call your bank. They will help you.\\\"\\nBanks and credit unions are constantly required to improve their detection methods for suspicious transactions.  It's not just big transactions anymore, it's scattered little ones, etc. Our credit union had to buy software that runs through transactions sniffing for suspicious patterns.  More regulations and more costs that ultimately get passed on to customers in one way or another. Some of your transactions probably tripped a wire where there was none before.\\nContrary to what many people think, credit card companies pass nearly all fraud costs via purchased goods onto the merchant who sells them. As a result, they stand a very high chance of getting the money from a fraudulent purchase of a specific purchased item back, as they just chargeback the merchant who has to stomach the cost. This is not the case for cash transactions obviously, where as soon as the money leaves the ATM fraudulently it is as good as gone. As a result, the risk profile of the two types of transaction is wildly different, and the credit limits of each reflect this.\",\n",
            "      \"response\": \"<s>\",\n",
            "      \"ground_truth\": \"One bank is more willing to risk losses and customer hassle in exchange for lower processing costs than the other bank is. It's strictly a business decision. Regarding how they detect suspicious transactions: Patten detection based on your past usage history. I've gotten calls asking me to confirm that I just placed a large order with a company I'd never bought from before, or in a country that I haven't previously visited, or...\",\n",
            "      \"score_factual_accuracy\": 0.0,\n",
            "      \"explanation_factual_accuracy\": \"No facts could be extracted from response. Hence, assigning default score of 0\",\n",
            "      \"score_response_completeness_wrt_context\": 0.0,\n",
            "      \"explanation_response_completeness_wrt_context\": \"Key points present in the context relevant to the given question:\\n1. Credit/credit card monitoring services like \\\"Falcon\\\" for VISA decline large, out of country purchases if travel notes are not added, as a way to protect from fraud.\\n2. Financial institutions use software to detect suspicious patterns in transactions.\\n3. Credit card companies pass fraud costs onto the merchant who sells the purchased goods.\\n4. The risk profile of cash transactions and credit card transactions is different, and the credit limits reflect this.\\n\\nKey points present in the response relevant to the given question:\\n- The response does not provide any relevant information from the context.\\n\\nReasoning:\\nThe context provides information about how credit card banks detect fraudulent transactions without requiring a travel advisory, such as the use of monitoring services, software to detect suspicious patterns, and the passing of fraud costs onto merchants. However, the response does not incorporate any of this relevant information from the context.\\n\\n[Choice]: C. The generated response doesn't incorporate any information present in the context.\"\n",
            "   },\n",
            "   {\n",
            "      \"question\": \"What is the 'real' monthly cost of a car?\",\n",
            "      \"context\": \"How can I find out what these 'additional' costs will be when looking to buy a car? If you know what model you're interested in buying you can try out Edmund's True Cost To Own calculator. This will estimate the depreciation, taxes and fees, financing costs, fuel costs, insurance premiums, maintenance, repairs, and any tax credits for owning a certain model for various periods of time. You can improve the accuracy be substituting your own calculations, like if you already have an insurance quote. Consumer Reports has a useful chart to demonstrate how much each of those additional costs will add up, percentage-wise. They also list the most and least expensive cars to own.\\nThe .9% looks great, but it's not as relevant as the cost of the car itself. There are those who believe that one should never own a new car, that the first X years/miles of a car's life are the most expensive.  The real question is how your budget is allocated. Is the car payment a small sliver or a large slice? How big is the housing wedge?\\nI've read online that 20% is a reasonable amount to pay for a car each month - Don't believe everything you read on the internet.  But, let me ask, does your current car have zero expense? No fuel, no oil change, no repairs, no insurance? If the 20% is true, you are already spending a good chunk of it each month. My car just celebrated her 8th birthday. And at 125,000 miles, needed $3000 worth of maintenance repairs.  The issue isn't with buying the expensive car, you can buy whatever you can afford, that's a personal preference. It's how you propose to budget for it that seems to be bad math. Other members here have already pointed out that this financial decision might not be so wise.\",\n",
            "      \"response\": \"<s>\",\n",
            "      \"ground_truth\": \"How can I find out what these 'additional' costs will be when looking to buy a car? If you know what model you're interested in buying you can try out Edmund's True Cost To Own calculator. This will estimate the depreciation, taxes and fees, financing costs, fuel costs, insurance premiums, maintenance, repairs, and any tax credits for owning a certain model for various periods of time. You can improve the accuracy be substituting your own calculations, like if you already have an insurance quote. Consumer Reports has a useful chart to demonstrate how much each of those additional costs will add up, percentage-wise. They also list the most and least expensive cars to own.\",\n",
            "      \"score_factual_accuracy\": 0.0,\n",
            "      \"explanation_factual_accuracy\": \"No facts could be extracted from response. Hence, assigning default score of 0\",\n",
            "      \"score_response_completeness_wrt_context\": 0.0,\n",
            "      \"explanation_response_completeness_wrt_context\": \"Key points in the context relevant to the given question:\\n1. The context provides information on how to find out the additional costs of owning a car, including depreciation, taxes and fees, financing costs, fuel costs, insurance premiums, maintenance, repairs, and any tax credits.\\n2. It also mentions the importance of budget allocation and the percentage of income that should be spent on a car.\\n3. The context includes a caution about the financial decision of buying an expensive car and the potential expenses associated with owning a car.\\n\\nKey points in the response relevant to the given question:\\n1. The response is empty and does not provide any information related to the 'real' monthly cost of a car.\\n\\nReasoning:\\nThe context provides detailed information about the various costs associated with owning a car and the importance of budget allocation, which are directly related to the 'real' monthly cost of a car. However, the response does not incorporate any of this relevant information and does not address the question at all.\\n\\n[Choice]: (C) The generated response doesn't incorporate any information present in the context.\"\n",
            "   },\n",
            "   {\n",
            "      \"question\": \"Why was S&P 500 PE Ratio so high on May 2009\",\n",
            "      \"context\": \"\\\"Asking why the p/e was so high is best answered \\\"\\\"because reported earnings were so low\\\"\\\". Recall that the S&P500 bottomed in early March 2009 when the panic of the financial crisis reached exhaustion.  As noted on the page you have linked, the reported p/e ratios are computed using reported earnings from the trailing twelve months.  During those twelve months the banks were writing down all of the bad debt associated with the mortgage backed securities that has lost so much value.  This meant that the banks were reporting negative earnings.  Since the financial sector is a large part of the S&P500, this alone had an enormous effect on the index p/e.  However, the problem was compounded by a general collapse in earnings across the economy as consumers reacted to the resulting uncertainty.  The same site reports earnings for the previous years at $17.11 for the S&P500, compared to $76.17 for the year prior to 2008.  That is a collapse of about 78% in earnings.  Although the S&P500 has suffered badly during this time, stock market investors being forward looking were starting to price in improved earnings by May 2009.  Indeed, the S&P500 was up about 33% in just two months, from its low in March2009 to mid May2009.  Thus, by May of 2009 prices were not suffering to the same extent as reported trailing earnings.  This would account for the anomalous p/e value reporting in May2009.\\\"\\nThe article is talking about relative cost. You could use the cash Schiller P/E ratio as a proxy. That's unit of price per unit of earning. The answer to your question is one time in history, during the 2000 dot com bubble. It's higher than 2008 before the downturn. You are paying more for the same earnings. That has nothing to do with the size of the economy and everything to do with interest rates being too low for too long\\nCurrent S&amp;P 500 Shiller PE is higher than it was on Black Tuesday in 1929, Black Monday in 1987, and 2008 before the market went off the cliff.  I'm a firm believer in what comes up having to go down eventually, I just can't put my finger on how soon it'll be or the magnitude.  I don't think we'll see a dot com blowup, since this current bull market isn't based on fiction, but there will be a drawdown as the Fed unwinds their balance sheet and interest rates return back to normal.  The only question is how much further it'll fall at that point.\",\n",
            "      \"response\": \"<s>\",\n",
            "      \"ground_truth\": \"\\\"Asking why the p/e was so high is best answered \\\"\\\"because reported earnings were so low\\\"\\\". Recall that the S&P500 bottomed in early March 2009 when the panic of the financial crisis reached exhaustion.  As noted on the page you have linked, the reported p/e ratios are computed using reported earnings from the trailing twelve months.  During those twelve months the banks were writing down all of the bad debt associated with the mortgage backed securities that has lost so much value.  This meant that the banks were reporting negative earnings.  Since the financial sector is a large part of the S&P500, this alone had an enormous effect on the index p/e.  However, the problem was compounded by a general collapse in earnings across the economy as consumers reacted to the resulting uncertainty.  The same site reports earnings for the previous years at $17.11 for the S&P500, compared to $76.17 for the year prior to 2008.  That is a collapse of about 78% in earnings.  Although the S&P500 has suffered badly during this time, stock market investors being forward looking were starting to price in improved earnings by May 2009.  Indeed, the S&P500 was up about 33% in just two months, from its low in March2009 to mid May2009.  Thus, by May of 2009 prices were not suffering to the same extent as reported trailing earnings.  This would account for the anomalous p/e value reporting in May2009.\\\"\",\n",
            "      \"score_factual_accuracy\": 0.0,\n",
            "      \"explanation_factual_accuracy\": \"No facts could be extracted from response. Hence, assigning default score of 0\",\n",
            "      \"score_response_completeness_wrt_context\": 0.0,\n",
            "      \"explanation_response_completeness_wrt_context\": \"Key points present in the context relevant to the given question:\\n1. The S&P 500 PE ratio was high in May 2009 due to reported earnings being low.\\n2. The reported earnings were low because of the financial crisis, bad debt associated with mortgage-backed securities, and a collapse in earnings across the economy.\\n3. Stock market investors were starting to price in improved earnings by May 2009, leading to higher prices.\\n\\nKey points present in the response relevant to the given question:\\n1. The response is empty and does not provide any information related to the S&P 500 PE ratio in May 2009.\\n\\nReasoning:\\nThe context provides detailed information about why the S&P 500 PE ratio was high in May 2009, including the impact of the financial crisis, bad debt, and a collapse in earnings. However, the response does not incorporate any of this relevant information and does not address the question at all.\\n\\n[Choice]: (C) The generated response doesn't incorporate any information present in the context.\"\n",
            "   },\n",
            "   {\n",
            "      \"question\": \"How does a stock operate when it is listed between two exchanges?\",\n",
            "      \"context\": \"Say a stock is listed in Nasdaq, and the same company has a stock listed in Tsx. Does the Nasdaq price affect the Tsx price as trading commences? Not directly. Basically, an exchange is a market, and the price is defined only by supply and demand in that market. However, any substantial price differential for a commodity traded in multiple market creates an arbitrage opportunity, and there are many traders whose job it is exactly to find and use such opportunities. Their activity in turn has the effect of reducing the price differentials to the point where transaction costs make them unprofitable. With high-frequency traders around, the time for a price differential to disappear is nowadays measured in milliseconds. If a trader buys from one exchange, will it affect the price of the other? Only through the mechanism mentioned above.  Are there any benefits to being listed in two exchanges? It increases the liquidity of a stock.\\n\\\"listed simultaneously in New York, London, and maybe even some Asian markets - is this correct? If the exchanges are not connected, then in primary market the shares are listed. On other exchanges, the \\\"\\\"Depository Receipts\\\"\\\" are listed. i.e. the Company will keep say 100,000 shares with the primary stock exchange / depository. Based on this it would create new instruments \\\"\\\"Depository Receipts\\\"\\\". They can be 1:1 or whatever ratio. hypothetically, if I want to buy all of the company's stock Even if it is on one exchange, buying all stocks would trigger various regulatory aspects of Companies Act, or Stock Exchange rules. This is not simple or easy like clicking some buttons and buying everything. That is, let's say that in New York the company has listed 1000 shares, and in London only 10 shares, each worth 10 USD Market capitalization is sum of all outstanding shares into value.\\\"\\nI don't quite understand the NYSE argument that the credit system helps NASDAQ undercut NYSE on pricing and force brokers to trade on NASDAQ. I thought if you were trading a stock listed on NASDAQ, you traded through them and if you were trading a stock listed on NYSE, you'd trade over there. The choice of exchange coming down to the stocks you want to trade more than anything. Are the exchanges also acting as endpoints on trades for securities listed on the other exchange?\",\n",
            "      \"response\": \"<s>\",\n",
            "      \"ground_truth\": \"Say a stock is listed in Nasdaq, and the same company has a stock listed in Tsx. Does the Nasdaq price affect the Tsx price as trading commences? Not directly. Basically, an exchange is a market, and the price is defined only by supply and demand in that market. However, any substantial price differential for a commodity traded in multiple market creates an arbitrage opportunity, and there are many traders whose job it is exactly to find and use such opportunities. Their activity in turn has the effect of reducing the price differentials to the point where transaction costs make them unprofitable. With high-frequency traders around, the time for a price differential to disappear is nowadays measured in milliseconds. If a trader buys from one exchange, will it affect the price of the other? Only through the mechanism mentioned above.  Are there any benefits to being listed in two exchanges? It increases the liquidity of a stock.\",\n",
            "      \"score_factual_accuracy\": 0.0,\n",
            "      \"explanation_factual_accuracy\": \"No facts could be extracted from response. Hence, assigning default score of 0\",\n",
            "      \"score_response_completeness_wrt_context\": 0.0,\n",
            "      \"explanation_response_completeness_wrt_context\": \"Key points in the context:\\n1. Stock listed in Nasdaq and Tsx\\n2. Price is defined by supply and demand in the market\\n3. Arbitrage opportunities exist for stocks listed in multiple markets\\n4. High-frequency traders reduce price differentials\\n5. Listing in multiple exchanges increases stock liquidity\\n6. Depository Receipts are listed on other exchanges\\n7. Trading a stock listed on NASDAQ is done through them\\n8. Exchanges act as endpoints on trades for securities listed on the other exchange\\n\\nKey points in the response:\\n- No response provided\\n\\nReasoning:\\nThe response does not provide any information relevant to the given question about how a stock operates when it is listed between two exchanges. It does not incorporate any information present in the context.\\n\\n[Choice]: C. The generated response doesn't incorporate any information present in the context.\"\n",
            "   },\n",
            "   {\n",
            "      \"question\": \"How do credit card banks detect fraudulent transactions without requiring a travel advisory?\",\n",
            "      \"context\": \"\\\"Having worked in the financial industry, I can say 9:10 times a card is blocked, it is not actually the financial industry, but a credit/credit card monitoring service like \\\"\\\"Falcon\\\"\\\" for VISA. If you have not added travel notes or similar, they will decline large, our of country purchases as a way to protect you, from what is most likely fraud. Imagine if you were living in Sweden and making regular steady purchases, then all of a sudden, without warning your card was used in Spain. This would look suspicious on paper, even it was obvious to you.  This is less to do with your financial institution, and more to do with increased fraud prevention. Call your bank. They will help you.\\\"\\nBanks and credit unions are constantly required to improve their detection methods for suspicious transactions.  It's not just big transactions anymore, it's scattered little ones, etc. Our credit union had to buy software that runs through transactions sniffing for suspicious patterns.  More regulations and more costs that ultimately get passed on to customers in one way or another. Some of your transactions probably tripped a wire where there was none before.\\nContrary to what many people think, credit card companies pass nearly all fraud costs via purchased goods onto the merchant who sells them. As a result, they stand a very high chance of getting the money from a fraudulent purchase of a specific purchased item back, as they just chargeback the merchant who has to stomach the cost. This is not the case for cash transactions obviously, where as soon as the money leaves the ATM fraudulently it is as good as gone. As a result, the risk profile of the two types of transaction is wildly different, and the credit limits of each reflect this.\",\n",
            "      \"response\": \"<s>\",\n",
            "      \"ground_truth\": \"One bank is more willing to risk losses and customer hassle in exchange for lower processing costs than the other bank is. It's strictly a business decision. Regarding how they detect suspicious transactions: Patten detection based on your past usage history. I've gotten calls asking me to confirm that I just placed a large order with a company I'd never bought from before, or in a country that I haven't previously visited, or...\",\n",
            "      \"score_factual_accuracy\": 0.0,\n",
            "      \"explanation_factual_accuracy\": \"No facts could be extracted from response. Hence, assigning default score of 0\",\n",
            "      \"score_response_completeness_wrt_context\": 0.0,\n",
            "      \"explanation_response_completeness_wrt_context\": \"Key points present in the context relevant to the given question:\\n1. Credit/credit card monitoring services like \\\"Falcon\\\" for VISA decline large, out of country purchases if travel notes are not added to protect from fraud.\\n2. Financial institutions use software to detect suspicious patterns in transactions.\\n3. Credit card companies pass fraud costs onto the merchant who sells the purchased goods.\\n4. The risk profile of cash transactions and credit transactions is different, and credit limits reflect this.\\n\\nKey points present in the response relevant to the given question:\\n- The response does not provide any relevant information from the context.\\n\\nReasoning:\\nThe context provides information about how credit card banks detect fraudulent transactions, including the use of monitoring services, software to detect suspicious patterns, and the passing of fraud costs onto merchants. The response, however, does not incorporate any of this relevant information from the context.\\n\\n[Choice]: C. The generated response doesn't incorporate any information present in the context.\"\n",
            "   },\n",
            "   {\n",
            "      \"question\": \"What is the 'real' monthly cost of a car?\",\n",
            "      \"context\": \"How can I find out what these 'additional' costs will be when looking to buy a car? If you know what model you're interested in buying you can try out Edmund's True Cost To Own calculator. This will estimate the depreciation, taxes and fees, financing costs, fuel costs, insurance premiums, maintenance, repairs, and any tax credits for owning a certain model for various periods of time. You can improve the accuracy be substituting your own calculations, like if you already have an insurance quote. Consumer Reports has a useful chart to demonstrate how much each of those additional costs will add up, percentage-wise. They also list the most and least expensive cars to own.\\nThe .9% looks great, but it's not as relevant as the cost of the car itself. There are those who believe that one should never own a new car, that the first X years/miles of a car's life are the most expensive.  The real question is how your budget is allocated. Is the car payment a small sliver or a large slice? How big is the housing wedge?\\nI've read online that 20% is a reasonable amount to pay for a car each month - Don't believe everything you read on the internet.  But, let me ask, does your current car have zero expense? No fuel, no oil change, no repairs, no insurance? If the 20% is true, you are already spending a good chunk of it each month. My car just celebrated her 8th birthday. And at 125,000 miles, needed $3000 worth of maintenance repairs.  The issue isn't with buying the expensive car, you can buy whatever you can afford, that's a personal preference. It's how you propose to budget for it that seems to be bad math. Other members here have already pointed out that this financial decision might not be so wise.\",\n",
            "      \"response\": \"<s>\",\n",
            "      \"ground_truth\": \"How can I find out what these 'additional' costs will be when looking to buy a car? If you know what model you're interested in buying you can try out Edmund's True Cost To Own calculator. This will estimate the depreciation, taxes and fees, financing costs, fuel costs, insurance premiums, maintenance, repairs, and any tax credits for owning a certain model for various periods of time. You can improve the accuracy be substituting your own calculations, like if you already have an insurance quote. Consumer Reports has a useful chart to demonstrate how much each of those additional costs will add up, percentage-wise. They also list the most and least expensive cars to own.\",\n",
            "      \"score_factual_accuracy\": 0.0,\n",
            "      \"explanation_factual_accuracy\": \"No facts could be extracted from response. Hence, assigning default score of 0\",\n",
            "      \"score_response_completeness_wrt_context\": 0.0,\n",
            "      \"explanation_response_completeness_wrt_context\": \"Key points in the context relevant to the given question:\\n1. The context discusses the additional costs associated with buying a car, such as depreciation, taxes and fees, financing costs, fuel costs, insurance premiums, maintenance, and repairs.\\n2. It also mentions the importance of budget allocation for car payments and the potential expenses of owning a car.\\n\\nKey points in the response relevant to the given question:\\n1. The response is empty and does not provide any information related to the 'real' monthly cost of a car.\\n\\nReasoning:\\nThe context provides detailed information about the various additional costs associated with owning a car and the importance of budget allocation for car payments. The question specifically asks about the 'real' monthly cost of a car, which is directly addressed in the context. However, the response does not incorporate any of this relevant information and does not provide a meaningful answer to the question.\\n\\n[Choice]: (C) The generated response doesn't incorporate any information present in the context.\"\n",
            "   },\n",
            "   {\n",
            "      \"question\": \"Why was S&P 500 PE Ratio so high on May 2009\",\n",
            "      \"context\": \"\\\"Asking why the p/e was so high is best answered \\\"\\\"because reported earnings were so low\\\"\\\". Recall that the S&P500 bottomed in early March 2009 when the panic of the financial crisis reached exhaustion.  As noted on the page you have linked, the reported p/e ratios are computed using reported earnings from the trailing twelve months.  During those twelve months the banks were writing down all of the bad debt associated with the mortgage backed securities that has lost so much value.  This meant that the banks were reporting negative earnings.  Since the financial sector is a large part of the S&P500, this alone had an enormous effect on the index p/e.  However, the problem was compounded by a general collapse in earnings across the economy as consumers reacted to the resulting uncertainty.  The same site reports earnings for the previous years at $17.11 for the S&P500, compared to $76.17 for the year prior to 2008.  That is a collapse of about 78% in earnings.  Although the S&P500 has suffered badly during this time, stock market investors being forward looking were starting to price in improved earnings by May 2009.  Indeed, the S&P500 was up about 33% in just two months, from its low in March2009 to mid May2009.  Thus, by May of 2009 prices were not suffering to the same extent as reported trailing earnings.  This would account for the anomalous p/e value reporting in May2009.\\\"\\nThe article is talking about relative cost. You could use the cash Schiller P/E ratio as a proxy. That's unit of price per unit of earning. The answer to your question is one time in history, during the 2000 dot com bubble. It's higher than 2008 before the downturn. You are paying more for the same earnings. That has nothing to do with the size of the economy and everything to do with interest rates being too low for too long\\nCurrent S&amp;P 500 Shiller PE is higher than it was on Black Tuesday in 1929, Black Monday in 1987, and 2008 before the market went off the cliff.  I'm a firm believer in what comes up having to go down eventually, I just can't put my finger on how soon it'll be or the magnitude.  I don't think we'll see a dot com blowup, since this current bull market isn't based on fiction, but there will be a drawdown as the Fed unwinds their balance sheet and interest rates return back to normal.  The only question is how much further it'll fall at that point.\",\n",
            "      \"response\": \"<s>\",\n",
            "      \"ground_truth\": \"\\\"Asking why the p/e was so high is best answered \\\"\\\"because reported earnings were so low\\\"\\\". Recall that the S&P500 bottomed in early March 2009 when the panic of the financial crisis reached exhaustion.  As noted on the page you have linked, the reported p/e ratios are computed using reported earnings from the trailing twelve months.  During those twelve months the banks were writing down all of the bad debt associated with the mortgage backed securities that has lost so much value.  This meant that the banks were reporting negative earnings.  Since the financial sector is a large part of the S&P500, this alone had an enormous effect on the index p/e.  However, the problem was compounded by a general collapse in earnings across the economy as consumers reacted to the resulting uncertainty.  The same site reports earnings for the previous years at $17.11 for the S&P500, compared to $76.17 for the year prior to 2008.  That is a collapse of about 78% in earnings.  Although the S&P500 has suffered badly during this time, stock market investors being forward looking were starting to price in improved earnings by May 2009.  Indeed, the S&P500 was up about 33% in just two months, from its low in March2009 to mid May2009.  Thus, by May of 2009 prices were not suffering to the same extent as reported trailing earnings.  This would account for the anomalous p/e value reporting in May2009.\\\"\",\n",
            "      \"score_factual_accuracy\": 0.0,\n",
            "      \"explanation_factual_accuracy\": \"No facts could be extracted from response. Hence, assigning default score of 0\",\n",
            "      \"score_response_completeness_wrt_context\": 0.0,\n",
            "      \"explanation_response_completeness_wrt_context\": \"Key points in the context relevant to the given question:\\n1. The S&P 500 PE ratio was high in May 2009 because reported earnings were low due to the financial crisis and collapse in earnings across the economy.\\n2. The reported p/e ratios are computed using reported earnings from the trailing twelve months.\\n3. The collapse in earnings was about 78% in May 2009 compared to the year prior to 2008.\\n4. Stock market investors were starting to price in improved earnings by May 2009.\\n\\nKey points in the response relevant to the given question:\\n1. The response is empty and does not provide any information related to the S&P 500 PE ratio in May 2009.\\n\\nReasoning:\\nThe context provides detailed information about why the S&P 500 PE ratio was high in May 2009, including the impact of the financial crisis on reported earnings and the collapse in earnings across the economy. The response, however, does not incorporate any of this relevant information and does not address the question at all.\\n\\n[Choice]: (C) The generated response doesn't incorporate any information present in the context.\"\n",
            "   }\n",
            "]\n"
          ]
        }
      ]
    },
    {
      "cell_type": "markdown",
      "id": "0275113f-c738-4cdc-b900-83b3f24df187",
      "metadata": {
        "id": "0275113f-c738-4cdc-b900-83b3f24df187"
      },
      "source": [
        "**Access UpTrain Dashboards**: We can access the evaluation results at https://demo.uptrain.ai/dashboard/ - the same API key can be used to access the dashboards.\n",
        "\n"
      ]
    }
  ],
  "metadata": {
    "kernelspec": {
      "display_name": "Python 3 (ipykernel)",
      "language": "python",
      "name": "python3"
    },
    "language_info": {
      "codemirror_mode": {
        "name": "ipython",
        "version": 3
      },
      "file_extension": ".py",
      "mimetype": "text/x-python",
      "name": "python",
      "nbconvert_exporter": "python",
      "pygments_lexer": "ipython3",
      "version": "3.11.4"
    },
    "colab": {
      "provenance": []
    }
  },
  "nbformat": 4,
  "nbformat_minor": 5
}