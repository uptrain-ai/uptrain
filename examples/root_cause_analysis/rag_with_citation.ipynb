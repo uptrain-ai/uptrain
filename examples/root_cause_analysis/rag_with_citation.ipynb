{
 "cells": [
  {
   "cell_type": "markdown",
   "metadata": {},
   "source": [
    "<a href=\"https://colab.research.google.com/github/uptrain-ai/uptrain/blob/main/examples/root_cause_analysis/rag_with_citation.ipynb\" target=\"_parent\"><img src=\"https://colab.research.google.com/assets/colab-badge.svg\" alt=\"Open In Colab\"/></a>"
   ]
  },
  {
   "cell_type": "markdown",
   "metadata": {},
   "source": [
    "<h1 align=\"center\">\n",
    "  <a href=\"https://uptrain.ai\">\n",
    "    <img width=\"300\" src=\"https://user-images.githubusercontent.com/108270398/214240695-4f958b76-c993-4ddd-8de6-8668f4d0da84.png\" alt=\"uptrain\">\n",
    "  </a>\n",
    "</h1>"
   ]
  },
  {
   "cell_type": "markdown",
   "metadata": {},
   "source": [
    "<h1 style=\"text-align: center;\">Root Cause Analysis</h1>"
   ]
  },
  {
   "cell_type": "markdown",
   "metadata": {},
   "source": [
    "<h2 style=\"text-align: center;\">Failure Cases in a RAG Pipeline</h2>"
   ]
  },
  {
   "cell_type": "markdown",
   "metadata": {},
   "source": [
    "By the end of this tutorial, you will be able to:\n",
    "- Understand different failure modes of an RAG pipeline\n",
    "- Learn how to use UpTrain to perform Root Cause Analysis and assign error mode for each of the failure cases.\n",
    "- Get actionable insights to resolve those failures and improve your RAG pipeline\n",
    "\n",
    "Let's start by understanding what RAG is and how this tutorial will help you.\n",
    "\n",
    "## What is RAG?\n",
    "\n",
    "RAG is the process of utilising external knowledge in your LLM-based application. \n",
    "\n",
    "**For example:** Imagine an LLM-powered chatbot that answers users' queries by leveraging a set of FAQs and knowledge documents outlining the company's customer support policies.\n",
    "\n",
    "The LLM consumes the user query along with relevant information (context retrieved by vector database) and produces a response to solve the user query along with citations of the different sources which were actually utilized by the LLM for generating the response."
   ]
  },
  {
   "cell_type": "markdown",
   "metadata": {},
   "source": [
    "## How will this tutorial help?\n",
    "\n",
    "So you have built an RAG application. The next step is to test it, find failure cases, and fix them. However, debugging these failure cases is not straightforward. There could be multiple reasons for failure—maybe the retrieval failed, the LLM is not able to utilize the retrieved context to generate a good response, it hallucinated, or even the user query itself was not clear.\n",
    "\n",
    "To aide with this, UpTrain provides root cause analysis tools to figure out what exactly is going wrong with each failure case. RAG_WITH_CITATION is one such RCA template that helps in debugging RAG applications that output cited responses.\n",
    "\n",
    "|Failure Case|Explanation|Example|\n",
    "|--|--|--|\n",
    "|**Poor Context Utilization**|The LLM is not able to utilize all the information present in the context|The user asks \"Do you offer same-day delivery?\" The LLM replies, \"I am not sure\", even if the retrieved context has information that same-day delivery is not possible|\n",
    "|**Poor Retrieval**|The context given to an LLM does not have information relevant to the question|The user asks \"Do you deliver to Bangalore?\" but the context does not have any information to deliveries in Bangalore|\n",
    "|**Hallucinations**|The generated response is not supported by information present in the context|The LLM generates a response \"We deliver to Bangalore\" when the information present in the context is: \"We are going to start delivers in Bangalore soon\" |\n",
    "|**Incorrect Citation**|While the response is correct, it's not correctly cited, eroding users' trust|The LLM cites \"We deliver to Delhi\" from the context for a response saying \"We deliver to Bangalore\"|\n",
    "|**Incomplete Question**|The user's question itself is unclear or does not make sense|The user asks something like: \"delivery?\", \"What location?\", \"ajdjwsp\"|"
   ]
  },
  {
   "cell_type": "markdown",
   "metadata": {},
   "source": [
    "## How does it Work?\n",
    "Let's jump to the code"
   ]
  },
  {
   "cell_type": "markdown",
   "metadata": {},
   "source": [
    "### Step 1: Install UpTrain\n",
    "You can use UpTrain's open source offering to find failure cases in your RAG pipeline.\n",
    "\n",
    "Also, everything works locally on your system, which helps you maintain confidentiality of your data."
   ]
  },
  {
   "cell_type": "code",
   "execution_count": 1,
   "metadata": {},
   "outputs": [],
   "source": [
    "%pip install uptrain"
   ]
  },
  {
   "cell_type": "markdown",
   "metadata": {},
   "source": [
    "### Step 2: Let's define a sample dataset to run evaluations"
   ]
  },
  {
   "cell_type": "markdown",
   "metadata": {},
   "source": [
    "UpTrain uses these 4 parameters to perform RCA on your RAG pipeline:\n",
    "\n",
    "|Parameter|Explanation|\n",
    "|--|--|\n",
    "|question|This is the query asked by your user.|\n",
    "|context|This is the context that you pass to an LLM (retrieved-context)|\n",
    "|response|The response generated by the LLM|\n",
    "|cited_context|The relevant portion of the retrieved context that the LLM cites along with the response.|"
   ]
  },
  {
   "cell_type": "code",
   "execution_count": 5,
   "metadata": {},
   "outputs": [],
   "source": [
    "data = [\n",
    "    {\n",
    "        \"question\": \"Can FedL deliver electronic devices?\",\n",
    "        \"context\": \"FedL was established in 2020. Using FedL you can send deliveries to over 1000+ cities in India including major cities like Bangalore, Mumbai and Delhi. Recently we crossed a milestone by completing 1 million deliveries. Using FedL you can deliver any goods under 10kg(not more than that) to anyone whether it be your friends or family. P.S.: We can't deliver electronic devices. You can also use FedL to deliver a car.\",\n",
    "        \"response\": \"FedL offers deliveries to over 1000+ cities.\",\n",
    "        \"cited_context\": \"Using FedL you can send deliveries to over 1000+ cities in India including major cities like Bangalore, Mumbai and Delhi.\",        \n",
    "    },\n",
    "    {\n",
    "        \"question\": \"Can I send a delivery to my friend living in the USA?\",\n",
    "        \"context\": \"FedL was established in 2020. Using FedL you can send deliveries to over 1000+ cities in India including major cities like Bangalore, Mumbai and Delhi. Recently we crossed a milestone by completing 1 million deliveries. Using FedL you can deliver any goods under 10kg(not more than that) to anyone whether it be your friends or family. P.S.: We can't deliver electronic devices. You can also use FedL to deliver a car.\",\n",
    "        \"response\": \"No, FedL does not operate outside of India.\",\n",
    "        \"cited_context\": \"Using FedL you can send deliveries to over 1000+ cities in India\",        \n",
    "    },\n",
    "    {\n",
    "        \"question\": \"Can I send a car through FedL?\",\n",
    "        \"context\": \"FedL was established in 2020. Using FedL you can send deliveries to over 1000+ cities in India including major cities like Bangalore, Mumbai and Delhi. Recently we crossed a milestone by completing 1 million deliveries. Using FedL you can deliver any goods under 10kg(not more than that) to anyone whether it be your friends or family. P.S.: We can't deliver electronic devices. You can also use FedL to deliver a car.\",\n",
    "        \"response\": \"No, you can't use FedL to send a car.\",\n",
    "        \"cited_context\": \"Using FedL you can deliver any goods under 10kg(not more than that) to anyone whether it be your friends or family.\",        \n",
    "    },\n",
    "    {\n",
    "        \"question\": \"Can I use FedL to send my car which weighs 1000kg?\",\n",
    "        \"context\": \"FedL was established in 2020. Using FedL you can send deliveries to over 1000+ cities in India including major cities like Bangalore, Mumbai and Delhi. Recently we crossed a milestone by completing 1 million deliveries. Using FedL you can deliver any goods under 10kg(not more than that) to anyone whether it be your friends or family. P.S.: We can't deliver electronic devices. You can also use FedL to deliver a car.\",\n",
    "        \"response\": \"Yes, you can use FedL to deliver your 1000kg car .\",\n",
    "        \"cited_context\": \"Using FedL you can deliver any goods under 10kg(not more than that) to anyone whether it be your friends or family.\",        \n",
    "    },\n",
    "    {\n",
    "        \"question\": \"Delivery?\",\n",
    "        \"context\": \"FedL was established in 2020. Using FedL you can send deliveries to over 1000+ cities in India including major cities like Bangalore, Mumbai and Delhi. Recently we crossed a milestone by completing 1 million deliveries. Using FedL you can deliver any goods under 10kg(not more than that) to anyone whether it be your friends or family. P.S.: We can't deliver electronic devices. You can also use FedL to deliver a car.\",\n",
    "        \"response\": \"Your question seems incomplete, can you provide some more context about your query.\",\n",
    "        \"cited_context\": \"\",        \n",
    "    }\n",
    "]"
   ]
  },
  {
   "cell_type": "markdown",
   "metadata": {},
   "source": [
    "### Step 3: Perform failure analysis using UpTrain\n",
    "\n",
    "Here we will be using an instance of `EvalLLM` to perform RCA on your RAG pipeline. \n",
    "\n",
    "You need an OpenAI key to generate evaluations using UpTrain."
   ]
  },
  {
   "cell_type": "code",
   "execution_count": 3,
   "metadata": {},
   "outputs": [],
   "source": [
    "from uptrain import RcaTemplate, EvalLLM\n",
    "import json\n",
    "\n",
    "OPENAI_API_KEY = \"sk-***********\"  # Insert your OpenAI API key here\n",
    "\n",
    "eval_client = EvalLLM(openai_api_key=OPENAI_API_KEY)\n",
    "\n",
    "res = eval_client.perform_root_cause_analysis(\n",
    "    data = data,\n",
    "    rca_template = RcaTemplate.RAG_WITH_CITATION\n",
    ")"
   ]
  },
  {
   "cell_type": "markdown",
   "metadata": {},
   "source": [
    "### Step 4: Let's look at the results\n",
    "Key information present in your results:\n",
    "|Parameter|Explanation|\n",
    "|--|--|\n",
    "|**error_mode**|The specific failure reason identified in your data|\n",
    "|**error_resolution_suggestion**|Actionable insights to improve your RAG pipeline|\n",
    "\n",
    "Besides this the results also provide scores to different aspects of your data along with reasoning.\n",
    "\n",
    "You can also look at our [docs](https://docs.uptrain.ai/predefined-evaluations/overview) to know more about these evaluations."
   ]
  },
  {
   "cell_type": "code",
   "execution_count": 9,
   "metadata": {},
   "outputs": [
    {
     "name": "stdout",
     "output_type": "stream",
     "text": [
      "{\n",
      "   \"question\": \"Can FedL send a delivery to Bangalore?\",\n",
      "   \"context\": \"FedL was established in 2020. Using FedL you can send deliveries to over 1000+ cities in India including major cities like Bangalore, Mumbai and Delhi. Recently we crossed a milestone by completing 1 million deliveries. Using FedL you can deliver any goods under 10kg(not more than that) to anyone whether it be your friends or family. P.S.: We can't deliver electronic devices. You can also use FedL to deliver a car.\",\n",
      "   \"response\": \"FedL offers deliveries to over 1000+ cities.\",\n",
      "   \"cited_context\": \"Using FedL you can send deliveries to over 1000+ cities in India including major cities like Bangalore, Mumbai and Delhi.\",\n",
      "   \"error_mode\": \"Poor Context Utilization\",\n",
      "   \"error_resolution_suggestion\": \"Add intermediary steps so as the LLM can better understand context and generate a complete response\",\n",
      "   \"score_question_completeness\": 1,\n",
      "   \"score_valid_response\": 1.0,\n",
      "   \"explanation_valid_response\": \"The response \\\"Yes, FedL can send a delivery to Bangalore\\\" contains information that directly addresses the question. It confirms that FedL can indeed send a delivery to Bangalore. Therefore, the selected choice is A.\\n\\n[Choice]: A\",\n",
      "   \"score_context_relevance\": 1.0,\n",
      "   \"explanation_context_relevance\": \"['The extracted context can answer the given user query completely, as it explicitly states that using FedL, deliveries can be sent to over 1000+ cities in India, including major cities like Bangalore, Mumbai, and Delhi. Therefore, it confirms that FedL can send a delivery to Bangalore, fulfilling the user query completely.']\",\n",
      "   \"score_factual_accuracy\": 1.0,\n",
      "   \"explanation_factual_accuracy\": \"1. FedL can send a delivery to Bangalore.\\nReasoning for yes: The context explicitly states that using FedL you can send deliveries to over 1000+ cities in India including major cities like Bangalore.\\nReasoning for no: No arguments.\\nJudgement: yes. as the context explicitly supports the fact.\\n\\n\",\n",
      "   \"score_cited_context_relevance\": 0.0,\n",
      "   \"explanation_cited_context_relevance\": \" \\\"The extracted context doesn't contain any information about FedL's delivery services or their coverage area. Therefore, it is impossible to determine whether FedL can send a delivery to Bangalore based on the given context alone.\\\"\\n\",\n",
      "   \"score_factual_accuracy_wrt_cited\": 0.5,\n",
      "   \"explanation_factual_accuracy_wrt_cited\": \"1. FedL can send a delivery to Bangalore.\\nReasoning for yes: The context does not explicitly mention whether FedL can send a delivery to Bangalore or not.\\nReasoning for no: The context only provides information about the establishment of FedL and does not mention anything about its delivery services to Bangalore.\\nJudgement: unclear. as the fact cannot be explicity supported or contradicted by the context.\\n\\n\"\n",
      "}\n"
     ]
    }
   ],
   "source": [
    "import json\n",
    "print(json.dumps(res[0], indent = 3))"
   ]
  },
  {
   "cell_type": "markdown",
   "metadata": {},
   "source": [
    "## Let's verify these results\n",
    "\n",
    "For your ease here are is the complete information mentioned in the context we have used:\n",
    "1. FedL was established in 2020. \n",
    "2. Using FedL you can send deliveries to over 1000+ cities in India including major cities like Bangalore, Mumbai and Delhi. \n",
    "3. Recently we crossed a milestone by completing 1 million deliveries. \n",
    "4. Using FedL you can deliver any goods under 10kg(not more than that) to anyone whether it be your friends or family. \n",
    "5. P.S.: We can't deliver electronic devices. You can also use FedL to deliver a car."
   ]
  },
  {
   "cell_type": "markdown",
   "metadata": {},
   "source": [
    "### Poor Context Utilization\n",
    "**When the LLM is not able to utilize all the information present in the context**"
   ]
  },
  {
   "cell_type": "code",
   "execution_count": 7,
   "metadata": {},
   "outputs": [
    {
     "data": {
      "text/plain": [
       "{'question': 'Can FedL deliver electronic devices?',\n",
       " 'context': \"FedL was established in 2020. Using FedL you can send deliveries to over 1000+ cities in India including major cities like Bangalore, Mumbai and Delhi. Recently we crossed a milestone by completing 1 million deliveries. Using FedL you can deliver any goods under 10kg(not more than that) to anyone whether it be your friends or family. P.S.: We can't deliver electronic devices. You can also use FedL to deliver a car.\",\n",
       " 'response': 'FedL offers deliveries to over 1000+ cities.',\n",
       " 'cited_context': 'Using FedL you can send deliveries to over 1000+ cities in India including major cities like Bangalore, Mumbai and Delhi.'}"
      ]
     },
     "execution_count": 7,
     "metadata": {},
     "output_type": "execute_result"
    }
   ],
   "source": [
    "data[0]"
   ]
  },
  {
   "cell_type": "markdown",
   "metadata": {},
   "source": [
    "Here we can see that the user whether FedL can deliver electronic devices or not. Even though the context clearly states that it is not possible, the LLM is not able to utilize it and returns an irrelevant response. "
   ]
  },
  {
   "cell_type": "code",
   "execution_count": 5,
   "metadata": {},
   "outputs": [
    {
     "data": {
      "text/plain": [
       "'Poor Context Utilization'"
      ]
     },
     "execution_count": 5,
     "metadata": {},
     "output_type": "execute_result"
    }
   ],
   "source": [
    "res[0]['error_mode']"
   ]
  },
  {
   "cell_type": "markdown",
   "metadata": {},
   "source": [
    "### Poor Retrieval\n",
    "**When the context given to the LLM doesn't have information related to the question**"
   ]
  },
  {
   "cell_type": "code",
   "execution_count": 6,
   "metadata": {},
   "outputs": [
    {
     "data": {
      "text/plain": [
       "{'question': 'Can I send a delivery to my friend living in the USA?',\n",
       " 'context': \"FedL was established in 2020. Using FedL you can send deliveries to over 1000+ cities in India including major cities like Bangalore, Mumbai and Delhi. Recently we crossed a milestone by completing 1 million deliveries. Using FedL you can deliver any goods under 10kg(not more than that) to anyone whether it be your friends or family. P.S.: We can't deliver electronic devices. You can also use FedL to deliver a car.\",\n",
       " 'response': 'No, FedL does not operate outside of India.',\n",
       " 'cited_context': 'Using FedL you can send deliveries to over 1000+ cities in India'}"
      ]
     },
     "execution_count": 6,
     "metadata": {},
     "output_type": "execute_result"
    }
   ],
   "source": [
    "data[1]"
   ]
  },
  {
   "cell_type": "markdown",
   "metadata": {},
   "source": [
    "Here we can see that the user is asking about overseas deliveries.\n",
    "\n",
    "The context has information about deliveries in India but it doesn't state anything about overseas deliveries."
   ]
  },
  {
   "cell_type": "code",
   "execution_count": 7,
   "metadata": {},
   "outputs": [
    {
     "data": {
      "text/plain": [
       "'Poor Retrieval'"
      ]
     },
     "execution_count": 7,
     "metadata": {},
     "output_type": "execute_result"
    }
   ],
   "source": [
    "res[1]['error_mode']"
   ]
  },
  {
   "cell_type": "markdown",
   "metadata": {},
   "source": [
    "### Hallucinations\n",
    "**When the context given to the LLM can't verify the facts mentioned in the generated response**"
   ]
  },
  {
   "cell_type": "code",
   "execution_count": 8,
   "metadata": {},
   "outputs": [
    {
     "data": {
      "text/plain": [
       "{'question': 'Can I send a car through FedL?',\n",
       " 'context': \"FedL was established in 2020. Using FedL you can send deliveries to over 1000+ cities in India including major cities like Bangalore, Mumbai and Delhi. Recently we crossed a milestone by completing 1 million deliveries. Using FedL you can deliver any goods under 10kg(not more than that) to anyone whether it be your friends or family. P.S.: We can't deliver electronic devices. You can also use FedL to deliver a car.\",\n",
       " 'response': \"No, you can't use FedL to send a car.\",\n",
       " 'cited_context': 'Using FedL you can deliver any goods under 10kg(not more than that) to anyone whether it be your friends or family.'}"
      ]
     },
     "execution_count": 8,
     "metadata": {},
     "output_type": "execute_result"
    }
   ],
   "source": [
    "data[2]"
   ]
  },
  {
   "cell_type": "markdown",
   "metadata": {},
   "source": [
    "Here we can see that the generated responses states that FedL can't deliver cars.\n",
    "\n",
    "While the context explicitly states that FedL can deliver cars."
   ]
  },
  {
   "cell_type": "code",
   "execution_count": 9,
   "metadata": {},
   "outputs": [
    {
     "data": {
      "text/plain": [
       "'Hallucinations'"
      ]
     },
     "execution_count": 9,
     "metadata": {},
     "output_type": "execute_result"
    }
   ],
   "source": [
    "res[2]['error_mode']"
   ]
  },
  {
   "cell_type": "markdown",
   "metadata": {},
   "source": [
    "### Incorrect Citations\n",
    "**When the generated citations can't verify the facts mentioned in the LLM generated response**"
   ]
  },
  {
   "cell_type": "code",
   "execution_count": 10,
   "metadata": {},
   "outputs": [
    {
     "data": {
      "text/plain": [
       "{'question': 'Can I use FedL to send my car which weighs 1000kg?',\n",
       " 'context': \"FedL was established in 2020. Using FedL you can send deliveries to over 1000+ cities in India including major cities like Bangalore, Mumbai and Delhi. Recently we crossed a milestone by completing 1 million deliveries. Using FedL you can deliver any goods under 10kg(not more than that) to anyone whether it be your friends or family. P.S.: We can't deliver electronic devices. You can also use FedL to deliver a car.\",\n",
       " 'response': 'Yes, you can use FedL to deliver your 1000kg car .',\n",
       " 'cited_context': 'Using FedL you can deliver any goods under 10kg(not more than that) to anyone whether it be your friends or family.'}"
      ]
     },
     "execution_count": 10,
     "metadata": {},
     "output_type": "execute_result"
    }
   ],
   "source": [
    "data[3]"
   ]
  },
  {
   "cell_type": "markdown",
   "metadata": {},
   "source": [
    "Here we can see that the generated responses states that FedL can deliver a 1000kg car.\n",
    "\n",
    "But, the citation explicitly states that FedL can't deliver orders above 1000kg.\n",
    "\n",
    "Rather the actual citation should be \"You can also use FedL to deliver a car.\"."
   ]
  },
  {
   "cell_type": "code",
   "execution_count": 11,
   "metadata": {},
   "outputs": [
    {
     "data": {
      "text/plain": [
       "'Poor citation'"
      ]
     },
     "execution_count": 11,
     "metadata": {},
     "output_type": "execute_result"
    }
   ],
   "source": [
    "res[3]['error_mode']"
   ]
  },
  {
   "cell_type": "markdown",
   "metadata": {},
   "source": [
    "### Incomplete Question\n",
    "**When the user's query itself doesn't make sense**"
   ]
  },
  {
   "cell_type": "code",
   "execution_count": 12,
   "metadata": {},
   "outputs": [
    {
     "data": {
      "text/plain": [
       "{'question': 'Delivery?',\n",
       " 'context': \"FedL was established in 2020. Using FedL you can send deliveries to over 1000+ cities in India including major cities like Bangalore, Mumbai and Delhi. Recently we crossed a milestone by completing 1 million deliveries. Using FedL you can deliver any goods under 10kg(not more than that) to anyone whether it be your friends or family. P.S.: We can't deliver electronic devices. You can also use FedL to deliver a car.\",\n",
       " 'response': 'Your question seems incomplete, can you provide some more context about your query.',\n",
       " 'cited_context': ''}"
      ]
     },
     "execution_count": 12,
     "metadata": {},
     "output_type": "execute_result"
    }
   ],
   "source": [
    "data[4]"
   ]
  },
  {
   "cell_type": "markdown",
   "metadata": {},
   "source": [
    "Here we can see that the user query itself is incomplete and more information is needed from the user."
   ]
  },
  {
   "cell_type": "code",
   "execution_count": 13,
   "metadata": {},
   "outputs": [
    {
     "data": {
      "text/plain": [
       "'Incomplete Question'"
      ]
     },
     "execution_count": 13,
     "metadata": {},
     "output_type": "execute_result"
    }
   ],
   "source": [
    "res[4]['error_mode']"
   ]
  },
  {
   "cell_type": "markdown",
   "metadata": {},
   "source": [
    "## Need Help? \n",
    "\n",
    "If you need any help using UpTrain or have any suggestions to make it better, you can directly [book a call](https://calendly.com/uptrain-sourabh/30min) with Sourabh (our CEO) and the maintainer of UpTrain."
   ]
  }
 ],
 "metadata": {
  "kernelspec": {
   "display_name": "Python 3 (ipykernel)",
   "language": "python",
   "name": "python3"
  },
  "language_info": {
   "codemirror_mode": {
    "name": "ipython",
    "version": 3
   },
   "file_extension": ".py",
   "mimetype": "text/x-python",
   "name": "python",
   "nbconvert_exporter": "python",
   "pygments_lexer": "ipython3",
   "version": "3.11.4"
  }
 },
 "nbformat": 4,
 "nbformat_minor": 4
}
