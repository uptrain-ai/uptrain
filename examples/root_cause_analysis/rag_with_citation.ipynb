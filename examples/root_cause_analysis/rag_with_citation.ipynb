{
 "cells": [
  {
   "cell_type": "markdown",
   "metadata": {},
   "source": [
    "<a href=\"https://colab.research.google.com/github/uptrain-ai/uptrain/blob/main/examples/root_cause_analysis/rag_with_citation.ipynb\" target=\"_parent\"><img src=\"https://colab.research.google.com/assets/colab-badge.svg\" alt=\"Open In Colab\"/></a>"
   ]
  },
  {
   "cell_type": "markdown",
   "metadata": {},
   "source": [
    "<h1 align=\"center\">\n",
    "  <a href=\"https://uptrain.ai\">\n",
    "    <img width=\"300\" src=\"https://user-images.githubusercontent.com/108270398/214240695-4f958b76-c993-4ddd-8de6-8668f4d0da84.png\" alt=\"uptrain\">\n",
    "  </a>\n",
    "</h1>"
   ]
  },
  {
   "cell_type": "markdown",
   "metadata": {},
   "source": [
    "<h1 style=\"text-align: center;\">Root Cause Analysis</h1>"
   ]
  },
  {
   "cell_type": "markdown",
   "metadata": {},
   "source": [
    "<h2 style=\"text-align: center;\">RAG with Citation</h2>"
   ]
  },
  {
   "cell_type": "markdown",
   "metadata": {},
   "source": [
    "**What is RAG with citation RCA?**: RAG with citation helps you analyse failure causes in a RAG pipeline. Using it you can highlight failure causes such as:\n",
    "- Poor Retrieval: The context does not have information relevant to the question asked.\n",
    "- Hallucinations: The generated response is not factually correct.\n",
    "- Poor Citation: The cited information is not factually correct.\n",
    "- Poor Context Utilization: The cited information is not relevant to the question asked.\n",
    "\n",
    "**Data schema**: The data schema required for this evaluation is as follows:\n",
    "\n",
    "| Column Name | Description |\n",
    "| ----------- | ----------- |\n",
    "| question | The question asked by the user |\n",
    "| context | Additional information provided that can be used to answer the question |\n",
    "| cited_context | Information retieved from the context |\n",
    "| response | The response given by the model |"
   ]
  },
  {
   "cell_type": "markdown",
   "metadata": {},
   "source": [
    " If you face any difficulties, need some help with using UpTrain or want to brainstorm on custom evaluations for your use-case, [speak to the maintainers of UpTrain here](https://calendly.com/uptrain-sourabh/30min)."
   ]
  },
  {
   "cell_type": "markdown",
   "metadata": {},
   "source": [
    "## Step 1: Install UpTrain"
   ]
  },
  {
   "cell_type": "code",
   "execution_count": 1,
   "metadata": {},
   "outputs": [],
   "source": [
    "# !pip install uptrain"
   ]
  },
  {
   "cell_type": "markdown",
   "metadata": {},
   "source": [
    "## Step 2: Let's define our dataset to run evaluations upon"
   ]
  },
  {
   "cell_type": "code",
   "execution_count": 2,
   "metadata": {},
   "outputs": [],
   "source": [
    "data = [\n",
    "    {\n",
    "        'question': 'Which team won the 2023 ICC Cricket World Cup?',\n",
    "        'context': 'Argentina won the 2022 FIFA World Cup. The 2022 FIFA World Cup took place in Qatar from 20 November to 18 December 2022. The previous FIFA World Cup was held in Russia.',\n",
    "        'cited_context': 'The 2022 FIFA World Cup took place in Qatar from 20 November to 18 December 2022',\n",
    "        'response': 'The 2023 ICC Cricket World Cup was won by Qatar.'        \n",
    "    },\n",
    "    {\n",
    "        'question': 'Where was the 2022 FIFA World Cup held?',\n",
    "        'context': 'Argentina won the 2022 FIFA World Cup. The 2022 FIFA World Cup took place in Qatar from 20 November to 18 December 2022. The previous FIFA World Cup was held in Russia.',\n",
    "        'cited_context': 'The previous FIFA World Cup was held in Russia.',\n",
    "        'response': 'The previous FIFA World Cup was held in Russia.'        \n",
    "    },\n",
    "    {\n",
    "        'question': 'Who won the 2022 FIFA World Cup?',\n",
    "        'context': 'Argentina won the 2022 FIFA World Cup. The 2022 FIFA World Cup took place in Qatar from 20 November to 18 December 2022. The previous FIFA World Cup was held in Russia.',\n",
    "        'cited_context': 'Argentina won the FIFA World Cup.',\n",
    "        'response': 'The 2022 FIFA World Cup was won by Qatar.'        \n",
    "    }\n",
    "]"
   ]
  },
  {
   "cell_type": "markdown",
   "metadata": {},
   "source": [
    "## Step 3: Running evaluations using UpTrain"
   ]
  },
  {
   "cell_type": "code",
   "execution_count": 3,
   "metadata": {},
   "outputs": [
    {
     "name": "stderr",
     "output_type": "stream",
     "text": [
      "/Library/Frameworks/Python.framework/Versions/3.11/lib/python3.11/site-packages/pydantic/_internal/_fields.py:151: UserWarning: Field \"model_purpose\" has conflict with protected namespace \"model_\".\n",
      "\n",
      "You may be able to resolve this warning by setting `model_config['protected_namespaces'] = ()`.\n",
      "  warnings.warn(\n",
      "/Library/Frameworks/Python.framework/Versions/3.11/lib/python3.11/site-packages/lazy_loader/__init__.py:185: RuntimeWarning: subpackages can technically be lazily loaded, but it causes the package to be eagerly loaded even if it is already lazily loaded.So, you probably shouldn't use subpackages with this lazy feature.\n",
      "  warnings.warn(msg, RuntimeWarning)\n",
      "\u001b[32m2024-03-07 02:47:20.244\u001b[0m | \u001b[33m\u001b[1mWARNING \u001b[0m | \u001b[36muptrain.operators.language.llm\u001b[0m:\u001b[36mfetch_responses\u001b[0m:\u001b[36m243\u001b[0m - \u001b[33m\u001b[1mDetected a running event loop, scheduling requests in a separate thread.\u001b[0m\n",
      "100%|██████████| 3/3 [00:01<00:00,  2.26it/s]\n",
      "/Library/Frameworks/Python.framework/Versions/3.11/lib/python3.11/site-packages/uptrain/operators/language/llm.py:246: RuntimeWarning: coroutine 'LLMMulticlient.async_fetch_responses' was never awaited\n",
      "  with ThreadPoolExecutor(max_workers=1) as executor:\n",
      "RuntimeWarning: Enable tracemalloc to get the object allocation traceback\n",
      "\u001b[32m2024-03-07 02:47:21.626\u001b[0m | \u001b[33m\u001b[1mWARNING \u001b[0m | \u001b[36muptrain.operators.language.llm\u001b[0m:\u001b[36mfetch_responses\u001b[0m:\u001b[36m243\u001b[0m - \u001b[33m\u001b[1mDetected a running event loop, scheduling requests in a separate thread.\u001b[0m\n",
      "100%|██████████| 3/3 [00:01<00:00,  1.78it/s]\n",
      "\u001b[32m2024-03-07 02:47:23.345\u001b[0m | \u001b[33m\u001b[1mWARNING \u001b[0m | \u001b[36muptrain.operators.language.llm\u001b[0m:\u001b[36mfetch_responses\u001b[0m:\u001b[36m243\u001b[0m - \u001b[33m\u001b[1mDetected a running event loop, scheduling requests in a separate thread.\u001b[0m\n",
      "100%|██████████| 3/3 [00:01<00:00,  2.73it/s]\n",
      "\u001b[32m2024-03-07 02:47:24.450\u001b[0m | \u001b[33m\u001b[1mWARNING \u001b[0m | \u001b[36muptrain.operators.language.llm\u001b[0m:\u001b[36mfetch_responses\u001b[0m:\u001b[36m243\u001b[0m - \u001b[33m\u001b[1mDetected a running event loop, scheduling requests in a separate thread.\u001b[0m\n",
      "100%|██████████| 3/3 [00:02<00:00,  1.17it/s]\n",
      "\u001b[32m2024-03-07 02:47:27.056\u001b[0m | \u001b[33m\u001b[1mWARNING \u001b[0m | \u001b[36muptrain.operators.language.llm\u001b[0m:\u001b[36mfetch_responses\u001b[0m:\u001b[36m243\u001b[0m - \u001b[33m\u001b[1mDetected a running event loop, scheduling requests in a separate thread.\u001b[0m\n",
      "100%|██████████| 3/3 [00:01<00:00,  2.00it/s]\n",
      "\u001b[32m2024-03-07 02:47:28.593\u001b[0m | \u001b[33m\u001b[1mWARNING \u001b[0m | \u001b[36muptrain.operators.language.llm\u001b[0m:\u001b[36mfetch_responses\u001b[0m:\u001b[36m243\u001b[0m - \u001b[33m\u001b[1mDetected a running event loop, scheduling requests in a separate thread.\u001b[0m\n",
      "100%|██████████| 3/3 [00:00<00:00,  3.67it/s]\n",
      "\u001b[32m2024-03-07 02:47:29.414\u001b[0m | \u001b[33m\u001b[1mWARNING \u001b[0m | \u001b[36muptrain.operators.language.llm\u001b[0m:\u001b[36mfetch_responses\u001b[0m:\u001b[36m243\u001b[0m - \u001b[33m\u001b[1mDetected a running event loop, scheduling requests in a separate thread.\u001b[0m\n",
      "  0%|          | 0/3 [00:00<?, ?it/s]Task exception was never retrieved\n",
      "future: <Task finished name='Task-63' coro=<AsyncClient.aclose() done, defined at /Library/Frameworks/Python.framework/Versions/3.11/lib/python3.11/site-packages/httpx/_client.py:1967> exception=RuntimeError('Event loop is closed')>\n",
      "Traceback (most recent call last):\n",
      "  File \"/Library/Frameworks/Python.framework/Versions/3.11/lib/python3.11/site-packages/httpx/_client.py\", line 1974, in aclose\n",
      "    await self._transport.aclose()\n",
      "  File \"/Library/Frameworks/Python.framework/Versions/3.11/lib/python3.11/site-packages/httpx/_transports/default.py\", line 378, in aclose\n",
      "    await self._pool.aclose()\n",
      "  File \"/Library/Frameworks/Python.framework/Versions/3.11/lib/python3.11/site-packages/httpcore/_async/connection_pool.py\", line 324, in aclose\n",
      "    await connection.aclose()\n",
      "  File \"/Library/Frameworks/Python.framework/Versions/3.11/lib/python3.11/site-packages/httpcore/_async/connection.py\", line 173, in aclose\n",
      "    await self._connection.aclose()\n",
      "  File \"/Library/Frameworks/Python.framework/Versions/3.11/lib/python3.11/site-packages/httpcore/_async/http11.py\", line 253, in aclose\n",
      "    await self._network_stream.aclose()\n",
      "  File \"/Library/Frameworks/Python.framework/Versions/3.11/lib/python3.11/site-packages/httpcore/_backends/anyio.py\", line 54, in aclose\n",
      "    await self._stream.aclose()\n",
      "  File \"/Library/Frameworks/Python.framework/Versions/3.11/lib/python3.11/site-packages/anyio/streams/tls.py\", line 202, in aclose\n",
      "    await self.transport_stream.aclose()\n",
      "  File \"/Library/Frameworks/Python.framework/Versions/3.11/lib/python3.11/site-packages/anyio/_backends/_asyncio.py\", line 1181, in aclose\n",
      "    self._transport.close()\n",
      "  File \"/Library/Frameworks/Python.framework/Versions/3.11/lib/python3.11/asyncio/selector_events.py\", line 864, in close\n",
      "    self._loop.call_soon(self._call_connection_lost, None)\n",
      "  File \"/Library/Frameworks/Python.framework/Versions/3.11/lib/python3.11/asyncio/base_events.py\", line 762, in call_soon\n",
      "    self._check_closed()\n",
      "  File \"/Library/Frameworks/Python.framework/Versions/3.11/lib/python3.11/asyncio/base_events.py\", line 520, in _check_closed\n",
      "    raise RuntimeError('Event loop is closed')\n",
      "RuntimeError: Event loop is closed\n",
      "Task exception was never retrieved\n",
      "future: <Task finished name='Task-64' coro=<AsyncClient.aclose() done, defined at /Library/Frameworks/Python.framework/Versions/3.11/lib/python3.11/site-packages/httpx/_client.py:1967> exception=RuntimeError('Event loop is closed')>\n",
      "Traceback (most recent call last):\n",
      "  File \"/Library/Frameworks/Python.framework/Versions/3.11/lib/python3.11/site-packages/httpx/_client.py\", line 1974, in aclose\n",
      "    await self._transport.aclose()\n",
      "  File \"/Library/Frameworks/Python.framework/Versions/3.11/lib/python3.11/site-packages/httpx/_transports/default.py\", line 378, in aclose\n",
      "    await self._pool.aclose()\n",
      "  File \"/Library/Frameworks/Python.framework/Versions/3.11/lib/python3.11/site-packages/httpcore/_async/connection_pool.py\", line 324, in aclose\n",
      "    await connection.aclose()\n",
      "  File \"/Library/Frameworks/Python.framework/Versions/3.11/lib/python3.11/site-packages/httpcore/_async/connection.py\", line 173, in aclose\n",
      "    await self._connection.aclose()\n",
      "  File \"/Library/Frameworks/Python.framework/Versions/3.11/lib/python3.11/site-packages/httpcore/_async/http11.py\", line 253, in aclose\n",
      "    await self._network_stream.aclose()\n",
      "  File \"/Library/Frameworks/Python.framework/Versions/3.11/lib/python3.11/site-packages/httpcore/_backends/anyio.py\", line 54, in aclose\n",
      "    await self._stream.aclose()\n",
      "  File \"/Library/Frameworks/Python.framework/Versions/3.11/lib/python3.11/site-packages/anyio/streams/tls.py\", line 202, in aclose\n",
      "    await self.transport_stream.aclose()\n",
      "  File \"/Library/Frameworks/Python.framework/Versions/3.11/lib/python3.11/site-packages/anyio/_backends/_asyncio.py\", line 1181, in aclose\n",
      "    self._transport.close()\n",
      "  File \"/Library/Frameworks/Python.framework/Versions/3.11/lib/python3.11/asyncio/selector_events.py\", line 864, in close\n",
      "    self._loop.call_soon(self._call_connection_lost, None)\n",
      "  File \"/Library/Frameworks/Python.framework/Versions/3.11/lib/python3.11/asyncio/base_events.py\", line 762, in call_soon\n",
      "    self._check_closed()\n",
      "  File \"/Library/Frameworks/Python.framework/Versions/3.11/lib/python3.11/asyncio/base_events.py\", line 520, in _check_closed\n",
      "    raise RuntimeError('Event loop is closed')\n",
      "RuntimeError: Event loop is closed\n",
      "Task exception was never retrieved\n",
      "future: <Task finished name='Task-65' coro=<AsyncClient.aclose() done, defined at /Library/Frameworks/Python.framework/Versions/3.11/lib/python3.11/site-packages/httpx/_client.py:1967> exception=RuntimeError('Event loop is closed')>\n",
      "Traceback (most recent call last):\n",
      "  File \"/Library/Frameworks/Python.framework/Versions/3.11/lib/python3.11/site-packages/httpx/_client.py\", line 1974, in aclose\n",
      "    await self._transport.aclose()\n",
      "  File \"/Library/Frameworks/Python.framework/Versions/3.11/lib/python3.11/site-packages/httpx/_transports/default.py\", line 378, in aclose\n",
      "    await self._pool.aclose()\n",
      "  File \"/Library/Frameworks/Python.framework/Versions/3.11/lib/python3.11/site-packages/httpcore/_async/connection_pool.py\", line 324, in aclose\n",
      "    await connection.aclose()\n",
      "  File \"/Library/Frameworks/Python.framework/Versions/3.11/lib/python3.11/site-packages/httpcore/_async/connection.py\", line 173, in aclose\n",
      "    await self._connection.aclose()\n",
      "  File \"/Library/Frameworks/Python.framework/Versions/3.11/lib/python3.11/site-packages/httpcore/_async/http11.py\", line 253, in aclose\n",
      "    await self._network_stream.aclose()\n",
      "  File \"/Library/Frameworks/Python.framework/Versions/3.11/lib/python3.11/site-packages/httpcore/_backends/anyio.py\", line 54, in aclose\n",
      "    await self._stream.aclose()\n",
      "  File \"/Library/Frameworks/Python.framework/Versions/3.11/lib/python3.11/site-packages/anyio/streams/tls.py\", line 202, in aclose\n",
      "    await self.transport_stream.aclose()\n",
      "  File \"/Library/Frameworks/Python.framework/Versions/3.11/lib/python3.11/site-packages/anyio/_backends/_asyncio.py\", line 1181, in aclose\n",
      "    self._transport.close()\n",
      "  File \"/Library/Frameworks/Python.framework/Versions/3.11/lib/python3.11/asyncio/selector_events.py\", line 864, in close\n",
      "    self._loop.call_soon(self._call_connection_lost, None)\n",
      "  File \"/Library/Frameworks/Python.framework/Versions/3.11/lib/python3.11/asyncio/base_events.py\", line 762, in call_soon\n",
      "    self._check_closed()\n",
      "  File \"/Library/Frameworks/Python.framework/Versions/3.11/lib/python3.11/asyncio/base_events.py\", line 520, in _check_closed\n",
      "    raise RuntimeError('Event loop is closed')\n",
      "RuntimeError: Event loop is closed\n",
      "100%|██████████| 3/3 [00:02<00:00,  1.30it/s]"
     ]
    },
    {
     "name": "stdout",
     "output_type": "stream",
     "text": [
      "[\n",
      "   {\n",
      "      \"question\": \"Which team won the 2023 ICC Cricket World Cup?\",\n",
      "      \"context\": \"Argentina won the 2022 FIFA World Cup. The 2022 FIFA World Cup took place in Qatar from 20 November to 18 December 2022. The previous FIFA World Cup was held in Russia.\",\n",
      "      \"cited_context\": \"The 2022 FIFA World Cup took place in Qatar from 20 November to 18 December 2022\",\n",
      "      \"response\": \"The 2023 ICC Cricket World Cup was won by Qatar.\",\n",
      "      \"error_mode\": \"Poor Retrieval\",\n",
      "      \"error_resolution_suggestion\": \"Context Retrieval Pipeline needs improvement\",\n",
      "      \"score_question_completeness\": 1,\n",
      "      \"score_valid_response\": 1.0,\n",
      "      \"explanation_valid_response\": \"{\\n    \\\"Reasoning\\\": \\\"The response 'The 2023 ICC Cricket World Cup was won by Qatar' provides the name of a team. Therefore, the response does contain information relevant to the question.\\\",\\n    \\\"Choice\\\": \\\"A\\\"\\n}\",\n",
      "      \"score_context_relevance\": 0.0,\n",
      "      \"explanation_context_relevance\": \"{\\n    \\\"Reasoning\\\": \\\"The given context does not contain any information about the 2023 ICC Cricket World Cup or the team that won it. The context only provides information about the 2022 FIFA World Cup and its location. Therefore, the extracted context doesn't contain any information to answer the given query.\\\",\\n    \\\"Choice\\\": \\\"C\\\"\\n}\",\n",
      "      \"score_factual_accuracy\": 0.0,\n",
      "      \"explanation_factual_accuracy\": \"[\\n    {\\n        \\\"Fact\\\": \\\"1. The 2023 ICC Cricket World Cup was won by Qatar.\\\",\\n        \\\"Reasoning\\\": \\\"The context only mentions the 2022 FIFA World Cup taking place in Qatar, but it does not provide any information about the 2023 ICC Cricket World Cup.\\\",\\n        \\\"Judgement\\\": \\\"no\\\"\\n    }\\n]\",\n",
      "      \"score_cited_context_relevance\": 0.0,\n",
      "      \"explanation_cited_context_relevance\": \"{\\n    \\\"Reasoning\\\": \\\"The given context does not contain any information about the 2023 ICC Cricket World Cup or the winner of the tournament. It only provides information about the 2022 FIFA World Cup. Therefore, the extracted context doesn't contain any information to answer the given query.\\\",\\n    \\\"Choice\\\": \\\"C\\\"\\n}\",\n",
      "      \"score_factual_accuracy_wrt_cited\": 0.0,\n",
      "      \"explanation_factual_accuracy_wrt_cited\": \"[\\n    {\\n        \\\"Fact\\\": \\\"1. The 2023 ICC Cricket World Cup was won by Qatar.\\\",\\n        \\\"Reasoning\\\": \\\"The context only mentions the 2022 FIFA World Cup taking place in Qatar, but it does not provide any information about the 2023 ICC Cricket World Cup.\\\",\\n        \\\"Judgement\\\": \\\"no\\\"\\n    }\\n]\"\n",
      "   },\n",
      "   {\n",
      "      \"question\": \"Where was the 2022 FIFA World Cup held?\",\n",
      "      \"context\": \"Argentina won the 2022 FIFA World Cup. The 2022 FIFA World Cup took place in Qatar from 20 November to 18 December 2022. The previous FIFA World Cup was held in Russia.\",\n",
      "      \"cited_context\": \"The previous FIFA World Cup was held in Russia.\",\n",
      "      \"response\": \"The previous FIFA World Cup was held in Russia.\",\n",
      "      \"error_mode\": \"Poor Context Utilization\",\n",
      "      \"error_resolution_suggestion\": \"Add intermediary steps so as the LLM can better understand context and generate a complete response\",\n",
      "      \"score_question_completeness\": 1,\n",
      "      \"score_valid_response\": 1.0,\n",
      "      \"explanation_valid_response\": \"{\\n    \\\"Reasoning\\\": \\\"The response 'The previous FIFA World Cup was held in Russia' does not provide the location of the 2022 FIFA World Cup. Therefore, the response does not contain any information relevant to the question.\\\",\\n    \\\"Choice\\\": \\\"A\\\"\\n}\",\n",
      "      \"score_context_relevance\": 1.0,\n",
      "      \"explanation_context_relevance\": \"{\\n    \\\"Reasoning\\\": \\\"The given context can answer the given question completely because it provides the relevant information about the location and the dates of the 2022 FIFA World Cup. The context clearly states that the 2022 FIFA World Cup took place in Qatar from 20 November to 18 December 2022, which completely answers the given query. Hence, selected choice is A. The extracted context can answer the given query completely.\\\",\\n    \\\"Choice\\\": \\\"A\\\"\\n}\",\n",
      "      \"score_factual_accuracy\": 1.0,\n",
      "      \"explanation_factual_accuracy\": \"[\\n    {\\n        \\\"Fact\\\": \\\"1. The previous FIFA World Cup was held in Russia.\\\",\\n        \\\"Reasoning\\\": \\\"The context explicitly states that the previous FIFA World Cup was held in Russia. It mentions that the 2022 FIFA World Cup took place in Qatar, which implies that the previous one was held in Russia.\\\",\\n        \\\"Judgement\\\": \\\"yes\\\"\\n    }\\n]\",\n",
      "      \"score_cited_context_relevance\": 0.0,\n",
      "      \"explanation_cited_context_relevance\": \"{\\n    \\\"Reasoning\\\": \\\"The given context can't answer the given question completely because it only provides information about the previous FIFA World Cup being held in Russia. It does not mention the location of the 2022 FIFA World Cup. Hence, selected choice is C. The extracted context doesn't contain any information to answer the given query.\\\",\\n    \\\"Choice\\\": \\\"C\\\"\\n}\",\n",
      "      \"score_factual_accuracy_wrt_cited\": 1.0,\n",
      "      \"explanation_factual_accuracy_wrt_cited\": \"[\\n    {\\n        \\\"Fact\\\": \\\"1. The previous FIFA World Cup was held in Russia.\\\",\\n        \\\"Reasoning\\\": \\\"The context explicitly states that the previous FIFA World Cup was held in Russia.\\\",\\n        \\\"Judgement\\\": \\\"yes\\\"\\n    }\\n]\"\n",
      "   },\n",
      "   {\n",
      "      \"question\": \"Who won the 2022 FIFA World Cup?\",\n",
      "      \"context\": \"Argentina won the 2022 FIFA World Cup. The 2022 FIFA World Cup took place in Qatar from 20 November to 18 December 2022. The previous FIFA World Cup was held in Russia.\",\n",
      "      \"cited_context\": \"Argentina won the FIFA World Cup.\",\n",
      "      \"response\": \"The 2022 FIFA World Cup was won by Qatar.\",\n",
      "      \"error_mode\": \"Hallucinations\",\n",
      "      \"error_resolution_suggestion\": \"Add instructions to your LLM to adher to the context provide - Try tipping\",\n",
      "      \"score_question_completeness\": 1,\n",
      "      \"score_valid_response\": 1.0,\n",
      "      \"explanation_valid_response\": \"{\\n    \\\"Reasoning\\\": \\\"The response 'The 2022 FIFA World Cup was won by Qatar' provides the name of the winning team. Therefore, the response does contain information relevant to the question.\\\",\\n    \\\"Choice\\\": \\\"A\\\"\\n}\",\n",
      "      \"score_context_relevance\": 1.0,\n",
      "      \"explanation_context_relevance\": \"{\\n    \\\"Reasoning\\\": \\\"The given context can answer the given question completely because it provides the relevant information that Argentina won the 2022 FIFA World Cup. The context also includes the location and dates of the event, which further confirms the accuracy of the information. Hence, selected choice is A. The extracted context can answer the given question completely.\\\",\\n    \\\"Choice\\\": \\\"A\\\"\\n}\",\n",
      "      \"score_factual_accuracy\": 0.0,\n",
      "      \"explanation_factual_accuracy\": \"[\\n    {\\n        \\\"Fact\\\": \\\"1. The 2022 FIFA World Cup was won by Qatar.\\\",\\n        \\\"Reasoning\\\": \\\"The context explicitly states that Argentina won the 2022 FIFA World Cup, not Qatar. Hence, the fact cannot be verified by the context.\\\",\\n        \\\"Judgement\\\": \\\"no\\\"\\n    }\\n]\",\n",
      "      \"score_cited_context_relevance\": 1.0,\n",
      "      \"explanation_cited_context_relevance\": \"{\\n    \\\"Reasoning\\\": \\\"The given context can answer the given question completely because it directly provides the information about the winner of the 2022 FIFA World Cup, which is Argentina.\\\",\\n    \\\"Choice\\\": \\\"A\\\"\\n}\",\n",
      "      \"score_factual_accuracy_wrt_cited\": 0.0,\n",
      "      \"explanation_factual_accuracy_wrt_cited\": \"[\\n    {\\n        \\\"Fact\\\": \\\"1. The 2022 FIFA World Cup was won by Qatar.\\\",\\n        \\\"Reasoning\\\": \\\"The context explicitly states that Argentina won the FIFA World Cup, not Qatar. Hence, the fact cannot be verified by the context.\\\",\\n        \\\"Judgement\\\": \\\"no\\\"\\n    }\\n]\"\n",
      "   }\n",
      "]\n"
     ]
    },
    {
     "name": "stderr",
     "output_type": "stream",
     "text": [
      "\n"
     ]
    }
   ],
   "source": [
    "from uptrain import RcaTemplate, EvalLLM\n",
    "import json\n",
    "\n",
    "OPENAI_API_KEY = \"sk-***********\"  # Insert your OpenAI API key here\n",
    "\n",
    "eval_llm = EvalLLM(openai_api_key=OPENAI_API_KEY)\n",
    "\n",
    "res = eval_llm.perform_root_cause_analysis(\n",
    "    data = data,\n",
    "    rca_template = RcaTemplate.RAG_WITH_CITATION\n",
    ")\n",
    "\n",
    "print(json.dumps(res,indent=3))"
   ]
  },
  {
   "cell_type": "markdown",
   "metadata": {},
   "source": [
    "## Step 4: Let's look at some of the results "
   ]
  },
  {
   "cell_type": "markdown",
   "metadata": {},
   "source": [
    "### Sample with Poor Retrieval Example"
   ]
  },
  {
   "cell_type": "code",
   "execution_count": 4,
   "metadata": {},
   "outputs": [
    {
     "name": "stdout",
     "output_type": "stream",
     "text": [
      "{\n",
      "   \"question\": \"Which team won the 2023 ICC Cricket World Cup?\",\n",
      "   \"context\": \"Argentina won the 2022 FIFA World Cup. The 2022 FIFA World Cup took place in Qatar from 20 November to 18 December 2022. The previous FIFA World Cup was held in Russia.\",\n",
      "   \"cited_context\": \"The 2022 FIFA World Cup took place in Qatar from 20 November to 18 December 2022\",\n",
      "   \"response\": \"The 2023 ICC Cricket World Cup was won by Qatar.\",\n",
      "   \"error_mode\": \"Poor Retrieval\",\n",
      "   \"error_resolution_suggestion\": \"Context Retrieval Pipeline needs improvement\",\n",
      "   \"score_question_completeness\": 1,\n",
      "   \"score_valid_response\": 1.0,\n",
      "   \"explanation_valid_response\": \"{\\n    \\\"Reasoning\\\": \\\"The response 'The 2023 ICC Cricket World Cup was won by Qatar' provides the name of a team. Therefore, the response does contain information relevant to the question.\\\",\\n    \\\"Choice\\\": \\\"A\\\"\\n}\",\n",
      "   \"score_context_relevance\": 0.0,\n",
      "   \"explanation_context_relevance\": \"{\\n    \\\"Reasoning\\\": \\\"The given context does not contain any information about the 2023 ICC Cricket World Cup or the team that won it. The context only provides information about the 2022 FIFA World Cup and its location. Therefore, the extracted context doesn't contain any information to answer the given query.\\\",\\n    \\\"Choice\\\": \\\"C\\\"\\n}\",\n",
      "   \"score_factual_accuracy\": 0.0,\n",
      "   \"explanation_factual_accuracy\": \"[\\n    {\\n        \\\"Fact\\\": \\\"1. The 2023 ICC Cricket World Cup was won by Qatar.\\\",\\n        \\\"Reasoning\\\": \\\"The context only mentions the 2022 FIFA World Cup taking place in Qatar, but it does not provide any information about the 2023 ICC Cricket World Cup.\\\",\\n        \\\"Judgement\\\": \\\"no\\\"\\n    }\\n]\",\n",
      "   \"score_cited_context_relevance\": 0.0,\n",
      "   \"explanation_cited_context_relevance\": \"{\\n    \\\"Reasoning\\\": \\\"The given context does not contain any information about the 2023 ICC Cricket World Cup or the winner of the tournament. It only provides information about the 2022 FIFA World Cup. Therefore, the extracted context doesn't contain any information to answer the given query.\\\",\\n    \\\"Choice\\\": \\\"C\\\"\\n}\",\n",
      "   \"score_factual_accuracy_wrt_cited\": 0.0,\n",
      "   \"explanation_factual_accuracy_wrt_cited\": \"[\\n    {\\n        \\\"Fact\\\": \\\"1. The 2023 ICC Cricket World Cup was won by Qatar.\\\",\\n        \\\"Reasoning\\\": \\\"The context only mentions the 2022 FIFA World Cup taking place in Qatar, but it does not provide any information about the 2023 ICC Cricket World Cup.\\\",\\n        \\\"Judgement\\\": \\\"no\\\"\\n    }\\n]\"\n",
      "}\n"
     ]
    }
   ],
   "source": [
    "print(json.dumps(res[0],indent=3))"
   ]
  },
  {
   "cell_type": "markdown",
   "metadata": {},
   "source": [
    "### Sample with Poor Context Utilization Example"
   ]
  },
  {
   "cell_type": "code",
   "execution_count": 5,
   "metadata": {},
   "outputs": [
    {
     "name": "stdout",
     "output_type": "stream",
     "text": [
      "{\n",
      "   \"question\": \"Where was the 2022 FIFA World Cup held?\",\n",
      "   \"context\": \"Argentina won the 2022 FIFA World Cup. The 2022 FIFA World Cup took place in Qatar from 20 November to 18 December 2022. The previous FIFA World Cup was held in Russia.\",\n",
      "   \"cited_context\": \"The previous FIFA World Cup was held in Russia.\",\n",
      "   \"response\": \"The previous FIFA World Cup was held in Russia.\",\n",
      "   \"error_mode\": \"Poor Context Utilization\",\n",
      "   \"error_resolution_suggestion\": \"Add intermediary steps so as the LLM can better understand context and generate a complete response\",\n",
      "   \"score_question_completeness\": 1,\n",
      "   \"score_valid_response\": 1.0,\n",
      "   \"explanation_valid_response\": \"{\\n    \\\"Reasoning\\\": \\\"The response 'The previous FIFA World Cup was held in Russia' does not provide the location of the 2022 FIFA World Cup. Therefore, the response does not contain any information relevant to the question.\\\",\\n    \\\"Choice\\\": \\\"A\\\"\\n}\",\n",
      "   \"score_context_relevance\": 1.0,\n",
      "   \"explanation_context_relevance\": \"{\\n    \\\"Reasoning\\\": \\\"The given context can answer the given question completely because it provides the relevant information about the location and the dates of the 2022 FIFA World Cup. The context clearly states that the 2022 FIFA World Cup took place in Qatar from 20 November to 18 December 2022, which completely answers the given query. Hence, selected choice is A. The extracted context can answer the given query completely.\\\",\\n    \\\"Choice\\\": \\\"A\\\"\\n}\",\n",
      "   \"score_factual_accuracy\": 1.0,\n",
      "   \"explanation_factual_accuracy\": \"[\\n    {\\n        \\\"Fact\\\": \\\"1. The previous FIFA World Cup was held in Russia.\\\",\\n        \\\"Reasoning\\\": \\\"The context explicitly states that the previous FIFA World Cup was held in Russia. It mentions that the 2022 FIFA World Cup took place in Qatar, which implies that the previous one was held in Russia.\\\",\\n        \\\"Judgement\\\": \\\"yes\\\"\\n    }\\n]\",\n",
      "   \"score_cited_context_relevance\": 0.0,\n",
      "   \"explanation_cited_context_relevance\": \"{\\n    \\\"Reasoning\\\": \\\"The given context can't answer the given question completely because it only provides information about the previous FIFA World Cup being held in Russia. It does not mention the location of the 2022 FIFA World Cup. Hence, selected choice is C. The extracted context doesn't contain any information to answer the given query.\\\",\\n    \\\"Choice\\\": \\\"C\\\"\\n}\",\n",
      "   \"score_factual_accuracy_wrt_cited\": 1.0,\n",
      "   \"explanation_factual_accuracy_wrt_cited\": \"[\\n    {\\n        \\\"Fact\\\": \\\"1. The previous FIFA World Cup was held in Russia.\\\",\\n        \\\"Reasoning\\\": \\\"The context explicitly states that the previous FIFA World Cup was held in Russia.\\\",\\n        \\\"Judgement\\\": \\\"yes\\\"\\n    }\\n]\"\n",
      "}\n"
     ]
    }
   ],
   "source": [
    "print(json.dumps(res[1],indent=3))"
   ]
  },
  {
   "cell_type": "markdown",
   "metadata": {},
   "source": [
    "### Sample with Hallucinations Example"
   ]
  },
  {
   "cell_type": "code",
   "execution_count": 6,
   "metadata": {},
   "outputs": [
    {
     "name": "stdout",
     "output_type": "stream",
     "text": [
      "{\n",
      "   \"question\": \"Who won the 2022 FIFA World Cup?\",\n",
      "   \"context\": \"Argentina won the 2022 FIFA World Cup. The 2022 FIFA World Cup took place in Qatar from 20 November to 18 December 2022. The previous FIFA World Cup was held in Russia.\",\n",
      "   \"cited_context\": \"Argentina won the FIFA World Cup.\",\n",
      "   \"response\": \"The 2022 FIFA World Cup was won by Qatar.\",\n",
      "   \"error_mode\": \"Hallucinations\",\n",
      "   \"error_resolution_suggestion\": \"Add instructions to your LLM to adher to the context provide - Try tipping\",\n",
      "   \"score_question_completeness\": 1,\n",
      "   \"score_valid_response\": 1.0,\n",
      "   \"explanation_valid_response\": \"{\\n    \\\"Reasoning\\\": \\\"The response 'The 2022 FIFA World Cup was won by Qatar' provides the name of the winning team. Therefore, the response does contain information relevant to the question.\\\",\\n    \\\"Choice\\\": \\\"A\\\"\\n}\",\n",
      "   \"score_context_relevance\": 1.0,\n",
      "   \"explanation_context_relevance\": \"{\\n    \\\"Reasoning\\\": \\\"The given context can answer the given question completely because it provides the relevant information that Argentina won the 2022 FIFA World Cup. The context also includes the location and dates of the event, which further confirms the accuracy of the information. Hence, selected choice is A. The extracted context can answer the given question completely.\\\",\\n    \\\"Choice\\\": \\\"A\\\"\\n}\",\n",
      "   \"score_factual_accuracy\": 0.0,\n",
      "   \"explanation_factual_accuracy\": \"[\\n    {\\n        \\\"Fact\\\": \\\"1. The 2022 FIFA World Cup was won by Qatar.\\\",\\n        \\\"Reasoning\\\": \\\"The context explicitly states that Argentina won the 2022 FIFA World Cup, not Qatar. Hence, the fact cannot be verified by the context.\\\",\\n        \\\"Judgement\\\": \\\"no\\\"\\n    }\\n]\",\n",
      "   \"score_cited_context_relevance\": 1.0,\n",
      "   \"explanation_cited_context_relevance\": \"{\\n    \\\"Reasoning\\\": \\\"The given context can answer the given question completely because it directly provides the information about the winner of the 2022 FIFA World Cup, which is Argentina.\\\",\\n    \\\"Choice\\\": \\\"A\\\"\\n}\",\n",
      "   \"score_factual_accuracy_wrt_cited\": 0.0,\n",
      "   \"explanation_factual_accuracy_wrt_cited\": \"[\\n    {\\n        \\\"Fact\\\": \\\"1. The 2022 FIFA World Cup was won by Qatar.\\\",\\n        \\\"Reasoning\\\": \\\"The context explicitly states that Argentina won the FIFA World Cup, not Qatar. Hence, the fact cannot be verified by the context.\\\",\\n        \\\"Judgement\\\": \\\"no\\\"\\n    }\\n]\"\n",
      "}\n"
     ]
    }
   ],
   "source": [
    "print(json.dumps(res[2],indent=3))"
   ]
  }
 ],
 "metadata": {
  "kernelspec": {
   "display_name": "base",
   "language": "python",
   "name": "python3"
  },
  "language_info": {
   "codemirror_mode": {
    "name": "ipython",
    "version": 3
   },
   "file_extension": ".py",
   "mimetype": "text/x-python",
   "name": "python",
   "nbconvert_exporter": "python",
   "pygments_lexer": "ipython3",
   "version": "3.11.8"
  }
 },
 "nbformat": 4,
 "nbformat_minor": 2
}
