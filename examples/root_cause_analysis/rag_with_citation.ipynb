{
 "cells": [
  {
   "cell_type": "markdown",
   "metadata": {},
   "source": [
    "<a href=\"https://colab.research.google.com/github/uptrain-ai/uptrain/blob/main/examples/root_cause_analysis/rag_with_citation.ipynb\" target=\"_parent\"><img src=\"https://colab.research.google.com/assets/colab-badge.svg\" alt=\"Open In Colab\"/></a>"
   ]
  },
  {
   "cell_type": "markdown",
   "metadata": {},
   "source": [
    "<h1 align=\"center\">\n",
    "  <a href=\"https://uptrain.ai\">\n",
    "    <img width=\"300\" src=\"https://user-images.githubusercontent.com/108270398/214240695-4f958b76-c993-4ddd-8de6-8668f4d0da84.png\" alt=\"uptrain\">\n",
    "  </a>\n",
    "</h1>"
   ]
  },
  {
   "cell_type": "markdown",
   "metadata": {},
   "source": [
    "<h1 style=\"text-align: center;\">Root Cause Analysis</h1>"
   ]
  },
  {
   "cell_type": "markdown",
   "metadata": {},
   "source": [
    "<h2 style=\"text-align: center;\">RAG with Citation</h2>"
   ]
  },
  {
   "cell_type": "markdown",
   "metadata": {},
   "source": [
    "**What is RAG with citation RCA?**: RAG with citation helps you analyse failure causes in a RAG pipeline. Using it you can highlight failure causes such as:\n",
    "- Poor Retrieval: The context does not have information relevant to the question asked.\n",
    "- Hallucinations: The generated response is not factually correct.\n",
    "- Poor Citation: The cited information is not factually correct.\n",
    "- Poor Context Utilization: The cited information is not relevant to the question asked.\n",
    "\n",
    "**Data schema**: The data schema required for this evaluation is as follows:\n",
    "\n",
    "| Column Name | Description |\n",
    "| ----------- | ----------- |\n",
    "| question | The question asked by the user |\n",
    "| context | Additional information provided that can be used to answer the question |\n",
    "| cited_context | Information retieved from the context |\n",
    "| response | The response given by the model |"
   ]
  },
  {
   "cell_type": "markdown",
   "metadata": {},
   "source": [
    " If you face any difficulties, need some help with using UpTrain or want to brainstorm on custom evaluations for your use-case, [speak to the maintainers of UpTrain here](https://calendly.com/uptrain-sourabh/30min)."
   ]
  },
  {
   "cell_type": "markdown",
   "metadata": {},
   "source": [
    "## Step 1: Install UpTrain"
   ]
  },
  {
   "cell_type": "code",
   "execution_count": 1,
   "metadata": {},
   "outputs": [],
   "source": [
    "# !pip install uptrain"
   ]
  },
  {
   "cell_type": "markdown",
   "metadata": {},
   "source": [
    "## Step 2: Let's define our dataset to run evaluations upon"
   ]
  },
  {
   "cell_type": "code",
   "execution_count": 2,
   "metadata": {},
   "outputs": [],
   "source": [
    "data = [\n",
    "    {\n",
    "        'question': 'Which team won the 2023 ICC Cricket World Cup?',\n",
    "        'context': 'Argentina won the 2022 FIFA World Cup. The 2022 FIFA World Cup took place in Qatar from 20 November to 18 December 2022. The previous FIFA World Cup was held in Russia.',\n",
    "        'cited_context': 'The 2022 FIFA World Cup took place in Qatar from 20 November to 18 December 2022',\n",
    "        'response': 'The 2023 ICC Cricket World Cup was won by Qatar.'        \n",
    "    },\n",
    "    {\n",
    "        'question': 'Where was the 2022 FIFA World Cup held?',\n",
    "        'context': 'Argentina won the 2022 FIFA World Cup. The 2022 FIFA World Cup took place in Qatar from 20 November to 18 December 2022. The previous FIFA World Cup was held in Russia.',\n",
    "        'cited_context': 'The previous FIFA World Cup was held in Russia.',\n",
    "        'response': 'The previous FIFA World Cup was held in Russia.'        \n",
    "    },\n",
    "    {\n",
    "        'question': 'Who won the 2022 FIFA World Cup?',\n",
    "        'context': 'Aliens won the 2022 FIFA World Cup. The 2022 FIFA World Cup took place in Qatar from 20 November to 18 December 2022. The previous FIFA World Cup was held in Russia.',\n",
    "        'cited_context': 'Aliens won the FIFA World Cup.',\n",
    "        'response': 'The 2022 FIFA World Cup was won by Aliens.'        \n",
    "    }\n",
    "]"
   ]
  },
  {
   "cell_type": "markdown",
   "metadata": {},
   "source": [
    "## Step 3: Running evaluations using UpTrain"
   ]
  },
  {
   "cell_type": "code",
   "execution_count": 3,
   "metadata": {},
   "outputs": [
    {
     "name": "stderr",
     "output_type": "stream",
     "text": [
      "\u001b[32m2024-02-19 00:50:02.884\u001b[0m | \u001b[1mINFO    \u001b[0m | \u001b[36muptrain.framework.remote\u001b[0m:\u001b[36mperform_root_cause_analysis\u001b[0m:\u001b[36m505\u001b[0m - \u001b[1mSending root cause analysis request for rows 0 to <50 to the Uptrain server\u001b[0m\n"
     ]
    },
    {
     "name": "stdout",
     "output_type": "stream",
     "text": [
      "[\n",
      "   {\n",
      "      \"question\": \"Which team won the 2023 ICC Cricket World Cup?\",\n",
      "      \"context\": \"Argentina won the 2022 FIFA World Cup. The 2022 FIFA World Cup took place in Qatar from 20 November to 18 December 2022. The previous FIFA World Cup was held in Russia.\",\n",
      "      \"cited_context\": \"The 2022 FIFA World Cup took place in Qatar from 20 November to 18 December 2022\",\n",
      "      \"response\": \"The 2023 ICC Cricket World Cup was won by Qatar.\",\n",
      "      \"error_mode\": \"Poor Retrieval\",\n",
      "      \"error_resolution_suggestion\": \"Context Retrieval Pipeline needs improvement\",\n",
      "      \"score_question_completeness\": 1,\n",
      "      \"score_valid_response\": 1.0,\n",
      "      \"explanation_valid_response\": \"Step by step reasoning:\\n\\n1. The question asks for the team that won the 2023 ICC Cricket World Cup.\\n2. The response states \\\"The 2023 ICC Cricket World Cup was won by Qatar.\\\"\\n\\nConclusion:\\nThe given response does contain some information.\\n\\n[Choice]: A\",\n",
      "      \"score_context_relevance\": 0.0,\n",
      "      \"explanation_context_relevance\": \" \\\"The extracted context is about the 2022 FIFA World Cup and does not contain any information about the 2023 ICC Cricket World Cup. Therefore, it cannot answer the user query about the winner of the 2023 ICC Cricket World Cup.\\\"\\n\",\n",
      "      \"score_factual_accuracy\": 0.5,\n",
      "      \"explanation_factual_accuracy\": \"The 2023 ICC Cricket World Cup was won by Qatar.\\nReasoning for yes: The context does not mention anything about the winner of the 2023 ICC Cricket World Cup, so it cannot be determined if Qatar won or not.\\nReasoning for no: The context only provides information about the FIFA World Cup, not the ICC Cricket World Cup.\\nJudgement: unclear.\",\n",
      "      \"score_cited_context_relevance\": 0.0,\n",
      "      \"explanation_cited_context_relevance\": \" \\\"The extracted context is about the 2022 FIFA World Cup in Qatar, which took place from 20 November to 18 December 2022. There is no mention of the 2023 ICC Cricket World Cup, so the extracted context doesn't contain any information to answer the given user query about the winner of the 2023 ICC Cricket World Cup.\\\"\\n\",\n",
      "      \"score_factual_accuracy_wrt_cited\": 0.5,\n",
      "      \"explanation_factual_accuracy_wrt_cited\": \"The 2023 ICC Cricket World Cup was won by Qatar.\\nReasoning for yes: The context explicitly states that the 2022 FIFA World Cup took place in Qatar, but it does not mention anything about the 2023 ICC Cricket World Cup.\\nReasoning for no: The context does not provide any information about the winner of the 2023 ICC Cricket World Cup.\\nJudgement: unclear. The context does not support or contradict the fact, and the fact cannot be logically derived from the context.\"\n",
      "   },\n",
      "   {\n",
      "      \"question\": \"Where was the 2022 FIFA World Cup held?\",\n",
      "      \"context\": \"Argentina won the 2022 FIFA World Cup. The 2022 FIFA World Cup took place in Qatar from 20 November to 18 December 2022. The previous FIFA World Cup was held in Russia.\",\n",
      "      \"cited_context\": \"The previous FIFA World Cup was held in Russia.\",\n",
      "      \"response\": \"The previous FIFA World Cup was held in Russia.\",\n",
      "      \"error_mode\": \"Poor Context Utilization\",\n",
      "      \"error_resolution_suggestion\": \"Add intermediary steps so as the LLM can better understand context and generate a complete response\",\n",
      "      \"score_question_completeness\": 1,\n",
      "      \"score_valid_response\": 1.0,\n",
      "      \"explanation_valid_response\": \"The question is \\\"Where was the 2022 FIFA World Cup held?\\\" and the response is \\\"The previous FIFA World Cup was held in Russia.\\\"\\n\\nStep by step reasoning:\\n1. The response provides information about the location of the previous FIFA World Cup, stating that it was held in Russia.\\n2. Although the response does not directly answer the question about the 2022 FIFA World Cup, it does contain information about a previous event, which is relevant to the topic of FIFA World Cup locations.\\n3. Therefore, the given response does contain some information.\\n\\n[Choice]: A\\n[Explanation]: The response contains some information.\",\n",
      "      \"score_context_relevance\": 1.0,\n",
      "      \"explanation_context_relevance\": \" \\\"The extracted context clearly states that the 2022 FIFA World Cup took place in Qatar from 20 November to 18 December 2022. It also mentions that Argentina won the tournament. Therefore, the extracted context can answer the given user query completely by providing the location of the 2022 FIFA World Cup.\\\" \\n\",\n",
      "      \"score_factual_accuracy\": 1.0,\n",
      "      \"explanation_factual_accuracy\": \"The previous FIFA World Cup was held in Russia.\\nReasoning for yes: The context explicitly states that the previous FIFA World Cup was held in Russia.\\nReasoning for no: No arguments.\\nJudgement: yes. as the context explicitly supports the fact.\",\n",
      "      \"score_cited_context_relevance\": 0.0,\n",
      "      \"explanation_cited_context_relevance\": \" \\\"The extracted context doesn't contain any information about the location of the 2022 FIFA World Cup. It only mentions the previous World Cup being held in Russia, which is not relevant to the user query about the location of the 2022 World Cup. Therefore, the extracted context cannot answer the given user query at all.\\\"\\n\",\n",
      "      \"score_factual_accuracy_wrt_cited\": 1.0,\n",
      "      \"explanation_factual_accuracy_wrt_cited\": \"The previous FIFA World Cup was held in Russia.\\nReasoning for yes: The context explicitly states that the previous FIFA World Cup was held in Russia.\\nReasoning for no: No arguments.\\nJudgement: yes. as the context explicitly supports the fact.\"\n",
      "   },\n",
      "   {\n",
      "      \"question\": \"Who won the 2022 FIFA World Cup?\",\n",
      "      \"context\": \"Aliens won the 2022 FIFA World Cup. The 2022 FIFA World Cup took place in Qatar from 20 November to 18 December 2022. The previous FIFA World Cup was held in Russia.\",\n",
      "      \"cited_context\": \"Aliens won the FIFA World Cup.\",\n",
      "      \"response\": \"The 2022 FIFA World Cup was won by Aliens.\",\n",
      "      \"error_mode\": \"Hallucinations\",\n",
      "      \"error_resolution_suggestion\": \"Add instructions to your LLM to adher to the context provide - Try tipping\",\n",
      "      \"score_question_completeness\": 1,\n",
      "      \"score_valid_response\": 1.0,\n",
      "      \"explanation_valid_response\": \"The given response to the question \\\"Who won the 2022 FIFA World Cup?\\\" is \\\"The 2022 FIFA World Cup was won by Aliens.\\\"\\n\\nStep by step reasoning:\\n1. The response provides information about the winner of the 2022 FIFA World Cup, stating that it was won by \\\"Aliens.\\\"\\n2. Although the information provided is not factually accurate, it does contain a specific response to the question asked.\\n\\nTherefore, the selected choice is A.\\n\\n[Choice]: A\",\n",
      "      \"score_context_relevance\": 1.0,\n",
      "      \"explanation_context_relevance\": \" \\\"The extracted context clearly states that aliens won the 2022 FIFA World Cup in Qatar. This information completely answers the given user query about the winner of the tournament.\\\"\\n\",\n",
      "      \"score_factual_accuracy\": 0.0,\n",
      "      \"explanation_factual_accuracy\": \"The 2022 FIFA World Cup was won by Aliens.\\nReasoning for yes: The context explicitly states that Aliens won the 2022 FIFA World Cup.\\nReasoning for no: The context does not mention anything about Aliens winning the 2022 FIFA World Cup. It only provides information about the location and timing of the event.\\nJudgement: no. as the context does not verify the fact nor the fact can be logically derived from the context.\",\n",
      "      \"score_cited_context_relevance\": 0.0,\n",
      "      \"explanation_cited_context_relevance\": \"The extracted context doesn't contain any information related to the 2022 FIFA World Cup winner. The statement about aliens winning the FIFA World Cup is not relevant to the user query and does not provide any useful information to answer the question.\",\n",
      "      \"score_factual_accuracy_wrt_cited\": 1.0,\n",
      "      \"explanation_factual_accuracy_wrt_cited\": \"1. The 2022 FIFA World Cup took place.\\nReasoning for yes: The context explicitly states that the 2022 FIFA World Cup took place.\\nReasoning for no: No arguments.\\nJudgement: yes. as the context explicitly supports the fact.\\n\\n2. Aliens won the 2022 FIFA World Cup.\\nReasoning for yes: The context explicitly states that Aliens won the FIFA World Cup.\\nReasoning for no: No arguments.\\nJudgement: yes. as the context explicitly supports the fact.\\n\\n\"\n",
      "   }\n",
      "]\n"
     ]
    }
   ],
   "source": [
    "from uptrain import APIClient, RcaTemplate\n",
    "import json\n",
    "\n",
    "UPTRAIN_API_KEY = \"up-********************\"  # Insert your UpTrain API key here\n",
    "\n",
    "uptrain_client = APIClient(uptrain_api_key=UPTRAIN_API_KEY)\n",
    "\n",
    "res = uptrain_client.perform_root_cause_analysis(\n",
    "    'Sample-RCA',\n",
    "    data = data,\n",
    "    rca_template = RcaTemplate.RAG_WITH_CITATION\n",
    ")\n",
    "\n",
    "print(json.dumps(res,indent=3))"
   ]
  },
  {
   "cell_type": "markdown",
   "metadata": {},
   "source": [
    "## Step 4: Let's look at some of the results "
   ]
  },
  {
   "cell_type": "markdown",
   "metadata": {},
   "source": [
    "### Sample with Poor Retrieval Example"
   ]
  },
  {
   "cell_type": "code",
   "execution_count": 4,
   "metadata": {},
   "outputs": [
    {
     "name": "stdout",
     "output_type": "stream",
     "text": [
      "{\n",
      "   \"question\": \"Which team won the 2023 ICC Cricket World Cup?\",\n",
      "   \"context\": \"Argentina won the 2022 FIFA World Cup. The 2022 FIFA World Cup took place in Qatar from 20 November to 18 December 2022. The previous FIFA World Cup was held in Russia.\",\n",
      "   \"cited_context\": \"The 2022 FIFA World Cup took place in Qatar from 20 November to 18 December 2022\",\n",
      "   \"response\": \"The 2023 ICC Cricket World Cup was won by Qatar.\",\n",
      "   \"error_mode\": \"Poor Retrieval\",\n",
      "   \"error_resolution_suggestion\": \"Context Retrieval Pipeline needs improvement\",\n",
      "   \"score_question_completeness\": 1,\n",
      "   \"score_valid_response\": 1.0,\n",
      "   \"explanation_valid_response\": \"Step by step reasoning:\\n\\n1. The question asks for the team that won the 2023 ICC Cricket World Cup.\\n2. The response states \\\"The 2023 ICC Cricket World Cup was won by Qatar.\\\"\\n\\nConclusion:\\nThe given response does contain some information.\\n\\n[Choice]: A\",\n",
      "   \"score_context_relevance\": 0.0,\n",
      "   \"explanation_context_relevance\": \" \\\"The extracted context is about the 2022 FIFA World Cup and does not contain any information about the 2023 ICC Cricket World Cup. Therefore, it cannot answer the user query about the winner of the 2023 ICC Cricket World Cup.\\\"\\n\",\n",
      "   \"score_factual_accuracy\": 0.5,\n",
      "   \"explanation_factual_accuracy\": \"The 2023 ICC Cricket World Cup was won by Qatar.\\nReasoning for yes: The context does not mention anything about the winner of the 2023 ICC Cricket World Cup, so it cannot be determined if Qatar won or not.\\nReasoning for no: The context only provides information about the FIFA World Cup, not the ICC Cricket World Cup.\\nJudgement: unclear.\",\n",
      "   \"score_cited_context_relevance\": 0.0,\n",
      "   \"explanation_cited_context_relevance\": \" \\\"The extracted context is about the 2022 FIFA World Cup in Qatar, which took place from 20 November to 18 December 2022. There is no mention of the 2023 ICC Cricket World Cup, so the extracted context doesn't contain any information to answer the given user query about the winner of the 2023 ICC Cricket World Cup.\\\"\\n\",\n",
      "   \"score_factual_accuracy_wrt_cited\": 0.5,\n",
      "   \"explanation_factual_accuracy_wrt_cited\": \"The 2023 ICC Cricket World Cup was won by Qatar.\\nReasoning for yes: The context explicitly states that the 2022 FIFA World Cup took place in Qatar, but it does not mention anything about the 2023 ICC Cricket World Cup.\\nReasoning for no: The context does not provide any information about the winner of the 2023 ICC Cricket World Cup.\\nJudgement: unclear. The context does not support or contradict the fact, and the fact cannot be logically derived from the context.\"\n",
      "}\n"
     ]
    }
   ],
   "source": [
    "print(json.dumps(res[0],indent=3))"
   ]
  },
  {
   "cell_type": "markdown",
   "metadata": {},
   "source": [
    "### Sample with Poor Context Utilization Example"
   ]
  },
  {
   "cell_type": "code",
   "execution_count": 5,
   "metadata": {},
   "outputs": [
    {
     "name": "stdout",
     "output_type": "stream",
     "text": [
      "{\n",
      "   \"question\": \"Where was the 2022 FIFA World Cup held?\",\n",
      "   \"context\": \"Argentina won the 2022 FIFA World Cup. The 2022 FIFA World Cup took place in Qatar from 20 November to 18 December 2022. The previous FIFA World Cup was held in Russia.\",\n",
      "   \"cited_context\": \"The previous FIFA World Cup was held in Russia.\",\n",
      "   \"response\": \"The previous FIFA World Cup was held in Russia.\",\n",
      "   \"error_mode\": \"Poor Context Utilization\",\n",
      "   \"error_resolution_suggestion\": \"Add intermediary steps so as the LLM can better understand context and generate a complete response\",\n",
      "   \"score_question_completeness\": 1,\n",
      "   \"score_valid_response\": 1.0,\n",
      "   \"explanation_valid_response\": \"The question is \\\"Where was the 2022 FIFA World Cup held?\\\" and the response is \\\"The previous FIFA World Cup was held in Russia.\\\"\\n\\nStep by step reasoning:\\n1. The response provides information about the location of the previous FIFA World Cup, stating that it was held in Russia.\\n2. Although the response does not directly answer the question about the 2022 FIFA World Cup, it does contain information about a previous event, which is relevant to the topic of FIFA World Cup locations.\\n3. Therefore, the given response does contain some information.\\n\\n[Choice]: A\\n[Explanation]: The response contains some information.\",\n",
      "   \"score_context_relevance\": 1.0,\n",
      "   \"explanation_context_relevance\": \" \\\"The extracted context clearly states that the 2022 FIFA World Cup took place in Qatar from 20 November to 18 December 2022. It also mentions that Argentina won the tournament. Therefore, the extracted context can answer the given user query completely by providing the location of the 2022 FIFA World Cup.\\\" \\n\",\n",
      "   \"score_factual_accuracy\": 1.0,\n",
      "   \"explanation_factual_accuracy\": \"The previous FIFA World Cup was held in Russia.\\nReasoning for yes: The context explicitly states that the previous FIFA World Cup was held in Russia.\\nReasoning for no: No arguments.\\nJudgement: yes. as the context explicitly supports the fact.\",\n",
      "   \"score_cited_context_relevance\": 0.0,\n",
      "   \"explanation_cited_context_relevance\": \" \\\"The extracted context doesn't contain any information about the location of the 2022 FIFA World Cup. It only mentions the previous World Cup being held in Russia, which is not relevant to the user query about the location of the 2022 World Cup. Therefore, the extracted context cannot answer the given user query at all.\\\"\\n\",\n",
      "   \"score_factual_accuracy_wrt_cited\": 1.0,\n",
      "   \"explanation_factual_accuracy_wrt_cited\": \"The previous FIFA World Cup was held in Russia.\\nReasoning for yes: The context explicitly states that the previous FIFA World Cup was held in Russia.\\nReasoning for no: No arguments.\\nJudgement: yes. as the context explicitly supports the fact.\"\n",
      "}\n"
     ]
    }
   ],
   "source": [
    "print(json.dumps(res[1],indent=3))"
   ]
  },
  {
   "cell_type": "markdown",
   "metadata": {},
   "source": [
    "### Sample with Hallucinations Example"
   ]
  },
  {
   "cell_type": "code",
   "execution_count": 6,
   "metadata": {},
   "outputs": [
    {
     "name": "stdout",
     "output_type": "stream",
     "text": [
      "{\n",
      "   \"question\": \"Who won the 2022 FIFA World Cup?\",\n",
      "   \"context\": \"Aliens won the 2022 FIFA World Cup. The 2022 FIFA World Cup took place in Qatar from 20 November to 18 December 2022. The previous FIFA World Cup was held in Russia.\",\n",
      "   \"cited_context\": \"Aliens won the FIFA World Cup.\",\n",
      "   \"response\": \"The 2022 FIFA World Cup was won by Aliens.\",\n",
      "   \"error_mode\": \"Hallucinations\",\n",
      "   \"error_resolution_suggestion\": \"Add instructions to your LLM to adher to the context provide - Try tipping\",\n",
      "   \"score_question_completeness\": 1,\n",
      "   \"score_valid_response\": 1.0,\n",
      "   \"explanation_valid_response\": \"The given response to the question \\\"Who won the 2022 FIFA World Cup?\\\" is \\\"The 2022 FIFA World Cup was won by Aliens.\\\"\\n\\nStep by step reasoning:\\n1. The response provides information about the winner of the 2022 FIFA World Cup, stating that it was won by \\\"Aliens.\\\"\\n2. Although the information provided is not factually accurate, it does contain a specific response to the question asked.\\n\\nTherefore, the selected choice is A.\\n\\n[Choice]: A\",\n",
      "   \"score_context_relevance\": 1.0,\n",
      "   \"explanation_context_relevance\": \" \\\"The extracted context clearly states that aliens won the 2022 FIFA World Cup in Qatar. This information completely answers the given user query about the winner of the tournament.\\\"\\n\",\n",
      "   \"score_factual_accuracy\": 0.0,\n",
      "   \"explanation_factual_accuracy\": \"The 2022 FIFA World Cup was won by Aliens.\\nReasoning for yes: The context explicitly states that Aliens won the 2022 FIFA World Cup.\\nReasoning for no: The context does not mention anything about Aliens winning the 2022 FIFA World Cup. It only provides information about the location and timing of the event.\\nJudgement: no. as the context does not verify the fact nor the fact can be logically derived from the context.\",\n",
      "   \"score_cited_context_relevance\": 0.0,\n",
      "   \"explanation_cited_context_relevance\": \"The extracted context doesn't contain any information related to the 2022 FIFA World Cup winner. The statement about aliens winning the FIFA World Cup is not relevant to the user query and does not provide any useful information to answer the question.\",\n",
      "   \"score_factual_accuracy_wrt_cited\": 1.0,\n",
      "   \"explanation_factual_accuracy_wrt_cited\": \"1. The 2022 FIFA World Cup took place.\\nReasoning for yes: The context explicitly states that the 2022 FIFA World Cup took place.\\nReasoning for no: No arguments.\\nJudgement: yes. as the context explicitly supports the fact.\\n\\n2. Aliens won the 2022 FIFA World Cup.\\nReasoning for yes: The context explicitly states that Aliens won the FIFA World Cup.\\nReasoning for no: No arguments.\\nJudgement: yes. as the context explicitly supports the fact.\\n\\n\"\n",
      "}\n"
     ]
    }
   ],
   "source": [
    "print(json.dumps(res[2],indent=3))"
   ]
  }
 ],
 "metadata": {
  "kernelspec": {
   "display_name": "base",
   "language": "python",
   "name": "python3"
  },
  "language_info": {
   "codemirror_mode": {
    "name": "ipython",
    "version": 3
   },
   "file_extension": ".py",
   "mimetype": "text/x-python",
   "name": "python",
   "nbconvert_exporter": "python",
   "pygments_lexer": "ipython3",
   "version": "3.11.7"
  }
 },
 "nbformat": 4,
 "nbformat_minor": 2
}
