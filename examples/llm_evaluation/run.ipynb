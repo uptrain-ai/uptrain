{
 "cells": [
  {
   "cell_type": "markdown",
   "id": "718cf13a-ba29-462d-88b5-1507d7c03154",
   "metadata": {},
   "source": [
    "<h1 align=\"center\">\n",
    "  <a href=\"https://uptrain.ai\">\n",
    "    <img width=\"300\" src=\"https://user-images.githubusercontent.com/108270398/214240695-4f958b76-c993-4ddd-8de6-8668f4d0da84.png\" alt=\"uptrain\">\n",
    "  </a>\n",
    "</h1>"
   ]
  },
  {
   "cell_type": "markdown",
   "id": "d063d5dd-976f-4b2d-b6ce-0d54a0253cb5",
   "metadata": {},
   "source": [
    "<h1 style=\"text-align: center;\">Unit-testing of a Fresh LLM model</h1>"
   ]
  },
  {
   "cell_type": "markdown",
   "id": "7f713f16-2a62-4024-a5a4-e1b3b6ffe77f",
   "metadata": {},
   "source": [
    "**Objective**: Given a golden testing dataset and a new LLM model (or LLM APIs with new prompts), evaluate the performance of the model on the testing dataset and collect cases where the model doesn't perform well."
   ]
  },
  {
   "cell_type": "markdown",
   "id": "8bba5119-2c7b-448d-9aac-36359dd061bb",
   "metadata": {},
   "source": [
    "#### Install required packages"
   ]
  },
  {
   "cell_type": "code",
   "execution_count": 1,
   "id": "b3fe33bf-524c-4498-a075-d0cc804947f6",
   "metadata": {},
   "outputs": [],
   "source": [
    "# !pip install uptrain datasets py7zr torch"
   ]
  },
  {
   "cell_type": "code",
   "execution_count": 2,
   "id": "3c04ef1f-5048-4587-bbc0-da13ebafb0a9",
   "metadata": {},
   "outputs": [
    {
     "name": "stderr",
     "output_type": "stream",
     "text": [
      "PyTorch is available but CUDA is not. Defaulting to SciPy for SVD\n"
     ]
    }
   ],
   "source": [
    "from datasets import load_dataset\n",
    "import json\n",
    "import numpy as np\n",
    "import os\n",
    "import uptrain\n",
    "from rouge import Rouge \n",
    "import random\n",
    "from matplotlib import pyplot as plt\n",
    "import pandas as pd\n",
    "import subprocess\n",
    "import zipfile\n",
    "from transformers import AutoTokenizer, AutoModel, AutoModelForSeq2SeqLM\n",
    "import torch\n",
    "import torch.nn.functional as F"
   ]
  },
  {
   "cell_type": "markdown",
   "id": "81ce1cfe-a53f-4212-9c05-5fb3144faa28",
   "metadata": {},
   "source": [
    "#### Following functions are for testing purposes only"
   ]
  },
  {
   "cell_type": "code",
   "execution_count": 4,
   "id": "bdff5085-21b8-4292-99bd-2cbcef5ecf84",
   "metadata": {},
   "outputs": [
    {
     "name": "stderr",
     "output_type": "stream",
     "text": [
      "WARNING:datasets.builder:Found cached dataset samsum (/Users/vipul/.cache/huggingface/datasets/samsum/samsum/0.0.0/f1d7c6b7353e6de335d444e424dc002ef70d1277109031327bc9cc6af5d3d46e)\n"
     ]
    },
    {
     "data": {
      "application/vnd.jupyter.widget-view+json": {
       "model_id": "703ec8701cf64df69b9cd33853f7b614",
       "version_major": 2,
       "version_minor": 0
      },
      "text/plain": [
       "  0%|          | 0/3 [00:00<?, ?it/s]"
      ]
     },
     "metadata": {},
     "output_type": "display_data"
    }
   ],
   "source": [
    "samsum_dataset = load_dataset(\"samsum\")\n",
    "golden_dataset = samsum_dataset[\"test\"][0:20]"
   ]
  },
  {
   "cell_type": "markdown",
   "id": "51df6418-4085-41e3-a5e7-d2e41e9ee9bf",
   "metadata": {},
   "source": [
    "### Define the model to be tested"
   ]
  },
  {
   "cell_type": "code",
   "execution_count": 6,
   "id": "4f5f25b6-d7a5-4b5f-bca2-a66eb6686b6a",
   "metadata": {},
   "outputs": [],
   "source": [
    "summary_model = \"yasminesarraj/flan-t5-small-samsum\""
   ]
  },
  {
   "cell_type": "markdown",
   "id": "cbea0b51-b9e7-489e-bf09-58faff3a4ee0",
   "metadata": {},
   "source": [
    "#### Define a model to genetate sentence embeddings"
   ]
  },
  {
   "cell_type": "code",
   "execution_count": null,
   "id": "e4891c2c-30e3-4795-a87d-bb0639df1054",
   "metadata": {},
   "outputs": [],
   "source": [
    "sentence_emb_model = \"sentence-transformers/paraphrase-MiniLM-L6-v2\""
   ]
  },
  {
   "cell_type": "code",
   "execution_count": 9,
   "id": "c940e7f7-f51a-467a-89d8-c3fd5d5b0f7e",
   "metadata": {},
   "outputs": [],
   "source": [
    "cfg = {\n",
    "    \"checks\": [{\n",
    "        'type': uptrain.Monitor.LLM_EVALUATION,\n",
    "        \"measurable_args\": {\n",
    "            \"type\": uptrain.MeasurableType.INPUT_FEATURE,\n",
    "            \"feature_name\": \"dialogues\"\n",
    "        },\n",
    "        \"embedding_model\": sentence_emb_model,\n",
    "        \"llm_model_args\": {\"model_name\": summary_model},\n",
    "        \"distance_types\": [\"cosine_distance\", \"l2_distance\"],\n",
    "    }],\n",
    "    \"logging_args\": {\n",
    "        \"st_logging\": True,\n",
    "        \"use_new_handler\": True,\n",
    "        \"run_background_streamlit\": False\n",
    "    },\n",
    "    \"license_args\": {\"openai_key\": \"YOUR KEY HERE.\"}\n",
    "}"
   ]
  },
  {
   "cell_type": "code",
   "execution_count": 10,
   "id": "ed84ba3d-f325-4ce3-91e2-d24e9c1391eb",
   "metadata": {},
   "outputs": [
    {
     "name": "stdout",
     "output_type": "stream",
     "text": [
      "Deleting contents of the folder:  uptrain_smart_data\n",
      "Deleting contents of the log folder at: uptrain_logs\n",
      "To start the streamlit dashboard, run the following command:  streamlit run /Users/vipul/Downloads/uptrain_repos/uptrain/uptrain/core/classes/logging/new_st_run.py  -- uptrain_logs\n",
      "Average cosine_distance is 0.2782163143157959 on your model.\n",
      "Average l2_distance is 0.5564326643943787 on your model.\n",
      "Average openai_score is 70.0 on your model.\n"
     ]
    }
   ],
   "source": [
    "framework = uptrain.Framework(cfg_dict=cfg)\n",
    "ids = framework.log(inputs={\"dialogues\": golden_dataset['dialogue']}, outputs=None)\n",
    "ids = framework.log(identifiers=ids, gts=golden_dataset[\"summary\"])"
   ]
  }
 ],
 "metadata": {
  "kernelspec": {
   "display_name": "Python 3 (ipykernel)",
   "language": "python",
   "name": "python3"
  },
  "language_info": {
   "codemirror_mode": {
    "name": "ipython",
    "version": 3
   },
   "file_extension": ".py",
   "mimetype": "text/x-python",
   "name": "python",
   "nbconvert_exporter": "python",
   "pygments_lexer": "ipython3",
   "version": "3.10.4"
  }
 },
 "nbformat": 4,
 "nbformat_minor": 5
}
