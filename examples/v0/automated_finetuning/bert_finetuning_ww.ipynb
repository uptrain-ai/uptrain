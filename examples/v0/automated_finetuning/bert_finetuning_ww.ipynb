{
 "cells": [
  {
   "cell_type": "markdown",
   "id": "6dfee5c5-323f-4774-b498-352db849e2b4",
   "metadata": {},
   "source": [
    "<h1 align=\"center\">\n",
    "  <a href=\"https://uptrain.ai\">\n",
    "    <img width=\"300\" src=\"https://user-images.githubusercontent.com/108270398/214240695-4f958b76-c993-4ddd-8de6-8668f4d0da84.png\" alt=\"uptrain\">\n",
    "  </a>\n",
    "</h1>"
   ]
  },
  {
   "cell_type": "markdown",
   "id": "4003d261-596f-48fb-bd1e-e988a7029655",
   "metadata": {},
   "source": [
    "<h1 style=\"text-align: center;\">Automated LLM Finetuning with UpTrain</h1>"
   ]
  },
  {
   "cell_type": "code",
   "execution_count": 23,
   "id": "bf39670a-5863-41ce-a41b-78cfc305486f",
   "metadata": {},
   "outputs": [],
   "source": [
    "# !pip install transformers weightwatcher"
   ]
  },
  {
   "cell_type": "code",
   "execution_count": 1,
   "id": "d8041ded-5129-4875-83b1-a1bf08dd0eff",
   "metadata": {},
   "outputs": [
    {
     "name": "stderr",
     "output_type": "stream",
     "text": [
      "/Users/suyashharlalka/miniconda3/envs/ml/lib/python3.9/site-packages/tqdm/auto.py:21: TqdmWarning: IProgress not found. Please update jupyter and ipywidgets. See https://ipywidgets.readthedocs.io/en/stable/user_install.html\n",
      "  from .autonotebook import tqdm as notebook_tqdm\n",
      "PyTorch is available but CUDA is not. Defaulting to NumPy for SVD\n"
     ]
    }
   ],
   "source": [
    "import torch\n",
    "# from torch.utils.data import TensorDataset, DataLoader, RandomSampler, SequentialSampler\n",
    "# from transformers import BertTokenizer, BertForSequenceClassification, BertPreTrainedModel\n",
    "# from sklearn.model_selection import train_test_split\n",
    "\n",
    "from helper_funcs import BertForSequenceClassificationWithIntermediateLayer, get_train_val_dataloader\n",
    "\n",
    "import pandas as pd\n",
    "# import numpy as np\n",
    "# from typing import List, Optional, Tuple, Union\n",
    "\n",
    "# from tqdm import trange\n",
    "# import random\n",
    "# import weightwatcher as ww\n",
    "import uptrain.v0 as uptrain\n",
    "\n",
    "# import warnings\n",
    "# warnings.filterwarnings(\"ignore\")"
   ]
  },
  {
   "cell_type": "markdown",
   "id": "baf32abf-8164-468b-82ca-4a81b5576539",
   "metadata": {},
   "source": [
    "#### Download the SPAM collection Dataset"
   ]
  },
  {
   "cell_type": "code",
   "execution_count": 25,
   "id": "1dabb361-b866-4a70-851a-f9fcb902c06e",
   "metadata": {},
   "outputs": [],
   "source": [
    "# !wget 'https://archive.ics.uci.edu/ml/machine-learning-databases/00228/smsspamcollection.zip'"
   ]
  },
  {
   "cell_type": "code",
   "execution_count": 26,
   "id": "c83b0b93-646b-4646-9575-dd1484cc7a73",
   "metadata": {},
   "outputs": [],
   "source": [
    "# !unzip -o smsspamcollection.zip"
   ]
  },
  {
   "cell_type": "code",
   "execution_count": 2,
   "id": "272f2e3a-6268-4727-8a17-de932c203ba7",
   "metadata": {},
   "outputs": [
    {
     "data": {
      "text/html": [
       "<div>\n",
       "<style scoped>\n",
       "    .dataframe tbody tr th:only-of-type {\n",
       "        vertical-align: middle;\n",
       "    }\n",
       "\n",
       "    .dataframe tbody tr th {\n",
       "        vertical-align: top;\n",
       "    }\n",
       "\n",
       "    .dataframe thead th {\n",
       "        text-align: right;\n",
       "    }\n",
       "</style>\n",
       "<table border=\"1\" class=\"dataframe\">\n",
       "  <thead>\n",
       "    <tr style=\"text-align: right;\">\n",
       "      <th></th>\n",
       "      <th>label</th>\n",
       "      <th>text</th>\n",
       "    </tr>\n",
       "  </thead>\n",
       "  <tbody>\n",
       "    <tr>\n",
       "      <th>0</th>\n",
       "      <td>0</td>\n",
       "      <td>Go until jurong point, crazy.. Available only ...</td>\n",
       "    </tr>\n",
       "    <tr>\n",
       "      <th>1</th>\n",
       "      <td>0</td>\n",
       "      <td>Ok lar... Joking wif u oni...\\n</td>\n",
       "    </tr>\n",
       "    <tr>\n",
       "      <th>2</th>\n",
       "      <td>1</td>\n",
       "      <td>Free entry in 2 a wkly comp to win FA Cup fina...</td>\n",
       "    </tr>\n",
       "    <tr>\n",
       "      <th>3</th>\n",
       "      <td>0</td>\n",
       "      <td>U dun say so early hor... U c already then say...</td>\n",
       "    </tr>\n",
       "    <tr>\n",
       "      <th>4</th>\n",
       "      <td>0</td>\n",
       "      <td>Nah I don't think he goes to usf, he lives aro...</td>\n",
       "    </tr>\n",
       "  </tbody>\n",
       "</table>\n",
       "</div>"
      ],
      "text/plain": [
       "   label                                               text\n",
       "0      0  Go until jurong point, crazy.. Available only ...\n",
       "1      0                    Ok lar... Joking wif u oni...\\n\n",
       "2      1  Free entry in 2 a wkly comp to win FA Cup fina...\n",
       "3      0  U dun say so early hor... U c already then say...\n",
       "4      0  Nah I don't think he goes to usf, he lives aro..."
      ]
     },
     "execution_count": 2,
     "metadata": {},
     "output_type": "execute_result"
    }
   ],
   "source": [
    "file_path = './SMSSpamCollection'\n",
    "df = pd.DataFrame({'label':int(), 'text':str()}, index = [])\n",
    "with open(file_path) as f:\n",
    "    for line in f.readlines():\n",
    "        split = line.split('\\t')\n",
    "        df = df.append({'label': 1 if split[0] == 'spam' else 0,\n",
    "                    'text': split[1]},\n",
    "                    ignore_index = True)\n",
    "df.head()"
   ]
  },
  {
   "cell_type": "markdown",
   "id": "c0fa75ab-37b6-4fce-b664-cd40af43ef5b",
   "metadata": {},
   "source": [
    "#### Define helper functions"
   ]
  },
  {
   "cell_type": "code",
   "execution_count": 28,
   "id": "2e2a54af-a533-44d0-8043-03dbdcc3f699",
   "metadata": {},
   "outputs": [],
   "source": [
    "# import torch.nn as nn\n",
    "# from transformers import BertModel\n",
    "# from torch.nn import BCEWithLogitsLoss, CrossEntropyLoss, MSELoss\n",
    "# from transformers.modeling_outputs import SequenceClassifierOutput"
   ]
  },
  {
   "cell_type": "code",
   "execution_count": 3,
   "id": "26f092c6-7566-4b36-aa64-49ce6fc9e1b3",
   "metadata": {},
   "outputs": [
    {
     "name": "stderr",
     "output_type": "stream",
     "text": [
      "Some weights of the model checkpoint at bert-base-uncased were not used when initializing BertForSequenceClassificationWithIntermediateLayer: ['cls.seq_relationship.weight', 'cls.predictions.transform.LayerNorm.bias', 'cls.predictions.transform.dense.weight', 'cls.predictions.bias', 'cls.predictions.decoder.weight', 'cls.predictions.transform.dense.bias', 'cls.seq_relationship.bias', 'cls.predictions.transform.LayerNorm.weight']\n",
      "- This IS expected if you are initializing BertForSequenceClassificationWithIntermediateLayer from the checkpoint of a model trained on another task or with another architecture (e.g. initializing a BertForSequenceClassification model from a BertForPreTraining model).\n",
      "- This IS NOT expected if you are initializing BertForSequenceClassificationWithIntermediateLayer from the checkpoint of a model that you expect to be exactly identical (initializing a BertForSequenceClassification model from a BertForSequenceClassification model).\n",
      "Some weights of BertForSequenceClassificationWithIntermediateLayer were not initialized from the model checkpoint at bert-base-uncased and are newly initialized: ['post_bert.bias', 'classifier.weight', 'post_bert.weight', 'classifier.bias']\n",
      "You should probably TRAIN this model on a down-stream task to be able to use it for predictions and inference.\n",
      "Truncation was not explicitly activated but `max_length` is provided a specific value, please use `truncation=True` to explicitly truncate examples to max length. Defaulting to 'longest_first' truncation strategy. If you encode pairs of sequences (GLUE-style) with the tokenizer you can select this strategy more precisely by providing a specific strategy to `truncation`.\n"
     ]
    }
   ],
   "source": [
    "model = BertForSequenceClassificationWithIntermediateLayer.from_pretrained('bert-base-uncased', num_labels = 2)\n",
    "device = ('cuda' if torch.cuda.is_available() else 'cpu')\n",
    "if device == 'cpu':\n",
    "    # check for mps\n",
    "    if torch.backends.mps.is_available():\n",
    "        device = 'mps'\n",
    "        \n",
    "device = torch.device(device)\n",
    "model.to(device)\n",
    "train_dataloader, val_dataloader = get_train_val_dataloader(df, batch_size=32)"
   ]
  },
  {
   "cell_type": "code",
   "execution_count": 4,
   "id": "64cc28a8-c63e-42cb-8f23-7db2842844f5",
   "metadata": {},
   "outputs": [
    {
     "name": "stdout",
     "output_type": "stream",
     "text": [
      "Training data size:  140\n",
      "Validation data size:  35\n"
     ]
    }
   ],
   "source": [
    "print(\"Training data size: \" , len(train_dataloader))\n",
    "print(\"Validation data size: \" , len(val_dataloader))"
   ]
  },
  {
   "cell_type": "markdown",
   "id": "282af604-599c-4cbd-88a0-f93570489430",
   "metadata": {},
   "source": [
    "### Define the UpTrain Config "
   ]
  },
  {
   "cell_type": "code",
   "execution_count": 6,
   "id": "0636bed0-5293-4b50-8aff-deb1d3af6237",
   "metadata": {},
   "outputs": [],
   "source": [
    "config = {\"checks\": \n",
    "    [{'type': uptrain.Statistic.FINETUNE,\n",
    "    'optimizer': torch.optim.AdamW,\n",
    "    'train_dataloader': train_dataloader,\n",
    "    'val_dataloader': val_dataloader,\n",
    "    'device': device,\n",
    "    # Define the list of new layers that were added\n",
    "    'layers': [230],\n",
    "    'is_automated': False,\n",
    "    'epochs': 2,\n",
    "    }],\n",
    "    \"logging_args\": {\"st_logging\": True,\n",
    "                    \"log_data\": False},\n",
    "}"
   ]
  },
  {
   "cell_type": "code",
   "execution_count": 7,
   "id": "2296328f-5645-4aba-aa9c-5d9ae291a40c",
   "metadata": {},
   "outputs": [
    {
     "name": "stdout",
     "output_type": "stream",
     "text": [
      "Deleting the folder:  uptrain_smart_data\n",
      "Deleting the folder:  uptrain_logs\n"
     ]
    },
    {
     "name": "stdout",
     "output_type": "stream",
     "text": [
      "\n",
      "  👋 Welcome to Streamlit!\n",
      "\n",
      "  If you’d like to receive helpful onboarding emails, news, offers, promotions,\n",
      "  and the occasional swag, please enter your email address below. Otherwise,\n",
      "  leave this field blank.\n",
      "\n",
      "  Email:  "
     ]
    }
   ],
   "source": [
    "framework = uptrain.Framework(cfg_dict=config)"
   ]
  },
  {
   "cell_type": "code",
   "execution_count": null,
   "id": "9ee294d0-6ce6-4e4d-983e-12dc7f0ee427",
   "metadata": {},
   "outputs": [],
   "source": [
    "framework.log(inputs={'model': [model]})"
   ]
  },
  {
   "cell_type": "code",
   "execution_count": 34,
   "id": "4296485e-20d1-4055-b92d-508d26b35458",
   "metadata": {},
   "outputs": [
    {
     "name": "stderr",
     "output_type": "stream",
     "text": [
      "Some weights of the model checkpoint at bert-base-uncased were not used when initializing BertForSequenceClassificationWithIntermediateLayer: ['cls.predictions.decoder.weight', 'cls.predictions.bias', 'cls.seq_relationship.bias', 'cls.seq_relationship.weight', 'cls.predictions.transform.dense.weight', 'cls.predictions.transform.LayerNorm.bias', 'cls.predictions.transform.LayerNorm.weight', 'cls.predictions.transform.dense.bias']\n",
      "- This IS expected if you are initializing BertForSequenceClassificationWithIntermediateLayer from the checkpoint of a model trained on another task or with another architecture (e.g. initializing a BertForSequenceClassification model from a BertForPreTraining model).\n",
      "- This IS NOT expected if you are initializing BertForSequenceClassificationWithIntermediateLayer from the checkpoint of a model that you expect to be exactly identical (initializing a BertForSequenceClassification model from a BertForSequenceClassification model).\n",
      "Some weights of BertForSequenceClassificationWithIntermediateLayer were not initialized from the model checkpoint at bert-base-uncased and are newly initialized: ['post_bert.bias', 'post_bert.weight', 'classifier.weight', 'classifier.bias']\n",
      "You should probably TRAIN this model on a down-stream task to be able to use it for predictions and inference.\n"
     ]
    },
    {
     "name": "stdout",
     "output_type": "stream",
     "text": [
      "Deleting the folder:  uptrain_smart_data\n",
      "Deleting the folder:  uptrain_logs\n"
     ]
    },
    {
     "data": {
      "text/plain": [
       "[0]"
      ]
     },
     "execution_count": 34,
     "metadata": {},
     "output_type": "execute_result"
    }
   ],
   "source": [
    "config[\"checks\"][0].update({'is_automated': True})\n",
    "config[\"logging_args\"].update({'logging_folder': 'automated_logs'})\n",
    "model = BertForSequenceClassificationWithIntermediateLayer.from_pretrained('bert-base-uncased', num_labels=2)\n",
    "model.to(device)\n",
    "framework2 = uptrain.Framework(cfg_dict=config)\n",
    "framework2.log(inputs={'model': [model]})"
   ]
  }
 ],
 "metadata": {
  "kernelspec": {
   "display_name": "Python 3 (ipykernel)",
   "language": "python",
   "name": "python3"
  },
  "language_info": {
   "codemirror_mode": {
    "name": "ipython",
    "version": 3
   },
   "file_extension": ".py",
   "mimetype": "text/x-python",
   "name": "python",
   "nbconvert_exporter": "python",
   "pygments_lexer": "ipython3",
   "version": "3.10.4"
  }
 },
 "nbformat": 4,
 "nbformat_minor": 5
}
