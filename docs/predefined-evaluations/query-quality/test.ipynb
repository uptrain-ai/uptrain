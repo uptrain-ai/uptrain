{
 "cells": [
  {
   "cell_type": "code",
   "execution_count": 5,
   "metadata": {},
   "outputs": [
    {
     "name": "stderr",
     "output_type": "stream",
     "text": [
      "\u001b[32m2024-04-04 14:26:48.488\u001b[0m | \u001b[33m\u001b[1mWARNING \u001b[0m | \u001b[36muptrain.operators.language.llm\u001b[0m:\u001b[36mfetch_responses\u001b[0m:\u001b[36m268\u001b[0m - \u001b[33m\u001b[1mDetected a running event loop, scheduling requests in a separate thread.\u001b[0m\n",
      "100%|██████████| 2/2 [00:01<00:00,  1.32it/s]\n",
      "/Users/dhruvchawla/work/uptrain-v1/uptrain/operators/language/llm.py:271: RuntimeWarning: coroutine 'LLMMulticlient.async_fetch_responses' was never awaited\n",
      "  with ThreadPoolExecutor(max_workers=1) as executor:\n",
      "RuntimeWarning: Enable tracemalloc to get the object allocation traceback\n",
      "\u001b[32m2024-04-04 14:26:50.056\u001b[0m | \u001b[1mINFO    \u001b[0m | \u001b[36muptrain.framework.evalllm\u001b[0m:\u001b[36mevaluate\u001b[0m:\u001b[36m365\u001b[0m - \u001b[1mLocal server not running, start the server to log data and visualize in the dashboard!\u001b[0m\n"
     ]
    }
   ],
   "source": [
    "from uptrain import EvalLLM, Evals\n",
    "\n",
    "import os\n",
    "\n",
    "OPENAI_API_KEY = os.getenv(\"OPENAI_API_KEY\")\n",
    "\n",
    "data = [\n",
    "    {\n",
    "        'question': 'How does the stock market work?',\n",
    "        'variants': '1. What is the stock market?\\n 2. How does the stock market function?\\n 3. What is the purpose of the stock market?'        \n",
    "    },\n",
    "    {\n",
    "        'question': 'How does the stock market work?',\n",
    "        'variants': '1. What is the stock market?'        \n",
    "    }\n",
    "]\n",
    "\n",
    "eval_llm = EvalLLM(openai_api_key=OPENAI_API_KEY)\n",
    "\n",
    "res = eval_llm.evaluate(\n",
    "    data = data,\n",
    "    checks = [Evals.MULTI_QUERY_ACCURACY]\n",
    ")"
   ]
  },
  {
   "cell_type": "code",
   "execution_count": 6,
   "metadata": {},
   "outputs": [
    {
     "name": "stdout",
     "output_type": "stream",
     "text": [
      "[\n",
      "   {\n",
      "      \"question\": \"How does the stock market work?\",\n",
      "      \"variants\": \"1. What is the stock market?\\n 2. How does the stock market function?\\n 3. What is the purpose of the stock market?\",\n",
      "      \"score_multi_query_accuracy\": 1.0,\n",
      "      \"explanation_multi_query_accuracy\": \"{\\n    \\\"Reasoning\\\": \\\"The response provides accurate and relevant information about the functioning and purpose of the stock market, addressing the various aspects of the question across different queries. It covers the definition of the stock market, its purpose, and how it functions, demonstrating a comprehensive understanding of the topic.\\\",\\n    \\\"Choice\\\": \\\"A\\\"\\n}\"\n",
      "   },\n",
      "   {\n",
      "      \"question\": \"How does the stock market work?\",\n",
      "      \"variants\": \"1. What is the stock market?\",\n",
      "      \"score_multi_query_accuracy\": 0.0,\n",
      "      \"explanation_multi_query_accuracy\": \"{\\n    \\\"Reasoning\\\": \\\"The given variation 'What is the stock market?' is not equivalent to the original question 'How does the stock market work?' as it only asks for a definition of the stock market without addressing the functioning or operation of the stock market. Therefore, the given variation does not fully mean the same as the original question.\\\",\\n    \\\"Choice\\\": \\\"C\\\"\\n}\"\n",
      "   }\n",
      "]\n"
     ]
    }
   ],
   "source": [
    "import json\n",
    "print(json.dumps(res,indent=3))"
   ]
  },
  {
   "cell_type": "code",
   "execution_count": null,
   "metadata": {},
   "outputs": [],
   "source": []
  }
 ],
 "metadata": {
  "kernelspec": {
   "display_name": ".venv",
   "language": "python",
   "name": "python3"
  },
  "language_info": {
   "codemirror_mode": {
    "name": "ipython",
    "version": 3
   },
   "file_extension": ".py",
   "mimetype": "text/x-python",
   "name": "python",
   "nbconvert_exporter": "python",
   "pygments_lexer": "ipython3",
   "version": "3.11.7"
  }
 },
 "nbformat": 4,
 "nbformat_minor": 2
}
